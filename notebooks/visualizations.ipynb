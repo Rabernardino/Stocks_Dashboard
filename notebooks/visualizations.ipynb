{
 "cells": [
  {
   "cell_type": "markdown",
   "metadata": {},
   "source": [
    "<h1>Stock Market Analysis</h1>"
   ]
  },
  {
   "cell_type": "code",
   "execution_count": 2,
   "metadata": {},
   "outputs": [],
   "source": [
    "#Importing the libraries necessary for the project\n",
    "import os\n",
    "from dotenv import load_dotenv\n",
    "import pandas as pd\n",
    "import requests\n",
    "import matplotlib.pyplot as plt\n",
    "import plotly.express as px\n",
    "import plotly.graph_objects as go\n",
    "from datetime import datetime\n",
    "from datetime import timedelta"
   ]
  },
  {
   "cell_type": "code",
   "execution_count": 3,
   "metadata": {},
   "outputs": [],
   "source": [
    "#Construindo conexão com API\n",
    "# from password import chave_api\n",
    "\n",
    "# #Passar lista de ações que vão ser consultadas -> symbol = ['IBM', 'APPL', ...] (Até 25 consultas dia)\n",
    "\n",
    "# url = f'https://www.alphavantage.co/query?function=TIME_SERIES_DAILY&symbol=AAPL&apikey={chave_api}'\n",
    "# response = requests.get(url)\n",
    "# data = response.json()\n",
    "\n",
    "# print(data)"
   ]
  },
  {
   "cell_type": "code",
   "execution_count": 4,
   "metadata": {},
   "outputs": [
    {
     "ename": "NameError",
     "evalue": "name 'data' is not defined",
     "output_type": "error",
     "traceback": [
      "\u001b[0;31m---------------------------------------------------------------------------\u001b[0m",
      "\u001b[0;31mNameError\u001b[0m                                 Traceback (most recent call last)",
      "Input \u001b[0;32mIn [4]\u001b[0m, in \u001b[0;36m<cell line: 1>\u001b[0;34m()\u001b[0m\n\u001b[0;32m----> 1\u001b[0m \u001b[43mdata\u001b[49m[\u001b[38;5;124m'\u001b[39m\u001b[38;5;124mTime Series (Daily)\u001b[39m\u001b[38;5;124m'\u001b[39m]\u001b[38;5;241m.\u001b[39mkeys()\n",
      "\u001b[0;31mNameError\u001b[0m: name 'data' is not defined"
     ]
    }
   ],
   "source": [
    "data['Time Series (Daily)'].keys()"
   ]
  },
  {
   "cell_type": "code",
   "execution_count": null,
   "metadata": {},
   "outputs": [
    {
     "data": {
      "text/plain": [
       "{'1. open': '165.3500',\n",
       " '2. high': '167.0500',\n",
       " '3. low': '164.9200',\n",
       " '4. close': '166.9000',\n",
       " '5. volume': '49537761'}"
      ]
     },
     "execution_count": 4,
     "metadata": {},
     "output_type": "execute_result"
    }
   ],
   "source": [
    "data['Time Series (Daily)']['2024-04-23']"
   ]
  },
  {
   "cell_type": "code",
   "execution_count": null,
   "metadata": {},
   "outputs": [
    {
     "data": {
      "text/plain": [
       "'165.3500'"
      ]
     },
     "execution_count": 5,
     "metadata": {},
     "output_type": "execute_result"
    }
   ],
   "source": [
    "data['Time Series (Daily)']['2024-04-23']['1. open']"
   ]
  },
  {
   "cell_type": "code",
   "execution_count": null,
   "metadata": {},
   "outputs": [],
   "source": [
    "day_list = ['2024-04-23', '2024-04-22', '2024-04-19']\n",
    "\n",
    "for day in day_list:\n",
    "    Day = day\n",
    "    Opening_Value = list(data['Time Series (Daily)'][day]['1. open'])\n",
    "    Highest_Value = list(data['Time Series (Daily)'][day]['2. high'])\n",
    "    Lowest_Value = list(data['Time Series (Daily)'][day]['3. low'])\n",
    "    Closing_Value = list(data['Time Series (Daily)'][day]['4. close'])\n",
    "    Volume = list(data['Time Series (Daily)'][day]['5. volume'])\n",
    "    "
   ]
  },
  {
   "cell_type": "code",
   "execution_count": null,
   "metadata": {},
   "outputs": [],
   "source": [
    "#Test Values\n",
    "#day_list = ['2024-04-19', '2024-04-18', '2024-04-17']\n",
    "\n",
    "#Building a dataframe with one hundred observation of an choosen stock\n",
    "register_list = []\n",
    "\n",
    "for day in data['Time Series (Daily)'].keys():\n",
    "    new_register1 = {'Day':day,\n",
    "                     'Opening_Value':data['Time Series (Daily)'][day]['1. open'], \n",
    "                    'Highest_Value':data['Time Series (Daily)'][day]['2. high'],\n",
    "                    'Lowest_Value':data['Time Series (Daily)'][day]['3. low'],\n",
    "                    'Closing_Value':data['Time Series (Daily)'][day]['4. close'],\n",
    "                    'Volume':data['Time Series (Daily)'][day]['5. volume']\n",
    "                    }\n",
    "    \n",
    "    register_list.append(new_register1)\n",
    "    #dicionary.update(new_register1)\n",
    "\n",
    "raw_data = pd.DataFrame(register_list)"
   ]
  },
  {
   "cell_type": "code",
   "execution_count": null,
   "metadata": {},
   "outputs": [
    {
     "data": {
      "text/html": [
       "<div>\n",
       "<style scoped>\n",
       "    .dataframe tbody tr th:only-of-type {\n",
       "        vertical-align: middle;\n",
       "    }\n",
       "\n",
       "    .dataframe tbody tr th {\n",
       "        vertical-align: top;\n",
       "    }\n",
       "\n",
       "    .dataframe thead th {\n",
       "        text-align: right;\n",
       "    }\n",
       "</style>\n",
       "<table border=\"1\" class=\"dataframe\">\n",
       "  <thead>\n",
       "    <tr style=\"text-align: right;\">\n",
       "      <th></th>\n",
       "      <th>Day</th>\n",
       "      <th>Opening_Value</th>\n",
       "      <th>Highest_Value</th>\n",
       "      <th>Lowest_Value</th>\n",
       "      <th>Closing_Value</th>\n",
       "      <th>Volume</th>\n",
       "    </tr>\n",
       "  </thead>\n",
       "  <tbody>\n",
       "    <tr>\n",
       "      <th>0</th>\n",
       "      <td>2024-05-17</td>\n",
       "      <td>189.5100</td>\n",
       "      <td>190.8100</td>\n",
       "      <td>189.1800</td>\n",
       "      <td>189.8700</td>\n",
       "      <td>41282925</td>\n",
       "    </tr>\n",
       "    <tr>\n",
       "      <th>1</th>\n",
       "      <td>2024-05-16</td>\n",
       "      <td>190.4700</td>\n",
       "      <td>191.0950</td>\n",
       "      <td>189.6601</td>\n",
       "      <td>189.8400</td>\n",
       "      <td>52845230</td>\n",
       "    </tr>\n",
       "    <tr>\n",
       "      <th>2</th>\n",
       "      <td>2024-05-15</td>\n",
       "      <td>187.9100</td>\n",
       "      <td>190.6500</td>\n",
       "      <td>187.3700</td>\n",
       "      <td>189.7200</td>\n",
       "      <td>70399988</td>\n",
       "    </tr>\n",
       "    <tr>\n",
       "      <th>3</th>\n",
       "      <td>2024-05-14</td>\n",
       "      <td>187.5100</td>\n",
       "      <td>188.3000</td>\n",
       "      <td>186.2900</td>\n",
       "      <td>187.4300</td>\n",
       "      <td>52393619</td>\n",
       "    </tr>\n",
       "    <tr>\n",
       "      <th>4</th>\n",
       "      <td>2024-05-13</td>\n",
       "      <td>185.4350</td>\n",
       "      <td>187.1000</td>\n",
       "      <td>184.6200</td>\n",
       "      <td>186.2800</td>\n",
       "      <td>72044809</td>\n",
       "    </tr>\n",
       "  </tbody>\n",
       "</table>\n",
       "</div>"
      ],
      "text/plain": [
       "          Day Opening_Value Highest_Value Lowest_Value Closing_Value    Volume\n",
       "0  2024-05-17      189.5100      190.8100     189.1800      189.8700  41282925\n",
       "1  2024-05-16      190.4700      191.0950     189.6601      189.8400  52845230\n",
       "2  2024-05-15      187.9100      190.6500     187.3700      189.7200  70399988\n",
       "3  2024-05-14      187.5100      188.3000     186.2900      187.4300  52393619\n",
       "4  2024-05-13      185.4350      187.1000     184.6200      186.2800  72044809"
      ]
     },
     "execution_count": 8,
     "metadata": {},
     "output_type": "execute_result"
    }
   ],
   "source": [
    "raw_data.head()"
   ]
  },
  {
   "cell_type": "code",
   "execution_count": null,
   "metadata": {},
   "outputs": [
    {
     "data": {
      "text/html": [
       "<div>\n",
       "<style scoped>\n",
       "    .dataframe tbody tr th:only-of-type {\n",
       "        vertical-align: middle;\n",
       "    }\n",
       "\n",
       "    .dataframe tbody tr th {\n",
       "        vertical-align: top;\n",
       "    }\n",
       "\n",
       "    .dataframe thead th {\n",
       "        text-align: right;\n",
       "    }\n",
       "</style>\n",
       "<table border=\"1\" class=\"dataframe\">\n",
       "  <thead>\n",
       "    <tr style=\"text-align: right;\">\n",
       "      <th></th>\n",
       "      <th>Day</th>\n",
       "      <th>Opening_Value</th>\n",
       "      <th>Highest_Value</th>\n",
       "      <th>Lowest_Value</th>\n",
       "      <th>Closing_Value</th>\n",
       "      <th>Volume</th>\n",
       "    </tr>\n",
       "  </thead>\n",
       "  <tbody>\n",
       "    <tr>\n",
       "      <th>95</th>\n",
       "      <td>2024-01-02</td>\n",
       "      <td>187.1500</td>\n",
       "      <td>188.4400</td>\n",
       "      <td>183.8850</td>\n",
       "      <td>185.6400</td>\n",
       "      <td>82488674</td>\n",
       "    </tr>\n",
       "    <tr>\n",
       "      <th>96</th>\n",
       "      <td>2023-12-29</td>\n",
       "      <td>193.9000</td>\n",
       "      <td>194.4000</td>\n",
       "      <td>191.7250</td>\n",
       "      <td>192.5300</td>\n",
       "      <td>42672148</td>\n",
       "    </tr>\n",
       "    <tr>\n",
       "      <th>97</th>\n",
       "      <td>2023-12-28</td>\n",
       "      <td>194.1400</td>\n",
       "      <td>194.6600</td>\n",
       "      <td>193.1700</td>\n",
       "      <td>193.5800</td>\n",
       "      <td>34049898</td>\n",
       "    </tr>\n",
       "    <tr>\n",
       "      <th>98</th>\n",
       "      <td>2023-12-27</td>\n",
       "      <td>192.4900</td>\n",
       "      <td>193.5000</td>\n",
       "      <td>191.0900</td>\n",
       "      <td>193.1500</td>\n",
       "      <td>47899806</td>\n",
       "    </tr>\n",
       "    <tr>\n",
       "      <th>99</th>\n",
       "      <td>2023-12-26</td>\n",
       "      <td>193.6100</td>\n",
       "      <td>193.8900</td>\n",
       "      <td>192.8300</td>\n",
       "      <td>193.0500</td>\n",
       "      <td>28919310</td>\n",
       "    </tr>\n",
       "  </tbody>\n",
       "</table>\n",
       "</div>"
      ],
      "text/plain": [
       "           Day Opening_Value Highest_Value Lowest_Value Closing_Value  \\\n",
       "95  2024-01-02      187.1500      188.4400     183.8850      185.6400   \n",
       "96  2023-12-29      193.9000      194.4000     191.7250      192.5300   \n",
       "97  2023-12-28      194.1400      194.6600     193.1700      193.5800   \n",
       "98  2023-12-27      192.4900      193.5000     191.0900      193.1500   \n",
       "99  2023-12-26      193.6100      193.8900     192.8300      193.0500   \n",
       "\n",
       "      Volume  \n",
       "95  82488674  \n",
       "96  42672148  \n",
       "97  34049898  \n",
       "98  47899806  \n",
       "99  28919310  "
      ]
     },
     "execution_count": 9,
     "metadata": {},
     "output_type": "execute_result"
    }
   ],
   "source": [
    "raw_data.tail()"
   ]
  },
  {
   "cell_type": "code",
   "execution_count": null,
   "metadata": {},
   "outputs": [
    {
     "data": {
      "text/plain": [
       "0    2024-05-17\n",
       "1    2024-05-16\n",
       "2    2024-05-15\n",
       "3    2024-05-14\n",
       "4    2024-05-13\n",
       "5    2024-05-10\n",
       "6    2024-05-09\n",
       "7    2024-05-08\n",
       "8    2024-05-07\n",
       "9    2024-05-06\n",
       "Name: Day, dtype: object"
      ]
     },
     "execution_count": 10,
     "metadata": {},
     "output_type": "execute_result"
    }
   ],
   "source": [
    "raw_data.iloc[0:10,0]"
   ]
  },
  {
   "cell_type": "markdown",
   "metadata": {},
   "source": [
    "<h2>Querying the top 20 dedicated stocks in the US</h2>"
   ]
  },
  {
   "cell_type": "code",
   "execution_count": 54,
   "metadata": {},
   "outputs": [
    {
     "name": "stdout",
     "output_type": "stream",
     "text": [
      "83NWHUZBJPWCBTP2\n"
     ]
    }
   ],
   "source": [
    "#Construindo conexão com API\n",
    "load_dotenv()\n",
    "\n",
    "API_key = os.getenv('API_KEY')\n",
    "print(API_key)"
   ]
  },
  {
   "cell_type": "code",
   "execution_count": 55,
   "metadata": {},
   "outputs": [
    {
     "name": "stdout",
     "output_type": "stream",
     "text": [
      "../data/raw/stock_market.csv\n"
     ]
    }
   ],
   "source": [
    "file_path = os.path.dirname('__file__')\n",
    "path = os.path.join(file_path, os.pardir,'data/raw/stock_market.csv')\n",
    "print(path)"
   ]
  },
  {
   "cell_type": "code",
   "execution_count": null,
   "metadata": {},
   "outputs": [],
   "source": [
    "#Storagin the return from the API on a list\n",
    "\n",
    "stocks = ['AAPL','MSFT','AMZN','NVDA','GOOGL','TSLA','GOOG','BRK.B','META','UNH','XOM','LLY','JPM','JNJ','V','PG','MA','AVGO','HD','CVX']\n",
    "\n",
    "stocks_info = []\n",
    "\n",
    "for stock in stocks:\n",
    "    url = f'https://www.alphavantage.co/query?function=TIME_SERIES_DAILY&symbol={stock}&apikey={chave_api}'\n",
    "    response = requests.get(url)\n",
    "    stocks_info.append(response.json())\n"
   ]
  },
  {
   "cell_type": "code",
   "execution_count": null,
   "metadata": {},
   "outputs": [],
   "source": [
    "#Building a dataframe with one hundred observation for each stock on the list\n",
    "register_list = []\n",
    "\n",
    "for i in range(len(stocks_info)):\n",
    "    for day in stocks_info[i]['Time Series (Daily)'].keys():\n",
    "        new_register = {'Stock_Code':stocks_info[i]['Meta Data']['2. Symbol'],\n",
    "                        'Day':day,\n",
    "                        'Opening_Value':stocks_info[i]['Time Series (Daily)'][day]['1. open'], \n",
    "                        'Highest_Value':stocks_info[i]['Time Series (Daily)'][day]['2. high'],\n",
    "                        'Lowest_Value':stocks_info[i]['Time Series (Daily)'][day]['3. low'],\n",
    "                        'Closing_Value':stocks_info[i]['Time Series (Daily)'][day]['4. close'],\n",
    "                        'Volume':stocks_info[i]['Time Series (Daily)'][day]['5. volume']\n",
    "                        }\n",
    "        \n",
    "        register_list.append(new_register)\n",
    "        #dicionary.update(new_register1)\n",
    "\n",
    "raw_data = pd.DataFrame(register_list)"
   ]
  },
  {
   "cell_type": "code",
   "execution_count": null,
   "metadata": {},
   "outputs": [
    {
     "data": {
      "text/html": [
       "<div>\n",
       "<style scoped>\n",
       "    .dataframe tbody tr th:only-of-type {\n",
       "        vertical-align: middle;\n",
       "    }\n",
       "\n",
       "    .dataframe tbody tr th {\n",
       "        vertical-align: top;\n",
       "    }\n",
       "\n",
       "    .dataframe thead th {\n",
       "        text-align: right;\n",
       "    }\n",
       "</style>\n",
       "<table border=\"1\" class=\"dataframe\">\n",
       "  <thead>\n",
       "    <tr style=\"text-align: right;\">\n",
       "      <th></th>\n",
       "      <th>Stock_Code</th>\n",
       "      <th>Day</th>\n",
       "      <th>Opening_Value</th>\n",
       "      <th>Highest_Value</th>\n",
       "      <th>Lowest_Value</th>\n",
       "      <th>Closing_Value</th>\n",
       "      <th>Volume</th>\n",
       "    </tr>\n",
       "  </thead>\n",
       "  <tbody>\n",
       "    <tr>\n",
       "      <th>0</th>\n",
       "      <td>AAPL</td>\n",
       "      <td>2024-05-17</td>\n",
       "      <td>189.5100</td>\n",
       "      <td>190.8100</td>\n",
       "      <td>189.1800</td>\n",
       "      <td>189.8700</td>\n",
       "      <td>41282925</td>\n",
       "    </tr>\n",
       "    <tr>\n",
       "      <th>1</th>\n",
       "      <td>AAPL</td>\n",
       "      <td>2024-05-16</td>\n",
       "      <td>190.4700</td>\n",
       "      <td>191.0950</td>\n",
       "      <td>189.6601</td>\n",
       "      <td>189.8400</td>\n",
       "      <td>52845230</td>\n",
       "    </tr>\n",
       "    <tr>\n",
       "      <th>2</th>\n",
       "      <td>AAPL</td>\n",
       "      <td>2024-05-15</td>\n",
       "      <td>187.9100</td>\n",
       "      <td>190.6500</td>\n",
       "      <td>187.3700</td>\n",
       "      <td>189.7200</td>\n",
       "      <td>70399988</td>\n",
       "    </tr>\n",
       "    <tr>\n",
       "      <th>3</th>\n",
       "      <td>AAPL</td>\n",
       "      <td>2024-05-14</td>\n",
       "      <td>187.5100</td>\n",
       "      <td>188.3000</td>\n",
       "      <td>186.2900</td>\n",
       "      <td>187.4300</td>\n",
       "      <td>52393619</td>\n",
       "    </tr>\n",
       "    <tr>\n",
       "      <th>4</th>\n",
       "      <td>AAPL</td>\n",
       "      <td>2024-05-13</td>\n",
       "      <td>185.4350</td>\n",
       "      <td>187.1000</td>\n",
       "      <td>184.6200</td>\n",
       "      <td>186.2800</td>\n",
       "      <td>72044809</td>\n",
       "    </tr>\n",
       "    <tr>\n",
       "      <th>...</th>\n",
       "      <td>...</td>\n",
       "      <td>...</td>\n",
       "      <td>...</td>\n",
       "      <td>...</td>\n",
       "      <td>...</td>\n",
       "      <td>...</td>\n",
       "      <td>...</td>\n",
       "    </tr>\n",
       "    <tr>\n",
       "      <th>1995</th>\n",
       "      <td>CVX</td>\n",
       "      <td>2024-01-02</td>\n",
       "      <td>149.9850</td>\n",
       "      <td>151.4750</td>\n",
       "      <td>149.2400</td>\n",
       "      <td>149.4800</td>\n",
       "      <td>8879710</td>\n",
       "    </tr>\n",
       "    <tr>\n",
       "      <th>1996</th>\n",
       "      <td>CVX</td>\n",
       "      <td>2023-12-29</td>\n",
       "      <td>150.0300</td>\n",
       "      <td>150.2300</td>\n",
       "      <td>148.6700</td>\n",
       "      <td>149.1600</td>\n",
       "      <td>7658638</td>\n",
       "    </tr>\n",
       "    <tr>\n",
       "      <th>1997</th>\n",
       "      <td>CVX</td>\n",
       "      <td>2023-12-28</td>\n",
       "      <td>151.1800</td>\n",
       "      <td>152.0200</td>\n",
       "      <td>149.4000</td>\n",
       "      <td>149.7700</td>\n",
       "      <td>8147993</td>\n",
       "    </tr>\n",
       "    <tr>\n",
       "      <th>1998</th>\n",
       "      <td>CVX</td>\n",
       "      <td>2023-12-27</td>\n",
       "      <td>152.2700</td>\n",
       "      <td>152.9700</td>\n",
       "      <td>151.3400</td>\n",
       "      <td>151.9100</td>\n",
       "      <td>5314657</td>\n",
       "    </tr>\n",
       "    <tr>\n",
       "      <th>1999</th>\n",
       "      <td>CVX</td>\n",
       "      <td>2023-12-26</td>\n",
       "      <td>152.0700</td>\n",
       "      <td>153.0100</td>\n",
       "      <td>151.9000</td>\n",
       "      <td>152.4100</td>\n",
       "      <td>5165588</td>\n",
       "    </tr>\n",
       "  </tbody>\n",
       "</table>\n",
       "<p>2000 rows × 7 columns</p>\n",
       "</div>"
      ],
      "text/plain": [
       "     Stock_Code         Day Opening_Value Highest_Value Lowest_Value  \\\n",
       "0          AAPL  2024-05-17      189.5100      190.8100     189.1800   \n",
       "1          AAPL  2024-05-16      190.4700      191.0950     189.6601   \n",
       "2          AAPL  2024-05-15      187.9100      190.6500     187.3700   \n",
       "3          AAPL  2024-05-14      187.5100      188.3000     186.2900   \n",
       "4          AAPL  2024-05-13      185.4350      187.1000     184.6200   \n",
       "...         ...         ...           ...           ...          ...   \n",
       "1995        CVX  2024-01-02      149.9850      151.4750     149.2400   \n",
       "1996        CVX  2023-12-29      150.0300      150.2300     148.6700   \n",
       "1997        CVX  2023-12-28      151.1800      152.0200     149.4000   \n",
       "1998        CVX  2023-12-27      152.2700      152.9700     151.3400   \n",
       "1999        CVX  2023-12-26      152.0700      153.0100     151.9000   \n",
       "\n",
       "     Closing_Value    Volume  \n",
       "0         189.8700  41282925  \n",
       "1         189.8400  52845230  \n",
       "2         189.7200  70399988  \n",
       "3         187.4300  52393619  \n",
       "4         186.2800  72044809  \n",
       "...            ...       ...  \n",
       "1995      149.4800   8879710  \n",
       "1996      149.1600   7658638  \n",
       "1997      149.7700   8147993  \n",
       "1998      151.9100   5314657  \n",
       "1999      152.4100   5165588  \n",
       "\n",
       "[2000 rows x 7 columns]"
      ]
     },
     "execution_count": 14,
     "metadata": {},
     "output_type": "execute_result"
    }
   ],
   "source": [
    "raw_data"
   ]
  },
  {
   "cell_type": "markdown",
   "metadata": {},
   "source": [
    "<h2>Exploratory Data Analysis</h2>"
   ]
  },
  {
   "cell_type": "code",
   "execution_count": null,
   "metadata": {},
   "outputs": [
    {
     "name": "stdout",
     "output_type": "stream",
     "text": [
      "<class 'pandas.core.frame.DataFrame'>\n",
      "RangeIndex: 2000 entries, 0 to 1999\n",
      "Data columns (total 7 columns):\n",
      " #   Column         Non-Null Count  Dtype \n",
      "---  ------         --------------  ----- \n",
      " 0   Stock_Code     2000 non-null   object\n",
      " 1   Day            2000 non-null   object\n",
      " 2   Opening_Value  2000 non-null   object\n",
      " 3   Highest_Value  2000 non-null   object\n",
      " 4   Lowest_Value   2000 non-null   object\n",
      " 5   Closing_Value  2000 non-null   object\n",
      " 6   Volume         2000 non-null   object\n",
      "dtypes: object(7)\n",
      "memory usage: 109.5+ KB\n"
     ]
    }
   ],
   "source": [
    "raw_data.info()"
   ]
  },
  {
   "cell_type": "code",
   "execution_count": null,
   "metadata": {},
   "outputs": [],
   "source": [
    "#Creating a backup dataframe before the cleaning and manipulation process\n",
    "cleaning_data = raw_data.copy()"
   ]
  },
  {
   "cell_type": "code",
   "execution_count": null,
   "metadata": {},
   "outputs": [],
   "source": [
    "#Casting the variables to proper format\n",
    "cleaning_data['Opening_Value'] = list(map(lambda x: float(x), cleaning_data['Opening_Value']))\n",
    "cleaning_data['Highest_Value'] = list(map(lambda x: float(x), cleaning_data['Highest_Value']))\n",
    "cleaning_data['Lowest_Value'] = list(map(lambda x: float(x), cleaning_data['Lowest_Value']))\n",
    "cleaning_data['Closing_Value'] = list(map(lambda x: float(x), cleaning_data['Closing_Value']))\n",
    "cleaning_data['Volume'] = list(map(lambda x: int(x), cleaning_data['Volume']))\n",
    "cleaning_data['Day'] = list(map(lambda x: datetime.strptime(x, '%Y-%m-%d'), cleaning_data['Day']))\n",
    "cleaning_data['WeekDay'] = list(map(lambda x: datetime.strftime(x, '%A'), cleaning_data['Day']))\n",
    "cleaning_data['Month_Name'] = list(map(lambda x: datetime.strftime(x, '%B'), cleaning_data['Day']))"
   ]
  },
  {
   "cell_type": "code",
   "execution_count": null,
   "metadata": {},
   "outputs": [
    {
     "name": "stdout",
     "output_type": "stream",
     "text": [
      "<class 'pandas.core.frame.DataFrame'>\n",
      "RangeIndex: 2000 entries, 0 to 1999\n",
      "Data columns (total 9 columns):\n",
      " #   Column         Non-Null Count  Dtype         \n",
      "---  ------         --------------  -----         \n",
      " 0   Stock_Code     2000 non-null   object        \n",
      " 1   Day            2000 non-null   datetime64[ns]\n",
      " 2   Opening_Value  2000 non-null   float64       \n",
      " 3   Highest_Value  2000 non-null   float64       \n",
      " 4   Lowest_Value   2000 non-null   float64       \n",
      " 5   Closing_Value  2000 non-null   float64       \n",
      " 6   Volume         2000 non-null   int64         \n",
      " 7   WeekDay        2000 non-null   object        \n",
      " 8   Month_Name     2000 non-null   object        \n",
      "dtypes: datetime64[ns](1), float64(4), int64(1), object(3)\n",
      "memory usage: 140.8+ KB\n"
     ]
    }
   ],
   "source": [
    "cleaning_data.info()"
   ]
  },
  {
   "cell_type": "code",
   "execution_count": null,
   "metadata": {},
   "outputs": [
    {
     "data": {
      "text/html": [
       "<div>\n",
       "<style scoped>\n",
       "    .dataframe tbody tr th:only-of-type {\n",
       "        vertical-align: middle;\n",
       "    }\n",
       "\n",
       "    .dataframe tbody tr th {\n",
       "        vertical-align: top;\n",
       "    }\n",
       "\n",
       "    .dataframe thead th {\n",
       "        text-align: right;\n",
       "    }\n",
       "</style>\n",
       "<table border=\"1\" class=\"dataframe\">\n",
       "  <thead>\n",
       "    <tr style=\"text-align: right;\">\n",
       "      <th></th>\n",
       "      <th>Opening_Value</th>\n",
       "      <th>Highest_Value</th>\n",
       "      <th>Lowest_Value</th>\n",
       "      <th>Closing_Value</th>\n",
       "      <th>Volume</th>\n",
       "    </tr>\n",
       "  </thead>\n",
       "  <tbody>\n",
       "    <tr>\n",
       "      <th>count</th>\n",
       "      <td>2000.000000</td>\n",
       "      <td>2000.000000</td>\n",
       "      <td>2000.000000</td>\n",
       "      <td>2000.000000</td>\n",
       "      <td>2.000000e+03</td>\n",
       "    </tr>\n",
       "    <tr>\n",
       "      <th>mean</th>\n",
       "      <td>360.164791</td>\n",
       "      <td>364.013977</td>\n",
       "      <td>356.096892</td>\n",
       "      <td>360.212747</td>\n",
       "      <td>2.096247e+07</td>\n",
       "    </tr>\n",
       "    <tr>\n",
       "      <th>std</th>\n",
       "      <td>283.405184</td>\n",
       "      <td>287.669334</td>\n",
       "      <td>278.694945</td>\n",
       "      <td>283.154158</td>\n",
       "      <td>2.663540e+07</td>\n",
       "    </tr>\n",
       "    <tr>\n",
       "      <th>min</th>\n",
       "      <td>96.600000</td>\n",
       "      <td>97.015600</td>\n",
       "      <td>95.770000</td>\n",
       "      <td>96.800000</td>\n",
       "      <td>1.096718e+06</td>\n",
       "    </tr>\n",
       "    <tr>\n",
       "      <th>25%</th>\n",
       "      <td>159.675000</td>\n",
       "      <td>160.902500</td>\n",
       "      <td>158.572500</td>\n",
       "      <td>159.832500</td>\n",
       "      <td>3.894346e+06</td>\n",
       "    </tr>\n",
       "    <tr>\n",
       "      <th>50%</th>\n",
       "      <td>258.440000</td>\n",
       "      <td>259.752500</td>\n",
       "      <td>257.190000</td>\n",
       "      <td>258.425000</td>\n",
       "      <td>9.023396e+06</td>\n",
       "    </tr>\n",
       "    <tr>\n",
       "      <th>75%</th>\n",
       "      <td>460.942500</td>\n",
       "      <td>464.205000</td>\n",
       "      <td>457.611250</td>\n",
       "      <td>460.520000</td>\n",
       "      <td>2.558175e+07</td>\n",
       "    </tr>\n",
       "    <tr>\n",
       "      <th>max</th>\n",
       "      <td>1426.000000</td>\n",
       "      <td>1445.400000</td>\n",
       "      <td>1405.060000</td>\n",
       "      <td>1436.170000</td>\n",
       "      <td>2.438697e+08</td>\n",
       "    </tr>\n",
       "  </tbody>\n",
       "</table>\n",
       "</div>"
      ],
      "text/plain": [
       "       Opening_Value  Highest_Value  Lowest_Value  Closing_Value        Volume\n",
       "count    2000.000000    2000.000000   2000.000000    2000.000000  2.000000e+03\n",
       "mean      360.164791     364.013977    356.096892     360.212747  2.096247e+07\n",
       "std       283.405184     287.669334    278.694945     283.154158  2.663540e+07\n",
       "min        96.600000      97.015600     95.770000      96.800000  1.096718e+06\n",
       "25%       159.675000     160.902500    158.572500     159.832500  3.894346e+06\n",
       "50%       258.440000     259.752500    257.190000     258.425000  9.023396e+06\n",
       "75%       460.942500     464.205000    457.611250     460.520000  2.558175e+07\n",
       "max      1426.000000    1445.400000   1405.060000    1436.170000  2.438697e+08"
      ]
     },
     "execution_count": 19,
     "metadata": {},
     "output_type": "execute_result"
    }
   ],
   "source": [
    "cleaning_data.describe()"
   ]
  },
  {
   "cell_type": "code",
   "execution_count": null,
   "metadata": {},
   "outputs": [],
   "source": [
    "#Adding more columns of new time intervals\n",
    "cleaning_data['Week'] = list(map(lambda x: x.week, cleaning_data['Day']))\n",
    "cleaning_data['Month'] = list(map(lambda x: x.month, cleaning_data['Day']))\n",
    "cleaning_data['Quarter'] = list(map(lambda x: x.quarter, cleaning_data['Day']))"
   ]
  },
  {
   "cell_type": "code",
   "execution_count": null,
   "metadata": {},
   "outputs": [
    {
     "data": {
      "text/html": [
       "<div>\n",
       "<style scoped>\n",
       "    .dataframe tbody tr th:only-of-type {\n",
       "        vertical-align: middle;\n",
       "    }\n",
       "\n",
       "    .dataframe tbody tr th {\n",
       "        vertical-align: top;\n",
       "    }\n",
       "\n",
       "    .dataframe thead th {\n",
       "        text-align: right;\n",
       "    }\n",
       "</style>\n",
       "<table border=\"1\" class=\"dataframe\">\n",
       "  <thead>\n",
       "    <tr style=\"text-align: right;\">\n",
       "      <th></th>\n",
       "      <th>Stock_Code</th>\n",
       "      <th>Day</th>\n",
       "      <th>Opening_Value</th>\n",
       "      <th>Highest_Value</th>\n",
       "      <th>Lowest_Value</th>\n",
       "      <th>Closing_Value</th>\n",
       "      <th>Volume</th>\n",
       "      <th>WeekDay</th>\n",
       "      <th>Month_Name</th>\n",
       "      <th>Week</th>\n",
       "      <th>Month</th>\n",
       "      <th>Quarter</th>\n",
       "    </tr>\n",
       "  </thead>\n",
       "  <tbody>\n",
       "    <tr>\n",
       "      <th>0</th>\n",
       "      <td>AAPL</td>\n",
       "      <td>2024-05-17</td>\n",
       "      <td>189.510</td>\n",
       "      <td>190.810</td>\n",
       "      <td>189.1800</td>\n",
       "      <td>189.87</td>\n",
       "      <td>41282925</td>\n",
       "      <td>Friday</td>\n",
       "      <td>May</td>\n",
       "      <td>20</td>\n",
       "      <td>5</td>\n",
       "      <td>2</td>\n",
       "    </tr>\n",
       "    <tr>\n",
       "      <th>1</th>\n",
       "      <td>AAPL</td>\n",
       "      <td>2024-05-16</td>\n",
       "      <td>190.470</td>\n",
       "      <td>191.095</td>\n",
       "      <td>189.6601</td>\n",
       "      <td>189.84</td>\n",
       "      <td>52845230</td>\n",
       "      <td>Thursday</td>\n",
       "      <td>May</td>\n",
       "      <td>20</td>\n",
       "      <td>5</td>\n",
       "      <td>2</td>\n",
       "    </tr>\n",
       "    <tr>\n",
       "      <th>2</th>\n",
       "      <td>AAPL</td>\n",
       "      <td>2024-05-15</td>\n",
       "      <td>187.910</td>\n",
       "      <td>190.650</td>\n",
       "      <td>187.3700</td>\n",
       "      <td>189.72</td>\n",
       "      <td>70399988</td>\n",
       "      <td>Wednesday</td>\n",
       "      <td>May</td>\n",
       "      <td>20</td>\n",
       "      <td>5</td>\n",
       "      <td>2</td>\n",
       "    </tr>\n",
       "    <tr>\n",
       "      <th>3</th>\n",
       "      <td>AAPL</td>\n",
       "      <td>2024-05-14</td>\n",
       "      <td>187.510</td>\n",
       "      <td>188.300</td>\n",
       "      <td>186.2900</td>\n",
       "      <td>187.43</td>\n",
       "      <td>52393619</td>\n",
       "      <td>Tuesday</td>\n",
       "      <td>May</td>\n",
       "      <td>20</td>\n",
       "      <td>5</td>\n",
       "      <td>2</td>\n",
       "    </tr>\n",
       "    <tr>\n",
       "      <th>4</th>\n",
       "      <td>AAPL</td>\n",
       "      <td>2024-05-13</td>\n",
       "      <td>185.435</td>\n",
       "      <td>187.100</td>\n",
       "      <td>184.6200</td>\n",
       "      <td>186.28</td>\n",
       "      <td>72044809</td>\n",
       "      <td>Monday</td>\n",
       "      <td>May</td>\n",
       "      <td>20</td>\n",
       "      <td>5</td>\n",
       "      <td>2</td>\n",
       "    </tr>\n",
       "  </tbody>\n",
       "</table>\n",
       "</div>"
      ],
      "text/plain": [
       "  Stock_Code        Day  Opening_Value  Highest_Value  Lowest_Value  \\\n",
       "0       AAPL 2024-05-17        189.510        190.810      189.1800   \n",
       "1       AAPL 2024-05-16        190.470        191.095      189.6601   \n",
       "2       AAPL 2024-05-15        187.910        190.650      187.3700   \n",
       "3       AAPL 2024-05-14        187.510        188.300      186.2900   \n",
       "4       AAPL 2024-05-13        185.435        187.100      184.6200   \n",
       "\n",
       "   Closing_Value    Volume    WeekDay Month_Name  Week  Month  Quarter  \n",
       "0         189.87  41282925     Friday        May    20      5        2  \n",
       "1         189.84  52845230   Thursday        May    20      5        2  \n",
       "2         189.72  70399988  Wednesday        May    20      5        2  \n",
       "3         187.43  52393619    Tuesday        May    20      5        2  \n",
       "4         186.28  72044809     Monday        May    20      5        2  "
      ]
     },
     "execution_count": 21,
     "metadata": {},
     "output_type": "execute_result"
    }
   ],
   "source": [
    "cleaning_data.head()"
   ]
  },
  {
   "cell_type": "code",
   "execution_count": null,
   "metadata": {},
   "outputs": [
    {
     "data": {
      "text/plain": [
       "Thursday     420\n",
       "Wednesday    420\n",
       "Tuesday      420\n",
       "Friday       400\n",
       "Monday       340\n",
       "Name: WeekDay, dtype: int64"
      ]
     },
     "execution_count": 22,
     "metadata": {},
     "output_type": "execute_result"
    }
   ],
   "source": [
    "#Count how many each day shows on data\n",
    "cleaning_data['WeekDay'].value_counts()"
   ]
  },
  {
   "cell_type": "code",
   "execution_count": null,
   "metadata": {},
   "outputs": [
    {
     "data": {
      "text/plain": [
       "April       440\n",
       "January     420\n",
       "March       400\n",
       "February    400\n",
       "May         260\n",
       "December     80\n",
       "Name: Month_Name, dtype: int64"
      ]
     },
     "execution_count": 23,
     "metadata": {},
     "output_type": "execute_result"
    }
   ],
   "source": [
    "#Count how many each month shows on data\n",
    "cleaning_data['Month_Name'].value_counts()"
   ]
  },
  {
   "cell_type": "code",
   "execution_count": null,
   "metadata": {},
   "outputs": [
    {
     "data": {
      "text/html": [
       "<div>\n",
       "<style scoped>\n",
       "    .dataframe tbody tr th:only-of-type {\n",
       "        vertical-align: middle;\n",
       "    }\n",
       "\n",
       "    .dataframe tbody tr th {\n",
       "        vertical-align: top;\n",
       "    }\n",
       "\n",
       "    .dataframe thead th {\n",
       "        text-align: right;\n",
       "    }\n",
       "</style>\n",
       "<table border=\"1\" class=\"dataframe\">\n",
       "  <thead>\n",
       "    <tr style=\"text-align: right;\">\n",
       "      <th></th>\n",
       "      <th>Stock_Code</th>\n",
       "      <th>Day</th>\n",
       "      <th>Opening_Value</th>\n",
       "      <th>Highest_Value</th>\n",
       "      <th>Lowest_Value</th>\n",
       "      <th>Closing_Value</th>\n",
       "      <th>Volume</th>\n",
       "      <th>WeekDay</th>\n",
       "      <th>Month_Name</th>\n",
       "      <th>Week</th>\n",
       "      <th>Month</th>\n",
       "      <th>Quarter</th>\n",
       "    </tr>\n",
       "  </thead>\n",
       "  <tbody>\n",
       "    <tr>\n",
       "      <th>1701</th>\n",
       "      <td>AVGO</td>\n",
       "      <td>2024-05-16</td>\n",
       "      <td>1426.00</td>\n",
       "      <td>1445.40</td>\n",
       "      <td>1405.060</td>\n",
       "      <td>1412.13</td>\n",
       "      <td>2839503</td>\n",
       "      <td>Thursday</td>\n",
       "      <td>May</td>\n",
       "      <td>20</td>\n",
       "      <td>5</td>\n",
       "      <td>2</td>\n",
       "    </tr>\n",
       "    <tr>\n",
       "      <th>1700</th>\n",
       "      <td>AVGO</td>\n",
       "      <td>2024-05-17</td>\n",
       "      <td>1412.42</td>\n",
       "      <td>1419.53</td>\n",
       "      <td>1381.780</td>\n",
       "      <td>1395.29</td>\n",
       "      <td>1817367</td>\n",
       "      <td>Friday</td>\n",
       "      <td>May</td>\n",
       "      <td>20</td>\n",
       "      <td>5</td>\n",
       "      <td>2</td>\n",
       "    </tr>\n",
       "    <tr>\n",
       "      <th>1753</th>\n",
       "      <td>AVGO</td>\n",
       "      <td>2024-03-04</td>\n",
       "      <td>1403.15</td>\n",
       "      <td>1438.17</td>\n",
       "      <td>1385.190</td>\n",
       "      <td>1402.26</td>\n",
       "      <td>3485418</td>\n",
       "      <td>Monday</td>\n",
       "      <td>March</td>\n",
       "      <td>10</td>\n",
       "      <td>3</td>\n",
       "      <td>1</td>\n",
       "    </tr>\n",
       "    <tr>\n",
       "      <th>1752</th>\n",
       "      <td>AVGO</td>\n",
       "      <td>2024-03-05</td>\n",
       "      <td>1395.00</td>\n",
       "      <td>1395.00</td>\n",
       "      <td>1332.370</td>\n",
       "      <td>1342.75</td>\n",
       "      <td>3603975</td>\n",
       "      <td>Tuesday</td>\n",
       "      <td>March</td>\n",
       "      <td>10</td>\n",
       "      <td>3</td>\n",
       "      <td>1</td>\n",
       "    </tr>\n",
       "    <tr>\n",
       "      <th>1749</th>\n",
       "      <td>AVGO</td>\n",
       "      <td>2024-03-08</td>\n",
       "      <td>1394.25</td>\n",
       "      <td>1413.00</td>\n",
       "      <td>1301.580</td>\n",
       "      <td>1308.72</td>\n",
       "      <td>7402484</td>\n",
       "      <td>Friday</td>\n",
       "      <td>March</td>\n",
       "      <td>10</td>\n",
       "      <td>3</td>\n",
       "      <td>1</td>\n",
       "    </tr>\n",
       "    <tr>\n",
       "      <th>1751</th>\n",
       "      <td>AVGO</td>\n",
       "      <td>2024-03-06</td>\n",
       "      <td>1391.58</td>\n",
       "      <td>1394.83</td>\n",
       "      <td>1347.060</td>\n",
       "      <td>1350.00</td>\n",
       "      <td>4319589</td>\n",
       "      <td>Wednesday</td>\n",
       "      <td>March</td>\n",
       "      <td>10</td>\n",
       "      <td>3</td>\n",
       "      <td>1</td>\n",
       "    </tr>\n",
       "    <tr>\n",
       "      <th>1731</th>\n",
       "      <td>AVGO</td>\n",
       "      <td>2024-04-04</td>\n",
       "      <td>1385.32</td>\n",
       "      <td>1403.98</td>\n",
       "      <td>1315.000</td>\n",
       "      <td>1317.50</td>\n",
       "      <td>2694408</td>\n",
       "      <td>Thursday</td>\n",
       "      <td>April</td>\n",
       "      <td>14</td>\n",
       "      <td>4</td>\n",
       "      <td>2</td>\n",
       "    </tr>\n",
       "    <tr>\n",
       "      <th>1750</th>\n",
       "      <td>AVGO</td>\n",
       "      <td>2024-03-07</td>\n",
       "      <td>1381.99</td>\n",
       "      <td>1414.31</td>\n",
       "      <td>1372.890</td>\n",
       "      <td>1407.01</td>\n",
       "      <td>6283177</td>\n",
       "      <td>Thursday</td>\n",
       "      <td>March</td>\n",
       "      <td>10</td>\n",
       "      <td>3</td>\n",
       "      <td>1</td>\n",
       "    </tr>\n",
       "    <tr>\n",
       "      <th>1702</th>\n",
       "      <td>AVGO</td>\n",
       "      <td>2024-05-15</td>\n",
       "      <td>1380.00</td>\n",
       "      <td>1438.95</td>\n",
       "      <td>1369.975</td>\n",
       "      <td>1436.17</td>\n",
       "      <td>3275738</td>\n",
       "      <td>Wednesday</td>\n",
       "      <td>May</td>\n",
       "      <td>20</td>\n",
       "      <td>5</td>\n",
       "      <td>2</td>\n",
       "    </tr>\n",
       "    <tr>\n",
       "      <th>1724</th>\n",
       "      <td>AVGO</td>\n",
       "      <td>2024-04-15</td>\n",
       "      <td>1370.00</td>\n",
       "      <td>1370.00</td>\n",
       "      <td>1306.000</td>\n",
       "      <td>1310.69</td>\n",
       "      <td>2437045</td>\n",
       "      <td>Monday</td>\n",
       "      <td>April</td>\n",
       "      <td>16</td>\n",
       "      <td>4</td>\n",
       "      <td>2</td>\n",
       "    </tr>\n",
       "  </tbody>\n",
       "</table>\n",
       "</div>"
      ],
      "text/plain": [
       "     Stock_Code        Day  Opening_Value  Highest_Value  Lowest_Value  \\\n",
       "1701       AVGO 2024-05-16        1426.00        1445.40      1405.060   \n",
       "1700       AVGO 2024-05-17        1412.42        1419.53      1381.780   \n",
       "1753       AVGO 2024-03-04        1403.15        1438.17      1385.190   \n",
       "1752       AVGO 2024-03-05        1395.00        1395.00      1332.370   \n",
       "1749       AVGO 2024-03-08        1394.25        1413.00      1301.580   \n",
       "1751       AVGO 2024-03-06        1391.58        1394.83      1347.060   \n",
       "1731       AVGO 2024-04-04        1385.32        1403.98      1315.000   \n",
       "1750       AVGO 2024-03-07        1381.99        1414.31      1372.890   \n",
       "1702       AVGO 2024-05-15        1380.00        1438.95      1369.975   \n",
       "1724       AVGO 2024-04-15        1370.00        1370.00      1306.000   \n",
       "\n",
       "      Closing_Value   Volume    WeekDay Month_Name  Week  Month  Quarter  \n",
       "1701        1412.13  2839503   Thursday        May    20      5        2  \n",
       "1700        1395.29  1817367     Friday        May    20      5        2  \n",
       "1753        1402.26  3485418     Monday      March    10      3        1  \n",
       "1752        1342.75  3603975    Tuesday      March    10      3        1  \n",
       "1749        1308.72  7402484     Friday      March    10      3        1  \n",
       "1751        1350.00  4319589  Wednesday      March    10      3        1  \n",
       "1731        1317.50  2694408   Thursday      April    14      4        2  \n",
       "1750        1407.01  6283177   Thursday      March    10      3        1  \n",
       "1702        1436.17  3275738  Wednesday        May    20      5        2  \n",
       "1724        1310.69  2437045     Monday      April    16      4        2  "
      ]
     },
     "execution_count": 24,
     "metadata": {},
     "output_type": "execute_result"
    }
   ],
   "source": [
    "cleaning_data.nlargest(10,'Opening_Value')"
   ]
  },
  {
   "cell_type": "code",
   "execution_count": null,
   "metadata": {},
   "outputs": [
    {
     "data": {
      "text/html": [
       "<div>\n",
       "<style scoped>\n",
       "    .dataframe tbody tr th:only-of-type {\n",
       "        vertical-align: middle;\n",
       "    }\n",
       "\n",
       "    .dataframe tbody tr th {\n",
       "        vertical-align: top;\n",
       "    }\n",
       "\n",
       "    .dataframe thead th {\n",
       "        text-align: right;\n",
       "    }\n",
       "</style>\n",
       "<table border=\"1\" class=\"dataframe\">\n",
       "  <thead>\n",
       "    <tr style=\"text-align: right;\">\n",
       "      <th></th>\n",
       "      <th>Company_Name</th>\n",
       "      <th>Stock_Code</th>\n",
       "    </tr>\n",
       "  </thead>\n",
       "  <tbody>\n",
       "    <tr>\n",
       "      <th>0</th>\n",
       "      <td>Apple</td>\n",
       "      <td>AAPL</td>\n",
       "    </tr>\n",
       "    <tr>\n",
       "      <th>1</th>\n",
       "      <td>Microsoft</td>\n",
       "      <td>MSFT</td>\n",
       "    </tr>\n",
       "    <tr>\n",
       "      <th>2</th>\n",
       "      <td>Amazon</td>\n",
       "      <td>AMZN</td>\n",
       "    </tr>\n",
       "    <tr>\n",
       "      <th>3</th>\n",
       "      <td>NVIDIA</td>\n",
       "      <td>NVDA</td>\n",
       "    </tr>\n",
       "    <tr>\n",
       "      <th>4</th>\n",
       "      <td>Alphabet Class A</td>\n",
       "      <td>GOOGL</td>\n",
       "    </tr>\n",
       "    <tr>\n",
       "      <th>5</th>\n",
       "      <td>Tesla</td>\n",
       "      <td>TSLA</td>\n",
       "    </tr>\n",
       "    <tr>\n",
       "      <th>6</th>\n",
       "      <td>Alphabet Class C</td>\n",
       "      <td>GOOG</td>\n",
       "    </tr>\n",
       "    <tr>\n",
       "      <th>7</th>\n",
       "      <td>Berkshire Hathaway</td>\n",
       "      <td>BRK.B</td>\n",
       "    </tr>\n",
       "    <tr>\n",
       "      <th>8</th>\n",
       "      <td>Meta Class A</td>\n",
       "      <td>META</td>\n",
       "    </tr>\n",
       "    <tr>\n",
       "      <th>9</th>\n",
       "      <td>UnitedHealth Group</td>\n",
       "      <td>UNH</td>\n",
       "    </tr>\n",
       "    <tr>\n",
       "      <th>10</th>\n",
       "      <td>Exxon Mobil</td>\n",
       "      <td>XOM</td>\n",
       "    </tr>\n",
       "    <tr>\n",
       "      <th>11</th>\n",
       "      <td>Eli Lilly</td>\n",
       "      <td>LLY</td>\n",
       "    </tr>\n",
       "    <tr>\n",
       "      <th>12</th>\n",
       "      <td>JPMorgan Chase</td>\n",
       "      <td>JPM</td>\n",
       "    </tr>\n",
       "    <tr>\n",
       "      <th>13</th>\n",
       "      <td>Johnson &amp; Johnson</td>\n",
       "      <td>JNJ</td>\n",
       "    </tr>\n",
       "    <tr>\n",
       "      <th>14</th>\n",
       "      <td>Visa Class A</td>\n",
       "      <td>V</td>\n",
       "    </tr>\n",
       "    <tr>\n",
       "      <th>15</th>\n",
       "      <td>Procter &amp; Gamble</td>\n",
       "      <td>PG</td>\n",
       "    </tr>\n",
       "    <tr>\n",
       "      <th>16</th>\n",
       "      <td>Mastercard Class A</td>\n",
       "      <td>MA</td>\n",
       "    </tr>\n",
       "    <tr>\n",
       "      <th>17</th>\n",
       "      <td>Broadcom</td>\n",
       "      <td>AVGO</td>\n",
       "    </tr>\n",
       "    <tr>\n",
       "      <th>18</th>\n",
       "      <td>Home Depot</td>\n",
       "      <td>HD</td>\n",
       "    </tr>\n",
       "    <tr>\n",
       "      <th>19</th>\n",
       "      <td>Chevron Corporation</td>\n",
       "      <td>CVX</td>\n",
       "    </tr>\n",
       "  </tbody>\n",
       "</table>\n",
       "</div>"
      ],
      "text/plain": [
       "           Company_Name Stock_Code\n",
       "0                 Apple       AAPL\n",
       "1             Microsoft       MSFT\n",
       "2                Amazon       AMZN\n",
       "3                NVIDIA       NVDA\n",
       "4      Alphabet Class A      GOOGL\n",
       "5                 Tesla       TSLA\n",
       "6      Alphabet Class C       GOOG\n",
       "7    Berkshire Hathaway      BRK.B\n",
       "8          Meta Class A       META\n",
       "9    UnitedHealth Group        UNH\n",
       "10          Exxon Mobil        XOM\n",
       "11            Eli Lilly        LLY\n",
       "12       JPMorgan Chase        JPM\n",
       "13    Johnson & Johnson        JNJ\n",
       "14         Visa Class A          V\n",
       "15     Procter & Gamble         PG\n",
       "16   Mastercard Class A         MA\n",
       "17             Broadcom       AVGO\n",
       "18           Home Depot         HD\n",
       "19  Chevron Corporation        CVX"
      ]
     },
     "execution_count": 25,
     "metadata": {},
     "output_type": "execute_result"
    }
   ],
   "source": [
    "#Importing companies names x stocks\n",
    "companies_stocks_names = pd.read_csv('Stock_Companies_Names.csv', sep=';', names=['Company_Name','Stock_Code'])\n",
    "companies_stocks_names"
   ]
  },
  {
   "cell_type": "code",
   "execution_count": null,
   "metadata": {},
   "outputs": [],
   "source": [
    "#Organizing the columns on the final dataframe\n",
    "cleaned_data = cleaning_data.merge(companies_stocks_names, on='Stock_Code')\n",
    "cleaned_data = cleaned_data[['Company_Name','Stock_Code', 'Day', 'WeekDay','Week','Month','Month_Name','Quarter','Opening_Value', 'Highest_Value', 'Lowest_Value',\n",
    "       'Closing_Value', 'Volume']]"
   ]
  },
  {
   "cell_type": "code",
   "execution_count": null,
   "metadata": {},
   "outputs": [
    {
     "data": {
      "text/html": [
       "<div>\n",
       "<style scoped>\n",
       "    .dataframe tbody tr th:only-of-type {\n",
       "        vertical-align: middle;\n",
       "    }\n",
       "\n",
       "    .dataframe tbody tr th {\n",
       "        vertical-align: top;\n",
       "    }\n",
       "\n",
       "    .dataframe thead th {\n",
       "        text-align: right;\n",
       "    }\n",
       "</style>\n",
       "<table border=\"1\" class=\"dataframe\">\n",
       "  <thead>\n",
       "    <tr style=\"text-align: right;\">\n",
       "      <th></th>\n",
       "      <th>Company_Name</th>\n",
       "      <th>Stock_Code</th>\n",
       "      <th>Day</th>\n",
       "      <th>WeekDay</th>\n",
       "      <th>Week</th>\n",
       "      <th>Month</th>\n",
       "      <th>Month_Name</th>\n",
       "      <th>Quarter</th>\n",
       "      <th>Opening_Value</th>\n",
       "      <th>Highest_Value</th>\n",
       "      <th>Lowest_Value</th>\n",
       "      <th>Closing_Value</th>\n",
       "      <th>Volume</th>\n",
       "    </tr>\n",
       "  </thead>\n",
       "  <tbody>\n",
       "    <tr>\n",
       "      <th>0</th>\n",
       "      <td>Apple</td>\n",
       "      <td>AAPL</td>\n",
       "      <td>2024-05-17</td>\n",
       "      <td>Friday</td>\n",
       "      <td>20</td>\n",
       "      <td>5</td>\n",
       "      <td>May</td>\n",
       "      <td>2</td>\n",
       "      <td>189.510</td>\n",
       "      <td>190.810</td>\n",
       "      <td>189.1800</td>\n",
       "      <td>189.87</td>\n",
       "      <td>41282925</td>\n",
       "    </tr>\n",
       "    <tr>\n",
       "      <th>1</th>\n",
       "      <td>Apple</td>\n",
       "      <td>AAPL</td>\n",
       "      <td>2024-05-16</td>\n",
       "      <td>Thursday</td>\n",
       "      <td>20</td>\n",
       "      <td>5</td>\n",
       "      <td>May</td>\n",
       "      <td>2</td>\n",
       "      <td>190.470</td>\n",
       "      <td>191.095</td>\n",
       "      <td>189.6601</td>\n",
       "      <td>189.84</td>\n",
       "      <td>52845230</td>\n",
       "    </tr>\n",
       "    <tr>\n",
       "      <th>2</th>\n",
       "      <td>Apple</td>\n",
       "      <td>AAPL</td>\n",
       "      <td>2024-05-15</td>\n",
       "      <td>Wednesday</td>\n",
       "      <td>20</td>\n",
       "      <td>5</td>\n",
       "      <td>May</td>\n",
       "      <td>2</td>\n",
       "      <td>187.910</td>\n",
       "      <td>190.650</td>\n",
       "      <td>187.3700</td>\n",
       "      <td>189.72</td>\n",
       "      <td>70399988</td>\n",
       "    </tr>\n",
       "    <tr>\n",
       "      <th>3</th>\n",
       "      <td>Apple</td>\n",
       "      <td>AAPL</td>\n",
       "      <td>2024-05-14</td>\n",
       "      <td>Tuesday</td>\n",
       "      <td>20</td>\n",
       "      <td>5</td>\n",
       "      <td>May</td>\n",
       "      <td>2</td>\n",
       "      <td>187.510</td>\n",
       "      <td>188.300</td>\n",
       "      <td>186.2900</td>\n",
       "      <td>187.43</td>\n",
       "      <td>52393619</td>\n",
       "    </tr>\n",
       "    <tr>\n",
       "      <th>4</th>\n",
       "      <td>Apple</td>\n",
       "      <td>AAPL</td>\n",
       "      <td>2024-05-13</td>\n",
       "      <td>Monday</td>\n",
       "      <td>20</td>\n",
       "      <td>5</td>\n",
       "      <td>May</td>\n",
       "      <td>2</td>\n",
       "      <td>185.435</td>\n",
       "      <td>187.100</td>\n",
       "      <td>184.6200</td>\n",
       "      <td>186.28</td>\n",
       "      <td>72044809</td>\n",
       "    </tr>\n",
       "  </tbody>\n",
       "</table>\n",
       "</div>"
      ],
      "text/plain": [
       "  Company_Name Stock_Code        Day    WeekDay  Week  Month Month_Name  \\\n",
       "0        Apple       AAPL 2024-05-17     Friday    20      5        May   \n",
       "1        Apple       AAPL 2024-05-16   Thursday    20      5        May   \n",
       "2        Apple       AAPL 2024-05-15  Wednesday    20      5        May   \n",
       "3        Apple       AAPL 2024-05-14    Tuesday    20      5        May   \n",
       "4        Apple       AAPL 2024-05-13     Monday    20      5        May   \n",
       "\n",
       "   Quarter  Opening_Value  Highest_Value  Lowest_Value  Closing_Value  \\\n",
       "0        2        189.510        190.810      189.1800         189.87   \n",
       "1        2        190.470        191.095      189.6601         189.84   \n",
       "2        2        187.910        190.650      187.3700         189.72   \n",
       "3        2        187.510        188.300      186.2900         187.43   \n",
       "4        2        185.435        187.100      184.6200         186.28   \n",
       "\n",
       "     Volume  \n",
       "0  41282925  \n",
       "1  52845230  \n",
       "2  70399988  \n",
       "3  52393619  \n",
       "4  72044809  "
      ]
     },
     "execution_count": 27,
     "metadata": {},
     "output_type": "execute_result"
    }
   ],
   "source": [
    "cleaned_data.head()"
   ]
  },
  {
   "cell_type": "code",
   "execution_count": null,
   "metadata": {},
   "outputs": [
    {
     "data": {
      "text/plain": [
       "array(['AAPL', 'MSFT', 'AMZN', 'NVDA', 'GOOGL', 'TSLA', 'GOOG', 'BRK.B',\n",
       "       'META', 'UNH', 'XOM', 'LLY', 'JPM', 'JNJ', 'V', 'PG', 'MA', 'AVGO',\n",
       "       'HD', 'CVX'], dtype=object)"
      ]
     },
     "execution_count": 28,
     "metadata": {},
     "output_type": "execute_result"
    }
   ],
   "source": [
    "cleaned_data['Stock_Code'].unique()"
   ]
  },
  {
   "cell_type": "code",
   "execution_count": null,
   "metadata": {},
   "outputs": [
    {
     "data": {
      "text/plain": [
       "1900    162.67\n",
       "Name: Closing_Value, dtype: float64"
      ]
     },
     "execution_count": 29,
     "metadata": {},
     "output_type": "execute_result"
    }
   ],
   "source": [
    "cleaned_data[(cleaned_data['Stock_Code'] == stock) & (cleaned_data['Day'] == cleaned_data['Day'][0])]['Closing_Value']"
   ]
  },
  {
   "cell_type": "code",
   "execution_count": null,
   "metadata": {},
   "outputs": [],
   "source": [
    "#Testing using only one stock, the propose is to get all current day and yesterday values\n",
    "for i in range(0,(cleaned_data[(cleaned_data['Stock_Code'] == 'AAPL')]['Day'].shape[0])-1):\n",
    "    print((cleaned_data[(cleaned_data['Stock_Code'] == 'AAPL') & (cleaned_data['Day'] == cleaned_data['Day'][i])]['Closing_Value'])[i] - (cleaned_data[(cleaned_data['Stock_Code'] == 'AAPL') & (cleaned_data['Day'] == cleaned_data['Day'][i+1])]['Closing_Value'])[i+1])"
   ]
  },
  {
   "cell_type": "code",
   "execution_count": null,
   "metadata": {},
   "outputs": [],
   "source": [
    "#Creating a new column for the daily variation (The daily variation is calculated using the current day closing value and the day before closing value)\n",
    "Daily_Closing_Variation = []"
   ]
  },
  {
   "cell_type": "code",
   "execution_count": null,
   "metadata": {},
   "outputs": [],
   "source": [
    "#Creating a new column for the daily variation (The daily variation is calculated using the current day closing value and the day before closing value)\n",
    "try:\n",
    "    \n",
    "    for i,stock_code in enumerate(cleaned_data['Stock_Code']):\n",
    "        if (cleaned_data['Stock_Code'][i] == cleaned_data['Stock_Code'][i+1]):\n",
    "            daily_variation = ((cleaned_data[(cleaned_data['Stock_Code'] == stock_code) & (cleaned_data['Day'] == cleaned_data['Day'][i])]['Closing_Value'])[i] - (cleaned_data[(cleaned_data['Stock_Code'] == stock_code) & (cleaned_data['Day'] == cleaned_data['Day'][i+1])]['Closing_Value'])[i+1])/(cleaned_data[(cleaned_data['Stock_Code'] == stock_code) & (cleaned_data['Day'] == cleaned_data['Day'][i+1])]['Closing_Value'])[i+1]*100\n",
    "\n",
    "            Daily_Closing_Variation.append(daily_variation)\n",
    "\n",
    "        elif (cleaned_data['Stock_Code'][i] != cleaned_data['Stock_Code'][i+1]):\n",
    "            daily_variation = '-'\n",
    "\n",
    "            Daily_Closing_Variation.append(daily_variation)\n",
    "\n",
    "except:\n",
    "    Daily_Closing_Variation.append('-')"
   ]
  },
  {
   "cell_type": "code",
   "execution_count": null,
   "metadata": {},
   "outputs": [
    {
     "data": {
      "text/html": [
       "<div>\n",
       "<style scoped>\n",
       "    .dataframe tbody tr th:only-of-type {\n",
       "        vertical-align: middle;\n",
       "    }\n",
       "\n",
       "    .dataframe tbody tr th {\n",
       "        vertical-align: top;\n",
       "    }\n",
       "\n",
       "    .dataframe thead th {\n",
       "        text-align: right;\n",
       "    }\n",
       "</style>\n",
       "<table border=\"1\" class=\"dataframe\">\n",
       "  <thead>\n",
       "    <tr style=\"text-align: right;\">\n",
       "      <th></th>\n",
       "      <th>Company_Name</th>\n",
       "      <th>Stock_Code</th>\n",
       "      <th>Day</th>\n",
       "      <th>WeekDay</th>\n",
       "      <th>Week</th>\n",
       "      <th>Month</th>\n",
       "      <th>Month_Name</th>\n",
       "      <th>Quarter</th>\n",
       "      <th>Opening_Value</th>\n",
       "      <th>Highest_Value</th>\n",
       "      <th>Lowest_Value</th>\n",
       "      <th>Closing_Value</th>\n",
       "      <th>Volume</th>\n",
       "      <th>Daily_Closing_Variation</th>\n",
       "    </tr>\n",
       "  </thead>\n",
       "  <tbody>\n",
       "    <tr>\n",
       "      <th>0</th>\n",
       "      <td>Apple</td>\n",
       "      <td>AAPL</td>\n",
       "      <td>2024-05-17</td>\n",
       "      <td>Friday</td>\n",
       "      <td>20</td>\n",
       "      <td>5</td>\n",
       "      <td>May</td>\n",
       "      <td>2</td>\n",
       "      <td>189.510</td>\n",
       "      <td>190.810</td>\n",
       "      <td>189.1800</td>\n",
       "      <td>189.87</td>\n",
       "      <td>41282925</td>\n",
       "      <td>0.015803</td>\n",
       "    </tr>\n",
       "    <tr>\n",
       "      <th>1</th>\n",
       "      <td>Apple</td>\n",
       "      <td>AAPL</td>\n",
       "      <td>2024-05-16</td>\n",
       "      <td>Thursday</td>\n",
       "      <td>20</td>\n",
       "      <td>5</td>\n",
       "      <td>May</td>\n",
       "      <td>2</td>\n",
       "      <td>190.470</td>\n",
       "      <td>191.095</td>\n",
       "      <td>189.6601</td>\n",
       "      <td>189.84</td>\n",
       "      <td>52845230</td>\n",
       "      <td>0.063251</td>\n",
       "    </tr>\n",
       "    <tr>\n",
       "      <th>2</th>\n",
       "      <td>Apple</td>\n",
       "      <td>AAPL</td>\n",
       "      <td>2024-05-15</td>\n",
       "      <td>Wednesday</td>\n",
       "      <td>20</td>\n",
       "      <td>5</td>\n",
       "      <td>May</td>\n",
       "      <td>2</td>\n",
       "      <td>187.910</td>\n",
       "      <td>190.650</td>\n",
       "      <td>187.3700</td>\n",
       "      <td>189.72</td>\n",
       "      <td>70399988</td>\n",
       "      <td>1.221789</td>\n",
       "    </tr>\n",
       "    <tr>\n",
       "      <th>3</th>\n",
       "      <td>Apple</td>\n",
       "      <td>AAPL</td>\n",
       "      <td>2024-05-14</td>\n",
       "      <td>Tuesday</td>\n",
       "      <td>20</td>\n",
       "      <td>5</td>\n",
       "      <td>May</td>\n",
       "      <td>2</td>\n",
       "      <td>187.510</td>\n",
       "      <td>188.300</td>\n",
       "      <td>186.2900</td>\n",
       "      <td>187.43</td>\n",
       "      <td>52393619</td>\n",
       "      <td>0.61735</td>\n",
       "    </tr>\n",
       "    <tr>\n",
       "      <th>4</th>\n",
       "      <td>Apple</td>\n",
       "      <td>AAPL</td>\n",
       "      <td>2024-05-13</td>\n",
       "      <td>Monday</td>\n",
       "      <td>20</td>\n",
       "      <td>5</td>\n",
       "      <td>May</td>\n",
       "      <td>2</td>\n",
       "      <td>185.435</td>\n",
       "      <td>187.100</td>\n",
       "      <td>184.6200</td>\n",
       "      <td>186.28</td>\n",
       "      <td>72044809</td>\n",
       "      <td>1.764545</td>\n",
       "    </tr>\n",
       "  </tbody>\n",
       "</table>\n",
       "</div>"
      ],
      "text/plain": [
       "  Company_Name Stock_Code        Day    WeekDay  Week  Month Month_Name  \\\n",
       "0        Apple       AAPL 2024-05-17     Friday    20      5        May   \n",
       "1        Apple       AAPL 2024-05-16   Thursday    20      5        May   \n",
       "2        Apple       AAPL 2024-05-15  Wednesday    20      5        May   \n",
       "3        Apple       AAPL 2024-05-14    Tuesday    20      5        May   \n",
       "4        Apple       AAPL 2024-05-13     Monday    20      5        May   \n",
       "\n",
       "   Quarter  Opening_Value  Highest_Value  Lowest_Value  Closing_Value  \\\n",
       "0        2        189.510        190.810      189.1800         189.87   \n",
       "1        2        190.470        191.095      189.6601         189.84   \n",
       "2        2        187.910        190.650      187.3700         189.72   \n",
       "3        2        187.510        188.300      186.2900         187.43   \n",
       "4        2        185.435        187.100      184.6200         186.28   \n",
       "\n",
       "     Volume Daily_Closing_Variation  \n",
       "0  41282925                0.015803  \n",
       "1  52845230                0.063251  \n",
       "2  70399988                1.221789  \n",
       "3  52393619                 0.61735  \n",
       "4  72044809                1.764545  "
      ]
     },
     "execution_count": 33,
     "metadata": {},
     "output_type": "execute_result"
    }
   ],
   "source": [
    "cleaned_data['Daily_Closing_Variation'] = Daily_Closing_Variation\n",
    "cleaned_data.head()"
   ]
  },
  {
   "cell_type": "code",
   "execution_count": null,
   "metadata": {},
   "outputs": [],
   "source": [
    "#Creating a new column for the daily variation of five days (The daily variation is calculated using the current day closing value and the day before closing value)\n",
    "try:\n",
    "    for i,stock_code in enumerate(cleaned_data['Stock_Code'], step=4):\n",
    "        if (cleaned_data['Stock_Code'][i] == cleaned_data['Stock_Code'][i+1]):\n",
    "            print(stock_code, (cleaned_data[(cleaned_data['Stock_Code'] == stock_code) & (cleaned_data['Day'] == cleaned_data['Day'][i+1])]['Closing_Value'])[i+4], cleaned_data['Day'][i+4])\n",
    "            #print(stock, ((cleaned_data[(cleaned_data['Stock_Code'] == stock_code) & (cleaned_data['Day'] == cleaned_data['Day'][i])]['Closing_Value'])[i] - (cleaned_data[(cleaned_data['Stock_Code'] == stock_code) & (cleaned_data['Day'] == cleaned_data['Day'][i+4])]['Closing_Value'])[i+1])/(cleaned_data[(cleaned_data['Stock_Code'] == stock_code) & (cleaned_data['Day'] == cleaned_data['Day'][i+1])]['Closing_Value'])[i+4]*100)\n",
    "            #daily_variation = ((cleaned_data[(cleaned_data['Stock_Code'] == stock_code) & (cleaned_data['Day'] == cleaned_data['Day'][i])]['Closing_Value'])[i] - (cleaned_data[(cleaned_data['Stock_Code'] == stock_code) & (cleaned_data['Day'] == cleaned_data['Day'][i+1])]['Closing_Value'])[i+1])/(cleaned_data[(cleaned_data['Stock_Code'] == stock_code) & (cleaned_data['Day'] == cleaned_data['Day'][i+1])]['Closing_Value'])[i+1]*100\n",
    "\n",
    "            #Daily_Closing_Variation.append(daily_variation)\n",
    "\n",
    "        elif (cleaned_data['Stock_Code'][i] != cleaned_data['Stock_Code'][i+1]):\n",
    "            print('-')\n",
    "            #daily_variation = '-'\n",
    "\n",
    "            #Daily_Closing_Variation.append(daily_variation)\n",
    "\n",
    "except:\n",
    "    #Daily_Closing_Variation.append('-')\n",
    "    pass"
   ]
  },
  {
   "cell_type": "code",
   "execution_count": null,
   "metadata": {},
   "outputs": [],
   "source": [
    "cleaned_data.to_csv('stock_market.csv', index=False)"
   ]
  },
  {
   "cell_type": "code",
   "execution_count": null,
   "metadata": {},
   "outputs": [
    {
     "data": {
      "text/plain": [
       "0       AAPL\n",
       "1       AAPL\n",
       "2       AAPL\n",
       "3       AAPL\n",
       "4       AAPL\n",
       "        ... \n",
       "1995     CVX\n",
       "1996     CVX\n",
       "1997     CVX\n",
       "1998     CVX\n",
       "1999     CVX\n",
       "Name: Stock_Code, Length: 2000, dtype: object"
      ]
     },
     "execution_count": 37,
     "metadata": {},
     "output_type": "execute_result"
    }
   ],
   "source": [
    "cleaned_data['Stock_Code']"
   ]
  },
  {
   "cell_type": "code",
   "execution_count": null,
   "metadata": {},
   "outputs": [
    {
     "data": {
      "text/plain": [
       "'2024-05-13'"
      ]
     },
     "execution_count": 50,
     "metadata": {},
     "output_type": "execute_result"
    }
   ],
   "source": [
    "five_days_ago = datetime.strftime(datetime.today() - timedelta(days=5),'%Y-%m-%d')\n",
    "five_days_ago"
   ]
  },
  {
   "cell_type": "code",
   "execution_count": null,
   "metadata": {},
   "outputs": [
    {
     "data": {
      "text/plain": [
       "171.89"
      ]
     },
     "execution_count": 77,
     "metadata": {},
     "output_type": "execute_result"
    }
   ],
   "source": [
    "cleaned_data[(cleaned_data['Stock_Code'] == 'TSLA') & (cleaned_data['Day'] == five_days_ago)]['Closing_Value']"
   ]
  },
  {
   "cell_type": "code",
   "execution_count": null,
   "metadata": {},
   "outputs": [
    {
     "name": "stdout",
     "output_type": "stream",
     "text": [
      "AAPL\n",
      "186.28\n",
      "MSFT\n",
      "413.72\n",
      "AMZN\n",
      "186.57\n",
      "NVDA\n",
      "903.99\n",
      "GOOGL\n",
      "169.14\n",
      "TSLA\n",
      "171.89\n",
      "GOOG\n",
      "170.9\n",
      "BRK.B\n",
      "411.22\n",
      "META\n",
      "468.01\n",
      "UNH\n",
      "511.74\n",
      "XOM\n",
      "117.91\n",
      "LLY\n",
      "757.7\n",
      "JPM\n",
      "198.73\n",
      "JNJ\n",
      "151.22\n",
      "V\n",
      "279.39\n",
      "PG\n",
      "165.87\n",
      "MA\n",
      "457.76\n",
      "AVGO\n",
      "1337.51\n",
      "HD\n",
      "340.96\n",
      "CVX\n",
      "164.53\n"
     ]
    }
   ],
   "source": [
    "#Creating a new column for the daily variation, but slicing for each five day (Those different intervals are intersting when we'll build the timeseries chart)\n",
    "try:\n",
    "    for stock_code in cleaned_data['Stock_Code'].unique():\n",
    "        print(stock_code)\n",
    "        print(cleaned_data[(cleaned_data['Stock_Code'] == stock_code) & (cleaned_data['Day'] == five_days_ago)]['Closing_Value'].item())\n",
    "\n",
    "except:\n",
    "    pass\n",
    "    print('-')"
   ]
  },
  {
   "cell_type": "markdown",
   "metadata": {},
   "source": [
    "<h2>Graphics Analysis</h2>"
   ]
  },
  {
   "cell_type": "code",
   "execution_count": null,
   "metadata": {},
   "outputs": [
    {
     "data": {
      "text/html": [
       "<div>\n",
       "<style scoped>\n",
       "    .dataframe tbody tr th:only-of-type {\n",
       "        vertical-align: middle;\n",
       "    }\n",
       "\n",
       "    .dataframe tbody tr th {\n",
       "        vertical-align: top;\n",
       "    }\n",
       "\n",
       "    .dataframe thead th {\n",
       "        text-align: right;\n",
       "    }\n",
       "</style>\n",
       "<table border=\"1\" class=\"dataframe\">\n",
       "  <thead>\n",
       "    <tr style=\"text-align: right;\">\n",
       "      <th></th>\n",
       "      <th>Week</th>\n",
       "      <th>Month</th>\n",
       "      <th>Quarter</th>\n",
       "      <th>Opening_Value</th>\n",
       "      <th>Highest_Value</th>\n",
       "      <th>Lowest_Value</th>\n",
       "      <th>Closing_Value</th>\n",
       "      <th>Volume</th>\n",
       "    </tr>\n",
       "  </thead>\n",
       "  <tbody>\n",
       "    <tr>\n",
       "      <th>count</th>\n",
       "      <td>2000.000000</td>\n",
       "      <td>2000.000000</td>\n",
       "      <td>2000.000000</td>\n",
       "      <td>2000.000000</td>\n",
       "      <td>2000.000000</td>\n",
       "      <td>2000.000000</td>\n",
       "      <td>2000.000000</td>\n",
       "      <td>2.000000e+03</td>\n",
       "    </tr>\n",
       "    <tr>\n",
       "      <th>mean</th>\n",
       "      <td>14.810000</td>\n",
       "      <td>3.780000</td>\n",
       "      <td>1.630000</td>\n",
       "      <td>355.310660</td>\n",
       "      <td>359.100955</td>\n",
       "      <td>351.234397</td>\n",
       "      <td>355.305127</td>\n",
       "      <td>2.156252e+07</td>\n",
       "    </tr>\n",
       "    <tr>\n",
       "      <th>std</th>\n",
       "      <td>14.290417</td>\n",
       "      <td>3.252213</td>\n",
       "      <td>0.976513</td>\n",
       "      <td>277.676106</td>\n",
       "      <td>281.795369</td>\n",
       "      <td>272.950555</td>\n",
       "      <td>277.315120</td>\n",
       "      <td>2.746670e+07</td>\n",
       "    </tr>\n",
       "    <tr>\n",
       "      <th>min</th>\n",
       "      <td>1.000000</td>\n",
       "      <td>1.000000</td>\n",
       "      <td>1.000000</td>\n",
       "      <td>96.600000</td>\n",
       "      <td>97.015600</td>\n",
       "      <td>95.770000</td>\n",
       "      <td>96.800000</td>\n",
       "      <td>1.096718e+06</td>\n",
       "    </tr>\n",
       "    <tr>\n",
       "      <th>25%</th>\n",
       "      <td>6.000000</td>\n",
       "      <td>2.000000</td>\n",
       "      <td>1.000000</td>\n",
       "      <td>157.967500</td>\n",
       "      <td>159.130000</td>\n",
       "      <td>156.752500</td>\n",
       "      <td>158.127500</td>\n",
       "      <td>4.028156e+06</td>\n",
       "    </tr>\n",
       "    <tr>\n",
       "      <th>50%</th>\n",
       "      <td>11.000000</td>\n",
       "      <td>3.000000</td>\n",
       "      <td>1.000000</td>\n",
       "      <td>257.790000</td>\n",
       "      <td>259.662500</td>\n",
       "      <td>255.423000</td>\n",
       "      <td>257.600000</td>\n",
       "      <td>9.232758e+06</td>\n",
       "    </tr>\n",
       "    <tr>\n",
       "      <th>75%</th>\n",
       "      <td>16.000000</td>\n",
       "      <td>4.000000</td>\n",
       "      <td>2.000000</td>\n",
       "      <td>459.262500</td>\n",
       "      <td>461.932500</td>\n",
       "      <td>455.401975</td>\n",
       "      <td>459.487500</td>\n",
       "      <td>2.701163e+07</td>\n",
       "    </tr>\n",
       "    <tr>\n",
       "      <th>max</th>\n",
       "      <td>52.000000</td>\n",
       "      <td>12.000000</td>\n",
       "      <td>4.000000</td>\n",
       "      <td>1403.150000</td>\n",
       "      <td>1438.170000</td>\n",
       "      <td>1385.190000</td>\n",
       "      <td>1407.010000</td>\n",
       "      <td>2.438697e+08</td>\n",
       "    </tr>\n",
       "  </tbody>\n",
       "</table>\n",
       "</div>"
      ],
      "text/plain": [
       "              Week        Month      Quarter  Opening_Value  Highest_Value  \\\n",
       "count  2000.000000  2000.000000  2000.000000    2000.000000    2000.000000   \n",
       "mean     14.810000     3.780000     1.630000     355.310660     359.100955   \n",
       "std      14.290417     3.252213     0.976513     277.676106     281.795369   \n",
       "min       1.000000     1.000000     1.000000      96.600000      97.015600   \n",
       "25%       6.000000     2.000000     1.000000     157.967500     159.130000   \n",
       "50%      11.000000     3.000000     1.000000     257.790000     259.662500   \n",
       "75%      16.000000     4.000000     2.000000     459.262500     461.932500   \n",
       "max      52.000000    12.000000     4.000000    1403.150000    1438.170000   \n",
       "\n",
       "       Lowest_Value  Closing_Value        Volume  \n",
       "count   2000.000000    2000.000000  2.000000e+03  \n",
       "mean     351.234397     355.305127  2.156252e+07  \n",
       "std      272.950555     277.315120  2.746670e+07  \n",
       "min       95.770000      96.800000  1.096718e+06  \n",
       "25%      156.752500     158.127500  4.028156e+06  \n",
       "50%      255.423000     257.600000  9.232758e+06  \n",
       "75%      455.401975     459.487500  2.701163e+07  \n",
       "max     1385.190000    1407.010000  2.438697e+08  "
      ]
     },
     "execution_count": 32,
     "metadata": {},
     "output_type": "execute_result"
    }
   ],
   "source": [
    "cleaned_data.describe()"
   ]
  },
  {
   "cell_type": "code",
   "execution_count": null,
   "metadata": {},
   "outputs": [
    {
     "data": {
      "text/plain": [
       "array(['AAPL', 'MSFT', 'AMZN', 'NVDA', 'GOOGL', 'TSLA', 'GOOG', 'BRK.B',\n",
       "       'META', 'UNH', 'XOM', 'LLY', 'JPM', 'JNJ', 'V', 'PG', 'MA', 'AVGO',\n",
       "       'HD', 'CVX'], dtype=object)"
      ]
     },
     "execution_count": 38,
     "metadata": {},
     "output_type": "execute_result"
    }
   ],
   "source": [
    "cleaned_data['Stock_Code'].unique()"
   ]
  },
  {
   "cell_type": "code",
   "execution_count": null,
   "metadata": {},
   "outputs": [],
   "source": [
    "#Creating a function for making boxplot by selecting differents stock codes\n",
    "\n",
    "def box_plot_stock_code(code):\n",
    "    graph = px.box(x = cleaned_data[cleaned_data['Stock_Code'] == code]['Opening_Value'])\n",
    "    return graph\n",
    "    "
   ]
  },
  {
   "cell_type": "code",
   "execution_count": null,
   "metadata": {},
   "outputs": [
    {
     "data": {
      "application/vnd.plotly.v1+json": {
       "config": {
        "plotlyServerURL": "https://plot.ly"
       },
       "data": [
        {
         "alignmentgroup": "True",
         "hovertemplate": "x=%{x}<extra></extra>",
         "legendgroup": "",
         "marker": {
          "color": "#636efa"
         },
         "name": "",
         "notched": false,
         "offsetgroup": "",
         "orientation": "h",
         "showlegend": false,
         "type": "box",
         "x": [
          496,
          492.48,
          490.86,
          484.28,
          479.26,
          488.96,
          495.71,
          492,
          488.96,
          483.78,
          491,
          497.78,
          497,
          486.13,
          478.6,
          476.77,
          442,
          440.335,
          450.39,
          455.49,
          454.28,
          455.97,
          450.685,
          460.82,
          462,
          459.6,
          494.47,
          495,
          493.7,
          488.13,
          490.6,
          495.2,
          492.28,
          492.47,
          489.67,
          492.1,
          487.45,
          488.72,
          493.52,
          488.13,
          477,
          478.33,
          474,
          474.44,
          482.39,
          483.24,
          489.42,
          498.5,
          495.44,
          524.76,
          528.32,
          526.75,
          524.2,
          523.67,
          524.21,
          522.3,
          517.34,
          515.26,
          522,
          518.22,
          518.99,
          520.63,
          514.01,
          503.94,
          509.96,
          508.25,
          508.83,
          504.51,
          504.54,
          503.11,
          493.28,
          487.59,
          517.9,
          512.5,
          503.94,
          515,
          505.23,
          521.28,
          523.71,
          518.86,
          536.13,
          538.1,
          538,
          539.4,
          547,
          545,
          543.04,
          526.84,
          525.98,
          523.47,
          519.75,
          519.88,
          519.88,
          518.88,
          523.85,
          524.59,
          529.11,
          530,
          544.3,
          544
         ],
         "x0": " ",
         "xaxis": "x",
         "y0": " ",
         "yaxis": "y"
        }
       ],
       "layout": {
        "boxmode": "group",
        "legend": {
         "tracegroupgap": 0
        },
        "margin": {
         "t": 60
        },
        "template": {
         "data": {
          "bar": [
           {
            "error_x": {
             "color": "#2a3f5f"
            },
            "error_y": {
             "color": "#2a3f5f"
            },
            "marker": {
             "line": {
              "color": "#E5ECF6",
              "width": 0.5
             },
             "pattern": {
              "fillmode": "overlay",
              "size": 10,
              "solidity": 0.2
             }
            },
            "type": "bar"
           }
          ],
          "barpolar": [
           {
            "marker": {
             "line": {
              "color": "#E5ECF6",
              "width": 0.5
             },
             "pattern": {
              "fillmode": "overlay",
              "size": 10,
              "solidity": 0.2
             }
            },
            "type": "barpolar"
           }
          ],
          "carpet": [
           {
            "aaxis": {
             "endlinecolor": "#2a3f5f",
             "gridcolor": "white",
             "linecolor": "white",
             "minorgridcolor": "white",
             "startlinecolor": "#2a3f5f"
            },
            "baxis": {
             "endlinecolor": "#2a3f5f",
             "gridcolor": "white",
             "linecolor": "white",
             "minorgridcolor": "white",
             "startlinecolor": "#2a3f5f"
            },
            "type": "carpet"
           }
          ],
          "choropleth": [
           {
            "colorbar": {
             "outlinewidth": 0,
             "ticks": ""
            },
            "type": "choropleth"
           }
          ],
          "contour": [
           {
            "colorbar": {
             "outlinewidth": 0,
             "ticks": ""
            },
            "colorscale": [
             [
              0,
              "#0d0887"
             ],
             [
              0.1111111111111111,
              "#46039f"
             ],
             [
              0.2222222222222222,
              "#7201a8"
             ],
             [
              0.3333333333333333,
              "#9c179e"
             ],
             [
              0.4444444444444444,
              "#bd3786"
             ],
             [
              0.5555555555555556,
              "#d8576b"
             ],
             [
              0.6666666666666666,
              "#ed7953"
             ],
             [
              0.7777777777777778,
              "#fb9f3a"
             ],
             [
              0.8888888888888888,
              "#fdca26"
             ],
             [
              1,
              "#f0f921"
             ]
            ],
            "type": "contour"
           }
          ],
          "contourcarpet": [
           {
            "colorbar": {
             "outlinewidth": 0,
             "ticks": ""
            },
            "type": "contourcarpet"
           }
          ],
          "heatmap": [
           {
            "colorbar": {
             "outlinewidth": 0,
             "ticks": ""
            },
            "colorscale": [
             [
              0,
              "#0d0887"
             ],
             [
              0.1111111111111111,
              "#46039f"
             ],
             [
              0.2222222222222222,
              "#7201a8"
             ],
             [
              0.3333333333333333,
              "#9c179e"
             ],
             [
              0.4444444444444444,
              "#bd3786"
             ],
             [
              0.5555555555555556,
              "#d8576b"
             ],
             [
              0.6666666666666666,
              "#ed7953"
             ],
             [
              0.7777777777777778,
              "#fb9f3a"
             ],
             [
              0.8888888888888888,
              "#fdca26"
             ],
             [
              1,
              "#f0f921"
             ]
            ],
            "type": "heatmap"
           }
          ],
          "heatmapgl": [
           {
            "colorbar": {
             "outlinewidth": 0,
             "ticks": ""
            },
            "colorscale": [
             [
              0,
              "#0d0887"
             ],
             [
              0.1111111111111111,
              "#46039f"
             ],
             [
              0.2222222222222222,
              "#7201a8"
             ],
             [
              0.3333333333333333,
              "#9c179e"
             ],
             [
              0.4444444444444444,
              "#bd3786"
             ],
             [
              0.5555555555555556,
              "#d8576b"
             ],
             [
              0.6666666666666666,
              "#ed7953"
             ],
             [
              0.7777777777777778,
              "#fb9f3a"
             ],
             [
              0.8888888888888888,
              "#fdca26"
             ],
             [
              1,
              "#f0f921"
             ]
            ],
            "type": "heatmapgl"
           }
          ],
          "histogram": [
           {
            "marker": {
             "pattern": {
              "fillmode": "overlay",
              "size": 10,
              "solidity": 0.2
             }
            },
            "type": "histogram"
           }
          ],
          "histogram2d": [
           {
            "colorbar": {
             "outlinewidth": 0,
             "ticks": ""
            },
            "colorscale": [
             [
              0,
              "#0d0887"
             ],
             [
              0.1111111111111111,
              "#46039f"
             ],
             [
              0.2222222222222222,
              "#7201a8"
             ],
             [
              0.3333333333333333,
              "#9c179e"
             ],
             [
              0.4444444444444444,
              "#bd3786"
             ],
             [
              0.5555555555555556,
              "#d8576b"
             ],
             [
              0.6666666666666666,
              "#ed7953"
             ],
             [
              0.7777777777777778,
              "#fb9f3a"
             ],
             [
              0.8888888888888888,
              "#fdca26"
             ],
             [
              1,
              "#f0f921"
             ]
            ],
            "type": "histogram2d"
           }
          ],
          "histogram2dcontour": [
           {
            "colorbar": {
             "outlinewidth": 0,
             "ticks": ""
            },
            "colorscale": [
             [
              0,
              "#0d0887"
             ],
             [
              0.1111111111111111,
              "#46039f"
             ],
             [
              0.2222222222222222,
              "#7201a8"
             ],
             [
              0.3333333333333333,
              "#9c179e"
             ],
             [
              0.4444444444444444,
              "#bd3786"
             ],
             [
              0.5555555555555556,
              "#d8576b"
             ],
             [
              0.6666666666666666,
              "#ed7953"
             ],
             [
              0.7777777777777778,
              "#fb9f3a"
             ],
             [
              0.8888888888888888,
              "#fdca26"
             ],
             [
              1,
              "#f0f921"
             ]
            ],
            "type": "histogram2dcontour"
           }
          ],
          "mesh3d": [
           {
            "colorbar": {
             "outlinewidth": 0,
             "ticks": ""
            },
            "type": "mesh3d"
           }
          ],
          "parcoords": [
           {
            "line": {
             "colorbar": {
              "outlinewidth": 0,
              "ticks": ""
             }
            },
            "type": "parcoords"
           }
          ],
          "pie": [
           {
            "automargin": true,
            "type": "pie"
           }
          ],
          "scatter": [
           {
            "marker": {
             "colorbar": {
              "outlinewidth": 0,
              "ticks": ""
             }
            },
            "type": "scatter"
           }
          ],
          "scatter3d": [
           {
            "line": {
             "colorbar": {
              "outlinewidth": 0,
              "ticks": ""
             }
            },
            "marker": {
             "colorbar": {
              "outlinewidth": 0,
              "ticks": ""
             }
            },
            "type": "scatter3d"
           }
          ],
          "scattercarpet": [
           {
            "marker": {
             "colorbar": {
              "outlinewidth": 0,
              "ticks": ""
             }
            },
            "type": "scattercarpet"
           }
          ],
          "scattergeo": [
           {
            "marker": {
             "colorbar": {
              "outlinewidth": 0,
              "ticks": ""
             }
            },
            "type": "scattergeo"
           }
          ],
          "scattergl": [
           {
            "marker": {
             "colorbar": {
              "outlinewidth": 0,
              "ticks": ""
             }
            },
            "type": "scattergl"
           }
          ],
          "scattermapbox": [
           {
            "marker": {
             "colorbar": {
              "outlinewidth": 0,
              "ticks": ""
             }
            },
            "type": "scattermapbox"
           }
          ],
          "scatterpolar": [
           {
            "marker": {
             "colorbar": {
              "outlinewidth": 0,
              "ticks": ""
             }
            },
            "type": "scatterpolar"
           }
          ],
          "scatterpolargl": [
           {
            "marker": {
             "colorbar": {
              "outlinewidth": 0,
              "ticks": ""
             }
            },
            "type": "scatterpolargl"
           }
          ],
          "scatterternary": [
           {
            "marker": {
             "colorbar": {
              "outlinewidth": 0,
              "ticks": ""
             }
            },
            "type": "scatterternary"
           }
          ],
          "surface": [
           {
            "colorbar": {
             "outlinewidth": 0,
             "ticks": ""
            },
            "colorscale": [
             [
              0,
              "#0d0887"
             ],
             [
              0.1111111111111111,
              "#46039f"
             ],
             [
              0.2222222222222222,
              "#7201a8"
             ],
             [
              0.3333333333333333,
              "#9c179e"
             ],
             [
              0.4444444444444444,
              "#bd3786"
             ],
             [
              0.5555555555555556,
              "#d8576b"
             ],
             [
              0.6666666666666666,
              "#ed7953"
             ],
             [
              0.7777777777777778,
              "#fb9f3a"
             ],
             [
              0.8888888888888888,
              "#fdca26"
             ],
             [
              1,
              "#f0f921"
             ]
            ],
            "type": "surface"
           }
          ],
          "table": [
           {
            "cells": {
             "fill": {
              "color": "#EBF0F8"
             },
             "line": {
              "color": "white"
             }
            },
            "header": {
             "fill": {
              "color": "#C8D4E3"
             },
             "line": {
              "color": "white"
             }
            },
            "type": "table"
           }
          ]
         },
         "layout": {
          "annotationdefaults": {
           "arrowcolor": "#2a3f5f",
           "arrowhead": 0,
           "arrowwidth": 1
          },
          "autotypenumbers": "strict",
          "coloraxis": {
           "colorbar": {
            "outlinewidth": 0,
            "ticks": ""
           }
          },
          "colorscale": {
           "diverging": [
            [
             0,
             "#8e0152"
            ],
            [
             0.1,
             "#c51b7d"
            ],
            [
             0.2,
             "#de77ae"
            ],
            [
             0.3,
             "#f1b6da"
            ],
            [
             0.4,
             "#fde0ef"
            ],
            [
             0.5,
             "#f7f7f7"
            ],
            [
             0.6,
             "#e6f5d0"
            ],
            [
             0.7,
             "#b8e186"
            ],
            [
             0.8,
             "#7fbc41"
            ],
            [
             0.9,
             "#4d9221"
            ],
            [
             1,
             "#276419"
            ]
           ],
           "sequential": [
            [
             0,
             "#0d0887"
            ],
            [
             0.1111111111111111,
             "#46039f"
            ],
            [
             0.2222222222222222,
             "#7201a8"
            ],
            [
             0.3333333333333333,
             "#9c179e"
            ],
            [
             0.4444444444444444,
             "#bd3786"
            ],
            [
             0.5555555555555556,
             "#d8576b"
            ],
            [
             0.6666666666666666,
             "#ed7953"
            ],
            [
             0.7777777777777778,
             "#fb9f3a"
            ],
            [
             0.8888888888888888,
             "#fdca26"
            ],
            [
             1,
             "#f0f921"
            ]
           ],
           "sequentialminus": [
            [
             0,
             "#0d0887"
            ],
            [
             0.1111111111111111,
             "#46039f"
            ],
            [
             0.2222222222222222,
             "#7201a8"
            ],
            [
             0.3333333333333333,
             "#9c179e"
            ],
            [
             0.4444444444444444,
             "#bd3786"
            ],
            [
             0.5555555555555556,
             "#d8576b"
            ],
            [
             0.6666666666666666,
             "#ed7953"
            ],
            [
             0.7777777777777778,
             "#fb9f3a"
            ],
            [
             0.8888888888888888,
             "#fdca26"
            ],
            [
             1,
             "#f0f921"
            ]
           ]
          },
          "colorway": [
           "#636efa",
           "#EF553B",
           "#00cc96",
           "#ab63fa",
           "#FFA15A",
           "#19d3f3",
           "#FF6692",
           "#B6E880",
           "#FF97FF",
           "#FECB52"
          ],
          "font": {
           "color": "#2a3f5f"
          },
          "geo": {
           "bgcolor": "white",
           "lakecolor": "white",
           "landcolor": "#E5ECF6",
           "showlakes": true,
           "showland": true,
           "subunitcolor": "white"
          },
          "hoverlabel": {
           "align": "left"
          },
          "hovermode": "closest",
          "mapbox": {
           "style": "light"
          },
          "paper_bgcolor": "white",
          "plot_bgcolor": "#E5ECF6",
          "polar": {
           "angularaxis": {
            "gridcolor": "white",
            "linecolor": "white",
            "ticks": ""
           },
           "bgcolor": "#E5ECF6",
           "radialaxis": {
            "gridcolor": "white",
            "linecolor": "white",
            "ticks": ""
           }
          },
          "scene": {
           "xaxis": {
            "backgroundcolor": "#E5ECF6",
            "gridcolor": "white",
            "gridwidth": 2,
            "linecolor": "white",
            "showbackground": true,
            "ticks": "",
            "zerolinecolor": "white"
           },
           "yaxis": {
            "backgroundcolor": "#E5ECF6",
            "gridcolor": "white",
            "gridwidth": 2,
            "linecolor": "white",
            "showbackground": true,
            "ticks": "",
            "zerolinecolor": "white"
           },
           "zaxis": {
            "backgroundcolor": "#E5ECF6",
            "gridcolor": "white",
            "gridwidth": 2,
            "linecolor": "white",
            "showbackground": true,
            "ticks": "",
            "zerolinecolor": "white"
           }
          },
          "shapedefaults": {
           "line": {
            "color": "#2a3f5f"
           }
          },
          "ternary": {
           "aaxis": {
            "gridcolor": "white",
            "linecolor": "white",
            "ticks": ""
           },
           "baxis": {
            "gridcolor": "white",
            "linecolor": "white",
            "ticks": ""
           },
           "bgcolor": "#E5ECF6",
           "caxis": {
            "gridcolor": "white",
            "linecolor": "white",
            "ticks": ""
           }
          },
          "title": {
           "x": 0.05
          },
          "xaxis": {
           "automargin": true,
           "gridcolor": "white",
           "linecolor": "white",
           "ticks": "",
           "title": {
            "standoff": 15
           },
           "zerolinecolor": "white",
           "zerolinewidth": 2
          },
          "yaxis": {
           "automargin": true,
           "gridcolor": "white",
           "linecolor": "white",
           "ticks": "",
           "title": {
            "standoff": 15
           },
           "zerolinecolor": "white",
           "zerolinewidth": 2
          }
         }
        },
        "xaxis": {
         "anchor": "y",
         "domain": [
          0,
          1
         ],
         "title": {
          "text": "x"
         }
        },
        "yaxis": {
         "anchor": "x",
         "domain": [
          0,
          1
         ]
        }
       }
      }
     },
     "metadata": {},
     "output_type": "display_data"
    }
   ],
   "source": [
    "px.box(x = cleaned_data[cleaned_data['Stock_Code'] == 'UNH']['Opening_Value'])"
   ]
  },
  {
   "cell_type": "code",
   "execution_count": null,
   "metadata": {},
   "outputs": [
    {
     "data": {
      "text/html": [
       "<div>\n",
       "<style scoped>\n",
       "    .dataframe tbody tr th:only-of-type {\n",
       "        vertical-align: middle;\n",
       "    }\n",
       "\n",
       "    .dataframe tbody tr th {\n",
       "        vertical-align: top;\n",
       "    }\n",
       "\n",
       "    .dataframe thead th {\n",
       "        text-align: right;\n",
       "    }\n",
       "</style>\n",
       "<table border=\"1\" class=\"dataframe\">\n",
       "  <thead>\n",
       "    <tr style=\"text-align: right;\">\n",
       "      <th></th>\n",
       "      <th>Company_Name</th>\n",
       "      <th>Stock_Code</th>\n",
       "      <th>Day</th>\n",
       "      <th>WeekDay</th>\n",
       "      <th>Week</th>\n",
       "      <th>Month</th>\n",
       "      <th>Month_Name</th>\n",
       "      <th>Quarter</th>\n",
       "      <th>Opening_Value</th>\n",
       "      <th>Highest_Value</th>\n",
       "      <th>Lowest_Value</th>\n",
       "      <th>Closing_Value</th>\n",
       "      <th>Volume</th>\n",
       "      <th>Daily_Closing_Variation</th>\n",
       "    </tr>\n",
       "  </thead>\n",
       "  <tbody>\n",
       "    <tr>\n",
       "      <th>0</th>\n",
       "      <td>Apple</td>\n",
       "      <td>AAPL</td>\n",
       "      <td>2024-05-17</td>\n",
       "      <td>Friday</td>\n",
       "      <td>20</td>\n",
       "      <td>5</td>\n",
       "      <td>May</td>\n",
       "      <td>2</td>\n",
       "      <td>189.510</td>\n",
       "      <td>190.810</td>\n",
       "      <td>189.1800</td>\n",
       "      <td>189.87</td>\n",
       "      <td>41282925</td>\n",
       "      <td>0.015803</td>\n",
       "    </tr>\n",
       "    <tr>\n",
       "      <th>1</th>\n",
       "      <td>Apple</td>\n",
       "      <td>AAPL</td>\n",
       "      <td>2024-05-16</td>\n",
       "      <td>Thursday</td>\n",
       "      <td>20</td>\n",
       "      <td>5</td>\n",
       "      <td>May</td>\n",
       "      <td>2</td>\n",
       "      <td>190.470</td>\n",
       "      <td>191.095</td>\n",
       "      <td>189.6601</td>\n",
       "      <td>189.84</td>\n",
       "      <td>52845230</td>\n",
       "      <td>0.063251</td>\n",
       "    </tr>\n",
       "    <tr>\n",
       "      <th>2</th>\n",
       "      <td>Apple</td>\n",
       "      <td>AAPL</td>\n",
       "      <td>2024-05-15</td>\n",
       "      <td>Wednesday</td>\n",
       "      <td>20</td>\n",
       "      <td>5</td>\n",
       "      <td>May</td>\n",
       "      <td>2</td>\n",
       "      <td>187.910</td>\n",
       "      <td>190.650</td>\n",
       "      <td>187.3700</td>\n",
       "      <td>189.72</td>\n",
       "      <td>70399988</td>\n",
       "      <td>1.221789</td>\n",
       "    </tr>\n",
       "    <tr>\n",
       "      <th>3</th>\n",
       "      <td>Apple</td>\n",
       "      <td>AAPL</td>\n",
       "      <td>2024-05-14</td>\n",
       "      <td>Tuesday</td>\n",
       "      <td>20</td>\n",
       "      <td>5</td>\n",
       "      <td>May</td>\n",
       "      <td>2</td>\n",
       "      <td>187.510</td>\n",
       "      <td>188.300</td>\n",
       "      <td>186.2900</td>\n",
       "      <td>187.43</td>\n",
       "      <td>52393619</td>\n",
       "      <td>0.61735</td>\n",
       "    </tr>\n",
       "    <tr>\n",
       "      <th>4</th>\n",
       "      <td>Apple</td>\n",
       "      <td>AAPL</td>\n",
       "      <td>2024-05-13</td>\n",
       "      <td>Monday</td>\n",
       "      <td>20</td>\n",
       "      <td>5</td>\n",
       "      <td>May</td>\n",
       "      <td>2</td>\n",
       "      <td>185.435</td>\n",
       "      <td>187.100</td>\n",
       "      <td>184.6200</td>\n",
       "      <td>186.28</td>\n",
       "      <td>72044809</td>\n",
       "      <td>1.764545</td>\n",
       "    </tr>\n",
       "  </tbody>\n",
       "</table>\n",
       "</div>"
      ],
      "text/plain": [
       "  Company_Name Stock_Code        Day    WeekDay  Week  Month Month_Name  \\\n",
       "0        Apple       AAPL 2024-05-17     Friday    20      5        May   \n",
       "1        Apple       AAPL 2024-05-16   Thursday    20      5        May   \n",
       "2        Apple       AAPL 2024-05-15  Wednesday    20      5        May   \n",
       "3        Apple       AAPL 2024-05-14    Tuesday    20      5        May   \n",
       "4        Apple       AAPL 2024-05-13     Monday    20      5        May   \n",
       "\n",
       "   Quarter  Opening_Value  Highest_Value  Lowest_Value  Closing_Value  \\\n",
       "0        2        189.510        190.810      189.1800         189.87   \n",
       "1        2        190.470        191.095      189.6601         189.84   \n",
       "2        2        187.910        190.650      187.3700         189.72   \n",
       "3        2        187.510        188.300      186.2900         187.43   \n",
       "4        2        185.435        187.100      184.6200         186.28   \n",
       "\n",
       "     Volume Daily_Closing_Variation  \n",
       "0  41282925                0.015803  \n",
       "1  52845230                0.063251  \n",
       "2  70399988                1.221789  \n",
       "3  52393619                 0.61735  \n",
       "4  72044809                1.764545  "
      ]
     },
     "execution_count": 87,
     "metadata": {},
     "output_type": "execute_result"
    }
   ],
   "source": [
    "cleaned_data.head()"
   ]
  },
  {
   "cell_type": "code",
   "execution_count": null,
   "metadata": {},
   "outputs": [
    {
     "data": {
      "application/vnd.plotly.v1+json": {
       "config": {
        "plotlyServerURL": "https://plot.ly"
       },
       "data": [
        {
         "hovertemplate": "Stock_Code=AMZN<br>WeekDay=%{x}<br>Highest_Value=%{y}<extra></extra>",
         "legendgroup": "AMZN",
         "line": {
          "color": "#636efa",
          "dash": "solid"
         },
         "marker": {
          "symbol": "circle"
         },
         "mode": "lines+markers",
         "name": "AMZN",
         "orientation": "v",
         "showlegend": true,
         "type": "scatter",
         "x": [
          "Friday",
          "Thursday",
          "Wednesday",
          "Tuesday",
          "Monday"
         ],
         "xaxis": "x",
         "y": [
          185.3,
          187.31,
          186.7193,
          187.72,
          188.31
         ],
         "yaxis": "y"
        }
       ],
       "layout": {
        "legend": {
         "title": {
          "text": "Stock_Code"
         },
         "tracegroupgap": 0
        },
        "margin": {
         "t": 60
        },
        "template": {
         "data": {
          "bar": [
           {
            "error_x": {
             "color": "#2a3f5f"
            },
            "error_y": {
             "color": "#2a3f5f"
            },
            "marker": {
             "line": {
              "color": "#E5ECF6",
              "width": 0.5
             },
             "pattern": {
              "fillmode": "overlay",
              "size": 10,
              "solidity": 0.2
             }
            },
            "type": "bar"
           }
          ],
          "barpolar": [
           {
            "marker": {
             "line": {
              "color": "#E5ECF6",
              "width": 0.5
             },
             "pattern": {
              "fillmode": "overlay",
              "size": 10,
              "solidity": 0.2
             }
            },
            "type": "barpolar"
           }
          ],
          "carpet": [
           {
            "aaxis": {
             "endlinecolor": "#2a3f5f",
             "gridcolor": "white",
             "linecolor": "white",
             "minorgridcolor": "white",
             "startlinecolor": "#2a3f5f"
            },
            "baxis": {
             "endlinecolor": "#2a3f5f",
             "gridcolor": "white",
             "linecolor": "white",
             "minorgridcolor": "white",
             "startlinecolor": "#2a3f5f"
            },
            "type": "carpet"
           }
          ],
          "choropleth": [
           {
            "colorbar": {
             "outlinewidth": 0,
             "ticks": ""
            },
            "type": "choropleth"
           }
          ],
          "contour": [
           {
            "colorbar": {
             "outlinewidth": 0,
             "ticks": ""
            },
            "colorscale": [
             [
              0,
              "#0d0887"
             ],
             [
              0.1111111111111111,
              "#46039f"
             ],
             [
              0.2222222222222222,
              "#7201a8"
             ],
             [
              0.3333333333333333,
              "#9c179e"
             ],
             [
              0.4444444444444444,
              "#bd3786"
             ],
             [
              0.5555555555555556,
              "#d8576b"
             ],
             [
              0.6666666666666666,
              "#ed7953"
             ],
             [
              0.7777777777777778,
              "#fb9f3a"
             ],
             [
              0.8888888888888888,
              "#fdca26"
             ],
             [
              1,
              "#f0f921"
             ]
            ],
            "type": "contour"
           }
          ],
          "contourcarpet": [
           {
            "colorbar": {
             "outlinewidth": 0,
             "ticks": ""
            },
            "type": "contourcarpet"
           }
          ],
          "heatmap": [
           {
            "colorbar": {
             "outlinewidth": 0,
             "ticks": ""
            },
            "colorscale": [
             [
              0,
              "#0d0887"
             ],
             [
              0.1111111111111111,
              "#46039f"
             ],
             [
              0.2222222222222222,
              "#7201a8"
             ],
             [
              0.3333333333333333,
              "#9c179e"
             ],
             [
              0.4444444444444444,
              "#bd3786"
             ],
             [
              0.5555555555555556,
              "#d8576b"
             ],
             [
              0.6666666666666666,
              "#ed7953"
             ],
             [
              0.7777777777777778,
              "#fb9f3a"
             ],
             [
              0.8888888888888888,
              "#fdca26"
             ],
             [
              1,
              "#f0f921"
             ]
            ],
            "type": "heatmap"
           }
          ],
          "heatmapgl": [
           {
            "colorbar": {
             "outlinewidth": 0,
             "ticks": ""
            },
            "colorscale": [
             [
              0,
              "#0d0887"
             ],
             [
              0.1111111111111111,
              "#46039f"
             ],
             [
              0.2222222222222222,
              "#7201a8"
             ],
             [
              0.3333333333333333,
              "#9c179e"
             ],
             [
              0.4444444444444444,
              "#bd3786"
             ],
             [
              0.5555555555555556,
              "#d8576b"
             ],
             [
              0.6666666666666666,
              "#ed7953"
             ],
             [
              0.7777777777777778,
              "#fb9f3a"
             ],
             [
              0.8888888888888888,
              "#fdca26"
             ],
             [
              1,
              "#f0f921"
             ]
            ],
            "type": "heatmapgl"
           }
          ],
          "histogram": [
           {
            "marker": {
             "pattern": {
              "fillmode": "overlay",
              "size": 10,
              "solidity": 0.2
             }
            },
            "type": "histogram"
           }
          ],
          "histogram2d": [
           {
            "colorbar": {
             "outlinewidth": 0,
             "ticks": ""
            },
            "colorscale": [
             [
              0,
              "#0d0887"
             ],
             [
              0.1111111111111111,
              "#46039f"
             ],
             [
              0.2222222222222222,
              "#7201a8"
             ],
             [
              0.3333333333333333,
              "#9c179e"
             ],
             [
              0.4444444444444444,
              "#bd3786"
             ],
             [
              0.5555555555555556,
              "#d8576b"
             ],
             [
              0.6666666666666666,
              "#ed7953"
             ],
             [
              0.7777777777777778,
              "#fb9f3a"
             ],
             [
              0.8888888888888888,
              "#fdca26"
             ],
             [
              1,
              "#f0f921"
             ]
            ],
            "type": "histogram2d"
           }
          ],
          "histogram2dcontour": [
           {
            "colorbar": {
             "outlinewidth": 0,
             "ticks": ""
            },
            "colorscale": [
             [
              0,
              "#0d0887"
             ],
             [
              0.1111111111111111,
              "#46039f"
             ],
             [
              0.2222222222222222,
              "#7201a8"
             ],
             [
              0.3333333333333333,
              "#9c179e"
             ],
             [
              0.4444444444444444,
              "#bd3786"
             ],
             [
              0.5555555555555556,
              "#d8576b"
             ],
             [
              0.6666666666666666,
              "#ed7953"
             ],
             [
              0.7777777777777778,
              "#fb9f3a"
             ],
             [
              0.8888888888888888,
              "#fdca26"
             ],
             [
              1,
              "#f0f921"
             ]
            ],
            "type": "histogram2dcontour"
           }
          ],
          "mesh3d": [
           {
            "colorbar": {
             "outlinewidth": 0,
             "ticks": ""
            },
            "type": "mesh3d"
           }
          ],
          "parcoords": [
           {
            "line": {
             "colorbar": {
              "outlinewidth": 0,
              "ticks": ""
             }
            },
            "type": "parcoords"
           }
          ],
          "pie": [
           {
            "automargin": true,
            "type": "pie"
           }
          ],
          "scatter": [
           {
            "marker": {
             "colorbar": {
              "outlinewidth": 0,
              "ticks": ""
             }
            },
            "type": "scatter"
           }
          ],
          "scatter3d": [
           {
            "line": {
             "colorbar": {
              "outlinewidth": 0,
              "ticks": ""
             }
            },
            "marker": {
             "colorbar": {
              "outlinewidth": 0,
              "ticks": ""
             }
            },
            "type": "scatter3d"
           }
          ],
          "scattercarpet": [
           {
            "marker": {
             "colorbar": {
              "outlinewidth": 0,
              "ticks": ""
             }
            },
            "type": "scattercarpet"
           }
          ],
          "scattergeo": [
           {
            "marker": {
             "colorbar": {
              "outlinewidth": 0,
              "ticks": ""
             }
            },
            "type": "scattergeo"
           }
          ],
          "scattergl": [
           {
            "marker": {
             "colorbar": {
              "outlinewidth": 0,
              "ticks": ""
             }
            },
            "type": "scattergl"
           }
          ],
          "scattermapbox": [
           {
            "marker": {
             "colorbar": {
              "outlinewidth": 0,
              "ticks": ""
             }
            },
            "type": "scattermapbox"
           }
          ],
          "scatterpolar": [
           {
            "marker": {
             "colorbar": {
              "outlinewidth": 0,
              "ticks": ""
             }
            },
            "type": "scatterpolar"
           }
          ],
          "scatterpolargl": [
           {
            "marker": {
             "colorbar": {
              "outlinewidth": 0,
              "ticks": ""
             }
            },
            "type": "scatterpolargl"
           }
          ],
          "scatterternary": [
           {
            "marker": {
             "colorbar": {
              "outlinewidth": 0,
              "ticks": ""
             }
            },
            "type": "scatterternary"
           }
          ],
          "surface": [
           {
            "colorbar": {
             "outlinewidth": 0,
             "ticks": ""
            },
            "colorscale": [
             [
              0,
              "#0d0887"
             ],
             [
              0.1111111111111111,
              "#46039f"
             ],
             [
              0.2222222222222222,
              "#7201a8"
             ],
             [
              0.3333333333333333,
              "#9c179e"
             ],
             [
              0.4444444444444444,
              "#bd3786"
             ],
             [
              0.5555555555555556,
              "#d8576b"
             ],
             [
              0.6666666666666666,
              "#ed7953"
             ],
             [
              0.7777777777777778,
              "#fb9f3a"
             ],
             [
              0.8888888888888888,
              "#fdca26"
             ],
             [
              1,
              "#f0f921"
             ]
            ],
            "type": "surface"
           }
          ],
          "table": [
           {
            "cells": {
             "fill": {
              "color": "#EBF0F8"
             },
             "line": {
              "color": "white"
             }
            },
            "header": {
             "fill": {
              "color": "#C8D4E3"
             },
             "line": {
              "color": "white"
             }
            },
            "type": "table"
           }
          ]
         },
         "layout": {
          "annotationdefaults": {
           "arrowcolor": "#2a3f5f",
           "arrowhead": 0,
           "arrowwidth": 1
          },
          "autotypenumbers": "strict",
          "coloraxis": {
           "colorbar": {
            "outlinewidth": 0,
            "ticks": ""
           }
          },
          "colorscale": {
           "diverging": [
            [
             0,
             "#8e0152"
            ],
            [
             0.1,
             "#c51b7d"
            ],
            [
             0.2,
             "#de77ae"
            ],
            [
             0.3,
             "#f1b6da"
            ],
            [
             0.4,
             "#fde0ef"
            ],
            [
             0.5,
             "#f7f7f7"
            ],
            [
             0.6,
             "#e6f5d0"
            ],
            [
             0.7,
             "#b8e186"
            ],
            [
             0.8,
             "#7fbc41"
            ],
            [
             0.9,
             "#4d9221"
            ],
            [
             1,
             "#276419"
            ]
           ],
           "sequential": [
            [
             0,
             "#0d0887"
            ],
            [
             0.1111111111111111,
             "#46039f"
            ],
            [
             0.2222222222222222,
             "#7201a8"
            ],
            [
             0.3333333333333333,
             "#9c179e"
            ],
            [
             0.4444444444444444,
             "#bd3786"
            ],
            [
             0.5555555555555556,
             "#d8576b"
            ],
            [
             0.6666666666666666,
             "#ed7953"
            ],
            [
             0.7777777777777778,
             "#fb9f3a"
            ],
            [
             0.8888888888888888,
             "#fdca26"
            ],
            [
             1,
             "#f0f921"
            ]
           ],
           "sequentialminus": [
            [
             0,
             "#0d0887"
            ],
            [
             0.1111111111111111,
             "#46039f"
            ],
            [
             0.2222222222222222,
             "#7201a8"
            ],
            [
             0.3333333333333333,
             "#9c179e"
            ],
            [
             0.4444444444444444,
             "#bd3786"
            ],
            [
             0.5555555555555556,
             "#d8576b"
            ],
            [
             0.6666666666666666,
             "#ed7953"
            ],
            [
             0.7777777777777778,
             "#fb9f3a"
            ],
            [
             0.8888888888888888,
             "#fdca26"
            ],
            [
             1,
             "#f0f921"
            ]
           ]
          },
          "colorway": [
           "#636efa",
           "#EF553B",
           "#00cc96",
           "#ab63fa",
           "#FFA15A",
           "#19d3f3",
           "#FF6692",
           "#B6E880",
           "#FF97FF",
           "#FECB52"
          ],
          "font": {
           "color": "#2a3f5f"
          },
          "geo": {
           "bgcolor": "white",
           "lakecolor": "white",
           "landcolor": "#E5ECF6",
           "showlakes": true,
           "showland": true,
           "subunitcolor": "white"
          },
          "hoverlabel": {
           "align": "left"
          },
          "hovermode": "closest",
          "mapbox": {
           "style": "light"
          },
          "paper_bgcolor": "white",
          "plot_bgcolor": "#E5ECF6",
          "polar": {
           "angularaxis": {
            "gridcolor": "white",
            "linecolor": "white",
            "ticks": ""
           },
           "bgcolor": "#E5ECF6",
           "radialaxis": {
            "gridcolor": "white",
            "linecolor": "white",
            "ticks": ""
           }
          },
          "scene": {
           "xaxis": {
            "backgroundcolor": "#E5ECF6",
            "gridcolor": "white",
            "gridwidth": 2,
            "linecolor": "white",
            "showbackground": true,
            "ticks": "",
            "zerolinecolor": "white"
           },
           "yaxis": {
            "backgroundcolor": "#E5ECF6",
            "gridcolor": "white",
            "gridwidth": 2,
            "linecolor": "white",
            "showbackground": true,
            "ticks": "",
            "zerolinecolor": "white"
           },
           "zaxis": {
            "backgroundcolor": "#E5ECF6",
            "gridcolor": "white",
            "gridwidth": 2,
            "linecolor": "white",
            "showbackground": true,
            "ticks": "",
            "zerolinecolor": "white"
           }
          },
          "shapedefaults": {
           "line": {
            "color": "#2a3f5f"
           }
          },
          "ternary": {
           "aaxis": {
            "gridcolor": "white",
            "linecolor": "white",
            "ticks": ""
           },
           "baxis": {
            "gridcolor": "white",
            "linecolor": "white",
            "ticks": ""
           },
           "bgcolor": "#E5ECF6",
           "caxis": {
            "gridcolor": "white",
            "linecolor": "white",
            "ticks": ""
           }
          },
          "title": {
           "x": 0.05
          },
          "xaxis": {
           "automargin": true,
           "gridcolor": "white",
           "linecolor": "white",
           "ticks": "",
           "title": {
            "standoff": 15
           },
           "zerolinecolor": "white",
           "zerolinewidth": 2
          },
          "yaxis": {
           "automargin": true,
           "gridcolor": "white",
           "linecolor": "white",
           "ticks": "",
           "title": {
            "standoff": 15
           },
           "zerolinecolor": "white",
           "zerolinewidth": 2
          }
         }
        },
        "xaxis": {
         "anchor": "y",
         "domain": [
          0,
          1
         ],
         "title": {
          "text": "WeekDay"
         }
        },
        "yaxis": {
         "anchor": "x",
         "domain": [
          0,
          1
         ],
         "title": {
          "text": "Highest_Value"
         }
        }
       }
      }
     },
     "metadata": {},
     "output_type": "display_data"
    }
   ],
   "source": [
    "# Line Graph\n",
    "px.line(cleaned_data[(cleaned_data['Stock_Code'] == 'AMZN') & (cleaned_data['Week'] == 20)], x='WeekDay', y='Highest_Value', color='Stock_Code', markers= True)"
   ]
  },
  {
   "cell_type": "code",
   "execution_count": null,
   "metadata": {},
   "outputs": [
    {
     "data": {
      "application/vnd.plotly.v1+json": {
       "config": {
        "plotlyServerURL": "https://plot.ly"
       },
       "data": [
        {
         "hovertemplate": "Stock_Code=AAPL<br>Highest_Value=%{x}<br>WeekDay=%{y}<br>Volume=%{marker.size}<extra></extra>",
         "legendgroup": "AAPL",
         "marker": {
          "color": "#636efa",
          "size": [
           41282925,
           52845230,
           70399988,
           52393619,
           72044809
          ],
          "sizemode": "area",
          "sizeref": 216018.555,
          "symbol": "circle"
         },
         "mode": "markers",
         "name": "AAPL",
         "orientation": "h",
         "showlegend": true,
         "type": "scatter",
         "x": [
          190.81,
          191.095,
          190.65,
          188.3,
          187.1
         ],
         "xaxis": "x",
         "y": [
          "Friday",
          "Thursday",
          "Wednesday",
          "Tuesday",
          "Monday"
         ],
         "yaxis": "y"
        },
        {
         "hovertemplate": "Stock_Code=MSFT<br>Highest_Value=%{x}<br>WeekDay=%{y}<br>Volume=%{marker.size}<extra></extra>",
         "legendgroup": "MSFT",
         "marker": {
          "color": "#EF553B",
          "size": [
           15352239,
           17530050,
           22239533,
           15109306,
           15440226
          ],
          "sizemode": "area",
          "sizeref": 216018.555,
          "symbol": "circle"
         },
         "mode": "markers",
         "name": "MSFT",
         "orientation": "h",
         "showlegend": true,
         "type": "scatter",
         "x": [
          422.92,
          425.42,
          423.81,
          417.49,
          418.348
         ],
         "xaxis": "x",
         "y": [
          "Friday",
          "Thursday",
          "Wednesday",
          "Tuesday",
          "Monday"
         ],
         "yaxis": "y"
        },
        {
         "hovertemplate": "Stock_Code=AMZN<br>Highest_Value=%{x}<br>WeekDay=%{y}<br>Volume=%{marker.size}<extra></extra>",
         "legendgroup": "AMZN",
         "marker": {
          "color": "#00cc96",
          "size": [
           33175655,
           38834450,
           75459927,
           38698155,
           24898613
          ],
          "sizemode": "area",
          "sizeref": 216018.555,
          "symbol": "circle"
         },
         "mode": "markers",
         "name": "AMZN",
         "orientation": "h",
         "showlegend": true,
         "type": "scatter",
         "x": [
          185.3,
          187.31,
          186.7193,
          187.72,
          188.31
         ],
         "xaxis": "x",
         "y": [
          "Friday",
          "Thursday",
          "Wednesday",
          "Tuesday",
          "Monday"
         ],
         "yaxis": "y"
        },
        {
         "hovertemplate": "Stock_Code=NVDA<br>Highest_Value=%{x}<br>WeekDay=%{y}<br>Volume=%{marker.size}<extra></extra>",
         "legendgroup": "NVDA",
         "marker": {
          "color": "#ab63fa",
          "size": [
           35969103,
           32395182,
           41773545,
           29650708,
           28968017
          ],
          "sizemode": "area",
          "sizeref": 216018.555,
          "symbol": "circle"
         },
         "mode": "markers",
         "name": "NVDA",
         "orientation": "h",
         "showlegend": true,
         "type": "scatter",
         "x": [
          947.4,
          958.1899,
          948.62,
          916.51,
          909.98
         ],
         "xaxis": "x",
         "y": [
          "Friday",
          "Thursday",
          "Wednesday",
          "Tuesday",
          "Monday"
         ],
         "yaxis": "y"
        },
        {
         "hovertemplate": "Stock_Code=GOOGL<br>Highest_Value=%{x}<br>WeekDay=%{y}<br>Volume=%{marker.size}<extra></extra>",
         "legendgroup": "GOOGL",
         "marker": {
          "color": "#FFA15A",
          "size": [
           24479262,
           27867947,
           26948370,
           25127138,
           31327602
          ],
          "sizemode": "area",
          "sizeref": 216018.555,
          "symbol": "circle"
         },
         "mode": "markers",
         "name": "GOOGL",
         "orientation": "h",
         "showlegend": true,
         "type": "scatter",
         "x": [
          176.265,
          175.115,
          172.65,
          171.25,
          169.28
         ],
         "xaxis": "x",
         "y": [
          "Friday",
          "Thursday",
          "Wednesday",
          "Tuesday",
          "Monday"
         ],
         "yaxis": "y"
        },
        {
         "hovertemplate": "Stock_Code=TSLA<br>Highest_Value=%{x}<br>WeekDay=%{y}<br>Volume=%{marker.size}<extra></extra>",
         "legendgroup": "TSLA",
         "marker": {
          "color": "#19d3f3",
          "size": [
           77445845,
           59812220,
           79662993,
           86407422,
           67018903
          ],
          "sizemode": "area",
          "sizeref": 216018.555,
          "symbol": "circle"
         },
         "mode": "markers",
         "name": "TSLA",
         "orientation": "h",
         "showlegend": true,
         "type": "scatter",
         "x": [
          179.63,
          175.79,
          180,
          179.49,
          175.4
         ],
         "xaxis": "x",
         "y": [
          "Friday",
          "Thursday",
          "Wednesday",
          "Tuesday",
          "Monday"
         ],
         "yaxis": "y"
        },
        {
         "hovertemplate": "Stock_Code=GOOG<br>Highest_Value=%{x}<br>WeekDay=%{y}<br>Volume=%{marker.size}<extra></extra>",
         "legendgroup": "GOOG",
         "marker": {
          "color": "#FF6692",
          "size": [
           16546353,
           17247311,
           20958245,
           18729463,
           19648585
          ],
          "sizemode": "area",
          "sizeref": 216018.555,
          "symbol": "circle"
         },
         "mode": "markers",
         "name": "GOOG",
         "orientation": "h",
         "showlegend": true,
         "type": "scatter",
         "x": [
          177.495,
          176.34,
          174.0459,
          172.78,
          170.95
         ],
         "xaxis": "x",
         "y": [
          "Friday",
          "Thursday",
          "Wednesday",
          "Tuesday",
          "Monday"
         ],
         "yaxis": "y"
        },
        {
         "hovertemplate": "Stock_Code=BRK.B<br>Highest_Value=%{x}<br>WeekDay=%{y}<br>Volume=%{marker.size}<extra></extra>",
         "legendgroup": "BRK.B",
         "marker": {
          "color": "#B6E880",
          "size": [
           2990028,
           3550693,
           2857594,
           2674407,
           2711154
          ],
          "sizemode": "area",
          "sizeref": 216018.555,
          "symbol": "circle"
         },
         "mode": "markers",
         "name": "BRK.B",
         "orientation": "h",
         "showlegend": true,
         "type": "scatter",
         "x": [
          417.33,
          416.34,
          413.4,
          411.5592,
          414.2996
         ],
         "xaxis": "x",
         "y": [
          "Friday",
          "Thursday",
          "Wednesday",
          "Tuesday",
          "Monday"
         ],
         "yaxis": "y"
        },
        {
         "hovertemplate": "Stock_Code=META<br>Highest_Value=%{x}<br>WeekDay=%{y}<br>Volume=%{marker.size}<extra></extra>",
         "legendgroup": "META",
         "marker": {
          "color": "#FF97FF",
          "size": [
           10807289,
           16608179,
           13100470,
           10478553,
           14668798
          ],
          "sizemode": "area",
          "sizeref": 216018.555,
          "symbol": "circle"
         },
         "mode": "markers",
         "name": "META",
         "orientation": "h",
         "showlegend": true,
         "type": "scatter",
         "x": [
          472.8,
          477.69,
          482.4999,
          472.54,
          473.35
         ],
         "xaxis": "x",
         "y": [
          "Friday",
          "Thursday",
          "Wednesday",
          "Tuesday",
          "Monday"
         ],
         "yaxis": "y"
        },
        {
         "hovertemplate": "Stock_Code=UNH<br>Highest_Value=%{x}<br>WeekDay=%{y}<br>Volume=%{marker.size}<extra></extra>",
         "legendgroup": "UNH",
         "marker": {
          "color": "#FECB52",
          "size": [
           2657396,
           3655775,
           2981351,
           2949795,
           2454689
          ],
          "sizemode": "area",
          "sizeref": 216018.555,
          "symbol": "circle"
         },
         "mode": "markers",
         "name": "UNH",
         "orientation": "h",
         "showlegend": true,
         "type": "scatter",
         "x": [
          525.85,
          528.16,
          522.59,
          516.17,
          514.67
         ],
         "xaxis": "x",
         "y": [
          "Friday",
          "Thursday",
          "Wednesday",
          "Tuesday",
          "Monday"
         ],
         "yaxis": "y"
        },
        {
         "hovertemplate": "Stock_Code=XOM<br>Highest_Value=%{x}<br>WeekDay=%{y}<br>Volume=%{marker.size}<extra></extra>",
         "legendgroup": "XOM",
         "marker": {
          "color": "#636efa",
          "size": [
           15104469,
           15745202,
           18244303,
           15079131,
           15060619
          ],
          "sizemode": "area",
          "sizeref": 216018.555,
          "symbol": "circle"
         },
         "mode": "markers",
         "name": "XOM",
         "orientation": "h",
         "showlegend": true,
         "type": "scatter",
         "x": [
          119.83,
          119.3,
          118.84,
          117.74,
          119.04
         ],
         "xaxis": "x",
         "y": [
          "Friday",
          "Thursday",
          "Wednesday",
          "Tuesday",
          "Monday"
         ],
         "yaxis": "y"
        },
        {
         "hovertemplate": "Stock_Code=LLY<br>Highest_Value=%{x}<br>WeekDay=%{y}<br>Volume=%{marker.size}<extra></extra>",
         "legendgroup": "LLY",
         "marker": {
          "color": "#EF553B",
          "size": [
           1670317,
           2299653,
           3038253,
           1956229,
           1848926
          ],
          "sizemode": "area",
          "sizeref": 216018.555,
          "symbol": "circle"
         },
         "mode": "markers",
         "name": "LLY",
         "orientation": "h",
         "showlegend": true,
         "type": "scatter",
         "x": [
          774.87,
          786.48,
          787.66,
          764.5,
          763.55
         ],
         "xaxis": "x",
         "y": [
          "Friday",
          "Thursday",
          "Wednesday",
          "Tuesday",
          "Monday"
         ],
         "yaxis": "y"
        },
        {
         "hovertemplate": "Stock_Code=JPM<br>Highest_Value=%{x}<br>WeekDay=%{y}<br>Volume=%{marker.size}<extra></extra>",
         "legendgroup": "JPM",
         "marker": {
          "color": "#00cc96",
          "size": [
           9260490,
           8497927,
           8369975,
           8596175,
           7049241
          ],
          "sizemode": "area",
          "sizeref": 216018.555,
          "symbol": "circle"
         },
         "mode": "markers",
         "name": "JPM",
         "orientation": "h",
         "showlegend": true,
         "type": "scatter",
         "x": [
          205.05,
          204.48,
          202.69,
          201.58,
          199.85
         ],
         "xaxis": "x",
         "y": [
          "Friday",
          "Thursday",
          "Wednesday",
          "Tuesday",
          "Monday"
         ],
         "yaxis": "y"
        },
        {
         "hovertemplate": "Stock_Code=JNJ<br>Highest_Value=%{x}<br>WeekDay=%{y}<br>Volume=%{marker.size}<extra></extra>",
         "legendgroup": "JNJ",
         "marker": {
          "color": "#ab63fa",
          "size": [
           6521794,
           7590959,
           5547955,
           8254171,
           5628467
          ],
          "sizemode": "area",
          "sizeref": 216018.555,
          "symbol": "circle"
         },
         "mode": "markers",
         "name": "JNJ",
         "orientation": "h",
         "showlegend": true,
         "type": "scatter",
         "x": [
          154.86,
          154.38,
          152.95,
          152.21,
          152
         ],
         "xaxis": "x",
         "y": [
          "Friday",
          "Thursday",
          "Wednesday",
          "Tuesday",
          "Monday"
         ],
         "yaxis": "y"
        },
        {
         "hovertemplate": "Stock_Code=V<br>Highest_Value=%{x}<br>WeekDay=%{y}<br>Volume=%{marker.size}<extra></extra>",
         "legendgroup": "V",
         "marker": {
          "color": "#FFA15A",
          "size": [
           6177831,
           10341718,
           21288365,
           18526094,
           10528397
          ],
          "sizemode": "area",
          "sizeref": 216018.555,
          "symbol": "circle"
         },
         "mode": "markers",
         "name": "V",
         "orientation": "h",
         "showlegend": true,
         "type": "scatter",
         "x": [
          280.91,
          282.38,
          281.73,
          279.99,
          282.15
         ],
         "xaxis": "x",
         "y": [
          "Friday",
          "Thursday",
          "Wednesday",
          "Tuesday",
          "Monday"
         ],
         "yaxis": "y"
        },
        {
         "hovertemplate": "Stock_Code=PG<br>Highest_Value=%{x}<br>WeekDay=%{y}<br>Volume=%{marker.size}<extra></extra>",
         "legendgroup": "PG",
         "marker": {
          "color": "#19d3f3",
          "size": [
           4700819,
           6793672,
           5102897,
           6009837,
           5725523
          ],
          "sizemode": "area",
          "sizeref": 216018.555,
          "symbol": "circle"
         },
         "mode": "markers",
         "name": "PG",
         "orientation": "h",
         "showlegend": true,
         "type": "scatter",
         "x": [
          168,
          168.34,
          166.68,
          166.07,
          167.65
         ],
         "xaxis": "x",
         "y": [
          "Friday",
          "Thursday",
          "Wednesday",
          "Tuesday",
          "Monday"
         ],
         "yaxis": "y"
        },
        {
         "hovertemplate": "Stock_Code=MA<br>Highest_Value=%{x}<br>WeekDay=%{y}<br>Volume=%{marker.size}<extra></extra>",
         "legendgroup": "MA",
         "marker": {
          "color": "#FF6692",
          "size": [
           1985903,
           2412233,
           2437772,
           2990997,
           2069345
          ],
          "sizemode": "area",
          "sizeref": 216018.555,
          "symbol": "circle"
         },
         "mode": "markers",
         "name": "MA",
         "orientation": "h",
         "showlegend": true,
         "type": "scatter",
         "x": [
          461.685,
          464.93,
          458.6,
          458.98,
          458.72
         ],
         "xaxis": "x",
         "y": [
          "Friday",
          "Thursday",
          "Wednesday",
          "Tuesday",
          "Monday"
         ],
         "yaxis": "y"
        },
        {
         "hovertemplate": "Stock_Code=AVGO<br>Highest_Value=%{x}<br>WeekDay=%{y}<br>Volume=%{marker.size}<extra></extra>",
         "legendgroup": "AVGO",
         "marker": {
          "color": "#B6E880",
          "size": [
           1817367,
           2839503,
           3275738,
           1942029,
           1850703
          ],
          "sizemode": "area",
          "sizeref": 216018.555,
          "symbol": "circle"
         },
         "mode": "markers",
         "name": "AVGO",
         "orientation": "h",
         "showlegend": true,
         "type": "scatter",
         "x": [
          1419.53,
          1445.4,
          1438.95,
          1381.99,
          1358.39
         ],
         "xaxis": "x",
         "y": [
          "Friday",
          "Thursday",
          "Wednesday",
          "Tuesday",
          "Monday"
         ],
         "yaxis": "y"
        },
        {
         "hovertemplate": "Stock_Code=HD<br>Highest_Value=%{x}<br>WeekDay=%{y}<br>Volume=%{marker.size}<extra></extra>",
         "legendgroup": "HD",
         "marker": {
          "color": "#FF97FF",
          "size": [
           2739006,
           3101626,
           4151111,
           5854302,
           4055584
          ],
          "sizemode": "area",
          "sizeref": 216018.555,
          "symbol": "circle"
         },
         "mode": "markers",
         "name": "HD",
         "orientation": "h",
         "showlegend": true,
         "type": "scatter",
         "x": [
          344.93,
          348.25,
          350.44,
          344.2549,
          348.79
         ],
         "xaxis": "x",
         "y": [
          "Friday",
          "Thursday",
          "Wednesday",
          "Tuesday",
          "Monday"
         ],
         "yaxis": "y"
        },
        {
         "hovertemplate": "Stock_Code=CVX<br>Highest_Value=%{x}<br>WeekDay=%{y}<br>Volume=%{marker.size}<extra></extra>",
         "legendgroup": "CVX",
         "marker": {
          "color": "#FECB52",
          "size": [
           5497919,
           6409418,
           7603063,
           4923968,
           6848303
          ],
          "sizemode": "area",
          "sizeref": 216018.555,
          "symbol": "circle"
         },
         "mode": "markers",
         "name": "CVX",
         "orientation": "h",
         "showlegend": true,
         "type": "scatter",
         "x": [
          162.9679,
          162,
          163.8,
          165.2,
          166.91
         ],
         "xaxis": "x",
         "y": [
          "Friday",
          "Thursday",
          "Wednesday",
          "Tuesday",
          "Monday"
         ],
         "yaxis": "y"
        }
       ],
       "layout": {
        "legend": {
         "itemsizing": "constant",
         "title": {
          "text": "Stock_Code"
         },
         "tracegroupgap": 0
        },
        "margin": {
         "t": 60
        },
        "template": {
         "data": {
          "bar": [
           {
            "error_x": {
             "color": "#2a3f5f"
            },
            "error_y": {
             "color": "#2a3f5f"
            },
            "marker": {
             "line": {
              "color": "#E5ECF6",
              "width": 0.5
             },
             "pattern": {
              "fillmode": "overlay",
              "size": 10,
              "solidity": 0.2
             }
            },
            "type": "bar"
           }
          ],
          "barpolar": [
           {
            "marker": {
             "line": {
              "color": "#E5ECF6",
              "width": 0.5
             },
             "pattern": {
              "fillmode": "overlay",
              "size": 10,
              "solidity": 0.2
             }
            },
            "type": "barpolar"
           }
          ],
          "carpet": [
           {
            "aaxis": {
             "endlinecolor": "#2a3f5f",
             "gridcolor": "white",
             "linecolor": "white",
             "minorgridcolor": "white",
             "startlinecolor": "#2a3f5f"
            },
            "baxis": {
             "endlinecolor": "#2a3f5f",
             "gridcolor": "white",
             "linecolor": "white",
             "minorgridcolor": "white",
             "startlinecolor": "#2a3f5f"
            },
            "type": "carpet"
           }
          ],
          "choropleth": [
           {
            "colorbar": {
             "outlinewidth": 0,
             "ticks": ""
            },
            "type": "choropleth"
           }
          ],
          "contour": [
           {
            "colorbar": {
             "outlinewidth": 0,
             "ticks": ""
            },
            "colorscale": [
             [
              0,
              "#0d0887"
             ],
             [
              0.1111111111111111,
              "#46039f"
             ],
             [
              0.2222222222222222,
              "#7201a8"
             ],
             [
              0.3333333333333333,
              "#9c179e"
             ],
             [
              0.4444444444444444,
              "#bd3786"
             ],
             [
              0.5555555555555556,
              "#d8576b"
             ],
             [
              0.6666666666666666,
              "#ed7953"
             ],
             [
              0.7777777777777778,
              "#fb9f3a"
             ],
             [
              0.8888888888888888,
              "#fdca26"
             ],
             [
              1,
              "#f0f921"
             ]
            ],
            "type": "contour"
           }
          ],
          "contourcarpet": [
           {
            "colorbar": {
             "outlinewidth": 0,
             "ticks": ""
            },
            "type": "contourcarpet"
           }
          ],
          "heatmap": [
           {
            "colorbar": {
             "outlinewidth": 0,
             "ticks": ""
            },
            "colorscale": [
             [
              0,
              "#0d0887"
             ],
             [
              0.1111111111111111,
              "#46039f"
             ],
             [
              0.2222222222222222,
              "#7201a8"
             ],
             [
              0.3333333333333333,
              "#9c179e"
             ],
             [
              0.4444444444444444,
              "#bd3786"
             ],
             [
              0.5555555555555556,
              "#d8576b"
             ],
             [
              0.6666666666666666,
              "#ed7953"
             ],
             [
              0.7777777777777778,
              "#fb9f3a"
             ],
             [
              0.8888888888888888,
              "#fdca26"
             ],
             [
              1,
              "#f0f921"
             ]
            ],
            "type": "heatmap"
           }
          ],
          "heatmapgl": [
           {
            "colorbar": {
             "outlinewidth": 0,
             "ticks": ""
            },
            "colorscale": [
             [
              0,
              "#0d0887"
             ],
             [
              0.1111111111111111,
              "#46039f"
             ],
             [
              0.2222222222222222,
              "#7201a8"
             ],
             [
              0.3333333333333333,
              "#9c179e"
             ],
             [
              0.4444444444444444,
              "#bd3786"
             ],
             [
              0.5555555555555556,
              "#d8576b"
             ],
             [
              0.6666666666666666,
              "#ed7953"
             ],
             [
              0.7777777777777778,
              "#fb9f3a"
             ],
             [
              0.8888888888888888,
              "#fdca26"
             ],
             [
              1,
              "#f0f921"
             ]
            ],
            "type": "heatmapgl"
           }
          ],
          "histogram": [
           {
            "marker": {
             "pattern": {
              "fillmode": "overlay",
              "size": 10,
              "solidity": 0.2
             }
            },
            "type": "histogram"
           }
          ],
          "histogram2d": [
           {
            "colorbar": {
             "outlinewidth": 0,
             "ticks": ""
            },
            "colorscale": [
             [
              0,
              "#0d0887"
             ],
             [
              0.1111111111111111,
              "#46039f"
             ],
             [
              0.2222222222222222,
              "#7201a8"
             ],
             [
              0.3333333333333333,
              "#9c179e"
             ],
             [
              0.4444444444444444,
              "#bd3786"
             ],
             [
              0.5555555555555556,
              "#d8576b"
             ],
             [
              0.6666666666666666,
              "#ed7953"
             ],
             [
              0.7777777777777778,
              "#fb9f3a"
             ],
             [
              0.8888888888888888,
              "#fdca26"
             ],
             [
              1,
              "#f0f921"
             ]
            ],
            "type": "histogram2d"
           }
          ],
          "histogram2dcontour": [
           {
            "colorbar": {
             "outlinewidth": 0,
             "ticks": ""
            },
            "colorscale": [
             [
              0,
              "#0d0887"
             ],
             [
              0.1111111111111111,
              "#46039f"
             ],
             [
              0.2222222222222222,
              "#7201a8"
             ],
             [
              0.3333333333333333,
              "#9c179e"
             ],
             [
              0.4444444444444444,
              "#bd3786"
             ],
             [
              0.5555555555555556,
              "#d8576b"
             ],
             [
              0.6666666666666666,
              "#ed7953"
             ],
             [
              0.7777777777777778,
              "#fb9f3a"
             ],
             [
              0.8888888888888888,
              "#fdca26"
             ],
             [
              1,
              "#f0f921"
             ]
            ],
            "type": "histogram2dcontour"
           }
          ],
          "mesh3d": [
           {
            "colorbar": {
             "outlinewidth": 0,
             "ticks": ""
            },
            "type": "mesh3d"
           }
          ],
          "parcoords": [
           {
            "line": {
             "colorbar": {
              "outlinewidth": 0,
              "ticks": ""
             }
            },
            "type": "parcoords"
           }
          ],
          "pie": [
           {
            "automargin": true,
            "type": "pie"
           }
          ],
          "scatter": [
           {
            "marker": {
             "colorbar": {
              "outlinewidth": 0,
              "ticks": ""
             }
            },
            "type": "scatter"
           }
          ],
          "scatter3d": [
           {
            "line": {
             "colorbar": {
              "outlinewidth": 0,
              "ticks": ""
             }
            },
            "marker": {
             "colorbar": {
              "outlinewidth": 0,
              "ticks": ""
             }
            },
            "type": "scatter3d"
           }
          ],
          "scattercarpet": [
           {
            "marker": {
             "colorbar": {
              "outlinewidth": 0,
              "ticks": ""
             }
            },
            "type": "scattercarpet"
           }
          ],
          "scattergeo": [
           {
            "marker": {
             "colorbar": {
              "outlinewidth": 0,
              "ticks": ""
             }
            },
            "type": "scattergeo"
           }
          ],
          "scattergl": [
           {
            "marker": {
             "colorbar": {
              "outlinewidth": 0,
              "ticks": ""
             }
            },
            "type": "scattergl"
           }
          ],
          "scattermapbox": [
           {
            "marker": {
             "colorbar": {
              "outlinewidth": 0,
              "ticks": ""
             }
            },
            "type": "scattermapbox"
           }
          ],
          "scatterpolar": [
           {
            "marker": {
             "colorbar": {
              "outlinewidth": 0,
              "ticks": ""
             }
            },
            "type": "scatterpolar"
           }
          ],
          "scatterpolargl": [
           {
            "marker": {
             "colorbar": {
              "outlinewidth": 0,
              "ticks": ""
             }
            },
            "type": "scatterpolargl"
           }
          ],
          "scatterternary": [
           {
            "marker": {
             "colorbar": {
              "outlinewidth": 0,
              "ticks": ""
             }
            },
            "type": "scatterternary"
           }
          ],
          "surface": [
           {
            "colorbar": {
             "outlinewidth": 0,
             "ticks": ""
            },
            "colorscale": [
             [
              0,
              "#0d0887"
             ],
             [
              0.1111111111111111,
              "#46039f"
             ],
             [
              0.2222222222222222,
              "#7201a8"
             ],
             [
              0.3333333333333333,
              "#9c179e"
             ],
             [
              0.4444444444444444,
              "#bd3786"
             ],
             [
              0.5555555555555556,
              "#d8576b"
             ],
             [
              0.6666666666666666,
              "#ed7953"
             ],
             [
              0.7777777777777778,
              "#fb9f3a"
             ],
             [
              0.8888888888888888,
              "#fdca26"
             ],
             [
              1,
              "#f0f921"
             ]
            ],
            "type": "surface"
           }
          ],
          "table": [
           {
            "cells": {
             "fill": {
              "color": "#EBF0F8"
             },
             "line": {
              "color": "white"
             }
            },
            "header": {
             "fill": {
              "color": "#C8D4E3"
             },
             "line": {
              "color": "white"
             }
            },
            "type": "table"
           }
          ]
         },
         "layout": {
          "annotationdefaults": {
           "arrowcolor": "#2a3f5f",
           "arrowhead": 0,
           "arrowwidth": 1
          },
          "autotypenumbers": "strict",
          "coloraxis": {
           "colorbar": {
            "outlinewidth": 0,
            "ticks": ""
           }
          },
          "colorscale": {
           "diverging": [
            [
             0,
             "#8e0152"
            ],
            [
             0.1,
             "#c51b7d"
            ],
            [
             0.2,
             "#de77ae"
            ],
            [
             0.3,
             "#f1b6da"
            ],
            [
             0.4,
             "#fde0ef"
            ],
            [
             0.5,
             "#f7f7f7"
            ],
            [
             0.6,
             "#e6f5d0"
            ],
            [
             0.7,
             "#b8e186"
            ],
            [
             0.8,
             "#7fbc41"
            ],
            [
             0.9,
             "#4d9221"
            ],
            [
             1,
             "#276419"
            ]
           ],
           "sequential": [
            [
             0,
             "#0d0887"
            ],
            [
             0.1111111111111111,
             "#46039f"
            ],
            [
             0.2222222222222222,
             "#7201a8"
            ],
            [
             0.3333333333333333,
             "#9c179e"
            ],
            [
             0.4444444444444444,
             "#bd3786"
            ],
            [
             0.5555555555555556,
             "#d8576b"
            ],
            [
             0.6666666666666666,
             "#ed7953"
            ],
            [
             0.7777777777777778,
             "#fb9f3a"
            ],
            [
             0.8888888888888888,
             "#fdca26"
            ],
            [
             1,
             "#f0f921"
            ]
           ],
           "sequentialminus": [
            [
             0,
             "#0d0887"
            ],
            [
             0.1111111111111111,
             "#46039f"
            ],
            [
             0.2222222222222222,
             "#7201a8"
            ],
            [
             0.3333333333333333,
             "#9c179e"
            ],
            [
             0.4444444444444444,
             "#bd3786"
            ],
            [
             0.5555555555555556,
             "#d8576b"
            ],
            [
             0.6666666666666666,
             "#ed7953"
            ],
            [
             0.7777777777777778,
             "#fb9f3a"
            ],
            [
             0.8888888888888888,
             "#fdca26"
            ],
            [
             1,
             "#f0f921"
            ]
           ]
          },
          "colorway": [
           "#636efa",
           "#EF553B",
           "#00cc96",
           "#ab63fa",
           "#FFA15A",
           "#19d3f3",
           "#FF6692",
           "#B6E880",
           "#FF97FF",
           "#FECB52"
          ],
          "font": {
           "color": "#2a3f5f"
          },
          "geo": {
           "bgcolor": "white",
           "lakecolor": "white",
           "landcolor": "#E5ECF6",
           "showlakes": true,
           "showland": true,
           "subunitcolor": "white"
          },
          "hoverlabel": {
           "align": "left"
          },
          "hovermode": "closest",
          "mapbox": {
           "style": "light"
          },
          "paper_bgcolor": "white",
          "plot_bgcolor": "#E5ECF6",
          "polar": {
           "angularaxis": {
            "gridcolor": "white",
            "linecolor": "white",
            "ticks": ""
           },
           "bgcolor": "#E5ECF6",
           "radialaxis": {
            "gridcolor": "white",
            "linecolor": "white",
            "ticks": ""
           }
          },
          "scene": {
           "xaxis": {
            "backgroundcolor": "#E5ECF6",
            "gridcolor": "white",
            "gridwidth": 2,
            "linecolor": "white",
            "showbackground": true,
            "ticks": "",
            "zerolinecolor": "white"
           },
           "yaxis": {
            "backgroundcolor": "#E5ECF6",
            "gridcolor": "white",
            "gridwidth": 2,
            "linecolor": "white",
            "showbackground": true,
            "ticks": "",
            "zerolinecolor": "white"
           },
           "zaxis": {
            "backgroundcolor": "#E5ECF6",
            "gridcolor": "white",
            "gridwidth": 2,
            "linecolor": "white",
            "showbackground": true,
            "ticks": "",
            "zerolinecolor": "white"
           }
          },
          "shapedefaults": {
           "line": {
            "color": "#2a3f5f"
           }
          },
          "ternary": {
           "aaxis": {
            "gridcolor": "white",
            "linecolor": "white",
            "ticks": ""
           },
           "baxis": {
            "gridcolor": "white",
            "linecolor": "white",
            "ticks": ""
           },
           "bgcolor": "#E5ECF6",
           "caxis": {
            "gridcolor": "white",
            "linecolor": "white",
            "ticks": ""
           }
          },
          "title": {
           "x": 0.05
          },
          "xaxis": {
           "automargin": true,
           "gridcolor": "white",
           "linecolor": "white",
           "ticks": "",
           "title": {
            "standoff": 15
           },
           "zerolinecolor": "white",
           "zerolinewidth": 2
          },
          "yaxis": {
           "automargin": true,
           "gridcolor": "white",
           "linecolor": "white",
           "ticks": "",
           "title": {
            "standoff": 15
           },
           "zerolinecolor": "white",
           "zerolinewidth": 2
          }
         }
        },
        "xaxis": {
         "anchor": "y",
         "domain": [
          0,
          1
         ],
         "title": {
          "text": "Highest_Value"
         }
        },
        "yaxis": {
         "anchor": "x",
         "domain": [
          0,
          1
         ],
         "title": {
          "text": "WeekDay"
         }
        }
       }
      }
     },
     "metadata": {},
     "output_type": "display_data"
    }
   ],
   "source": [
    "# Bubble Garph\n",
    "px.scatter(cleaned_data[(cleaned_data['Week'] == 20)            ], x='Highest_Value', y= 'WeekDay', color='Stock_Code', size='Volume')"
   ]
  },
  {
   "cell_type": "code",
   "execution_count": null,
   "metadata": {},
   "outputs": [
    {
     "data": {
      "application/vnd.plotly.v1+json": {
       "config": {
        "plotlyServerURL": "https://plot.ly"
       },
       "data": [
        {
         "close": [
          189.87,
          189.84,
          189.72,
          187.43,
          186.28,
          183.05,
          184.57,
          182.74,
          182.4,
          181.71,
          183.38,
          173.03,
          169.3,
          170.33,
          173.5,
          169.3,
          169.89,
          169.02,
          166.9,
          165.84,
          165,
          167.04,
          168,
          169.38,
          172.69,
          176.55,
          175.04,
          167.78,
          169.67,
          168.45,
          169.58,
          168.82,
          169.65,
          168.84,
          170.03,
          171.48,
          173.31,
          169.71,
          170.85,
          172.28,
          171.37,
          178.67,
          176.08,
          173.72,
          172.62,
          173,
          171.13,
          173.23,
          172.75,
          170.73,
          169,
          169.12,
          170.12,
          175.1,
          179.66,
          180.75,
          181.42,
          182.63,
          181.16,
          182.52,
          184.37,
          182.32,
          181.56,
          182.31,
          183.86,
          184.15,
          185.04,
          187.15,
          188.85,
          188.32,
          189.41,
          189.3,
          187.68,
          185.85,
          186.86,
          184.4,
          188.04,
          191.73,
          192.42,
          194.17,
          194.5,
          195.18,
          193.89,
          191.56,
          188.63,
          182.68,
          183.63,
          185.92,
          185.59,
          186.19,
          185.14,
          185.56,
          181.18,
          181.91,
          184.25,
          185.64,
          192.53,
          193.58,
          193.15,
          193.05
         ],
         "high": [
          190.81,
          191.095,
          190.65,
          188.3,
          187.1,
          185.09,
          184.66,
          183.07,
          184.9,
          184.2,
          187,
          173.415,
          172.705,
          174.99,
          176.03,
          171.34,
          170.61,
          169.3,
          167.05,
          167.26,
          166.4,
          168.64,
          170.65,
          173.76,
          176.63,
          178.36,
          175.46,
          169.09,
          170.08,
          169.2,
          170.39,
          171.92,
          170.68,
          169.34,
          171.25,
          172.23,
          173.6,
          171.42,
          171.94,
          173.05,
          177.49,
          178.67,
          176.605,
          177.71,
          172.62,
          174.3078,
          173.185,
          174.03,
          174.38,
          173.7,
          170.73,
          171.24,
          172.04,
          176.9,
          180.53,
          182.57,
          183.12,
          183.9225,
          182.76,
          185.04,
          184.955,
          182.8888,
          182.43,
          184.85,
          184.49,
          185.53,
          186.21,
          188.67,
          189.99,
          189.535,
          191.05,
          189.31,
          189.25,
          187.33,
          186.95,
          187.095,
          191.8,
          192.2,
          194.76,
          196.2675,
          196.38,
          195.75,
          195.33,
          191.95,
          189.14,
          182.93,
          184.26,
          186.74,
          187.05,
          186.4,
          185.15,
          185.6,
          182.76,
          183.0872,
          185.88,
          188.44,
          194.4,
          194.66,
          193.5,
          193.89
         ],
         "low": [
          189.18,
          189.6601,
          187.37,
          186.29,
          184.62,
          182.13,
          182.11,
          181.45,
          181.32,
          180.42,
          182.66,
          170.89,
          169.11,
          170,
          173.1,
          169.18,
          168.1511,
          166.21,
          164.92,
          164.77,
          164.075,
          166.55,
          168,
          168.27,
          172.5,
          174.21,
          168.16,
          167.11,
          168.35,
          168.24,
          168.95,
          168.82,
          168.58,
          168.2302,
          169.475,
          170.51,
          170.11,
          169.58,
          169.45,
          170.06,
          170.84,
          175.09,
          173.03,
          173.52,
          170.285,
          172.05,
          170.76,
          171.01,
          172.05,
          168.94,
          168.49,
          168.68,
          169.62,
          173.79,
          177.38,
          179.53,
          180.13,
          179.56,
          180.65,
          182.23,
          182.46,
          180.66,
          180,
          181.665,
          181.35,
          182.44,
          183.5128,
          186.79,
          188,
          187.35,
          188.61,
          186.7695,
          185.84,
          179.25,
          183.82,
          184.35,
          187.47,
          189.58,
          191.94,
          193.1125,
          194.34,
          193.8299,
          192.26,
          188.82,
          185.83,
          180.3,
          180.934,
          185.19,
          183.62,
          183.92,
          182.73,
          181.5,
          180.17,
          180.88,
          183.43,
          183.885,
          191.725,
          193.17,
          191.09,
          192.83
         ],
         "open": [
          189.51,
          190.47,
          187.91,
          187.51,
          185.435,
          184.9,
          182.56,
          182.85,
          183.45,
          182.354,
          186.645,
          172.51,
          169.58,
          173.33,
          173.37,
          169.88,
          169.525,
          166.54,
          165.35,
          165.515,
          166.21,
          168.03,
          169.61,
          171.75,
          175.36,
          174.26,
          168.34,
          168.8,
          168.7,
          169.03,
          169.59,
          170.29,
          168.79,
          169.08,
          171.19,
          171.75,
          170.41,
          170,
          170.565,
          171.76,
          177.05,
          175.72,
          174.34,
          175.57,
          171.17,
          172.91,
          172.77,
          173.15,
          172.94,
          169,
          169.15,
          171.06,
          170.76,
          176.15,
          179.55,
          181.27,
          182.51,
          181.1,
          182.24,
          185.01,
          183.48,
          181.94,
          181.79,
          183.42,
          183.55,
          185.32,
          185.77,
          188.415,
          188.65,
          189.385,
          190.64,
          186.86,
          188.15,
          179.86,
          183.985,
          187.04,
          190.94,
          192.01,
          194.27,
          195.22,
          195.42,
          195.02,
          192.3,
          189.33,
          186.09,
          181.27,
          182.16,
          186.06,
          186.54,
          184.35,
          183.92,
          182.085,
          181.99,
          182.15,
          184.22,
          187.15,
          193.9,
          194.14,
          192.49,
          193.61
         ],
         "type": "candlestick",
         "x": [
          "2024-05-17T00:00:00",
          "2024-05-16T00:00:00",
          "2024-05-15T00:00:00",
          "2024-05-14T00:00:00",
          "2024-05-13T00:00:00",
          "2024-05-10T00:00:00",
          "2024-05-09T00:00:00",
          "2024-05-08T00:00:00",
          "2024-05-07T00:00:00",
          "2024-05-06T00:00:00",
          "2024-05-03T00:00:00",
          "2024-05-02T00:00:00",
          "2024-05-01T00:00:00",
          "2024-04-30T00:00:00",
          "2024-04-29T00:00:00",
          "2024-04-26T00:00:00",
          "2024-04-25T00:00:00",
          "2024-04-24T00:00:00",
          "2024-04-23T00:00:00",
          "2024-04-22T00:00:00",
          "2024-04-19T00:00:00",
          "2024-04-18T00:00:00",
          "2024-04-17T00:00:00",
          "2024-04-16T00:00:00",
          "2024-04-15T00:00:00",
          "2024-04-12T00:00:00",
          "2024-04-11T00:00:00",
          "2024-04-10T00:00:00",
          "2024-04-09T00:00:00",
          "2024-04-08T00:00:00",
          "2024-04-05T00:00:00",
          "2024-04-04T00:00:00",
          "2024-04-03T00:00:00",
          "2024-04-02T00:00:00",
          "2024-04-01T00:00:00",
          "2024-03-28T00:00:00",
          "2024-03-27T00:00:00",
          "2024-03-26T00:00:00",
          "2024-03-25T00:00:00",
          "2024-03-22T00:00:00",
          "2024-03-21T00:00:00",
          "2024-03-20T00:00:00",
          "2024-03-19T00:00:00",
          "2024-03-18T00:00:00",
          "2024-03-15T00:00:00",
          "2024-03-14T00:00:00",
          "2024-03-13T00:00:00",
          "2024-03-12T00:00:00",
          "2024-03-11T00:00:00",
          "2024-03-08T00:00:00",
          "2024-03-07T00:00:00",
          "2024-03-06T00:00:00",
          "2024-03-05T00:00:00",
          "2024-03-04T00:00:00",
          "2024-03-01T00:00:00",
          "2024-02-29T00:00:00",
          "2024-02-28T00:00:00",
          "2024-02-27T00:00:00",
          "2024-02-26T00:00:00",
          "2024-02-23T00:00:00",
          "2024-02-22T00:00:00",
          "2024-02-21T00:00:00",
          "2024-02-20T00:00:00",
          "2024-02-16T00:00:00",
          "2024-02-15T00:00:00",
          "2024-02-14T00:00:00",
          "2024-02-13T00:00:00",
          "2024-02-12T00:00:00",
          "2024-02-09T00:00:00",
          "2024-02-08T00:00:00",
          "2024-02-07T00:00:00",
          "2024-02-06T00:00:00",
          "2024-02-05T00:00:00",
          "2024-02-02T00:00:00",
          "2024-02-01T00:00:00",
          "2024-01-31T00:00:00",
          "2024-01-30T00:00:00",
          "2024-01-29T00:00:00",
          "2024-01-26T00:00:00",
          "2024-01-25T00:00:00",
          "2024-01-24T00:00:00",
          "2024-01-23T00:00:00",
          "2024-01-22T00:00:00",
          "2024-01-19T00:00:00",
          "2024-01-18T00:00:00",
          "2024-01-17T00:00:00",
          "2024-01-16T00:00:00",
          "2024-01-12T00:00:00",
          "2024-01-11T00:00:00",
          "2024-01-10T00:00:00",
          "2024-01-09T00:00:00",
          "2024-01-08T00:00:00",
          "2024-01-05T00:00:00",
          "2024-01-04T00:00:00",
          "2024-01-03T00:00:00",
          "2024-01-02T00:00:00",
          "2023-12-29T00:00:00",
          "2023-12-28T00:00:00",
          "2023-12-27T00:00:00",
          "2023-12-26T00:00:00",
          "2024-05-17T00:00:00",
          "2024-05-16T00:00:00",
          "2024-05-15T00:00:00",
          "2024-05-14T00:00:00",
          "2024-05-13T00:00:00",
          "2024-05-10T00:00:00",
          "2024-05-09T00:00:00",
          "2024-05-08T00:00:00",
          "2024-05-07T00:00:00",
          "2024-05-06T00:00:00",
          "2024-05-03T00:00:00",
          "2024-05-02T00:00:00",
          "2024-05-01T00:00:00",
          "2024-04-30T00:00:00",
          "2024-04-29T00:00:00",
          "2024-04-26T00:00:00",
          "2024-04-25T00:00:00",
          "2024-04-24T00:00:00",
          "2024-04-23T00:00:00",
          "2024-04-22T00:00:00",
          "2024-04-19T00:00:00",
          "2024-04-18T00:00:00",
          "2024-04-17T00:00:00",
          "2024-04-16T00:00:00",
          "2024-04-15T00:00:00",
          "2024-04-12T00:00:00",
          "2024-04-11T00:00:00",
          "2024-04-10T00:00:00",
          "2024-04-09T00:00:00",
          "2024-04-08T00:00:00",
          "2024-04-05T00:00:00",
          "2024-04-04T00:00:00",
          "2024-04-03T00:00:00",
          "2024-04-02T00:00:00",
          "2024-04-01T00:00:00",
          "2024-03-28T00:00:00",
          "2024-03-27T00:00:00",
          "2024-03-26T00:00:00",
          "2024-03-25T00:00:00",
          "2024-03-22T00:00:00",
          "2024-03-21T00:00:00",
          "2024-03-20T00:00:00",
          "2024-03-19T00:00:00",
          "2024-03-18T00:00:00",
          "2024-03-15T00:00:00",
          "2024-03-14T00:00:00",
          "2024-03-13T00:00:00",
          "2024-03-12T00:00:00",
          "2024-03-11T00:00:00",
          "2024-03-08T00:00:00",
          "2024-03-07T00:00:00",
          "2024-03-06T00:00:00",
          "2024-03-05T00:00:00",
          "2024-03-04T00:00:00",
          "2024-03-01T00:00:00",
          "2024-02-29T00:00:00",
          "2024-02-28T00:00:00",
          "2024-02-27T00:00:00",
          "2024-02-26T00:00:00",
          "2024-02-23T00:00:00",
          "2024-02-22T00:00:00",
          "2024-02-21T00:00:00",
          "2024-02-20T00:00:00",
          "2024-02-16T00:00:00",
          "2024-02-15T00:00:00",
          "2024-02-14T00:00:00",
          "2024-02-13T00:00:00",
          "2024-02-12T00:00:00",
          "2024-02-09T00:00:00",
          "2024-02-08T00:00:00",
          "2024-02-07T00:00:00",
          "2024-02-06T00:00:00",
          "2024-02-05T00:00:00",
          "2024-02-02T00:00:00",
          "2024-02-01T00:00:00",
          "2024-01-31T00:00:00",
          "2024-01-30T00:00:00",
          "2024-01-29T00:00:00",
          "2024-01-26T00:00:00",
          "2024-01-25T00:00:00",
          "2024-01-24T00:00:00",
          "2024-01-23T00:00:00",
          "2024-01-22T00:00:00",
          "2024-01-19T00:00:00",
          "2024-01-18T00:00:00",
          "2024-01-17T00:00:00",
          "2024-01-16T00:00:00",
          "2024-01-12T00:00:00",
          "2024-01-11T00:00:00",
          "2024-01-10T00:00:00",
          "2024-01-09T00:00:00",
          "2024-01-08T00:00:00",
          "2024-01-05T00:00:00",
          "2024-01-04T00:00:00",
          "2024-01-03T00:00:00",
          "2024-01-02T00:00:00",
          "2023-12-29T00:00:00",
          "2023-12-28T00:00:00",
          "2023-12-27T00:00:00",
          "2023-12-26T00:00:00",
          "2024-05-17T00:00:00",
          "2024-05-16T00:00:00",
          "2024-05-15T00:00:00",
          "2024-05-14T00:00:00",
          "2024-05-13T00:00:00",
          "2024-05-10T00:00:00",
          "2024-05-09T00:00:00",
          "2024-05-08T00:00:00",
          "2024-05-07T00:00:00",
          "2024-05-06T00:00:00",
          "2024-05-03T00:00:00",
          "2024-05-02T00:00:00",
          "2024-05-01T00:00:00",
          "2024-04-30T00:00:00",
          "2024-04-29T00:00:00",
          "2024-04-26T00:00:00",
          "2024-04-25T00:00:00",
          "2024-04-24T00:00:00",
          "2024-04-23T00:00:00",
          "2024-04-22T00:00:00",
          "2024-04-19T00:00:00",
          "2024-04-18T00:00:00",
          "2024-04-17T00:00:00",
          "2024-04-16T00:00:00",
          "2024-04-15T00:00:00",
          "2024-04-12T00:00:00",
          "2024-04-11T00:00:00",
          "2024-04-10T00:00:00",
          "2024-04-09T00:00:00",
          "2024-04-08T00:00:00",
          "2024-04-05T00:00:00",
          "2024-04-04T00:00:00",
          "2024-04-03T00:00:00",
          "2024-04-02T00:00:00",
          "2024-04-01T00:00:00",
          "2024-03-28T00:00:00",
          "2024-03-27T00:00:00",
          "2024-03-26T00:00:00",
          "2024-03-25T00:00:00",
          "2024-03-22T00:00:00",
          "2024-03-21T00:00:00",
          "2024-03-20T00:00:00",
          "2024-03-19T00:00:00",
          "2024-03-18T00:00:00",
          "2024-03-15T00:00:00",
          "2024-03-14T00:00:00",
          "2024-03-13T00:00:00",
          "2024-03-12T00:00:00",
          "2024-03-11T00:00:00",
          "2024-03-08T00:00:00",
          "2024-03-07T00:00:00",
          "2024-03-06T00:00:00",
          "2024-03-05T00:00:00",
          "2024-03-04T00:00:00",
          "2024-03-01T00:00:00",
          "2024-02-29T00:00:00",
          "2024-02-28T00:00:00",
          "2024-02-27T00:00:00",
          "2024-02-26T00:00:00",
          "2024-02-23T00:00:00",
          "2024-02-22T00:00:00",
          "2024-02-21T00:00:00",
          "2024-02-20T00:00:00",
          "2024-02-16T00:00:00",
          "2024-02-15T00:00:00",
          "2024-02-14T00:00:00",
          "2024-02-13T00:00:00",
          "2024-02-12T00:00:00",
          "2024-02-09T00:00:00",
          "2024-02-08T00:00:00",
          "2024-02-07T00:00:00",
          "2024-02-06T00:00:00",
          "2024-02-05T00:00:00",
          "2024-02-02T00:00:00",
          "2024-02-01T00:00:00",
          "2024-01-31T00:00:00",
          "2024-01-30T00:00:00",
          "2024-01-29T00:00:00",
          "2024-01-26T00:00:00",
          "2024-01-25T00:00:00",
          "2024-01-24T00:00:00",
          "2024-01-23T00:00:00",
          "2024-01-22T00:00:00",
          "2024-01-19T00:00:00",
          "2024-01-18T00:00:00",
          "2024-01-17T00:00:00",
          "2024-01-16T00:00:00",
          "2024-01-12T00:00:00",
          "2024-01-11T00:00:00",
          "2024-01-10T00:00:00",
          "2024-01-09T00:00:00",
          "2024-01-08T00:00:00",
          "2024-01-05T00:00:00",
          "2024-01-04T00:00:00",
          "2024-01-03T00:00:00",
          "2024-01-02T00:00:00",
          "2023-12-29T00:00:00",
          "2023-12-28T00:00:00",
          "2023-12-27T00:00:00",
          "2023-12-26T00:00:00",
          "2024-05-17T00:00:00",
          "2024-05-16T00:00:00",
          "2024-05-15T00:00:00",
          "2024-05-14T00:00:00",
          "2024-05-13T00:00:00",
          "2024-05-10T00:00:00",
          "2024-05-09T00:00:00",
          "2024-05-08T00:00:00",
          "2024-05-07T00:00:00",
          "2024-05-06T00:00:00",
          "2024-05-03T00:00:00",
          "2024-05-02T00:00:00",
          "2024-05-01T00:00:00",
          "2024-04-30T00:00:00",
          "2024-04-29T00:00:00",
          "2024-04-26T00:00:00",
          "2024-04-25T00:00:00",
          "2024-04-24T00:00:00",
          "2024-04-23T00:00:00",
          "2024-04-22T00:00:00",
          "2024-04-19T00:00:00",
          "2024-04-18T00:00:00",
          "2024-04-17T00:00:00",
          "2024-04-16T00:00:00",
          "2024-04-15T00:00:00",
          "2024-04-12T00:00:00",
          "2024-04-11T00:00:00",
          "2024-04-10T00:00:00",
          "2024-04-09T00:00:00",
          "2024-04-08T00:00:00",
          "2024-04-05T00:00:00",
          "2024-04-04T00:00:00",
          "2024-04-03T00:00:00",
          "2024-04-02T00:00:00",
          "2024-04-01T00:00:00",
          "2024-03-28T00:00:00",
          "2024-03-27T00:00:00",
          "2024-03-26T00:00:00",
          "2024-03-25T00:00:00",
          "2024-03-22T00:00:00",
          "2024-03-21T00:00:00",
          "2024-03-20T00:00:00",
          "2024-03-19T00:00:00",
          "2024-03-18T00:00:00",
          "2024-03-15T00:00:00",
          "2024-03-14T00:00:00",
          "2024-03-13T00:00:00",
          "2024-03-12T00:00:00",
          "2024-03-11T00:00:00",
          "2024-03-08T00:00:00",
          "2024-03-07T00:00:00",
          "2024-03-06T00:00:00",
          "2024-03-05T00:00:00",
          "2024-03-04T00:00:00",
          "2024-03-01T00:00:00",
          "2024-02-29T00:00:00",
          "2024-02-28T00:00:00",
          "2024-02-27T00:00:00",
          "2024-02-26T00:00:00",
          "2024-02-23T00:00:00",
          "2024-02-22T00:00:00",
          "2024-02-21T00:00:00",
          "2024-02-20T00:00:00",
          "2024-02-16T00:00:00",
          "2024-02-15T00:00:00",
          "2024-02-14T00:00:00",
          "2024-02-13T00:00:00",
          "2024-02-12T00:00:00",
          "2024-02-09T00:00:00",
          "2024-02-08T00:00:00",
          "2024-02-07T00:00:00",
          "2024-02-06T00:00:00",
          "2024-02-05T00:00:00",
          "2024-02-02T00:00:00",
          "2024-02-01T00:00:00",
          "2024-01-31T00:00:00",
          "2024-01-30T00:00:00",
          "2024-01-29T00:00:00",
          "2024-01-26T00:00:00",
          "2024-01-25T00:00:00",
          "2024-01-24T00:00:00",
          "2024-01-23T00:00:00",
          "2024-01-22T00:00:00",
          "2024-01-19T00:00:00",
          "2024-01-18T00:00:00",
          "2024-01-17T00:00:00",
          "2024-01-16T00:00:00",
          "2024-01-12T00:00:00",
          "2024-01-11T00:00:00",
          "2024-01-10T00:00:00",
          "2024-01-09T00:00:00",
          "2024-01-08T00:00:00",
          "2024-01-05T00:00:00",
          "2024-01-04T00:00:00",
          "2024-01-03T00:00:00",
          "2024-01-02T00:00:00",
          "2023-12-29T00:00:00",
          "2023-12-28T00:00:00",
          "2023-12-27T00:00:00",
          "2023-12-26T00:00:00",
          "2024-05-17T00:00:00",
          "2024-05-16T00:00:00",
          "2024-05-15T00:00:00",
          "2024-05-14T00:00:00",
          "2024-05-13T00:00:00",
          "2024-05-10T00:00:00",
          "2024-05-09T00:00:00",
          "2024-05-08T00:00:00",
          "2024-05-07T00:00:00",
          "2024-05-06T00:00:00",
          "2024-05-03T00:00:00",
          "2024-05-02T00:00:00",
          "2024-05-01T00:00:00",
          "2024-04-30T00:00:00",
          "2024-04-29T00:00:00",
          "2024-04-26T00:00:00",
          "2024-04-25T00:00:00",
          "2024-04-24T00:00:00",
          "2024-04-23T00:00:00",
          "2024-04-22T00:00:00",
          "2024-04-19T00:00:00",
          "2024-04-18T00:00:00",
          "2024-04-17T00:00:00",
          "2024-04-16T00:00:00",
          "2024-04-15T00:00:00",
          "2024-04-12T00:00:00",
          "2024-04-11T00:00:00",
          "2024-04-10T00:00:00",
          "2024-04-09T00:00:00",
          "2024-04-08T00:00:00",
          "2024-04-05T00:00:00",
          "2024-04-04T00:00:00",
          "2024-04-03T00:00:00",
          "2024-04-02T00:00:00",
          "2024-04-01T00:00:00",
          "2024-03-28T00:00:00",
          "2024-03-27T00:00:00",
          "2024-03-26T00:00:00",
          "2024-03-25T00:00:00",
          "2024-03-22T00:00:00",
          "2024-03-21T00:00:00",
          "2024-03-20T00:00:00",
          "2024-03-19T00:00:00",
          "2024-03-18T00:00:00",
          "2024-03-15T00:00:00",
          "2024-03-14T00:00:00",
          "2024-03-13T00:00:00",
          "2024-03-12T00:00:00",
          "2024-03-11T00:00:00",
          "2024-03-08T00:00:00",
          "2024-03-07T00:00:00",
          "2024-03-06T00:00:00",
          "2024-03-05T00:00:00",
          "2024-03-04T00:00:00",
          "2024-03-01T00:00:00",
          "2024-02-29T00:00:00",
          "2024-02-28T00:00:00",
          "2024-02-27T00:00:00",
          "2024-02-26T00:00:00",
          "2024-02-23T00:00:00",
          "2024-02-22T00:00:00",
          "2024-02-21T00:00:00",
          "2024-02-20T00:00:00",
          "2024-02-16T00:00:00",
          "2024-02-15T00:00:00",
          "2024-02-14T00:00:00",
          "2024-02-13T00:00:00",
          "2024-02-12T00:00:00",
          "2024-02-09T00:00:00",
          "2024-02-08T00:00:00",
          "2024-02-07T00:00:00",
          "2024-02-06T00:00:00",
          "2024-02-05T00:00:00",
          "2024-02-02T00:00:00",
          "2024-02-01T00:00:00",
          "2024-01-31T00:00:00",
          "2024-01-30T00:00:00",
          "2024-01-29T00:00:00",
          "2024-01-26T00:00:00",
          "2024-01-25T00:00:00",
          "2024-01-24T00:00:00",
          "2024-01-23T00:00:00",
          "2024-01-22T00:00:00",
          "2024-01-19T00:00:00",
          "2024-01-18T00:00:00",
          "2024-01-17T00:00:00",
          "2024-01-16T00:00:00",
          "2024-01-12T00:00:00",
          "2024-01-11T00:00:00",
          "2024-01-10T00:00:00",
          "2024-01-09T00:00:00",
          "2024-01-08T00:00:00",
          "2024-01-05T00:00:00",
          "2024-01-04T00:00:00",
          "2024-01-03T00:00:00",
          "2024-01-02T00:00:00",
          "2023-12-29T00:00:00",
          "2023-12-28T00:00:00",
          "2023-12-27T00:00:00",
          "2023-12-26T00:00:00",
          "2024-05-17T00:00:00",
          "2024-05-16T00:00:00",
          "2024-05-15T00:00:00",
          "2024-05-14T00:00:00",
          "2024-05-13T00:00:00",
          "2024-05-10T00:00:00",
          "2024-05-09T00:00:00",
          "2024-05-08T00:00:00",
          "2024-05-07T00:00:00",
          "2024-05-06T00:00:00",
          "2024-05-03T00:00:00",
          "2024-05-02T00:00:00",
          "2024-05-01T00:00:00",
          "2024-04-30T00:00:00",
          "2024-04-29T00:00:00",
          "2024-04-26T00:00:00",
          "2024-04-25T00:00:00",
          "2024-04-24T00:00:00",
          "2024-04-23T00:00:00",
          "2024-04-22T00:00:00",
          "2024-04-19T00:00:00",
          "2024-04-18T00:00:00",
          "2024-04-17T00:00:00",
          "2024-04-16T00:00:00",
          "2024-04-15T00:00:00",
          "2024-04-12T00:00:00",
          "2024-04-11T00:00:00",
          "2024-04-10T00:00:00",
          "2024-04-09T00:00:00",
          "2024-04-08T00:00:00",
          "2024-04-05T00:00:00",
          "2024-04-04T00:00:00",
          "2024-04-03T00:00:00",
          "2024-04-02T00:00:00",
          "2024-04-01T00:00:00",
          "2024-03-28T00:00:00",
          "2024-03-27T00:00:00",
          "2024-03-26T00:00:00",
          "2024-03-25T00:00:00",
          "2024-03-22T00:00:00",
          "2024-03-21T00:00:00",
          "2024-03-20T00:00:00",
          "2024-03-19T00:00:00",
          "2024-03-18T00:00:00",
          "2024-03-15T00:00:00",
          "2024-03-14T00:00:00",
          "2024-03-13T00:00:00",
          "2024-03-12T00:00:00",
          "2024-03-11T00:00:00",
          "2024-03-08T00:00:00",
          "2024-03-07T00:00:00",
          "2024-03-06T00:00:00",
          "2024-03-05T00:00:00",
          "2024-03-04T00:00:00",
          "2024-03-01T00:00:00",
          "2024-02-29T00:00:00",
          "2024-02-28T00:00:00",
          "2024-02-27T00:00:00",
          "2024-02-26T00:00:00",
          "2024-02-23T00:00:00",
          "2024-02-22T00:00:00",
          "2024-02-21T00:00:00",
          "2024-02-20T00:00:00",
          "2024-02-16T00:00:00",
          "2024-02-15T00:00:00",
          "2024-02-14T00:00:00",
          "2024-02-13T00:00:00",
          "2024-02-12T00:00:00",
          "2024-02-09T00:00:00",
          "2024-02-08T00:00:00",
          "2024-02-07T00:00:00",
          "2024-02-06T00:00:00",
          "2024-02-05T00:00:00",
          "2024-02-02T00:00:00",
          "2024-02-01T00:00:00",
          "2024-01-31T00:00:00",
          "2024-01-30T00:00:00",
          "2024-01-29T00:00:00",
          "2024-01-26T00:00:00",
          "2024-01-25T00:00:00",
          "2024-01-24T00:00:00",
          "2024-01-23T00:00:00",
          "2024-01-22T00:00:00",
          "2024-01-19T00:00:00",
          "2024-01-18T00:00:00",
          "2024-01-17T00:00:00",
          "2024-01-16T00:00:00",
          "2024-01-12T00:00:00",
          "2024-01-11T00:00:00",
          "2024-01-10T00:00:00",
          "2024-01-09T00:00:00",
          "2024-01-08T00:00:00",
          "2024-01-05T00:00:00",
          "2024-01-04T00:00:00",
          "2024-01-03T00:00:00",
          "2024-01-02T00:00:00",
          "2023-12-29T00:00:00",
          "2023-12-28T00:00:00",
          "2023-12-27T00:00:00",
          "2023-12-26T00:00:00",
          "2024-05-17T00:00:00",
          "2024-05-16T00:00:00",
          "2024-05-15T00:00:00",
          "2024-05-14T00:00:00",
          "2024-05-13T00:00:00",
          "2024-05-10T00:00:00",
          "2024-05-09T00:00:00",
          "2024-05-08T00:00:00",
          "2024-05-07T00:00:00",
          "2024-05-06T00:00:00",
          "2024-05-03T00:00:00",
          "2024-05-02T00:00:00",
          "2024-05-01T00:00:00",
          "2024-04-30T00:00:00",
          "2024-04-29T00:00:00",
          "2024-04-26T00:00:00",
          "2024-04-25T00:00:00",
          "2024-04-24T00:00:00",
          "2024-04-23T00:00:00",
          "2024-04-22T00:00:00",
          "2024-04-19T00:00:00",
          "2024-04-18T00:00:00",
          "2024-04-17T00:00:00",
          "2024-04-16T00:00:00",
          "2024-04-15T00:00:00",
          "2024-04-12T00:00:00",
          "2024-04-11T00:00:00",
          "2024-04-10T00:00:00",
          "2024-04-09T00:00:00",
          "2024-04-08T00:00:00",
          "2024-04-05T00:00:00",
          "2024-04-04T00:00:00",
          "2024-04-03T00:00:00",
          "2024-04-02T00:00:00",
          "2024-04-01T00:00:00",
          "2024-03-28T00:00:00",
          "2024-03-27T00:00:00",
          "2024-03-26T00:00:00",
          "2024-03-25T00:00:00",
          "2024-03-22T00:00:00",
          "2024-03-21T00:00:00",
          "2024-03-20T00:00:00",
          "2024-03-19T00:00:00",
          "2024-03-18T00:00:00",
          "2024-03-15T00:00:00",
          "2024-03-14T00:00:00",
          "2024-03-13T00:00:00",
          "2024-03-12T00:00:00",
          "2024-03-11T00:00:00",
          "2024-03-08T00:00:00",
          "2024-03-07T00:00:00",
          "2024-03-06T00:00:00",
          "2024-03-05T00:00:00",
          "2024-03-04T00:00:00",
          "2024-03-01T00:00:00",
          "2024-02-29T00:00:00",
          "2024-02-28T00:00:00",
          "2024-02-27T00:00:00",
          "2024-02-26T00:00:00",
          "2024-02-23T00:00:00",
          "2024-02-22T00:00:00",
          "2024-02-21T00:00:00",
          "2024-02-20T00:00:00",
          "2024-02-16T00:00:00",
          "2024-02-15T00:00:00",
          "2024-02-14T00:00:00",
          "2024-02-13T00:00:00",
          "2024-02-12T00:00:00",
          "2024-02-09T00:00:00",
          "2024-02-08T00:00:00",
          "2024-02-07T00:00:00",
          "2024-02-06T00:00:00",
          "2024-02-05T00:00:00",
          "2024-02-02T00:00:00",
          "2024-02-01T00:00:00",
          "2024-01-31T00:00:00",
          "2024-01-30T00:00:00",
          "2024-01-29T00:00:00",
          "2024-01-26T00:00:00",
          "2024-01-25T00:00:00",
          "2024-01-24T00:00:00",
          "2024-01-23T00:00:00",
          "2024-01-22T00:00:00",
          "2024-01-19T00:00:00",
          "2024-01-18T00:00:00",
          "2024-01-17T00:00:00",
          "2024-01-16T00:00:00",
          "2024-01-12T00:00:00",
          "2024-01-11T00:00:00",
          "2024-01-10T00:00:00",
          "2024-01-09T00:00:00",
          "2024-01-08T00:00:00",
          "2024-01-05T00:00:00",
          "2024-01-04T00:00:00",
          "2024-01-03T00:00:00",
          "2024-01-02T00:00:00",
          "2023-12-29T00:00:00",
          "2023-12-28T00:00:00",
          "2023-12-27T00:00:00",
          "2023-12-26T00:00:00",
          "2024-05-17T00:00:00",
          "2024-05-16T00:00:00",
          "2024-05-15T00:00:00",
          "2024-05-14T00:00:00",
          "2024-05-13T00:00:00",
          "2024-05-10T00:00:00",
          "2024-05-09T00:00:00",
          "2024-05-08T00:00:00",
          "2024-05-07T00:00:00",
          "2024-05-06T00:00:00",
          "2024-05-03T00:00:00",
          "2024-05-02T00:00:00",
          "2024-05-01T00:00:00",
          "2024-04-30T00:00:00",
          "2024-04-29T00:00:00",
          "2024-04-26T00:00:00",
          "2024-04-25T00:00:00",
          "2024-04-24T00:00:00",
          "2024-04-23T00:00:00",
          "2024-04-22T00:00:00",
          "2024-04-19T00:00:00",
          "2024-04-18T00:00:00",
          "2024-04-17T00:00:00",
          "2024-04-16T00:00:00",
          "2024-04-15T00:00:00",
          "2024-04-12T00:00:00",
          "2024-04-11T00:00:00",
          "2024-04-10T00:00:00",
          "2024-04-09T00:00:00",
          "2024-04-08T00:00:00",
          "2024-04-05T00:00:00",
          "2024-04-04T00:00:00",
          "2024-04-03T00:00:00",
          "2024-04-02T00:00:00",
          "2024-04-01T00:00:00",
          "2024-03-28T00:00:00",
          "2024-03-27T00:00:00",
          "2024-03-26T00:00:00",
          "2024-03-25T00:00:00",
          "2024-03-22T00:00:00",
          "2024-03-21T00:00:00",
          "2024-03-20T00:00:00",
          "2024-03-19T00:00:00",
          "2024-03-18T00:00:00",
          "2024-03-15T00:00:00",
          "2024-03-14T00:00:00",
          "2024-03-13T00:00:00",
          "2024-03-12T00:00:00",
          "2024-03-11T00:00:00",
          "2024-03-08T00:00:00",
          "2024-03-07T00:00:00",
          "2024-03-06T00:00:00",
          "2024-03-05T00:00:00",
          "2024-03-04T00:00:00",
          "2024-03-01T00:00:00",
          "2024-02-29T00:00:00",
          "2024-02-28T00:00:00",
          "2024-02-27T00:00:00",
          "2024-02-26T00:00:00",
          "2024-02-23T00:00:00",
          "2024-02-22T00:00:00",
          "2024-02-21T00:00:00",
          "2024-02-20T00:00:00",
          "2024-02-16T00:00:00",
          "2024-02-15T00:00:00",
          "2024-02-14T00:00:00",
          "2024-02-13T00:00:00",
          "2024-02-12T00:00:00",
          "2024-02-09T00:00:00",
          "2024-02-08T00:00:00",
          "2024-02-07T00:00:00",
          "2024-02-06T00:00:00",
          "2024-02-05T00:00:00",
          "2024-02-02T00:00:00",
          "2024-02-01T00:00:00",
          "2024-01-31T00:00:00",
          "2024-01-30T00:00:00",
          "2024-01-29T00:00:00",
          "2024-01-26T00:00:00",
          "2024-01-25T00:00:00",
          "2024-01-24T00:00:00",
          "2024-01-23T00:00:00",
          "2024-01-22T00:00:00",
          "2024-01-19T00:00:00",
          "2024-01-18T00:00:00",
          "2024-01-17T00:00:00",
          "2024-01-16T00:00:00",
          "2024-01-12T00:00:00",
          "2024-01-11T00:00:00",
          "2024-01-10T00:00:00",
          "2024-01-09T00:00:00",
          "2024-01-08T00:00:00",
          "2024-01-05T00:00:00",
          "2024-01-04T00:00:00",
          "2024-01-03T00:00:00",
          "2024-01-02T00:00:00",
          "2023-12-29T00:00:00",
          "2023-12-28T00:00:00",
          "2023-12-27T00:00:00",
          "2023-12-26T00:00:00",
          "2024-05-17T00:00:00",
          "2024-05-16T00:00:00",
          "2024-05-15T00:00:00",
          "2024-05-14T00:00:00",
          "2024-05-13T00:00:00",
          "2024-05-10T00:00:00",
          "2024-05-09T00:00:00",
          "2024-05-08T00:00:00",
          "2024-05-07T00:00:00",
          "2024-05-06T00:00:00",
          "2024-05-03T00:00:00",
          "2024-05-02T00:00:00",
          "2024-05-01T00:00:00",
          "2024-04-30T00:00:00",
          "2024-04-29T00:00:00",
          "2024-04-26T00:00:00",
          "2024-04-25T00:00:00",
          "2024-04-24T00:00:00",
          "2024-04-23T00:00:00",
          "2024-04-22T00:00:00",
          "2024-04-19T00:00:00",
          "2024-04-18T00:00:00",
          "2024-04-17T00:00:00",
          "2024-04-16T00:00:00",
          "2024-04-15T00:00:00",
          "2024-04-12T00:00:00",
          "2024-04-11T00:00:00",
          "2024-04-10T00:00:00",
          "2024-04-09T00:00:00",
          "2024-04-08T00:00:00",
          "2024-04-05T00:00:00",
          "2024-04-04T00:00:00",
          "2024-04-03T00:00:00",
          "2024-04-02T00:00:00",
          "2024-04-01T00:00:00",
          "2024-03-28T00:00:00",
          "2024-03-27T00:00:00",
          "2024-03-26T00:00:00",
          "2024-03-25T00:00:00",
          "2024-03-22T00:00:00",
          "2024-03-21T00:00:00",
          "2024-03-20T00:00:00",
          "2024-03-19T00:00:00",
          "2024-03-18T00:00:00",
          "2024-03-15T00:00:00",
          "2024-03-14T00:00:00",
          "2024-03-13T00:00:00",
          "2024-03-12T00:00:00",
          "2024-03-11T00:00:00",
          "2024-03-08T00:00:00",
          "2024-03-07T00:00:00",
          "2024-03-06T00:00:00",
          "2024-03-05T00:00:00",
          "2024-03-04T00:00:00",
          "2024-03-01T00:00:00",
          "2024-02-29T00:00:00",
          "2024-02-28T00:00:00",
          "2024-02-27T00:00:00",
          "2024-02-26T00:00:00",
          "2024-02-23T00:00:00",
          "2024-02-22T00:00:00",
          "2024-02-21T00:00:00",
          "2024-02-20T00:00:00",
          "2024-02-16T00:00:00",
          "2024-02-15T00:00:00",
          "2024-02-14T00:00:00",
          "2024-02-13T00:00:00",
          "2024-02-12T00:00:00",
          "2024-02-09T00:00:00",
          "2024-02-08T00:00:00",
          "2024-02-07T00:00:00",
          "2024-02-06T00:00:00",
          "2024-02-05T00:00:00",
          "2024-02-02T00:00:00",
          "2024-02-01T00:00:00",
          "2024-01-31T00:00:00",
          "2024-01-30T00:00:00",
          "2024-01-29T00:00:00",
          "2024-01-26T00:00:00",
          "2024-01-25T00:00:00",
          "2024-01-24T00:00:00",
          "2024-01-23T00:00:00",
          "2024-01-22T00:00:00",
          "2024-01-19T00:00:00",
          "2024-01-18T00:00:00",
          "2024-01-17T00:00:00",
          "2024-01-16T00:00:00",
          "2024-01-12T00:00:00",
          "2024-01-11T00:00:00",
          "2024-01-10T00:00:00",
          "2024-01-09T00:00:00",
          "2024-01-08T00:00:00",
          "2024-01-05T00:00:00",
          "2024-01-04T00:00:00",
          "2024-01-03T00:00:00",
          "2024-01-02T00:00:00",
          "2023-12-29T00:00:00",
          "2023-12-28T00:00:00",
          "2023-12-27T00:00:00",
          "2023-12-26T00:00:00",
          "2024-05-17T00:00:00",
          "2024-05-16T00:00:00",
          "2024-05-15T00:00:00",
          "2024-05-14T00:00:00",
          "2024-05-13T00:00:00",
          "2024-05-10T00:00:00",
          "2024-05-09T00:00:00",
          "2024-05-08T00:00:00",
          "2024-05-07T00:00:00",
          "2024-05-06T00:00:00",
          "2024-05-03T00:00:00",
          "2024-05-02T00:00:00",
          "2024-05-01T00:00:00",
          "2024-04-30T00:00:00",
          "2024-04-29T00:00:00",
          "2024-04-26T00:00:00",
          "2024-04-25T00:00:00",
          "2024-04-24T00:00:00",
          "2024-04-23T00:00:00",
          "2024-04-22T00:00:00",
          "2024-04-19T00:00:00",
          "2024-04-18T00:00:00",
          "2024-04-17T00:00:00",
          "2024-04-16T00:00:00",
          "2024-04-15T00:00:00",
          "2024-04-12T00:00:00",
          "2024-04-11T00:00:00",
          "2024-04-10T00:00:00",
          "2024-04-09T00:00:00",
          "2024-04-08T00:00:00",
          "2024-04-05T00:00:00",
          "2024-04-04T00:00:00",
          "2024-04-03T00:00:00",
          "2024-04-02T00:00:00",
          "2024-04-01T00:00:00",
          "2024-03-28T00:00:00",
          "2024-03-27T00:00:00",
          "2024-03-26T00:00:00",
          "2024-03-25T00:00:00",
          "2024-03-22T00:00:00",
          "2024-03-21T00:00:00",
          "2024-03-20T00:00:00",
          "2024-03-19T00:00:00",
          "2024-03-18T00:00:00",
          "2024-03-15T00:00:00",
          "2024-03-14T00:00:00",
          "2024-03-13T00:00:00",
          "2024-03-12T00:00:00",
          "2024-03-11T00:00:00",
          "2024-03-08T00:00:00",
          "2024-03-07T00:00:00",
          "2024-03-06T00:00:00",
          "2024-03-05T00:00:00",
          "2024-03-04T00:00:00",
          "2024-03-01T00:00:00",
          "2024-02-29T00:00:00",
          "2024-02-28T00:00:00",
          "2024-02-27T00:00:00",
          "2024-02-26T00:00:00",
          "2024-02-23T00:00:00",
          "2024-02-22T00:00:00",
          "2024-02-21T00:00:00",
          "2024-02-20T00:00:00",
          "2024-02-16T00:00:00",
          "2024-02-15T00:00:00",
          "2024-02-14T00:00:00",
          "2024-02-13T00:00:00",
          "2024-02-12T00:00:00",
          "2024-02-09T00:00:00",
          "2024-02-08T00:00:00",
          "2024-02-07T00:00:00",
          "2024-02-06T00:00:00",
          "2024-02-05T00:00:00",
          "2024-02-02T00:00:00",
          "2024-02-01T00:00:00",
          "2024-01-31T00:00:00",
          "2024-01-30T00:00:00",
          "2024-01-29T00:00:00",
          "2024-01-26T00:00:00",
          "2024-01-25T00:00:00",
          "2024-01-24T00:00:00",
          "2024-01-23T00:00:00",
          "2024-01-22T00:00:00",
          "2024-01-19T00:00:00",
          "2024-01-18T00:00:00",
          "2024-01-17T00:00:00",
          "2024-01-16T00:00:00",
          "2024-01-12T00:00:00",
          "2024-01-11T00:00:00",
          "2024-01-10T00:00:00",
          "2024-01-09T00:00:00",
          "2024-01-08T00:00:00",
          "2024-01-05T00:00:00",
          "2024-01-04T00:00:00",
          "2024-01-03T00:00:00",
          "2024-01-02T00:00:00",
          "2023-12-29T00:00:00",
          "2023-12-28T00:00:00",
          "2023-12-27T00:00:00",
          "2023-12-26T00:00:00",
          "2024-05-17T00:00:00",
          "2024-05-16T00:00:00",
          "2024-05-15T00:00:00",
          "2024-05-14T00:00:00",
          "2024-05-13T00:00:00",
          "2024-05-10T00:00:00",
          "2024-05-09T00:00:00",
          "2024-05-08T00:00:00",
          "2024-05-07T00:00:00",
          "2024-05-06T00:00:00",
          "2024-05-03T00:00:00",
          "2024-05-02T00:00:00",
          "2024-05-01T00:00:00",
          "2024-04-30T00:00:00",
          "2024-04-29T00:00:00",
          "2024-04-26T00:00:00",
          "2024-04-25T00:00:00",
          "2024-04-24T00:00:00",
          "2024-04-23T00:00:00",
          "2024-04-22T00:00:00",
          "2024-04-19T00:00:00",
          "2024-04-18T00:00:00",
          "2024-04-17T00:00:00",
          "2024-04-16T00:00:00",
          "2024-04-15T00:00:00",
          "2024-04-12T00:00:00",
          "2024-04-11T00:00:00",
          "2024-04-10T00:00:00",
          "2024-04-09T00:00:00",
          "2024-04-08T00:00:00",
          "2024-04-05T00:00:00",
          "2024-04-04T00:00:00",
          "2024-04-03T00:00:00",
          "2024-04-02T00:00:00",
          "2024-04-01T00:00:00",
          "2024-03-28T00:00:00",
          "2024-03-27T00:00:00",
          "2024-03-26T00:00:00",
          "2024-03-25T00:00:00",
          "2024-03-22T00:00:00",
          "2024-03-21T00:00:00",
          "2024-03-20T00:00:00",
          "2024-03-19T00:00:00",
          "2024-03-18T00:00:00",
          "2024-03-15T00:00:00",
          "2024-03-14T00:00:00",
          "2024-03-13T00:00:00",
          "2024-03-12T00:00:00",
          "2024-03-11T00:00:00",
          "2024-03-08T00:00:00",
          "2024-03-07T00:00:00",
          "2024-03-06T00:00:00",
          "2024-03-05T00:00:00",
          "2024-03-04T00:00:00",
          "2024-03-01T00:00:00",
          "2024-02-29T00:00:00",
          "2024-02-28T00:00:00",
          "2024-02-27T00:00:00",
          "2024-02-26T00:00:00",
          "2024-02-23T00:00:00",
          "2024-02-22T00:00:00",
          "2024-02-21T00:00:00",
          "2024-02-20T00:00:00",
          "2024-02-16T00:00:00",
          "2024-02-15T00:00:00",
          "2024-02-14T00:00:00",
          "2024-02-13T00:00:00",
          "2024-02-12T00:00:00",
          "2024-02-09T00:00:00",
          "2024-02-08T00:00:00",
          "2024-02-07T00:00:00",
          "2024-02-06T00:00:00",
          "2024-02-05T00:00:00",
          "2024-02-02T00:00:00",
          "2024-02-01T00:00:00",
          "2024-01-31T00:00:00",
          "2024-01-30T00:00:00",
          "2024-01-29T00:00:00",
          "2024-01-26T00:00:00",
          "2024-01-25T00:00:00",
          "2024-01-24T00:00:00",
          "2024-01-23T00:00:00",
          "2024-01-22T00:00:00",
          "2024-01-19T00:00:00",
          "2024-01-18T00:00:00",
          "2024-01-17T00:00:00",
          "2024-01-16T00:00:00",
          "2024-01-12T00:00:00",
          "2024-01-11T00:00:00",
          "2024-01-10T00:00:00",
          "2024-01-09T00:00:00",
          "2024-01-08T00:00:00",
          "2024-01-05T00:00:00",
          "2024-01-04T00:00:00",
          "2024-01-03T00:00:00",
          "2024-01-02T00:00:00",
          "2023-12-29T00:00:00",
          "2023-12-28T00:00:00",
          "2023-12-27T00:00:00",
          "2023-12-26T00:00:00",
          "2024-05-17T00:00:00",
          "2024-05-16T00:00:00",
          "2024-05-15T00:00:00",
          "2024-05-14T00:00:00",
          "2024-05-13T00:00:00",
          "2024-05-10T00:00:00",
          "2024-05-09T00:00:00",
          "2024-05-08T00:00:00",
          "2024-05-07T00:00:00",
          "2024-05-06T00:00:00",
          "2024-05-03T00:00:00",
          "2024-05-02T00:00:00",
          "2024-05-01T00:00:00",
          "2024-04-30T00:00:00",
          "2024-04-29T00:00:00",
          "2024-04-26T00:00:00",
          "2024-04-25T00:00:00",
          "2024-04-24T00:00:00",
          "2024-04-23T00:00:00",
          "2024-04-22T00:00:00",
          "2024-04-19T00:00:00",
          "2024-04-18T00:00:00",
          "2024-04-17T00:00:00",
          "2024-04-16T00:00:00",
          "2024-04-15T00:00:00",
          "2024-04-12T00:00:00",
          "2024-04-11T00:00:00",
          "2024-04-10T00:00:00",
          "2024-04-09T00:00:00",
          "2024-04-08T00:00:00",
          "2024-04-05T00:00:00",
          "2024-04-04T00:00:00",
          "2024-04-03T00:00:00",
          "2024-04-02T00:00:00",
          "2024-04-01T00:00:00",
          "2024-03-28T00:00:00",
          "2024-03-27T00:00:00",
          "2024-03-26T00:00:00",
          "2024-03-25T00:00:00",
          "2024-03-22T00:00:00",
          "2024-03-21T00:00:00",
          "2024-03-20T00:00:00",
          "2024-03-19T00:00:00",
          "2024-03-18T00:00:00",
          "2024-03-15T00:00:00",
          "2024-03-14T00:00:00",
          "2024-03-13T00:00:00",
          "2024-03-12T00:00:00",
          "2024-03-11T00:00:00",
          "2024-03-08T00:00:00",
          "2024-03-07T00:00:00",
          "2024-03-06T00:00:00",
          "2024-03-05T00:00:00",
          "2024-03-04T00:00:00",
          "2024-03-01T00:00:00",
          "2024-02-29T00:00:00",
          "2024-02-28T00:00:00",
          "2024-02-27T00:00:00",
          "2024-02-26T00:00:00",
          "2024-02-23T00:00:00",
          "2024-02-22T00:00:00",
          "2024-02-21T00:00:00",
          "2024-02-20T00:00:00",
          "2024-02-16T00:00:00",
          "2024-02-15T00:00:00",
          "2024-02-14T00:00:00",
          "2024-02-13T00:00:00",
          "2024-02-12T00:00:00",
          "2024-02-09T00:00:00",
          "2024-02-08T00:00:00",
          "2024-02-07T00:00:00",
          "2024-02-06T00:00:00",
          "2024-02-05T00:00:00",
          "2024-02-02T00:00:00",
          "2024-02-01T00:00:00",
          "2024-01-31T00:00:00",
          "2024-01-30T00:00:00",
          "2024-01-29T00:00:00",
          "2024-01-26T00:00:00",
          "2024-01-25T00:00:00",
          "2024-01-24T00:00:00",
          "2024-01-23T00:00:00",
          "2024-01-22T00:00:00",
          "2024-01-19T00:00:00",
          "2024-01-18T00:00:00",
          "2024-01-17T00:00:00",
          "2024-01-16T00:00:00",
          "2024-01-12T00:00:00",
          "2024-01-11T00:00:00",
          "2024-01-10T00:00:00",
          "2024-01-09T00:00:00",
          "2024-01-08T00:00:00",
          "2024-01-05T00:00:00",
          "2024-01-04T00:00:00",
          "2024-01-03T00:00:00",
          "2024-01-02T00:00:00",
          "2023-12-29T00:00:00",
          "2023-12-28T00:00:00",
          "2023-12-27T00:00:00",
          "2023-12-26T00:00:00",
          "2024-05-17T00:00:00",
          "2024-05-16T00:00:00",
          "2024-05-15T00:00:00",
          "2024-05-14T00:00:00",
          "2024-05-13T00:00:00",
          "2024-05-10T00:00:00",
          "2024-05-09T00:00:00",
          "2024-05-08T00:00:00",
          "2024-05-07T00:00:00",
          "2024-05-06T00:00:00",
          "2024-05-03T00:00:00",
          "2024-05-02T00:00:00",
          "2024-05-01T00:00:00",
          "2024-04-30T00:00:00",
          "2024-04-29T00:00:00",
          "2024-04-26T00:00:00",
          "2024-04-25T00:00:00",
          "2024-04-24T00:00:00",
          "2024-04-23T00:00:00",
          "2024-04-22T00:00:00",
          "2024-04-19T00:00:00",
          "2024-04-18T00:00:00",
          "2024-04-17T00:00:00",
          "2024-04-16T00:00:00",
          "2024-04-15T00:00:00",
          "2024-04-12T00:00:00",
          "2024-04-11T00:00:00",
          "2024-04-10T00:00:00",
          "2024-04-09T00:00:00",
          "2024-04-08T00:00:00",
          "2024-04-05T00:00:00",
          "2024-04-04T00:00:00",
          "2024-04-03T00:00:00",
          "2024-04-02T00:00:00",
          "2024-04-01T00:00:00",
          "2024-03-28T00:00:00",
          "2024-03-27T00:00:00",
          "2024-03-26T00:00:00",
          "2024-03-25T00:00:00",
          "2024-03-22T00:00:00",
          "2024-03-21T00:00:00",
          "2024-03-20T00:00:00",
          "2024-03-19T00:00:00",
          "2024-03-18T00:00:00",
          "2024-03-15T00:00:00",
          "2024-03-14T00:00:00",
          "2024-03-13T00:00:00",
          "2024-03-12T00:00:00",
          "2024-03-11T00:00:00",
          "2024-03-08T00:00:00",
          "2024-03-07T00:00:00",
          "2024-03-06T00:00:00",
          "2024-03-05T00:00:00",
          "2024-03-04T00:00:00",
          "2024-03-01T00:00:00",
          "2024-02-29T00:00:00",
          "2024-02-28T00:00:00",
          "2024-02-27T00:00:00",
          "2024-02-26T00:00:00",
          "2024-02-23T00:00:00",
          "2024-02-22T00:00:00",
          "2024-02-21T00:00:00",
          "2024-02-20T00:00:00",
          "2024-02-16T00:00:00",
          "2024-02-15T00:00:00",
          "2024-02-14T00:00:00",
          "2024-02-13T00:00:00",
          "2024-02-12T00:00:00",
          "2024-02-09T00:00:00",
          "2024-02-08T00:00:00",
          "2024-02-07T00:00:00",
          "2024-02-06T00:00:00",
          "2024-02-05T00:00:00",
          "2024-02-02T00:00:00",
          "2024-02-01T00:00:00",
          "2024-01-31T00:00:00",
          "2024-01-30T00:00:00",
          "2024-01-29T00:00:00",
          "2024-01-26T00:00:00",
          "2024-01-25T00:00:00",
          "2024-01-24T00:00:00",
          "2024-01-23T00:00:00",
          "2024-01-22T00:00:00",
          "2024-01-19T00:00:00",
          "2024-01-18T00:00:00",
          "2024-01-17T00:00:00",
          "2024-01-16T00:00:00",
          "2024-01-12T00:00:00",
          "2024-01-11T00:00:00",
          "2024-01-10T00:00:00",
          "2024-01-09T00:00:00",
          "2024-01-08T00:00:00",
          "2024-01-05T00:00:00",
          "2024-01-04T00:00:00",
          "2024-01-03T00:00:00",
          "2024-01-02T00:00:00",
          "2023-12-29T00:00:00",
          "2023-12-28T00:00:00",
          "2023-12-27T00:00:00",
          "2023-12-26T00:00:00",
          "2024-05-17T00:00:00",
          "2024-05-16T00:00:00",
          "2024-05-15T00:00:00",
          "2024-05-14T00:00:00",
          "2024-05-13T00:00:00",
          "2024-05-10T00:00:00",
          "2024-05-09T00:00:00",
          "2024-05-08T00:00:00",
          "2024-05-07T00:00:00",
          "2024-05-06T00:00:00",
          "2024-05-03T00:00:00",
          "2024-05-02T00:00:00",
          "2024-05-01T00:00:00",
          "2024-04-30T00:00:00",
          "2024-04-29T00:00:00",
          "2024-04-26T00:00:00",
          "2024-04-25T00:00:00",
          "2024-04-24T00:00:00",
          "2024-04-23T00:00:00",
          "2024-04-22T00:00:00",
          "2024-04-19T00:00:00",
          "2024-04-18T00:00:00",
          "2024-04-17T00:00:00",
          "2024-04-16T00:00:00",
          "2024-04-15T00:00:00",
          "2024-04-12T00:00:00",
          "2024-04-11T00:00:00",
          "2024-04-10T00:00:00",
          "2024-04-09T00:00:00",
          "2024-04-08T00:00:00",
          "2024-04-05T00:00:00",
          "2024-04-04T00:00:00",
          "2024-04-03T00:00:00",
          "2024-04-02T00:00:00",
          "2024-04-01T00:00:00",
          "2024-03-28T00:00:00",
          "2024-03-27T00:00:00",
          "2024-03-26T00:00:00",
          "2024-03-25T00:00:00",
          "2024-03-22T00:00:00",
          "2024-03-21T00:00:00",
          "2024-03-20T00:00:00",
          "2024-03-19T00:00:00",
          "2024-03-18T00:00:00",
          "2024-03-15T00:00:00",
          "2024-03-14T00:00:00",
          "2024-03-13T00:00:00",
          "2024-03-12T00:00:00",
          "2024-03-11T00:00:00",
          "2024-03-08T00:00:00",
          "2024-03-07T00:00:00",
          "2024-03-06T00:00:00",
          "2024-03-05T00:00:00",
          "2024-03-04T00:00:00",
          "2024-03-01T00:00:00",
          "2024-02-29T00:00:00",
          "2024-02-28T00:00:00",
          "2024-02-27T00:00:00",
          "2024-02-26T00:00:00",
          "2024-02-23T00:00:00",
          "2024-02-22T00:00:00",
          "2024-02-21T00:00:00",
          "2024-02-20T00:00:00",
          "2024-02-16T00:00:00",
          "2024-02-15T00:00:00",
          "2024-02-14T00:00:00",
          "2024-02-13T00:00:00",
          "2024-02-12T00:00:00",
          "2024-02-09T00:00:00",
          "2024-02-08T00:00:00",
          "2024-02-07T00:00:00",
          "2024-02-06T00:00:00",
          "2024-02-05T00:00:00",
          "2024-02-02T00:00:00",
          "2024-02-01T00:00:00",
          "2024-01-31T00:00:00",
          "2024-01-30T00:00:00",
          "2024-01-29T00:00:00",
          "2024-01-26T00:00:00",
          "2024-01-25T00:00:00",
          "2024-01-24T00:00:00",
          "2024-01-23T00:00:00",
          "2024-01-22T00:00:00",
          "2024-01-19T00:00:00",
          "2024-01-18T00:00:00",
          "2024-01-17T00:00:00",
          "2024-01-16T00:00:00",
          "2024-01-12T00:00:00",
          "2024-01-11T00:00:00",
          "2024-01-10T00:00:00",
          "2024-01-09T00:00:00",
          "2024-01-08T00:00:00",
          "2024-01-05T00:00:00",
          "2024-01-04T00:00:00",
          "2024-01-03T00:00:00",
          "2024-01-02T00:00:00",
          "2023-12-29T00:00:00",
          "2023-12-28T00:00:00",
          "2023-12-27T00:00:00",
          "2023-12-26T00:00:00",
          "2024-05-17T00:00:00",
          "2024-05-16T00:00:00",
          "2024-05-15T00:00:00",
          "2024-05-14T00:00:00",
          "2024-05-13T00:00:00",
          "2024-05-10T00:00:00",
          "2024-05-09T00:00:00",
          "2024-05-08T00:00:00",
          "2024-05-07T00:00:00",
          "2024-05-06T00:00:00",
          "2024-05-03T00:00:00",
          "2024-05-02T00:00:00",
          "2024-05-01T00:00:00",
          "2024-04-30T00:00:00",
          "2024-04-29T00:00:00",
          "2024-04-26T00:00:00",
          "2024-04-25T00:00:00",
          "2024-04-24T00:00:00",
          "2024-04-23T00:00:00",
          "2024-04-22T00:00:00",
          "2024-04-19T00:00:00",
          "2024-04-18T00:00:00",
          "2024-04-17T00:00:00",
          "2024-04-16T00:00:00",
          "2024-04-15T00:00:00",
          "2024-04-12T00:00:00",
          "2024-04-11T00:00:00",
          "2024-04-10T00:00:00",
          "2024-04-09T00:00:00",
          "2024-04-08T00:00:00",
          "2024-04-05T00:00:00",
          "2024-04-04T00:00:00",
          "2024-04-03T00:00:00",
          "2024-04-02T00:00:00",
          "2024-04-01T00:00:00",
          "2024-03-28T00:00:00",
          "2024-03-27T00:00:00",
          "2024-03-26T00:00:00",
          "2024-03-25T00:00:00",
          "2024-03-22T00:00:00",
          "2024-03-21T00:00:00",
          "2024-03-20T00:00:00",
          "2024-03-19T00:00:00",
          "2024-03-18T00:00:00",
          "2024-03-15T00:00:00",
          "2024-03-14T00:00:00",
          "2024-03-13T00:00:00",
          "2024-03-12T00:00:00",
          "2024-03-11T00:00:00",
          "2024-03-08T00:00:00",
          "2024-03-07T00:00:00",
          "2024-03-06T00:00:00",
          "2024-03-05T00:00:00",
          "2024-03-04T00:00:00",
          "2024-03-01T00:00:00",
          "2024-02-29T00:00:00",
          "2024-02-28T00:00:00",
          "2024-02-27T00:00:00",
          "2024-02-26T00:00:00",
          "2024-02-23T00:00:00",
          "2024-02-22T00:00:00",
          "2024-02-21T00:00:00",
          "2024-02-20T00:00:00",
          "2024-02-16T00:00:00",
          "2024-02-15T00:00:00",
          "2024-02-14T00:00:00",
          "2024-02-13T00:00:00",
          "2024-02-12T00:00:00",
          "2024-02-09T00:00:00",
          "2024-02-08T00:00:00",
          "2024-02-07T00:00:00",
          "2024-02-06T00:00:00",
          "2024-02-05T00:00:00",
          "2024-02-02T00:00:00",
          "2024-02-01T00:00:00",
          "2024-01-31T00:00:00",
          "2024-01-30T00:00:00",
          "2024-01-29T00:00:00",
          "2024-01-26T00:00:00",
          "2024-01-25T00:00:00",
          "2024-01-24T00:00:00",
          "2024-01-23T00:00:00",
          "2024-01-22T00:00:00",
          "2024-01-19T00:00:00",
          "2024-01-18T00:00:00",
          "2024-01-17T00:00:00",
          "2024-01-16T00:00:00",
          "2024-01-12T00:00:00",
          "2024-01-11T00:00:00",
          "2024-01-10T00:00:00",
          "2024-01-09T00:00:00",
          "2024-01-08T00:00:00",
          "2024-01-05T00:00:00",
          "2024-01-04T00:00:00",
          "2024-01-03T00:00:00",
          "2024-01-02T00:00:00",
          "2023-12-29T00:00:00",
          "2023-12-28T00:00:00",
          "2023-12-27T00:00:00",
          "2023-12-26T00:00:00",
          "2024-05-17T00:00:00",
          "2024-05-16T00:00:00",
          "2024-05-15T00:00:00",
          "2024-05-14T00:00:00",
          "2024-05-13T00:00:00",
          "2024-05-10T00:00:00",
          "2024-05-09T00:00:00",
          "2024-05-08T00:00:00",
          "2024-05-07T00:00:00",
          "2024-05-06T00:00:00",
          "2024-05-03T00:00:00",
          "2024-05-02T00:00:00",
          "2024-05-01T00:00:00",
          "2024-04-30T00:00:00",
          "2024-04-29T00:00:00",
          "2024-04-26T00:00:00",
          "2024-04-25T00:00:00",
          "2024-04-24T00:00:00",
          "2024-04-23T00:00:00",
          "2024-04-22T00:00:00",
          "2024-04-19T00:00:00",
          "2024-04-18T00:00:00",
          "2024-04-17T00:00:00",
          "2024-04-16T00:00:00",
          "2024-04-15T00:00:00",
          "2024-04-12T00:00:00",
          "2024-04-11T00:00:00",
          "2024-04-10T00:00:00",
          "2024-04-09T00:00:00",
          "2024-04-08T00:00:00",
          "2024-04-05T00:00:00",
          "2024-04-04T00:00:00",
          "2024-04-03T00:00:00",
          "2024-04-02T00:00:00",
          "2024-04-01T00:00:00",
          "2024-03-28T00:00:00",
          "2024-03-27T00:00:00",
          "2024-03-26T00:00:00",
          "2024-03-25T00:00:00",
          "2024-03-22T00:00:00",
          "2024-03-21T00:00:00",
          "2024-03-20T00:00:00",
          "2024-03-19T00:00:00",
          "2024-03-18T00:00:00",
          "2024-03-15T00:00:00",
          "2024-03-14T00:00:00",
          "2024-03-13T00:00:00",
          "2024-03-12T00:00:00",
          "2024-03-11T00:00:00",
          "2024-03-08T00:00:00",
          "2024-03-07T00:00:00",
          "2024-03-06T00:00:00",
          "2024-03-05T00:00:00",
          "2024-03-04T00:00:00",
          "2024-03-01T00:00:00",
          "2024-02-29T00:00:00",
          "2024-02-28T00:00:00",
          "2024-02-27T00:00:00",
          "2024-02-26T00:00:00",
          "2024-02-23T00:00:00",
          "2024-02-22T00:00:00",
          "2024-02-21T00:00:00",
          "2024-02-20T00:00:00",
          "2024-02-16T00:00:00",
          "2024-02-15T00:00:00",
          "2024-02-14T00:00:00",
          "2024-02-13T00:00:00",
          "2024-02-12T00:00:00",
          "2024-02-09T00:00:00",
          "2024-02-08T00:00:00",
          "2024-02-07T00:00:00",
          "2024-02-06T00:00:00",
          "2024-02-05T00:00:00",
          "2024-02-02T00:00:00",
          "2024-02-01T00:00:00",
          "2024-01-31T00:00:00",
          "2024-01-30T00:00:00",
          "2024-01-29T00:00:00",
          "2024-01-26T00:00:00",
          "2024-01-25T00:00:00",
          "2024-01-24T00:00:00",
          "2024-01-23T00:00:00",
          "2024-01-22T00:00:00",
          "2024-01-19T00:00:00",
          "2024-01-18T00:00:00",
          "2024-01-17T00:00:00",
          "2024-01-16T00:00:00",
          "2024-01-12T00:00:00",
          "2024-01-11T00:00:00",
          "2024-01-10T00:00:00",
          "2024-01-09T00:00:00",
          "2024-01-08T00:00:00",
          "2024-01-05T00:00:00",
          "2024-01-04T00:00:00",
          "2024-01-03T00:00:00",
          "2024-01-02T00:00:00",
          "2023-12-29T00:00:00",
          "2023-12-28T00:00:00",
          "2023-12-27T00:00:00",
          "2023-12-26T00:00:00",
          "2024-05-17T00:00:00",
          "2024-05-16T00:00:00",
          "2024-05-15T00:00:00",
          "2024-05-14T00:00:00",
          "2024-05-13T00:00:00",
          "2024-05-10T00:00:00",
          "2024-05-09T00:00:00",
          "2024-05-08T00:00:00",
          "2024-05-07T00:00:00",
          "2024-05-06T00:00:00",
          "2024-05-03T00:00:00",
          "2024-05-02T00:00:00",
          "2024-05-01T00:00:00",
          "2024-04-30T00:00:00",
          "2024-04-29T00:00:00",
          "2024-04-26T00:00:00",
          "2024-04-25T00:00:00",
          "2024-04-24T00:00:00",
          "2024-04-23T00:00:00",
          "2024-04-22T00:00:00",
          "2024-04-19T00:00:00",
          "2024-04-18T00:00:00",
          "2024-04-17T00:00:00",
          "2024-04-16T00:00:00",
          "2024-04-15T00:00:00",
          "2024-04-12T00:00:00",
          "2024-04-11T00:00:00",
          "2024-04-10T00:00:00",
          "2024-04-09T00:00:00",
          "2024-04-08T00:00:00",
          "2024-04-05T00:00:00",
          "2024-04-04T00:00:00",
          "2024-04-03T00:00:00",
          "2024-04-02T00:00:00",
          "2024-04-01T00:00:00",
          "2024-03-28T00:00:00",
          "2024-03-27T00:00:00",
          "2024-03-26T00:00:00",
          "2024-03-25T00:00:00",
          "2024-03-22T00:00:00",
          "2024-03-21T00:00:00",
          "2024-03-20T00:00:00",
          "2024-03-19T00:00:00",
          "2024-03-18T00:00:00",
          "2024-03-15T00:00:00",
          "2024-03-14T00:00:00",
          "2024-03-13T00:00:00",
          "2024-03-12T00:00:00",
          "2024-03-11T00:00:00",
          "2024-03-08T00:00:00",
          "2024-03-07T00:00:00",
          "2024-03-06T00:00:00",
          "2024-03-05T00:00:00",
          "2024-03-04T00:00:00",
          "2024-03-01T00:00:00",
          "2024-02-29T00:00:00",
          "2024-02-28T00:00:00",
          "2024-02-27T00:00:00",
          "2024-02-26T00:00:00",
          "2024-02-23T00:00:00",
          "2024-02-22T00:00:00",
          "2024-02-21T00:00:00",
          "2024-02-20T00:00:00",
          "2024-02-16T00:00:00",
          "2024-02-15T00:00:00",
          "2024-02-14T00:00:00",
          "2024-02-13T00:00:00",
          "2024-02-12T00:00:00",
          "2024-02-09T00:00:00",
          "2024-02-08T00:00:00",
          "2024-02-07T00:00:00",
          "2024-02-06T00:00:00",
          "2024-02-05T00:00:00",
          "2024-02-02T00:00:00",
          "2024-02-01T00:00:00",
          "2024-01-31T00:00:00",
          "2024-01-30T00:00:00",
          "2024-01-29T00:00:00",
          "2024-01-26T00:00:00",
          "2024-01-25T00:00:00",
          "2024-01-24T00:00:00",
          "2024-01-23T00:00:00",
          "2024-01-22T00:00:00",
          "2024-01-19T00:00:00",
          "2024-01-18T00:00:00",
          "2024-01-17T00:00:00",
          "2024-01-16T00:00:00",
          "2024-01-12T00:00:00",
          "2024-01-11T00:00:00",
          "2024-01-10T00:00:00",
          "2024-01-09T00:00:00",
          "2024-01-08T00:00:00",
          "2024-01-05T00:00:00",
          "2024-01-04T00:00:00",
          "2024-01-03T00:00:00",
          "2024-01-02T00:00:00",
          "2023-12-29T00:00:00",
          "2023-12-28T00:00:00",
          "2023-12-27T00:00:00",
          "2023-12-26T00:00:00",
          "2024-05-17T00:00:00",
          "2024-05-16T00:00:00",
          "2024-05-15T00:00:00",
          "2024-05-14T00:00:00",
          "2024-05-13T00:00:00",
          "2024-05-10T00:00:00",
          "2024-05-09T00:00:00",
          "2024-05-08T00:00:00",
          "2024-05-07T00:00:00",
          "2024-05-06T00:00:00",
          "2024-05-03T00:00:00",
          "2024-05-02T00:00:00",
          "2024-05-01T00:00:00",
          "2024-04-30T00:00:00",
          "2024-04-29T00:00:00",
          "2024-04-26T00:00:00",
          "2024-04-25T00:00:00",
          "2024-04-24T00:00:00",
          "2024-04-23T00:00:00",
          "2024-04-22T00:00:00",
          "2024-04-19T00:00:00",
          "2024-04-18T00:00:00",
          "2024-04-17T00:00:00",
          "2024-04-16T00:00:00",
          "2024-04-15T00:00:00",
          "2024-04-12T00:00:00",
          "2024-04-11T00:00:00",
          "2024-04-10T00:00:00",
          "2024-04-09T00:00:00",
          "2024-04-08T00:00:00",
          "2024-04-05T00:00:00",
          "2024-04-04T00:00:00",
          "2024-04-03T00:00:00",
          "2024-04-02T00:00:00",
          "2024-04-01T00:00:00",
          "2024-03-28T00:00:00",
          "2024-03-27T00:00:00",
          "2024-03-26T00:00:00",
          "2024-03-25T00:00:00",
          "2024-03-22T00:00:00",
          "2024-03-21T00:00:00",
          "2024-03-20T00:00:00",
          "2024-03-19T00:00:00",
          "2024-03-18T00:00:00",
          "2024-03-15T00:00:00",
          "2024-03-14T00:00:00",
          "2024-03-13T00:00:00",
          "2024-03-12T00:00:00",
          "2024-03-11T00:00:00",
          "2024-03-08T00:00:00",
          "2024-03-07T00:00:00",
          "2024-03-06T00:00:00",
          "2024-03-05T00:00:00",
          "2024-03-04T00:00:00",
          "2024-03-01T00:00:00",
          "2024-02-29T00:00:00",
          "2024-02-28T00:00:00",
          "2024-02-27T00:00:00",
          "2024-02-26T00:00:00",
          "2024-02-23T00:00:00",
          "2024-02-22T00:00:00",
          "2024-02-21T00:00:00",
          "2024-02-20T00:00:00",
          "2024-02-16T00:00:00",
          "2024-02-15T00:00:00",
          "2024-02-14T00:00:00",
          "2024-02-13T00:00:00",
          "2024-02-12T00:00:00",
          "2024-02-09T00:00:00",
          "2024-02-08T00:00:00",
          "2024-02-07T00:00:00",
          "2024-02-06T00:00:00",
          "2024-02-05T00:00:00",
          "2024-02-02T00:00:00",
          "2024-02-01T00:00:00",
          "2024-01-31T00:00:00",
          "2024-01-30T00:00:00",
          "2024-01-29T00:00:00",
          "2024-01-26T00:00:00",
          "2024-01-25T00:00:00",
          "2024-01-24T00:00:00",
          "2024-01-23T00:00:00",
          "2024-01-22T00:00:00",
          "2024-01-19T00:00:00",
          "2024-01-18T00:00:00",
          "2024-01-17T00:00:00",
          "2024-01-16T00:00:00",
          "2024-01-12T00:00:00",
          "2024-01-11T00:00:00",
          "2024-01-10T00:00:00",
          "2024-01-09T00:00:00",
          "2024-01-08T00:00:00",
          "2024-01-05T00:00:00",
          "2024-01-04T00:00:00",
          "2024-01-03T00:00:00",
          "2024-01-02T00:00:00",
          "2023-12-29T00:00:00",
          "2023-12-28T00:00:00",
          "2023-12-27T00:00:00",
          "2023-12-26T00:00:00",
          "2024-05-17T00:00:00",
          "2024-05-16T00:00:00",
          "2024-05-15T00:00:00",
          "2024-05-14T00:00:00",
          "2024-05-13T00:00:00",
          "2024-05-10T00:00:00",
          "2024-05-09T00:00:00",
          "2024-05-08T00:00:00",
          "2024-05-07T00:00:00",
          "2024-05-06T00:00:00",
          "2024-05-03T00:00:00",
          "2024-05-02T00:00:00",
          "2024-05-01T00:00:00",
          "2024-04-30T00:00:00",
          "2024-04-29T00:00:00",
          "2024-04-26T00:00:00",
          "2024-04-25T00:00:00",
          "2024-04-24T00:00:00",
          "2024-04-23T00:00:00",
          "2024-04-22T00:00:00",
          "2024-04-19T00:00:00",
          "2024-04-18T00:00:00",
          "2024-04-17T00:00:00",
          "2024-04-16T00:00:00",
          "2024-04-15T00:00:00",
          "2024-04-12T00:00:00",
          "2024-04-11T00:00:00",
          "2024-04-10T00:00:00",
          "2024-04-09T00:00:00",
          "2024-04-08T00:00:00",
          "2024-04-05T00:00:00",
          "2024-04-04T00:00:00",
          "2024-04-03T00:00:00",
          "2024-04-02T00:00:00",
          "2024-04-01T00:00:00",
          "2024-03-28T00:00:00",
          "2024-03-27T00:00:00",
          "2024-03-26T00:00:00",
          "2024-03-25T00:00:00",
          "2024-03-22T00:00:00",
          "2024-03-21T00:00:00",
          "2024-03-20T00:00:00",
          "2024-03-19T00:00:00",
          "2024-03-18T00:00:00",
          "2024-03-15T00:00:00",
          "2024-03-14T00:00:00",
          "2024-03-13T00:00:00",
          "2024-03-12T00:00:00",
          "2024-03-11T00:00:00",
          "2024-03-08T00:00:00",
          "2024-03-07T00:00:00",
          "2024-03-06T00:00:00",
          "2024-03-05T00:00:00",
          "2024-03-04T00:00:00",
          "2024-03-01T00:00:00",
          "2024-02-29T00:00:00",
          "2024-02-28T00:00:00",
          "2024-02-27T00:00:00",
          "2024-02-26T00:00:00",
          "2024-02-23T00:00:00",
          "2024-02-22T00:00:00",
          "2024-02-21T00:00:00",
          "2024-02-20T00:00:00",
          "2024-02-16T00:00:00",
          "2024-02-15T00:00:00",
          "2024-02-14T00:00:00",
          "2024-02-13T00:00:00",
          "2024-02-12T00:00:00",
          "2024-02-09T00:00:00",
          "2024-02-08T00:00:00",
          "2024-02-07T00:00:00",
          "2024-02-06T00:00:00",
          "2024-02-05T00:00:00",
          "2024-02-02T00:00:00",
          "2024-02-01T00:00:00",
          "2024-01-31T00:00:00",
          "2024-01-30T00:00:00",
          "2024-01-29T00:00:00",
          "2024-01-26T00:00:00",
          "2024-01-25T00:00:00",
          "2024-01-24T00:00:00",
          "2024-01-23T00:00:00",
          "2024-01-22T00:00:00",
          "2024-01-19T00:00:00",
          "2024-01-18T00:00:00",
          "2024-01-17T00:00:00",
          "2024-01-16T00:00:00",
          "2024-01-12T00:00:00",
          "2024-01-11T00:00:00",
          "2024-01-10T00:00:00",
          "2024-01-09T00:00:00",
          "2024-01-08T00:00:00",
          "2024-01-05T00:00:00",
          "2024-01-04T00:00:00",
          "2024-01-03T00:00:00",
          "2024-01-02T00:00:00",
          "2023-12-29T00:00:00",
          "2023-12-28T00:00:00",
          "2023-12-27T00:00:00",
          "2023-12-26T00:00:00",
          "2024-05-17T00:00:00",
          "2024-05-16T00:00:00",
          "2024-05-15T00:00:00",
          "2024-05-14T00:00:00",
          "2024-05-13T00:00:00",
          "2024-05-10T00:00:00",
          "2024-05-09T00:00:00",
          "2024-05-08T00:00:00",
          "2024-05-07T00:00:00",
          "2024-05-06T00:00:00",
          "2024-05-03T00:00:00",
          "2024-05-02T00:00:00",
          "2024-05-01T00:00:00",
          "2024-04-30T00:00:00",
          "2024-04-29T00:00:00",
          "2024-04-26T00:00:00",
          "2024-04-25T00:00:00",
          "2024-04-24T00:00:00",
          "2024-04-23T00:00:00",
          "2024-04-22T00:00:00",
          "2024-04-19T00:00:00",
          "2024-04-18T00:00:00",
          "2024-04-17T00:00:00",
          "2024-04-16T00:00:00",
          "2024-04-15T00:00:00",
          "2024-04-12T00:00:00",
          "2024-04-11T00:00:00",
          "2024-04-10T00:00:00",
          "2024-04-09T00:00:00",
          "2024-04-08T00:00:00",
          "2024-04-05T00:00:00",
          "2024-04-04T00:00:00",
          "2024-04-03T00:00:00",
          "2024-04-02T00:00:00",
          "2024-04-01T00:00:00",
          "2024-03-28T00:00:00",
          "2024-03-27T00:00:00",
          "2024-03-26T00:00:00",
          "2024-03-25T00:00:00",
          "2024-03-22T00:00:00",
          "2024-03-21T00:00:00",
          "2024-03-20T00:00:00",
          "2024-03-19T00:00:00",
          "2024-03-18T00:00:00",
          "2024-03-15T00:00:00",
          "2024-03-14T00:00:00",
          "2024-03-13T00:00:00",
          "2024-03-12T00:00:00",
          "2024-03-11T00:00:00",
          "2024-03-08T00:00:00",
          "2024-03-07T00:00:00",
          "2024-03-06T00:00:00",
          "2024-03-05T00:00:00",
          "2024-03-04T00:00:00",
          "2024-03-01T00:00:00",
          "2024-02-29T00:00:00",
          "2024-02-28T00:00:00",
          "2024-02-27T00:00:00",
          "2024-02-26T00:00:00",
          "2024-02-23T00:00:00",
          "2024-02-22T00:00:00",
          "2024-02-21T00:00:00",
          "2024-02-20T00:00:00",
          "2024-02-16T00:00:00",
          "2024-02-15T00:00:00",
          "2024-02-14T00:00:00",
          "2024-02-13T00:00:00",
          "2024-02-12T00:00:00",
          "2024-02-09T00:00:00",
          "2024-02-08T00:00:00",
          "2024-02-07T00:00:00",
          "2024-02-06T00:00:00",
          "2024-02-05T00:00:00",
          "2024-02-02T00:00:00",
          "2024-02-01T00:00:00",
          "2024-01-31T00:00:00",
          "2024-01-30T00:00:00",
          "2024-01-29T00:00:00",
          "2024-01-26T00:00:00",
          "2024-01-25T00:00:00",
          "2024-01-24T00:00:00",
          "2024-01-23T00:00:00",
          "2024-01-22T00:00:00",
          "2024-01-19T00:00:00",
          "2024-01-18T00:00:00",
          "2024-01-17T00:00:00",
          "2024-01-16T00:00:00",
          "2024-01-12T00:00:00",
          "2024-01-11T00:00:00",
          "2024-01-10T00:00:00",
          "2024-01-09T00:00:00",
          "2024-01-08T00:00:00",
          "2024-01-05T00:00:00",
          "2024-01-04T00:00:00",
          "2024-01-03T00:00:00",
          "2024-01-02T00:00:00",
          "2023-12-29T00:00:00",
          "2023-12-28T00:00:00",
          "2023-12-27T00:00:00",
          "2023-12-26T00:00:00"
         ]
        }
       ],
       "layout": {
        "template": {
         "data": {
          "bar": [
           {
            "error_x": {
             "color": "#2a3f5f"
            },
            "error_y": {
             "color": "#2a3f5f"
            },
            "marker": {
             "line": {
              "color": "#E5ECF6",
              "width": 0.5
             },
             "pattern": {
              "fillmode": "overlay",
              "size": 10,
              "solidity": 0.2
             }
            },
            "type": "bar"
           }
          ],
          "barpolar": [
           {
            "marker": {
             "line": {
              "color": "#E5ECF6",
              "width": 0.5
             },
             "pattern": {
              "fillmode": "overlay",
              "size": 10,
              "solidity": 0.2
             }
            },
            "type": "barpolar"
           }
          ],
          "carpet": [
           {
            "aaxis": {
             "endlinecolor": "#2a3f5f",
             "gridcolor": "white",
             "linecolor": "white",
             "minorgridcolor": "white",
             "startlinecolor": "#2a3f5f"
            },
            "baxis": {
             "endlinecolor": "#2a3f5f",
             "gridcolor": "white",
             "linecolor": "white",
             "minorgridcolor": "white",
             "startlinecolor": "#2a3f5f"
            },
            "type": "carpet"
           }
          ],
          "choropleth": [
           {
            "colorbar": {
             "outlinewidth": 0,
             "ticks": ""
            },
            "type": "choropleth"
           }
          ],
          "contour": [
           {
            "colorbar": {
             "outlinewidth": 0,
             "ticks": ""
            },
            "colorscale": [
             [
              0,
              "#0d0887"
             ],
             [
              0.1111111111111111,
              "#46039f"
             ],
             [
              0.2222222222222222,
              "#7201a8"
             ],
             [
              0.3333333333333333,
              "#9c179e"
             ],
             [
              0.4444444444444444,
              "#bd3786"
             ],
             [
              0.5555555555555556,
              "#d8576b"
             ],
             [
              0.6666666666666666,
              "#ed7953"
             ],
             [
              0.7777777777777778,
              "#fb9f3a"
             ],
             [
              0.8888888888888888,
              "#fdca26"
             ],
             [
              1,
              "#f0f921"
             ]
            ],
            "type": "contour"
           }
          ],
          "contourcarpet": [
           {
            "colorbar": {
             "outlinewidth": 0,
             "ticks": ""
            },
            "type": "contourcarpet"
           }
          ],
          "heatmap": [
           {
            "colorbar": {
             "outlinewidth": 0,
             "ticks": ""
            },
            "colorscale": [
             [
              0,
              "#0d0887"
             ],
             [
              0.1111111111111111,
              "#46039f"
             ],
             [
              0.2222222222222222,
              "#7201a8"
             ],
             [
              0.3333333333333333,
              "#9c179e"
             ],
             [
              0.4444444444444444,
              "#bd3786"
             ],
             [
              0.5555555555555556,
              "#d8576b"
             ],
             [
              0.6666666666666666,
              "#ed7953"
             ],
             [
              0.7777777777777778,
              "#fb9f3a"
             ],
             [
              0.8888888888888888,
              "#fdca26"
             ],
             [
              1,
              "#f0f921"
             ]
            ],
            "type": "heatmap"
           }
          ],
          "heatmapgl": [
           {
            "colorbar": {
             "outlinewidth": 0,
             "ticks": ""
            },
            "colorscale": [
             [
              0,
              "#0d0887"
             ],
             [
              0.1111111111111111,
              "#46039f"
             ],
             [
              0.2222222222222222,
              "#7201a8"
             ],
             [
              0.3333333333333333,
              "#9c179e"
             ],
             [
              0.4444444444444444,
              "#bd3786"
             ],
             [
              0.5555555555555556,
              "#d8576b"
             ],
             [
              0.6666666666666666,
              "#ed7953"
             ],
             [
              0.7777777777777778,
              "#fb9f3a"
             ],
             [
              0.8888888888888888,
              "#fdca26"
             ],
             [
              1,
              "#f0f921"
             ]
            ],
            "type": "heatmapgl"
           }
          ],
          "histogram": [
           {
            "marker": {
             "pattern": {
              "fillmode": "overlay",
              "size": 10,
              "solidity": 0.2
             }
            },
            "type": "histogram"
           }
          ],
          "histogram2d": [
           {
            "colorbar": {
             "outlinewidth": 0,
             "ticks": ""
            },
            "colorscale": [
             [
              0,
              "#0d0887"
             ],
             [
              0.1111111111111111,
              "#46039f"
             ],
             [
              0.2222222222222222,
              "#7201a8"
             ],
             [
              0.3333333333333333,
              "#9c179e"
             ],
             [
              0.4444444444444444,
              "#bd3786"
             ],
             [
              0.5555555555555556,
              "#d8576b"
             ],
             [
              0.6666666666666666,
              "#ed7953"
             ],
             [
              0.7777777777777778,
              "#fb9f3a"
             ],
             [
              0.8888888888888888,
              "#fdca26"
             ],
             [
              1,
              "#f0f921"
             ]
            ],
            "type": "histogram2d"
           }
          ],
          "histogram2dcontour": [
           {
            "colorbar": {
             "outlinewidth": 0,
             "ticks": ""
            },
            "colorscale": [
             [
              0,
              "#0d0887"
             ],
             [
              0.1111111111111111,
              "#46039f"
             ],
             [
              0.2222222222222222,
              "#7201a8"
             ],
             [
              0.3333333333333333,
              "#9c179e"
             ],
             [
              0.4444444444444444,
              "#bd3786"
             ],
             [
              0.5555555555555556,
              "#d8576b"
             ],
             [
              0.6666666666666666,
              "#ed7953"
             ],
             [
              0.7777777777777778,
              "#fb9f3a"
             ],
             [
              0.8888888888888888,
              "#fdca26"
             ],
             [
              1,
              "#f0f921"
             ]
            ],
            "type": "histogram2dcontour"
           }
          ],
          "mesh3d": [
           {
            "colorbar": {
             "outlinewidth": 0,
             "ticks": ""
            },
            "type": "mesh3d"
           }
          ],
          "parcoords": [
           {
            "line": {
             "colorbar": {
              "outlinewidth": 0,
              "ticks": ""
             }
            },
            "type": "parcoords"
           }
          ],
          "pie": [
           {
            "automargin": true,
            "type": "pie"
           }
          ],
          "scatter": [
           {
            "marker": {
             "colorbar": {
              "outlinewidth": 0,
              "ticks": ""
             }
            },
            "type": "scatter"
           }
          ],
          "scatter3d": [
           {
            "line": {
             "colorbar": {
              "outlinewidth": 0,
              "ticks": ""
             }
            },
            "marker": {
             "colorbar": {
              "outlinewidth": 0,
              "ticks": ""
             }
            },
            "type": "scatter3d"
           }
          ],
          "scattercarpet": [
           {
            "marker": {
             "colorbar": {
              "outlinewidth": 0,
              "ticks": ""
             }
            },
            "type": "scattercarpet"
           }
          ],
          "scattergeo": [
           {
            "marker": {
             "colorbar": {
              "outlinewidth": 0,
              "ticks": ""
             }
            },
            "type": "scattergeo"
           }
          ],
          "scattergl": [
           {
            "marker": {
             "colorbar": {
              "outlinewidth": 0,
              "ticks": ""
             }
            },
            "type": "scattergl"
           }
          ],
          "scattermapbox": [
           {
            "marker": {
             "colorbar": {
              "outlinewidth": 0,
              "ticks": ""
             }
            },
            "type": "scattermapbox"
           }
          ],
          "scatterpolar": [
           {
            "marker": {
             "colorbar": {
              "outlinewidth": 0,
              "ticks": ""
             }
            },
            "type": "scatterpolar"
           }
          ],
          "scatterpolargl": [
           {
            "marker": {
             "colorbar": {
              "outlinewidth": 0,
              "ticks": ""
             }
            },
            "type": "scatterpolargl"
           }
          ],
          "scatterternary": [
           {
            "marker": {
             "colorbar": {
              "outlinewidth": 0,
              "ticks": ""
             }
            },
            "type": "scatterternary"
           }
          ],
          "surface": [
           {
            "colorbar": {
             "outlinewidth": 0,
             "ticks": ""
            },
            "colorscale": [
             [
              0,
              "#0d0887"
             ],
             [
              0.1111111111111111,
              "#46039f"
             ],
             [
              0.2222222222222222,
              "#7201a8"
             ],
             [
              0.3333333333333333,
              "#9c179e"
             ],
             [
              0.4444444444444444,
              "#bd3786"
             ],
             [
              0.5555555555555556,
              "#d8576b"
             ],
             [
              0.6666666666666666,
              "#ed7953"
             ],
             [
              0.7777777777777778,
              "#fb9f3a"
             ],
             [
              0.8888888888888888,
              "#fdca26"
             ],
             [
              1,
              "#f0f921"
             ]
            ],
            "type": "surface"
           }
          ],
          "table": [
           {
            "cells": {
             "fill": {
              "color": "#EBF0F8"
             },
             "line": {
              "color": "white"
             }
            },
            "header": {
             "fill": {
              "color": "#C8D4E3"
             },
             "line": {
              "color": "white"
             }
            },
            "type": "table"
           }
          ]
         },
         "layout": {
          "annotationdefaults": {
           "arrowcolor": "#2a3f5f",
           "arrowhead": 0,
           "arrowwidth": 1
          },
          "autotypenumbers": "strict",
          "coloraxis": {
           "colorbar": {
            "outlinewidth": 0,
            "ticks": ""
           }
          },
          "colorscale": {
           "diverging": [
            [
             0,
             "#8e0152"
            ],
            [
             0.1,
             "#c51b7d"
            ],
            [
             0.2,
             "#de77ae"
            ],
            [
             0.3,
             "#f1b6da"
            ],
            [
             0.4,
             "#fde0ef"
            ],
            [
             0.5,
             "#f7f7f7"
            ],
            [
             0.6,
             "#e6f5d0"
            ],
            [
             0.7,
             "#b8e186"
            ],
            [
             0.8,
             "#7fbc41"
            ],
            [
             0.9,
             "#4d9221"
            ],
            [
             1,
             "#276419"
            ]
           ],
           "sequential": [
            [
             0,
             "#0d0887"
            ],
            [
             0.1111111111111111,
             "#46039f"
            ],
            [
             0.2222222222222222,
             "#7201a8"
            ],
            [
             0.3333333333333333,
             "#9c179e"
            ],
            [
             0.4444444444444444,
             "#bd3786"
            ],
            [
             0.5555555555555556,
             "#d8576b"
            ],
            [
             0.6666666666666666,
             "#ed7953"
            ],
            [
             0.7777777777777778,
             "#fb9f3a"
            ],
            [
             0.8888888888888888,
             "#fdca26"
            ],
            [
             1,
             "#f0f921"
            ]
           ],
           "sequentialminus": [
            [
             0,
             "#0d0887"
            ],
            [
             0.1111111111111111,
             "#46039f"
            ],
            [
             0.2222222222222222,
             "#7201a8"
            ],
            [
             0.3333333333333333,
             "#9c179e"
            ],
            [
             0.4444444444444444,
             "#bd3786"
            ],
            [
             0.5555555555555556,
             "#d8576b"
            ],
            [
             0.6666666666666666,
             "#ed7953"
            ],
            [
             0.7777777777777778,
             "#fb9f3a"
            ],
            [
             0.8888888888888888,
             "#fdca26"
            ],
            [
             1,
             "#f0f921"
            ]
           ]
          },
          "colorway": [
           "#636efa",
           "#EF553B",
           "#00cc96",
           "#ab63fa",
           "#FFA15A",
           "#19d3f3",
           "#FF6692",
           "#B6E880",
           "#FF97FF",
           "#FECB52"
          ],
          "font": {
           "color": "#2a3f5f"
          },
          "geo": {
           "bgcolor": "white",
           "lakecolor": "white",
           "landcolor": "#E5ECF6",
           "showlakes": true,
           "showland": true,
           "subunitcolor": "white"
          },
          "hoverlabel": {
           "align": "left"
          },
          "hovermode": "closest",
          "mapbox": {
           "style": "light"
          },
          "paper_bgcolor": "white",
          "plot_bgcolor": "#E5ECF6",
          "polar": {
           "angularaxis": {
            "gridcolor": "white",
            "linecolor": "white",
            "ticks": ""
           },
           "bgcolor": "#E5ECF6",
           "radialaxis": {
            "gridcolor": "white",
            "linecolor": "white",
            "ticks": ""
           }
          },
          "scene": {
           "xaxis": {
            "backgroundcolor": "#E5ECF6",
            "gridcolor": "white",
            "gridwidth": 2,
            "linecolor": "white",
            "showbackground": true,
            "ticks": "",
            "zerolinecolor": "white"
           },
           "yaxis": {
            "backgroundcolor": "#E5ECF6",
            "gridcolor": "white",
            "gridwidth": 2,
            "linecolor": "white",
            "showbackground": true,
            "ticks": "",
            "zerolinecolor": "white"
           },
           "zaxis": {
            "backgroundcolor": "#E5ECF6",
            "gridcolor": "white",
            "gridwidth": 2,
            "linecolor": "white",
            "showbackground": true,
            "ticks": "",
            "zerolinecolor": "white"
           }
          },
          "shapedefaults": {
           "line": {
            "color": "#2a3f5f"
           }
          },
          "ternary": {
           "aaxis": {
            "gridcolor": "white",
            "linecolor": "white",
            "ticks": ""
           },
           "baxis": {
            "gridcolor": "white",
            "linecolor": "white",
            "ticks": ""
           },
           "bgcolor": "#E5ECF6",
           "caxis": {
            "gridcolor": "white",
            "linecolor": "white",
            "ticks": ""
           }
          },
          "title": {
           "x": 0.05
          },
          "xaxis": {
           "automargin": true,
           "gridcolor": "white",
           "linecolor": "white",
           "ticks": "",
           "title": {
            "standoff": 15
           },
           "zerolinecolor": "white",
           "zerolinewidth": 2
          },
          "yaxis": {
           "automargin": true,
           "gridcolor": "white",
           "linecolor": "white",
           "ticks": "",
           "title": {
            "standoff": 15
           },
           "zerolinecolor": "white",
           "zerolinewidth": 2
          }
         }
        },
        "xaxis": {
         "rangeslider": {
          "visible": false
         }
        }
       }
      }
     },
     "metadata": {},
     "output_type": "display_data"
    }
   ],
   "source": [
    "#Candle Graph\n",
    "\n",
    "fig = go.Figure(data= [go.Candlestick(\n",
    "\n",
    "    x = cleaned_data['Day'],\n",
    "    open = cleaned_data[cleaned_data['Stock_Code'] == 'AAPL']['Opening_Value'],\n",
    "    high = cleaned_data[cleaned_data['Stock_Code'] == 'AAPL']['Highest_Value'],\n",
    "    low = cleaned_data[cleaned_data['Stock_Code'] == 'AAPL']['Lowest_Value'],\n",
    "    close = cleaned_data[cleaned_data['Stock_Code'] == 'AAPL']['Closing_Value']\n",
    "\n",
    "    )])\n",
    "\n",
    "fig.update_layout(xaxis_rangeslider_visible = False)\n"
   ]
  },
  {
   "cell_type": "code",
   "execution_count": null,
   "metadata": {},
   "outputs": [
    {
     "data": {
      "application/vnd.plotly.v1+json": {
       "config": {
        "plotlyServerURL": "https://plot.ly"
       },
       "data": [
        {
         "alignmentgroup": "True",
         "hovertemplate": "x=%{x}<br>y=%{y}<extra></extra>",
         "legendgroup": "",
         "marker": {
          "color": "#636efa",
          "pattern": {
           "shape": ""
          }
         },
         "name": "",
         "offsetgroup": "",
         "orientation": "v",
         "showlegend": false,
         "textposition": "auto",
         "type": "bar",
         "x": [
          "2024-05-17T00:00:00",
          "2024-05-16T00:00:00",
          "2024-05-15T00:00:00",
          "2024-05-14T00:00:00",
          "2024-05-13T00:00:00",
          "2024-05-10T00:00:00",
          "2024-05-09T00:00:00",
          "2024-05-08T00:00:00",
          "2024-05-07T00:00:00",
          "2024-05-06T00:00:00",
          "2024-05-03T00:00:00",
          "2024-05-02T00:00:00",
          "2024-05-01T00:00:00",
          "2024-04-30T00:00:00",
          "2024-04-29T00:00:00",
          "2024-04-26T00:00:00",
          "2024-04-25T00:00:00",
          "2024-04-24T00:00:00",
          "2024-04-23T00:00:00",
          "2024-04-22T00:00:00",
          "2024-04-19T00:00:00",
          "2024-04-18T00:00:00",
          "2024-04-17T00:00:00",
          "2024-04-16T00:00:00",
          "2024-04-15T00:00:00",
          "2024-04-12T00:00:00",
          "2024-04-11T00:00:00",
          "2024-04-10T00:00:00",
          "2024-04-09T00:00:00",
          "2024-04-08T00:00:00",
          "2024-04-05T00:00:00",
          "2024-04-04T00:00:00",
          "2024-04-03T00:00:00",
          "2024-04-02T00:00:00",
          "2024-04-01T00:00:00",
          "2024-03-28T00:00:00",
          "2024-03-27T00:00:00",
          "2024-03-26T00:00:00",
          "2024-03-25T00:00:00",
          "2024-03-22T00:00:00",
          "2024-03-21T00:00:00",
          "2024-03-20T00:00:00",
          "2024-03-19T00:00:00",
          "2024-03-18T00:00:00",
          "2024-03-15T00:00:00",
          "2024-03-14T00:00:00",
          "2024-03-13T00:00:00",
          "2024-03-12T00:00:00",
          "2024-03-11T00:00:00",
          "2024-03-08T00:00:00",
          "2024-03-07T00:00:00",
          "2024-03-06T00:00:00",
          "2024-03-05T00:00:00",
          "2024-03-04T00:00:00",
          "2024-03-01T00:00:00",
          "2024-02-29T00:00:00",
          "2024-02-28T00:00:00",
          "2024-02-27T00:00:00",
          "2024-02-26T00:00:00",
          "2024-02-23T00:00:00",
          "2024-02-22T00:00:00",
          "2024-02-21T00:00:00",
          "2024-02-20T00:00:00",
          "2024-02-16T00:00:00",
          "2024-02-15T00:00:00",
          "2024-02-14T00:00:00",
          "2024-02-13T00:00:00",
          "2024-02-12T00:00:00",
          "2024-02-09T00:00:00",
          "2024-02-08T00:00:00",
          "2024-02-07T00:00:00",
          "2024-02-06T00:00:00",
          "2024-02-05T00:00:00",
          "2024-02-02T00:00:00",
          "2024-02-01T00:00:00",
          "2024-01-31T00:00:00",
          "2024-01-30T00:00:00",
          "2024-01-29T00:00:00",
          "2024-01-26T00:00:00",
          "2024-01-25T00:00:00",
          "2024-01-24T00:00:00",
          "2024-01-23T00:00:00",
          "2024-01-22T00:00:00",
          "2024-01-19T00:00:00",
          "2024-01-18T00:00:00",
          "2024-01-17T00:00:00",
          "2024-01-16T00:00:00",
          "2024-01-12T00:00:00",
          "2024-01-11T00:00:00",
          "2024-01-10T00:00:00",
          "2024-01-09T00:00:00",
          "2024-01-08T00:00:00",
          "2024-01-05T00:00:00",
          "2024-01-04T00:00:00",
          "2024-01-03T00:00:00",
          "2024-01-02T00:00:00",
          "2023-12-29T00:00:00",
          "2023-12-28T00:00:00",
          "2023-12-27T00:00:00",
          "2023-12-26T00:00:00",
          "2024-05-17T00:00:00",
          "2024-05-16T00:00:00",
          "2024-05-15T00:00:00",
          "2024-05-14T00:00:00",
          "2024-05-13T00:00:00",
          "2024-05-10T00:00:00",
          "2024-05-09T00:00:00",
          "2024-05-08T00:00:00",
          "2024-05-07T00:00:00",
          "2024-05-06T00:00:00",
          "2024-05-03T00:00:00",
          "2024-05-02T00:00:00",
          "2024-05-01T00:00:00",
          "2024-04-30T00:00:00",
          "2024-04-29T00:00:00",
          "2024-04-26T00:00:00",
          "2024-04-25T00:00:00",
          "2024-04-24T00:00:00",
          "2024-04-23T00:00:00",
          "2024-04-22T00:00:00",
          "2024-04-19T00:00:00",
          "2024-04-18T00:00:00",
          "2024-04-17T00:00:00",
          "2024-04-16T00:00:00",
          "2024-04-15T00:00:00",
          "2024-04-12T00:00:00",
          "2024-04-11T00:00:00",
          "2024-04-10T00:00:00",
          "2024-04-09T00:00:00",
          "2024-04-08T00:00:00",
          "2024-04-05T00:00:00",
          "2024-04-04T00:00:00",
          "2024-04-03T00:00:00",
          "2024-04-02T00:00:00",
          "2024-04-01T00:00:00",
          "2024-03-28T00:00:00",
          "2024-03-27T00:00:00",
          "2024-03-26T00:00:00",
          "2024-03-25T00:00:00",
          "2024-03-22T00:00:00",
          "2024-03-21T00:00:00",
          "2024-03-20T00:00:00",
          "2024-03-19T00:00:00",
          "2024-03-18T00:00:00",
          "2024-03-15T00:00:00",
          "2024-03-14T00:00:00",
          "2024-03-13T00:00:00",
          "2024-03-12T00:00:00",
          "2024-03-11T00:00:00",
          "2024-03-08T00:00:00",
          "2024-03-07T00:00:00",
          "2024-03-06T00:00:00",
          "2024-03-05T00:00:00",
          "2024-03-04T00:00:00",
          "2024-03-01T00:00:00",
          "2024-02-29T00:00:00",
          "2024-02-28T00:00:00",
          "2024-02-27T00:00:00",
          "2024-02-26T00:00:00",
          "2024-02-23T00:00:00",
          "2024-02-22T00:00:00",
          "2024-02-21T00:00:00",
          "2024-02-20T00:00:00",
          "2024-02-16T00:00:00",
          "2024-02-15T00:00:00",
          "2024-02-14T00:00:00",
          "2024-02-13T00:00:00",
          "2024-02-12T00:00:00",
          "2024-02-09T00:00:00",
          "2024-02-08T00:00:00",
          "2024-02-07T00:00:00",
          "2024-02-06T00:00:00",
          "2024-02-05T00:00:00",
          "2024-02-02T00:00:00",
          "2024-02-01T00:00:00",
          "2024-01-31T00:00:00",
          "2024-01-30T00:00:00",
          "2024-01-29T00:00:00",
          "2024-01-26T00:00:00",
          "2024-01-25T00:00:00",
          "2024-01-24T00:00:00",
          "2024-01-23T00:00:00",
          "2024-01-22T00:00:00",
          "2024-01-19T00:00:00",
          "2024-01-18T00:00:00",
          "2024-01-17T00:00:00",
          "2024-01-16T00:00:00",
          "2024-01-12T00:00:00",
          "2024-01-11T00:00:00",
          "2024-01-10T00:00:00",
          "2024-01-09T00:00:00",
          "2024-01-08T00:00:00",
          "2024-01-05T00:00:00",
          "2024-01-04T00:00:00",
          "2024-01-03T00:00:00",
          "2024-01-02T00:00:00",
          "2023-12-29T00:00:00",
          "2023-12-28T00:00:00",
          "2023-12-27T00:00:00",
          "2023-12-26T00:00:00",
          "2024-05-17T00:00:00",
          "2024-05-16T00:00:00",
          "2024-05-15T00:00:00",
          "2024-05-14T00:00:00",
          "2024-05-13T00:00:00",
          "2024-05-10T00:00:00",
          "2024-05-09T00:00:00",
          "2024-05-08T00:00:00",
          "2024-05-07T00:00:00",
          "2024-05-06T00:00:00",
          "2024-05-03T00:00:00",
          "2024-05-02T00:00:00",
          "2024-05-01T00:00:00",
          "2024-04-30T00:00:00",
          "2024-04-29T00:00:00",
          "2024-04-26T00:00:00",
          "2024-04-25T00:00:00",
          "2024-04-24T00:00:00",
          "2024-04-23T00:00:00",
          "2024-04-22T00:00:00",
          "2024-04-19T00:00:00",
          "2024-04-18T00:00:00",
          "2024-04-17T00:00:00",
          "2024-04-16T00:00:00",
          "2024-04-15T00:00:00",
          "2024-04-12T00:00:00",
          "2024-04-11T00:00:00",
          "2024-04-10T00:00:00",
          "2024-04-09T00:00:00",
          "2024-04-08T00:00:00",
          "2024-04-05T00:00:00",
          "2024-04-04T00:00:00",
          "2024-04-03T00:00:00",
          "2024-04-02T00:00:00",
          "2024-04-01T00:00:00",
          "2024-03-28T00:00:00",
          "2024-03-27T00:00:00",
          "2024-03-26T00:00:00",
          "2024-03-25T00:00:00",
          "2024-03-22T00:00:00",
          "2024-03-21T00:00:00",
          "2024-03-20T00:00:00",
          "2024-03-19T00:00:00",
          "2024-03-18T00:00:00",
          "2024-03-15T00:00:00",
          "2024-03-14T00:00:00",
          "2024-03-13T00:00:00",
          "2024-03-12T00:00:00",
          "2024-03-11T00:00:00",
          "2024-03-08T00:00:00",
          "2024-03-07T00:00:00",
          "2024-03-06T00:00:00",
          "2024-03-05T00:00:00",
          "2024-03-04T00:00:00",
          "2024-03-01T00:00:00",
          "2024-02-29T00:00:00",
          "2024-02-28T00:00:00",
          "2024-02-27T00:00:00",
          "2024-02-26T00:00:00",
          "2024-02-23T00:00:00",
          "2024-02-22T00:00:00",
          "2024-02-21T00:00:00",
          "2024-02-20T00:00:00",
          "2024-02-16T00:00:00",
          "2024-02-15T00:00:00",
          "2024-02-14T00:00:00",
          "2024-02-13T00:00:00",
          "2024-02-12T00:00:00",
          "2024-02-09T00:00:00",
          "2024-02-08T00:00:00",
          "2024-02-07T00:00:00",
          "2024-02-06T00:00:00",
          "2024-02-05T00:00:00",
          "2024-02-02T00:00:00",
          "2024-02-01T00:00:00",
          "2024-01-31T00:00:00",
          "2024-01-30T00:00:00",
          "2024-01-29T00:00:00",
          "2024-01-26T00:00:00",
          "2024-01-25T00:00:00",
          "2024-01-24T00:00:00",
          "2024-01-23T00:00:00",
          "2024-01-22T00:00:00",
          "2024-01-19T00:00:00",
          "2024-01-18T00:00:00",
          "2024-01-17T00:00:00",
          "2024-01-16T00:00:00",
          "2024-01-12T00:00:00",
          "2024-01-11T00:00:00",
          "2024-01-10T00:00:00",
          "2024-01-09T00:00:00",
          "2024-01-08T00:00:00",
          "2024-01-05T00:00:00",
          "2024-01-04T00:00:00",
          "2024-01-03T00:00:00",
          "2024-01-02T00:00:00",
          "2023-12-29T00:00:00",
          "2023-12-28T00:00:00",
          "2023-12-27T00:00:00",
          "2023-12-26T00:00:00",
          "2024-05-17T00:00:00",
          "2024-05-16T00:00:00",
          "2024-05-15T00:00:00",
          "2024-05-14T00:00:00",
          "2024-05-13T00:00:00",
          "2024-05-10T00:00:00",
          "2024-05-09T00:00:00",
          "2024-05-08T00:00:00",
          "2024-05-07T00:00:00",
          "2024-05-06T00:00:00",
          "2024-05-03T00:00:00",
          "2024-05-02T00:00:00",
          "2024-05-01T00:00:00",
          "2024-04-30T00:00:00",
          "2024-04-29T00:00:00",
          "2024-04-26T00:00:00",
          "2024-04-25T00:00:00",
          "2024-04-24T00:00:00",
          "2024-04-23T00:00:00",
          "2024-04-22T00:00:00",
          "2024-04-19T00:00:00",
          "2024-04-18T00:00:00",
          "2024-04-17T00:00:00",
          "2024-04-16T00:00:00",
          "2024-04-15T00:00:00",
          "2024-04-12T00:00:00",
          "2024-04-11T00:00:00",
          "2024-04-10T00:00:00",
          "2024-04-09T00:00:00",
          "2024-04-08T00:00:00",
          "2024-04-05T00:00:00",
          "2024-04-04T00:00:00",
          "2024-04-03T00:00:00",
          "2024-04-02T00:00:00",
          "2024-04-01T00:00:00",
          "2024-03-28T00:00:00",
          "2024-03-27T00:00:00",
          "2024-03-26T00:00:00",
          "2024-03-25T00:00:00",
          "2024-03-22T00:00:00",
          "2024-03-21T00:00:00",
          "2024-03-20T00:00:00",
          "2024-03-19T00:00:00",
          "2024-03-18T00:00:00",
          "2024-03-15T00:00:00",
          "2024-03-14T00:00:00",
          "2024-03-13T00:00:00",
          "2024-03-12T00:00:00",
          "2024-03-11T00:00:00",
          "2024-03-08T00:00:00",
          "2024-03-07T00:00:00",
          "2024-03-06T00:00:00",
          "2024-03-05T00:00:00",
          "2024-03-04T00:00:00",
          "2024-03-01T00:00:00",
          "2024-02-29T00:00:00",
          "2024-02-28T00:00:00",
          "2024-02-27T00:00:00",
          "2024-02-26T00:00:00",
          "2024-02-23T00:00:00",
          "2024-02-22T00:00:00",
          "2024-02-21T00:00:00",
          "2024-02-20T00:00:00",
          "2024-02-16T00:00:00",
          "2024-02-15T00:00:00",
          "2024-02-14T00:00:00",
          "2024-02-13T00:00:00",
          "2024-02-12T00:00:00",
          "2024-02-09T00:00:00",
          "2024-02-08T00:00:00",
          "2024-02-07T00:00:00",
          "2024-02-06T00:00:00",
          "2024-02-05T00:00:00",
          "2024-02-02T00:00:00",
          "2024-02-01T00:00:00",
          "2024-01-31T00:00:00",
          "2024-01-30T00:00:00",
          "2024-01-29T00:00:00",
          "2024-01-26T00:00:00",
          "2024-01-25T00:00:00",
          "2024-01-24T00:00:00",
          "2024-01-23T00:00:00",
          "2024-01-22T00:00:00",
          "2024-01-19T00:00:00",
          "2024-01-18T00:00:00",
          "2024-01-17T00:00:00",
          "2024-01-16T00:00:00",
          "2024-01-12T00:00:00",
          "2024-01-11T00:00:00",
          "2024-01-10T00:00:00",
          "2024-01-09T00:00:00",
          "2024-01-08T00:00:00",
          "2024-01-05T00:00:00",
          "2024-01-04T00:00:00",
          "2024-01-03T00:00:00",
          "2024-01-02T00:00:00",
          "2023-12-29T00:00:00",
          "2023-12-28T00:00:00",
          "2023-12-27T00:00:00",
          "2023-12-26T00:00:00",
          "2024-05-17T00:00:00",
          "2024-05-16T00:00:00",
          "2024-05-15T00:00:00",
          "2024-05-14T00:00:00",
          "2024-05-13T00:00:00",
          "2024-05-10T00:00:00",
          "2024-05-09T00:00:00",
          "2024-05-08T00:00:00",
          "2024-05-07T00:00:00",
          "2024-05-06T00:00:00",
          "2024-05-03T00:00:00",
          "2024-05-02T00:00:00",
          "2024-05-01T00:00:00",
          "2024-04-30T00:00:00",
          "2024-04-29T00:00:00",
          "2024-04-26T00:00:00",
          "2024-04-25T00:00:00",
          "2024-04-24T00:00:00",
          "2024-04-23T00:00:00",
          "2024-04-22T00:00:00",
          "2024-04-19T00:00:00",
          "2024-04-18T00:00:00",
          "2024-04-17T00:00:00",
          "2024-04-16T00:00:00",
          "2024-04-15T00:00:00",
          "2024-04-12T00:00:00",
          "2024-04-11T00:00:00",
          "2024-04-10T00:00:00",
          "2024-04-09T00:00:00",
          "2024-04-08T00:00:00",
          "2024-04-05T00:00:00",
          "2024-04-04T00:00:00",
          "2024-04-03T00:00:00",
          "2024-04-02T00:00:00",
          "2024-04-01T00:00:00",
          "2024-03-28T00:00:00",
          "2024-03-27T00:00:00",
          "2024-03-26T00:00:00",
          "2024-03-25T00:00:00",
          "2024-03-22T00:00:00",
          "2024-03-21T00:00:00",
          "2024-03-20T00:00:00",
          "2024-03-19T00:00:00",
          "2024-03-18T00:00:00",
          "2024-03-15T00:00:00",
          "2024-03-14T00:00:00",
          "2024-03-13T00:00:00",
          "2024-03-12T00:00:00",
          "2024-03-11T00:00:00",
          "2024-03-08T00:00:00",
          "2024-03-07T00:00:00",
          "2024-03-06T00:00:00",
          "2024-03-05T00:00:00",
          "2024-03-04T00:00:00",
          "2024-03-01T00:00:00",
          "2024-02-29T00:00:00",
          "2024-02-28T00:00:00",
          "2024-02-27T00:00:00",
          "2024-02-26T00:00:00",
          "2024-02-23T00:00:00",
          "2024-02-22T00:00:00",
          "2024-02-21T00:00:00",
          "2024-02-20T00:00:00",
          "2024-02-16T00:00:00",
          "2024-02-15T00:00:00",
          "2024-02-14T00:00:00",
          "2024-02-13T00:00:00",
          "2024-02-12T00:00:00",
          "2024-02-09T00:00:00",
          "2024-02-08T00:00:00",
          "2024-02-07T00:00:00",
          "2024-02-06T00:00:00",
          "2024-02-05T00:00:00",
          "2024-02-02T00:00:00",
          "2024-02-01T00:00:00",
          "2024-01-31T00:00:00",
          "2024-01-30T00:00:00",
          "2024-01-29T00:00:00",
          "2024-01-26T00:00:00",
          "2024-01-25T00:00:00",
          "2024-01-24T00:00:00",
          "2024-01-23T00:00:00",
          "2024-01-22T00:00:00",
          "2024-01-19T00:00:00",
          "2024-01-18T00:00:00",
          "2024-01-17T00:00:00",
          "2024-01-16T00:00:00",
          "2024-01-12T00:00:00",
          "2024-01-11T00:00:00",
          "2024-01-10T00:00:00",
          "2024-01-09T00:00:00",
          "2024-01-08T00:00:00",
          "2024-01-05T00:00:00",
          "2024-01-04T00:00:00",
          "2024-01-03T00:00:00",
          "2024-01-02T00:00:00",
          "2023-12-29T00:00:00",
          "2023-12-28T00:00:00",
          "2023-12-27T00:00:00",
          "2023-12-26T00:00:00",
          "2024-05-17T00:00:00",
          "2024-05-16T00:00:00",
          "2024-05-15T00:00:00",
          "2024-05-14T00:00:00",
          "2024-05-13T00:00:00",
          "2024-05-10T00:00:00",
          "2024-05-09T00:00:00",
          "2024-05-08T00:00:00",
          "2024-05-07T00:00:00",
          "2024-05-06T00:00:00",
          "2024-05-03T00:00:00",
          "2024-05-02T00:00:00",
          "2024-05-01T00:00:00",
          "2024-04-30T00:00:00",
          "2024-04-29T00:00:00",
          "2024-04-26T00:00:00",
          "2024-04-25T00:00:00",
          "2024-04-24T00:00:00",
          "2024-04-23T00:00:00",
          "2024-04-22T00:00:00",
          "2024-04-19T00:00:00",
          "2024-04-18T00:00:00",
          "2024-04-17T00:00:00",
          "2024-04-16T00:00:00",
          "2024-04-15T00:00:00",
          "2024-04-12T00:00:00",
          "2024-04-11T00:00:00",
          "2024-04-10T00:00:00",
          "2024-04-09T00:00:00",
          "2024-04-08T00:00:00",
          "2024-04-05T00:00:00",
          "2024-04-04T00:00:00",
          "2024-04-03T00:00:00",
          "2024-04-02T00:00:00",
          "2024-04-01T00:00:00",
          "2024-03-28T00:00:00",
          "2024-03-27T00:00:00",
          "2024-03-26T00:00:00",
          "2024-03-25T00:00:00",
          "2024-03-22T00:00:00",
          "2024-03-21T00:00:00",
          "2024-03-20T00:00:00",
          "2024-03-19T00:00:00",
          "2024-03-18T00:00:00",
          "2024-03-15T00:00:00",
          "2024-03-14T00:00:00",
          "2024-03-13T00:00:00",
          "2024-03-12T00:00:00",
          "2024-03-11T00:00:00",
          "2024-03-08T00:00:00",
          "2024-03-07T00:00:00",
          "2024-03-06T00:00:00",
          "2024-03-05T00:00:00",
          "2024-03-04T00:00:00",
          "2024-03-01T00:00:00",
          "2024-02-29T00:00:00",
          "2024-02-28T00:00:00",
          "2024-02-27T00:00:00",
          "2024-02-26T00:00:00",
          "2024-02-23T00:00:00",
          "2024-02-22T00:00:00",
          "2024-02-21T00:00:00",
          "2024-02-20T00:00:00",
          "2024-02-16T00:00:00",
          "2024-02-15T00:00:00",
          "2024-02-14T00:00:00",
          "2024-02-13T00:00:00",
          "2024-02-12T00:00:00",
          "2024-02-09T00:00:00",
          "2024-02-08T00:00:00",
          "2024-02-07T00:00:00",
          "2024-02-06T00:00:00",
          "2024-02-05T00:00:00",
          "2024-02-02T00:00:00",
          "2024-02-01T00:00:00",
          "2024-01-31T00:00:00",
          "2024-01-30T00:00:00",
          "2024-01-29T00:00:00",
          "2024-01-26T00:00:00",
          "2024-01-25T00:00:00",
          "2024-01-24T00:00:00",
          "2024-01-23T00:00:00",
          "2024-01-22T00:00:00",
          "2024-01-19T00:00:00",
          "2024-01-18T00:00:00",
          "2024-01-17T00:00:00",
          "2024-01-16T00:00:00",
          "2024-01-12T00:00:00",
          "2024-01-11T00:00:00",
          "2024-01-10T00:00:00",
          "2024-01-09T00:00:00",
          "2024-01-08T00:00:00",
          "2024-01-05T00:00:00",
          "2024-01-04T00:00:00",
          "2024-01-03T00:00:00",
          "2024-01-02T00:00:00",
          "2023-12-29T00:00:00",
          "2023-12-28T00:00:00",
          "2023-12-27T00:00:00",
          "2023-12-26T00:00:00",
          "2024-05-17T00:00:00",
          "2024-05-16T00:00:00",
          "2024-05-15T00:00:00",
          "2024-05-14T00:00:00",
          "2024-05-13T00:00:00",
          "2024-05-10T00:00:00",
          "2024-05-09T00:00:00",
          "2024-05-08T00:00:00",
          "2024-05-07T00:00:00",
          "2024-05-06T00:00:00",
          "2024-05-03T00:00:00",
          "2024-05-02T00:00:00",
          "2024-05-01T00:00:00",
          "2024-04-30T00:00:00",
          "2024-04-29T00:00:00",
          "2024-04-26T00:00:00",
          "2024-04-25T00:00:00",
          "2024-04-24T00:00:00",
          "2024-04-23T00:00:00",
          "2024-04-22T00:00:00",
          "2024-04-19T00:00:00",
          "2024-04-18T00:00:00",
          "2024-04-17T00:00:00",
          "2024-04-16T00:00:00",
          "2024-04-15T00:00:00",
          "2024-04-12T00:00:00",
          "2024-04-11T00:00:00",
          "2024-04-10T00:00:00",
          "2024-04-09T00:00:00",
          "2024-04-08T00:00:00",
          "2024-04-05T00:00:00",
          "2024-04-04T00:00:00",
          "2024-04-03T00:00:00",
          "2024-04-02T00:00:00",
          "2024-04-01T00:00:00",
          "2024-03-28T00:00:00",
          "2024-03-27T00:00:00",
          "2024-03-26T00:00:00",
          "2024-03-25T00:00:00",
          "2024-03-22T00:00:00",
          "2024-03-21T00:00:00",
          "2024-03-20T00:00:00",
          "2024-03-19T00:00:00",
          "2024-03-18T00:00:00",
          "2024-03-15T00:00:00",
          "2024-03-14T00:00:00",
          "2024-03-13T00:00:00",
          "2024-03-12T00:00:00",
          "2024-03-11T00:00:00",
          "2024-03-08T00:00:00",
          "2024-03-07T00:00:00",
          "2024-03-06T00:00:00",
          "2024-03-05T00:00:00",
          "2024-03-04T00:00:00",
          "2024-03-01T00:00:00",
          "2024-02-29T00:00:00",
          "2024-02-28T00:00:00",
          "2024-02-27T00:00:00",
          "2024-02-26T00:00:00",
          "2024-02-23T00:00:00",
          "2024-02-22T00:00:00",
          "2024-02-21T00:00:00",
          "2024-02-20T00:00:00",
          "2024-02-16T00:00:00",
          "2024-02-15T00:00:00",
          "2024-02-14T00:00:00",
          "2024-02-13T00:00:00",
          "2024-02-12T00:00:00",
          "2024-02-09T00:00:00",
          "2024-02-08T00:00:00",
          "2024-02-07T00:00:00",
          "2024-02-06T00:00:00",
          "2024-02-05T00:00:00",
          "2024-02-02T00:00:00",
          "2024-02-01T00:00:00",
          "2024-01-31T00:00:00",
          "2024-01-30T00:00:00",
          "2024-01-29T00:00:00",
          "2024-01-26T00:00:00",
          "2024-01-25T00:00:00",
          "2024-01-24T00:00:00",
          "2024-01-23T00:00:00",
          "2024-01-22T00:00:00",
          "2024-01-19T00:00:00",
          "2024-01-18T00:00:00",
          "2024-01-17T00:00:00",
          "2024-01-16T00:00:00",
          "2024-01-12T00:00:00",
          "2024-01-11T00:00:00",
          "2024-01-10T00:00:00",
          "2024-01-09T00:00:00",
          "2024-01-08T00:00:00",
          "2024-01-05T00:00:00",
          "2024-01-04T00:00:00",
          "2024-01-03T00:00:00",
          "2024-01-02T00:00:00",
          "2023-12-29T00:00:00",
          "2023-12-28T00:00:00",
          "2023-12-27T00:00:00",
          "2023-12-26T00:00:00",
          "2024-05-17T00:00:00",
          "2024-05-16T00:00:00",
          "2024-05-15T00:00:00",
          "2024-05-14T00:00:00",
          "2024-05-13T00:00:00",
          "2024-05-10T00:00:00",
          "2024-05-09T00:00:00",
          "2024-05-08T00:00:00",
          "2024-05-07T00:00:00",
          "2024-05-06T00:00:00",
          "2024-05-03T00:00:00",
          "2024-05-02T00:00:00",
          "2024-05-01T00:00:00",
          "2024-04-30T00:00:00",
          "2024-04-29T00:00:00",
          "2024-04-26T00:00:00",
          "2024-04-25T00:00:00",
          "2024-04-24T00:00:00",
          "2024-04-23T00:00:00",
          "2024-04-22T00:00:00",
          "2024-04-19T00:00:00",
          "2024-04-18T00:00:00",
          "2024-04-17T00:00:00",
          "2024-04-16T00:00:00",
          "2024-04-15T00:00:00",
          "2024-04-12T00:00:00",
          "2024-04-11T00:00:00",
          "2024-04-10T00:00:00",
          "2024-04-09T00:00:00",
          "2024-04-08T00:00:00",
          "2024-04-05T00:00:00",
          "2024-04-04T00:00:00",
          "2024-04-03T00:00:00",
          "2024-04-02T00:00:00",
          "2024-04-01T00:00:00",
          "2024-03-28T00:00:00",
          "2024-03-27T00:00:00",
          "2024-03-26T00:00:00",
          "2024-03-25T00:00:00",
          "2024-03-22T00:00:00",
          "2024-03-21T00:00:00",
          "2024-03-20T00:00:00",
          "2024-03-19T00:00:00",
          "2024-03-18T00:00:00",
          "2024-03-15T00:00:00",
          "2024-03-14T00:00:00",
          "2024-03-13T00:00:00",
          "2024-03-12T00:00:00",
          "2024-03-11T00:00:00",
          "2024-03-08T00:00:00",
          "2024-03-07T00:00:00",
          "2024-03-06T00:00:00",
          "2024-03-05T00:00:00",
          "2024-03-04T00:00:00",
          "2024-03-01T00:00:00",
          "2024-02-29T00:00:00",
          "2024-02-28T00:00:00",
          "2024-02-27T00:00:00",
          "2024-02-26T00:00:00",
          "2024-02-23T00:00:00",
          "2024-02-22T00:00:00",
          "2024-02-21T00:00:00",
          "2024-02-20T00:00:00",
          "2024-02-16T00:00:00",
          "2024-02-15T00:00:00",
          "2024-02-14T00:00:00",
          "2024-02-13T00:00:00",
          "2024-02-12T00:00:00",
          "2024-02-09T00:00:00",
          "2024-02-08T00:00:00",
          "2024-02-07T00:00:00",
          "2024-02-06T00:00:00",
          "2024-02-05T00:00:00",
          "2024-02-02T00:00:00",
          "2024-02-01T00:00:00",
          "2024-01-31T00:00:00",
          "2024-01-30T00:00:00",
          "2024-01-29T00:00:00",
          "2024-01-26T00:00:00",
          "2024-01-25T00:00:00",
          "2024-01-24T00:00:00",
          "2024-01-23T00:00:00",
          "2024-01-22T00:00:00",
          "2024-01-19T00:00:00",
          "2024-01-18T00:00:00",
          "2024-01-17T00:00:00",
          "2024-01-16T00:00:00",
          "2024-01-12T00:00:00",
          "2024-01-11T00:00:00",
          "2024-01-10T00:00:00",
          "2024-01-09T00:00:00",
          "2024-01-08T00:00:00",
          "2024-01-05T00:00:00",
          "2024-01-04T00:00:00",
          "2024-01-03T00:00:00",
          "2024-01-02T00:00:00",
          "2023-12-29T00:00:00",
          "2023-12-28T00:00:00",
          "2023-12-27T00:00:00",
          "2023-12-26T00:00:00",
          "2024-05-17T00:00:00",
          "2024-05-16T00:00:00",
          "2024-05-15T00:00:00",
          "2024-05-14T00:00:00",
          "2024-05-13T00:00:00",
          "2024-05-10T00:00:00",
          "2024-05-09T00:00:00",
          "2024-05-08T00:00:00",
          "2024-05-07T00:00:00",
          "2024-05-06T00:00:00",
          "2024-05-03T00:00:00",
          "2024-05-02T00:00:00",
          "2024-05-01T00:00:00",
          "2024-04-30T00:00:00",
          "2024-04-29T00:00:00",
          "2024-04-26T00:00:00",
          "2024-04-25T00:00:00",
          "2024-04-24T00:00:00",
          "2024-04-23T00:00:00",
          "2024-04-22T00:00:00",
          "2024-04-19T00:00:00",
          "2024-04-18T00:00:00",
          "2024-04-17T00:00:00",
          "2024-04-16T00:00:00",
          "2024-04-15T00:00:00",
          "2024-04-12T00:00:00",
          "2024-04-11T00:00:00",
          "2024-04-10T00:00:00",
          "2024-04-09T00:00:00",
          "2024-04-08T00:00:00",
          "2024-04-05T00:00:00",
          "2024-04-04T00:00:00",
          "2024-04-03T00:00:00",
          "2024-04-02T00:00:00",
          "2024-04-01T00:00:00",
          "2024-03-28T00:00:00",
          "2024-03-27T00:00:00",
          "2024-03-26T00:00:00",
          "2024-03-25T00:00:00",
          "2024-03-22T00:00:00",
          "2024-03-21T00:00:00",
          "2024-03-20T00:00:00",
          "2024-03-19T00:00:00",
          "2024-03-18T00:00:00",
          "2024-03-15T00:00:00",
          "2024-03-14T00:00:00",
          "2024-03-13T00:00:00",
          "2024-03-12T00:00:00",
          "2024-03-11T00:00:00",
          "2024-03-08T00:00:00",
          "2024-03-07T00:00:00",
          "2024-03-06T00:00:00",
          "2024-03-05T00:00:00",
          "2024-03-04T00:00:00",
          "2024-03-01T00:00:00",
          "2024-02-29T00:00:00",
          "2024-02-28T00:00:00",
          "2024-02-27T00:00:00",
          "2024-02-26T00:00:00",
          "2024-02-23T00:00:00",
          "2024-02-22T00:00:00",
          "2024-02-21T00:00:00",
          "2024-02-20T00:00:00",
          "2024-02-16T00:00:00",
          "2024-02-15T00:00:00",
          "2024-02-14T00:00:00",
          "2024-02-13T00:00:00",
          "2024-02-12T00:00:00",
          "2024-02-09T00:00:00",
          "2024-02-08T00:00:00",
          "2024-02-07T00:00:00",
          "2024-02-06T00:00:00",
          "2024-02-05T00:00:00",
          "2024-02-02T00:00:00",
          "2024-02-01T00:00:00",
          "2024-01-31T00:00:00",
          "2024-01-30T00:00:00",
          "2024-01-29T00:00:00",
          "2024-01-26T00:00:00",
          "2024-01-25T00:00:00",
          "2024-01-24T00:00:00",
          "2024-01-23T00:00:00",
          "2024-01-22T00:00:00",
          "2024-01-19T00:00:00",
          "2024-01-18T00:00:00",
          "2024-01-17T00:00:00",
          "2024-01-16T00:00:00",
          "2024-01-12T00:00:00",
          "2024-01-11T00:00:00",
          "2024-01-10T00:00:00",
          "2024-01-09T00:00:00",
          "2024-01-08T00:00:00",
          "2024-01-05T00:00:00",
          "2024-01-04T00:00:00",
          "2024-01-03T00:00:00",
          "2024-01-02T00:00:00",
          "2023-12-29T00:00:00",
          "2023-12-28T00:00:00",
          "2023-12-27T00:00:00",
          "2023-12-26T00:00:00",
          "2024-05-17T00:00:00",
          "2024-05-16T00:00:00",
          "2024-05-15T00:00:00",
          "2024-05-14T00:00:00",
          "2024-05-13T00:00:00",
          "2024-05-10T00:00:00",
          "2024-05-09T00:00:00",
          "2024-05-08T00:00:00",
          "2024-05-07T00:00:00",
          "2024-05-06T00:00:00",
          "2024-05-03T00:00:00",
          "2024-05-02T00:00:00",
          "2024-05-01T00:00:00",
          "2024-04-30T00:00:00",
          "2024-04-29T00:00:00",
          "2024-04-26T00:00:00",
          "2024-04-25T00:00:00",
          "2024-04-24T00:00:00",
          "2024-04-23T00:00:00",
          "2024-04-22T00:00:00",
          "2024-04-19T00:00:00",
          "2024-04-18T00:00:00",
          "2024-04-17T00:00:00",
          "2024-04-16T00:00:00",
          "2024-04-15T00:00:00",
          "2024-04-12T00:00:00",
          "2024-04-11T00:00:00",
          "2024-04-10T00:00:00",
          "2024-04-09T00:00:00",
          "2024-04-08T00:00:00",
          "2024-04-05T00:00:00",
          "2024-04-04T00:00:00",
          "2024-04-03T00:00:00",
          "2024-04-02T00:00:00",
          "2024-04-01T00:00:00",
          "2024-03-28T00:00:00",
          "2024-03-27T00:00:00",
          "2024-03-26T00:00:00",
          "2024-03-25T00:00:00",
          "2024-03-22T00:00:00",
          "2024-03-21T00:00:00",
          "2024-03-20T00:00:00",
          "2024-03-19T00:00:00",
          "2024-03-18T00:00:00",
          "2024-03-15T00:00:00",
          "2024-03-14T00:00:00",
          "2024-03-13T00:00:00",
          "2024-03-12T00:00:00",
          "2024-03-11T00:00:00",
          "2024-03-08T00:00:00",
          "2024-03-07T00:00:00",
          "2024-03-06T00:00:00",
          "2024-03-05T00:00:00",
          "2024-03-04T00:00:00",
          "2024-03-01T00:00:00",
          "2024-02-29T00:00:00",
          "2024-02-28T00:00:00",
          "2024-02-27T00:00:00",
          "2024-02-26T00:00:00",
          "2024-02-23T00:00:00",
          "2024-02-22T00:00:00",
          "2024-02-21T00:00:00",
          "2024-02-20T00:00:00",
          "2024-02-16T00:00:00",
          "2024-02-15T00:00:00",
          "2024-02-14T00:00:00",
          "2024-02-13T00:00:00",
          "2024-02-12T00:00:00",
          "2024-02-09T00:00:00",
          "2024-02-08T00:00:00",
          "2024-02-07T00:00:00",
          "2024-02-06T00:00:00",
          "2024-02-05T00:00:00",
          "2024-02-02T00:00:00",
          "2024-02-01T00:00:00",
          "2024-01-31T00:00:00",
          "2024-01-30T00:00:00",
          "2024-01-29T00:00:00",
          "2024-01-26T00:00:00",
          "2024-01-25T00:00:00",
          "2024-01-24T00:00:00",
          "2024-01-23T00:00:00",
          "2024-01-22T00:00:00",
          "2024-01-19T00:00:00",
          "2024-01-18T00:00:00",
          "2024-01-17T00:00:00",
          "2024-01-16T00:00:00",
          "2024-01-12T00:00:00",
          "2024-01-11T00:00:00",
          "2024-01-10T00:00:00",
          "2024-01-09T00:00:00",
          "2024-01-08T00:00:00",
          "2024-01-05T00:00:00",
          "2024-01-04T00:00:00",
          "2024-01-03T00:00:00",
          "2024-01-02T00:00:00",
          "2023-12-29T00:00:00",
          "2023-12-28T00:00:00",
          "2023-12-27T00:00:00",
          "2023-12-26T00:00:00",
          "2024-05-17T00:00:00",
          "2024-05-16T00:00:00",
          "2024-05-15T00:00:00",
          "2024-05-14T00:00:00",
          "2024-05-13T00:00:00",
          "2024-05-10T00:00:00",
          "2024-05-09T00:00:00",
          "2024-05-08T00:00:00",
          "2024-05-07T00:00:00",
          "2024-05-06T00:00:00",
          "2024-05-03T00:00:00",
          "2024-05-02T00:00:00",
          "2024-05-01T00:00:00",
          "2024-04-30T00:00:00",
          "2024-04-29T00:00:00",
          "2024-04-26T00:00:00",
          "2024-04-25T00:00:00",
          "2024-04-24T00:00:00",
          "2024-04-23T00:00:00",
          "2024-04-22T00:00:00",
          "2024-04-19T00:00:00",
          "2024-04-18T00:00:00",
          "2024-04-17T00:00:00",
          "2024-04-16T00:00:00",
          "2024-04-15T00:00:00",
          "2024-04-12T00:00:00",
          "2024-04-11T00:00:00",
          "2024-04-10T00:00:00",
          "2024-04-09T00:00:00",
          "2024-04-08T00:00:00",
          "2024-04-05T00:00:00",
          "2024-04-04T00:00:00",
          "2024-04-03T00:00:00",
          "2024-04-02T00:00:00",
          "2024-04-01T00:00:00",
          "2024-03-28T00:00:00",
          "2024-03-27T00:00:00",
          "2024-03-26T00:00:00",
          "2024-03-25T00:00:00",
          "2024-03-22T00:00:00",
          "2024-03-21T00:00:00",
          "2024-03-20T00:00:00",
          "2024-03-19T00:00:00",
          "2024-03-18T00:00:00",
          "2024-03-15T00:00:00",
          "2024-03-14T00:00:00",
          "2024-03-13T00:00:00",
          "2024-03-12T00:00:00",
          "2024-03-11T00:00:00",
          "2024-03-08T00:00:00",
          "2024-03-07T00:00:00",
          "2024-03-06T00:00:00",
          "2024-03-05T00:00:00",
          "2024-03-04T00:00:00",
          "2024-03-01T00:00:00",
          "2024-02-29T00:00:00",
          "2024-02-28T00:00:00",
          "2024-02-27T00:00:00",
          "2024-02-26T00:00:00",
          "2024-02-23T00:00:00",
          "2024-02-22T00:00:00",
          "2024-02-21T00:00:00",
          "2024-02-20T00:00:00",
          "2024-02-16T00:00:00",
          "2024-02-15T00:00:00",
          "2024-02-14T00:00:00",
          "2024-02-13T00:00:00",
          "2024-02-12T00:00:00",
          "2024-02-09T00:00:00",
          "2024-02-08T00:00:00",
          "2024-02-07T00:00:00",
          "2024-02-06T00:00:00",
          "2024-02-05T00:00:00",
          "2024-02-02T00:00:00",
          "2024-02-01T00:00:00",
          "2024-01-31T00:00:00",
          "2024-01-30T00:00:00",
          "2024-01-29T00:00:00",
          "2024-01-26T00:00:00",
          "2024-01-25T00:00:00",
          "2024-01-24T00:00:00",
          "2024-01-23T00:00:00",
          "2024-01-22T00:00:00",
          "2024-01-19T00:00:00",
          "2024-01-18T00:00:00",
          "2024-01-17T00:00:00",
          "2024-01-16T00:00:00",
          "2024-01-12T00:00:00",
          "2024-01-11T00:00:00",
          "2024-01-10T00:00:00",
          "2024-01-09T00:00:00",
          "2024-01-08T00:00:00",
          "2024-01-05T00:00:00",
          "2024-01-04T00:00:00",
          "2024-01-03T00:00:00",
          "2024-01-02T00:00:00",
          "2023-12-29T00:00:00",
          "2023-12-28T00:00:00",
          "2023-12-27T00:00:00",
          "2023-12-26T00:00:00",
          "2024-05-17T00:00:00",
          "2024-05-16T00:00:00",
          "2024-05-15T00:00:00",
          "2024-05-14T00:00:00",
          "2024-05-13T00:00:00",
          "2024-05-10T00:00:00",
          "2024-05-09T00:00:00",
          "2024-05-08T00:00:00",
          "2024-05-07T00:00:00",
          "2024-05-06T00:00:00",
          "2024-05-03T00:00:00",
          "2024-05-02T00:00:00",
          "2024-05-01T00:00:00",
          "2024-04-30T00:00:00",
          "2024-04-29T00:00:00",
          "2024-04-26T00:00:00",
          "2024-04-25T00:00:00",
          "2024-04-24T00:00:00",
          "2024-04-23T00:00:00",
          "2024-04-22T00:00:00",
          "2024-04-19T00:00:00",
          "2024-04-18T00:00:00",
          "2024-04-17T00:00:00",
          "2024-04-16T00:00:00",
          "2024-04-15T00:00:00",
          "2024-04-12T00:00:00",
          "2024-04-11T00:00:00",
          "2024-04-10T00:00:00",
          "2024-04-09T00:00:00",
          "2024-04-08T00:00:00",
          "2024-04-05T00:00:00",
          "2024-04-04T00:00:00",
          "2024-04-03T00:00:00",
          "2024-04-02T00:00:00",
          "2024-04-01T00:00:00",
          "2024-03-28T00:00:00",
          "2024-03-27T00:00:00",
          "2024-03-26T00:00:00",
          "2024-03-25T00:00:00",
          "2024-03-22T00:00:00",
          "2024-03-21T00:00:00",
          "2024-03-20T00:00:00",
          "2024-03-19T00:00:00",
          "2024-03-18T00:00:00",
          "2024-03-15T00:00:00",
          "2024-03-14T00:00:00",
          "2024-03-13T00:00:00",
          "2024-03-12T00:00:00",
          "2024-03-11T00:00:00",
          "2024-03-08T00:00:00",
          "2024-03-07T00:00:00",
          "2024-03-06T00:00:00",
          "2024-03-05T00:00:00",
          "2024-03-04T00:00:00",
          "2024-03-01T00:00:00",
          "2024-02-29T00:00:00",
          "2024-02-28T00:00:00",
          "2024-02-27T00:00:00",
          "2024-02-26T00:00:00",
          "2024-02-23T00:00:00",
          "2024-02-22T00:00:00",
          "2024-02-21T00:00:00",
          "2024-02-20T00:00:00",
          "2024-02-16T00:00:00",
          "2024-02-15T00:00:00",
          "2024-02-14T00:00:00",
          "2024-02-13T00:00:00",
          "2024-02-12T00:00:00",
          "2024-02-09T00:00:00",
          "2024-02-08T00:00:00",
          "2024-02-07T00:00:00",
          "2024-02-06T00:00:00",
          "2024-02-05T00:00:00",
          "2024-02-02T00:00:00",
          "2024-02-01T00:00:00",
          "2024-01-31T00:00:00",
          "2024-01-30T00:00:00",
          "2024-01-29T00:00:00",
          "2024-01-26T00:00:00",
          "2024-01-25T00:00:00",
          "2024-01-24T00:00:00",
          "2024-01-23T00:00:00",
          "2024-01-22T00:00:00",
          "2024-01-19T00:00:00",
          "2024-01-18T00:00:00",
          "2024-01-17T00:00:00",
          "2024-01-16T00:00:00",
          "2024-01-12T00:00:00",
          "2024-01-11T00:00:00",
          "2024-01-10T00:00:00",
          "2024-01-09T00:00:00",
          "2024-01-08T00:00:00",
          "2024-01-05T00:00:00",
          "2024-01-04T00:00:00",
          "2024-01-03T00:00:00",
          "2024-01-02T00:00:00",
          "2023-12-29T00:00:00",
          "2023-12-28T00:00:00",
          "2023-12-27T00:00:00",
          "2023-12-26T00:00:00",
          "2024-05-17T00:00:00",
          "2024-05-16T00:00:00",
          "2024-05-15T00:00:00",
          "2024-05-14T00:00:00",
          "2024-05-13T00:00:00",
          "2024-05-10T00:00:00",
          "2024-05-09T00:00:00",
          "2024-05-08T00:00:00",
          "2024-05-07T00:00:00",
          "2024-05-06T00:00:00",
          "2024-05-03T00:00:00",
          "2024-05-02T00:00:00",
          "2024-05-01T00:00:00",
          "2024-04-30T00:00:00",
          "2024-04-29T00:00:00",
          "2024-04-26T00:00:00",
          "2024-04-25T00:00:00",
          "2024-04-24T00:00:00",
          "2024-04-23T00:00:00",
          "2024-04-22T00:00:00",
          "2024-04-19T00:00:00",
          "2024-04-18T00:00:00",
          "2024-04-17T00:00:00",
          "2024-04-16T00:00:00",
          "2024-04-15T00:00:00",
          "2024-04-12T00:00:00",
          "2024-04-11T00:00:00",
          "2024-04-10T00:00:00",
          "2024-04-09T00:00:00",
          "2024-04-08T00:00:00",
          "2024-04-05T00:00:00",
          "2024-04-04T00:00:00",
          "2024-04-03T00:00:00",
          "2024-04-02T00:00:00",
          "2024-04-01T00:00:00",
          "2024-03-28T00:00:00",
          "2024-03-27T00:00:00",
          "2024-03-26T00:00:00",
          "2024-03-25T00:00:00",
          "2024-03-22T00:00:00",
          "2024-03-21T00:00:00",
          "2024-03-20T00:00:00",
          "2024-03-19T00:00:00",
          "2024-03-18T00:00:00",
          "2024-03-15T00:00:00",
          "2024-03-14T00:00:00",
          "2024-03-13T00:00:00",
          "2024-03-12T00:00:00",
          "2024-03-11T00:00:00",
          "2024-03-08T00:00:00",
          "2024-03-07T00:00:00",
          "2024-03-06T00:00:00",
          "2024-03-05T00:00:00",
          "2024-03-04T00:00:00",
          "2024-03-01T00:00:00",
          "2024-02-29T00:00:00",
          "2024-02-28T00:00:00",
          "2024-02-27T00:00:00",
          "2024-02-26T00:00:00",
          "2024-02-23T00:00:00",
          "2024-02-22T00:00:00",
          "2024-02-21T00:00:00",
          "2024-02-20T00:00:00",
          "2024-02-16T00:00:00",
          "2024-02-15T00:00:00",
          "2024-02-14T00:00:00",
          "2024-02-13T00:00:00",
          "2024-02-12T00:00:00",
          "2024-02-09T00:00:00",
          "2024-02-08T00:00:00",
          "2024-02-07T00:00:00",
          "2024-02-06T00:00:00",
          "2024-02-05T00:00:00",
          "2024-02-02T00:00:00",
          "2024-02-01T00:00:00",
          "2024-01-31T00:00:00",
          "2024-01-30T00:00:00",
          "2024-01-29T00:00:00",
          "2024-01-26T00:00:00",
          "2024-01-25T00:00:00",
          "2024-01-24T00:00:00",
          "2024-01-23T00:00:00",
          "2024-01-22T00:00:00",
          "2024-01-19T00:00:00",
          "2024-01-18T00:00:00",
          "2024-01-17T00:00:00",
          "2024-01-16T00:00:00",
          "2024-01-12T00:00:00",
          "2024-01-11T00:00:00",
          "2024-01-10T00:00:00",
          "2024-01-09T00:00:00",
          "2024-01-08T00:00:00",
          "2024-01-05T00:00:00",
          "2024-01-04T00:00:00",
          "2024-01-03T00:00:00",
          "2024-01-02T00:00:00",
          "2023-12-29T00:00:00",
          "2023-12-28T00:00:00",
          "2023-12-27T00:00:00",
          "2023-12-26T00:00:00",
          "2024-05-17T00:00:00",
          "2024-05-16T00:00:00",
          "2024-05-15T00:00:00",
          "2024-05-14T00:00:00",
          "2024-05-13T00:00:00",
          "2024-05-10T00:00:00",
          "2024-05-09T00:00:00",
          "2024-05-08T00:00:00",
          "2024-05-07T00:00:00",
          "2024-05-06T00:00:00",
          "2024-05-03T00:00:00",
          "2024-05-02T00:00:00",
          "2024-05-01T00:00:00",
          "2024-04-30T00:00:00",
          "2024-04-29T00:00:00",
          "2024-04-26T00:00:00",
          "2024-04-25T00:00:00",
          "2024-04-24T00:00:00",
          "2024-04-23T00:00:00",
          "2024-04-22T00:00:00",
          "2024-04-19T00:00:00",
          "2024-04-18T00:00:00",
          "2024-04-17T00:00:00",
          "2024-04-16T00:00:00",
          "2024-04-15T00:00:00",
          "2024-04-12T00:00:00",
          "2024-04-11T00:00:00",
          "2024-04-10T00:00:00",
          "2024-04-09T00:00:00",
          "2024-04-08T00:00:00",
          "2024-04-05T00:00:00",
          "2024-04-04T00:00:00",
          "2024-04-03T00:00:00",
          "2024-04-02T00:00:00",
          "2024-04-01T00:00:00",
          "2024-03-28T00:00:00",
          "2024-03-27T00:00:00",
          "2024-03-26T00:00:00",
          "2024-03-25T00:00:00",
          "2024-03-22T00:00:00",
          "2024-03-21T00:00:00",
          "2024-03-20T00:00:00",
          "2024-03-19T00:00:00",
          "2024-03-18T00:00:00",
          "2024-03-15T00:00:00",
          "2024-03-14T00:00:00",
          "2024-03-13T00:00:00",
          "2024-03-12T00:00:00",
          "2024-03-11T00:00:00",
          "2024-03-08T00:00:00",
          "2024-03-07T00:00:00",
          "2024-03-06T00:00:00",
          "2024-03-05T00:00:00",
          "2024-03-04T00:00:00",
          "2024-03-01T00:00:00",
          "2024-02-29T00:00:00",
          "2024-02-28T00:00:00",
          "2024-02-27T00:00:00",
          "2024-02-26T00:00:00",
          "2024-02-23T00:00:00",
          "2024-02-22T00:00:00",
          "2024-02-21T00:00:00",
          "2024-02-20T00:00:00",
          "2024-02-16T00:00:00",
          "2024-02-15T00:00:00",
          "2024-02-14T00:00:00",
          "2024-02-13T00:00:00",
          "2024-02-12T00:00:00",
          "2024-02-09T00:00:00",
          "2024-02-08T00:00:00",
          "2024-02-07T00:00:00",
          "2024-02-06T00:00:00",
          "2024-02-05T00:00:00",
          "2024-02-02T00:00:00",
          "2024-02-01T00:00:00",
          "2024-01-31T00:00:00",
          "2024-01-30T00:00:00",
          "2024-01-29T00:00:00",
          "2024-01-26T00:00:00",
          "2024-01-25T00:00:00",
          "2024-01-24T00:00:00",
          "2024-01-23T00:00:00",
          "2024-01-22T00:00:00",
          "2024-01-19T00:00:00",
          "2024-01-18T00:00:00",
          "2024-01-17T00:00:00",
          "2024-01-16T00:00:00",
          "2024-01-12T00:00:00",
          "2024-01-11T00:00:00",
          "2024-01-10T00:00:00",
          "2024-01-09T00:00:00",
          "2024-01-08T00:00:00",
          "2024-01-05T00:00:00",
          "2024-01-04T00:00:00",
          "2024-01-03T00:00:00",
          "2024-01-02T00:00:00",
          "2023-12-29T00:00:00",
          "2023-12-28T00:00:00",
          "2023-12-27T00:00:00",
          "2023-12-26T00:00:00",
          "2024-05-17T00:00:00",
          "2024-05-16T00:00:00",
          "2024-05-15T00:00:00",
          "2024-05-14T00:00:00",
          "2024-05-13T00:00:00",
          "2024-05-10T00:00:00",
          "2024-05-09T00:00:00",
          "2024-05-08T00:00:00",
          "2024-05-07T00:00:00",
          "2024-05-06T00:00:00",
          "2024-05-03T00:00:00",
          "2024-05-02T00:00:00",
          "2024-05-01T00:00:00",
          "2024-04-30T00:00:00",
          "2024-04-29T00:00:00",
          "2024-04-26T00:00:00",
          "2024-04-25T00:00:00",
          "2024-04-24T00:00:00",
          "2024-04-23T00:00:00",
          "2024-04-22T00:00:00",
          "2024-04-19T00:00:00",
          "2024-04-18T00:00:00",
          "2024-04-17T00:00:00",
          "2024-04-16T00:00:00",
          "2024-04-15T00:00:00",
          "2024-04-12T00:00:00",
          "2024-04-11T00:00:00",
          "2024-04-10T00:00:00",
          "2024-04-09T00:00:00",
          "2024-04-08T00:00:00",
          "2024-04-05T00:00:00",
          "2024-04-04T00:00:00",
          "2024-04-03T00:00:00",
          "2024-04-02T00:00:00",
          "2024-04-01T00:00:00",
          "2024-03-28T00:00:00",
          "2024-03-27T00:00:00",
          "2024-03-26T00:00:00",
          "2024-03-25T00:00:00",
          "2024-03-22T00:00:00",
          "2024-03-21T00:00:00",
          "2024-03-20T00:00:00",
          "2024-03-19T00:00:00",
          "2024-03-18T00:00:00",
          "2024-03-15T00:00:00",
          "2024-03-14T00:00:00",
          "2024-03-13T00:00:00",
          "2024-03-12T00:00:00",
          "2024-03-11T00:00:00",
          "2024-03-08T00:00:00",
          "2024-03-07T00:00:00",
          "2024-03-06T00:00:00",
          "2024-03-05T00:00:00",
          "2024-03-04T00:00:00",
          "2024-03-01T00:00:00",
          "2024-02-29T00:00:00",
          "2024-02-28T00:00:00",
          "2024-02-27T00:00:00",
          "2024-02-26T00:00:00",
          "2024-02-23T00:00:00",
          "2024-02-22T00:00:00",
          "2024-02-21T00:00:00",
          "2024-02-20T00:00:00",
          "2024-02-16T00:00:00",
          "2024-02-15T00:00:00",
          "2024-02-14T00:00:00",
          "2024-02-13T00:00:00",
          "2024-02-12T00:00:00",
          "2024-02-09T00:00:00",
          "2024-02-08T00:00:00",
          "2024-02-07T00:00:00",
          "2024-02-06T00:00:00",
          "2024-02-05T00:00:00",
          "2024-02-02T00:00:00",
          "2024-02-01T00:00:00",
          "2024-01-31T00:00:00",
          "2024-01-30T00:00:00",
          "2024-01-29T00:00:00",
          "2024-01-26T00:00:00",
          "2024-01-25T00:00:00",
          "2024-01-24T00:00:00",
          "2024-01-23T00:00:00",
          "2024-01-22T00:00:00",
          "2024-01-19T00:00:00",
          "2024-01-18T00:00:00",
          "2024-01-17T00:00:00",
          "2024-01-16T00:00:00",
          "2024-01-12T00:00:00",
          "2024-01-11T00:00:00",
          "2024-01-10T00:00:00",
          "2024-01-09T00:00:00",
          "2024-01-08T00:00:00",
          "2024-01-05T00:00:00",
          "2024-01-04T00:00:00",
          "2024-01-03T00:00:00",
          "2024-01-02T00:00:00",
          "2023-12-29T00:00:00",
          "2023-12-28T00:00:00",
          "2023-12-27T00:00:00",
          "2023-12-26T00:00:00",
          "2024-05-17T00:00:00",
          "2024-05-16T00:00:00",
          "2024-05-15T00:00:00",
          "2024-05-14T00:00:00",
          "2024-05-13T00:00:00",
          "2024-05-10T00:00:00",
          "2024-05-09T00:00:00",
          "2024-05-08T00:00:00",
          "2024-05-07T00:00:00",
          "2024-05-06T00:00:00",
          "2024-05-03T00:00:00",
          "2024-05-02T00:00:00",
          "2024-05-01T00:00:00",
          "2024-04-30T00:00:00",
          "2024-04-29T00:00:00",
          "2024-04-26T00:00:00",
          "2024-04-25T00:00:00",
          "2024-04-24T00:00:00",
          "2024-04-23T00:00:00",
          "2024-04-22T00:00:00",
          "2024-04-19T00:00:00",
          "2024-04-18T00:00:00",
          "2024-04-17T00:00:00",
          "2024-04-16T00:00:00",
          "2024-04-15T00:00:00",
          "2024-04-12T00:00:00",
          "2024-04-11T00:00:00",
          "2024-04-10T00:00:00",
          "2024-04-09T00:00:00",
          "2024-04-08T00:00:00",
          "2024-04-05T00:00:00",
          "2024-04-04T00:00:00",
          "2024-04-03T00:00:00",
          "2024-04-02T00:00:00",
          "2024-04-01T00:00:00",
          "2024-03-28T00:00:00",
          "2024-03-27T00:00:00",
          "2024-03-26T00:00:00",
          "2024-03-25T00:00:00",
          "2024-03-22T00:00:00",
          "2024-03-21T00:00:00",
          "2024-03-20T00:00:00",
          "2024-03-19T00:00:00",
          "2024-03-18T00:00:00",
          "2024-03-15T00:00:00",
          "2024-03-14T00:00:00",
          "2024-03-13T00:00:00",
          "2024-03-12T00:00:00",
          "2024-03-11T00:00:00",
          "2024-03-08T00:00:00",
          "2024-03-07T00:00:00",
          "2024-03-06T00:00:00",
          "2024-03-05T00:00:00",
          "2024-03-04T00:00:00",
          "2024-03-01T00:00:00",
          "2024-02-29T00:00:00",
          "2024-02-28T00:00:00",
          "2024-02-27T00:00:00",
          "2024-02-26T00:00:00",
          "2024-02-23T00:00:00",
          "2024-02-22T00:00:00",
          "2024-02-21T00:00:00",
          "2024-02-20T00:00:00",
          "2024-02-16T00:00:00",
          "2024-02-15T00:00:00",
          "2024-02-14T00:00:00",
          "2024-02-13T00:00:00",
          "2024-02-12T00:00:00",
          "2024-02-09T00:00:00",
          "2024-02-08T00:00:00",
          "2024-02-07T00:00:00",
          "2024-02-06T00:00:00",
          "2024-02-05T00:00:00",
          "2024-02-02T00:00:00",
          "2024-02-01T00:00:00",
          "2024-01-31T00:00:00",
          "2024-01-30T00:00:00",
          "2024-01-29T00:00:00",
          "2024-01-26T00:00:00",
          "2024-01-25T00:00:00",
          "2024-01-24T00:00:00",
          "2024-01-23T00:00:00",
          "2024-01-22T00:00:00",
          "2024-01-19T00:00:00",
          "2024-01-18T00:00:00",
          "2024-01-17T00:00:00",
          "2024-01-16T00:00:00",
          "2024-01-12T00:00:00",
          "2024-01-11T00:00:00",
          "2024-01-10T00:00:00",
          "2024-01-09T00:00:00",
          "2024-01-08T00:00:00",
          "2024-01-05T00:00:00",
          "2024-01-04T00:00:00",
          "2024-01-03T00:00:00",
          "2024-01-02T00:00:00",
          "2023-12-29T00:00:00",
          "2023-12-28T00:00:00",
          "2023-12-27T00:00:00",
          "2023-12-26T00:00:00",
          "2024-05-17T00:00:00",
          "2024-05-16T00:00:00",
          "2024-05-15T00:00:00",
          "2024-05-14T00:00:00",
          "2024-05-13T00:00:00",
          "2024-05-10T00:00:00",
          "2024-05-09T00:00:00",
          "2024-05-08T00:00:00",
          "2024-05-07T00:00:00",
          "2024-05-06T00:00:00",
          "2024-05-03T00:00:00",
          "2024-05-02T00:00:00",
          "2024-05-01T00:00:00",
          "2024-04-30T00:00:00",
          "2024-04-29T00:00:00",
          "2024-04-26T00:00:00",
          "2024-04-25T00:00:00",
          "2024-04-24T00:00:00",
          "2024-04-23T00:00:00",
          "2024-04-22T00:00:00",
          "2024-04-19T00:00:00",
          "2024-04-18T00:00:00",
          "2024-04-17T00:00:00",
          "2024-04-16T00:00:00",
          "2024-04-15T00:00:00",
          "2024-04-12T00:00:00",
          "2024-04-11T00:00:00",
          "2024-04-10T00:00:00",
          "2024-04-09T00:00:00",
          "2024-04-08T00:00:00",
          "2024-04-05T00:00:00",
          "2024-04-04T00:00:00",
          "2024-04-03T00:00:00",
          "2024-04-02T00:00:00",
          "2024-04-01T00:00:00",
          "2024-03-28T00:00:00",
          "2024-03-27T00:00:00",
          "2024-03-26T00:00:00",
          "2024-03-25T00:00:00",
          "2024-03-22T00:00:00",
          "2024-03-21T00:00:00",
          "2024-03-20T00:00:00",
          "2024-03-19T00:00:00",
          "2024-03-18T00:00:00",
          "2024-03-15T00:00:00",
          "2024-03-14T00:00:00",
          "2024-03-13T00:00:00",
          "2024-03-12T00:00:00",
          "2024-03-11T00:00:00",
          "2024-03-08T00:00:00",
          "2024-03-07T00:00:00",
          "2024-03-06T00:00:00",
          "2024-03-05T00:00:00",
          "2024-03-04T00:00:00",
          "2024-03-01T00:00:00",
          "2024-02-29T00:00:00",
          "2024-02-28T00:00:00",
          "2024-02-27T00:00:00",
          "2024-02-26T00:00:00",
          "2024-02-23T00:00:00",
          "2024-02-22T00:00:00",
          "2024-02-21T00:00:00",
          "2024-02-20T00:00:00",
          "2024-02-16T00:00:00",
          "2024-02-15T00:00:00",
          "2024-02-14T00:00:00",
          "2024-02-13T00:00:00",
          "2024-02-12T00:00:00",
          "2024-02-09T00:00:00",
          "2024-02-08T00:00:00",
          "2024-02-07T00:00:00",
          "2024-02-06T00:00:00",
          "2024-02-05T00:00:00",
          "2024-02-02T00:00:00",
          "2024-02-01T00:00:00",
          "2024-01-31T00:00:00",
          "2024-01-30T00:00:00",
          "2024-01-29T00:00:00",
          "2024-01-26T00:00:00",
          "2024-01-25T00:00:00",
          "2024-01-24T00:00:00",
          "2024-01-23T00:00:00",
          "2024-01-22T00:00:00",
          "2024-01-19T00:00:00",
          "2024-01-18T00:00:00",
          "2024-01-17T00:00:00",
          "2024-01-16T00:00:00",
          "2024-01-12T00:00:00",
          "2024-01-11T00:00:00",
          "2024-01-10T00:00:00",
          "2024-01-09T00:00:00",
          "2024-01-08T00:00:00",
          "2024-01-05T00:00:00",
          "2024-01-04T00:00:00",
          "2024-01-03T00:00:00",
          "2024-01-02T00:00:00",
          "2023-12-29T00:00:00",
          "2023-12-28T00:00:00",
          "2023-12-27T00:00:00",
          "2023-12-26T00:00:00",
          "2024-05-17T00:00:00",
          "2024-05-16T00:00:00",
          "2024-05-15T00:00:00",
          "2024-05-14T00:00:00",
          "2024-05-13T00:00:00",
          "2024-05-10T00:00:00",
          "2024-05-09T00:00:00",
          "2024-05-08T00:00:00",
          "2024-05-07T00:00:00",
          "2024-05-06T00:00:00",
          "2024-05-03T00:00:00",
          "2024-05-02T00:00:00",
          "2024-05-01T00:00:00",
          "2024-04-30T00:00:00",
          "2024-04-29T00:00:00",
          "2024-04-26T00:00:00",
          "2024-04-25T00:00:00",
          "2024-04-24T00:00:00",
          "2024-04-23T00:00:00",
          "2024-04-22T00:00:00",
          "2024-04-19T00:00:00",
          "2024-04-18T00:00:00",
          "2024-04-17T00:00:00",
          "2024-04-16T00:00:00",
          "2024-04-15T00:00:00",
          "2024-04-12T00:00:00",
          "2024-04-11T00:00:00",
          "2024-04-10T00:00:00",
          "2024-04-09T00:00:00",
          "2024-04-08T00:00:00",
          "2024-04-05T00:00:00",
          "2024-04-04T00:00:00",
          "2024-04-03T00:00:00",
          "2024-04-02T00:00:00",
          "2024-04-01T00:00:00",
          "2024-03-28T00:00:00",
          "2024-03-27T00:00:00",
          "2024-03-26T00:00:00",
          "2024-03-25T00:00:00",
          "2024-03-22T00:00:00",
          "2024-03-21T00:00:00",
          "2024-03-20T00:00:00",
          "2024-03-19T00:00:00",
          "2024-03-18T00:00:00",
          "2024-03-15T00:00:00",
          "2024-03-14T00:00:00",
          "2024-03-13T00:00:00",
          "2024-03-12T00:00:00",
          "2024-03-11T00:00:00",
          "2024-03-08T00:00:00",
          "2024-03-07T00:00:00",
          "2024-03-06T00:00:00",
          "2024-03-05T00:00:00",
          "2024-03-04T00:00:00",
          "2024-03-01T00:00:00",
          "2024-02-29T00:00:00",
          "2024-02-28T00:00:00",
          "2024-02-27T00:00:00",
          "2024-02-26T00:00:00",
          "2024-02-23T00:00:00",
          "2024-02-22T00:00:00",
          "2024-02-21T00:00:00",
          "2024-02-20T00:00:00",
          "2024-02-16T00:00:00",
          "2024-02-15T00:00:00",
          "2024-02-14T00:00:00",
          "2024-02-13T00:00:00",
          "2024-02-12T00:00:00",
          "2024-02-09T00:00:00",
          "2024-02-08T00:00:00",
          "2024-02-07T00:00:00",
          "2024-02-06T00:00:00",
          "2024-02-05T00:00:00",
          "2024-02-02T00:00:00",
          "2024-02-01T00:00:00",
          "2024-01-31T00:00:00",
          "2024-01-30T00:00:00",
          "2024-01-29T00:00:00",
          "2024-01-26T00:00:00",
          "2024-01-25T00:00:00",
          "2024-01-24T00:00:00",
          "2024-01-23T00:00:00",
          "2024-01-22T00:00:00",
          "2024-01-19T00:00:00",
          "2024-01-18T00:00:00",
          "2024-01-17T00:00:00",
          "2024-01-16T00:00:00",
          "2024-01-12T00:00:00",
          "2024-01-11T00:00:00",
          "2024-01-10T00:00:00",
          "2024-01-09T00:00:00",
          "2024-01-08T00:00:00",
          "2024-01-05T00:00:00",
          "2024-01-04T00:00:00",
          "2024-01-03T00:00:00",
          "2024-01-02T00:00:00",
          "2023-12-29T00:00:00",
          "2023-12-28T00:00:00",
          "2023-12-27T00:00:00",
          "2023-12-26T00:00:00",
          "2024-05-17T00:00:00",
          "2024-05-16T00:00:00",
          "2024-05-15T00:00:00",
          "2024-05-14T00:00:00",
          "2024-05-13T00:00:00",
          "2024-05-10T00:00:00",
          "2024-05-09T00:00:00",
          "2024-05-08T00:00:00",
          "2024-05-07T00:00:00",
          "2024-05-06T00:00:00",
          "2024-05-03T00:00:00",
          "2024-05-02T00:00:00",
          "2024-05-01T00:00:00",
          "2024-04-30T00:00:00",
          "2024-04-29T00:00:00",
          "2024-04-26T00:00:00",
          "2024-04-25T00:00:00",
          "2024-04-24T00:00:00",
          "2024-04-23T00:00:00",
          "2024-04-22T00:00:00",
          "2024-04-19T00:00:00",
          "2024-04-18T00:00:00",
          "2024-04-17T00:00:00",
          "2024-04-16T00:00:00",
          "2024-04-15T00:00:00",
          "2024-04-12T00:00:00",
          "2024-04-11T00:00:00",
          "2024-04-10T00:00:00",
          "2024-04-09T00:00:00",
          "2024-04-08T00:00:00",
          "2024-04-05T00:00:00",
          "2024-04-04T00:00:00",
          "2024-04-03T00:00:00",
          "2024-04-02T00:00:00",
          "2024-04-01T00:00:00",
          "2024-03-28T00:00:00",
          "2024-03-27T00:00:00",
          "2024-03-26T00:00:00",
          "2024-03-25T00:00:00",
          "2024-03-22T00:00:00",
          "2024-03-21T00:00:00",
          "2024-03-20T00:00:00",
          "2024-03-19T00:00:00",
          "2024-03-18T00:00:00",
          "2024-03-15T00:00:00",
          "2024-03-14T00:00:00",
          "2024-03-13T00:00:00",
          "2024-03-12T00:00:00",
          "2024-03-11T00:00:00",
          "2024-03-08T00:00:00",
          "2024-03-07T00:00:00",
          "2024-03-06T00:00:00",
          "2024-03-05T00:00:00",
          "2024-03-04T00:00:00",
          "2024-03-01T00:00:00",
          "2024-02-29T00:00:00",
          "2024-02-28T00:00:00",
          "2024-02-27T00:00:00",
          "2024-02-26T00:00:00",
          "2024-02-23T00:00:00",
          "2024-02-22T00:00:00",
          "2024-02-21T00:00:00",
          "2024-02-20T00:00:00",
          "2024-02-16T00:00:00",
          "2024-02-15T00:00:00",
          "2024-02-14T00:00:00",
          "2024-02-13T00:00:00",
          "2024-02-12T00:00:00",
          "2024-02-09T00:00:00",
          "2024-02-08T00:00:00",
          "2024-02-07T00:00:00",
          "2024-02-06T00:00:00",
          "2024-02-05T00:00:00",
          "2024-02-02T00:00:00",
          "2024-02-01T00:00:00",
          "2024-01-31T00:00:00",
          "2024-01-30T00:00:00",
          "2024-01-29T00:00:00",
          "2024-01-26T00:00:00",
          "2024-01-25T00:00:00",
          "2024-01-24T00:00:00",
          "2024-01-23T00:00:00",
          "2024-01-22T00:00:00",
          "2024-01-19T00:00:00",
          "2024-01-18T00:00:00",
          "2024-01-17T00:00:00",
          "2024-01-16T00:00:00",
          "2024-01-12T00:00:00",
          "2024-01-11T00:00:00",
          "2024-01-10T00:00:00",
          "2024-01-09T00:00:00",
          "2024-01-08T00:00:00",
          "2024-01-05T00:00:00",
          "2024-01-04T00:00:00",
          "2024-01-03T00:00:00",
          "2024-01-02T00:00:00",
          "2023-12-29T00:00:00",
          "2023-12-28T00:00:00",
          "2023-12-27T00:00:00",
          "2023-12-26T00:00:00",
          "2024-05-17T00:00:00",
          "2024-05-16T00:00:00",
          "2024-05-15T00:00:00",
          "2024-05-14T00:00:00",
          "2024-05-13T00:00:00",
          "2024-05-10T00:00:00",
          "2024-05-09T00:00:00",
          "2024-05-08T00:00:00",
          "2024-05-07T00:00:00",
          "2024-05-06T00:00:00",
          "2024-05-03T00:00:00",
          "2024-05-02T00:00:00",
          "2024-05-01T00:00:00",
          "2024-04-30T00:00:00",
          "2024-04-29T00:00:00",
          "2024-04-26T00:00:00",
          "2024-04-25T00:00:00",
          "2024-04-24T00:00:00",
          "2024-04-23T00:00:00",
          "2024-04-22T00:00:00",
          "2024-04-19T00:00:00",
          "2024-04-18T00:00:00",
          "2024-04-17T00:00:00",
          "2024-04-16T00:00:00",
          "2024-04-15T00:00:00",
          "2024-04-12T00:00:00",
          "2024-04-11T00:00:00",
          "2024-04-10T00:00:00",
          "2024-04-09T00:00:00",
          "2024-04-08T00:00:00",
          "2024-04-05T00:00:00",
          "2024-04-04T00:00:00",
          "2024-04-03T00:00:00",
          "2024-04-02T00:00:00",
          "2024-04-01T00:00:00",
          "2024-03-28T00:00:00",
          "2024-03-27T00:00:00",
          "2024-03-26T00:00:00",
          "2024-03-25T00:00:00",
          "2024-03-22T00:00:00",
          "2024-03-21T00:00:00",
          "2024-03-20T00:00:00",
          "2024-03-19T00:00:00",
          "2024-03-18T00:00:00",
          "2024-03-15T00:00:00",
          "2024-03-14T00:00:00",
          "2024-03-13T00:00:00",
          "2024-03-12T00:00:00",
          "2024-03-11T00:00:00",
          "2024-03-08T00:00:00",
          "2024-03-07T00:00:00",
          "2024-03-06T00:00:00",
          "2024-03-05T00:00:00",
          "2024-03-04T00:00:00",
          "2024-03-01T00:00:00",
          "2024-02-29T00:00:00",
          "2024-02-28T00:00:00",
          "2024-02-27T00:00:00",
          "2024-02-26T00:00:00",
          "2024-02-23T00:00:00",
          "2024-02-22T00:00:00",
          "2024-02-21T00:00:00",
          "2024-02-20T00:00:00",
          "2024-02-16T00:00:00",
          "2024-02-15T00:00:00",
          "2024-02-14T00:00:00",
          "2024-02-13T00:00:00",
          "2024-02-12T00:00:00",
          "2024-02-09T00:00:00",
          "2024-02-08T00:00:00",
          "2024-02-07T00:00:00",
          "2024-02-06T00:00:00",
          "2024-02-05T00:00:00",
          "2024-02-02T00:00:00",
          "2024-02-01T00:00:00",
          "2024-01-31T00:00:00",
          "2024-01-30T00:00:00",
          "2024-01-29T00:00:00",
          "2024-01-26T00:00:00",
          "2024-01-25T00:00:00",
          "2024-01-24T00:00:00",
          "2024-01-23T00:00:00",
          "2024-01-22T00:00:00",
          "2024-01-19T00:00:00",
          "2024-01-18T00:00:00",
          "2024-01-17T00:00:00",
          "2024-01-16T00:00:00",
          "2024-01-12T00:00:00",
          "2024-01-11T00:00:00",
          "2024-01-10T00:00:00",
          "2024-01-09T00:00:00",
          "2024-01-08T00:00:00",
          "2024-01-05T00:00:00",
          "2024-01-04T00:00:00",
          "2024-01-03T00:00:00",
          "2024-01-02T00:00:00",
          "2023-12-29T00:00:00",
          "2023-12-28T00:00:00",
          "2023-12-27T00:00:00",
          "2023-12-26T00:00:00"
         ],
         "xaxis": "x",
         "y": [
          0.01580278128950755,
          0.06325110689437305,
          1.2217894680680745,
          0.6173502254670419,
          1.7645452062278009,
          -0.8235357858806858,
          1.001422786472575,
          0.18640350877193168,
          0.3797259369324736,
          -0.9106772821463559,
          5.98162168410102,
          2.2031896042527994,
          -0.6047085070157935,
          -1.8270893371757853,
          2.480803307737737,
          -0.34728353640589504,
          0.5147319843805325,
          1.2702216896345144,
          0.6391702846116754,
          0.5090909090909111,
          -1.2212643678160873,
          -0.5714285714285762,
          -0.8147360963513965,
          -1.9167293995019992,
          -2.18634947606911,
          0.8626599634369397,
          4.327095005364162,
          -1.1139270348323136,
          0.7242505194419703,
          -0.6663521641703171,
          0.45018362753229435,
          -0.48924255820808277,
          0.4797441364605557,
          -0.6998764923836956,
          -0.8455796594354961,
          -1.0559113726847917,
          2.1212656885274845,
          -0.6672519754170245,
          -0.8300441142326485,
          0.5310147633774853,
          -4.085744668942734,
          1.4709223080417848,
          1.3585079438176455,
          0.6372378635152325,
          -0.2196531791907488,
          1.092736516098875,
          -1.2122611556889653,
          0.27785817655571043,
          1.1831546886897502,
          1.0236686390532483,
          -0.07095553453169616,
          -0.587820362097343,
          -2.8440890919474526,
          -2.5381275743070257,
          -0.6030428769017999,
          -0.3693087862418628,
          -0.6625417510814258,
          0.8114374034003086,
          -0.7451238220469064,
          -1.0034170418180801,
          1.1243966652040431,
          0.4185944040537513,
          -0.4113871976304097,
          -0.8430327423039331,
          -0.15748031496062562,
          -0.4809770860354444,
          -1.1274378840502344,
          -0.9001853322742858,
          0.28143585386576103,
          -0.5754712000422382,
          0.05810882197569213,
          0.8631713554987236,
          0.9846650524616694,
          -0.540511612972289,
          1.3340563991323253,
          -1.9357583492873784,
          -1.9245814426537309,
          -0.35859058309946873,
          -0.9012720811659887,
          -0.16966580976864395,
          -0.3483963520852581,
          0.6653257001392648,
          1.2163290874921613,
          1.5533054127127217,
          3.2570615283555884,
          -0.5173446604585246,
          -1.2317125645438858,
          0.1778113044883798,
          -0.32225146355872725,
          0.567138381765157,
          -0.2263418840267385,
          2.4174853736615494,
          -0.4012973448408497,
          -1.270013568521033,
          -0.7487610428786827,
          -3.578663065496294,
          -0.5424114061370034,
          0.22262490292519121,
          0.05180005180004885,
          "-",
          -0.18527756003706253,
          -0.49399640729885014,
          1.5652006913769883,
          0.6864546069805605,
          -0.2459372136760336,
          0.5869227784245286,
          0.43357529108003423,
          0.29315483461182523,
          -1.0156212216472518,
          1.691831013623173,
          2.216971646893236,
          0.7342887527219266,
          1.440936994323585,
          -3.211932877563708,
          -1.0016735577869644,
          1.8243785084202016,
          -2.449518408057493,
          0.36558137252496725,
          1.6485434956105383,
          0.4610142313088732,
          -1.2739011056966822,
          -1.8380924630924615,
          -0.6609098364609989,
          0.2272507494439604,
          -1.9578099075610316,
          -1.4091089664197485,
          1.103340736190525,
          -0.7084545369240832,
          0.39803104171082637,
          -0.2185561195713496,
          1.8282760601129477,
          -0.6112498513497427,
          -0.2349088838268814,
          -0.7372164778481748,
          0.9150979273626083,
          -0.16847400517285896,
          -0.05217597533498647,
          -0.2861467152249057,
          -1.3714605588468525,
          -0.14672659943638247,
          0.9735907626460942,
          0.9064806245698945,
          0.9800632608070622,
          0.21612794774505964,
          -2.0695169559286986,
          2.4379667549987967,
          -0.04334424966286601,
          2.6599426480767305,
          -0.4184924425188434,
          -0.7136921347216012,
          1.7533388047452092,
          -0.1390786042468651,
          -2.95719656801312,
          -0.13959085439229463,
          0.4496663765593303,
          1.451976846855675,
          0.05889859625012494,
          -0.01472248122883699,
          -0.6823609689525649,
          -0.3182315073484762,
          2.354667064498476,
          -0.15144368032970373,
          -0.3143097559768306,
          -0.6149153876426603,
          -0.7155241886248765,
          0.7801732624532428,
          -2.1528680826470157,
          -1.2578765901795317,
          1.5551423534809585,
          0.01449100350199306,
          2.111026165873388,
          -0.039442869468746006,
          -1.3545061037887383,
          1.8425875476744897,
          1.5594345792041826,
          -2.694632761447904,
          -0.27579810602363863,
          1.433416681108118,
          -0.23217329019191288,
          0.5738275039745634,
          0.9175231887691214,
          0.6027590729111463,
          -0.5418014899541036,
          1.2186762129636712,
          1.129740416463393,
          -0.2049862915417415,
          0.46335624372537243,
          0.9983620622416431,
          0.48593149933380714,
          1.8574203677585783,
          0.2935760228455584,
          1.8871515975526845,
          -0.051638854161003896,
          -0.7177549919050256,
          -0.07280179038476604,
          -1.3748537389639441,
          0.20251545512685137,
          0.3234688694629293,
          -0.15747611167459344,
          "-",
          0.5826934596743415,
          -1.2688854239475313,
          -0.5773239963649885,
          0.2679959264619178,
          -0.48538510774482435,
          -1.0659630606860213,
          0.7978723404255319,
          -0.40262767535494326,
          0.03179650238473889,
          1.337199935556619,
          0.8066262451277659,
          3.1955307262569828,
          2.2857142857142856,
          -3.2935455349248492,
          0.7460193742344969,
          3.426037887948418,
          -1.6535477660116746,
          -1.6430878912777034,
          1.303391073745981,
          1.4888621657218086,
          -2.5610980917308357,
          -1.1363636363636376,
          -1.112808204233031,
          -0.1633808953273126,
          -1.3485198517165373,
          -1.5445649299127298,
          1.6671148158107143,
          0.15080519200732545,
          0.2591932609752091,
          0.06484033068568897,
          2.816666666666663,
          -1.3211994956416844,
          0.951906580330953,
          -0.15472177709012605,
          0.3270872602284086,
          0.3058444086081204,
          0.8581043185642182,
          -0.7845974069333908,
          0.4696148040476343,
          0.4041538029750204,
          0,
          1.2791358726549176,
          0.8138468592388904,
          0.03439972480220289,
          -2.4223776223776294,
          1.2432386508453417,
          0.6642339928160218,
          1.9946499185857047,
          -1.933276304533782,
          -0.8313539192399044,
          1.9076710276064792,
          -0.3503331036067159,
          -1.9484176145962424,
          -0.35910672202894534,
          0.8259787282190586,
          2.0790020790020756,
          -0.21896968998501523,
          -0.6810507640359399,
          -0.1485799188525169,
          0.23484935273226978,
          3.5529983984815288,
          0.9037586784773707,
          -1.4335437437319207,
          -0.17078916372203795,
          -0.6901391975669543,
          1.3875711574952583,
          -2.146918881281198,
          -1.209515620521631,
          2.714319359397071,
          -0.40462088782032357,
          0.8158439255098997,
          -0.6811109153895817,
          -0.8730574471800244,
          7.866649924660975,
          2.6288659793814517,
          -2.389937106918246,
          -1.4014634751333195,
          1.3448969331322187,
          0.8684627575277366,
          0.5609740549499557,
          0.5448019484681415,
          0.8011370978162612,
          -0.3604995493755647,
          1.1986970684039109,
          1.1798826708852361,
          -0.9467223818229229,
          -0.9442504203854664,
          -0.360871246294627,
          0.9432121251545028,
          1.5590936116799796,
          1.522468142186459,
          2.657670063343421,
          0.46344331465727046,
          -2.6267932915740593,
          -0.9737877676248969,
          -1.3228906147163295,
          -0.9388446994392997,
          0.026085822355544568,
          -0.04562935923342232,
          "-",
          -1.9923907629372999,
          -0.28637852689421145,
          3.583782127063358,
          1.0586400292038558,
          0.5796746701083733,
          1.2744092758065,
          -1.8415697031367493,
          -0.15681250966273816,
          -1.721293683525072,
          3.774116163038213,
          3.4631832853630433,
          3.342926987873459,
          -3.88995625101271,
          -1.5440363731668205,
          0.025075511483447572,
          6.1755736276503015,
          3.7087239730411623,
          -3.331594336532283,
          3.6532608969038547,
          4.3543307086614105,
          -10.004606063469195,
          0.756827512346048,
          -3.8666132814734264,
          1.6441669282915299,
          -2.4777175515387957,
          -2.681645625496596,
          4.109651995082662,
          1.9741312650842402,
          -2.0417063569485814,
          -0.9942277974729569,
          2.448053081892799,
          -3.4384694932781836,
          -0.5455439788937079,
          -1.0081559930502544,
          0.007747133560588121,
          0.11745152354570032,
          -2.496731884919136,
          -2.5694195911664988,
          0.7561857692837972,
          3.121343030568159,
          1.1762492807506746,
          1.089509832434731,
          1.0660787971284906,
          0.7041491862722155,
          -0.12223687801328634,
          -3.239151483144083,
          -1.1151850119134399,
          7.15718049758668,
          -2.003930170916731,
          -5.54770203627967,
          4.47463359639234,
          3.1827276534363236,
          0.8529159871886601,
          3.595085015617599,
          4.003185357467888,
          1.8657533188262119,
          -1.3189158968755157,
          -0.4943609973195732,
          0.34890949921971154,
          0.3552420484351478,
          16.400877400995963,
          -2.850889823187231,
          -4.3532149890515495,
          -0.06193399212750769,
          -1.6806495263870038,
          2.456743566992018,
          -0.16609456317130514,
          0.15942772378799955,
          3.578351832971967,
          -0.6533616742036321,
          2.7498057839731453,
          -1.5995499913459919,
          4.7944377267231,
          4.970885493518657,
          2.4379540689453414,
          -1.986491222480649,
          0.4946770191307183,
          2.3496256001048703,
          -0.951036239998704,
          0.41556663733254373,
          2.4869306699179905,
          0.36711704160660724,
          0.27399102385234664,
          4.174619573782533,
          1.8803632276595503,
          -0.583519562981107,
          3.0561140559312787,
          -0.20429754478129303,
          0.8684452621895175,
          2.2770041400075316,
          1.697510190802443,
          6.428091329409118,
          2.2896787366140274,
          0.9018478420820325,
          -1.2435641919946872,
          -2.7341383627478737,
          0,
          0.21247748750430245,
          0.2800381501247987,
          "-",
          1.079343208175448,
          0.9680598226189879,
          1.273922742749787,
          0.7094714437743982,
          0.2905425437296061,
          -0.7707695928453767,
          0.34242531585784186,
          -1.0919708029197106,
          1.873884592504465,
          0.5142310452044877,
          0.3721041891729711,
          1.6843647015745093,
          0.6634721710283895,
          -2.0282876918447212,
          -3.3730735678976353,
          10.224358974358967,
          -1.9669452648777703,
          0.5497282952104161,
          1.2669567443050869,
          1.4212473229930545,
          -1.2306903403627893,
          0.3473338907827826,
          0.6930051813471458,
          -0.2970424899909647,
          -1.8195650795663325,
          -1.0538862053823517,
          2.0942743691558925,
          -0.29374201787995396,
          1.130125928317727,
          1.5409836065573734,
          1.3087092273965315,
          -2.8337206300025732,
          0.2329192546583755,
          -0.598109203164195,
          3.0212681375472084,
          0.03976933784052646,
          0.13274042609677908,
          0.39981342040380774,
          -0.4642833454931465,
          2.1476964769647804,
          -0.7664380798709256,
          1.1630279534788874,
          -0.4401408450704264,
          4.6040515653775325,
          -1.3417190775681254,
          2.367837470491453,
          0.9314079422382614,
          0.602890971162935,
          1.6690052433350497,
          0.7664831076052993,
          2.267884322678835,
          -0.9572623803421889,
          -0.5099362579677592,
          -2.763599241650862,
          -0.9533439260436382,
          1.5251503152955073,
          -1.800115207373272,
          0.9522424947299574,
          -4.438732981383728,
          -0.09022138940939374,
          1.0803226937916464,
          1.0133219954648574,
          0.42698548249359114,
          -1.575961336415213,
          -2.172125531040145,
          0.5511919525975,
          -1.6200094895953465,
          -0.9865771812080528,
          2.117743814680285,
          0.2542256424350725,
          0.999306037473975,
          0.2923162583518844,
          0.9130495856159653,
          0.8642674978747513,
          0.7566024268379745,
          -7.500330120163748,
          -1.3354178880854557,
          0.870650852580733,
          0.2074142358596153,
          2.1318090114324253,
          1.1289445048966245,
          0.7192273443386415,
          -0.2664298401420866,
          2.0211876219682225,
          1.4207959284653926,
          -0.7158397080496948,
          -0.11216263582193942,
          0.40118243243242757,
          -0.1405678942929355,
          0.9435970202199452,
          1.5197349467012282,
          2.291313637368315,
          -0.48390644475401173,
          -1.8211920529801335,
          0.5428095823984946,
          -1.0881237024840793,
          -0.3850816515724111,
          -0.0997364109140235,
          -0.8126059920859283,
          "-",
          1.498512926103869,
          0.4885338237829728,
          -2.005068994649396,
          3.2928035371458635,
          2.0300350210719937,
          -2.0352387044251903,
          -1.5739468864468864,
          -1.7378100219335266,
          -3.761636717904302,
          1.9703074121088324,
          0.6555191378256802,
          0.01111172842934708,
          -1.7950676560453909,
          -5.550115949497557,
          15.306910689880576,
          -1.1105887883417644,
          4.9651514216986445,
          12.06110035941387,
          1.8514607532558922,
          -3.4002040122407338,
          -1.9208964183285504,
          -3.550981022836914,
          -1.056584558589539,
          -2.7062174882338224,
          -5.59485530546625,
          -2.033218785796096,
          1.6534699580810455,
          -2.894617819990957,
          2.25459590704128,
          4.899939357186164,
          -3.629244345742509,
          1.6213326998455981,
          1.050231050831183,
          -4.902408400867483,
          -0.32425052619602546,
          -2.2465662014124566,
          1.2157370405808663,
          2.9195388982216257,
          1.0536790961774762,
          -1.1514870964008683,
          -1.6167596493225567,
          2.533271071678732,
          -1.4269275028768802,
          6.254203093476811,
          0.6584615384615342,
          -4.118480056643846,
          -4.539822011940973,
          -0.1293806604039029,
          1.3858788639215278,
          -1.8527847746991337,
          1.195196556021306,
          -2.323780015491876,
          -3.933241203359189,
          -7.155546782471378,
          0.3764612641172929,
          -0.07919223916056058,
          1.1565613578330758,
          0.16549648946839723,
          3.870396416106687,
          -2.7556861354541295,
          1.355444883708983,
          0.5212634186622725,
          -3.0957739434858706,
          -0.2494387627837366,
          6.221185946690679,
          2.548636017824148,
          -2.184659543932379,
          -2.8103528439324266,
          2.1154251951888536,
          1.0555496321569409,
          1.3398163155051424,
          2.23130453993151,
          -3.645362141450691,
          -0.5030181086519205,
          0.8382721981953236,
          -2.2443760112740807,
          0.3456764259152551,
          4.190995907230563,
          0.3394842030334581,
          -12.125294712024258,
          -0.6263746772496768,
          0.16283524904213362,
          -1.5976247702530686,
          0.14630923164055235,
          -1.7026212015773676,
          -1.9826292574234845,
          0.4659874822970489,
          -3.666050523721509,
          -2.8725314183123873,
          -0.43411644535240473,
          -2.283218964441664,
          1.2463682681375972,
          -0.18492834026814514,
          -0.21807506814845115,
          -4.0133644634087435,
          -0.02414681262073498,
          -1.8563867604076218,
          -3.1594247246022,
          1.8822337399165987,
          "-",
          1.0602519523456564,
          0.8914193696802458,
          1.134182516140283,
          0.602691632533646,
          0.3582124610957858,
          -0.751835878307507,
          0.24538443561580736,
          -1.0521447566192583,
          1.8547959724430179,
          0.4970708325936466,
          0.3146147453401407,
          1.745485293229459,
          0.5648688046647272,
          -1.9416319237641568,
          -3.333525246128155,
          9.96517885406775,
          -1.955307262569836,
          0.7378689344672379,
          1.2472301361190243,
          1.4320575391728678,
          -1.105042550489019,
          0.3697093319734909,
          0.5641025641025612,
          -0.2110919209364885,
          -1.7965952635215685,
          -0.9950867591268078,
          1.985284790054545,
          -0.3035285190337611,
          1.2809017548354042,
          1.4291282317786078,
          1.3163090693694879,
          -2.833024237385692,
          0.32078013729389876,
          -0.40255591054312806,
          2.784710363851313,
          0.21060945109911358,
          0.15820698747528616,
          0.3638769434336639,
          -0.40851288133359986,
          2.0371117386042763,
          -0.6280064136825212,
          1.189832341806395,
          -0.3771551724137947,
          4.438348456073717,
          -1.5033947623666453,
          2.5360517155643905,
          0.8236642314854646,
          0.48941989347920456,
          1.9443833003155082,
          0.7763975155279377,
          2.0217260108630106,
          -0.9119449843025854,
          -0.3129657228017791,
          -2.80996523754347,
          -1.2161968808126975,
          1.7099614349123147,
          -1.9057815845824322,
          0.9729729729729689,
          -4.501342143299603,
          -0.02064409578860524,
          1.028921023359281,
          1.153305203938126,
          0.310383747178328,
          -1.51451993886342,
          -2.1747995106701024,
          0.5260640841702411,
          -1.586767968802518,
          -0.9918785780854807,
          2.037766607797854,
          0.36814835014998093,
          0.8733924764459186,
          0.3311943696957081,
          0.9683711857322105,
          0.5815990470184178,
          0.6417489421720709,
          -7.350539039529565,
          -1.156032033066386,
          0.68274920345927,
          0.09763082530591363,
          2.1882274692384382,
          1.123217648641369,
          0.6566921670841506,
          -0.17571129282962147,
          2.055314159597206,
          1.4696619777451347,
          -0.825930038867314,
          -0.11092623405435148,
          0.3967425349760017,
          -0.09040333796941855,
          0.869809203142543,
          1.4445314167793362,
          2.2854647354247146,
          -0.4708780063749679,
          -1.6528925619834864,
          0.5732301519059984,
          -0.9721138153693354,
          -0.2477349943374818,
          -0.11312217194569894,
          -0.9662512253185797,
          "-",
          0.9246707978311369,
          0.08721775365830353,
          0.6142745709828349,
          -0.23831525704003162,
          -0.20143186506491545,
          0.7900787632699031,
          0.6028988360361219,
          0.05663071847146753,
          0.3012940827817767,
          1.0103025918627015,
          0.06739890164752416,
          0.506799136936133,
          0.46631210142917495,
          -1.0549680766161118,
          -0.2835115642875014,
          -0.693981378577956,
          -0.25618918586031864,
          -0.6825855066790675,
          -0.009785214540819908,
          0.9133998222573291,
          1.2978569106504283,
          0.540554130839236,
          0.20659074876549255,
          -0.8344576025583309,
          -0.7439369141496801,
          -1.0671965849709335,
          -0.3666495563540368,
          -1.3455834478767235,
          -0.30771449864173606,
          -0.6330323443695899,
          0.7945680439179456,
          -1.1707595659623111,
          0.31509596104267956,
          -0.3046168491194604,
          -0.07609626177113887,
          0.861055812726351,
          1.3023301018052855,
          0.4025175644028048,
          -0.40816326530612407,
          -0.5268500169171904,
          -0.559948090649117,
          1.0564406450359487,
          0.8202541563624705,
          0.06860559135570272,
          0.3442086888107534,
          -0.34302795677847187,
          0.7778161884537451,
          0.054353196956227715,
          0.3993550787548093,
          0.18887149283033647,
          -0.3886523418160197,
          0.8035135000249464,
          -0.6569324970871805,
          -0.913757952396165,
          -0.5593551538837234,
          -0.6648226330858469,
          0.789904869042078,
          -0.056215476365048964,
          -1.9366281578064428,
          0.49619423836593174,
          1.4441050702504643,
          0.5157804249048319,
          0.28572132318529225,
          0.6295699591027439,
          1.1964482793217572,
          0.9827760891590667,
          -0.7316889190616198,
          -0.1631689928707787,
          0.21887343077813393,
          -0.04275008801489109,
          0.9955808401483253,
          0.7626164397584242,
          0.002559181062057813,
          1.1153089742262712,
          0.7036013967790662,
          -0.8807955572775328,
          1.036066600553257,
          -0.5760249091852544,
          1.1946960745700288,
          1.1312036963275838,
          1.1957865319503382,
          1.1085149160462926,
          0.2915610779585256,
          1.2721452618797984,
          0.8600295026301804,
          -0.5012461921905296,
          -0.6930311864033831,
          0.07706280618705058,
          -1.2448358338769407,
          0.2780049059689394,
          -0.3476560378076021,
          0.7084438852266287,
          0.5251869775626837,
          -0.8370824812542585,
          1.1835788776692657,
          1.6261986205349503,
          -0.2544956232346025,
          0.1736937946491118,
          0.03362945940644132,
          "-",
          -0.27893413350801793,
          -1.7257133363791175,
          2.0536187347674044,
          0.8204952885622171,
          -1.7198656026879457,
          0.1640654579108941,
          0.5966991112991944,
          0.9311464206389914,
          0.5497337227280541,
          3.0356668731746232,
          2.327476906357538,
          0.5669527994717569,
          2.0968454332008233,
          -0.5663168600619455,
          -2.407002188183811,
          0.4327336988536012,
          -10.5612968591692,
          -0.5240878855069588,
          2.9829987752475464,
          0.1371941713264234,
          -4.131127939418098,
          1.5440030758645802,
          -1.1185368977108963,
          -0.09395677988126007,
          -2.2797421371361515,
          -2.1523052221117807,
          0.6405940403593342,
          0.5668407815825235,
          -0.4525758305247997,
          -1.5341146129631797,
          3.213810381273001,
          0.824880609385485,
          1.8839093632506996,
          1.2251958888775785,
          1.1882696980930103,
          -1.6765885068642996,
          -0.4093649801367184,
          -1.4174386704305983,
          -1.2873346677656115,
          0.3584370568772635,
          0.44310808672258456,
          1.8700628728034765,
          -0.14889935208660493,
          2.6606073125387306,
          -1.5716812719842144,
          -0.7546865225901506,
          -0.8364182091045537,
          3.3416737318803174,
          -4.419409032513097,
          -1.2182978972646996,
          3.24537886270638,
          1.1974215658275769,
          -1.599791244304376,
          -0.8182361138761723,
          2.483014710382963,
          1.262344531217721,
          -0.6221127194333291,
          1.1022543280607802,
          -0.4731111707951911,
          -0.4319832143665322,
          3.867273465376156,
          -0.7885532591415003,
          -0.33169948449251946,
          -2.212672768216842,
          2.2713826910074375,
          2.860123446057543,
          -1.8724674770739973,
          0.16876375210953914,
          -0.4021276595744652,
          0.08731020677612919,
          3.2701442646023806,
          -1.0208746000304734,
          -3.280069054085346,
          20.31764527078374,
          1.1893166555595394,
          -2.4796280557916353,
          -0.2393895566305869,
          1.7455726391637478,
          0.24416297878833598,
          0.6347581264397283,
          1.4278296988577364,
          0.8958038661009001,
          -0.4355196244621244,
          1.946135644590964,
          2.1065776257567093,
          0.24764600228596992,
          -1.8772196854388714,
          1.3038656098682588,
          -0.2159419116257757,
          3.648266793498033,
          -0.3429431773824843,
          1.9065208126154385,
          1.3914496427748284,
          0.7692977617789581,
          -0.5255710531635314,
          -2.1669115154254603,
          -1.2167894619334712,
          0.13693653410837803,
          0.8454752980300425,
          "-",
          0.6445795844763776,
          0.7187711332238484,
          0.7141745154510701,
          0.41818110759369725,
          -0.20865427741267456,
          1.1399719937676218,
          0.7591264084577002,
          0.449137655701054,
          1.3309599902908662,
          0.39191796121433786,
          -0.10548309227742837,
          1.830162566358888,
          0.08476328302667459,
          -1.089912684293394,
          -1.275865549611396,
          0.3017049366217165,
          1.3461933100759291,
          0.2303673536550258,
          -1.0280316755898482,
          -1.975535290244044,
          1.6119875096313696,
          2.962483559155723,
          2.154023331698271,
          5.219576778942169,
          1.4640255009107483,
          -0.5704971475142712,
          -1.8509054549494464,
          -2.103454276516144,
          0.8157894736842164,
          0.0570500724097053,
          0.07905485528569846,
          -0.9483621177187136,
          0.3492382241236353,
          -6.444762099244436,
          -1.0107135637760258,
          0.32447779355099693,
          0.16046799780626445,
          1.3233720260146553,
          -0.8549799008304931,
          -0.32947588927983174,
          -0.5139307609817333,
          0.18446444498500467,
          1.2873421619956846,
          -0.7681023593170575,
          0.3721881390593033,
          0.20491803278688525,
          -0.2758761622560586,
          0.04088725339876224,
          2.6396961621587565,
          -0.4615898742637494,
          1.307659754549291,
          -0.116242206488419,
          -1.8096167016000222,
          -1.5647662043184216,
          -0.824554294975699,
          -0.9392309544834131,
          -2.9488527910872167,
          -2.265285920962478,
          -0.3641605341021089,
          0.14055080721747562,
          0.8678659693085757,
          0.17464399493342073,
          -0.09395072380404738,
          0.12862847488864212,
          0.7621774287151198,
          0.01741317596982332,
          -0.1526157174870496,
          -0.11192157770831711,
          -0.35955315426176326,
          0.13477348427964447,
          1.707560655609292,
          1.5329250835056538,
          -1.4248476177410263,
          0.6092992073194842,
          -0.8988939695939389,
          1.6143444331923502,
          -0.18432631704126665,
          0.2662957074721844,
          1.9862180786380241,
          -3.8637647838201277,
          -0.44421166977032195,
          0.49318700169593416,
          1.8726666137103836,
          -2.4751132974396772,
          -1.6382824703775711,
          1.1152845998266545,
          -0.4525320703342244,
          -3.366809961458635,
          0.37943605386503304,
          -0.13559447963296956,
          0.344814731976445,
          -0.1600357289069213,
          -1.474093359246079,
          0.625426636902014,
          0.49875774094262265,
          2.44458373696507,
          0.299104591350743,
          0.4036037414640704,
          0.5307386112339656,
          "-",
          1.5016543649783627,
          -0.5987518974531909,
          0.7733491969066003,
          -0.2035450767534517,
          -0.042387249915223094,
          -0.4052684903748768,
          1.9715884631941385,
          -0.017216148747521753,
          -0.4967880085653091,
          0.646551724137931,
          -0.206469373709562,
          0.18098767560113224,
          -1.8939714213240848,
          -1.1451019725844236,
          1.4242115971515827,
          -2.777548833759173,
          0.23130937629078988,
          0.016524828554900454,
          0.3898473788984728,
          0.5672339005672395,
          1.1474856564292943,
          -0.09272528028323311,
          -0.05055185778077536,
          -0.8272058823529487,
          -0.5732325330231767,
          -1.1659413744970866,
          -0.33551554828150293,
          0.8417230566099982,
          0.5226047283285024,
          -0.675620004943567,
          1.3782158369528947,
          0.35205364626990926,
          0.016767270288393712,
          1.9574322591674556,
          0.6452167928423951,
          1.104635991997909,
          1.0369979787327468,
          -0.7501090274749231,
          1.0221164860340213,
          0,
          0.4425170369059209,
          -0.08842514811213063,
          0.7034728406055265,
          0.925676282915432,
          -0.1794204718758436,
          1.771204236282295,
          1.1170605612998596,
          -0.6420840212805017,
          0.5905148551393251,
          0.940672441091544,
          0.5619556055071729,
          1.0696705793260086,
          1.2265235722499053,
          -1.3983371126228308,
          1.2629161882893296,
          0.19171779141104567,
          0.27876574065172743,
          -0.21103117505995092,
          0.3948382126348195,
          -0.8781977854142818,
          -0.08583690987123434,
          2.0437956204379506,
          -0.9447604357466537,
          0,
          2.865926219754066,
          -0.49338859285573317,
          -1.7737714451875528,
          1.3756509776948078,
          -2.115994998557279,
          1.711993738994326,
          -0.02933985330073461,
          0.6893156080748428,
          -0.4118858487790544,
          -0.41019630823322756,
          -0.40852057192880237,
          -1.9456366237482043,
          1.6677979249490924,
          0.1262135922330053,
          0.8518554783119598,
          2.5401606425702825,
          1.7260749668062483,
          1.1258004544515632,
          -0.13408973697783358,
          0.15495867768595628,
          -0.18560527943906663,
          -0.7267888217831854,
          -2.2611305652826466,
          1.2972534711665158,
          -0.020265477758634128,
          -0.983244707534869,
          -1.2386048355132777,
          -1.6661794796842968,
          0.30297107114933763,
          -0.8719240457275778,
          0.8401719421649076,
          2.380476095219039,
          -0.20960175666233533,
          -1.4459964587841816,
          -0.4699432151948345,
          "-",
          -0.14524328249818505,
          -2.0202790272165863,
          3.015785753553753,
          0.8288240728520486,
          -0.3026315789473624,
          -1.4969865854448778,
          -0.44516129032258656,
          -0.3561464186070409,
          1.4464965826681317,
          4.314461814767939,
          -2.7701710521093705,
          -2.6829739298358586,
          -0.5569069261298197,
          5.954964731416166,
          0.5030606263036707,
          1.1919378647205687,
          -1.0010925976509206,
          -1.8090627472542218,
          1.9635458684861846,
          0.6911649295755388,
          -2.632884241571164,
          -0.6420075389266935,
          0.5396791386560211,
          -0.5367822369034422,
          -0.11574690011175624,
          -1.0466172540449512,
          -0.31365652641801445,
          0.6259574243304644,
          -2.579474842079527,
          -0.8824166996085325,
          2.1000416623268405,
          -1.0193430327710367,
          1.5746897743337311,
          0.44835973966209747,
          -2.2379042624299554,
          -0.02827109409133023,
          0.42328042328041976,
          0.22764311767596956,
          0.3283113377713724,
          0.045439202347262314,
          -0.33641280438889615,
          0.010352234788690304,
          1.3269346760024132,
          1.125740880703291,
          -0.8623296044588828,
          0.38134698617122165,
          0.3828068083979053,
          2.8024020589076404,
          -3.6436875114808283,
          -2.30978260869565,
          0.050014747938492934,
          0.28035339960647,
          -1.8541424748826099,
          1.299033396409754,
          3.7734847680713375,
          -0.5226756771025866,
          -0.9620915032679758,
          -0.8964659550212405,
          0.309275671180185,
          -0.012993087677358602,
          3.1813489563084043,
          -1.2902628166106451,
          -3.375700074163105,
          3.2040961756710353,
          0.06206177126936489,
          1.9300913899618986,
          0.7744893253397765,
          -0.391807176826629,
          0.6089604175728602,
          1.4199454079241163,
          2.886401997078142,
          -0.1656754460492881,
          5.77398337452259,
          1.09322713989371,
          2.295503477331506,
          0.09767744736270821,
          -0.0031007751937956293,
          0.899491591709034,
          1.8530320894808952,
          -0.9594445321129937,
          0.6384195146741354,
          -0.19021049961958622,
          0.3659041013077022,
          0.8390149995989441,
          -0.8840692626925865,
          -0.8919425752872152,
          -1.2987618988365441,
          1.1325740892216591,
          0.8775131309604997,
          0.7530216793502649,
          -0.08785521460632151,
          1.2092797671974809,
          0.6590724165988535,
          -0.5180508337380678,
          4.305977710233029,
          1.5919851780690466,
          0.3563742790737602,
          -0.11349761826967175,
          1.8995216149438436,
          "-",
          1.1458487677186708,
          0.17812082529314988,
          0.2977519726068298,
          1.3988829064559962,
          -0.02012376113096567,
          0.6430379746835494,
          0.9455660618451286,
          2.033898305084749,
          -0.13020833333333331,
          0.7821111752663951,
          -0.6000208702911436,
          -0.10424267695195301,
          0.06258475018254121,
          -0.7967715231788038,
          -0.10853274071011834,
          0.06205719604902753,
          0.1501968096125917,
          0.4892266056000969,
          1.4413177762525684,
          1.942949407965546,
          2.5103448275862132,
          0.6497112394491267,
          -0.3982300884955746,
          -1.142763409699806,
          0.05470758794244451,
          -6.467788978150751,
          -0.020463498235019206,
          -0.8521430382957172,
          -0.6700927045546071,
          0.5216510508989624,
          0.920010222335795,
          -1.3363590519415056,
          -0.28160514935130354,
          -0.04021312958680209,
          -0.6789815277084441,
          0.3909382518043309,
          1.9363408777397542,
          0.4670978338979554,
          -0.9154714678059258,
          -1.2257610770621912,
          1.390515968013034,
          1.3106971463955934,
          0.586525485310908,
          1.2401471361008856,
          1.2395595041762049,
          -1.7817953809175446,
          0.8112094395280194,
          0.8231982580062729,
          0.037190521729886926,
          0.18629903656783642,
          -0.875850788793329,
          0.519756032882519,
          1.0017141632740543,
          0.7501754007231987,
          -0.4138449962377782,
          0.911161731207293,
          0.506950122649227,
          0.049083769633494215,
          -0.3424099135822574,
          0.5025400120172698,
          1.199557766721939,
          0.6509764646970544,
          0.39099592247108783,
          -0.46700394729527067,
          2.18144634437312,
          1.0157236313554519,
          -0.8703566755788162,
          0.4456888177818417,
          0.12013729977115534,
          -0.35911759676223876,
          0.1884637350085737,
          0.3438395415472747,
          -0.13163166027584833,
          0.5756058251309504,
          -0.3613214039917549,
          -1.0835649855335545,
          2.049441324610676,
          0.26120269328998647,
          -0.38163524921938047,
          1.4310850439882683,
          0.8935439966861891,
          -0.6583975074951528,
          -0.11743291644647326,
          1.7261975869071886,
          0.19749835418037232,
          -0.5357461753675847,
          -0.6270334220644793,
          -0.733998825601879,
          -0.42100339141620796,
          0.2109457400679794,
          -0.7906057435182033,
          -0.14512103093980377,
          0.5017210197771506,
          0.046693515438034246,
          -0.43584379358437936,
          1.1640211640211748,
          -0.11743981209631066,
          0.5312868949232619,
          0.5997980877724446,
          "-",
          0.23334197562871742,
          1.054562127464475,
          0.85216012683313,
          0.10580611030286773,
          0.8738576479220881,
          0.04004004004004156,
          0.6042296072507591,
          0.154653039268417,
          0.09422533315384732,
          -0.4622496147919862,
          -0.4335645677694619,
          -0.8334435771927631,
          4.557714918044127,
          -1.518866639422415,
          0.4653072396332331,
          -0.46315215910639346,
          -1.1512825691779491,
          -0.688686814656326,
          0.2950643776824019,
          0.8180650395510837,
          1.4889529298751114,
          0.6700283207846922,
          0.22152994115612434,
          -2.1275154143234736,
          0.047451193058563705,
          -0.8535519860205537,
          -0.9387483355525944,
          -1.3723816402915514,
          0.4617718846889562,
          -0.524968829975709,
          -0.07213114754099255,
          -1.14093089589005,
          -2.1999619603119247,
          -0.03168969451135211,
          -0.25918199633352085,
          0.14560648265382994,
          1.4059189831161312,
          0.3543357814714672,
          -0.006442053726722222,
          -0.3338683788122056,
          -0.006420133538771768,
          -0.28807374687921194,
          -0.35085480990047396,
          -0.8977114679479173,
          -0.6469442874191327,
          -1.173184357541891,
          -1.0077424112080708,
          0.9365502698009176,
          1.0719658976930664,
          0.4091395480581643,
          -0.29496673779339705,
          -0.39382384197036663,
          0.08133133133132849,
          -1.406365655070319,
          0.45854504895278786,
          -0.10523057876819307,
          0.3540812523294954,
          0.11816655264630745,
          -0.6487889273356471,
          0.8663134933001029,
          1.1154524829846115,
          0.5194476118079266,
          0.8367933567550316,
          -0.8675278622086983,
          1.3997688455117363,
          -0.46654310730490817,
          -0.8742477035159935,
          0.6953304414391449,
          0.23017902813298285,
          -1.0001265983035728,
          -0.05061369100342434,
          1.4505776636713676,
          -0.5172083519570922,
          -1.1050770396564789,
          -0.3398363750786608,
          0.08187944825848426,
          -0.3702309236947812,
          -0.08777429467083785,
          -0.03760340937578483,
          0.3774534474081494,
          -0.5318816094111722,
          -1.6372253339077965,
          0.48861949529935184,
          0.29154518950437247,
          0.48619335535747743,
          -0.05606777971592537,
          -1.1515487406859881,
          0.7694694384114059,
          -0.4448013838265268,
          0.14848728577616105,
          0.061908004705004835,
          0.2482467572767366,
          0.31127435721845237,
          -0.2112194818910377,
          0.625117209476777,
          2.0607375271149606,
          0.10218418699706003,
          0.1471058522545687,
          0.13449468425772254,
          "-",
          0.09291023441968545,
          -0.5896980461811812,
          1.3537841146395877,
          -0.5905723182647831,
          -0.4808719811925706,
          0.7898326990737374,
          0.4870305566578963,
          0.2640526658467837,
          1.3899585579638256,
          1.5568550039107627,
          0.3288367400321346,
          0.10848421367650024,
          -0.480250176836313,
          -1.1881989405532525,
          -0.9762494535917262,
          -0.232591946503868,
          0.050905388699019415,
          0.33198351026958817,
          0.6536187713436014,
          0.9452146193194498,
          -0.5859159081696694,
          -0.4840661557079443,
          0.49382716049381786,
          0.025803597758791666,
          -1.6958979562255425,
          0.10156703424259021,
          0.43719032352083526,
          -0.8094825093957824,
          -0.37442396313362747,
          0.22371364653244014,
          1.1459854014598492,
          -1.0687463893702989,
          -0.5315328257434342,
          0.057496047146767655,
          -0.28665615594095295,
          0.021503834850549162,
          -0.5630791161796297,
          -0.21691973969629702,
          -0.7237167266822041,
          -2.44860006198988,
          0.3767975663716924,
          0.6716547764050634,
          0.8068759866690095,
          0.7101469756924783,
          -1.1766348940330311,
          0.4453952444413407,
          0.42969850662157316,
          1.1976047904191667,
          0.1856877588915804,
          0.6396894990296952,
          -0.7738116464001769,
          0.3758321998711473,
          -0.4099383310162825,
          -0.9288035033196963,
          0.18397962071894944,
          -1.0468088085985399,
          0.8687360949253027,
          -0.34488826324123223,
          0.19393511988714898,
          -0.052863436123340005,
          2.5256539962422346,
          0.5851353807014406,
          -1.224152785755322,
          -0.8612712648587144,
          1.2321660181582417,
          0.6344947608861172,
          0.26902243065401865,
          -0.49198712151358887,
          0.23569511929800355,
          -1.292100647839942,
          0.9502818326347723,
          0.4281878220480467,
          -0.5772422252687865,
          0.046922938097814636,
          1.3869574763961139,
          -1.4035720728847147,
          1.2753051231454915,
          2.1348062999179023,
          -1.7130699534133067,
          0.3533959138597594,
          0.14377350143773,
          0.022123893805310574,
          0.11074197120709169,
          1.029313045424029,
          0.5663278700821329,
          0.5240536872266575,
          0.40504220766930127,
          0.053024277544234825,
          -0.20033262775930963,
          0.4670945201838067,
          0.3009065285289722,
          1.0974623589664687,
          0.030815453950149868,
          0.6318319249554211,
          -0.3438019082937329,
          -0.5684655271749637,
          -0.019201228878630773,
          0.5677210056771986,
          -0.08874826362093617,
          "-",
          -0.13106159895152344,
          0.8107621163894198,
          0.45246138996139,
          -0.0663169952372422,
          -0.5873539106982258,
          0.48783425680559045,
          0.587629490519173,
          -0.4162644787644774,
          0.8027243979566975,
          -0.012161011796187664,
          0.3784179687500028,
          0.2692778457772324,
          0.12254901960785358,
          0.9526166027465002,
          0.22940045880092044,
          -0.7751461088895842,
          -0.030750307503064542,
          0.6811145510835879,
          0.5979818113865754,
          1.5176425951688415,
          0.5404030771186944,
          0.21024464831803263,
          0.6476434754729204,
          0.321646831778707,
          0.0772548767140772,
          -0.3272587268993781,
          -0.8903586873569103,
          0.3702285203625766,
          0.3973340169187417,
          -0.03843689942344797,
          0.4181408813123228,
          -0.4482869036183266,
          -2.7526935293018546,
          -0.006227425582276328,
          -1.0292758089368181,
          -0.22138859848718628,
          1.2830893802553736,
          0.22473312940883552,
          -0.9093158480762087,
          -0.12356357345855494,
          -0.08025186739921937,
          0.09886918371129985,
          0.38459152658023976,
          -0.10534143016482062,
          -0.07430340557275823,
          -0.4929143561306293,
          0.22849379361452757,
          0.23522129371711262,
          0.748362956033687,
          -0.16809861785581512,
          0.6580184245158935,
          0.15691689681144866,
          -0.15041363750313932,
          0.4469625432798287,
          -0.05662514156285606,
          -0.693533270852867,
          0.4708097928436911,
          -0.5742104606166443,
          -0.5030118611438876,
          0.29272546088689516,
          0.09975062344139438,
          1.1923537947132767,
          0.6348803250587265,
          0.318451054072989,
          0.8867184990040451,
          -0.409547577910037,
          -0.5346572465151825,
          -0.19692542243677671,
          -0.7690368129097321,
          -0.30165912518854837,
          0.10065425264217198,
          0.47405347323178054,
          0.07590612941995353,
          -0.6847593918834045,
          1.2982054219167753,
          -0.2222363324655678,
          0.8516905737704997,
          0.012809017548360595,
          0.33414728184036874,
          2.3008151459374178,
          -1.2079490842966525,
          4.139050453131324,
          0.19651690723048076,
          -0.3847711624139282,
          -1.2004801920768384,
          0.1001401962747885,
          -0.5378486055776908,
          0.05979669124975312,
          0.3801520608243252,
          0.4286671131949004,
          0.4102495124083756,
          0.8614841948175352,
          -0.8274470232088922,
          0.5478896103896119,
          -0.6050826946349372,
          1.5012965743141922,
          0.555822411308586,
          -0.2259345474462635,
          0.08222557215294268,
          "-",
          0.30509730424738535,
          0.18995633187773026,
          0.8366358432408657,
          -0.7777001048584417,
          0.17068580681867318,
          0.32712024413269425,
          0.1583217890362221,
          0.37743345252284016,
          0.8211496094532341,
          1.305288786690117,
          0.5622307866696806,
          -0.21942226344243454,
          -2.023492907801417,
          -1.2907460074382047,
          -1.150469270360277,
          0.06708359481508781,
          -0.08432432432432138,
          -0.06914135084914073,
          1.3289545703338792,
          0.29864511737192595,
          0.1517484055421152,
          -1.1865438108484083,
          0.07394197729547036,
          0.006524717805948958,
          -1.201168937212595,
          -0.6256539471717466,
          -0.18330242769145802,
          -0.633259911894275,
          -1.3970972120705853,
          0.35628209158546487,
          1.570981544159907,
          -1.6023626995098725,
          -0.4192478568299837,
          0.2153010033444878,
          -0.6582635961542488,
          0.757401401820275,
          0.24119127516778047,
          0.15965044954205337,
          -1.1688500425602582,
          -1.4264079895219324,
          0.12294074256207808,
          0.834710743801657,
          1.0670508885130225,
          0.6430868167202577,
          -0.7612413447901965,
          0.813691890414416,
          0.579440438175399,
          0.7907750021314646,
          -0.021310147892419105,
          0.3678829618856077,
          -0.8608990670059377,
          0.8726899383983661,
          -0.20704817605499098,
          -1.707823678744516,
          0.39388322520852737,
          -0.8541296857053423,
          0.8636124275934751,
          0.05057849149649303,
          0.23023953360651744,
          0.39443549071168327,
          2.7251933340594685,
          1.6159380188157193,
          -3.499028047764509,
          -0.6683924630792687,
          1.3091425009135997,
          1.0272336359292922,
          0.38150465435678316,
          0.1812702017995947,
          -0.08292235848644774,
          -0.7901972245675638,
          0.30618892508143863,
          0.8188107540064824,
          -0.829389031221502,
          -0.07376551245336106,
          2.602230483271375,
          0.9074777061479414,
          1.04634799582369,
          0.4674708685836799,
          0.3960622710622622,
          -0.4330977889218093,
          -0.013674901996536211,
          -0.22512791358726755,
          0.6799761893859672,
          1.4069465081723498,
          0.7720743063029365,
          -0.21711217462355709,
          -0.17478443253320905,
          0.5577427821522298,
          -0.3619212179232621,
          1.3416942735447133,
          0.14692639461585966,
          0.6103666968671027,
          -0.0833789932582047,
          0.23879456503569982,
          -0.7395292611818258,
          -1.0832102412604638,
          0.04456746106211243,
          0.4618719954755348,
          0.16286260532961921,
          "-",
          -1.1925247675497401,
          -1.6738965442809668,
          4.068027506648413,
          3.17904165202503,
          0.3533913565426198,
          2.077860408832238,
          -1.4863773889555234,
          1.708221101825632,
          -0.5494882890308435,
          2.5193449703077238,
          3.1923912253647324,
          -0.3451716202951228,
          -4.415236835426494,
          -2.8648907083414197,
          -0.40548483337921726,
          3.835694751317181,
          2.991677408061627,
          0.6107957956755883,
          2.01966581186809,
          1.6393986934614968,
          -4.311392465388921,
          -1.843088030063237,
          -3.4934464960197307,
          1.4015518543667755,
          -2.483501603339103,
          -2.776933871504427,
          4.544113977177352,
          -0.8777584552650544,
          -0.15118628845146184,
          -0.24861321606953363,
          1.664516129032263,
          -3.3531150739798004,
          1.8263168902566587,
          -0.8516878230859242,
          1.8748915429942365,
          0.5065479666042377,
          -0.9583248841523399,
          -1.4864084996818479,
          -0.13964107072931797,
          0.40578635014837,
          5.6426332288401255,
          3.068634340594988,
          0.062235297921177934,
          0.1408336705787138,
          -2.1207823999619717,
          0.3497976738454762,
          -2.6325974548719864,
          -0.09589210591436076,
          -1.1920044012470303,
          -6.985735709056792,
          4.222962962962963,
          0.5399366970768944,
          -4.24386347752913,
          0.22084521537768234,
          7.58790917269645,
          0.8585255386142557,
          -0.5253697260516996,
          -0.9853872419087554,
          0.9842868934023634,
          -0.6536899379262932,
          6.30982932094994,
          0.07337654396478668,
          -1.5198959437325419,
          -1.5485309113329633,
          0.22579265104339252,
          0.8444852794311458,
          -1.0553359683794394,
          -1.4367636975628042,
          0.6809124854874693,
          1.4080473485752507,
          2.814378603852276,
          -1.6450808462714037,
          1.532254112419752,
          2.0274831043074584,
          1.6957627118644059,
          -2.330817110316521,
          -0.7891473759412616,
          1.0698160812694935,
          -2.042276422764219,
          -1.903706125834408,
          2.2473925842568314,
          0.4760344121261733,
          0.7678335535006567,
          5.8824557876056645,
          3.646017378383032,
          -1.0125923799956917,
          0.657229524772495,
          0.7000127275041406,
          1.7962741886226792,
          -0.17736884405399336,
          0.710796855375178,
          2.4369091186337237,
          0.025738553493291943,
          -0.9040412628237768,
          -2.4691813005583465,
          -2.765509518477034,
          -0.5488190589891467,
          -0.33387499223030187,
          -0.5053494597531586,
          "-",
          0.4318268024392266,
          -1.7036166002237068,
          2.399412628487523,
          -0.13491318629750693,
          -1.5789625609791378,
          -0.29069767441860206,
          2.541097305433407,
          -0.5459508644222061,
          -0.4674398901516324,
          -0.16333673618200442,
          2.181623103746327,
          1.0723860589812169,
          -0.6732092633594638,
          -0.7660332541567648,
          0.510310662807018,
          0.936803421892872,
          -0.3093000210203816,
          -1.7669616519174067,
          0.85983755318199,
          0.2236402671755725,
          0.7419868425005339,
          0.018027221103867522,
          -0.5973180419914583,
          -0.917349746989028,
          -1.4407793041094286,
          -1.2954486570515589,
          -0.9099726152441802,
          -3.0048143434231678,
          -0.174009114763153,
          1.1680219073965425,
          0.053120107358532134,
          -0.6168380105584803,
          -0.853994490358133,
          -1.3667364073580885,
          -4.058915537017739,
          -0.5934333618388566,
          1.5687100255310134,
          -0.9334828296524169,
          -1.734652044685862,
          -1.2449392712550647,
          2.8068988840040485,
          1.3178355868321867,
          2.0166169234492215,
          -0.35366931918655875,
          -0.5436086018066895,
          -0.9815562415894951,
          1.188124098894641,
          0.8128768303187012,
          -0.49015668943351837,
          -0.8498207409374554,
          -0.2357990674014377,
          -0.26687805522525854,
          -0.5047716696900428,
          -1.0612563402262931,
          1.0089067549460011,
          0.7944704854214666,
          0.5458515283842825,
          1.0656620021528471,
          -0.09678460049466524,
          0.16696289115096802,
          1.9800620657457444,
          0.430261742560058,
          0.060714778529038345,
          0.3517226099479447,
          0.7955782597772285,
          0.17897592214548597,
          -2.150773019564924,
          0.6333471017485919,
          -0.156713955790182,
          0.28398908158483266,
          1.8077192982456132,
          0.31255279608042286,
          -0.5850572460319771,
          -0.7887355236481726,
          2.014392565729832,
          -1.1593391206944954,
          0.39359010402025135,
          0.11258091753447151,
          1.2337236800866125,
          1.065453393613052,
          -1.00062717372712,
          -1.6569009504051206,
          -1.578322893959887,
          1.2601285275216674,
          0.6184987348889481,
          -0.7616549953965958,
          0.7646678474037917,
          -0.22999467085518563,
          -0.07567264573992115,
          3.0647910107166623,
          -0.5001005949472621,
          1.4550650259520643,
          1.2847396556307107,
          0.09755809140897065,
          -1.9763533093775338,
          -0.42418121483192245,
          -0.23318747121142394,
          -0.33569563595672086,
          -0.22329735764794298,
          "-",
          0.9808181761747992,
          -1.2020852499233412,
          -0.3422773669091145,
          -0.5591685406916596,
          -0.7779519961403883,
          0.22363251737685377,
          1.7903285345145792,
          -0.07991639515583418,
          0.22797288971039809,
          1.279251170046809,
          -0.298637466558819,
          0.6890935287853125,
          -1.0169281329447601,
          -3.0421451331690026,
          0.26523599975889217,
          0.3690706679573967,
          1.0454239775019918,
          0.4421246545901129,
          0.5743577075098857,
          1.1999999999999922,
          1.542171733197948,
          0.748081841432217,
          0.07678525723061463,
          -0.8312710197347561,
          -0.8618520382486188,
          -1.80987089999381,
          -0.4794983709350225,
          0.41358024691357254,
          0.4526570347863767,
          -0.20420792079206937,
          0.5663077976227499,
          0.15582149090002492,
          0.4130679684566257,
          0.4400301734976041,
          0.8494991758590106,
          0.8890310201471154,
          0.6955625684291776,
          -0.7669201763916333,
          1.1703090650459087,
          -0.12914890869173257,
          0.20058233581365398,
          -1.3216702847656705,
          0.7785856765973926,
          -0.0900032144005238,
          -0.09633911368013955,
          1.176164793033987,
          1.3167423793534796,
          -0.07236842105264055,
          1.4144649052575424,
          0.3414340228961578,
          0.7011393514460945,
          -0.8423022929340135,
          0.47689414293391186,
          -2.571821215889017,
          0.5262811657127896,
          -0.21662071681765294,
          0.11829652996845876,
          -1.4826804791194512,
          -0.1357817147290883,
          -0.4953998584571899,
          -0.0064333504889287855,
          0.9350649350649335,
          -0.40742417383431123,
          0.11006085717984429,
          2.284616912787244,
          0.2722443559096923,
          -0.9731720147291019,
          0.6885593220339119,
          -1.960275217447754,
          1.2686518109511646,
          -0.14440433212996315,
          0.013129390139816064,
          0.05911718339464228,
          2.941375346541364,
          0.31201248049920605,
          -1.791899813482546,
          0.6976120203917305,
          -0.04023065575967136,
          0.3836575351686028,
          2.5186309688103825,
          1.9916954043211934,
          -0.2807214541371364,
          0.17575928008998873,
          0.2961500493583528,
          -0.9083286752375708,
          -0.3966873129654069,
          -2.4309092143681754,
          1.3697687224669666,
          0.5397923875432533,
          -0.8236101578586058,
          -2.5418060200668973,
          -0.5984042553191526,
          -0.1725740076994497,
          -1.0963040766756489,
          1.9066095798769218,
          0.21453472780905955,
          -0.4072911798090496,
          -1.4087288526100892,
          -0.32806246309297293,
          "-"
         ],
         "yaxis": "y"
        }
       ],
       "layout": {
        "barmode": "relative",
        "legend": {
         "tracegroupgap": 0
        },
        "margin": {
         "t": 60
        },
        "template": {
         "data": {
          "bar": [
           {
            "error_x": {
             "color": "#2a3f5f"
            },
            "error_y": {
             "color": "#2a3f5f"
            },
            "marker": {
             "line": {
              "color": "#E5ECF6",
              "width": 0.5
             },
             "pattern": {
              "fillmode": "overlay",
              "size": 10,
              "solidity": 0.2
             }
            },
            "type": "bar"
           }
          ],
          "barpolar": [
           {
            "marker": {
             "line": {
              "color": "#E5ECF6",
              "width": 0.5
             },
             "pattern": {
              "fillmode": "overlay",
              "size": 10,
              "solidity": 0.2
             }
            },
            "type": "barpolar"
           }
          ],
          "carpet": [
           {
            "aaxis": {
             "endlinecolor": "#2a3f5f",
             "gridcolor": "white",
             "linecolor": "white",
             "minorgridcolor": "white",
             "startlinecolor": "#2a3f5f"
            },
            "baxis": {
             "endlinecolor": "#2a3f5f",
             "gridcolor": "white",
             "linecolor": "white",
             "minorgridcolor": "white",
             "startlinecolor": "#2a3f5f"
            },
            "type": "carpet"
           }
          ],
          "choropleth": [
           {
            "colorbar": {
             "outlinewidth": 0,
             "ticks": ""
            },
            "type": "choropleth"
           }
          ],
          "contour": [
           {
            "colorbar": {
             "outlinewidth": 0,
             "ticks": ""
            },
            "colorscale": [
             [
              0,
              "#0d0887"
             ],
             [
              0.1111111111111111,
              "#46039f"
             ],
             [
              0.2222222222222222,
              "#7201a8"
             ],
             [
              0.3333333333333333,
              "#9c179e"
             ],
             [
              0.4444444444444444,
              "#bd3786"
             ],
             [
              0.5555555555555556,
              "#d8576b"
             ],
             [
              0.6666666666666666,
              "#ed7953"
             ],
             [
              0.7777777777777778,
              "#fb9f3a"
             ],
             [
              0.8888888888888888,
              "#fdca26"
             ],
             [
              1,
              "#f0f921"
             ]
            ],
            "type": "contour"
           }
          ],
          "contourcarpet": [
           {
            "colorbar": {
             "outlinewidth": 0,
             "ticks": ""
            },
            "type": "contourcarpet"
           }
          ],
          "heatmap": [
           {
            "colorbar": {
             "outlinewidth": 0,
             "ticks": ""
            },
            "colorscale": [
             [
              0,
              "#0d0887"
             ],
             [
              0.1111111111111111,
              "#46039f"
             ],
             [
              0.2222222222222222,
              "#7201a8"
             ],
             [
              0.3333333333333333,
              "#9c179e"
             ],
             [
              0.4444444444444444,
              "#bd3786"
             ],
             [
              0.5555555555555556,
              "#d8576b"
             ],
             [
              0.6666666666666666,
              "#ed7953"
             ],
             [
              0.7777777777777778,
              "#fb9f3a"
             ],
             [
              0.8888888888888888,
              "#fdca26"
             ],
             [
              1,
              "#f0f921"
             ]
            ],
            "type": "heatmap"
           }
          ],
          "heatmapgl": [
           {
            "colorbar": {
             "outlinewidth": 0,
             "ticks": ""
            },
            "colorscale": [
             [
              0,
              "#0d0887"
             ],
             [
              0.1111111111111111,
              "#46039f"
             ],
             [
              0.2222222222222222,
              "#7201a8"
             ],
             [
              0.3333333333333333,
              "#9c179e"
             ],
             [
              0.4444444444444444,
              "#bd3786"
             ],
             [
              0.5555555555555556,
              "#d8576b"
             ],
             [
              0.6666666666666666,
              "#ed7953"
             ],
             [
              0.7777777777777778,
              "#fb9f3a"
             ],
             [
              0.8888888888888888,
              "#fdca26"
             ],
             [
              1,
              "#f0f921"
             ]
            ],
            "type": "heatmapgl"
           }
          ],
          "histogram": [
           {
            "marker": {
             "pattern": {
              "fillmode": "overlay",
              "size": 10,
              "solidity": 0.2
             }
            },
            "type": "histogram"
           }
          ],
          "histogram2d": [
           {
            "colorbar": {
             "outlinewidth": 0,
             "ticks": ""
            },
            "colorscale": [
             [
              0,
              "#0d0887"
             ],
             [
              0.1111111111111111,
              "#46039f"
             ],
             [
              0.2222222222222222,
              "#7201a8"
             ],
             [
              0.3333333333333333,
              "#9c179e"
             ],
             [
              0.4444444444444444,
              "#bd3786"
             ],
             [
              0.5555555555555556,
              "#d8576b"
             ],
             [
              0.6666666666666666,
              "#ed7953"
             ],
             [
              0.7777777777777778,
              "#fb9f3a"
             ],
             [
              0.8888888888888888,
              "#fdca26"
             ],
             [
              1,
              "#f0f921"
             ]
            ],
            "type": "histogram2d"
           }
          ],
          "histogram2dcontour": [
           {
            "colorbar": {
             "outlinewidth": 0,
             "ticks": ""
            },
            "colorscale": [
             [
              0,
              "#0d0887"
             ],
             [
              0.1111111111111111,
              "#46039f"
             ],
             [
              0.2222222222222222,
              "#7201a8"
             ],
             [
              0.3333333333333333,
              "#9c179e"
             ],
             [
              0.4444444444444444,
              "#bd3786"
             ],
             [
              0.5555555555555556,
              "#d8576b"
             ],
             [
              0.6666666666666666,
              "#ed7953"
             ],
             [
              0.7777777777777778,
              "#fb9f3a"
             ],
             [
              0.8888888888888888,
              "#fdca26"
             ],
             [
              1,
              "#f0f921"
             ]
            ],
            "type": "histogram2dcontour"
           }
          ],
          "mesh3d": [
           {
            "colorbar": {
             "outlinewidth": 0,
             "ticks": ""
            },
            "type": "mesh3d"
           }
          ],
          "parcoords": [
           {
            "line": {
             "colorbar": {
              "outlinewidth": 0,
              "ticks": ""
             }
            },
            "type": "parcoords"
           }
          ],
          "pie": [
           {
            "automargin": true,
            "type": "pie"
           }
          ],
          "scatter": [
           {
            "marker": {
             "colorbar": {
              "outlinewidth": 0,
              "ticks": ""
             }
            },
            "type": "scatter"
           }
          ],
          "scatter3d": [
           {
            "line": {
             "colorbar": {
              "outlinewidth": 0,
              "ticks": ""
             }
            },
            "marker": {
             "colorbar": {
              "outlinewidth": 0,
              "ticks": ""
             }
            },
            "type": "scatter3d"
           }
          ],
          "scattercarpet": [
           {
            "marker": {
             "colorbar": {
              "outlinewidth": 0,
              "ticks": ""
             }
            },
            "type": "scattercarpet"
           }
          ],
          "scattergeo": [
           {
            "marker": {
             "colorbar": {
              "outlinewidth": 0,
              "ticks": ""
             }
            },
            "type": "scattergeo"
           }
          ],
          "scattergl": [
           {
            "marker": {
             "colorbar": {
              "outlinewidth": 0,
              "ticks": ""
             }
            },
            "type": "scattergl"
           }
          ],
          "scattermapbox": [
           {
            "marker": {
             "colorbar": {
              "outlinewidth": 0,
              "ticks": ""
             }
            },
            "type": "scattermapbox"
           }
          ],
          "scatterpolar": [
           {
            "marker": {
             "colorbar": {
              "outlinewidth": 0,
              "ticks": ""
             }
            },
            "type": "scatterpolar"
           }
          ],
          "scatterpolargl": [
           {
            "marker": {
             "colorbar": {
              "outlinewidth": 0,
              "ticks": ""
             }
            },
            "type": "scatterpolargl"
           }
          ],
          "scatterternary": [
           {
            "marker": {
             "colorbar": {
              "outlinewidth": 0,
              "ticks": ""
             }
            },
            "type": "scatterternary"
           }
          ],
          "surface": [
           {
            "colorbar": {
             "outlinewidth": 0,
             "ticks": ""
            },
            "colorscale": [
             [
              0,
              "#0d0887"
             ],
             [
              0.1111111111111111,
              "#46039f"
             ],
             [
              0.2222222222222222,
              "#7201a8"
             ],
             [
              0.3333333333333333,
              "#9c179e"
             ],
             [
              0.4444444444444444,
              "#bd3786"
             ],
             [
              0.5555555555555556,
              "#d8576b"
             ],
             [
              0.6666666666666666,
              "#ed7953"
             ],
             [
              0.7777777777777778,
              "#fb9f3a"
             ],
             [
              0.8888888888888888,
              "#fdca26"
             ],
             [
              1,
              "#f0f921"
             ]
            ],
            "type": "surface"
           }
          ],
          "table": [
           {
            "cells": {
             "fill": {
              "color": "#EBF0F8"
             },
             "line": {
              "color": "white"
             }
            },
            "header": {
             "fill": {
              "color": "#C8D4E3"
             },
             "line": {
              "color": "white"
             }
            },
            "type": "table"
           }
          ]
         },
         "layout": {
          "annotationdefaults": {
           "arrowcolor": "#2a3f5f",
           "arrowhead": 0,
           "arrowwidth": 1
          },
          "autotypenumbers": "strict",
          "coloraxis": {
           "colorbar": {
            "outlinewidth": 0,
            "ticks": ""
           }
          },
          "colorscale": {
           "diverging": [
            [
             0,
             "#8e0152"
            ],
            [
             0.1,
             "#c51b7d"
            ],
            [
             0.2,
             "#de77ae"
            ],
            [
             0.3,
             "#f1b6da"
            ],
            [
             0.4,
             "#fde0ef"
            ],
            [
             0.5,
             "#f7f7f7"
            ],
            [
             0.6,
             "#e6f5d0"
            ],
            [
             0.7,
             "#b8e186"
            ],
            [
             0.8,
             "#7fbc41"
            ],
            [
             0.9,
             "#4d9221"
            ],
            [
             1,
             "#276419"
            ]
           ],
           "sequential": [
            [
             0,
             "#0d0887"
            ],
            [
             0.1111111111111111,
             "#46039f"
            ],
            [
             0.2222222222222222,
             "#7201a8"
            ],
            [
             0.3333333333333333,
             "#9c179e"
            ],
            [
             0.4444444444444444,
             "#bd3786"
            ],
            [
             0.5555555555555556,
             "#d8576b"
            ],
            [
             0.6666666666666666,
             "#ed7953"
            ],
            [
             0.7777777777777778,
             "#fb9f3a"
            ],
            [
             0.8888888888888888,
             "#fdca26"
            ],
            [
             1,
             "#f0f921"
            ]
           ],
           "sequentialminus": [
            [
             0,
             "#0d0887"
            ],
            [
             0.1111111111111111,
             "#46039f"
            ],
            [
             0.2222222222222222,
             "#7201a8"
            ],
            [
             0.3333333333333333,
             "#9c179e"
            ],
            [
             0.4444444444444444,
             "#bd3786"
            ],
            [
             0.5555555555555556,
             "#d8576b"
            ],
            [
             0.6666666666666666,
             "#ed7953"
            ],
            [
             0.7777777777777778,
             "#fb9f3a"
            ],
            [
             0.8888888888888888,
             "#fdca26"
            ],
            [
             1,
             "#f0f921"
            ]
           ]
          },
          "colorway": [
           "#636efa",
           "#EF553B",
           "#00cc96",
           "#ab63fa",
           "#FFA15A",
           "#19d3f3",
           "#FF6692",
           "#B6E880",
           "#FF97FF",
           "#FECB52"
          ],
          "font": {
           "color": "#2a3f5f"
          },
          "geo": {
           "bgcolor": "white",
           "lakecolor": "white",
           "landcolor": "#E5ECF6",
           "showlakes": true,
           "showland": true,
           "subunitcolor": "white"
          },
          "hoverlabel": {
           "align": "left"
          },
          "hovermode": "closest",
          "mapbox": {
           "style": "light"
          },
          "paper_bgcolor": "white",
          "plot_bgcolor": "#E5ECF6",
          "polar": {
           "angularaxis": {
            "gridcolor": "white",
            "linecolor": "white",
            "ticks": ""
           },
           "bgcolor": "#E5ECF6",
           "radialaxis": {
            "gridcolor": "white",
            "linecolor": "white",
            "ticks": ""
           }
          },
          "scene": {
           "xaxis": {
            "backgroundcolor": "#E5ECF6",
            "gridcolor": "white",
            "gridwidth": 2,
            "linecolor": "white",
            "showbackground": true,
            "ticks": "",
            "zerolinecolor": "white"
           },
           "yaxis": {
            "backgroundcolor": "#E5ECF6",
            "gridcolor": "white",
            "gridwidth": 2,
            "linecolor": "white",
            "showbackground": true,
            "ticks": "",
            "zerolinecolor": "white"
           },
           "zaxis": {
            "backgroundcolor": "#E5ECF6",
            "gridcolor": "white",
            "gridwidth": 2,
            "linecolor": "white",
            "showbackground": true,
            "ticks": "",
            "zerolinecolor": "white"
           }
          },
          "shapedefaults": {
           "line": {
            "color": "#2a3f5f"
           }
          },
          "ternary": {
           "aaxis": {
            "gridcolor": "white",
            "linecolor": "white",
            "ticks": ""
           },
           "baxis": {
            "gridcolor": "white",
            "linecolor": "white",
            "ticks": ""
           },
           "bgcolor": "#E5ECF6",
           "caxis": {
            "gridcolor": "white",
            "linecolor": "white",
            "ticks": ""
           }
          },
          "title": {
           "x": 0.05
          },
          "xaxis": {
           "automargin": true,
           "gridcolor": "white",
           "linecolor": "white",
           "ticks": "",
           "title": {
            "standoff": 15
           },
           "zerolinecolor": "white",
           "zerolinewidth": 2
          },
          "yaxis": {
           "automargin": true,
           "gridcolor": "white",
           "linecolor": "white",
           "ticks": "",
           "title": {
            "standoff": 15
           },
           "zerolinecolor": "white",
           "zerolinewidth": 2
          }
         }
        },
        "xaxis": {
         "anchor": "y",
         "domain": [
          0,
          1
         ],
         "title": {
          "text": "x"
         }
        },
        "yaxis": {
         "anchor": "x",
         "domain": [
          0,
          1
         ],
         "title": {
          "text": "y"
         }
        }
       }
      }
     },
     "metadata": {},
     "output_type": "display_data"
    }
   ],
   "source": [
    "# Bar Graph (Exclusively One Stock)\n",
    "\n",
    "fig1 = px.bar(cleaned_data[(cleaned_data['Stock_Code'] == 'AAPL') & (cleaned_data['Month'] == 'April')], x = cleaned_data['Day'], y = cleaned_data['Daily_Closing_Variation'])\n",
    "fig1.show()"
   ]
  },
  {
   "cell_type": "code",
   "execution_count": null,
   "metadata": {},
   "outputs": [
    {
     "data": {
      "application/vnd.plotly.v1+json": {
       "config": {
        "plotlyServerURL": "https://plot.ly"
       },
       "data": [
        {
         "alignmentgroup": "True",
         "hovertemplate": "Stock_Code=AAPL<br>Day=%{x}<br>Volume=%{y}<extra></extra>",
         "legendgroup": "AAPL",
         "marker": {
          "color": "#636efa",
          "pattern": {
           "shape": ""
          }
         },
         "name": "AAPL",
         "offsetgroup": "AAPL",
         "orientation": "v",
         "showlegend": true,
         "textposition": "auto",
         "type": "bar",
         "x": [
          "2024-05-17T00:00:00",
          "2024-05-16T00:00:00",
          "2024-05-15T00:00:00",
          "2024-05-14T00:00:00",
          "2024-05-13T00:00:00",
          "2024-05-10T00:00:00",
          "2024-05-09T00:00:00",
          "2024-05-08T00:00:00",
          "2024-05-07T00:00:00",
          "2024-05-06T00:00:00",
          "2024-05-03T00:00:00",
          "2024-05-02T00:00:00",
          "2024-05-01T00:00:00",
          "2024-04-30T00:00:00",
          "2024-04-29T00:00:00",
          "2024-04-26T00:00:00",
          "2024-04-25T00:00:00",
          "2024-04-24T00:00:00",
          "2024-04-23T00:00:00",
          "2024-04-22T00:00:00",
          "2024-04-19T00:00:00",
          "2024-04-18T00:00:00",
          "2024-04-17T00:00:00",
          "2024-04-16T00:00:00",
          "2024-04-15T00:00:00",
          "2024-04-12T00:00:00",
          "2024-04-11T00:00:00",
          "2024-04-10T00:00:00",
          "2024-04-09T00:00:00",
          "2024-04-08T00:00:00",
          "2024-04-05T00:00:00",
          "2024-04-04T00:00:00",
          "2024-04-03T00:00:00",
          "2024-04-02T00:00:00",
          "2024-04-01T00:00:00",
          "2024-03-28T00:00:00",
          "2024-03-27T00:00:00",
          "2024-03-26T00:00:00",
          "2024-03-25T00:00:00",
          "2024-03-22T00:00:00",
          "2024-03-21T00:00:00",
          "2024-03-20T00:00:00",
          "2024-03-19T00:00:00",
          "2024-03-18T00:00:00",
          "2024-03-15T00:00:00",
          "2024-03-14T00:00:00",
          "2024-03-13T00:00:00",
          "2024-03-12T00:00:00",
          "2024-03-11T00:00:00",
          "2024-03-08T00:00:00",
          "2024-03-07T00:00:00",
          "2024-03-06T00:00:00",
          "2024-03-05T00:00:00",
          "2024-03-04T00:00:00",
          "2024-03-01T00:00:00",
          "2024-02-29T00:00:00",
          "2024-02-28T00:00:00",
          "2024-02-27T00:00:00",
          "2024-02-26T00:00:00",
          "2024-02-23T00:00:00",
          "2024-02-22T00:00:00",
          "2024-02-21T00:00:00",
          "2024-02-20T00:00:00",
          "2024-02-16T00:00:00",
          "2024-02-15T00:00:00",
          "2024-02-14T00:00:00",
          "2024-02-13T00:00:00",
          "2024-02-12T00:00:00",
          "2024-02-09T00:00:00",
          "2024-02-08T00:00:00",
          "2024-02-07T00:00:00",
          "2024-02-06T00:00:00",
          "2024-02-05T00:00:00",
          "2024-02-02T00:00:00",
          "2024-02-01T00:00:00",
          "2024-01-31T00:00:00",
          "2024-01-30T00:00:00",
          "2024-01-29T00:00:00",
          "2024-01-26T00:00:00",
          "2024-01-25T00:00:00",
          "2024-01-24T00:00:00",
          "2024-01-23T00:00:00",
          "2024-01-22T00:00:00",
          "2024-01-19T00:00:00",
          "2024-01-18T00:00:00",
          "2024-01-17T00:00:00",
          "2024-01-16T00:00:00",
          "2024-01-12T00:00:00",
          "2024-01-11T00:00:00",
          "2024-01-10T00:00:00",
          "2024-01-09T00:00:00",
          "2024-01-08T00:00:00",
          "2024-01-05T00:00:00",
          "2024-01-04T00:00:00",
          "2024-01-03T00:00:00",
          "2024-01-02T00:00:00",
          "2023-12-29T00:00:00",
          "2023-12-28T00:00:00",
          "2023-12-27T00:00:00",
          "2023-12-26T00:00:00"
         ],
         "xaxis": "x",
         "y": [
          41282925,
          52845230,
          70399988,
          52393619,
          72044809,
          50759496,
          48982972,
          45057087,
          77305771,
          78569667,
          163224109,
          94214915,
          50383147,
          65934776,
          68169419,
          44838354,
          50558329,
          48251835,
          49537761,
          48116443,
          68149377,
          43122903,
          50901210,
          73711235,
          73531773,
          101670886,
          91070275,
          49709336,
          42231444,
          37216858,
          41975776,
          53355055,
          45571129,
          49013991,
          43772506,
          65672690,
          60273265,
          57388449,
          54288328,
          71160138,
          106181270,
          53423102,
          55215244,
          75604184,
          121752699,
          72571635,
          51948951,
          59544927,
          58929918,
          76267041,
          71765061,
          68587707,
          95132355,
          81510101,
          73563082,
          136682597,
          48953939,
          54318851,
          40867421,
          45119677,
          52292208,
          41529674,
          53665553,
          49752465,
          65434496,
          54630517,
          56529529,
          41781934,
          45155216,
          40962046,
          53438955,
          43490759,
          69668820,
          102551680,
          64885408,
          55467803,
          55859370,
          47145622,
          44594011,
          54822126,
          53463269,
          42355590,
          60133852,
          68902985,
          78005754,
          47317433,
          65603041,
          40477782,
          49128408,
          46792908,
          42841809,
          59144470,
          62196924,
          71983570,
          58414460,
          82488674,
          42672148,
          34049898,
          47899806,
          28919310
         ],
         "yaxis": "y"
        },
        {
         "alignmentgroup": "True",
         "hovertemplate": "Stock_Code=MSFT<br>Day=%{x}<br>Volume=%{y}<extra></extra>",
         "legendgroup": "MSFT",
         "marker": {
          "color": "#EF553B",
          "pattern": {
           "shape": ""
          }
         },
         "name": "MSFT",
         "offsetgroup": "MSFT",
         "orientation": "v",
         "showlegend": true,
         "textposition": "auto",
         "type": "bar",
         "x": [
          "2024-05-17T00:00:00",
          "2024-05-16T00:00:00",
          "2024-05-15T00:00:00",
          "2024-05-14T00:00:00",
          "2024-05-13T00:00:00",
          "2024-05-10T00:00:00",
          "2024-05-09T00:00:00",
          "2024-05-08T00:00:00",
          "2024-05-07T00:00:00",
          "2024-05-06T00:00:00",
          "2024-05-03T00:00:00",
          "2024-05-02T00:00:00",
          "2024-05-01T00:00:00",
          "2024-04-30T00:00:00",
          "2024-04-29T00:00:00",
          "2024-04-26T00:00:00",
          "2024-04-25T00:00:00",
          "2024-04-24T00:00:00",
          "2024-04-23T00:00:00",
          "2024-04-22T00:00:00",
          "2024-04-19T00:00:00",
          "2024-04-18T00:00:00",
          "2024-04-17T00:00:00",
          "2024-04-16T00:00:00",
          "2024-04-15T00:00:00",
          "2024-04-12T00:00:00",
          "2024-04-11T00:00:00",
          "2024-04-10T00:00:00",
          "2024-04-09T00:00:00",
          "2024-04-08T00:00:00",
          "2024-04-05T00:00:00",
          "2024-04-04T00:00:00",
          "2024-04-03T00:00:00",
          "2024-04-02T00:00:00",
          "2024-04-01T00:00:00",
          "2024-03-28T00:00:00",
          "2024-03-27T00:00:00",
          "2024-03-26T00:00:00",
          "2024-03-25T00:00:00",
          "2024-03-22T00:00:00",
          "2024-03-21T00:00:00",
          "2024-03-20T00:00:00",
          "2024-03-19T00:00:00",
          "2024-03-18T00:00:00",
          "2024-03-15T00:00:00",
          "2024-03-14T00:00:00",
          "2024-03-13T00:00:00",
          "2024-03-12T00:00:00",
          "2024-03-11T00:00:00",
          "2024-03-08T00:00:00",
          "2024-03-07T00:00:00",
          "2024-03-06T00:00:00",
          "2024-03-05T00:00:00",
          "2024-03-04T00:00:00",
          "2024-03-01T00:00:00",
          "2024-02-29T00:00:00",
          "2024-02-28T00:00:00",
          "2024-02-27T00:00:00",
          "2024-02-26T00:00:00",
          "2024-02-23T00:00:00",
          "2024-02-22T00:00:00",
          "2024-02-21T00:00:00",
          "2024-02-20T00:00:00",
          "2024-02-16T00:00:00",
          "2024-02-15T00:00:00",
          "2024-02-14T00:00:00",
          "2024-02-13T00:00:00",
          "2024-02-12T00:00:00",
          "2024-02-09T00:00:00",
          "2024-02-08T00:00:00",
          "2024-02-07T00:00:00",
          "2024-02-06T00:00:00",
          "2024-02-05T00:00:00",
          "2024-02-02T00:00:00",
          "2024-02-01T00:00:00",
          "2024-01-31T00:00:00",
          "2024-01-30T00:00:00",
          "2024-01-29T00:00:00",
          "2024-01-26T00:00:00",
          "2024-01-25T00:00:00",
          "2024-01-24T00:00:00",
          "2024-01-23T00:00:00",
          "2024-01-22T00:00:00",
          "2024-01-19T00:00:00",
          "2024-01-18T00:00:00",
          "2024-01-17T00:00:00",
          "2024-01-16T00:00:00",
          "2024-01-12T00:00:00",
          "2024-01-11T00:00:00",
          "2024-01-10T00:00:00",
          "2024-01-09T00:00:00",
          "2024-01-08T00:00:00",
          "2024-01-05T00:00:00",
          "2024-01-04T00:00:00",
          "2024-01-03T00:00:00",
          "2024-01-02T00:00:00",
          "2023-12-29T00:00:00",
          "2023-12-28T00:00:00",
          "2023-12-27T00:00:00",
          "2023-12-26T00:00:00"
         ],
         "xaxis": "x",
         "y": [
          15352239,
          17530050,
          22239533,
          15109306,
          15440226,
          13402281,
          14689727,
          11792308,
          20018228,
          16996639,
          17446724,
          17709364,
          23562481,
          28781374,
          19582091,
          29694654,
          40586450,
          15065330,
          15734501,
          20286875,
          30565789,
          21029917,
          15855485,
          16765616,
          20273538,
          19253750,
          17966423,
          16216581,
          12468710,
          14248192,
          16526878,
          19290884,
          16462007,
          17861855,
          15602611,
          21871161,
          16704978,
          16725647,
          18060450,
          17648473,
          21296222,
          17860085,
          19837915,
          20105977,
          45079903,
          33955263,
          16990048,
          21563656,
          15998511,
          18002186,
          18718479,
          22344149,
          26919177,
          17595956,
          17823445,
          31947263,
          13183125,
          14835827,
          16193505,
          16295879,
          27009869,
          18631072,
          24307915,
          22296495,
          21825525,
          20401190,
          27824936,
          21202921,
          22032844,
          21225257,
          22340526,
          18382624,
          25352286,
          28256670,
          30657726,
          47871097,
          33477610,
          24510236,
          17803271,
          21021155,
          23281889,
          20525882,
          27016902,
          29331136,
          23392068,
          22234108,
          27202268,
          21661153,
          27850846,
          25514245,
          20829953,
          23133967,
          20074451,
          20901502,
          23083465,
          25258633,
          18730838,
          14327013,
          14872756,
          12673050
         ],
         "yaxis": "y"
        },
        {
         "alignmentgroup": "True",
         "hovertemplate": "Stock_Code=AMZN<br>Day=%{x}<br>Volume=%{y}<extra></extra>",
         "legendgroup": "AMZN",
         "marker": {
          "color": "#00cc96",
          "pattern": {
           "shape": ""
          }
         },
         "name": "AMZN",
         "offsetgroup": "AMZN",
         "orientation": "v",
         "showlegend": true,
         "textposition": "auto",
         "type": "bar",
         "x": [
          "2024-05-17T00:00:00",
          "2024-05-16T00:00:00",
          "2024-05-15T00:00:00",
          "2024-05-14T00:00:00",
          "2024-05-13T00:00:00",
          "2024-05-10T00:00:00",
          "2024-05-09T00:00:00",
          "2024-05-08T00:00:00",
          "2024-05-07T00:00:00",
          "2024-05-06T00:00:00",
          "2024-05-03T00:00:00",
          "2024-05-02T00:00:00",
          "2024-05-01T00:00:00",
          "2024-04-30T00:00:00",
          "2024-04-29T00:00:00",
          "2024-04-26T00:00:00",
          "2024-04-25T00:00:00",
          "2024-04-24T00:00:00",
          "2024-04-23T00:00:00",
          "2024-04-22T00:00:00",
          "2024-04-19T00:00:00",
          "2024-04-18T00:00:00",
          "2024-04-17T00:00:00",
          "2024-04-16T00:00:00",
          "2024-04-15T00:00:00",
          "2024-04-12T00:00:00",
          "2024-04-11T00:00:00",
          "2024-04-10T00:00:00",
          "2024-04-09T00:00:00",
          "2024-04-08T00:00:00",
          "2024-04-05T00:00:00",
          "2024-04-04T00:00:00",
          "2024-04-03T00:00:00",
          "2024-04-02T00:00:00",
          "2024-04-01T00:00:00",
          "2024-03-28T00:00:00",
          "2024-03-27T00:00:00",
          "2024-03-26T00:00:00",
          "2024-03-25T00:00:00",
          "2024-03-22T00:00:00",
          "2024-03-21T00:00:00",
          "2024-03-20T00:00:00",
          "2024-03-19T00:00:00",
          "2024-03-18T00:00:00",
          "2024-03-15T00:00:00",
          "2024-03-14T00:00:00",
          "2024-03-13T00:00:00",
          "2024-03-12T00:00:00",
          "2024-03-11T00:00:00",
          "2024-03-08T00:00:00",
          "2024-03-07T00:00:00",
          "2024-03-06T00:00:00",
          "2024-03-05T00:00:00",
          "2024-03-04T00:00:00",
          "2024-03-01T00:00:00",
          "2024-02-29T00:00:00",
          "2024-02-28T00:00:00",
          "2024-02-27T00:00:00",
          "2024-02-26T00:00:00",
          "2024-02-23T00:00:00",
          "2024-02-22T00:00:00",
          "2024-02-21T00:00:00",
          "2024-02-20T00:00:00",
          "2024-02-16T00:00:00",
          "2024-02-15T00:00:00",
          "2024-02-14T00:00:00",
          "2024-02-13T00:00:00",
          "2024-02-12T00:00:00",
          "2024-02-09T00:00:00",
          "2024-02-08T00:00:00",
          "2024-02-07T00:00:00",
          "2024-02-06T00:00:00",
          "2024-02-05T00:00:00",
          "2024-02-02T00:00:00",
          "2024-02-01T00:00:00",
          "2024-01-31T00:00:00",
          "2024-01-30T00:00:00",
          "2024-01-29T00:00:00",
          "2024-01-26T00:00:00",
          "2024-01-25T00:00:00",
          "2024-01-24T00:00:00",
          "2024-01-23T00:00:00",
          "2024-01-22T00:00:00",
          "2024-01-19T00:00:00",
          "2024-01-18T00:00:00",
          "2024-01-17T00:00:00",
          "2024-01-16T00:00:00",
          "2024-01-12T00:00:00",
          "2024-01-11T00:00:00",
          "2024-01-10T00:00:00",
          "2024-01-09T00:00:00",
          "2024-01-08T00:00:00",
          "2024-01-05T00:00:00",
          "2024-01-04T00:00:00",
          "2024-01-03T00:00:00",
          "2024-01-02T00:00:00",
          "2023-12-29T00:00:00",
          "2023-12-28T00:00:00",
          "2023-12-27T00:00:00",
          "2023-12-26T00:00:00"
         ],
         "xaxis": "x",
         "y": [
          33175655,
          38834450,
          75459927,
          38698155,
          24898613,
          34141771,
          43368377,
          26136350,
          34048902,
          34725295,
          39172004,
          54303510,
          94645148,
          94639786,
          54063937,
          43919765,
          49249390,
          34185109,
          37046519,
          37924890,
          56000729,
          30723793,
          31359673,
          32891265,
          48052395,
          38608849,
          40020742,
          35879151,
          36337354,
          38929087,
          42072115,
          41197087,
          30368799,
          31929759,
          28374496,
          38051588,
          33272551,
          29658982,
          29815464,
          27995378,
          32824320,
          29947150,
          26880893,
          31250688,
          72147390,
          43528139,
          30596153,
          35308322,
          28285183,
          37893242,
          34063283,
          32090926,
          37228343,
          37381520,
          31981152,
          53805359,
          28180482,
          31141732,
          44368614,
          59715243,
          55392354,
          44575623,
          41980326,
          48107744,
          49855196,
          42815544,
          56345122,
          51050440,
          56985986,
          42316454,
          47174060,
          42505518,
          55081297,
          117218313,
          76542419,
          50284371,
          45207430,
          45270385,
          51047353,
          43638592,
          47636725,
          37986039,
          43687468,
          51651628,
          37850245,
          34953363,
          41384636,
          40484155,
          49072691,
          44421830,
          43812567,
          46757053,
          44770343,
          56039807,
          49425495,
          47339424,
          39823204,
          27057002,
          31242664,
          25067222
         ],
         "yaxis": "y"
        },
        {
         "alignmentgroup": "True",
         "hovertemplate": "Stock_Code=NVDA<br>Day=%{x}<br>Volume=%{y}<extra></extra>",
         "legendgroup": "NVDA",
         "marker": {
          "color": "#ab63fa",
          "pattern": {
           "shape": ""
          }
         },
         "name": "NVDA",
         "offsetgroup": "NVDA",
         "orientation": "v",
         "showlegend": true,
         "textposition": "auto",
         "type": "bar",
         "x": [
          "2024-05-17T00:00:00",
          "2024-05-16T00:00:00",
          "2024-05-15T00:00:00",
          "2024-05-14T00:00:00",
          "2024-05-13T00:00:00",
          "2024-05-10T00:00:00",
          "2024-05-09T00:00:00",
          "2024-05-08T00:00:00",
          "2024-05-07T00:00:00",
          "2024-05-06T00:00:00",
          "2024-05-03T00:00:00",
          "2024-05-02T00:00:00",
          "2024-05-01T00:00:00",
          "2024-04-30T00:00:00",
          "2024-04-29T00:00:00",
          "2024-04-26T00:00:00",
          "2024-04-25T00:00:00",
          "2024-04-24T00:00:00",
          "2024-04-23T00:00:00",
          "2024-04-22T00:00:00",
          "2024-04-19T00:00:00",
          "2024-04-18T00:00:00",
          "2024-04-17T00:00:00",
          "2024-04-16T00:00:00",
          "2024-04-15T00:00:00",
          "2024-04-12T00:00:00",
          "2024-04-11T00:00:00",
          "2024-04-10T00:00:00",
          "2024-04-09T00:00:00",
          "2024-04-08T00:00:00",
          "2024-04-05T00:00:00",
          "2024-04-04T00:00:00",
          "2024-04-03T00:00:00",
          "2024-04-02T00:00:00",
          "2024-04-01T00:00:00",
          "2024-03-28T00:00:00",
          "2024-03-27T00:00:00",
          "2024-03-26T00:00:00",
          "2024-03-25T00:00:00",
          "2024-03-22T00:00:00",
          "2024-03-21T00:00:00",
          "2024-03-20T00:00:00",
          "2024-03-19T00:00:00",
          "2024-03-18T00:00:00",
          "2024-03-15T00:00:00",
          "2024-03-14T00:00:00",
          "2024-03-13T00:00:00",
          "2024-03-12T00:00:00",
          "2024-03-11T00:00:00",
          "2024-03-08T00:00:00",
          "2024-03-07T00:00:00",
          "2024-03-06T00:00:00",
          "2024-03-05T00:00:00",
          "2024-03-04T00:00:00",
          "2024-03-01T00:00:00",
          "2024-02-29T00:00:00",
          "2024-02-28T00:00:00",
          "2024-02-27T00:00:00",
          "2024-02-26T00:00:00",
          "2024-02-23T00:00:00",
          "2024-02-22T00:00:00",
          "2024-02-21T00:00:00",
          "2024-02-20T00:00:00",
          "2024-02-16T00:00:00",
          "2024-02-15T00:00:00",
          "2024-02-14T00:00:00",
          "2024-02-13T00:00:00",
          "2024-02-12T00:00:00",
          "2024-02-09T00:00:00",
          "2024-02-08T00:00:00",
          "2024-02-07T00:00:00",
          "2024-02-06T00:00:00",
          "2024-02-05T00:00:00",
          "2024-02-02T00:00:00",
          "2024-02-01T00:00:00",
          "2024-01-31T00:00:00",
          "2024-01-30T00:00:00",
          "2024-01-29T00:00:00",
          "2024-01-26T00:00:00",
          "2024-01-25T00:00:00",
          "2024-01-24T00:00:00",
          "2024-01-23T00:00:00",
          "2024-01-22T00:00:00",
          "2024-01-19T00:00:00",
          "2024-01-18T00:00:00",
          "2024-01-17T00:00:00",
          "2024-01-16T00:00:00",
          "2024-01-12T00:00:00",
          "2024-01-11T00:00:00",
          "2024-01-10T00:00:00",
          "2024-01-09T00:00:00",
          "2024-01-08T00:00:00",
          "2024-01-05T00:00:00",
          "2024-01-04T00:00:00",
          "2024-01-03T00:00:00",
          "2024-01-02T00:00:00",
          "2023-12-29T00:00:00",
          "2023-12-28T00:00:00",
          "2023-12-27T00:00:00",
          "2023-12-26T00:00:00"
         ],
         "xaxis": "x",
         "y": [
          35969103,
          32395182,
          41773545,
          29650708,
          28968017,
          33532541,
          37801268,
          32572102,
          43734161,
          37620255,
          39834072,
          37789754,
          55986317,
          36370870,
          38897076,
          55101078,
          42464073,
          51220753,
          43855937,
          59634051,
          87519800,
          44726034,
          49539951,
          37045302,
          44307695,
          42680479,
          43163727,
          43192853,
          49977974,
          27907532,
          39772878,
          42886990,
          36759126,
          43137935,
          44811733,
          43521227,
          58606723,
          51364758,
          55213608,
          58671936,
          48037231,
          47906279,
          67217127,
          66897593,
          64208616,
          59711081,
          62726626,
          65437480,
          66611510,
          114226906,
          60811916,
          58252030,
          52063930,
          61561645,
          47913510,
          50728898,
          39311040,
          39170524,
          50397273,
          82938837,
          86509974,
          69029813,
          70483310,
          49532662,
          42012181,
          50491742,
          60258015,
          61371018,
          43663689,
          41442211,
          49557455,
          68311136,
          68007801,
          47657765,
          36914579,
          45379487,
          41073530,
          34873298,
          39030859,
          48277684,
          55706870,
          29465445,
          45295463,
          54350148,
          49165036,
          47439444,
          44957973,
          35299360,
          59675877,
          53379576,
          77310006,
          64250990,
          41080455,
          30653489,
          32089617,
          41125422,
          38929330,
          24658748,
          23215431,
          24419952
         ],
         "yaxis": "y"
        },
        {
         "alignmentgroup": "True",
         "hovertemplate": "Stock_Code=GOOGL<br>Day=%{x}<br>Volume=%{y}<extra></extra>",
         "legendgroup": "GOOGL",
         "marker": {
          "color": "#FFA15A",
          "pattern": {
           "shape": ""
          }
         },
         "name": "GOOGL",
         "offsetgroup": "GOOGL",
         "orientation": "v",
         "showlegend": true,
         "textposition": "auto",
         "type": "bar",
         "x": [
          "2024-05-17T00:00:00",
          "2024-05-16T00:00:00",
          "2024-05-15T00:00:00",
          "2024-05-14T00:00:00",
          "2024-05-13T00:00:00",
          "2024-05-10T00:00:00",
          "2024-05-09T00:00:00",
          "2024-05-08T00:00:00",
          "2024-05-07T00:00:00",
          "2024-05-06T00:00:00",
          "2024-05-03T00:00:00",
          "2024-05-02T00:00:00",
          "2024-05-01T00:00:00",
          "2024-04-30T00:00:00",
          "2024-04-29T00:00:00",
          "2024-04-26T00:00:00",
          "2024-04-25T00:00:00",
          "2024-04-24T00:00:00",
          "2024-04-23T00:00:00",
          "2024-04-22T00:00:00",
          "2024-04-19T00:00:00",
          "2024-04-18T00:00:00",
          "2024-04-17T00:00:00",
          "2024-04-16T00:00:00",
          "2024-04-15T00:00:00",
          "2024-04-12T00:00:00",
          "2024-04-11T00:00:00",
          "2024-04-10T00:00:00",
          "2024-04-09T00:00:00",
          "2024-04-08T00:00:00",
          "2024-04-05T00:00:00",
          "2024-04-04T00:00:00",
          "2024-04-03T00:00:00",
          "2024-04-02T00:00:00",
          "2024-04-01T00:00:00",
          "2024-03-28T00:00:00",
          "2024-03-27T00:00:00",
          "2024-03-26T00:00:00",
          "2024-03-25T00:00:00",
          "2024-03-22T00:00:00",
          "2024-03-21T00:00:00",
          "2024-03-20T00:00:00",
          "2024-03-19T00:00:00",
          "2024-03-18T00:00:00",
          "2024-03-15T00:00:00",
          "2024-03-14T00:00:00",
          "2024-03-13T00:00:00",
          "2024-03-12T00:00:00",
          "2024-03-11T00:00:00",
          "2024-03-08T00:00:00",
          "2024-03-07T00:00:00",
          "2024-03-06T00:00:00",
          "2024-03-05T00:00:00",
          "2024-03-04T00:00:00",
          "2024-03-01T00:00:00",
          "2024-02-29T00:00:00",
          "2024-02-28T00:00:00",
          "2024-02-27T00:00:00",
          "2024-02-26T00:00:00",
          "2024-02-23T00:00:00",
          "2024-02-22T00:00:00",
          "2024-02-21T00:00:00",
          "2024-02-20T00:00:00",
          "2024-02-16T00:00:00",
          "2024-02-15T00:00:00",
          "2024-02-14T00:00:00",
          "2024-02-13T00:00:00",
          "2024-02-12T00:00:00",
          "2024-02-09T00:00:00",
          "2024-02-08T00:00:00",
          "2024-02-07T00:00:00",
          "2024-02-06T00:00:00",
          "2024-02-05T00:00:00",
          "2024-02-02T00:00:00",
          "2024-02-01T00:00:00",
          "2024-01-31T00:00:00",
          "2024-01-30T00:00:00",
          "2024-01-29T00:00:00",
          "2024-01-26T00:00:00",
          "2024-01-25T00:00:00",
          "2024-01-24T00:00:00",
          "2024-01-23T00:00:00",
          "2024-01-22T00:00:00",
          "2024-01-19T00:00:00",
          "2024-01-18T00:00:00",
          "2024-01-17T00:00:00",
          "2024-01-16T00:00:00",
          "2024-01-12T00:00:00",
          "2024-01-11T00:00:00",
          "2024-01-10T00:00:00",
          "2024-01-09T00:00:00",
          "2024-01-08T00:00:00",
          "2024-01-05T00:00:00",
          "2024-01-04T00:00:00",
          "2024-01-03T00:00:00",
          "2024-01-02T00:00:00",
          "2023-12-29T00:00:00",
          "2023-12-28T00:00:00",
          "2023-12-27T00:00:00",
          "2023-12-26T00:00:00"
         ],
         "xaxis": "x",
         "y": [
          24479262,
          27867947,
          26948370,
          25127138,
          31327602,
          29799931,
          15346700,
          19569146,
          28039696,
          21871283,
          34662432,
          24294549,
          33493151,
          33562861,
          45610024,
          64665299,
          57109730,
          22779112,
          21151568,
          26446206,
          32615639,
          19883044,
          21763130,
          20779495,
          27136472,
          25353746,
          27166431,
          22838629,
          30739691,
          20577435,
          23328522,
          34468227,
          23884801,
          24491676,
          31308247,
          24485390,
          22879178,
          22149137,
          19229285,
          29211769,
          24755597,
          21311501,
          24070435,
          69273699,
          49475417,
          42570686,
          23164162,
          27353587,
          31677211,
          39370392,
          37738209,
          35318610,
          40194757,
          55999415,
          31151116,
          42132953,
          37328558,
          33099190,
          53641795,
          19493752,
          27191892,
          23315687,
          24935710,
          31468926,
          37590695,
          22704166,
          27837730,
          21564085,
          26829504,
          22563764,
          25208862,
          29128201,
          38505405,
          62499574,
          40466549,
          71910044,
          36331833,
          27784259,
          26115494,
          29149069,
          25155644,
          21636129,
          32200369,
          34271867,
          25746417,
          20968649,
          22670467,
          18785514,
          24008722,
          21320203,
          24759598,
          21403982,
          21661914,
          27137735,
          24212147,
          23711220,
          18733017,
          16045712,
          19567216,
          16780333
         ],
         "yaxis": "y"
        },
        {
         "alignmentgroup": "True",
         "hovertemplate": "Stock_Code=TSLA<br>Day=%{x}<br>Volume=%{y}<extra></extra>",
         "legendgroup": "TSLA",
         "marker": {
          "color": "#19d3f3",
          "pattern": {
           "shape": ""
          }
         },
         "name": "TSLA",
         "offsetgroup": "TSLA",
         "orientation": "v",
         "showlegend": true,
         "textposition": "auto",
         "type": "bar",
         "x": [
          "2024-05-17T00:00:00",
          "2024-05-16T00:00:00",
          "2024-05-15T00:00:00",
          "2024-05-14T00:00:00",
          "2024-05-13T00:00:00",
          "2024-05-10T00:00:00",
          "2024-05-09T00:00:00",
          "2024-05-08T00:00:00",
          "2024-05-07T00:00:00",
          "2024-05-06T00:00:00",
          "2024-05-03T00:00:00",
          "2024-05-02T00:00:00",
          "2024-05-01T00:00:00",
          "2024-04-30T00:00:00",
          "2024-04-29T00:00:00",
          "2024-04-26T00:00:00",
          "2024-04-25T00:00:00",
          "2024-04-24T00:00:00",
          "2024-04-23T00:00:00",
          "2024-04-22T00:00:00",
          "2024-04-19T00:00:00",
          "2024-04-18T00:00:00",
          "2024-04-17T00:00:00",
          "2024-04-16T00:00:00",
          "2024-04-15T00:00:00",
          "2024-04-12T00:00:00",
          "2024-04-11T00:00:00",
          "2024-04-10T00:00:00",
          "2024-04-09T00:00:00",
          "2024-04-08T00:00:00",
          "2024-04-05T00:00:00",
          "2024-04-04T00:00:00",
          "2024-04-03T00:00:00",
          "2024-04-02T00:00:00",
          "2024-04-01T00:00:00",
          "2024-03-28T00:00:00",
          "2024-03-27T00:00:00",
          "2024-03-26T00:00:00",
          "2024-03-25T00:00:00",
          "2024-03-22T00:00:00",
          "2024-03-21T00:00:00",
          "2024-03-20T00:00:00",
          "2024-03-19T00:00:00",
          "2024-03-18T00:00:00",
          "2024-03-15T00:00:00",
          "2024-03-14T00:00:00",
          "2024-03-13T00:00:00",
          "2024-03-12T00:00:00",
          "2024-03-11T00:00:00",
          "2024-03-08T00:00:00",
          "2024-03-07T00:00:00",
          "2024-03-06T00:00:00",
          "2024-03-05T00:00:00",
          "2024-03-04T00:00:00",
          "2024-03-01T00:00:00",
          "2024-02-29T00:00:00",
          "2024-02-28T00:00:00",
          "2024-02-27T00:00:00",
          "2024-02-26T00:00:00",
          "2024-02-23T00:00:00",
          "2024-02-22T00:00:00",
          "2024-02-21T00:00:00",
          "2024-02-20T00:00:00",
          "2024-02-16T00:00:00",
          "2024-02-15T00:00:00",
          "2024-02-14T00:00:00",
          "2024-02-13T00:00:00",
          "2024-02-12T00:00:00",
          "2024-02-09T00:00:00",
          "2024-02-08T00:00:00",
          "2024-02-07T00:00:00",
          "2024-02-06T00:00:00",
          "2024-02-05T00:00:00",
          "2024-02-02T00:00:00",
          "2024-02-01T00:00:00",
          "2024-01-31T00:00:00",
          "2024-01-30T00:00:00",
          "2024-01-29T00:00:00",
          "2024-01-26T00:00:00",
          "2024-01-25T00:00:00",
          "2024-01-24T00:00:00",
          "2024-01-23T00:00:00",
          "2024-01-22T00:00:00",
          "2024-01-19T00:00:00",
          "2024-01-18T00:00:00",
          "2024-01-17T00:00:00",
          "2024-01-16T00:00:00",
          "2024-01-12T00:00:00",
          "2024-01-11T00:00:00",
          "2024-01-10T00:00:00",
          "2024-01-09T00:00:00",
          "2024-01-08T00:00:00",
          "2024-01-05T00:00:00",
          "2024-01-04T00:00:00",
          "2024-01-03T00:00:00",
          "2024-01-02T00:00:00",
          "2023-12-29T00:00:00",
          "2023-12-28T00:00:00",
          "2023-12-27T00:00:00",
          "2023-12-26T00:00:00"
         ],
         "xaxis": "x",
         "y": [
          77445845,
          59812220,
          79662993,
          86407422,
          67018903,
          72627178,
          65950292,
          79969488,
          75045854,
          84390253,
          75491539,
          89148041,
          92829719,
          127031787,
          243869678,
          109815725,
          126427521,
          181178020,
          124545104,
          107097564,
          87074500,
          96098830,
          82439718,
          96999956,
          100245310,
          64722669,
          94515987,
          84532407,
          102327658,
          104039371,
          136439809,
          122061224,
          82223543,
          115344925,
          80751684,
          77654838,
          81804043,
          113186227,
          74228615,
          75580637,
          73178014,
          83846726,
          77271428,
          108214358,
          97146832,
          125494925,
          104717978,
          87009098,
          85013157,
          85544644,
          102129004,
          107920944,
          119660758,
          134334869,
          82243119,
          85906974,
          99806173,
          108645412,
          111747116,
          78841917,
          92739461,
          103844008,
          104545762,
          111346705,
          120831762,
          81202987,
          86759478,
          95498597,
          84476347,
          83034043,
          111535217,
          122675954,
          134294447,
          110612672,
          91843275,
          103221430,
          109982327,
          125013148,
          107343231,
          198076787,
          112930989,
          106605946,
          117952527,
          102260343,
          108595431,
          103164400,
          115355046,
          123043812,
          105873612,
          91628502,
          96705664,
          85166580,
          92240035,
          102629283,
          121082599,
          104654163,
          100891578,
          113619943,
          105853348,
          86892382
         ],
         "yaxis": "y"
        },
        {
         "alignmentgroup": "True",
         "hovertemplate": "Stock_Code=GOOG<br>Day=%{x}<br>Volume=%{y}<extra></extra>",
         "legendgroup": "GOOG",
         "marker": {
          "color": "#FF6692",
          "pattern": {
           "shape": ""
          }
         },
         "name": "GOOG",
         "offsetgroup": "GOOG",
         "orientation": "v",
         "showlegend": true,
         "textposition": "auto",
         "type": "bar",
         "x": [
          "2024-05-17T00:00:00",
          "2024-05-16T00:00:00",
          "2024-05-15T00:00:00",
          "2024-05-14T00:00:00",
          "2024-05-13T00:00:00",
          "2024-05-10T00:00:00",
          "2024-05-09T00:00:00",
          "2024-05-08T00:00:00",
          "2024-05-07T00:00:00",
          "2024-05-06T00:00:00",
          "2024-05-03T00:00:00",
          "2024-05-02T00:00:00",
          "2024-05-01T00:00:00",
          "2024-04-30T00:00:00",
          "2024-04-29T00:00:00",
          "2024-04-26T00:00:00",
          "2024-04-25T00:00:00",
          "2024-04-24T00:00:00",
          "2024-04-23T00:00:00",
          "2024-04-22T00:00:00",
          "2024-04-19T00:00:00",
          "2024-04-18T00:00:00",
          "2024-04-17T00:00:00",
          "2024-04-16T00:00:00",
          "2024-04-15T00:00:00",
          "2024-04-12T00:00:00",
          "2024-04-11T00:00:00",
          "2024-04-10T00:00:00",
          "2024-04-09T00:00:00",
          "2024-04-08T00:00:00",
          "2024-04-05T00:00:00",
          "2024-04-04T00:00:00",
          "2024-04-03T00:00:00",
          "2024-04-02T00:00:00",
          "2024-04-01T00:00:00",
          "2024-03-28T00:00:00",
          "2024-03-27T00:00:00",
          "2024-03-26T00:00:00",
          "2024-03-25T00:00:00",
          "2024-03-22T00:00:00",
          "2024-03-21T00:00:00",
          "2024-03-20T00:00:00",
          "2024-03-19T00:00:00",
          "2024-03-18T00:00:00",
          "2024-03-15T00:00:00",
          "2024-03-14T00:00:00",
          "2024-03-13T00:00:00",
          "2024-03-12T00:00:00",
          "2024-03-11T00:00:00",
          "2024-03-08T00:00:00",
          "2024-03-07T00:00:00",
          "2024-03-06T00:00:00",
          "2024-03-05T00:00:00",
          "2024-03-04T00:00:00",
          "2024-03-01T00:00:00",
          "2024-02-29T00:00:00",
          "2024-02-28T00:00:00",
          "2024-02-27T00:00:00",
          "2024-02-26T00:00:00",
          "2024-02-23T00:00:00",
          "2024-02-22T00:00:00",
          "2024-02-21T00:00:00",
          "2024-02-20T00:00:00",
          "2024-02-16T00:00:00",
          "2024-02-15T00:00:00",
          "2024-02-14T00:00:00",
          "2024-02-13T00:00:00",
          "2024-02-12T00:00:00",
          "2024-02-09T00:00:00",
          "2024-02-08T00:00:00",
          "2024-02-07T00:00:00",
          "2024-02-06T00:00:00",
          "2024-02-05T00:00:00",
          "2024-02-02T00:00:00",
          "2024-02-01T00:00:00",
          "2024-01-31T00:00:00",
          "2024-01-30T00:00:00",
          "2024-01-29T00:00:00",
          "2024-01-26T00:00:00",
          "2024-01-25T00:00:00",
          "2024-01-24T00:00:00",
          "2024-01-23T00:00:00",
          "2024-01-22T00:00:00",
          "2024-01-19T00:00:00",
          "2024-01-18T00:00:00",
          "2024-01-17T00:00:00",
          "2024-01-16T00:00:00",
          "2024-01-12T00:00:00",
          "2024-01-11T00:00:00",
          "2024-01-10T00:00:00",
          "2024-01-09T00:00:00",
          "2024-01-08T00:00:00",
          "2024-01-05T00:00:00",
          "2024-01-04T00:00:00",
          "2024-01-03T00:00:00",
          "2024-01-02T00:00:00",
          "2023-12-29T00:00:00",
          "2023-12-28T00:00:00",
          "2023-12-27T00:00:00",
          "2023-12-26T00:00:00"
         ],
         "xaxis": "x",
         "y": [
          16546353,
          17247311,
          20958245,
          18729463,
          19648585,
          18740458,
          11937704,
          14569858,
          21102434,
          15147906,
          22767056,
          17041119,
          25223245,
          29420755,
          35914561,
          56500787,
          36197789,
          19485694,
          16115408,
          17243870,
          21479881,
          14016065,
          16237752,
          15413201,
          21140948,
          16989765,
          17841703,
          16339174,
          21435146,
          16280924,
          16212049,
          23901697,
          16984168,
          17549140,
          24416137,
          21105628,
          16621964,
          19312694,
          15114728,
          19252925,
          19843915,
          17729996,
          17748367,
          47676689,
          41039494,
          35991108,
          19589151,
          18951920,
          22462576,
          26495160,
          24107282,
          23175200,
          28447550,
          43571510,
          28551525,
          35485006,
          30628702,
          22363981,
          33513011,
          14519434,
          23024707,
          16499584,
          18625589,
          21865118,
          26724305,
          16651824,
          18138482,
          17236108,
          21877693,
          18241319,
          21436126,
          21517655,
          29254444,
          42136127,
          25526855,
          43908584,
          26578934,
          20909258,
          19494488,
          21495120,
          18892741,
          14113649,
          21829232,
          27181032,
          18876800,
          17884548,
          19198939,
          13998729,
          17471130,
          16641881,
          19579667,
          17645293,
          15140136,
          18253331,
          18974308,
          20071885,
          14880961,
          12192549,
          17261305,
          11170066
         ],
         "yaxis": "y"
        },
        {
         "alignmentgroup": "True",
         "hovertemplate": "Stock_Code=BRK.B<br>Day=%{x}<br>Volume=%{y}<extra></extra>",
         "legendgroup": "BRK.B",
         "marker": {
          "color": "#B6E880",
          "pattern": {
           "shape": ""
          }
         },
         "name": "BRK.B",
         "offsetgroup": "BRK.B",
         "orientation": "v",
         "showlegend": true,
         "textposition": "auto",
         "type": "bar",
         "x": [
          "2024-05-17T00:00:00",
          "2024-05-16T00:00:00",
          "2024-05-15T00:00:00",
          "2024-05-14T00:00:00",
          "2024-05-13T00:00:00",
          "2024-05-10T00:00:00",
          "2024-05-09T00:00:00",
          "2024-05-08T00:00:00",
          "2024-05-07T00:00:00",
          "2024-05-06T00:00:00",
          "2024-05-03T00:00:00",
          "2024-05-02T00:00:00",
          "2024-05-01T00:00:00",
          "2024-04-30T00:00:00",
          "2024-04-29T00:00:00",
          "2024-04-26T00:00:00",
          "2024-04-25T00:00:00",
          "2024-04-24T00:00:00",
          "2024-04-23T00:00:00",
          "2024-04-22T00:00:00",
          "2024-04-19T00:00:00",
          "2024-04-18T00:00:00",
          "2024-04-17T00:00:00",
          "2024-04-16T00:00:00",
          "2024-04-15T00:00:00",
          "2024-04-12T00:00:00",
          "2024-04-11T00:00:00",
          "2024-04-10T00:00:00",
          "2024-04-09T00:00:00",
          "2024-04-08T00:00:00",
          "2024-04-05T00:00:00",
          "2024-04-04T00:00:00",
          "2024-04-03T00:00:00",
          "2024-04-02T00:00:00",
          "2024-04-01T00:00:00",
          "2024-03-28T00:00:00",
          "2024-03-27T00:00:00",
          "2024-03-26T00:00:00",
          "2024-03-25T00:00:00",
          "2024-03-22T00:00:00",
          "2024-03-21T00:00:00",
          "2024-03-20T00:00:00",
          "2024-03-19T00:00:00",
          "2024-03-18T00:00:00",
          "2024-03-15T00:00:00",
          "2024-03-14T00:00:00",
          "2024-03-13T00:00:00",
          "2024-03-12T00:00:00",
          "2024-03-11T00:00:00",
          "2024-03-08T00:00:00",
          "2024-03-07T00:00:00",
          "2024-03-06T00:00:00",
          "2024-03-05T00:00:00",
          "2024-03-04T00:00:00",
          "2024-03-01T00:00:00",
          "2024-02-29T00:00:00",
          "2024-02-28T00:00:00",
          "2024-02-27T00:00:00",
          "2024-02-26T00:00:00",
          "2024-02-23T00:00:00",
          "2024-02-22T00:00:00",
          "2024-02-21T00:00:00",
          "2024-02-20T00:00:00",
          "2024-02-16T00:00:00",
          "2024-02-15T00:00:00",
          "2024-02-14T00:00:00",
          "2024-02-13T00:00:00",
          "2024-02-12T00:00:00",
          "2024-02-09T00:00:00",
          "2024-02-08T00:00:00",
          "2024-02-07T00:00:00",
          "2024-02-06T00:00:00",
          "2024-02-05T00:00:00",
          "2024-02-02T00:00:00",
          "2024-02-01T00:00:00",
          "2024-01-31T00:00:00",
          "2024-01-30T00:00:00",
          "2024-01-29T00:00:00",
          "2024-01-26T00:00:00",
          "2024-01-25T00:00:00",
          "2024-01-24T00:00:00",
          "2024-01-23T00:00:00",
          "2024-01-22T00:00:00",
          "2024-01-19T00:00:00",
          "2024-01-18T00:00:00",
          "2024-01-17T00:00:00",
          "2024-01-16T00:00:00",
          "2024-01-12T00:00:00",
          "2024-01-11T00:00:00",
          "2024-01-10T00:00:00",
          "2024-01-09T00:00:00",
          "2024-01-08T00:00:00",
          "2024-01-05T00:00:00",
          "2024-01-04T00:00:00",
          "2024-01-03T00:00:00",
          "2024-01-02T00:00:00",
          "2023-12-29T00:00:00",
          "2023-12-28T00:00:00",
          "2023-12-27T00:00:00",
          "2023-12-26T00:00:00"
         ],
         "xaxis": "x",
         "y": [
          2990028,
          3550693,
          2857594,
          2674407,
          2711154,
          3087837,
          2358862,
          2399639,
          3085702,
          3920908,
          4130994,
          2679740,
          2606198,
          3074765,
          2365421,
          3025406,
          2676009,
          2508495,
          2288595,
          2981614,
          3999913,
          2672415,
          2466391,
          3438078,
          3004477,
          3469707,
          2891952,
          3125230,
          2199528,
          2420950,
          2731160,
          3745938,
          2709327,
          2746364,
          2511697,
          4378770,
          2929158,
          2936406,
          2808910,
          3000546,
          3402874,
          2935528,
          2804025,
          3778561,
          7557843,
          3719807,
          3576904,
          2594738,
          2375985,
          3417859,
          4187608,
          3842562,
          4714395,
          4183800,
          3284244,
          4849104,
          4069203,
          4610892,
          7446190,
          4025164,
          3697494,
          2720475,
          3534163,
          3533386,
          3076698,
          2670953,
          3459672,
          2820408,
          2510146,
          3359311,
          3429024,
          2574602,
          3653265,
          3808499,
          2949959,
          3857684,
          3094226,
          3799251,
          3624361,
          4059189,
          4252355,
          2900467,
          3558313,
          4092548,
          3008442,
          2551707,
          3047780,
          2623907,
          3579713,
          2448737,
          2999607,
          3454065,
          2990978,
          4144302,
          4322822,
          4740903,
          3270014,
          2742792,
          2457831,
          1965105
         ],
         "yaxis": "y"
        },
        {
         "alignmentgroup": "True",
         "hovertemplate": "Stock_Code=META<br>Day=%{x}<br>Volume=%{y}<extra></extra>",
         "legendgroup": "META",
         "marker": {
          "color": "#FF97FF",
          "pattern": {
           "shape": ""
          }
         },
         "name": "META",
         "offsetgroup": "META",
         "orientation": "v",
         "showlegend": true,
         "textposition": "auto",
         "type": "bar",
         "x": [
          "2024-05-17T00:00:00",
          "2024-05-16T00:00:00",
          "2024-05-15T00:00:00",
          "2024-05-14T00:00:00",
          "2024-05-13T00:00:00",
          "2024-05-10T00:00:00",
          "2024-05-09T00:00:00",
          "2024-05-08T00:00:00",
          "2024-05-07T00:00:00",
          "2024-05-06T00:00:00",
          "2024-05-03T00:00:00",
          "2024-05-02T00:00:00",
          "2024-05-01T00:00:00",
          "2024-04-30T00:00:00",
          "2024-04-29T00:00:00",
          "2024-04-26T00:00:00",
          "2024-04-25T00:00:00",
          "2024-04-24T00:00:00",
          "2024-04-23T00:00:00",
          "2024-04-22T00:00:00",
          "2024-04-19T00:00:00",
          "2024-04-18T00:00:00",
          "2024-04-17T00:00:00",
          "2024-04-16T00:00:00",
          "2024-04-15T00:00:00",
          "2024-04-12T00:00:00",
          "2024-04-11T00:00:00",
          "2024-04-10T00:00:00",
          "2024-04-09T00:00:00",
          "2024-04-08T00:00:00",
          "2024-04-05T00:00:00",
          "2024-04-04T00:00:00",
          "2024-04-03T00:00:00",
          "2024-04-02T00:00:00",
          "2024-04-01T00:00:00",
          "2024-03-28T00:00:00",
          "2024-03-27T00:00:00",
          "2024-03-26T00:00:00",
          "2024-03-25T00:00:00",
          "2024-03-22T00:00:00",
          "2024-03-21T00:00:00",
          "2024-03-20T00:00:00",
          "2024-03-19T00:00:00",
          "2024-03-18T00:00:00",
          "2024-03-15T00:00:00",
          "2024-03-14T00:00:00",
          "2024-03-13T00:00:00",
          "2024-03-12T00:00:00",
          "2024-03-11T00:00:00",
          "2024-03-08T00:00:00",
          "2024-03-07T00:00:00",
          "2024-03-06T00:00:00",
          "2024-03-05T00:00:00",
          "2024-03-04T00:00:00",
          "2024-03-01T00:00:00",
          "2024-02-29T00:00:00",
          "2024-02-28T00:00:00",
          "2024-02-27T00:00:00",
          "2024-02-26T00:00:00",
          "2024-02-23T00:00:00",
          "2024-02-22T00:00:00",
          "2024-02-21T00:00:00",
          "2024-02-20T00:00:00",
          "2024-02-16T00:00:00",
          "2024-02-15T00:00:00",
          "2024-02-14T00:00:00",
          "2024-02-13T00:00:00",
          "2024-02-12T00:00:00",
          "2024-02-09T00:00:00",
          "2024-02-08T00:00:00",
          "2024-02-07T00:00:00",
          "2024-02-06T00:00:00",
          "2024-02-05T00:00:00",
          "2024-02-02T00:00:00",
          "2024-02-01T00:00:00",
          "2024-01-31T00:00:00",
          "2024-01-30T00:00:00",
          "2024-01-29T00:00:00",
          "2024-01-26T00:00:00",
          "2024-01-25T00:00:00",
          "2024-01-24T00:00:00",
          "2024-01-23T00:00:00",
          "2024-01-22T00:00:00",
          "2024-01-19T00:00:00",
          "2024-01-18T00:00:00",
          "2024-01-17T00:00:00",
          "2024-01-16T00:00:00",
          "2024-01-12T00:00:00",
          "2024-01-11T00:00:00",
          "2024-01-10T00:00:00",
          "2024-01-09T00:00:00",
          "2024-01-08T00:00:00",
          "2024-01-05T00:00:00",
          "2024-01-04T00:00:00",
          "2024-01-03T00:00:00",
          "2024-01-02T00:00:00",
          "2023-12-29T00:00:00",
          "2023-12-28T00:00:00",
          "2023-12-27T00:00:00",
          "2023-12-26T00:00:00"
         ],
         "xaxis": "x",
         "y": [
          10807289,
          16608179,
          13100470,
          10478553,
          14668798,
          10749999,
          9437651,
          11683929,
          13406816,
          15094627,
          16489057,
          15221322,
          20344947,
          18429496,
          21502646,
          32691443,
          82890741,
          37772677,
          15079196,
          17271125,
          25215364,
          14808670,
          12193743,
          9847925,
          13512893,
          11984535,
          10369469,
          11418491,
          10644177,
          13126009,
          19178665,
          26207031,
          12001199,
          10989041,
          9013459,
          15212764,
          9989676,
          11205382,
          8380617,
          8120593,
          9712549,
          11711100,
          10903092,
          11755251,
          29153576,
          12571134,
          11937907,
          15362157,
          19982445,
          18597059,
          18586437,
          11757925,
          15325299,
          12324141,
          15884882,
          17732045,
          12715486,
          10809595,
          12101415,
          18374286,
          21625805,
          12977050,
          18015523,
          23324620,
          24212326,
          16858401,
          20916602,
          19381963,
          18413137,
          18815097,
          23065994,
          21655214,
          40832376,
          84707646,
          29727051,
          20180817,
          18614727,
          18742433,
          13159290,
          15091080,
          15698460,
          15506096,
          17680454,
          21670806,
          16354332,
          12724779,
          15306885,
          19310046,
          17205385,
          22117206,
          13463871,
          13890222,
          13919573,
          12099895,
          15451133,
          19042152,
          14987092,
          11798807,
          12708318,
          9898614
         ],
         "yaxis": "y"
        },
        {
         "alignmentgroup": "True",
         "hovertemplate": "Stock_Code=UNH<br>Day=%{x}<br>Volume=%{y}<extra></extra>",
         "legendgroup": "UNH",
         "marker": {
          "color": "#FECB52",
          "pattern": {
           "shape": ""
          }
         },
         "name": "UNH",
         "offsetgroup": "UNH",
         "orientation": "v",
         "showlegend": true,
         "textposition": "auto",
         "type": "bar",
         "x": [
          "2024-05-17T00:00:00",
          "2024-05-16T00:00:00",
          "2024-05-15T00:00:00",
          "2024-05-14T00:00:00",
          "2024-05-13T00:00:00",
          "2024-05-10T00:00:00",
          "2024-05-09T00:00:00",
          "2024-05-08T00:00:00",
          "2024-05-07T00:00:00",
          "2024-05-06T00:00:00",
          "2024-05-03T00:00:00",
          "2024-05-02T00:00:00",
          "2024-05-01T00:00:00",
          "2024-04-30T00:00:00",
          "2024-04-29T00:00:00",
          "2024-04-26T00:00:00",
          "2024-04-25T00:00:00",
          "2024-04-24T00:00:00",
          "2024-04-23T00:00:00",
          "2024-04-22T00:00:00",
          "2024-04-19T00:00:00",
          "2024-04-18T00:00:00",
          "2024-04-17T00:00:00",
          "2024-04-16T00:00:00",
          "2024-04-15T00:00:00",
          "2024-04-12T00:00:00",
          "2024-04-11T00:00:00",
          "2024-04-10T00:00:00",
          "2024-04-09T00:00:00",
          "2024-04-08T00:00:00",
          "2024-04-05T00:00:00",
          "2024-04-04T00:00:00",
          "2024-04-03T00:00:00",
          "2024-04-02T00:00:00",
          "2024-04-01T00:00:00",
          "2024-03-28T00:00:00",
          "2024-03-27T00:00:00",
          "2024-03-26T00:00:00",
          "2024-03-25T00:00:00",
          "2024-03-22T00:00:00",
          "2024-03-21T00:00:00",
          "2024-03-20T00:00:00",
          "2024-03-19T00:00:00",
          "2024-03-18T00:00:00",
          "2024-03-15T00:00:00",
          "2024-03-14T00:00:00",
          "2024-03-13T00:00:00",
          "2024-03-12T00:00:00",
          "2024-03-11T00:00:00",
          "2024-03-08T00:00:00",
          "2024-03-07T00:00:00",
          "2024-03-06T00:00:00",
          "2024-03-05T00:00:00",
          "2024-03-04T00:00:00",
          "2024-03-01T00:00:00",
          "2024-02-29T00:00:00",
          "2024-02-28T00:00:00",
          "2024-02-27T00:00:00",
          "2024-02-26T00:00:00",
          "2024-02-23T00:00:00",
          "2024-02-22T00:00:00",
          "2024-02-21T00:00:00",
          "2024-02-20T00:00:00",
          "2024-02-16T00:00:00",
          "2024-02-15T00:00:00",
          "2024-02-14T00:00:00",
          "2024-02-13T00:00:00",
          "2024-02-12T00:00:00",
          "2024-02-09T00:00:00",
          "2024-02-08T00:00:00",
          "2024-02-07T00:00:00",
          "2024-02-06T00:00:00",
          "2024-02-05T00:00:00",
          "2024-02-02T00:00:00",
          "2024-02-01T00:00:00",
          "2024-01-31T00:00:00",
          "2024-01-30T00:00:00",
          "2024-01-29T00:00:00",
          "2024-01-26T00:00:00",
          "2024-01-25T00:00:00",
          "2024-01-24T00:00:00",
          "2024-01-23T00:00:00",
          "2024-01-22T00:00:00",
          "2024-01-19T00:00:00",
          "2024-01-18T00:00:00",
          "2024-01-17T00:00:00",
          "2024-01-16T00:00:00",
          "2024-01-12T00:00:00",
          "2024-01-11T00:00:00",
          "2024-01-10T00:00:00",
          "2024-01-09T00:00:00",
          "2024-01-08T00:00:00",
          "2024-01-05T00:00:00",
          "2024-01-04T00:00:00",
          "2024-01-03T00:00:00",
          "2024-01-02T00:00:00",
          "2023-12-29T00:00:00",
          "2023-12-28T00:00:00",
          "2023-12-27T00:00:00",
          "2023-12-26T00:00:00"
         ],
         "xaxis": "x",
         "y": [
          2657396,
          3655775,
          2981351,
          2949795,
          2454689,
          2784585,
          2343066,
          3079031,
          3752131,
          2029503,
          2487811,
          3561404,
          2729234,
          3367521,
          2192838,
          2727016,
          4329652,
          3724418,
          3646662,
          4697677,
          6618600,
          8880448,
          8759779,
          11816517,
          5376771,
          6045671,
          5844125,
          4493483,
          3504006,
          4508809,
          5718412,
          5172962,
          4423274,
          11829315,
          2683014,
          3820008,
          2653185,
          3113314,
          2786141,
          2847269,
          3693408,
          3548160,
          2511743,
          2970640,
          5713536,
          3374581,
          3494658,
          3868566,
          4407058,
          4673567,
          5102043,
          5577493,
          5296200,
          5239810,
          7315039,
          6833167,
          9558553,
          3780619,
          2308927,
          2502146,
          3186819,
          2096023,
          2600288,
          2135586,
          2292306,
          1918535,
          3436087,
          3194016,
          2715493,
          3342976,
          4109062,
          2745515,
          3646516,
          3804521,
          4242580,
          5358104,
          4931215,
          4554106,
          6212173,
          14671004,
          2867963,
          2673106,
          5922855,
          6143395,
          7367041,
          3791496,
          3736718,
          6327267,
          2814058,
          2179994,
          2677038,
          2648939,
          2813853,
          2994377,
          2891500,
          3415659,
          2080197,
          2001208,
          1850387,
          1390912
         ],
         "yaxis": "y"
        },
        {
         "alignmentgroup": "True",
         "hovertemplate": "Stock_Code=XOM<br>Day=%{x}<br>Volume=%{y}<extra></extra>",
         "legendgroup": "XOM",
         "marker": {
          "color": "#636efa",
          "pattern": {
           "shape": ""
          }
         },
         "name": "XOM",
         "offsetgroup": "XOM",
         "orientation": "v",
         "showlegend": true,
         "textposition": "auto",
         "type": "bar",
         "x": [
          "2024-05-17T00:00:00",
          "2024-05-16T00:00:00",
          "2024-05-15T00:00:00",
          "2024-05-14T00:00:00",
          "2024-05-13T00:00:00",
          "2024-05-10T00:00:00",
          "2024-05-09T00:00:00",
          "2024-05-08T00:00:00",
          "2024-05-07T00:00:00",
          "2024-05-06T00:00:00",
          "2024-05-03T00:00:00",
          "2024-05-02T00:00:00",
          "2024-05-01T00:00:00",
          "2024-04-30T00:00:00",
          "2024-04-29T00:00:00",
          "2024-04-26T00:00:00",
          "2024-04-25T00:00:00",
          "2024-04-24T00:00:00",
          "2024-04-23T00:00:00",
          "2024-04-22T00:00:00",
          "2024-04-19T00:00:00",
          "2024-04-18T00:00:00",
          "2024-04-17T00:00:00",
          "2024-04-16T00:00:00",
          "2024-04-15T00:00:00",
          "2024-04-12T00:00:00",
          "2024-04-11T00:00:00",
          "2024-04-10T00:00:00",
          "2024-04-09T00:00:00",
          "2024-04-08T00:00:00",
          "2024-04-05T00:00:00",
          "2024-04-04T00:00:00",
          "2024-04-03T00:00:00",
          "2024-04-02T00:00:00",
          "2024-04-01T00:00:00",
          "2024-03-28T00:00:00",
          "2024-03-27T00:00:00",
          "2024-03-26T00:00:00",
          "2024-03-25T00:00:00",
          "2024-03-22T00:00:00",
          "2024-03-21T00:00:00",
          "2024-03-20T00:00:00",
          "2024-03-19T00:00:00",
          "2024-03-18T00:00:00",
          "2024-03-15T00:00:00",
          "2024-03-14T00:00:00",
          "2024-03-13T00:00:00",
          "2024-03-12T00:00:00",
          "2024-03-11T00:00:00",
          "2024-03-08T00:00:00",
          "2024-03-07T00:00:00",
          "2024-03-06T00:00:00",
          "2024-03-05T00:00:00",
          "2024-03-04T00:00:00",
          "2024-03-01T00:00:00",
          "2024-02-29T00:00:00",
          "2024-02-28T00:00:00",
          "2024-02-27T00:00:00",
          "2024-02-26T00:00:00",
          "2024-02-23T00:00:00",
          "2024-02-22T00:00:00",
          "2024-02-21T00:00:00",
          "2024-02-20T00:00:00",
          "2024-02-16T00:00:00",
          "2024-02-15T00:00:00",
          "2024-02-14T00:00:00",
          "2024-02-13T00:00:00",
          "2024-02-12T00:00:00",
          "2024-02-09T00:00:00",
          "2024-02-08T00:00:00",
          "2024-02-07T00:00:00",
          "2024-02-06T00:00:00",
          "2024-02-05T00:00:00",
          "2024-02-02T00:00:00",
          "2024-02-01T00:00:00",
          "2024-01-31T00:00:00",
          "2024-01-30T00:00:00",
          "2024-01-29T00:00:00",
          "2024-01-26T00:00:00",
          "2024-01-25T00:00:00",
          "2024-01-24T00:00:00",
          "2024-01-23T00:00:00",
          "2024-01-22T00:00:00",
          "2024-01-19T00:00:00",
          "2024-01-18T00:00:00",
          "2024-01-17T00:00:00",
          "2024-01-16T00:00:00",
          "2024-01-12T00:00:00",
          "2024-01-11T00:00:00",
          "2024-01-10T00:00:00",
          "2024-01-09T00:00:00",
          "2024-01-08T00:00:00",
          "2024-01-05T00:00:00",
          "2024-01-04T00:00:00",
          "2024-01-03T00:00:00",
          "2024-01-02T00:00:00",
          "2023-12-29T00:00:00",
          "2023-12-28T00:00:00",
          "2023-12-27T00:00:00",
          "2023-12-26T00:00:00"
         ],
         "xaxis": "x",
         "y": [
          15104469,
          15745202,
          18244303,
          15079131,
          15060619,
          13648130,
          17563975,
          18957166,
          30121973,
          31401260,
          28023313,
          25513648,
          27789759,
          21083294,
          17343755,
          27289468,
          16041029,
          12101161,
          13929816,
          16340694,
          21572367,
          13821356,
          14538577,
          18082228,
          15029528,
          21556218,
          17555869,
          17409184,
          14090449,
          17419765,
          21676088,
          18201990,
          16396047,
          19796655,
          13411510,
          18482055,
          12415674,
          13152287,
          14011734,
          14701933,
          14878022,
          16119703,
          14878756,
          16770462,
          38264401,
          20908213,
          17063937,
          14908295,
          17497332,
          16281468,
          15195406,
          20472790,
          19952712,
          18137989,
          18460120,
          17566066,
          14810486,
          16359978,
          13360800,
          15975888,
          20470668,
          20999189,
          17650010,
          20151426,
          23196310,
          17651253,
          18917431,
          18173061,
          20410510,
          19636898,
          13826832,
          13353286,
          17190890,
          21973405,
          19240687,
          22415291,
          19610934,
          18317549,
          20817240,
          22089510,
          17114423,
          15863433,
          19955946,
          20088432,
          20940275,
          18384015,
          20235699,
          18041683,
          15833360,
          18206088,
          19496647,
          23370127,
          15712338,
          19395154,
          23490779,
          23483049,
          17746408,
          16329252,
          14535713,
          16835144
         ],
         "yaxis": "y"
        },
        {
         "alignmentgroup": "True",
         "hovertemplate": "Stock_Code=LLY<br>Day=%{x}<br>Volume=%{y}<extra></extra>",
         "legendgroup": "LLY",
         "marker": {
          "color": "#EF553B",
          "pattern": {
           "shape": ""
          }
         },
         "name": "LLY",
         "offsetgroup": "LLY",
         "orientation": "v",
         "showlegend": true,
         "textposition": "auto",
         "type": "bar",
         "x": [
          "2024-05-17T00:00:00",
          "2024-05-16T00:00:00",
          "2024-05-15T00:00:00",
          "2024-05-14T00:00:00",
          "2024-05-13T00:00:00",
          "2024-05-10T00:00:00",
          "2024-05-09T00:00:00",
          "2024-05-08T00:00:00",
          "2024-05-07T00:00:00",
          "2024-05-06T00:00:00",
          "2024-05-03T00:00:00",
          "2024-05-02T00:00:00",
          "2024-05-01T00:00:00",
          "2024-04-30T00:00:00",
          "2024-04-29T00:00:00",
          "2024-04-26T00:00:00",
          "2024-04-25T00:00:00",
          "2024-04-24T00:00:00",
          "2024-04-23T00:00:00",
          "2024-04-22T00:00:00",
          "2024-04-19T00:00:00",
          "2024-04-18T00:00:00",
          "2024-04-17T00:00:00",
          "2024-04-16T00:00:00",
          "2024-04-15T00:00:00",
          "2024-04-12T00:00:00",
          "2024-04-11T00:00:00",
          "2024-04-10T00:00:00",
          "2024-04-09T00:00:00",
          "2024-04-08T00:00:00",
          "2024-04-05T00:00:00",
          "2024-04-04T00:00:00",
          "2024-04-03T00:00:00",
          "2024-04-02T00:00:00",
          "2024-04-01T00:00:00",
          "2024-03-28T00:00:00",
          "2024-03-27T00:00:00",
          "2024-03-26T00:00:00",
          "2024-03-25T00:00:00",
          "2024-03-22T00:00:00",
          "2024-03-21T00:00:00",
          "2024-03-20T00:00:00",
          "2024-03-19T00:00:00",
          "2024-03-18T00:00:00",
          "2024-03-15T00:00:00",
          "2024-03-14T00:00:00",
          "2024-03-13T00:00:00",
          "2024-03-12T00:00:00",
          "2024-03-11T00:00:00",
          "2024-03-08T00:00:00",
          "2024-03-07T00:00:00",
          "2024-03-06T00:00:00",
          "2024-03-05T00:00:00",
          "2024-03-04T00:00:00",
          "2024-03-01T00:00:00",
          "2024-02-29T00:00:00",
          "2024-02-28T00:00:00",
          "2024-02-27T00:00:00",
          "2024-02-26T00:00:00",
          "2024-02-23T00:00:00",
          "2024-02-22T00:00:00",
          "2024-02-21T00:00:00",
          "2024-02-20T00:00:00",
          "2024-02-16T00:00:00",
          "2024-02-15T00:00:00",
          "2024-02-14T00:00:00",
          "2024-02-13T00:00:00",
          "2024-02-12T00:00:00",
          "2024-02-09T00:00:00",
          "2024-02-08T00:00:00",
          "2024-02-07T00:00:00",
          "2024-02-06T00:00:00",
          "2024-02-05T00:00:00",
          "2024-02-02T00:00:00",
          "2024-02-01T00:00:00",
          "2024-01-31T00:00:00",
          "2024-01-30T00:00:00",
          "2024-01-29T00:00:00",
          "2024-01-26T00:00:00",
          "2024-01-25T00:00:00",
          "2024-01-24T00:00:00",
          "2024-01-23T00:00:00",
          "2024-01-22T00:00:00",
          "2024-01-19T00:00:00",
          "2024-01-18T00:00:00",
          "2024-01-17T00:00:00",
          "2024-01-16T00:00:00",
          "2024-01-12T00:00:00",
          "2024-01-11T00:00:00",
          "2024-01-10T00:00:00",
          "2024-01-09T00:00:00",
          "2024-01-08T00:00:00",
          "2024-01-05T00:00:00",
          "2024-01-04T00:00:00",
          "2024-01-03T00:00:00",
          "2024-01-02T00:00:00",
          "2023-12-29T00:00:00",
          "2023-12-28T00:00:00",
          "2023-12-27T00:00:00",
          "2023-12-26T00:00:00"
         ],
         "xaxis": "x",
         "y": [
          1670317,
          2299653,
          3038253,
          1956229,
          1848926,
          2082289,
          2522085,
          2089934,
          2879447,
          3398280,
          4595138,
          3205628,
          2804838,
          7437105,
          2732584,
          2009249,
          2608752,
          2133427,
          2042029,
          2354096,
          3505526,
          1717347,
          3069367,
          2569799,
          2358569,
          2495037,
          1594834,
          1700296,
          2447611,
          1652134,
          2102692,
          2332818,
          2892642,
          2552667,
          2858640,
          3209424,
          2297713,
          2099042,
          1806584,
          1981019,
          3013157,
          2038008,
          2557079,
          2521351,
          3730053,
          2642286,
          2352160,
          2672115,
          3961482,
          4054925,
          3977376,
          2518587,
          3168689,
          3855649,
          4247527,
          3905355,
          2716307,
          2716745,
          2243779,
          2394805,
          3167403,
          3548650,
          4701094,
          5009368,
          2507030,
          3394326,
          2860265,
          2932304,
          2833894,
          4636885,
          5797966,
          8199902,
          7602392,
          3019223,
          2494287,
          4719039,
          2006101,
          2718484,
          2410349,
          2407930,
          2233271,
          2524983,
          2030201,
          3125030,
          3384999,
          2124096,
          2413610,
          2067773,
          2690341,
          2679074,
          2918891,
          2453931,
          2216795,
          6272532,
          5130330,
          3226661,
          2000055,
          1973512,
          2157140,
          1678898
         ],
         "yaxis": "y"
        },
        {
         "alignmentgroup": "True",
         "hovertemplate": "Stock_Code=JPM<br>Day=%{x}<br>Volume=%{y}<extra></extra>",
         "legendgroup": "JPM",
         "marker": {
          "color": "#00cc96",
          "pattern": {
           "shape": ""
          }
         },
         "name": "JPM",
         "offsetgroup": "JPM",
         "orientation": "v",
         "showlegend": true,
         "textposition": "auto",
         "type": "bar",
         "x": [
          "2024-05-17T00:00:00",
          "2024-05-16T00:00:00",
          "2024-05-15T00:00:00",
          "2024-05-14T00:00:00",
          "2024-05-13T00:00:00",
          "2024-05-10T00:00:00",
          "2024-05-09T00:00:00",
          "2024-05-08T00:00:00",
          "2024-05-07T00:00:00",
          "2024-05-06T00:00:00",
          "2024-05-03T00:00:00",
          "2024-05-02T00:00:00",
          "2024-05-01T00:00:00",
          "2024-04-30T00:00:00",
          "2024-04-29T00:00:00",
          "2024-04-26T00:00:00",
          "2024-04-25T00:00:00",
          "2024-04-24T00:00:00",
          "2024-04-23T00:00:00",
          "2024-04-22T00:00:00",
          "2024-04-19T00:00:00",
          "2024-04-18T00:00:00",
          "2024-04-17T00:00:00",
          "2024-04-16T00:00:00",
          "2024-04-15T00:00:00",
          "2024-04-12T00:00:00",
          "2024-04-11T00:00:00",
          "2024-04-10T00:00:00",
          "2024-04-09T00:00:00",
          "2024-04-08T00:00:00",
          "2024-04-05T00:00:00",
          "2024-04-04T00:00:00",
          "2024-04-03T00:00:00",
          "2024-04-02T00:00:00",
          "2024-04-01T00:00:00",
          "2024-03-28T00:00:00",
          "2024-03-27T00:00:00",
          "2024-03-26T00:00:00",
          "2024-03-25T00:00:00",
          "2024-03-22T00:00:00",
          "2024-03-21T00:00:00",
          "2024-03-20T00:00:00",
          "2024-03-19T00:00:00",
          "2024-03-18T00:00:00",
          "2024-03-15T00:00:00",
          "2024-03-14T00:00:00",
          "2024-03-13T00:00:00",
          "2024-03-12T00:00:00",
          "2024-03-11T00:00:00",
          "2024-03-08T00:00:00",
          "2024-03-07T00:00:00",
          "2024-03-06T00:00:00",
          "2024-03-05T00:00:00",
          "2024-03-04T00:00:00",
          "2024-03-01T00:00:00",
          "2024-02-29T00:00:00",
          "2024-02-28T00:00:00",
          "2024-02-27T00:00:00",
          "2024-02-26T00:00:00",
          "2024-02-23T00:00:00",
          "2024-02-22T00:00:00",
          "2024-02-21T00:00:00",
          "2024-02-20T00:00:00",
          "2024-02-16T00:00:00",
          "2024-02-15T00:00:00",
          "2024-02-14T00:00:00",
          "2024-02-13T00:00:00",
          "2024-02-12T00:00:00",
          "2024-02-09T00:00:00",
          "2024-02-08T00:00:00",
          "2024-02-07T00:00:00",
          "2024-02-06T00:00:00",
          "2024-02-05T00:00:00",
          "2024-02-02T00:00:00",
          "2024-02-01T00:00:00",
          "2024-01-31T00:00:00",
          "2024-01-30T00:00:00",
          "2024-01-29T00:00:00",
          "2024-01-26T00:00:00",
          "2024-01-25T00:00:00",
          "2024-01-24T00:00:00",
          "2024-01-23T00:00:00",
          "2024-01-22T00:00:00",
          "2024-01-19T00:00:00",
          "2024-01-18T00:00:00",
          "2024-01-17T00:00:00",
          "2024-01-16T00:00:00",
          "2024-01-12T00:00:00",
          "2024-01-11T00:00:00",
          "2024-01-10T00:00:00",
          "2024-01-09T00:00:00",
          "2024-01-08T00:00:00",
          "2024-01-05T00:00:00",
          "2024-01-04T00:00:00",
          "2024-01-03T00:00:00",
          "2024-01-02T00:00:00",
          "2023-12-29T00:00:00",
          "2023-12-28T00:00:00",
          "2023-12-27T00:00:00",
          "2023-12-26T00:00:00"
         ],
         "xaxis": "x",
         "y": [
          9260490,
          8497927,
          8369975,
          8596175,
          7049241,
          7529790,
          7977291,
          9227561,
          7688771,
          7911134,
          8922775,
          6501657,
          7446703,
          8153681,
          5411129,
          6413655,
          9802265,
          6964905,
          9144372,
          11529668,
          13402313,
          9557720,
          9017093,
          16451801,
          14766592,
          31532308,
          10137699,
          7681377,
          6425927,
          7976207,
          6498212,
          9198521,
          9282109,
          6680105,
          6215356,
          8628313,
          8725757,
          5961484,
          8620015,
          8108840,
          11203796,
          9367043,
          8478717,
          9013843,
          17214229,
          10243134,
          7719367,
          5503976,
          5728082,
          6172199,
          7618277,
          7572891,
          6617832,
          7063605,
          6311996,
          9643012,
          6131608,
          5717065,
          7145391,
          7105833,
          9296459,
          7027857,
          9667959,
          8152647,
          8723390,
          7056664,
          8397631,
          8539316,
          6296729,
          6060285,
          7225478,
          6765684,
          7820160,
          8607839,
          9354798,
          11521820,
          10822075,
          6971192,
          7442955,
          8873481,
          9620140,
          8360829,
          12837505,
          13115664,
          9382255,
          11107466,
          17206420,
          19436504,
          11919498,
          9670218,
          9923630,
          11229916,
          10038385,
          11972545,
          9852335,
          9977424,
          6435102,
          6320129,
          5678572,
          4683605
         ],
         "yaxis": "y"
        },
        {
         "alignmentgroup": "True",
         "hovertemplate": "Stock_Code=JNJ<br>Day=%{x}<br>Volume=%{y}<extra></extra>",
         "legendgroup": "JNJ",
         "marker": {
          "color": "#ab63fa",
          "pattern": {
           "shape": ""
          }
         },
         "name": "JNJ",
         "offsetgroup": "JNJ",
         "orientation": "v",
         "showlegend": true,
         "textposition": "auto",
         "type": "bar",
         "x": [
          "2024-05-17T00:00:00",
          "2024-05-16T00:00:00",
          "2024-05-15T00:00:00",
          "2024-05-14T00:00:00",
          "2024-05-13T00:00:00",
          "2024-05-10T00:00:00",
          "2024-05-09T00:00:00",
          "2024-05-08T00:00:00",
          "2024-05-07T00:00:00",
          "2024-05-06T00:00:00",
          "2024-05-03T00:00:00",
          "2024-05-02T00:00:00",
          "2024-05-01T00:00:00",
          "2024-04-30T00:00:00",
          "2024-04-29T00:00:00",
          "2024-04-26T00:00:00",
          "2024-04-25T00:00:00",
          "2024-04-24T00:00:00",
          "2024-04-23T00:00:00",
          "2024-04-22T00:00:00",
          "2024-04-19T00:00:00",
          "2024-04-18T00:00:00",
          "2024-04-17T00:00:00",
          "2024-04-16T00:00:00",
          "2024-04-15T00:00:00",
          "2024-04-12T00:00:00",
          "2024-04-11T00:00:00",
          "2024-04-10T00:00:00",
          "2024-04-09T00:00:00",
          "2024-04-08T00:00:00",
          "2024-04-05T00:00:00",
          "2024-04-04T00:00:00",
          "2024-04-03T00:00:00",
          "2024-04-02T00:00:00",
          "2024-04-01T00:00:00",
          "2024-03-28T00:00:00",
          "2024-03-27T00:00:00",
          "2024-03-26T00:00:00",
          "2024-03-25T00:00:00",
          "2024-03-22T00:00:00",
          "2024-03-21T00:00:00",
          "2024-03-20T00:00:00",
          "2024-03-19T00:00:00",
          "2024-03-18T00:00:00",
          "2024-03-15T00:00:00",
          "2024-03-14T00:00:00",
          "2024-03-13T00:00:00",
          "2024-03-12T00:00:00",
          "2024-03-11T00:00:00",
          "2024-03-08T00:00:00",
          "2024-03-07T00:00:00",
          "2024-03-06T00:00:00",
          "2024-03-05T00:00:00",
          "2024-03-04T00:00:00",
          "2024-03-01T00:00:00",
          "2024-02-29T00:00:00",
          "2024-02-28T00:00:00",
          "2024-02-27T00:00:00",
          "2024-02-26T00:00:00",
          "2024-02-23T00:00:00",
          "2024-02-22T00:00:00",
          "2024-02-21T00:00:00",
          "2024-02-20T00:00:00",
          "2024-02-16T00:00:00",
          "2024-02-15T00:00:00",
          "2024-02-14T00:00:00",
          "2024-02-13T00:00:00",
          "2024-02-12T00:00:00",
          "2024-02-09T00:00:00",
          "2024-02-08T00:00:00",
          "2024-02-07T00:00:00",
          "2024-02-06T00:00:00",
          "2024-02-05T00:00:00",
          "2024-02-02T00:00:00",
          "2024-02-01T00:00:00",
          "2024-01-31T00:00:00",
          "2024-01-30T00:00:00",
          "2024-01-29T00:00:00",
          "2024-01-26T00:00:00",
          "2024-01-25T00:00:00",
          "2024-01-24T00:00:00",
          "2024-01-23T00:00:00",
          "2024-01-22T00:00:00",
          "2024-01-19T00:00:00",
          "2024-01-18T00:00:00",
          "2024-01-17T00:00:00",
          "2024-01-16T00:00:00",
          "2024-01-12T00:00:00",
          "2024-01-11T00:00:00",
          "2024-01-10T00:00:00",
          "2024-01-09T00:00:00",
          "2024-01-08T00:00:00",
          "2024-01-05T00:00:00",
          "2024-01-04T00:00:00",
          "2024-01-03T00:00:00",
          "2024-01-02T00:00:00",
          "2023-12-29T00:00:00",
          "2023-12-28T00:00:00",
          "2023-12-27T00:00:00",
          "2023-12-26T00:00:00"
         ],
         "xaxis": "x",
         "y": [
          6521794,
          7590959,
          5547955,
          8254171,
          5628467,
          5710566,
          6546153,
          7735148,
          7333730,
          5042757,
          6532718,
          8459796,
          14473711,
          8817719,
          6461588,
          6182982,
          7642732,
          9756259,
          10110442,
          10118694,
          9750751,
          9887704,
          9378059,
          12774859,
          8502266,
          7100178,
          8374434,
          6809519,
          6123911,
          5885786,
          6633648,
          6889902,
          8031185,
          5958536,
          4078511,
          6181503,
          8461600,
          6864099,
          7498100,
          7248622,
          5915777,
          5982304,
          7840624,
          6602255,
          13165500,
          6940154,
          6183789,
          8010330,
          4613404,
          5283951,
          5188726,
          5773683,
          8298182,
          8533083,
          5670135,
          9849270,
          6071076,
          5078650,
          5465417,
          6725963,
          8065010,
          7473300,
          9501742,
          8540961,
          7462529,
          9098805,
          8621022,
          6701508,
          6529202,
          9754960,
          8690294,
          9230611,
          9121808,
          8295916,
          8012122,
          8257029,
          7200538,
          6483190,
          5591930,
          5478898,
          6586273,
          9149777,
          6824156,
          7071320,
          5368502,
          5072104,
          6923174,
          4496942,
          4946015,
          4945088,
          6357014,
          6569810,
          5101039,
          6766641,
          8231987,
          9622108,
          4313691,
          4377535,
          5233781,
          4170190
         ],
         "yaxis": "y"
        },
        {
         "alignmentgroup": "True",
         "hovertemplate": "Stock_Code=V<br>Day=%{x}<br>Volume=%{y}<extra></extra>",
         "legendgroup": "V",
         "marker": {
          "color": "#FFA15A",
          "pattern": {
           "shape": ""
          }
         },
         "name": "V",
         "offsetgroup": "V",
         "orientation": "v",
         "showlegend": true,
         "textposition": "auto",
         "type": "bar",
         "x": [
          "2024-05-17T00:00:00",
          "2024-05-16T00:00:00",
          "2024-05-15T00:00:00",
          "2024-05-14T00:00:00",
          "2024-05-13T00:00:00",
          "2024-05-10T00:00:00",
          "2024-05-09T00:00:00",
          "2024-05-08T00:00:00",
          "2024-05-07T00:00:00",
          "2024-05-06T00:00:00",
          "2024-05-03T00:00:00",
          "2024-05-02T00:00:00",
          "2024-05-01T00:00:00",
          "2024-04-30T00:00:00",
          "2024-04-29T00:00:00",
          "2024-04-26T00:00:00",
          "2024-04-25T00:00:00",
          "2024-04-24T00:00:00",
          "2024-04-23T00:00:00",
          "2024-04-22T00:00:00",
          "2024-04-19T00:00:00",
          "2024-04-18T00:00:00",
          "2024-04-17T00:00:00",
          "2024-04-16T00:00:00",
          "2024-04-15T00:00:00",
          "2024-04-12T00:00:00",
          "2024-04-11T00:00:00",
          "2024-04-10T00:00:00",
          "2024-04-09T00:00:00",
          "2024-04-08T00:00:00",
          "2024-04-05T00:00:00",
          "2024-04-04T00:00:00",
          "2024-04-03T00:00:00",
          "2024-04-02T00:00:00",
          "2024-04-01T00:00:00",
          "2024-03-28T00:00:00",
          "2024-03-27T00:00:00",
          "2024-03-26T00:00:00",
          "2024-03-25T00:00:00",
          "2024-03-22T00:00:00",
          "2024-03-21T00:00:00",
          "2024-03-20T00:00:00",
          "2024-03-19T00:00:00",
          "2024-03-18T00:00:00",
          "2024-03-15T00:00:00",
          "2024-03-14T00:00:00",
          "2024-03-13T00:00:00",
          "2024-03-12T00:00:00",
          "2024-03-11T00:00:00",
          "2024-03-08T00:00:00",
          "2024-03-07T00:00:00",
          "2024-03-06T00:00:00",
          "2024-03-05T00:00:00",
          "2024-03-04T00:00:00",
          "2024-03-01T00:00:00",
          "2024-02-29T00:00:00",
          "2024-02-28T00:00:00",
          "2024-02-27T00:00:00",
          "2024-02-26T00:00:00",
          "2024-02-23T00:00:00",
          "2024-02-22T00:00:00",
          "2024-02-21T00:00:00",
          "2024-02-20T00:00:00",
          "2024-02-16T00:00:00",
          "2024-02-15T00:00:00",
          "2024-02-14T00:00:00",
          "2024-02-13T00:00:00",
          "2024-02-12T00:00:00",
          "2024-02-09T00:00:00",
          "2024-02-08T00:00:00",
          "2024-02-07T00:00:00",
          "2024-02-06T00:00:00",
          "2024-02-05T00:00:00",
          "2024-02-02T00:00:00",
          "2024-02-01T00:00:00",
          "2024-01-31T00:00:00",
          "2024-01-30T00:00:00",
          "2024-01-29T00:00:00",
          "2024-01-26T00:00:00",
          "2024-01-25T00:00:00",
          "2024-01-24T00:00:00",
          "2024-01-23T00:00:00",
          "2024-01-22T00:00:00",
          "2024-01-19T00:00:00",
          "2024-01-18T00:00:00",
          "2024-01-17T00:00:00",
          "2024-01-16T00:00:00",
          "2024-01-12T00:00:00",
          "2024-01-11T00:00:00",
          "2024-01-10T00:00:00",
          "2024-01-09T00:00:00",
          "2024-01-08T00:00:00",
          "2024-01-05T00:00:00",
          "2024-01-04T00:00:00",
          "2024-01-03T00:00:00",
          "2024-01-02T00:00:00",
          "2023-12-29T00:00:00",
          "2023-12-28T00:00:00",
          "2023-12-27T00:00:00",
          "2023-12-26T00:00:00"
         ],
         "xaxis": "x",
         "y": [
          6177831,
          10341718,
          21288365,
          18526094,
          10528397,
          8986581,
          8948813,
          9029699,
          6377080,
          3958721,
          3862018,
          5061698,
          6125360,
          6376353,
          4192247,
          6840615,
          8064621,
          8807157,
          6438002,
          6463742,
          7905368,
          8231849,
          5940897,
          8237131,
          10267489,
          9038411,
          8102293,
          5276012,
          7292102,
          5521086,
          4368406,
          4003715,
          4472635,
          6780676,
          5055390,
          5844358,
          5190674,
          8752364,
          8519433,
          8744121,
          5057559,
          6104955,
          6595183,
          4095632,
          9845181,
          5448181,
          5661429,
          7962394,
          4551187,
          3929002,
          5668483,
          4535185,
          6228066,
          5920308,
          3955728,
          6633684,
          4358820,
          4145383,
          3856911,
          5107693,
          5100191,
          4771105,
          6157178,
          6630744,
          4834758,
          4218350,
          5493833,
          3676232,
          4618283,
          5833409,
          4785902,
          4400250,
          4899140,
          4848891,
          7064976,
          6139312,
          6548999,
          6574480,
          8586548,
          6894942,
          4944962,
          5882995,
          5984272,
          7226520,
          6694264,
          5118722,
          6196414,
          4656238,
          5598998,
          4355784,
          7055782,
          4659030,
          3723363,
          3842976,
          4148294,
          5470986,
          4074872,
          3020454,
          3976811,
          2085089
         ],
         "yaxis": "y"
        },
        {
         "alignmentgroup": "True",
         "hovertemplate": "Stock_Code=PG<br>Day=%{x}<br>Volume=%{y}<extra></extra>",
         "legendgroup": "PG",
         "marker": {
          "color": "#19d3f3",
          "pattern": {
           "shape": ""
          }
         },
         "name": "PG",
         "offsetgroup": "PG",
         "orientation": "v",
         "showlegend": true,
         "textposition": "auto",
         "type": "bar",
         "x": [
          "2024-05-17T00:00:00",
          "2024-05-16T00:00:00",
          "2024-05-15T00:00:00",
          "2024-05-14T00:00:00",
          "2024-05-13T00:00:00",
          "2024-05-10T00:00:00",
          "2024-05-09T00:00:00",
          "2024-05-08T00:00:00",
          "2024-05-07T00:00:00",
          "2024-05-06T00:00:00",
          "2024-05-03T00:00:00",
          "2024-05-02T00:00:00",
          "2024-05-01T00:00:00",
          "2024-04-30T00:00:00",
          "2024-04-29T00:00:00",
          "2024-04-26T00:00:00",
          "2024-04-25T00:00:00",
          "2024-04-24T00:00:00",
          "2024-04-23T00:00:00",
          "2024-04-22T00:00:00",
          "2024-04-19T00:00:00",
          "2024-04-18T00:00:00",
          "2024-04-17T00:00:00",
          "2024-04-16T00:00:00",
          "2024-04-15T00:00:00",
          "2024-04-12T00:00:00",
          "2024-04-11T00:00:00",
          "2024-04-10T00:00:00",
          "2024-04-09T00:00:00",
          "2024-04-08T00:00:00",
          "2024-04-05T00:00:00",
          "2024-04-04T00:00:00",
          "2024-04-03T00:00:00",
          "2024-04-02T00:00:00",
          "2024-04-01T00:00:00",
          "2024-03-28T00:00:00",
          "2024-03-27T00:00:00",
          "2024-03-26T00:00:00",
          "2024-03-25T00:00:00",
          "2024-03-22T00:00:00",
          "2024-03-21T00:00:00",
          "2024-03-20T00:00:00",
          "2024-03-19T00:00:00",
          "2024-03-18T00:00:00",
          "2024-03-15T00:00:00",
          "2024-03-14T00:00:00",
          "2024-03-13T00:00:00",
          "2024-03-12T00:00:00",
          "2024-03-11T00:00:00",
          "2024-03-08T00:00:00",
          "2024-03-07T00:00:00",
          "2024-03-06T00:00:00",
          "2024-03-05T00:00:00",
          "2024-03-04T00:00:00",
          "2024-03-01T00:00:00",
          "2024-02-29T00:00:00",
          "2024-02-28T00:00:00",
          "2024-02-27T00:00:00",
          "2024-02-26T00:00:00",
          "2024-02-23T00:00:00",
          "2024-02-22T00:00:00",
          "2024-02-21T00:00:00",
          "2024-02-20T00:00:00",
          "2024-02-16T00:00:00",
          "2024-02-15T00:00:00",
          "2024-02-14T00:00:00",
          "2024-02-13T00:00:00",
          "2024-02-12T00:00:00",
          "2024-02-09T00:00:00",
          "2024-02-08T00:00:00",
          "2024-02-07T00:00:00",
          "2024-02-06T00:00:00",
          "2024-02-05T00:00:00",
          "2024-02-02T00:00:00",
          "2024-02-01T00:00:00",
          "2024-01-31T00:00:00",
          "2024-01-30T00:00:00",
          "2024-01-29T00:00:00",
          "2024-01-26T00:00:00",
          "2024-01-25T00:00:00",
          "2024-01-24T00:00:00",
          "2024-01-23T00:00:00",
          "2024-01-22T00:00:00",
          "2024-01-19T00:00:00",
          "2024-01-18T00:00:00",
          "2024-01-17T00:00:00",
          "2024-01-16T00:00:00",
          "2024-01-12T00:00:00",
          "2024-01-11T00:00:00",
          "2024-01-10T00:00:00",
          "2024-01-09T00:00:00",
          "2024-01-08T00:00:00",
          "2024-01-05T00:00:00",
          "2024-01-04T00:00:00",
          "2024-01-03T00:00:00",
          "2024-01-02T00:00:00",
          "2023-12-29T00:00:00",
          "2023-12-28T00:00:00",
          "2023-12-27T00:00:00",
          "2023-12-26T00:00:00"
         ],
         "xaxis": "x",
         "y": [
          4700819,
          6793672,
          5102897,
          6009837,
          5725523,
          4879427,
          4671126,
          4579471,
          6433090,
          5472549,
          5581692,
          5647490,
          7543154,
          8106098,
          4622164,
          5659784,
          7094620,
          7217563,
          7707250,
          8926327,
          12034186,
          7819261,
          6621906,
          6103296,
          5753987,
          6770659,
          8209765,
          7785084,
          4578522,
          5453262,
          5059173,
          6414996,
          9549152,
          5806429,
          5707151,
          7191571,
          6599711,
          5842850,
          7145692,
          6393425,
          5211676,
          4870296,
          6148240,
          6086268,
          10956888,
          5839056,
          5409467,
          4211703,
          5148881,
          5080225,
          4783943,
          5405719,
          4481715,
          3841623,
          4819929,
          8348201,
          3802915,
          3868405,
          4531936,
          5486533,
          6619639,
          7121116,
          6622058,
          6617706,
          6249241,
          5727455,
          6046869,
          5482124,
          5978181,
          6121778,
          7209276,
          6185982,
          6931933,
          7937716,
          7601144,
          8870215,
          7794730,
          8987609,
          8356819,
          10352452,
          11023818,
          19101558,
          11084134,
          7848138,
          6526221,
          6541439,
          8120101,
          5684834,
          6659447,
          8591116,
          9786934,
          8255307,
          5227247,
          7067618,
          7697534,
          7238388,
          5300991,
          5023033,
          4515212,
          3634885
         ],
         "yaxis": "y"
        },
        {
         "alignmentgroup": "True",
         "hovertemplate": "Stock_Code=MA<br>Day=%{x}<br>Volume=%{y}<extra></extra>",
         "legendgroup": "MA",
         "marker": {
          "color": "#FF6692",
          "pattern": {
           "shape": ""
          }
         },
         "name": "MA",
         "offsetgroup": "MA",
         "orientation": "v",
         "showlegend": true,
         "textposition": "auto",
         "type": "bar",
         "x": [
          "2024-05-17T00:00:00",
          "2024-05-16T00:00:00",
          "2024-05-15T00:00:00",
          "2024-05-14T00:00:00",
          "2024-05-13T00:00:00",
          "2024-05-10T00:00:00",
          "2024-05-09T00:00:00",
          "2024-05-08T00:00:00",
          "2024-05-07T00:00:00",
          "2024-05-06T00:00:00",
          "2024-05-03T00:00:00",
          "2024-05-02T00:00:00",
          "2024-05-01T00:00:00",
          "2024-04-30T00:00:00",
          "2024-04-29T00:00:00",
          "2024-04-26T00:00:00",
          "2024-04-25T00:00:00",
          "2024-04-24T00:00:00",
          "2024-04-23T00:00:00",
          "2024-04-22T00:00:00",
          "2024-04-19T00:00:00",
          "2024-04-18T00:00:00",
          "2024-04-17T00:00:00",
          "2024-04-16T00:00:00",
          "2024-04-15T00:00:00",
          "2024-04-12T00:00:00",
          "2024-04-11T00:00:00",
          "2024-04-10T00:00:00",
          "2024-04-09T00:00:00",
          "2024-04-08T00:00:00",
          "2024-04-05T00:00:00",
          "2024-04-04T00:00:00",
          "2024-04-03T00:00:00",
          "2024-04-02T00:00:00",
          "2024-04-01T00:00:00",
          "2024-03-28T00:00:00",
          "2024-03-27T00:00:00",
          "2024-03-26T00:00:00",
          "2024-03-25T00:00:00",
          "2024-03-22T00:00:00",
          "2024-03-21T00:00:00",
          "2024-03-20T00:00:00",
          "2024-03-19T00:00:00",
          "2024-03-18T00:00:00",
          "2024-03-15T00:00:00",
          "2024-03-14T00:00:00",
          "2024-03-13T00:00:00",
          "2024-03-12T00:00:00",
          "2024-03-11T00:00:00",
          "2024-03-08T00:00:00",
          "2024-03-07T00:00:00",
          "2024-03-06T00:00:00",
          "2024-03-05T00:00:00",
          "2024-03-04T00:00:00",
          "2024-03-01T00:00:00",
          "2024-02-29T00:00:00",
          "2024-02-28T00:00:00",
          "2024-02-27T00:00:00",
          "2024-02-26T00:00:00",
          "2024-02-23T00:00:00",
          "2024-02-22T00:00:00",
          "2024-02-21T00:00:00",
          "2024-02-20T00:00:00",
          "2024-02-16T00:00:00",
          "2024-02-15T00:00:00",
          "2024-02-14T00:00:00",
          "2024-02-13T00:00:00",
          "2024-02-12T00:00:00",
          "2024-02-09T00:00:00",
          "2024-02-08T00:00:00",
          "2024-02-07T00:00:00",
          "2024-02-06T00:00:00",
          "2024-02-05T00:00:00",
          "2024-02-02T00:00:00",
          "2024-02-01T00:00:00",
          "2024-01-31T00:00:00",
          "2024-01-30T00:00:00",
          "2024-01-29T00:00:00",
          "2024-01-26T00:00:00",
          "2024-01-25T00:00:00",
          "2024-01-24T00:00:00",
          "2024-01-23T00:00:00",
          "2024-01-22T00:00:00",
          "2024-01-19T00:00:00",
          "2024-01-18T00:00:00",
          "2024-01-17T00:00:00",
          "2024-01-16T00:00:00",
          "2024-01-12T00:00:00",
          "2024-01-11T00:00:00",
          "2024-01-10T00:00:00",
          "2024-01-09T00:00:00",
          "2024-01-08T00:00:00",
          "2024-01-05T00:00:00",
          "2024-01-04T00:00:00",
          "2024-01-03T00:00:00",
          "2024-01-02T00:00:00",
          "2023-12-29T00:00:00",
          "2023-12-28T00:00:00",
          "2023-12-27T00:00:00",
          "2023-12-26T00:00:00"
         ],
         "xaxis": "x",
         "y": [
          1985903,
          2412233,
          2437772,
          2990997,
          2069345,
          1730054,
          1970193,
          2332440,
          2345486,
          2536211,
          3711610,
          3866467,
          4979366,
          2698813,
          2121464,
          1963273,
          2006668,
          4043134,
          2029056,
          2157434,
          2548844,
          1998880,
          1735073,
          1787264,
          2070679,
          2486361,
          2299867,
          2710709,
          2211613,
          1960134,
          2457467,
          2504653,
          2185162,
          2771481,
          1636500,
          2214542,
          2309507,
          2515051,
          2600371,
          2277794,
          2580338,
          1691084,
          2049644,
          2072358,
          4179328,
          2742861,
          2025588,
          1814203,
          1738627,
          1596884,
          2178103,
          1917151,
          2015063,
          3212483,
          1748452,
          3072717,
          1931986,
          2011129,
          2066883,
          1764216,
          2572782,
          2896527,
          5044210,
          2237275,
          2354215,
          2202784,
          2407755,
          1794533,
          2155449,
          2081511,
          2544469,
          2201912,
          2438961,
          2050335,
          3292697,
          4740634,
          2663616,
          2314246,
          2725548,
          2977825,
          2683480,
          2328662,
          2715618,
          2400409,
          2075759,
          2690522,
          2397988,
          1892426,
          2320769,
          2709369,
          2439387,
          2125446,
          2344216,
          2042551,
          3093684,
          2463746,
          1706284,
          1505039,
          1322841,
          1258302
         ],
         "yaxis": "y"
        },
        {
         "alignmentgroup": "True",
         "hovertemplate": "Stock_Code=AVGO<br>Day=%{x}<br>Volume=%{y}<extra></extra>",
         "legendgroup": "AVGO",
         "marker": {
          "color": "#B6E880",
          "pattern": {
           "shape": ""
          }
         },
         "name": "AVGO",
         "offsetgroup": "AVGO",
         "orientation": "v",
         "showlegend": true,
         "textposition": "auto",
         "type": "bar",
         "x": [
          "2024-05-17T00:00:00",
          "2024-05-16T00:00:00",
          "2024-05-15T00:00:00",
          "2024-05-14T00:00:00",
          "2024-05-13T00:00:00",
          "2024-05-10T00:00:00",
          "2024-05-09T00:00:00",
          "2024-05-08T00:00:00",
          "2024-05-07T00:00:00",
          "2024-05-06T00:00:00",
          "2024-05-03T00:00:00",
          "2024-05-02T00:00:00",
          "2024-05-01T00:00:00",
          "2024-04-30T00:00:00",
          "2024-04-29T00:00:00",
          "2024-04-26T00:00:00",
          "2024-04-25T00:00:00",
          "2024-04-24T00:00:00",
          "2024-04-23T00:00:00",
          "2024-04-22T00:00:00",
          "2024-04-19T00:00:00",
          "2024-04-18T00:00:00",
          "2024-04-17T00:00:00",
          "2024-04-16T00:00:00",
          "2024-04-15T00:00:00",
          "2024-04-12T00:00:00",
          "2024-04-11T00:00:00",
          "2024-04-10T00:00:00",
          "2024-04-09T00:00:00",
          "2024-04-08T00:00:00",
          "2024-04-05T00:00:00",
          "2024-04-04T00:00:00",
          "2024-04-03T00:00:00",
          "2024-04-02T00:00:00",
          "2024-04-01T00:00:00",
          "2024-03-28T00:00:00",
          "2024-03-27T00:00:00",
          "2024-03-26T00:00:00",
          "2024-03-25T00:00:00",
          "2024-03-22T00:00:00",
          "2024-03-21T00:00:00",
          "2024-03-20T00:00:00",
          "2024-03-19T00:00:00",
          "2024-03-18T00:00:00",
          "2024-03-15T00:00:00",
          "2024-03-14T00:00:00",
          "2024-03-13T00:00:00",
          "2024-03-12T00:00:00",
          "2024-03-11T00:00:00",
          "2024-03-08T00:00:00",
          "2024-03-07T00:00:00",
          "2024-03-06T00:00:00",
          "2024-03-05T00:00:00",
          "2024-03-04T00:00:00",
          "2024-03-01T00:00:00",
          "2024-02-29T00:00:00",
          "2024-02-28T00:00:00",
          "2024-02-27T00:00:00",
          "2024-02-26T00:00:00",
          "2024-02-23T00:00:00",
          "2024-02-22T00:00:00",
          "2024-02-21T00:00:00",
          "2024-02-20T00:00:00",
          "2024-02-16T00:00:00",
          "2024-02-15T00:00:00",
          "2024-02-14T00:00:00",
          "2024-02-13T00:00:00",
          "2024-02-12T00:00:00",
          "2024-02-09T00:00:00",
          "2024-02-08T00:00:00",
          "2024-02-07T00:00:00",
          "2024-02-06T00:00:00",
          "2024-02-05T00:00:00",
          "2024-02-02T00:00:00",
          "2024-02-01T00:00:00",
          "2024-01-31T00:00:00",
          "2024-01-30T00:00:00",
          "2024-01-29T00:00:00",
          "2024-01-26T00:00:00",
          "2024-01-25T00:00:00",
          "2024-01-24T00:00:00",
          "2024-01-23T00:00:00",
          "2024-01-22T00:00:00",
          "2024-01-19T00:00:00",
          "2024-01-18T00:00:00",
          "2024-01-17T00:00:00",
          "2024-01-16T00:00:00",
          "2024-01-12T00:00:00",
          "2024-01-11T00:00:00",
          "2024-01-10T00:00:00",
          "2024-01-09T00:00:00",
          "2024-01-08T00:00:00",
          "2024-01-05T00:00:00",
          "2024-01-04T00:00:00",
          "2024-01-03T00:00:00",
          "2024-01-02T00:00:00",
          "2023-12-29T00:00:00",
          "2023-12-28T00:00:00",
          "2023-12-27T00:00:00",
          "2023-12-26T00:00:00"
         ],
         "xaxis": "x",
         "y": [
          1817367,
          2839503,
          3275738,
          1942029,
          1850703,
          1629953,
          1216955,
          1391764,
          1241283,
          1628708,
          2489755,
          2947968,
          3095783,
          2211336,
          1337179,
          2409983,
          3040967,
          2010793,
          2202513,
          2516218,
          4479658,
          2488803,
          2471780,
          1892274,
          2437045,
          2782332,
          3171331,
          1746652,
          1796343,
          1709273,
          1940617,
          2694408,
          2855154,
          2462497,
          1722937,
          1985552,
          2558265,
          2352218,
          2123660,
          3862386,
          7246773,
          4094614,
          2449087,
          2573716,
          8882251,
          3598260,
          3586067,
          4177101,
          3083035,
          7402484,
          6283177,
          4319589,
          3603975,
          3485418,
          4448772,
          2753564,
          1096718,
          1212605,
          1628248,
          2311464,
          4081926,
          2063983,
          2632919,
          2126805,
          2187344,
          2730626,
          3190652,
          2477822,
          2629289,
          2932624,
          2576775,
          2535410,
          2204452,
          2668929,
          1941128,
          2740019,
          2068254,
          2152647,
          2581760,
          3635610,
          3463577,
          1695211,
          3122224,
          5307712,
          3222840,
          1831405,
          2614508,
          2688196,
          2575722,
          1764345,
          2322534,
          3311029,
          2201847,
          2565803,
          3473547,
          2883102,
          2055800,
          2124925,
          1975536,
          1679327
         ],
         "yaxis": "y"
        },
        {
         "alignmentgroup": "True",
         "hovertemplate": "Stock_Code=HD<br>Day=%{x}<br>Volume=%{y}<extra></extra>",
         "legendgroup": "HD",
         "marker": {
          "color": "#FF97FF",
          "pattern": {
           "shape": ""
          }
         },
         "name": "HD",
         "offsetgroup": "HD",
         "orientation": "v",
         "showlegend": true,
         "textposition": "auto",
         "type": "bar",
         "x": [
          "2024-05-17T00:00:00",
          "2024-05-16T00:00:00",
          "2024-05-15T00:00:00",
          "2024-05-14T00:00:00",
          "2024-05-13T00:00:00",
          "2024-05-10T00:00:00",
          "2024-05-09T00:00:00",
          "2024-05-08T00:00:00",
          "2024-05-07T00:00:00",
          "2024-05-06T00:00:00",
          "2024-05-03T00:00:00",
          "2024-05-02T00:00:00",
          "2024-05-01T00:00:00",
          "2024-04-30T00:00:00",
          "2024-04-29T00:00:00",
          "2024-04-26T00:00:00",
          "2024-04-25T00:00:00",
          "2024-04-24T00:00:00",
          "2024-04-23T00:00:00",
          "2024-04-22T00:00:00",
          "2024-04-19T00:00:00",
          "2024-04-18T00:00:00",
          "2024-04-17T00:00:00",
          "2024-04-16T00:00:00",
          "2024-04-15T00:00:00",
          "2024-04-12T00:00:00",
          "2024-04-11T00:00:00",
          "2024-04-10T00:00:00",
          "2024-04-09T00:00:00",
          "2024-04-08T00:00:00",
          "2024-04-05T00:00:00",
          "2024-04-04T00:00:00",
          "2024-04-03T00:00:00",
          "2024-04-02T00:00:00",
          "2024-04-01T00:00:00",
          "2024-03-28T00:00:00",
          "2024-03-27T00:00:00",
          "2024-03-26T00:00:00",
          "2024-03-25T00:00:00",
          "2024-03-22T00:00:00",
          "2024-03-21T00:00:00",
          "2024-03-20T00:00:00",
          "2024-03-19T00:00:00",
          "2024-03-18T00:00:00",
          "2024-03-15T00:00:00",
          "2024-03-14T00:00:00",
          "2024-03-13T00:00:00",
          "2024-03-12T00:00:00",
          "2024-03-11T00:00:00",
          "2024-03-08T00:00:00",
          "2024-03-07T00:00:00",
          "2024-03-06T00:00:00",
          "2024-03-05T00:00:00",
          "2024-03-04T00:00:00",
          "2024-03-01T00:00:00",
          "2024-02-29T00:00:00",
          "2024-02-28T00:00:00",
          "2024-02-27T00:00:00",
          "2024-02-26T00:00:00",
          "2024-02-23T00:00:00",
          "2024-02-22T00:00:00",
          "2024-02-21T00:00:00",
          "2024-02-20T00:00:00",
          "2024-02-16T00:00:00",
          "2024-02-15T00:00:00",
          "2024-02-14T00:00:00",
          "2024-02-13T00:00:00",
          "2024-02-12T00:00:00",
          "2024-02-09T00:00:00",
          "2024-02-08T00:00:00",
          "2024-02-07T00:00:00",
          "2024-02-06T00:00:00",
          "2024-02-05T00:00:00",
          "2024-02-02T00:00:00",
          "2024-02-01T00:00:00",
          "2024-01-31T00:00:00",
          "2024-01-30T00:00:00",
          "2024-01-29T00:00:00",
          "2024-01-26T00:00:00",
          "2024-01-25T00:00:00",
          "2024-01-24T00:00:00",
          "2024-01-23T00:00:00",
          "2024-01-22T00:00:00",
          "2024-01-19T00:00:00",
          "2024-01-18T00:00:00",
          "2024-01-17T00:00:00",
          "2024-01-16T00:00:00",
          "2024-01-12T00:00:00",
          "2024-01-11T00:00:00",
          "2024-01-10T00:00:00",
          "2024-01-09T00:00:00",
          "2024-01-08T00:00:00",
          "2024-01-05T00:00:00",
          "2024-01-04T00:00:00",
          "2024-01-03T00:00:00",
          "2024-01-02T00:00:00",
          "2023-12-29T00:00:00",
          "2023-12-28T00:00:00",
          "2023-12-27T00:00:00",
          "2023-12-26T00:00:00"
         ],
         "xaxis": "x",
         "y": [
          2739006,
          3101626,
          4151111,
          5854302,
          4055584,
          3413895,
          3801438,
          3123197,
          2930715,
          3366254,
          4165054,
          3213554,
          3267852,
          3089890,
          2603866,
          2465262,
          3787752,
          4029153,
          3697424,
          3112789,
          3076576,
          3717526,
          4273837,
          4525522,
          4209165,
          3550338,
          4104715,
          4805246,
          3018285,
          4127909,
          3242816,
          4376147,
          4702862,
          4637688,
          4252110,
          4108328,
          2536661,
          2720409,
          2683928,
          2911046,
          4212248,
          2750405,
          3493781,
          3455722,
          9234905,
          3840670,
          3678547,
          2773872,
          2832709,
          2162906,
          2368480,
          2496251,
          3011731,
          2619007,
          2750902,
          4382836,
          2282512,
          2802853,
          2460960,
          3398308,
          3387455,
          3278896,
          4830046,
          3899647,
          2662754,
          2998873,
          3106506,
          3119737,
          2389992,
          2521954,
          3272379,
          2045343,
          2654040,
          3697782,
          2439201,
          3377866,
          2336454,
          2731986,
          3177883,
          3064197,
          3454387,
          3878445,
          4003659,
          3234572,
          2510660,
          2646225,
          3669405,
          1956284,
          3530570,
          4109255,
          2338058,
          2736244,
          2650839,
          3652356,
          3309589,
          2833794,
          10325908,
          2859487,
          2655934,
          1585615
         ],
         "yaxis": "y"
        },
        {
         "alignmentgroup": "True",
         "hovertemplate": "Stock_Code=CVX<br>Day=%{x}<br>Volume=%{y}<extra></extra>",
         "legendgroup": "CVX",
         "marker": {
          "color": "#FECB52",
          "pattern": {
           "shape": ""
          }
         },
         "name": "CVX",
         "offsetgroup": "CVX",
         "orientation": "v",
         "showlegend": true,
         "textposition": "auto",
         "type": "bar",
         "x": [
          "2024-05-17T00:00:00",
          "2024-05-16T00:00:00",
          "2024-05-15T00:00:00",
          "2024-05-14T00:00:00",
          "2024-05-13T00:00:00",
          "2024-05-10T00:00:00",
          "2024-05-09T00:00:00",
          "2024-05-08T00:00:00",
          "2024-05-07T00:00:00",
          "2024-05-06T00:00:00",
          "2024-05-03T00:00:00",
          "2024-05-02T00:00:00",
          "2024-05-01T00:00:00",
          "2024-04-30T00:00:00",
          "2024-04-29T00:00:00",
          "2024-04-26T00:00:00",
          "2024-04-25T00:00:00",
          "2024-04-24T00:00:00",
          "2024-04-23T00:00:00",
          "2024-04-22T00:00:00",
          "2024-04-19T00:00:00",
          "2024-04-18T00:00:00",
          "2024-04-17T00:00:00",
          "2024-04-16T00:00:00",
          "2024-04-15T00:00:00",
          "2024-04-12T00:00:00",
          "2024-04-11T00:00:00",
          "2024-04-10T00:00:00",
          "2024-04-09T00:00:00",
          "2024-04-08T00:00:00",
          "2024-04-05T00:00:00",
          "2024-04-04T00:00:00",
          "2024-04-03T00:00:00",
          "2024-04-02T00:00:00",
          "2024-04-01T00:00:00",
          "2024-03-28T00:00:00",
          "2024-03-27T00:00:00",
          "2024-03-26T00:00:00",
          "2024-03-25T00:00:00",
          "2024-03-22T00:00:00",
          "2024-03-21T00:00:00",
          "2024-03-20T00:00:00",
          "2024-03-19T00:00:00",
          "2024-03-18T00:00:00",
          "2024-03-15T00:00:00",
          "2024-03-14T00:00:00",
          "2024-03-13T00:00:00",
          "2024-03-12T00:00:00",
          "2024-03-11T00:00:00",
          "2024-03-08T00:00:00",
          "2024-03-07T00:00:00",
          "2024-03-06T00:00:00",
          "2024-03-05T00:00:00",
          "2024-03-04T00:00:00",
          "2024-03-01T00:00:00",
          "2024-02-29T00:00:00",
          "2024-02-28T00:00:00",
          "2024-02-27T00:00:00",
          "2024-02-26T00:00:00",
          "2024-02-23T00:00:00",
          "2024-02-22T00:00:00",
          "2024-02-21T00:00:00",
          "2024-02-20T00:00:00",
          "2024-02-16T00:00:00",
          "2024-02-15T00:00:00",
          "2024-02-14T00:00:00",
          "2024-02-13T00:00:00",
          "2024-02-12T00:00:00",
          "2024-02-09T00:00:00",
          "2024-02-08T00:00:00",
          "2024-02-07T00:00:00",
          "2024-02-06T00:00:00",
          "2024-02-05T00:00:00",
          "2024-02-02T00:00:00",
          "2024-02-01T00:00:00",
          "2024-01-31T00:00:00",
          "2024-01-30T00:00:00",
          "2024-01-29T00:00:00",
          "2024-01-26T00:00:00",
          "2024-01-25T00:00:00",
          "2024-01-24T00:00:00",
          "2024-01-23T00:00:00",
          "2024-01-22T00:00:00",
          "2024-01-19T00:00:00",
          "2024-01-18T00:00:00",
          "2024-01-17T00:00:00",
          "2024-01-16T00:00:00",
          "2024-01-12T00:00:00",
          "2024-01-11T00:00:00",
          "2024-01-10T00:00:00",
          "2024-01-09T00:00:00",
          "2024-01-08T00:00:00",
          "2024-01-05T00:00:00",
          "2024-01-04T00:00:00",
          "2024-01-03T00:00:00",
          "2024-01-02T00:00:00",
          "2023-12-29T00:00:00",
          "2023-12-28T00:00:00",
          "2023-12-27T00:00:00",
          "2023-12-26T00:00:00"
         ],
         "xaxis": "x",
         "y": [
          5497919,
          6409418,
          7603063,
          4923968,
          6848303,
          5490944,
          6683313,
          6706361,
          6869948,
          8430277,
          11664505,
          8597124,
          7714962,
          8457341,
          6366752,
          9736350,
          9702581,
          7610335,
          5597617,
          6779221,
          7734654,
          4979193,
          6733879,
          5541895,
          7236857,
          11071045,
          7682512,
          7525837,
          6401607,
          7196386,
          7403166,
          9220692,
          7689289,
          8671039,
          6112893,
          8331627,
          7416870,
          6677938,
          6058745,
          5974745,
          7899084,
          8449145,
          7736723,
          7242711,
          20387157,
          8930272,
          8055999,
          6422941,
          7560212,
          7528378,
          8739348,
          14692135,
          6985516,
          12503154,
          7459056,
          9334432,
          6715861,
          15093755,
          6900801,
          6561628,
          8874924,
          6630084,
          6977945,
          7570220,
          8950304,
          5995064,
          6987058,
          6713003,
          9194458,
          9236968,
          6252041,
          6198841,
          8277776,
          12839063,
          8138669,
          10427972,
          9902881,
          10494818,
          9151896,
          9773620,
          8072370,
          6767179,
          9184626,
          11192463,
          11187839,
          8167002,
          9380352,
          9386923,
          8612493,
          8490407,
          11784672,
          10038193,
          7400139,
          8220280,
          10255276,
          8879710,
          7658638,
          8147993,
          5314657,
          5165588
         ],
         "yaxis": "y"
        }
       ],
       "layout": {
        "barmode": "relative",
        "legend": {
         "title": {
          "text": "Stock_Code"
         },
         "tracegroupgap": 0
        },
        "margin": {
         "t": 60
        },
        "template": {
         "data": {
          "bar": [
           {
            "error_x": {
             "color": "#2a3f5f"
            },
            "error_y": {
             "color": "#2a3f5f"
            },
            "marker": {
             "line": {
              "color": "#E5ECF6",
              "width": 0.5
             },
             "pattern": {
              "fillmode": "overlay",
              "size": 10,
              "solidity": 0.2
             }
            },
            "type": "bar"
           }
          ],
          "barpolar": [
           {
            "marker": {
             "line": {
              "color": "#E5ECF6",
              "width": 0.5
             },
             "pattern": {
              "fillmode": "overlay",
              "size": 10,
              "solidity": 0.2
             }
            },
            "type": "barpolar"
           }
          ],
          "carpet": [
           {
            "aaxis": {
             "endlinecolor": "#2a3f5f",
             "gridcolor": "white",
             "linecolor": "white",
             "minorgridcolor": "white",
             "startlinecolor": "#2a3f5f"
            },
            "baxis": {
             "endlinecolor": "#2a3f5f",
             "gridcolor": "white",
             "linecolor": "white",
             "minorgridcolor": "white",
             "startlinecolor": "#2a3f5f"
            },
            "type": "carpet"
           }
          ],
          "choropleth": [
           {
            "colorbar": {
             "outlinewidth": 0,
             "ticks": ""
            },
            "type": "choropleth"
           }
          ],
          "contour": [
           {
            "colorbar": {
             "outlinewidth": 0,
             "ticks": ""
            },
            "colorscale": [
             [
              0,
              "#0d0887"
             ],
             [
              0.1111111111111111,
              "#46039f"
             ],
             [
              0.2222222222222222,
              "#7201a8"
             ],
             [
              0.3333333333333333,
              "#9c179e"
             ],
             [
              0.4444444444444444,
              "#bd3786"
             ],
             [
              0.5555555555555556,
              "#d8576b"
             ],
             [
              0.6666666666666666,
              "#ed7953"
             ],
             [
              0.7777777777777778,
              "#fb9f3a"
             ],
             [
              0.8888888888888888,
              "#fdca26"
             ],
             [
              1,
              "#f0f921"
             ]
            ],
            "type": "contour"
           }
          ],
          "contourcarpet": [
           {
            "colorbar": {
             "outlinewidth": 0,
             "ticks": ""
            },
            "type": "contourcarpet"
           }
          ],
          "heatmap": [
           {
            "colorbar": {
             "outlinewidth": 0,
             "ticks": ""
            },
            "colorscale": [
             [
              0,
              "#0d0887"
             ],
             [
              0.1111111111111111,
              "#46039f"
             ],
             [
              0.2222222222222222,
              "#7201a8"
             ],
             [
              0.3333333333333333,
              "#9c179e"
             ],
             [
              0.4444444444444444,
              "#bd3786"
             ],
             [
              0.5555555555555556,
              "#d8576b"
             ],
             [
              0.6666666666666666,
              "#ed7953"
             ],
             [
              0.7777777777777778,
              "#fb9f3a"
             ],
             [
              0.8888888888888888,
              "#fdca26"
             ],
             [
              1,
              "#f0f921"
             ]
            ],
            "type": "heatmap"
           }
          ],
          "heatmapgl": [
           {
            "colorbar": {
             "outlinewidth": 0,
             "ticks": ""
            },
            "colorscale": [
             [
              0,
              "#0d0887"
             ],
             [
              0.1111111111111111,
              "#46039f"
             ],
             [
              0.2222222222222222,
              "#7201a8"
             ],
             [
              0.3333333333333333,
              "#9c179e"
             ],
             [
              0.4444444444444444,
              "#bd3786"
             ],
             [
              0.5555555555555556,
              "#d8576b"
             ],
             [
              0.6666666666666666,
              "#ed7953"
             ],
             [
              0.7777777777777778,
              "#fb9f3a"
             ],
             [
              0.8888888888888888,
              "#fdca26"
             ],
             [
              1,
              "#f0f921"
             ]
            ],
            "type": "heatmapgl"
           }
          ],
          "histogram": [
           {
            "marker": {
             "pattern": {
              "fillmode": "overlay",
              "size": 10,
              "solidity": 0.2
             }
            },
            "type": "histogram"
           }
          ],
          "histogram2d": [
           {
            "colorbar": {
             "outlinewidth": 0,
             "ticks": ""
            },
            "colorscale": [
             [
              0,
              "#0d0887"
             ],
             [
              0.1111111111111111,
              "#46039f"
             ],
             [
              0.2222222222222222,
              "#7201a8"
             ],
             [
              0.3333333333333333,
              "#9c179e"
             ],
             [
              0.4444444444444444,
              "#bd3786"
             ],
             [
              0.5555555555555556,
              "#d8576b"
             ],
             [
              0.6666666666666666,
              "#ed7953"
             ],
             [
              0.7777777777777778,
              "#fb9f3a"
             ],
             [
              0.8888888888888888,
              "#fdca26"
             ],
             [
              1,
              "#f0f921"
             ]
            ],
            "type": "histogram2d"
           }
          ],
          "histogram2dcontour": [
           {
            "colorbar": {
             "outlinewidth": 0,
             "ticks": ""
            },
            "colorscale": [
             [
              0,
              "#0d0887"
             ],
             [
              0.1111111111111111,
              "#46039f"
             ],
             [
              0.2222222222222222,
              "#7201a8"
             ],
             [
              0.3333333333333333,
              "#9c179e"
             ],
             [
              0.4444444444444444,
              "#bd3786"
             ],
             [
              0.5555555555555556,
              "#d8576b"
             ],
             [
              0.6666666666666666,
              "#ed7953"
             ],
             [
              0.7777777777777778,
              "#fb9f3a"
             ],
             [
              0.8888888888888888,
              "#fdca26"
             ],
             [
              1,
              "#f0f921"
             ]
            ],
            "type": "histogram2dcontour"
           }
          ],
          "mesh3d": [
           {
            "colorbar": {
             "outlinewidth": 0,
             "ticks": ""
            },
            "type": "mesh3d"
           }
          ],
          "parcoords": [
           {
            "line": {
             "colorbar": {
              "outlinewidth": 0,
              "ticks": ""
             }
            },
            "type": "parcoords"
           }
          ],
          "pie": [
           {
            "automargin": true,
            "type": "pie"
           }
          ],
          "scatter": [
           {
            "marker": {
             "colorbar": {
              "outlinewidth": 0,
              "ticks": ""
             }
            },
            "type": "scatter"
           }
          ],
          "scatter3d": [
           {
            "line": {
             "colorbar": {
              "outlinewidth": 0,
              "ticks": ""
             }
            },
            "marker": {
             "colorbar": {
              "outlinewidth": 0,
              "ticks": ""
             }
            },
            "type": "scatter3d"
           }
          ],
          "scattercarpet": [
           {
            "marker": {
             "colorbar": {
              "outlinewidth": 0,
              "ticks": ""
             }
            },
            "type": "scattercarpet"
           }
          ],
          "scattergeo": [
           {
            "marker": {
             "colorbar": {
              "outlinewidth": 0,
              "ticks": ""
             }
            },
            "type": "scattergeo"
           }
          ],
          "scattergl": [
           {
            "marker": {
             "colorbar": {
              "outlinewidth": 0,
              "ticks": ""
             }
            },
            "type": "scattergl"
           }
          ],
          "scattermapbox": [
           {
            "marker": {
             "colorbar": {
              "outlinewidth": 0,
              "ticks": ""
             }
            },
            "type": "scattermapbox"
           }
          ],
          "scatterpolar": [
           {
            "marker": {
             "colorbar": {
              "outlinewidth": 0,
              "ticks": ""
             }
            },
            "type": "scatterpolar"
           }
          ],
          "scatterpolargl": [
           {
            "marker": {
             "colorbar": {
              "outlinewidth": 0,
              "ticks": ""
             }
            },
            "type": "scatterpolargl"
           }
          ],
          "scatterternary": [
           {
            "marker": {
             "colorbar": {
              "outlinewidth": 0,
              "ticks": ""
             }
            },
            "type": "scatterternary"
           }
          ],
          "surface": [
           {
            "colorbar": {
             "outlinewidth": 0,
             "ticks": ""
            },
            "colorscale": [
             [
              0,
              "#0d0887"
             ],
             [
              0.1111111111111111,
              "#46039f"
             ],
             [
              0.2222222222222222,
              "#7201a8"
             ],
             [
              0.3333333333333333,
              "#9c179e"
             ],
             [
              0.4444444444444444,
              "#bd3786"
             ],
             [
              0.5555555555555556,
              "#d8576b"
             ],
             [
              0.6666666666666666,
              "#ed7953"
             ],
             [
              0.7777777777777778,
              "#fb9f3a"
             ],
             [
              0.8888888888888888,
              "#fdca26"
             ],
             [
              1,
              "#f0f921"
             ]
            ],
            "type": "surface"
           }
          ],
          "table": [
           {
            "cells": {
             "fill": {
              "color": "#EBF0F8"
             },
             "line": {
              "color": "white"
             }
            },
            "header": {
             "fill": {
              "color": "#C8D4E3"
             },
             "line": {
              "color": "white"
             }
            },
            "type": "table"
           }
          ]
         },
         "layout": {
          "annotationdefaults": {
           "arrowcolor": "#2a3f5f",
           "arrowhead": 0,
           "arrowwidth": 1
          },
          "autotypenumbers": "strict",
          "coloraxis": {
           "colorbar": {
            "outlinewidth": 0,
            "ticks": ""
           }
          },
          "colorscale": {
           "diverging": [
            [
             0,
             "#8e0152"
            ],
            [
             0.1,
             "#c51b7d"
            ],
            [
             0.2,
             "#de77ae"
            ],
            [
             0.3,
             "#f1b6da"
            ],
            [
             0.4,
             "#fde0ef"
            ],
            [
             0.5,
             "#f7f7f7"
            ],
            [
             0.6,
             "#e6f5d0"
            ],
            [
             0.7,
             "#b8e186"
            ],
            [
             0.8,
             "#7fbc41"
            ],
            [
             0.9,
             "#4d9221"
            ],
            [
             1,
             "#276419"
            ]
           ],
           "sequential": [
            [
             0,
             "#0d0887"
            ],
            [
             0.1111111111111111,
             "#46039f"
            ],
            [
             0.2222222222222222,
             "#7201a8"
            ],
            [
             0.3333333333333333,
             "#9c179e"
            ],
            [
             0.4444444444444444,
             "#bd3786"
            ],
            [
             0.5555555555555556,
             "#d8576b"
            ],
            [
             0.6666666666666666,
             "#ed7953"
            ],
            [
             0.7777777777777778,
             "#fb9f3a"
            ],
            [
             0.8888888888888888,
             "#fdca26"
            ],
            [
             1,
             "#f0f921"
            ]
           ],
           "sequentialminus": [
            [
             0,
             "#0d0887"
            ],
            [
             0.1111111111111111,
             "#46039f"
            ],
            [
             0.2222222222222222,
             "#7201a8"
            ],
            [
             0.3333333333333333,
             "#9c179e"
            ],
            [
             0.4444444444444444,
             "#bd3786"
            ],
            [
             0.5555555555555556,
             "#d8576b"
            ],
            [
             0.6666666666666666,
             "#ed7953"
            ],
            [
             0.7777777777777778,
             "#fb9f3a"
            ],
            [
             0.8888888888888888,
             "#fdca26"
            ],
            [
             1,
             "#f0f921"
            ]
           ]
          },
          "colorway": [
           "#636efa",
           "#EF553B",
           "#00cc96",
           "#ab63fa",
           "#FFA15A",
           "#19d3f3",
           "#FF6692",
           "#B6E880",
           "#FF97FF",
           "#FECB52"
          ],
          "font": {
           "color": "#2a3f5f"
          },
          "geo": {
           "bgcolor": "white",
           "lakecolor": "white",
           "landcolor": "#E5ECF6",
           "showlakes": true,
           "showland": true,
           "subunitcolor": "white"
          },
          "hoverlabel": {
           "align": "left"
          },
          "hovermode": "closest",
          "mapbox": {
           "style": "light"
          },
          "paper_bgcolor": "white",
          "plot_bgcolor": "#E5ECF6",
          "polar": {
           "angularaxis": {
            "gridcolor": "white",
            "linecolor": "white",
            "ticks": ""
           },
           "bgcolor": "#E5ECF6",
           "radialaxis": {
            "gridcolor": "white",
            "linecolor": "white",
            "ticks": ""
           }
          },
          "scene": {
           "xaxis": {
            "backgroundcolor": "#E5ECF6",
            "gridcolor": "white",
            "gridwidth": 2,
            "linecolor": "white",
            "showbackground": true,
            "ticks": "",
            "zerolinecolor": "white"
           },
           "yaxis": {
            "backgroundcolor": "#E5ECF6",
            "gridcolor": "white",
            "gridwidth": 2,
            "linecolor": "white",
            "showbackground": true,
            "ticks": "",
            "zerolinecolor": "white"
           },
           "zaxis": {
            "backgroundcolor": "#E5ECF6",
            "gridcolor": "white",
            "gridwidth": 2,
            "linecolor": "white",
            "showbackground": true,
            "ticks": "",
            "zerolinecolor": "white"
           }
          },
          "shapedefaults": {
           "line": {
            "color": "#2a3f5f"
           }
          },
          "ternary": {
           "aaxis": {
            "gridcolor": "white",
            "linecolor": "white",
            "ticks": ""
           },
           "baxis": {
            "gridcolor": "white",
            "linecolor": "white",
            "ticks": ""
           },
           "bgcolor": "#E5ECF6",
           "caxis": {
            "gridcolor": "white",
            "linecolor": "white",
            "ticks": ""
           }
          },
          "title": {
           "x": 0.05
          },
          "xaxis": {
           "automargin": true,
           "gridcolor": "white",
           "linecolor": "white",
           "ticks": "",
           "title": {
            "standoff": 15
           },
           "zerolinecolor": "white",
           "zerolinewidth": 2
          },
          "yaxis": {
           "automargin": true,
           "gridcolor": "white",
           "linecolor": "white",
           "ticks": "",
           "title": {
            "standoff": 15
           },
           "zerolinecolor": "white",
           "zerolinewidth": 2
          }
         }
        },
        "xaxis": {
         "anchor": "y",
         "domain": [
          0,
          1
         ],
         "title": {
          "text": "Day"
         }
        },
        "yaxis": {
         "anchor": "x",
         "domain": [
          0,
          1
         ],
         "title": {
          "text": "Volume"
         }
        }
       }
      }
     },
     "metadata": {},
     "output_type": "display_data"
    }
   ],
   "source": [
    "# Bar Graph Volume\n",
    "\n",
    "px.bar(cleaned_data, x= 'Day', y = cleaned_data['Volume'],  color='Stock_Code')"
   ]
  },
  {
   "cell_type": "code",
   "execution_count": null,
   "metadata": {},
   "outputs": [
    {
     "data": {
      "text/plain": [
       "6071047321"
      ]
     },
     "execution_count": 168,
     "metadata": {},
     "output_type": "execute_result"
    }
   ],
   "source": [
    "cleaned_data[cleaned_data['Stock_Code'] == 'AAPL']['Volume'].sum()"
   ]
  },
  {
   "cell_type": "code",
   "execution_count": null,
   "metadata": {},
   "outputs": [
    {
     "data": {
      "text/plain": [
       "Timestamp('2024-05-17 00:00:00')"
      ]
     },
     "execution_count": 182,
     "metadata": {},
     "output_type": "execute_result"
    }
   ],
   "source": [
    "cleaned_data.Day.max()"
   ]
  },
  {
   "cell_type": "code",
   "execution_count": 20,
   "metadata": {},
   "outputs": [
    {
     "data": {
      "text/html": [
       "<div>\n",
       "<style scoped>\n",
       "    .dataframe tbody tr th:only-of-type {\n",
       "        vertical-align: middle;\n",
       "    }\n",
       "\n",
       "    .dataframe tbody tr th {\n",
       "        vertical-align: top;\n",
       "    }\n",
       "\n",
       "    .dataframe thead th {\n",
       "        text-align: right;\n",
       "    }\n",
       "</style>\n",
       "<table border=\"1\" class=\"dataframe\">\n",
       "  <thead>\n",
       "    <tr style=\"text-align: right;\">\n",
       "      <th></th>\n",
       "      <th>Company_Name</th>\n",
       "      <th>Stock_Code</th>\n",
       "      <th>Day</th>\n",
       "      <th>WeekDay</th>\n",
       "      <th>Week</th>\n",
       "      <th>Month</th>\n",
       "      <th>Month_Name</th>\n",
       "      <th>Quarter</th>\n",
       "      <th>Opening_Value</th>\n",
       "      <th>Highest_Value</th>\n",
       "      <th>Lowest_Value</th>\n",
       "      <th>Closing_Value</th>\n",
       "      <th>Volume</th>\n",
       "      <th>Daily_Closing_Variation</th>\n",
       "    </tr>\n",
       "  </thead>\n",
       "  <tbody>\n",
       "    <tr>\n",
       "      <th>0</th>\n",
       "      <td>Apple</td>\n",
       "      <td>AAPL</td>\n",
       "      <td>2024-05-17</td>\n",
       "      <td>Friday</td>\n",
       "      <td>20</td>\n",
       "      <td>5</td>\n",
       "      <td>May</td>\n",
       "      <td>2</td>\n",
       "      <td>189.510</td>\n",
       "      <td>190.810</td>\n",
       "      <td>189.1800</td>\n",
       "      <td>189.87</td>\n",
       "      <td>41282925</td>\n",
       "      <td>0.01580278128950755</td>\n",
       "    </tr>\n",
       "    <tr>\n",
       "      <th>1</th>\n",
       "      <td>Apple</td>\n",
       "      <td>AAPL</td>\n",
       "      <td>2024-05-16</td>\n",
       "      <td>Thursday</td>\n",
       "      <td>20</td>\n",
       "      <td>5</td>\n",
       "      <td>May</td>\n",
       "      <td>2</td>\n",
       "      <td>190.470</td>\n",
       "      <td>191.095</td>\n",
       "      <td>189.6601</td>\n",
       "      <td>189.84</td>\n",
       "      <td>52845230</td>\n",
       "      <td>0.06325110689437305</td>\n",
       "    </tr>\n",
       "    <tr>\n",
       "      <th>2</th>\n",
       "      <td>Apple</td>\n",
       "      <td>AAPL</td>\n",
       "      <td>2024-05-15</td>\n",
       "      <td>Wednesday</td>\n",
       "      <td>20</td>\n",
       "      <td>5</td>\n",
       "      <td>May</td>\n",
       "      <td>2</td>\n",
       "      <td>187.910</td>\n",
       "      <td>190.650</td>\n",
       "      <td>187.3700</td>\n",
       "      <td>189.72</td>\n",
       "      <td>70399988</td>\n",
       "      <td>1.2217894680680745</td>\n",
       "    </tr>\n",
       "    <tr>\n",
       "      <th>3</th>\n",
       "      <td>Apple</td>\n",
       "      <td>AAPL</td>\n",
       "      <td>2024-05-14</td>\n",
       "      <td>Tuesday</td>\n",
       "      <td>20</td>\n",
       "      <td>5</td>\n",
       "      <td>May</td>\n",
       "      <td>2</td>\n",
       "      <td>187.510</td>\n",
       "      <td>188.300</td>\n",
       "      <td>186.2900</td>\n",
       "      <td>187.43</td>\n",
       "      <td>52393619</td>\n",
       "      <td>0.6173502254670419</td>\n",
       "    </tr>\n",
       "    <tr>\n",
       "      <th>4</th>\n",
       "      <td>Apple</td>\n",
       "      <td>AAPL</td>\n",
       "      <td>2024-05-13</td>\n",
       "      <td>Monday</td>\n",
       "      <td>20</td>\n",
       "      <td>5</td>\n",
       "      <td>May</td>\n",
       "      <td>2</td>\n",
       "      <td>185.435</td>\n",
       "      <td>187.100</td>\n",
       "      <td>184.6200</td>\n",
       "      <td>186.28</td>\n",
       "      <td>72044809</td>\n",
       "      <td>1.7645452062278009</td>\n",
       "    </tr>\n",
       "  </tbody>\n",
       "</table>\n",
       "</div>"
      ],
      "text/plain": [
       "  Company_Name Stock_Code         Day    WeekDay  Week  Month Month_Name  \\\n",
       "0        Apple       AAPL  2024-05-17     Friday    20      5        May   \n",
       "1        Apple       AAPL  2024-05-16   Thursday    20      5        May   \n",
       "2        Apple       AAPL  2024-05-15  Wednesday    20      5        May   \n",
       "3        Apple       AAPL  2024-05-14    Tuesday    20      5        May   \n",
       "4        Apple       AAPL  2024-05-13     Monday    20      5        May   \n",
       "\n",
       "   Quarter  Opening_Value  Highest_Value  Lowest_Value  Closing_Value  \\\n",
       "0        2        189.510        190.810      189.1800         189.87   \n",
       "1        2        190.470        191.095      189.6601         189.84   \n",
       "2        2        187.910        190.650      187.3700         189.72   \n",
       "3        2        187.510        188.300      186.2900         187.43   \n",
       "4        2        185.435        187.100      184.6200         186.28   \n",
       "\n",
       "     Volume Daily_Closing_Variation  \n",
       "0  41282925     0.01580278128950755  \n",
       "1  52845230     0.06325110689437305  \n",
       "2  70399988      1.2217894680680745  \n",
       "3  52393619      0.6173502254670419  \n",
       "4  72044809      1.7645452062278009  "
      ]
     },
     "execution_count": 20,
     "metadata": {},
     "output_type": "execute_result"
    }
   ],
   "source": [
    "test_data = pd.read_csv('/Users/rabernar/Visual Studio/Projetos VsCode/Projetos DataScience/Projeto 18 - Mercado Financeiro/assets/stock_market.csv')\n",
    "test_data.head()"
   ]
  },
  {
   "cell_type": "code",
   "execution_count": 3,
   "metadata": {},
   "outputs": [
    {
     "data": {
      "text/plain": [
       "array(['Apple', 'Microsoft', 'Amazon', 'NVIDIA', 'Alphabet Class A',\n",
       "       'Tesla', 'Alphabet Class C', 'Berkshire Hathaway', 'Meta Class A',\n",
       "       'UnitedHealth Group', 'Exxon Mobil', 'Eli Lilly', 'JPMorgan Chase',\n",
       "       'Johnson & Johnson', 'Visa Class A', 'Procter & Gamble',\n",
       "       'Mastercard Class A', 'Broadcom', 'Home Depot',\n",
       "       'Chevron Corporation'], dtype=object)"
      ]
     },
     "execution_count": 3,
     "metadata": {},
     "output_type": "execute_result"
    }
   ],
   "source": [
    "test_data['Company_Name'].unique()"
   ]
  },
  {
   "cell_type": "code",
   "execution_count": 4,
   "metadata": {},
   "outputs": [
    {
     "data": {
      "text/plain": [
       "array(['AAPL', 'MSFT', 'AMZN', 'NVDA', 'GOOGL', 'TSLA', 'GOOG', 'BRK.B',\n",
       "       'META', 'UNH', 'XOM', 'LLY', 'JPM', 'JNJ', 'V', 'PG', 'MA', 'AVGO',\n",
       "       'HD', 'CVX'], dtype=object)"
      ]
     },
     "execution_count": 4,
     "metadata": {},
     "output_type": "execute_result"
    }
   ],
   "source": [
    "test_data['Stock_Code'].unique()"
   ]
  },
  {
   "cell_type": "code",
   "execution_count": 5,
   "metadata": {},
   "outputs": [
    {
     "data": {
      "text/html": [
       "<div>\n",
       "<style scoped>\n",
       "    .dataframe tbody tr th:only-of-type {\n",
       "        vertical-align: middle;\n",
       "    }\n",
       "\n",
       "    .dataframe tbody tr th {\n",
       "        vertical-align: top;\n",
       "    }\n",
       "\n",
       "    .dataframe thead th {\n",
       "        text-align: right;\n",
       "    }\n",
       "</style>\n",
       "<table border=\"1\" class=\"dataframe\">\n",
       "  <thead>\n",
       "    <tr style=\"text-align: right;\">\n",
       "      <th></th>\n",
       "      <th>Company_Name</th>\n",
       "      <th>Stock_Code</th>\n",
       "      <th>Day</th>\n",
       "      <th>WeekDay</th>\n",
       "      <th>Week</th>\n",
       "      <th>Month</th>\n",
       "      <th>Month_Name</th>\n",
       "      <th>Quarter</th>\n",
       "      <th>Opening_Value</th>\n",
       "      <th>Highest_Value</th>\n",
       "      <th>Lowest_Value</th>\n",
       "      <th>Closing_Value</th>\n",
       "      <th>Volume</th>\n",
       "      <th>Daily_Closing_Variation</th>\n",
       "    </tr>\n",
       "  </thead>\n",
       "  <tbody>\n",
       "    <tr>\n",
       "      <th>600</th>\n",
       "      <td>Alphabet Class C</td>\n",
       "      <td>GOOG</td>\n",
       "      <td>2024-05-17</td>\n",
       "      <td>Friday</td>\n",
       "      <td>20</td>\n",
       "      <td>5</td>\n",
       "      <td>May</td>\n",
       "      <td>2</td>\n",
       "      <td>175.550</td>\n",
       "      <td>177.4950</td>\n",
       "      <td>174.9800</td>\n",
       "      <td>177.29</td>\n",
       "      <td>16546353</td>\n",
       "      <td>1.0602519523456564</td>\n",
       "    </tr>\n",
       "    <tr>\n",
       "      <th>601</th>\n",
       "      <td>Alphabet Class C</td>\n",
       "      <td>GOOG</td>\n",
       "      <td>2024-05-16</td>\n",
       "      <td>Thursday</td>\n",
       "      <td>20</td>\n",
       "      <td>5</td>\n",
       "      <td>May</td>\n",
       "      <td>2</td>\n",
       "      <td>174.600</td>\n",
       "      <td>176.3400</td>\n",
       "      <td>174.0500</td>\n",
       "      <td>175.43</td>\n",
       "      <td>17247311</td>\n",
       "      <td>0.8914193696802458</td>\n",
       "    </tr>\n",
       "    <tr>\n",
       "      <th>602</th>\n",
       "      <td>Alphabet Class C</td>\n",
       "      <td>GOOG</td>\n",
       "      <td>2024-05-15</td>\n",
       "      <td>Wednesday</td>\n",
       "      <td>20</td>\n",
       "      <td>5</td>\n",
       "      <td>May</td>\n",
       "      <td>2</td>\n",
       "      <td>172.300</td>\n",
       "      <td>174.0459</td>\n",
       "      <td>172.0300</td>\n",
       "      <td>173.88</td>\n",
       "      <td>20958245</td>\n",
       "      <td>1.134182516140283</td>\n",
       "    </tr>\n",
       "    <tr>\n",
       "      <th>603</th>\n",
       "      <td>Alphabet Class C</td>\n",
       "      <td>GOOG</td>\n",
       "      <td>2024-05-14</td>\n",
       "      <td>Tuesday</td>\n",
       "      <td>20</td>\n",
       "      <td>5</td>\n",
       "      <td>May</td>\n",
       "      <td>2</td>\n",
       "      <td>171.590</td>\n",
       "      <td>172.7800</td>\n",
       "      <td>170.4200</td>\n",
       "      <td>171.93</td>\n",
       "      <td>18729463</td>\n",
       "      <td>0.602691632533646</td>\n",
       "    </tr>\n",
       "    <tr>\n",
       "      <th>604</th>\n",
       "      <td>Alphabet Class C</td>\n",
       "      <td>GOOG</td>\n",
       "      <td>2024-05-13</td>\n",
       "      <td>Monday</td>\n",
       "      <td>20</td>\n",
       "      <td>5</td>\n",
       "      <td>May</td>\n",
       "      <td>2</td>\n",
       "      <td>165.847</td>\n",
       "      <td>170.9500</td>\n",
       "      <td>165.7600</td>\n",
       "      <td>170.90</td>\n",
       "      <td>19648585</td>\n",
       "      <td>0.3582124610957858</td>\n",
       "    </tr>\n",
       "    <tr>\n",
       "      <th>...</th>\n",
       "      <td>...</td>\n",
       "      <td>...</td>\n",
       "      <td>...</td>\n",
       "      <td>...</td>\n",
       "      <td>...</td>\n",
       "      <td>...</td>\n",
       "      <td>...</td>\n",
       "      <td>...</td>\n",
       "      <td>...</td>\n",
       "      <td>...</td>\n",
       "      <td>...</td>\n",
       "      <td>...</td>\n",
       "      <td>...</td>\n",
       "      <td>...</td>\n",
       "    </tr>\n",
       "    <tr>\n",
       "      <th>695</th>\n",
       "      <td>Alphabet Class C</td>\n",
       "      <td>GOOG</td>\n",
       "      <td>2024-01-02</td>\n",
       "      <td>Tuesday</td>\n",
       "      <td>1</td>\n",
       "      <td>1</td>\n",
       "      <td>January</td>\n",
       "      <td>1</td>\n",
       "      <td>139.600</td>\n",
       "      <td>140.6147</td>\n",
       "      <td>137.7400</td>\n",
       "      <td>139.56</td>\n",
       "      <td>20071885</td>\n",
       "      <td>-0.9721138153693354</td>\n",
       "    </tr>\n",
       "    <tr>\n",
       "      <th>696</th>\n",
       "      <td>Alphabet Class C</td>\n",
       "      <td>GOOG</td>\n",
       "      <td>2023-12-29</td>\n",
       "      <td>Friday</td>\n",
       "      <td>52</td>\n",
       "      <td>12</td>\n",
       "      <td>December</td>\n",
       "      <td>4</td>\n",
       "      <td>140.680</td>\n",
       "      <td>141.4350</td>\n",
       "      <td>139.9000</td>\n",
       "      <td>140.93</td>\n",
       "      <td>14880961</td>\n",
       "      <td>-0.2477349943374818</td>\n",
       "    </tr>\n",
       "    <tr>\n",
       "      <th>697</th>\n",
       "      <td>Alphabet Class C</td>\n",
       "      <td>GOOG</td>\n",
       "      <td>2023-12-28</td>\n",
       "      <td>Thursday</td>\n",
       "      <td>52</td>\n",
       "      <td>12</td>\n",
       "      <td>December</td>\n",
       "      <td>4</td>\n",
       "      <td>141.850</td>\n",
       "      <td>142.2700</td>\n",
       "      <td>140.8283</td>\n",
       "      <td>141.28</td>\n",
       "      <td>12192549</td>\n",
       "      <td>-0.11312217194569894</td>\n",
       "    </tr>\n",
       "    <tr>\n",
       "      <th>698</th>\n",
       "      <td>Alphabet Class C</td>\n",
       "      <td>GOOG</td>\n",
       "      <td>2023-12-27</td>\n",
       "      <td>Wednesday</td>\n",
       "      <td>52</td>\n",
       "      <td>12</td>\n",
       "      <td>December</td>\n",
       "      <td>4</td>\n",
       "      <td>142.830</td>\n",
       "      <td>143.3200</td>\n",
       "      <td>141.0512</td>\n",
       "      <td>141.44</td>\n",
       "      <td>17261305</td>\n",
       "      <td>-0.9662512253185797</td>\n",
       "    </tr>\n",
       "    <tr>\n",
       "      <th>699</th>\n",
       "      <td>Alphabet Class C</td>\n",
       "      <td>GOOG</td>\n",
       "      <td>2023-12-26</td>\n",
       "      <td>Tuesday</td>\n",
       "      <td>52</td>\n",
       "      <td>12</td>\n",
       "      <td>December</td>\n",
       "      <td>4</td>\n",
       "      <td>142.980</td>\n",
       "      <td>143.9450</td>\n",
       "      <td>142.5001</td>\n",
       "      <td>142.82</td>\n",
       "      <td>11170066</td>\n",
       "      <td>-</td>\n",
       "    </tr>\n",
       "  </tbody>\n",
       "</table>\n",
       "<p>100 rows × 14 columns</p>\n",
       "</div>"
      ],
      "text/plain": [
       "         Company_Name Stock_Code         Day    WeekDay  Week  Month  \\\n",
       "600  Alphabet Class C       GOOG  2024-05-17     Friday    20      5   \n",
       "601  Alphabet Class C       GOOG  2024-05-16   Thursday    20      5   \n",
       "602  Alphabet Class C       GOOG  2024-05-15  Wednesday    20      5   \n",
       "603  Alphabet Class C       GOOG  2024-05-14    Tuesday    20      5   \n",
       "604  Alphabet Class C       GOOG  2024-05-13     Monday    20      5   \n",
       "..                ...        ...         ...        ...   ...    ...   \n",
       "695  Alphabet Class C       GOOG  2024-01-02    Tuesday     1      1   \n",
       "696  Alphabet Class C       GOOG  2023-12-29     Friday    52     12   \n",
       "697  Alphabet Class C       GOOG  2023-12-28   Thursday    52     12   \n",
       "698  Alphabet Class C       GOOG  2023-12-27  Wednesday    52     12   \n",
       "699  Alphabet Class C       GOOG  2023-12-26    Tuesday    52     12   \n",
       "\n",
       "    Month_Name  Quarter  Opening_Value  Highest_Value  Lowest_Value  \\\n",
       "600        May        2        175.550       177.4950      174.9800   \n",
       "601        May        2        174.600       176.3400      174.0500   \n",
       "602        May        2        172.300       174.0459      172.0300   \n",
       "603        May        2        171.590       172.7800      170.4200   \n",
       "604        May        2        165.847       170.9500      165.7600   \n",
       "..         ...      ...            ...            ...           ...   \n",
       "695    January        1        139.600       140.6147      137.7400   \n",
       "696   December        4        140.680       141.4350      139.9000   \n",
       "697   December        4        141.850       142.2700      140.8283   \n",
       "698   December        4        142.830       143.3200      141.0512   \n",
       "699   December        4        142.980       143.9450      142.5001   \n",
       "\n",
       "     Closing_Value    Volume Daily_Closing_Variation  \n",
       "600         177.29  16546353      1.0602519523456564  \n",
       "601         175.43  17247311      0.8914193696802458  \n",
       "602         173.88  20958245       1.134182516140283  \n",
       "603         171.93  18729463       0.602691632533646  \n",
       "604         170.90  19648585      0.3582124610957858  \n",
       "..             ...       ...                     ...  \n",
       "695         139.56  20071885     -0.9721138153693354  \n",
       "696         140.93  14880961     -0.2477349943374818  \n",
       "697         141.28  12192549    -0.11312217194569894  \n",
       "698         141.44  17261305     -0.9662512253185797  \n",
       "699         142.82  11170066                       -  \n",
       "\n",
       "[100 rows x 14 columns]"
      ]
     },
     "execution_count": 5,
     "metadata": {},
     "output_type": "execute_result"
    }
   ],
   "source": [
    "test_data[test_data['Stock_Code'] == 'GOOG']"
   ]
  },
  {
   "cell_type": "code",
   "execution_count": 6,
   "metadata": {},
   "outputs": [],
   "source": [
    "acao = 'AAPL'\n",
    "data = '2024-05-17'"
   ]
  },
  {
   "cell_type": "code",
   "execution_count": 7,
   "metadata": {},
   "outputs": [
    {
     "data": {
      "text/plain": [
       "189.51"
      ]
     },
     "execution_count": 7,
     "metadata": {},
     "output_type": "execute_result"
    }
   ],
   "source": [
    "filtered_df = test_data[(test_data['Stock_Code'] == acao) & (test_data['Day'] == data)]\n",
    "filtered_df.iloc[0]['Opening_Value']"
   ]
  },
  {
   "cell_type": "code",
   "execution_count": 8,
   "metadata": {},
   "outputs": [
    {
     "data": {
      "text/plain": [
       "array([ 5,  4,  3,  2,  1, 12])"
      ]
     },
     "execution_count": 8,
     "metadata": {},
     "output_type": "execute_result"
    }
   ],
   "source": [
    "test_data.Month.unique()"
   ]
  },
  {
   "cell_type": "code",
   "execution_count": 9,
   "metadata": {},
   "outputs": [
    {
     "data": {
      "text/plain": [
       "array(['Apple', 'Microsoft', 'Amazon', 'NVIDIA', 'Alphabet Class A',\n",
       "       'Tesla', 'Alphabet Class C', 'Berkshire Hathaway', 'Meta Class A',\n",
       "       'UnitedHealth Group', 'Exxon Mobil', 'Eli Lilly', 'JPMorgan Chase',\n",
       "       'Johnson & Johnson', 'Visa Class A', 'Procter & Gamble',\n",
       "       'Mastercard Class A', 'Broadcom', 'Home Depot',\n",
       "       'Chevron Corporation'], dtype=object)"
      ]
     },
     "execution_count": 9,
     "metadata": {},
     "output_type": "execute_result"
    }
   ],
   "source": [
    "test_data['Company_Name'].unique()"
   ]
  },
  {
   "cell_type": "code",
   "execution_count": 10,
   "metadata": {},
   "outputs": [
    {
     "name": "stdout",
     "output_type": "stream",
     "text": [
      "{'label': 'Apple', 'value': 'AAPL'}\n",
      "{'label': 'Microsoft', 'value': 'MSFT'}\n",
      "{'label': 'Amazon', 'value': 'AMZN'}\n",
      "{'label': 'Nvdia', 'value': 'NVDA'}\n",
      "{'label': 'Google Class A', 'value': 'GOOGL'}\n",
      "{'label': 'Tesla', 'value': 'TSLA'}\n",
      "{'label': 'Google Class B', 'value': 'GOOG'}\n",
      "{'label': 'Berkshire Hathaway', 'value': 'BRK.B'}\n",
      "{'label': 'Meta Class A', 'value': 'META'}\n",
      "{'label': 'UnitedHealth Group', 'value': 'UNH'}\n",
      "{'label': 'Exxon Mobil', 'value': 'XOM'}\n",
      "{'label': 'Eli Lilly', 'value': 'LLY'}\n",
      "{'label': 'JPMorgan Chase', 'value': 'JPM'}\n",
      "{'label': 'Johnson & Johnson', 'value': 'JNJ'}\n",
      "{'label': 'Visa Class A', 'value': 'V'}\n",
      "{'label': 'Procter & Gamble', 'value': 'PG'}\n",
      "{'label': 'Mastercard Class A', 'value': 'MA'}\n",
      "{'label': 'Broadcom', 'value': 'AVGO'}\n",
      "{'label': 'Home Depot', 'value': 'HD'}\n",
      "{'label': 'Chevron Corporation', 'value': 'CVX'}\n"
     ]
    }
   ],
   "source": [
    "selected_columns = {\n",
    "    'AAPL':'Apple', \n",
    "    'MSFT':'Microsoft', \n",
    "    'AMZN':'Amazon', \n",
    "    'NVDA':'Nvdia', \n",
    "    'GOOGL':'Google Class A', \n",
    "    'TSLA':'Tesla', \n",
    "    'GOOG':'Google Class B', \n",
    "    'BRK.B':'Berkshire Hathaway',\n",
    "    'META':'Meta Class A', \n",
    "    'UNH':'UnitedHealth Group', \n",
    "    'XOM':'Exxon Mobil', \n",
    "    'LLY':'Eli Lilly', \n",
    "    'JPM':'JPMorgan Chase', \n",
    "    'JNJ':'Johnson & Johnson', \n",
    "    'V':'Visa Class A', \n",
    "    'PG':'Procter & Gamble', \n",
    "    'MA':'Mastercard Class A', \n",
    "    'AVGO':'Broadcom',\n",
    "    'HD':'Home Depot', \n",
    "    'CVX':'Chevron Corporation'\n",
    "\n",
    "}\n",
    "\n",
    "for i,j in selected_columns.items():\n",
    "    print({'label':j,'value':i})"
   ]
  },
  {
   "cell_type": "code",
   "execution_count": 11,
   "metadata": {},
   "outputs": [
    {
     "data": {
      "text/html": [
       "<div>\n",
       "<style scoped>\n",
       "    .dataframe tbody tr th:only-of-type {\n",
       "        vertical-align: middle;\n",
       "    }\n",
       "\n",
       "    .dataframe tbody tr th {\n",
       "        vertical-align: top;\n",
       "    }\n",
       "\n",
       "    .dataframe thead th {\n",
       "        text-align: right;\n",
       "    }\n",
       "</style>\n",
       "<table border=\"1\" class=\"dataframe\">\n",
       "  <thead>\n",
       "    <tr style=\"text-align: right;\">\n",
       "      <th></th>\n",
       "      <th>Company_Name</th>\n",
       "      <th>Stock_Code</th>\n",
       "      <th>Day</th>\n",
       "      <th>WeekDay</th>\n",
       "      <th>Week</th>\n",
       "      <th>Month</th>\n",
       "      <th>Month_Name</th>\n",
       "      <th>Quarter</th>\n",
       "      <th>Opening_Value</th>\n",
       "      <th>Highest_Value</th>\n",
       "      <th>Lowest_Value</th>\n",
       "      <th>Closing_Value</th>\n",
       "      <th>Volume</th>\n",
       "      <th>Daily_Closing_Variation</th>\n",
       "    </tr>\n",
       "  </thead>\n",
       "  <tbody>\n",
       "    <tr>\n",
       "      <th>200</th>\n",
       "      <td>Amazon</td>\n",
       "      <td>AMZN</td>\n",
       "      <td>2024-05-17</td>\n",
       "      <td>Friday</td>\n",
       "      <td>20</td>\n",
       "      <td>5</td>\n",
       "      <td>May</td>\n",
       "      <td>2</td>\n",
       "      <td>183.76</td>\n",
       "      <td>185.3000</td>\n",
       "      <td>183.35</td>\n",
       "      <td>184.70</td>\n",
       "      <td>33175655</td>\n",
       "      <td>0.5826934596743415</td>\n",
       "    </tr>\n",
       "    <tr>\n",
       "      <th>201</th>\n",
       "      <td>Amazon</td>\n",
       "      <td>AMZN</td>\n",
       "      <td>2024-05-16</td>\n",
       "      <td>Thursday</td>\n",
       "      <td>20</td>\n",
       "      <td>5</td>\n",
       "      <td>May</td>\n",
       "      <td>2</td>\n",
       "      <td>185.60</td>\n",
       "      <td>187.3100</td>\n",
       "      <td>183.46</td>\n",
       "      <td>183.63</td>\n",
       "      <td>38834450</td>\n",
       "      <td>-1.2688854239475313</td>\n",
       "    </tr>\n",
       "    <tr>\n",
       "      <th>202</th>\n",
       "      <td>Amazon</td>\n",
       "      <td>AMZN</td>\n",
       "      <td>2024-05-15</td>\n",
       "      <td>Wednesday</td>\n",
       "      <td>20</td>\n",
       "      <td>5</td>\n",
       "      <td>May</td>\n",
       "      <td>2</td>\n",
       "      <td>185.97</td>\n",
       "      <td>186.7193</td>\n",
       "      <td>182.73</td>\n",
       "      <td>185.99</td>\n",
       "      <td>75459927</td>\n",
       "      <td>-0.5773239963649885</td>\n",
       "    </tr>\n",
       "    <tr>\n",
       "      <th>203</th>\n",
       "      <td>Amazon</td>\n",
       "      <td>AMZN</td>\n",
       "      <td>2024-05-14</td>\n",
       "      <td>Tuesday</td>\n",
       "      <td>20</td>\n",
       "      <td>5</td>\n",
       "      <td>May</td>\n",
       "      <td>2</td>\n",
       "      <td>183.82</td>\n",
       "      <td>187.7200</td>\n",
       "      <td>183.45</td>\n",
       "      <td>187.07</td>\n",
       "      <td>38698155</td>\n",
       "      <td>0.2679959264619178</td>\n",
       "    </tr>\n",
       "    <tr>\n",
       "      <th>204</th>\n",
       "      <td>Amazon</td>\n",
       "      <td>AMZN</td>\n",
       "      <td>2024-05-13</td>\n",
       "      <td>Monday</td>\n",
       "      <td>20</td>\n",
       "      <td>5</td>\n",
       "      <td>May</td>\n",
       "      <td>2</td>\n",
       "      <td>188.00</td>\n",
       "      <td>188.3100</td>\n",
       "      <td>185.36</td>\n",
       "      <td>186.57</td>\n",
       "      <td>24898613</td>\n",
       "      <td>-0.48538510774482435</td>\n",
       "    </tr>\n",
       "  </tbody>\n",
       "</table>\n",
       "</div>"
      ],
      "text/plain": [
       "    Company_Name Stock_Code         Day    WeekDay  Week  Month Month_Name  \\\n",
       "200       Amazon       AMZN  2024-05-17     Friday    20      5        May   \n",
       "201       Amazon       AMZN  2024-05-16   Thursday    20      5        May   \n",
       "202       Amazon       AMZN  2024-05-15  Wednesday    20      5        May   \n",
       "203       Amazon       AMZN  2024-05-14    Tuesday    20      5        May   \n",
       "204       Amazon       AMZN  2024-05-13     Monday    20      5        May   \n",
       "\n",
       "     Quarter  Opening_Value  Highest_Value  Lowest_Value  Closing_Value  \\\n",
       "200        2         183.76       185.3000        183.35         184.70   \n",
       "201        2         185.60       187.3100        183.46         183.63   \n",
       "202        2         185.97       186.7193        182.73         185.99   \n",
       "203        2         183.82       187.7200        183.45         187.07   \n",
       "204        2         188.00       188.3100        185.36         186.57   \n",
       "\n",
       "       Volume Daily_Closing_Variation  \n",
       "200  33175655      0.5826934596743415  \n",
       "201  38834450     -1.2688854239475313  \n",
       "202  75459927     -0.5773239963649885  \n",
       "203  38698155      0.2679959264619178  \n",
       "204  24898613    -0.48538510774482435  "
      ]
     },
     "execution_count": 11,
     "metadata": {},
     "output_type": "execute_result"
    }
   ],
   "source": [
    "test_data[(test_data['Stock_Code'] == 'AMZN') & (test_data['Week'] == 20)]"
   ]
  },
  {
   "cell_type": "code",
   "execution_count": 35,
   "metadata": {},
   "outputs": [
    {
     "data": {
      "text/plain": [
       "Index(['Opening_Value', 'Highest_Value', 'Lowest_Value', 'Closing_Value'], dtype='object')"
      ]
     },
     "execution_count": 35,
     "metadata": {},
     "output_type": "execute_result"
    }
   ],
   "source": [
    "df_boxplot.columns[8:12]"
   ]
  },
  {
   "cell_type": "code",
   "execution_count": 67,
   "metadata": {},
   "outputs": [
    {
     "data": {
      "application/vnd.plotly.v1+json": {
       "config": {
        "plotlyServerURL": "https://plot.ly"
       },
       "data": [
        {
         "boxmean": true,
         "name": "Opening_Value",
         "type": "box",
         "y": [
          193.9,
          194.14,
          192.49,
          193.61
         ]
        },
        {
         "boxmean": true,
         "name": "Highest_Value",
         "type": "box",
         "y": [
          194.4,
          194.66,
          193.5,
          193.89
         ]
        },
        {
         "boxmean": true,
         "name": "Lowest_Value",
         "type": "box",
         "y": [
          191.725,
          193.17,
          191.09,
          192.83
         ]
        },
        {
         "boxmean": true,
         "name": "Closing_Value",
         "type": "box",
         "y": [
          192.53,
          193.58,
          193.15,
          193.05
         ]
        }
       ],
       "layout": {
        "template": {
         "data": {
          "bar": [
           {
            "error_x": {
             "color": "#2a3f5f"
            },
            "error_y": {
             "color": "#2a3f5f"
            },
            "marker": {
             "line": {
              "color": "#E5ECF6",
              "width": 0.5
             },
             "pattern": {
              "fillmode": "overlay",
              "size": 10,
              "solidity": 0.2
             }
            },
            "type": "bar"
           }
          ],
          "barpolar": [
           {
            "marker": {
             "line": {
              "color": "#E5ECF6",
              "width": 0.5
             },
             "pattern": {
              "fillmode": "overlay",
              "size": 10,
              "solidity": 0.2
             }
            },
            "type": "barpolar"
           }
          ],
          "carpet": [
           {
            "aaxis": {
             "endlinecolor": "#2a3f5f",
             "gridcolor": "white",
             "linecolor": "white",
             "minorgridcolor": "white",
             "startlinecolor": "#2a3f5f"
            },
            "baxis": {
             "endlinecolor": "#2a3f5f",
             "gridcolor": "white",
             "linecolor": "white",
             "minorgridcolor": "white",
             "startlinecolor": "#2a3f5f"
            },
            "type": "carpet"
           }
          ],
          "choropleth": [
           {
            "colorbar": {
             "outlinewidth": 0,
             "ticks": ""
            },
            "type": "choropleth"
           }
          ],
          "contour": [
           {
            "colorbar": {
             "outlinewidth": 0,
             "ticks": ""
            },
            "colorscale": [
             [
              0,
              "#0d0887"
             ],
             [
              0.1111111111111111,
              "#46039f"
             ],
             [
              0.2222222222222222,
              "#7201a8"
             ],
             [
              0.3333333333333333,
              "#9c179e"
             ],
             [
              0.4444444444444444,
              "#bd3786"
             ],
             [
              0.5555555555555556,
              "#d8576b"
             ],
             [
              0.6666666666666666,
              "#ed7953"
             ],
             [
              0.7777777777777778,
              "#fb9f3a"
             ],
             [
              0.8888888888888888,
              "#fdca26"
             ],
             [
              1,
              "#f0f921"
             ]
            ],
            "type": "contour"
           }
          ],
          "contourcarpet": [
           {
            "colorbar": {
             "outlinewidth": 0,
             "ticks": ""
            },
            "type": "contourcarpet"
           }
          ],
          "heatmap": [
           {
            "colorbar": {
             "outlinewidth": 0,
             "ticks": ""
            },
            "colorscale": [
             [
              0,
              "#0d0887"
             ],
             [
              0.1111111111111111,
              "#46039f"
             ],
             [
              0.2222222222222222,
              "#7201a8"
             ],
             [
              0.3333333333333333,
              "#9c179e"
             ],
             [
              0.4444444444444444,
              "#bd3786"
             ],
             [
              0.5555555555555556,
              "#d8576b"
             ],
             [
              0.6666666666666666,
              "#ed7953"
             ],
             [
              0.7777777777777778,
              "#fb9f3a"
             ],
             [
              0.8888888888888888,
              "#fdca26"
             ],
             [
              1,
              "#f0f921"
             ]
            ],
            "type": "heatmap"
           }
          ],
          "heatmapgl": [
           {
            "colorbar": {
             "outlinewidth": 0,
             "ticks": ""
            },
            "colorscale": [
             [
              0,
              "#0d0887"
             ],
             [
              0.1111111111111111,
              "#46039f"
             ],
             [
              0.2222222222222222,
              "#7201a8"
             ],
             [
              0.3333333333333333,
              "#9c179e"
             ],
             [
              0.4444444444444444,
              "#bd3786"
             ],
             [
              0.5555555555555556,
              "#d8576b"
             ],
             [
              0.6666666666666666,
              "#ed7953"
             ],
             [
              0.7777777777777778,
              "#fb9f3a"
             ],
             [
              0.8888888888888888,
              "#fdca26"
             ],
             [
              1,
              "#f0f921"
             ]
            ],
            "type": "heatmapgl"
           }
          ],
          "histogram": [
           {
            "marker": {
             "pattern": {
              "fillmode": "overlay",
              "size": 10,
              "solidity": 0.2
             }
            },
            "type": "histogram"
           }
          ],
          "histogram2d": [
           {
            "colorbar": {
             "outlinewidth": 0,
             "ticks": ""
            },
            "colorscale": [
             [
              0,
              "#0d0887"
             ],
             [
              0.1111111111111111,
              "#46039f"
             ],
             [
              0.2222222222222222,
              "#7201a8"
             ],
             [
              0.3333333333333333,
              "#9c179e"
             ],
             [
              0.4444444444444444,
              "#bd3786"
             ],
             [
              0.5555555555555556,
              "#d8576b"
             ],
             [
              0.6666666666666666,
              "#ed7953"
             ],
             [
              0.7777777777777778,
              "#fb9f3a"
             ],
             [
              0.8888888888888888,
              "#fdca26"
             ],
             [
              1,
              "#f0f921"
             ]
            ],
            "type": "histogram2d"
           }
          ],
          "histogram2dcontour": [
           {
            "colorbar": {
             "outlinewidth": 0,
             "ticks": ""
            },
            "colorscale": [
             [
              0,
              "#0d0887"
             ],
             [
              0.1111111111111111,
              "#46039f"
             ],
             [
              0.2222222222222222,
              "#7201a8"
             ],
             [
              0.3333333333333333,
              "#9c179e"
             ],
             [
              0.4444444444444444,
              "#bd3786"
             ],
             [
              0.5555555555555556,
              "#d8576b"
             ],
             [
              0.6666666666666666,
              "#ed7953"
             ],
             [
              0.7777777777777778,
              "#fb9f3a"
             ],
             [
              0.8888888888888888,
              "#fdca26"
             ],
             [
              1,
              "#f0f921"
             ]
            ],
            "type": "histogram2dcontour"
           }
          ],
          "mesh3d": [
           {
            "colorbar": {
             "outlinewidth": 0,
             "ticks": ""
            },
            "type": "mesh3d"
           }
          ],
          "parcoords": [
           {
            "line": {
             "colorbar": {
              "outlinewidth": 0,
              "ticks": ""
             }
            },
            "type": "parcoords"
           }
          ],
          "pie": [
           {
            "automargin": true,
            "type": "pie"
           }
          ],
          "scatter": [
           {
            "marker": {
             "colorbar": {
              "outlinewidth": 0,
              "ticks": ""
             }
            },
            "type": "scatter"
           }
          ],
          "scatter3d": [
           {
            "line": {
             "colorbar": {
              "outlinewidth": 0,
              "ticks": ""
             }
            },
            "marker": {
             "colorbar": {
              "outlinewidth": 0,
              "ticks": ""
             }
            },
            "type": "scatter3d"
           }
          ],
          "scattercarpet": [
           {
            "marker": {
             "colorbar": {
              "outlinewidth": 0,
              "ticks": ""
             }
            },
            "type": "scattercarpet"
           }
          ],
          "scattergeo": [
           {
            "marker": {
             "colorbar": {
              "outlinewidth": 0,
              "ticks": ""
             }
            },
            "type": "scattergeo"
           }
          ],
          "scattergl": [
           {
            "marker": {
             "colorbar": {
              "outlinewidth": 0,
              "ticks": ""
             }
            },
            "type": "scattergl"
           }
          ],
          "scattermapbox": [
           {
            "marker": {
             "colorbar": {
              "outlinewidth": 0,
              "ticks": ""
             }
            },
            "type": "scattermapbox"
           }
          ],
          "scatterpolar": [
           {
            "marker": {
             "colorbar": {
              "outlinewidth": 0,
              "ticks": ""
             }
            },
            "type": "scatterpolar"
           }
          ],
          "scatterpolargl": [
           {
            "marker": {
             "colorbar": {
              "outlinewidth": 0,
              "ticks": ""
             }
            },
            "type": "scatterpolargl"
           }
          ],
          "scatterternary": [
           {
            "marker": {
             "colorbar": {
              "outlinewidth": 0,
              "ticks": ""
             }
            },
            "type": "scatterternary"
           }
          ],
          "surface": [
           {
            "colorbar": {
             "outlinewidth": 0,
             "ticks": ""
            },
            "colorscale": [
             [
              0,
              "#0d0887"
             ],
             [
              0.1111111111111111,
              "#46039f"
             ],
             [
              0.2222222222222222,
              "#7201a8"
             ],
             [
              0.3333333333333333,
              "#9c179e"
             ],
             [
              0.4444444444444444,
              "#bd3786"
             ],
             [
              0.5555555555555556,
              "#d8576b"
             ],
             [
              0.6666666666666666,
              "#ed7953"
             ],
             [
              0.7777777777777778,
              "#fb9f3a"
             ],
             [
              0.8888888888888888,
              "#fdca26"
             ],
             [
              1,
              "#f0f921"
             ]
            ],
            "type": "surface"
           }
          ],
          "table": [
           {
            "cells": {
             "fill": {
              "color": "#EBF0F8"
             },
             "line": {
              "color": "white"
             }
            },
            "header": {
             "fill": {
              "color": "#C8D4E3"
             },
             "line": {
              "color": "white"
             }
            },
            "type": "table"
           }
          ]
         },
         "layout": {
          "annotationdefaults": {
           "arrowcolor": "#2a3f5f",
           "arrowhead": 0,
           "arrowwidth": 1
          },
          "autotypenumbers": "strict",
          "coloraxis": {
           "colorbar": {
            "outlinewidth": 0,
            "ticks": ""
           }
          },
          "colorscale": {
           "diverging": [
            [
             0,
             "#8e0152"
            ],
            [
             0.1,
             "#c51b7d"
            ],
            [
             0.2,
             "#de77ae"
            ],
            [
             0.3,
             "#f1b6da"
            ],
            [
             0.4,
             "#fde0ef"
            ],
            [
             0.5,
             "#f7f7f7"
            ],
            [
             0.6,
             "#e6f5d0"
            ],
            [
             0.7,
             "#b8e186"
            ],
            [
             0.8,
             "#7fbc41"
            ],
            [
             0.9,
             "#4d9221"
            ],
            [
             1,
             "#276419"
            ]
           ],
           "sequential": [
            [
             0,
             "#0d0887"
            ],
            [
             0.1111111111111111,
             "#46039f"
            ],
            [
             0.2222222222222222,
             "#7201a8"
            ],
            [
             0.3333333333333333,
             "#9c179e"
            ],
            [
             0.4444444444444444,
             "#bd3786"
            ],
            [
             0.5555555555555556,
             "#d8576b"
            ],
            [
             0.6666666666666666,
             "#ed7953"
            ],
            [
             0.7777777777777778,
             "#fb9f3a"
            ],
            [
             0.8888888888888888,
             "#fdca26"
            ],
            [
             1,
             "#f0f921"
            ]
           ],
           "sequentialminus": [
            [
             0,
             "#0d0887"
            ],
            [
             0.1111111111111111,
             "#46039f"
            ],
            [
             0.2222222222222222,
             "#7201a8"
            ],
            [
             0.3333333333333333,
             "#9c179e"
            ],
            [
             0.4444444444444444,
             "#bd3786"
            ],
            [
             0.5555555555555556,
             "#d8576b"
            ],
            [
             0.6666666666666666,
             "#ed7953"
            ],
            [
             0.7777777777777778,
             "#fb9f3a"
            ],
            [
             0.8888888888888888,
             "#fdca26"
            ],
            [
             1,
             "#f0f921"
            ]
           ]
          },
          "colorway": [
           "#636efa",
           "#EF553B",
           "#00cc96",
           "#ab63fa",
           "#FFA15A",
           "#19d3f3",
           "#FF6692",
           "#B6E880",
           "#FF97FF",
           "#FECB52"
          ],
          "font": {
           "color": "#2a3f5f"
          },
          "geo": {
           "bgcolor": "white",
           "lakecolor": "white",
           "landcolor": "#E5ECF6",
           "showlakes": true,
           "showland": true,
           "subunitcolor": "white"
          },
          "hoverlabel": {
           "align": "left"
          },
          "hovermode": "closest",
          "mapbox": {
           "style": "light"
          },
          "paper_bgcolor": "white",
          "plot_bgcolor": "#E5ECF6",
          "polar": {
           "angularaxis": {
            "gridcolor": "white",
            "linecolor": "white",
            "ticks": ""
           },
           "bgcolor": "#E5ECF6",
           "radialaxis": {
            "gridcolor": "white",
            "linecolor": "white",
            "ticks": ""
           }
          },
          "scene": {
           "xaxis": {
            "backgroundcolor": "#E5ECF6",
            "gridcolor": "white",
            "gridwidth": 2,
            "linecolor": "white",
            "showbackground": true,
            "ticks": "",
            "zerolinecolor": "white"
           },
           "yaxis": {
            "backgroundcolor": "#E5ECF6",
            "gridcolor": "white",
            "gridwidth": 2,
            "linecolor": "white",
            "showbackground": true,
            "ticks": "",
            "zerolinecolor": "white"
           },
           "zaxis": {
            "backgroundcolor": "#E5ECF6",
            "gridcolor": "white",
            "gridwidth": 2,
            "linecolor": "white",
            "showbackground": true,
            "ticks": "",
            "zerolinecolor": "white"
           }
          },
          "shapedefaults": {
           "line": {
            "color": "#2a3f5f"
           }
          },
          "ternary": {
           "aaxis": {
            "gridcolor": "white",
            "linecolor": "white",
            "ticks": ""
           },
           "baxis": {
            "gridcolor": "white",
            "linecolor": "white",
            "ticks": ""
           },
           "bgcolor": "#E5ECF6",
           "caxis": {
            "gridcolor": "white",
            "linecolor": "white",
            "ticks": ""
           }
          },
          "title": {
           "x": 0.05
          },
          "xaxis": {
           "automargin": true,
           "gridcolor": "white",
           "linecolor": "white",
           "ticks": "",
           "title": {
            "standoff": 15
           },
           "zerolinecolor": "white",
           "zerolinewidth": 2
          },
          "yaxis": {
           "automargin": true,
           "gridcolor": "white",
           "linecolor": "white",
           "ticks": "",
           "title": {
            "standoff": 15
           },
           "zerolinecolor": "white",
           "zerolinewidth": 2
          }
         }
        }
       }
      }
     },
     "metadata": {},
     "output_type": "display_data"
    }
   ],
   "source": [
    "df_boxplot = test_data[(test_data['Company_Name'] == 'Apple') & (test_data['Year'] == '2023')]\n",
    "\n",
    "#Boxplot with the selected company\n",
    "fig2 = go.Figure()\n",
    "\n",
    "\n",
    "for metric in df_boxplot.columns[8:12]:\n",
    "        fig2.add_trace(go.Box(\n",
    "            y=df_boxplot[metric],\n",
    "            name=metric,\n",
    "            boxmean=True  # Adiciona uma linha para a média\n",
    "        ))\n",
    "\n",
    "fig2"
   ]
  },
  {
   "cell_type": "code",
   "execution_count": 10,
   "metadata": {},
   "outputs": [],
   "source": [
    "apple_box = test_data[(test_data['Stock_Code'] == 'AAPL') & (test_data['Month_Name'] == 'May')]"
   ]
  },
  {
   "cell_type": "code",
   "execution_count": 9,
   "metadata": {},
   "outputs": [
    {
     "data": {
      "application/vnd.plotly.v1+json": {
       "config": {
        "plotlyServerURL": "https://plot.ly"
       },
       "data": [
        {
         "alignmentgroup": "True",
         "hovertemplate": "x=%{x}<extra></extra>",
         "legendgroup": "",
         "marker": {
          "color": "#636efa"
         },
         "name": "",
         "notched": false,
         "offsetgroup": "",
         "orientation": "h",
         "showlegend": false,
         "type": "box",
         "x": [
          190.81,
          191.095,
          190.65,
          188.3,
          187.1,
          185.09,
          184.66,
          183.07,
          184.9,
          184.2,
          187,
          173.415,
          172.705,
          174.99,
          176.03,
          171.34,
          170.61,
          169.3,
          167.05,
          167.26,
          166.4,
          168.64,
          170.65,
          173.76,
          176.63,
          178.36,
          175.46,
          169.09,
          170.08,
          169.2,
          170.39,
          171.92,
          170.68,
          169.34,
          171.25,
          172.23,
          173.6,
          171.42,
          171.94,
          173.05,
          177.49,
          178.67,
          176.605,
          177.71,
          172.62,
          174.3078,
          173.185,
          174.03,
          174.38,
          173.7,
          170.73,
          171.24,
          172.04,
          176.9,
          180.53,
          182.57,
          183.12,
          183.9225,
          182.76,
          185.04,
          184.955,
          182.8888,
          182.43,
          184.85,
          184.49,
          185.53,
          186.21,
          188.67,
          189.99,
          189.535,
          191.05,
          189.31,
          189.25,
          187.33,
          186.95,
          187.095,
          191.8,
          192.2,
          194.76,
          196.2675,
          196.38,
          195.75,
          195.33,
          191.95,
          189.14,
          182.93,
          184.26,
          186.74,
          187.05,
          186.4,
          185.15,
          185.6,
          182.76,
          183.0872,
          185.88,
          188.44,
          194.4,
          194.66,
          193.5,
          193.89
         ],
         "x0": " ",
         "xaxis": "x",
         "y0": " ",
         "yaxis": "y"
        }
       ],
       "layout": {
        "boxmode": "group",
        "legend": {
         "tracegroupgap": 0
        },
        "margin": {
         "t": 60
        },
        "template": {
         "data": {
          "bar": [
           {
            "error_x": {
             "color": "#2a3f5f"
            },
            "error_y": {
             "color": "#2a3f5f"
            },
            "marker": {
             "line": {
              "color": "#E5ECF6",
              "width": 0.5
             },
             "pattern": {
              "fillmode": "overlay",
              "size": 10,
              "solidity": 0.2
             }
            },
            "type": "bar"
           }
          ],
          "barpolar": [
           {
            "marker": {
             "line": {
              "color": "#E5ECF6",
              "width": 0.5
             },
             "pattern": {
              "fillmode": "overlay",
              "size": 10,
              "solidity": 0.2
             }
            },
            "type": "barpolar"
           }
          ],
          "carpet": [
           {
            "aaxis": {
             "endlinecolor": "#2a3f5f",
             "gridcolor": "white",
             "linecolor": "white",
             "minorgridcolor": "white",
             "startlinecolor": "#2a3f5f"
            },
            "baxis": {
             "endlinecolor": "#2a3f5f",
             "gridcolor": "white",
             "linecolor": "white",
             "minorgridcolor": "white",
             "startlinecolor": "#2a3f5f"
            },
            "type": "carpet"
           }
          ],
          "choropleth": [
           {
            "colorbar": {
             "outlinewidth": 0,
             "ticks": ""
            },
            "type": "choropleth"
           }
          ],
          "contour": [
           {
            "colorbar": {
             "outlinewidth": 0,
             "ticks": ""
            },
            "colorscale": [
             [
              0,
              "#0d0887"
             ],
             [
              0.1111111111111111,
              "#46039f"
             ],
             [
              0.2222222222222222,
              "#7201a8"
             ],
             [
              0.3333333333333333,
              "#9c179e"
             ],
             [
              0.4444444444444444,
              "#bd3786"
             ],
             [
              0.5555555555555556,
              "#d8576b"
             ],
             [
              0.6666666666666666,
              "#ed7953"
             ],
             [
              0.7777777777777778,
              "#fb9f3a"
             ],
             [
              0.8888888888888888,
              "#fdca26"
             ],
             [
              1,
              "#f0f921"
             ]
            ],
            "type": "contour"
           }
          ],
          "contourcarpet": [
           {
            "colorbar": {
             "outlinewidth": 0,
             "ticks": ""
            },
            "type": "contourcarpet"
           }
          ],
          "heatmap": [
           {
            "colorbar": {
             "outlinewidth": 0,
             "ticks": ""
            },
            "colorscale": [
             [
              0,
              "#0d0887"
             ],
             [
              0.1111111111111111,
              "#46039f"
             ],
             [
              0.2222222222222222,
              "#7201a8"
             ],
             [
              0.3333333333333333,
              "#9c179e"
             ],
             [
              0.4444444444444444,
              "#bd3786"
             ],
             [
              0.5555555555555556,
              "#d8576b"
             ],
             [
              0.6666666666666666,
              "#ed7953"
             ],
             [
              0.7777777777777778,
              "#fb9f3a"
             ],
             [
              0.8888888888888888,
              "#fdca26"
             ],
             [
              1,
              "#f0f921"
             ]
            ],
            "type": "heatmap"
           }
          ],
          "heatmapgl": [
           {
            "colorbar": {
             "outlinewidth": 0,
             "ticks": ""
            },
            "colorscale": [
             [
              0,
              "#0d0887"
             ],
             [
              0.1111111111111111,
              "#46039f"
             ],
             [
              0.2222222222222222,
              "#7201a8"
             ],
             [
              0.3333333333333333,
              "#9c179e"
             ],
             [
              0.4444444444444444,
              "#bd3786"
             ],
             [
              0.5555555555555556,
              "#d8576b"
             ],
             [
              0.6666666666666666,
              "#ed7953"
             ],
             [
              0.7777777777777778,
              "#fb9f3a"
             ],
             [
              0.8888888888888888,
              "#fdca26"
             ],
             [
              1,
              "#f0f921"
             ]
            ],
            "type": "heatmapgl"
           }
          ],
          "histogram": [
           {
            "marker": {
             "pattern": {
              "fillmode": "overlay",
              "size": 10,
              "solidity": 0.2
             }
            },
            "type": "histogram"
           }
          ],
          "histogram2d": [
           {
            "colorbar": {
             "outlinewidth": 0,
             "ticks": ""
            },
            "colorscale": [
             [
              0,
              "#0d0887"
             ],
             [
              0.1111111111111111,
              "#46039f"
             ],
             [
              0.2222222222222222,
              "#7201a8"
             ],
             [
              0.3333333333333333,
              "#9c179e"
             ],
             [
              0.4444444444444444,
              "#bd3786"
             ],
             [
              0.5555555555555556,
              "#d8576b"
             ],
             [
              0.6666666666666666,
              "#ed7953"
             ],
             [
              0.7777777777777778,
              "#fb9f3a"
             ],
             [
              0.8888888888888888,
              "#fdca26"
             ],
             [
              1,
              "#f0f921"
             ]
            ],
            "type": "histogram2d"
           }
          ],
          "histogram2dcontour": [
           {
            "colorbar": {
             "outlinewidth": 0,
             "ticks": ""
            },
            "colorscale": [
             [
              0,
              "#0d0887"
             ],
             [
              0.1111111111111111,
              "#46039f"
             ],
             [
              0.2222222222222222,
              "#7201a8"
             ],
             [
              0.3333333333333333,
              "#9c179e"
             ],
             [
              0.4444444444444444,
              "#bd3786"
             ],
             [
              0.5555555555555556,
              "#d8576b"
             ],
             [
              0.6666666666666666,
              "#ed7953"
             ],
             [
              0.7777777777777778,
              "#fb9f3a"
             ],
             [
              0.8888888888888888,
              "#fdca26"
             ],
             [
              1,
              "#f0f921"
             ]
            ],
            "type": "histogram2dcontour"
           }
          ],
          "mesh3d": [
           {
            "colorbar": {
             "outlinewidth": 0,
             "ticks": ""
            },
            "type": "mesh3d"
           }
          ],
          "parcoords": [
           {
            "line": {
             "colorbar": {
              "outlinewidth": 0,
              "ticks": ""
             }
            },
            "type": "parcoords"
           }
          ],
          "pie": [
           {
            "automargin": true,
            "type": "pie"
           }
          ],
          "scatter": [
           {
            "marker": {
             "colorbar": {
              "outlinewidth": 0,
              "ticks": ""
             }
            },
            "type": "scatter"
           }
          ],
          "scatter3d": [
           {
            "line": {
             "colorbar": {
              "outlinewidth": 0,
              "ticks": ""
             }
            },
            "marker": {
             "colorbar": {
              "outlinewidth": 0,
              "ticks": ""
             }
            },
            "type": "scatter3d"
           }
          ],
          "scattercarpet": [
           {
            "marker": {
             "colorbar": {
              "outlinewidth": 0,
              "ticks": ""
             }
            },
            "type": "scattercarpet"
           }
          ],
          "scattergeo": [
           {
            "marker": {
             "colorbar": {
              "outlinewidth": 0,
              "ticks": ""
             }
            },
            "type": "scattergeo"
           }
          ],
          "scattergl": [
           {
            "marker": {
             "colorbar": {
              "outlinewidth": 0,
              "ticks": ""
             }
            },
            "type": "scattergl"
           }
          ],
          "scattermapbox": [
           {
            "marker": {
             "colorbar": {
              "outlinewidth": 0,
              "ticks": ""
             }
            },
            "type": "scattermapbox"
           }
          ],
          "scatterpolar": [
           {
            "marker": {
             "colorbar": {
              "outlinewidth": 0,
              "ticks": ""
             }
            },
            "type": "scatterpolar"
           }
          ],
          "scatterpolargl": [
           {
            "marker": {
             "colorbar": {
              "outlinewidth": 0,
              "ticks": ""
             }
            },
            "type": "scatterpolargl"
           }
          ],
          "scatterternary": [
           {
            "marker": {
             "colorbar": {
              "outlinewidth": 0,
              "ticks": ""
             }
            },
            "type": "scatterternary"
           }
          ],
          "surface": [
           {
            "colorbar": {
             "outlinewidth": 0,
             "ticks": ""
            },
            "colorscale": [
             [
              0,
              "#0d0887"
             ],
             [
              0.1111111111111111,
              "#46039f"
             ],
             [
              0.2222222222222222,
              "#7201a8"
             ],
             [
              0.3333333333333333,
              "#9c179e"
             ],
             [
              0.4444444444444444,
              "#bd3786"
             ],
             [
              0.5555555555555556,
              "#d8576b"
             ],
             [
              0.6666666666666666,
              "#ed7953"
             ],
             [
              0.7777777777777778,
              "#fb9f3a"
             ],
             [
              0.8888888888888888,
              "#fdca26"
             ],
             [
              1,
              "#f0f921"
             ]
            ],
            "type": "surface"
           }
          ],
          "table": [
           {
            "cells": {
             "fill": {
              "color": "#EBF0F8"
             },
             "line": {
              "color": "white"
             }
            },
            "header": {
             "fill": {
              "color": "#C8D4E3"
             },
             "line": {
              "color": "white"
             }
            },
            "type": "table"
           }
          ]
         },
         "layout": {
          "annotationdefaults": {
           "arrowcolor": "#2a3f5f",
           "arrowhead": 0,
           "arrowwidth": 1
          },
          "autotypenumbers": "strict",
          "coloraxis": {
           "colorbar": {
            "outlinewidth": 0,
            "ticks": ""
           }
          },
          "colorscale": {
           "diverging": [
            [
             0,
             "#8e0152"
            ],
            [
             0.1,
             "#c51b7d"
            ],
            [
             0.2,
             "#de77ae"
            ],
            [
             0.3,
             "#f1b6da"
            ],
            [
             0.4,
             "#fde0ef"
            ],
            [
             0.5,
             "#f7f7f7"
            ],
            [
             0.6,
             "#e6f5d0"
            ],
            [
             0.7,
             "#b8e186"
            ],
            [
             0.8,
             "#7fbc41"
            ],
            [
             0.9,
             "#4d9221"
            ],
            [
             1,
             "#276419"
            ]
           ],
           "sequential": [
            [
             0,
             "#0d0887"
            ],
            [
             0.1111111111111111,
             "#46039f"
            ],
            [
             0.2222222222222222,
             "#7201a8"
            ],
            [
             0.3333333333333333,
             "#9c179e"
            ],
            [
             0.4444444444444444,
             "#bd3786"
            ],
            [
             0.5555555555555556,
             "#d8576b"
            ],
            [
             0.6666666666666666,
             "#ed7953"
            ],
            [
             0.7777777777777778,
             "#fb9f3a"
            ],
            [
             0.8888888888888888,
             "#fdca26"
            ],
            [
             1,
             "#f0f921"
            ]
           ],
           "sequentialminus": [
            [
             0,
             "#0d0887"
            ],
            [
             0.1111111111111111,
             "#46039f"
            ],
            [
             0.2222222222222222,
             "#7201a8"
            ],
            [
             0.3333333333333333,
             "#9c179e"
            ],
            [
             0.4444444444444444,
             "#bd3786"
            ],
            [
             0.5555555555555556,
             "#d8576b"
            ],
            [
             0.6666666666666666,
             "#ed7953"
            ],
            [
             0.7777777777777778,
             "#fb9f3a"
            ],
            [
             0.8888888888888888,
             "#fdca26"
            ],
            [
             1,
             "#f0f921"
            ]
           ]
          },
          "colorway": [
           "#636efa",
           "#EF553B",
           "#00cc96",
           "#ab63fa",
           "#FFA15A",
           "#19d3f3",
           "#FF6692",
           "#B6E880",
           "#FF97FF",
           "#FECB52"
          ],
          "font": {
           "color": "#2a3f5f"
          },
          "geo": {
           "bgcolor": "white",
           "lakecolor": "white",
           "landcolor": "#E5ECF6",
           "showlakes": true,
           "showland": true,
           "subunitcolor": "white"
          },
          "hoverlabel": {
           "align": "left"
          },
          "hovermode": "closest",
          "mapbox": {
           "style": "light"
          },
          "paper_bgcolor": "white",
          "plot_bgcolor": "#E5ECF6",
          "polar": {
           "angularaxis": {
            "gridcolor": "white",
            "linecolor": "white",
            "ticks": ""
           },
           "bgcolor": "#E5ECF6",
           "radialaxis": {
            "gridcolor": "white",
            "linecolor": "white",
            "ticks": ""
           }
          },
          "scene": {
           "xaxis": {
            "backgroundcolor": "#E5ECF6",
            "gridcolor": "white",
            "gridwidth": 2,
            "linecolor": "white",
            "showbackground": true,
            "ticks": "",
            "zerolinecolor": "white"
           },
           "yaxis": {
            "backgroundcolor": "#E5ECF6",
            "gridcolor": "white",
            "gridwidth": 2,
            "linecolor": "white",
            "showbackground": true,
            "ticks": "",
            "zerolinecolor": "white"
           },
           "zaxis": {
            "backgroundcolor": "#E5ECF6",
            "gridcolor": "white",
            "gridwidth": 2,
            "linecolor": "white",
            "showbackground": true,
            "ticks": "",
            "zerolinecolor": "white"
           }
          },
          "shapedefaults": {
           "line": {
            "color": "#2a3f5f"
           }
          },
          "ternary": {
           "aaxis": {
            "gridcolor": "white",
            "linecolor": "white",
            "ticks": ""
           },
           "baxis": {
            "gridcolor": "white",
            "linecolor": "white",
            "ticks": ""
           },
           "bgcolor": "#E5ECF6",
           "caxis": {
            "gridcolor": "white",
            "linecolor": "white",
            "ticks": ""
           }
          },
          "title": {
           "x": 0.05
          },
          "xaxis": {
           "automargin": true,
           "gridcolor": "white",
           "linecolor": "white",
           "ticks": "",
           "title": {
            "standoff": 15
           },
           "zerolinecolor": "white",
           "zerolinewidth": 2
          },
          "yaxis": {
           "automargin": true,
           "gridcolor": "white",
           "linecolor": "white",
           "ticks": "",
           "title": {
            "standoff": 15
           },
           "zerolinecolor": "white",
           "zerolinewidth": 2
          }
         }
        },
        "xaxis": {
         "anchor": "y",
         "domain": [
          0,
          1
         ],
         "title": {
          "text": "x"
         }
        },
        "yaxis": {
         "anchor": "x",
         "domain": [
          0,
          1
         ]
        }
       }
      }
     },
     "metadata": {},
     "output_type": "display_data"
    }
   ],
   "source": [
    "px.box(x=apple_box['Highest_Value'])"
   ]
  },
  {
   "cell_type": "code",
   "execution_count": 13,
   "metadata": {},
   "outputs": [
    {
     "data": {
      "application/vnd.plotly.v1+json": {
       "config": {
        "plotlyServerURL": "https://plot.ly"
       },
       "data": [
        {
         "hovertemplate": "x=%{x}<br>y=%{y}<extra></extra>",
         "legendgroup": "",
         "marker": {
          "color": "#636efa",
          "symbol": "circle"
         },
         "mode": "markers",
         "name": "",
         "orientation": "v",
         "showlegend": false,
         "type": "scatter",
         "x": [
          "2024-05-17",
          "2024-05-16",
          "2024-05-15",
          "2024-05-14",
          "2024-05-13",
          "2024-05-10",
          "2024-05-09",
          "2024-05-08",
          "2024-05-07",
          "2024-05-06",
          "2024-05-03",
          "2024-05-02",
          "2024-05-01"
         ],
         "xaxis": "x",
         "y": [
          41282925,
          52845230,
          70399988,
          52393619,
          72044809,
          50759496,
          48982972,
          45057087,
          77305771,
          78569667,
          163224109,
          94214915,
          50383147
         ],
         "yaxis": "y"
        }
       ],
       "layout": {
        "legend": {
         "tracegroupgap": 0
        },
        "margin": {
         "t": 60
        },
        "template": {
         "data": {
          "bar": [
           {
            "error_x": {
             "color": "#2a3f5f"
            },
            "error_y": {
             "color": "#2a3f5f"
            },
            "marker": {
             "line": {
              "color": "#E5ECF6",
              "width": 0.5
             },
             "pattern": {
              "fillmode": "overlay",
              "size": 10,
              "solidity": 0.2
             }
            },
            "type": "bar"
           }
          ],
          "barpolar": [
           {
            "marker": {
             "line": {
              "color": "#E5ECF6",
              "width": 0.5
             },
             "pattern": {
              "fillmode": "overlay",
              "size": 10,
              "solidity": 0.2
             }
            },
            "type": "barpolar"
           }
          ],
          "carpet": [
           {
            "aaxis": {
             "endlinecolor": "#2a3f5f",
             "gridcolor": "white",
             "linecolor": "white",
             "minorgridcolor": "white",
             "startlinecolor": "#2a3f5f"
            },
            "baxis": {
             "endlinecolor": "#2a3f5f",
             "gridcolor": "white",
             "linecolor": "white",
             "minorgridcolor": "white",
             "startlinecolor": "#2a3f5f"
            },
            "type": "carpet"
           }
          ],
          "choropleth": [
           {
            "colorbar": {
             "outlinewidth": 0,
             "ticks": ""
            },
            "type": "choropleth"
           }
          ],
          "contour": [
           {
            "colorbar": {
             "outlinewidth": 0,
             "ticks": ""
            },
            "colorscale": [
             [
              0,
              "#0d0887"
             ],
             [
              0.1111111111111111,
              "#46039f"
             ],
             [
              0.2222222222222222,
              "#7201a8"
             ],
             [
              0.3333333333333333,
              "#9c179e"
             ],
             [
              0.4444444444444444,
              "#bd3786"
             ],
             [
              0.5555555555555556,
              "#d8576b"
             ],
             [
              0.6666666666666666,
              "#ed7953"
             ],
             [
              0.7777777777777778,
              "#fb9f3a"
             ],
             [
              0.8888888888888888,
              "#fdca26"
             ],
             [
              1,
              "#f0f921"
             ]
            ],
            "type": "contour"
           }
          ],
          "contourcarpet": [
           {
            "colorbar": {
             "outlinewidth": 0,
             "ticks": ""
            },
            "type": "contourcarpet"
           }
          ],
          "heatmap": [
           {
            "colorbar": {
             "outlinewidth": 0,
             "ticks": ""
            },
            "colorscale": [
             [
              0,
              "#0d0887"
             ],
             [
              0.1111111111111111,
              "#46039f"
             ],
             [
              0.2222222222222222,
              "#7201a8"
             ],
             [
              0.3333333333333333,
              "#9c179e"
             ],
             [
              0.4444444444444444,
              "#bd3786"
             ],
             [
              0.5555555555555556,
              "#d8576b"
             ],
             [
              0.6666666666666666,
              "#ed7953"
             ],
             [
              0.7777777777777778,
              "#fb9f3a"
             ],
             [
              0.8888888888888888,
              "#fdca26"
             ],
             [
              1,
              "#f0f921"
             ]
            ],
            "type": "heatmap"
           }
          ],
          "heatmapgl": [
           {
            "colorbar": {
             "outlinewidth": 0,
             "ticks": ""
            },
            "colorscale": [
             [
              0,
              "#0d0887"
             ],
             [
              0.1111111111111111,
              "#46039f"
             ],
             [
              0.2222222222222222,
              "#7201a8"
             ],
             [
              0.3333333333333333,
              "#9c179e"
             ],
             [
              0.4444444444444444,
              "#bd3786"
             ],
             [
              0.5555555555555556,
              "#d8576b"
             ],
             [
              0.6666666666666666,
              "#ed7953"
             ],
             [
              0.7777777777777778,
              "#fb9f3a"
             ],
             [
              0.8888888888888888,
              "#fdca26"
             ],
             [
              1,
              "#f0f921"
             ]
            ],
            "type": "heatmapgl"
           }
          ],
          "histogram": [
           {
            "marker": {
             "pattern": {
              "fillmode": "overlay",
              "size": 10,
              "solidity": 0.2
             }
            },
            "type": "histogram"
           }
          ],
          "histogram2d": [
           {
            "colorbar": {
             "outlinewidth": 0,
             "ticks": ""
            },
            "colorscale": [
             [
              0,
              "#0d0887"
             ],
             [
              0.1111111111111111,
              "#46039f"
             ],
             [
              0.2222222222222222,
              "#7201a8"
             ],
             [
              0.3333333333333333,
              "#9c179e"
             ],
             [
              0.4444444444444444,
              "#bd3786"
             ],
             [
              0.5555555555555556,
              "#d8576b"
             ],
             [
              0.6666666666666666,
              "#ed7953"
             ],
             [
              0.7777777777777778,
              "#fb9f3a"
             ],
             [
              0.8888888888888888,
              "#fdca26"
             ],
             [
              1,
              "#f0f921"
             ]
            ],
            "type": "histogram2d"
           }
          ],
          "histogram2dcontour": [
           {
            "colorbar": {
             "outlinewidth": 0,
             "ticks": ""
            },
            "colorscale": [
             [
              0,
              "#0d0887"
             ],
             [
              0.1111111111111111,
              "#46039f"
             ],
             [
              0.2222222222222222,
              "#7201a8"
             ],
             [
              0.3333333333333333,
              "#9c179e"
             ],
             [
              0.4444444444444444,
              "#bd3786"
             ],
             [
              0.5555555555555556,
              "#d8576b"
             ],
             [
              0.6666666666666666,
              "#ed7953"
             ],
             [
              0.7777777777777778,
              "#fb9f3a"
             ],
             [
              0.8888888888888888,
              "#fdca26"
             ],
             [
              1,
              "#f0f921"
             ]
            ],
            "type": "histogram2dcontour"
           }
          ],
          "mesh3d": [
           {
            "colorbar": {
             "outlinewidth": 0,
             "ticks": ""
            },
            "type": "mesh3d"
           }
          ],
          "parcoords": [
           {
            "line": {
             "colorbar": {
              "outlinewidth": 0,
              "ticks": ""
             }
            },
            "type": "parcoords"
           }
          ],
          "pie": [
           {
            "automargin": true,
            "type": "pie"
           }
          ],
          "scatter": [
           {
            "marker": {
             "colorbar": {
              "outlinewidth": 0,
              "ticks": ""
             }
            },
            "type": "scatter"
           }
          ],
          "scatter3d": [
           {
            "line": {
             "colorbar": {
              "outlinewidth": 0,
              "ticks": ""
             }
            },
            "marker": {
             "colorbar": {
              "outlinewidth": 0,
              "ticks": ""
             }
            },
            "type": "scatter3d"
           }
          ],
          "scattercarpet": [
           {
            "marker": {
             "colorbar": {
              "outlinewidth": 0,
              "ticks": ""
             }
            },
            "type": "scattercarpet"
           }
          ],
          "scattergeo": [
           {
            "marker": {
             "colorbar": {
              "outlinewidth": 0,
              "ticks": ""
             }
            },
            "type": "scattergeo"
           }
          ],
          "scattergl": [
           {
            "marker": {
             "colorbar": {
              "outlinewidth": 0,
              "ticks": ""
             }
            },
            "type": "scattergl"
           }
          ],
          "scattermapbox": [
           {
            "marker": {
             "colorbar": {
              "outlinewidth": 0,
              "ticks": ""
             }
            },
            "type": "scattermapbox"
           }
          ],
          "scatterpolar": [
           {
            "marker": {
             "colorbar": {
              "outlinewidth": 0,
              "ticks": ""
             }
            },
            "type": "scatterpolar"
           }
          ],
          "scatterpolargl": [
           {
            "marker": {
             "colorbar": {
              "outlinewidth": 0,
              "ticks": ""
             }
            },
            "type": "scatterpolargl"
           }
          ],
          "scatterternary": [
           {
            "marker": {
             "colorbar": {
              "outlinewidth": 0,
              "ticks": ""
             }
            },
            "type": "scatterternary"
           }
          ],
          "surface": [
           {
            "colorbar": {
             "outlinewidth": 0,
             "ticks": ""
            },
            "colorscale": [
             [
              0,
              "#0d0887"
             ],
             [
              0.1111111111111111,
              "#46039f"
             ],
             [
              0.2222222222222222,
              "#7201a8"
             ],
             [
              0.3333333333333333,
              "#9c179e"
             ],
             [
              0.4444444444444444,
              "#bd3786"
             ],
             [
              0.5555555555555556,
              "#d8576b"
             ],
             [
              0.6666666666666666,
              "#ed7953"
             ],
             [
              0.7777777777777778,
              "#fb9f3a"
             ],
             [
              0.8888888888888888,
              "#fdca26"
             ],
             [
              1,
              "#f0f921"
             ]
            ],
            "type": "surface"
           }
          ],
          "table": [
           {
            "cells": {
             "fill": {
              "color": "#EBF0F8"
             },
             "line": {
              "color": "white"
             }
            },
            "header": {
             "fill": {
              "color": "#C8D4E3"
             },
             "line": {
              "color": "white"
             }
            },
            "type": "table"
           }
          ]
         },
         "layout": {
          "annotationdefaults": {
           "arrowcolor": "#2a3f5f",
           "arrowhead": 0,
           "arrowwidth": 1
          },
          "autotypenumbers": "strict",
          "coloraxis": {
           "colorbar": {
            "outlinewidth": 0,
            "ticks": ""
           }
          },
          "colorscale": {
           "diverging": [
            [
             0,
             "#8e0152"
            ],
            [
             0.1,
             "#c51b7d"
            ],
            [
             0.2,
             "#de77ae"
            ],
            [
             0.3,
             "#f1b6da"
            ],
            [
             0.4,
             "#fde0ef"
            ],
            [
             0.5,
             "#f7f7f7"
            ],
            [
             0.6,
             "#e6f5d0"
            ],
            [
             0.7,
             "#b8e186"
            ],
            [
             0.8,
             "#7fbc41"
            ],
            [
             0.9,
             "#4d9221"
            ],
            [
             1,
             "#276419"
            ]
           ],
           "sequential": [
            [
             0,
             "#0d0887"
            ],
            [
             0.1111111111111111,
             "#46039f"
            ],
            [
             0.2222222222222222,
             "#7201a8"
            ],
            [
             0.3333333333333333,
             "#9c179e"
            ],
            [
             0.4444444444444444,
             "#bd3786"
            ],
            [
             0.5555555555555556,
             "#d8576b"
            ],
            [
             0.6666666666666666,
             "#ed7953"
            ],
            [
             0.7777777777777778,
             "#fb9f3a"
            ],
            [
             0.8888888888888888,
             "#fdca26"
            ],
            [
             1,
             "#f0f921"
            ]
           ],
           "sequentialminus": [
            [
             0,
             "#0d0887"
            ],
            [
             0.1111111111111111,
             "#46039f"
            ],
            [
             0.2222222222222222,
             "#7201a8"
            ],
            [
             0.3333333333333333,
             "#9c179e"
            ],
            [
             0.4444444444444444,
             "#bd3786"
            ],
            [
             0.5555555555555556,
             "#d8576b"
            ],
            [
             0.6666666666666666,
             "#ed7953"
            ],
            [
             0.7777777777777778,
             "#fb9f3a"
            ],
            [
             0.8888888888888888,
             "#fdca26"
            ],
            [
             1,
             "#f0f921"
            ]
           ]
          },
          "colorway": [
           "#636efa",
           "#EF553B",
           "#00cc96",
           "#ab63fa",
           "#FFA15A",
           "#19d3f3",
           "#FF6692",
           "#B6E880",
           "#FF97FF",
           "#FECB52"
          ],
          "font": {
           "color": "#2a3f5f"
          },
          "geo": {
           "bgcolor": "white",
           "lakecolor": "white",
           "landcolor": "#E5ECF6",
           "showlakes": true,
           "showland": true,
           "subunitcolor": "white"
          },
          "hoverlabel": {
           "align": "left"
          },
          "hovermode": "closest",
          "mapbox": {
           "style": "light"
          },
          "paper_bgcolor": "white",
          "plot_bgcolor": "#E5ECF6",
          "polar": {
           "angularaxis": {
            "gridcolor": "white",
            "linecolor": "white",
            "ticks": ""
           },
           "bgcolor": "#E5ECF6",
           "radialaxis": {
            "gridcolor": "white",
            "linecolor": "white",
            "ticks": ""
           }
          },
          "scene": {
           "xaxis": {
            "backgroundcolor": "#E5ECF6",
            "gridcolor": "white",
            "gridwidth": 2,
            "linecolor": "white",
            "showbackground": true,
            "ticks": "",
            "zerolinecolor": "white"
           },
           "yaxis": {
            "backgroundcolor": "#E5ECF6",
            "gridcolor": "white",
            "gridwidth": 2,
            "linecolor": "white",
            "showbackground": true,
            "ticks": "",
            "zerolinecolor": "white"
           },
           "zaxis": {
            "backgroundcolor": "#E5ECF6",
            "gridcolor": "white",
            "gridwidth": 2,
            "linecolor": "white",
            "showbackground": true,
            "ticks": "",
            "zerolinecolor": "white"
           }
          },
          "shapedefaults": {
           "line": {
            "color": "#2a3f5f"
           }
          },
          "ternary": {
           "aaxis": {
            "gridcolor": "white",
            "linecolor": "white",
            "ticks": ""
           },
           "baxis": {
            "gridcolor": "white",
            "linecolor": "white",
            "ticks": ""
           },
           "bgcolor": "#E5ECF6",
           "caxis": {
            "gridcolor": "white",
            "linecolor": "white",
            "ticks": ""
           }
          },
          "title": {
           "x": 0.05
          },
          "xaxis": {
           "automargin": true,
           "gridcolor": "white",
           "linecolor": "white",
           "ticks": "",
           "title": {
            "standoff": 15
           },
           "zerolinecolor": "white",
           "zerolinewidth": 2
          },
          "yaxis": {
           "automargin": true,
           "gridcolor": "white",
           "linecolor": "white",
           "ticks": "",
           "title": {
            "standoff": 15
           },
           "zerolinecolor": "white",
           "zerolinewidth": 2
          }
         }
        },
        "xaxis": {
         "anchor": "y",
         "domain": [
          0,
          1
         ],
         "title": {
          "text": "x"
         }
        },
        "yaxis": {
         "anchor": "x",
         "domain": [
          0,
          1
         ],
         "title": {
          "text": "y"
         }
        }
       }
      }
     },
     "metadata": {},
     "output_type": "display_data"
    }
   ],
   "source": [
    "px.scatter(x=apple_box['Day'], y=apple_box['Volume'])"
   ]
  },
  {
   "cell_type": "code",
   "execution_count": 41,
   "metadata": {},
   "outputs": [
    {
     "data": {
      "text/plain": [
       "array(['TSLA', 'AAPL', 'NVDA', 'AMZN'], dtype=object)"
      ]
     },
     "execution_count": 41,
     "metadata": {},
     "output_type": "execute_result"
    }
   ],
   "source": [
    "test_data[test_data['Day'] == '2024-05-17'].nlargest(4,['Volume'])['Stock_Code'].unique()"
   ]
  },
  {
   "cell_type": "code",
   "execution_count": 17,
   "metadata": {},
   "outputs": [
    {
     "data": {
      "text/html": [
       "<div>\n",
       "<style scoped>\n",
       "    .dataframe tbody tr th:only-of-type {\n",
       "        vertical-align: middle;\n",
       "    }\n",
       "\n",
       "    .dataframe tbody tr th {\n",
       "        vertical-align: top;\n",
       "    }\n",
       "\n",
       "    .dataframe thead th {\n",
       "        text-align: right;\n",
       "    }\n",
       "</style>\n",
       "<table border=\"1\" class=\"dataframe\">\n",
       "  <thead>\n",
       "    <tr style=\"text-align: right;\">\n",
       "      <th></th>\n",
       "      <th>Company_Name</th>\n",
       "      <th>Stock_Code</th>\n",
       "      <th>Day</th>\n",
       "      <th>WeekDay</th>\n",
       "      <th>Week</th>\n",
       "      <th>Month</th>\n",
       "      <th>Month_Name</th>\n",
       "      <th>Quarter</th>\n",
       "      <th>Opening_Value</th>\n",
       "      <th>Highest_Value</th>\n",
       "      <th>Lowest_Value</th>\n",
       "      <th>Closing_Value</th>\n",
       "      <th>Volume</th>\n",
       "      <th>Daily_Closing_Variation</th>\n",
       "      <th>Year</th>\n",
       "    </tr>\n",
       "  </thead>\n",
       "  <tbody>\n",
       "    <tr>\n",
       "      <th>0</th>\n",
       "      <td>Apple</td>\n",
       "      <td>AAPL</td>\n",
       "      <td>2024-05-17</td>\n",
       "      <td>Friday</td>\n",
       "      <td>20</td>\n",
       "      <td>5</td>\n",
       "      <td>May</td>\n",
       "      <td>2</td>\n",
       "      <td>189.510</td>\n",
       "      <td>190.810</td>\n",
       "      <td>189.1800</td>\n",
       "      <td>189.87</td>\n",
       "      <td>41282925</td>\n",
       "      <td>0.01580278128950755</td>\n",
       "      <td>2024</td>\n",
       "    </tr>\n",
       "    <tr>\n",
       "      <th>1</th>\n",
       "      <td>Apple</td>\n",
       "      <td>AAPL</td>\n",
       "      <td>2024-05-16</td>\n",
       "      <td>Thursday</td>\n",
       "      <td>20</td>\n",
       "      <td>5</td>\n",
       "      <td>May</td>\n",
       "      <td>2</td>\n",
       "      <td>190.470</td>\n",
       "      <td>191.095</td>\n",
       "      <td>189.6601</td>\n",
       "      <td>189.84</td>\n",
       "      <td>52845230</td>\n",
       "      <td>0.06325110689437305</td>\n",
       "      <td>2024</td>\n",
       "    </tr>\n",
       "    <tr>\n",
       "      <th>2</th>\n",
       "      <td>Apple</td>\n",
       "      <td>AAPL</td>\n",
       "      <td>2024-05-15</td>\n",
       "      <td>Wednesday</td>\n",
       "      <td>20</td>\n",
       "      <td>5</td>\n",
       "      <td>May</td>\n",
       "      <td>2</td>\n",
       "      <td>187.910</td>\n",
       "      <td>190.650</td>\n",
       "      <td>187.3700</td>\n",
       "      <td>189.72</td>\n",
       "      <td>70399988</td>\n",
       "      <td>1.2217894680680745</td>\n",
       "      <td>2024</td>\n",
       "    </tr>\n",
       "    <tr>\n",
       "      <th>3</th>\n",
       "      <td>Apple</td>\n",
       "      <td>AAPL</td>\n",
       "      <td>2024-05-14</td>\n",
       "      <td>Tuesday</td>\n",
       "      <td>20</td>\n",
       "      <td>5</td>\n",
       "      <td>May</td>\n",
       "      <td>2</td>\n",
       "      <td>187.510</td>\n",
       "      <td>188.300</td>\n",
       "      <td>186.2900</td>\n",
       "      <td>187.43</td>\n",
       "      <td>52393619</td>\n",
       "      <td>0.6173502254670419</td>\n",
       "      <td>2024</td>\n",
       "    </tr>\n",
       "    <tr>\n",
       "      <th>4</th>\n",
       "      <td>Apple</td>\n",
       "      <td>AAPL</td>\n",
       "      <td>2024-05-13</td>\n",
       "      <td>Monday</td>\n",
       "      <td>20</td>\n",
       "      <td>5</td>\n",
       "      <td>May</td>\n",
       "      <td>2</td>\n",
       "      <td>185.435</td>\n",
       "      <td>187.100</td>\n",
       "      <td>184.6200</td>\n",
       "      <td>186.28</td>\n",
       "      <td>72044809</td>\n",
       "      <td>1.7645452062278009</td>\n",
       "      <td>2024</td>\n",
       "    </tr>\n",
       "  </tbody>\n",
       "</table>\n",
       "</div>"
      ],
      "text/plain": [
       "  Company_Name Stock_Code         Day    WeekDay  Week  Month Month_Name  \\\n",
       "0        Apple       AAPL  2024-05-17     Friday    20      5        May   \n",
       "1        Apple       AAPL  2024-05-16   Thursday    20      5        May   \n",
       "2        Apple       AAPL  2024-05-15  Wednesday    20      5        May   \n",
       "3        Apple       AAPL  2024-05-14    Tuesday    20      5        May   \n",
       "4        Apple       AAPL  2024-05-13     Monday    20      5        May   \n",
       "\n",
       "   Quarter  Opening_Value  Highest_Value  Lowest_Value  Closing_Value  \\\n",
       "0        2        189.510        190.810      189.1800         189.87   \n",
       "1        2        190.470        191.095      189.6601         189.84   \n",
       "2        2        187.910        190.650      187.3700         189.72   \n",
       "3        2        187.510        188.300      186.2900         187.43   \n",
       "4        2        185.435        187.100      184.6200         186.28   \n",
       "\n",
       "     Volume Daily_Closing_Variation  Year  \n",
       "0  41282925     0.01580278128950755  2024  \n",
       "1  52845230     0.06325110689437305  2024  \n",
       "2  70399988      1.2217894680680745  2024  \n",
       "3  52393619      0.6173502254670419  2024  \n",
       "4  72044809      1.7645452062278009  2024  "
      ]
     },
     "execution_count": 17,
     "metadata": {},
     "output_type": "execute_result"
    }
   ],
   "source": [
    "test_data.head()"
   ]
  },
  {
   "cell_type": "code",
   "execution_count": 21,
   "metadata": {},
   "outputs": [],
   "source": [
    "test_data['Year'] = list(map(lambda x: x[:4], test_data['Day']))"
   ]
  },
  {
   "cell_type": "code",
   "execution_count": 44,
   "metadata": {},
   "outputs": [],
   "source": [
    "scatter_df = test_data[(test_data['Year'] == '2024') & (test_data['Stock_Code'] == 'NVDA') & (test_data['Closing_Value'])]"
   ]
  },
  {
   "cell_type": "code",
   "execution_count": 45,
   "metadata": {},
   "outputs": [
    {
     "data": {
      "text/html": [
       "<div>\n",
       "<style scoped>\n",
       "    .dataframe tbody tr th:only-of-type {\n",
       "        vertical-align: middle;\n",
       "    }\n",
       "\n",
       "    .dataframe tbody tr th {\n",
       "        vertical-align: top;\n",
       "    }\n",
       "\n",
       "    .dataframe thead th {\n",
       "        text-align: right;\n",
       "    }\n",
       "</style>\n",
       "<table border=\"1\" class=\"dataframe\">\n",
       "  <thead>\n",
       "    <tr style=\"text-align: right;\">\n",
       "      <th></th>\n",
       "      <th>Company_Name</th>\n",
       "      <th>Stock_Code</th>\n",
       "      <th>Day</th>\n",
       "      <th>WeekDay</th>\n",
       "      <th>Week</th>\n",
       "      <th>Month</th>\n",
       "      <th>Month_Name</th>\n",
       "      <th>Quarter</th>\n",
       "      <th>Opening_Value</th>\n",
       "      <th>Highest_Value</th>\n",
       "      <th>Lowest_Value</th>\n",
       "      <th>Closing_Value</th>\n",
       "      <th>Volume</th>\n",
       "      <th>Daily_Closing_Variation</th>\n",
       "      <th>Year</th>\n",
       "    </tr>\n",
       "  </thead>\n",
       "  <tbody>\n",
       "    <tr>\n",
       "      <th>300</th>\n",
       "      <td>NVIDIA</td>\n",
       "      <td>NVDA</td>\n",
       "      <td>2024-05-17</td>\n",
       "      <td>Friday</td>\n",
       "      <td>20</td>\n",
       "      <td>5</td>\n",
       "      <td>May</td>\n",
       "      <td>2</td>\n",
       "      <td>943.69</td>\n",
       "      <td>947.4000</td>\n",
       "      <td>918.0600</td>\n",
       "      <td>924.79</td>\n",
       "      <td>35969103</td>\n",
       "      <td>-1.9923907629372999</td>\n",
       "      <td>2024</td>\n",
       "    </tr>\n",
       "    <tr>\n",
       "      <th>301</th>\n",
       "      <td>NVIDIA</td>\n",
       "      <td>NVDA</td>\n",
       "      <td>2024-05-16</td>\n",
       "      <td>Thursday</td>\n",
       "      <td>20</td>\n",
       "      <td>5</td>\n",
       "      <td>May</td>\n",
       "      <td>2</td>\n",
       "      <td>949.10</td>\n",
       "      <td>958.1899</td>\n",
       "      <td>941.0300</td>\n",
       "      <td>943.59</td>\n",
       "      <td>32395182</td>\n",
       "      <td>-0.28637852689421145</td>\n",
       "      <td>2024</td>\n",
       "    </tr>\n",
       "    <tr>\n",
       "      <th>302</th>\n",
       "      <td>NVIDIA</td>\n",
       "      <td>NVDA</td>\n",
       "      <td>2024-05-15</td>\n",
       "      <td>Wednesday</td>\n",
       "      <td>20</td>\n",
       "      <td>5</td>\n",
       "      <td>May</td>\n",
       "      <td>2</td>\n",
       "      <td>924.72</td>\n",
       "      <td>948.6200</td>\n",
       "      <td>915.9900</td>\n",
       "      <td>946.30</td>\n",
       "      <td>41773545</td>\n",
       "      <td>3.583782127063358</td>\n",
       "      <td>2024</td>\n",
       "    </tr>\n",
       "    <tr>\n",
       "      <th>303</th>\n",
       "      <td>NVIDIA</td>\n",
       "      <td>NVDA</td>\n",
       "      <td>2024-05-14</td>\n",
       "      <td>Tuesday</td>\n",
       "      <td>20</td>\n",
       "      <td>5</td>\n",
       "      <td>May</td>\n",
       "      <td>2</td>\n",
       "      <td>895.99</td>\n",
       "      <td>916.5100</td>\n",
       "      <td>889.3400</td>\n",
       "      <td>913.56</td>\n",
       "      <td>29650708</td>\n",
       "      <td>1.0586400292038558</td>\n",
       "      <td>2024</td>\n",
       "    </tr>\n",
       "    <tr>\n",
       "      <th>304</th>\n",
       "      <td>NVIDIA</td>\n",
       "      <td>NVDA</td>\n",
       "      <td>2024-05-13</td>\n",
       "      <td>Monday</td>\n",
       "      <td>20</td>\n",
       "      <td>5</td>\n",
       "      <td>May</td>\n",
       "      <td>2</td>\n",
       "      <td>904.78</td>\n",
       "      <td>909.9800</td>\n",
       "      <td>885.2900</td>\n",
       "      <td>903.99</td>\n",
       "      <td>28968017</td>\n",
       "      <td>0.5796746701083733</td>\n",
       "      <td>2024</td>\n",
       "    </tr>\n",
       "    <tr>\n",
       "      <th>...</th>\n",
       "      <td>...</td>\n",
       "      <td>...</td>\n",
       "      <td>...</td>\n",
       "      <td>...</td>\n",
       "      <td>...</td>\n",
       "      <td>...</td>\n",
       "      <td>...</td>\n",
       "      <td>...</td>\n",
       "      <td>...</td>\n",
       "      <td>...</td>\n",
       "      <td>...</td>\n",
       "      <td>...</td>\n",
       "      <td>...</td>\n",
       "      <td>...</td>\n",
       "      <td>...</td>\n",
       "    </tr>\n",
       "    <tr>\n",
       "      <th>391</th>\n",
       "      <td>NVIDIA</td>\n",
       "      <td>NVDA</td>\n",
       "      <td>2024-01-08</td>\n",
       "      <td>Monday</td>\n",
       "      <td>2</td>\n",
       "      <td>1</td>\n",
       "      <td>January</td>\n",
       "      <td>1</td>\n",
       "      <td>495.12</td>\n",
       "      <td>522.7500</td>\n",
       "      <td>494.7900</td>\n",
       "      <td>522.53</td>\n",
       "      <td>64250990</td>\n",
       "      <td>6.428091329409118</td>\n",
       "      <td>2024</td>\n",
       "    </tr>\n",
       "    <tr>\n",
       "      <th>392</th>\n",
       "      <td>NVIDIA</td>\n",
       "      <td>NVDA</td>\n",
       "      <td>2024-01-05</td>\n",
       "      <td>Friday</td>\n",
       "      <td>1</td>\n",
       "      <td>1</td>\n",
       "      <td>January</td>\n",
       "      <td>1</td>\n",
       "      <td>484.62</td>\n",
       "      <td>495.4700</td>\n",
       "      <td>483.0601</td>\n",
       "      <td>490.97</td>\n",
       "      <td>41080455</td>\n",
       "      <td>2.2896787366140274</td>\n",
       "      <td>2024</td>\n",
       "    </tr>\n",
       "    <tr>\n",
       "      <th>393</th>\n",
       "      <td>NVIDIA</td>\n",
       "      <td>NVDA</td>\n",
       "      <td>2024-01-04</td>\n",
       "      <td>Thursday</td>\n",
       "      <td>1</td>\n",
       "      <td>1</td>\n",
       "      <td>January</td>\n",
       "      <td>1</td>\n",
       "      <td>477.67</td>\n",
       "      <td>485.0000</td>\n",
       "      <td>475.0800</td>\n",
       "      <td>479.98</td>\n",
       "      <td>30653489</td>\n",
       "      <td>0.9018478420820325</td>\n",
       "      <td>2024</td>\n",
       "    </tr>\n",
       "    <tr>\n",
       "      <th>394</th>\n",
       "      <td>NVIDIA</td>\n",
       "      <td>NVDA</td>\n",
       "      <td>2024-01-03</td>\n",
       "      <td>Wednesday</td>\n",
       "      <td>1</td>\n",
       "      <td>1</td>\n",
       "      <td>January</td>\n",
       "      <td>1</td>\n",
       "      <td>474.85</td>\n",
       "      <td>481.8410</td>\n",
       "      <td>473.2000</td>\n",
       "      <td>475.69</td>\n",
       "      <td>32089617</td>\n",
       "      <td>-1.2435641919946872</td>\n",
       "      <td>2024</td>\n",
       "    </tr>\n",
       "    <tr>\n",
       "      <th>395</th>\n",
       "      <td>NVIDIA</td>\n",
       "      <td>NVDA</td>\n",
       "      <td>2024-01-02</td>\n",
       "      <td>Tuesday</td>\n",
       "      <td>1</td>\n",
       "      <td>1</td>\n",
       "      <td>January</td>\n",
       "      <td>1</td>\n",
       "      <td>492.44</td>\n",
       "      <td>492.9500</td>\n",
       "      <td>475.9500</td>\n",
       "      <td>481.68</td>\n",
       "      <td>41125422</td>\n",
       "      <td>-2.7341383627478737</td>\n",
       "      <td>2024</td>\n",
       "    </tr>\n",
       "  </tbody>\n",
       "</table>\n",
       "<p>96 rows × 15 columns</p>\n",
       "</div>"
      ],
      "text/plain": [
       "    Company_Name Stock_Code         Day    WeekDay  Week  Month Month_Name  \\\n",
       "300       NVIDIA       NVDA  2024-05-17     Friday    20      5        May   \n",
       "301       NVIDIA       NVDA  2024-05-16   Thursday    20      5        May   \n",
       "302       NVIDIA       NVDA  2024-05-15  Wednesday    20      5        May   \n",
       "303       NVIDIA       NVDA  2024-05-14    Tuesday    20      5        May   \n",
       "304       NVIDIA       NVDA  2024-05-13     Monday    20      5        May   \n",
       "..           ...        ...         ...        ...   ...    ...        ...   \n",
       "391       NVIDIA       NVDA  2024-01-08     Monday     2      1    January   \n",
       "392       NVIDIA       NVDA  2024-01-05     Friday     1      1    January   \n",
       "393       NVIDIA       NVDA  2024-01-04   Thursday     1      1    January   \n",
       "394       NVIDIA       NVDA  2024-01-03  Wednesday     1      1    January   \n",
       "395       NVIDIA       NVDA  2024-01-02    Tuesday     1      1    January   \n",
       "\n",
       "     Quarter  Opening_Value  Highest_Value  Lowest_Value  Closing_Value  \\\n",
       "300        2         943.69       947.4000      918.0600         924.79   \n",
       "301        2         949.10       958.1899      941.0300         943.59   \n",
       "302        2         924.72       948.6200      915.9900         946.30   \n",
       "303        2         895.99       916.5100      889.3400         913.56   \n",
       "304        2         904.78       909.9800      885.2900         903.99   \n",
       "..       ...            ...            ...           ...            ...   \n",
       "391        1         495.12       522.7500      494.7900         522.53   \n",
       "392        1         484.62       495.4700      483.0601         490.97   \n",
       "393        1         477.67       485.0000      475.0800         479.98   \n",
       "394        1         474.85       481.8410      473.2000         475.69   \n",
       "395        1         492.44       492.9500      475.9500         481.68   \n",
       "\n",
       "       Volume Daily_Closing_Variation  Year  \n",
       "300  35969103     -1.9923907629372999  2024  \n",
       "301  32395182    -0.28637852689421145  2024  \n",
       "302  41773545       3.583782127063358  2024  \n",
       "303  29650708      1.0586400292038558  2024  \n",
       "304  28968017      0.5796746701083733  2024  \n",
       "..        ...                     ...   ...  \n",
       "391  64250990       6.428091329409118  2024  \n",
       "392  41080455      2.2896787366140274  2024  \n",
       "393  30653489      0.9018478420820325  2024  \n",
       "394  32089617     -1.2435641919946872  2024  \n",
       "395  41125422     -2.7341383627478737  2024  \n",
       "\n",
       "[96 rows x 15 columns]"
      ]
     },
     "execution_count": 45,
     "metadata": {},
     "output_type": "execute_result"
    }
   ],
   "source": [
    "scatter_df"
   ]
  },
  {
   "cell_type": "code",
   "execution_count": 61,
   "metadata": {},
   "outputs": [
    {
     "data": {
      "text/plain": [
       "[-1.99,\n",
       " -0.29,\n",
       " 3.58,\n",
       " 1.06,\n",
       " 0.58,\n",
       " 1.27,\n",
       " -1.84,\n",
       " -0.16,\n",
       " -1.72,\n",
       " 3.77,\n",
       " 3.46,\n",
       " 3.34,\n",
       " -3.89,\n",
       " -1.54,\n",
       " 0.03,\n",
       " 6.18,\n",
       " 3.71,\n",
       " -3.33,\n",
       " 3.65,\n",
       " 4.35,\n",
       " -10.0,\n",
       " 0.76,\n",
       " -3.87,\n",
       " 1.64,\n",
       " -2.48,\n",
       " -2.68,\n",
       " 4.11,\n",
       " 1.97,\n",
       " -2.04,\n",
       " -0.99,\n",
       " 2.45,\n",
       " -3.44,\n",
       " -0.55,\n",
       " -1.01,\n",
       " 0.01,\n",
       " 0.12,\n",
       " -2.5,\n",
       " -2.57,\n",
       " 0.76,\n",
       " 3.12,\n",
       " 1.18,\n",
       " 1.09,\n",
       " 1.07,\n",
       " 0.7,\n",
       " -0.12,\n",
       " -3.24,\n",
       " -1.12,\n",
       " 7.16,\n",
       " -2.0,\n",
       " -5.55,\n",
       " 4.47,\n",
       " 3.18,\n",
       " 0.85,\n",
       " 3.6,\n",
       " 4.0,\n",
       " 1.87,\n",
       " -1.32,\n",
       " -0.49,\n",
       " 0.35,\n",
       " 0.36,\n",
       " 16.4,\n",
       " -2.85,\n",
       " -4.35,\n",
       " -0.06,\n",
       " -1.68,\n",
       " 2.46,\n",
       " -0.17,\n",
       " 0.16,\n",
       " 3.58,\n",
       " -0.65,\n",
       " 2.75,\n",
       " -1.6,\n",
       " 4.79,\n",
       " 4.97,\n",
       " 2.44,\n",
       " -1.99,\n",
       " 0.49,\n",
       " 2.35,\n",
       " -0.95,\n",
       " 0.42,\n",
       " 2.49,\n",
       " 0.37,\n",
       " 0.27,\n",
       " 4.17,\n",
       " 1.88,\n",
       " -0.58,\n",
       " 3.06,\n",
       " -0.2,\n",
       " 0.87,\n",
       " 2.28,\n",
       " 1.7,\n",
       " 6.43,\n",
       " 2.29,\n",
       " 0.9,\n",
       " -1.24,\n",
       " -2.73]"
      ]
     },
     "execution_count": 61,
     "metadata": {},
     "output_type": "execute_result"
    }
   ],
   "source": [
    "list(map(lambda x: float(round(x,2)), scatter_df['Daily_Closing_Variation']))"
   ]
  },
  {
   "cell_type": "code",
   "execution_count": 58,
   "metadata": {},
   "outputs": [
    {
     "name": "stderr",
     "output_type": "stream",
     "text": [
      "/var/folders/cr/l951d20n6nn5l2nkq77hr0gw0000gp/T/ipykernel_3717/1244123427.py:1: SettingWithCopyWarning:\n",
      "\n",
      "\n",
      "A value is trying to be set on a copy of a slice from a DataFrame.\n",
      "Try using .loc[row_indexer,col_indexer] = value instead\n",
      "\n",
      "See the caveats in the documentation: https://pandas.pydata.org/pandas-docs/stable/user_guide/indexing.html#returning-a-view-versus-a-copy\n",
      "\n"
     ]
    }
   ],
   "source": [
    "scatter_df['Daily_Closing_Variation'] = list(map(lambda x: float(x), scatter_df['Daily_Closing_Variation']))"
   ]
  },
  {
   "cell_type": "code",
   "execution_count": 127,
   "metadata": {},
   "outputs": [
    {
     "name": "stdout",
     "output_type": "stream",
     "text": [
      "<class 'pandas.core.frame.DataFrame'>\n",
      "Int64Index: 96 entries, 300 to 395\n",
      "Data columns (total 15 columns):\n",
      " #   Column                   Non-Null Count  Dtype         \n",
      "---  ------                   --------------  -----         \n",
      " 0   Company_Name             96 non-null     object        \n",
      " 1   Stock_Code               96 non-null     object        \n",
      " 2   Day                      96 non-null     datetime64[ns]\n",
      " 3   WeekDay                  96 non-null     object        \n",
      " 4   Week                     96 non-null     int64         \n",
      " 5   Month                    96 non-null     int64         \n",
      " 6   Month_Name               96 non-null     object        \n",
      " 7   Quarter                  96 non-null     int64         \n",
      " 8   Opening_Value            96 non-null     float64       \n",
      " 9   Highest_Value            96 non-null     float64       \n",
      " 10  Lowest_Value             96 non-null     float64       \n",
      " 11  Closing_Value            96 non-null     float64       \n",
      " 12  Volume                   96 non-null     int64         \n",
      " 13  Daily_Closing_Variation  96 non-null     float64       \n",
      " 14  Year                     96 non-null     object        \n",
      "dtypes: datetime64[ns](1), float64(5), int64(4), object(5)\n",
      "memory usage: 12.0+ KB\n"
     ]
    }
   ],
   "source": [
    "scatter_df.info()"
   ]
  },
  {
   "cell_type": "code",
   "execution_count": 59,
   "metadata": {},
   "outputs": [
    {
     "name": "stderr",
     "output_type": "stream",
     "text": [
      "/var/folders/cr/l951d20n6nn5l2nkq77hr0gw0000gp/T/ipykernel_3717/1405270964.py:2: SettingWithCopyWarning:\n",
      "\n",
      "\n",
      "A value is trying to be set on a copy of a slice from a DataFrame.\n",
      "Try using .loc[row_indexer,col_indexer] = value instead\n",
      "\n",
      "See the caveats in the documentation: https://pandas.pydata.org/pandas-docs/stable/user_guide/indexing.html#returning-a-view-versus-a-copy\n",
      "\n"
     ]
    },
    {
     "data": {
      "application/vnd.plotly.v1+json": {
       "config": {
        "plotlyServerURL": "https://plot.ly"
       },
       "data": [
        {
         "mode": "lines",
         "name": "Variação Diária do Fechamento",
         "type": "scatter",
         "x": [
          "2024-05-17T00:00:00",
          "2024-05-16T00:00:00",
          "2024-05-15T00:00:00",
          "2024-05-14T00:00:00",
          "2024-05-13T00:00:00",
          "2024-05-10T00:00:00",
          "2024-05-09T00:00:00",
          "2024-05-08T00:00:00",
          "2024-05-07T00:00:00",
          "2024-05-06T00:00:00",
          "2024-05-03T00:00:00",
          "2024-05-02T00:00:00",
          "2024-05-01T00:00:00",
          "2024-04-30T00:00:00",
          "2024-04-29T00:00:00",
          "2024-04-26T00:00:00",
          "2024-04-25T00:00:00",
          "2024-04-24T00:00:00",
          "2024-04-23T00:00:00",
          "2024-04-22T00:00:00",
          "2024-04-19T00:00:00",
          "2024-04-18T00:00:00",
          "2024-04-17T00:00:00",
          "2024-04-16T00:00:00",
          "2024-04-15T00:00:00",
          "2024-04-12T00:00:00",
          "2024-04-11T00:00:00",
          "2024-04-10T00:00:00",
          "2024-04-09T00:00:00",
          "2024-04-08T00:00:00",
          "2024-04-05T00:00:00",
          "2024-04-04T00:00:00",
          "2024-04-03T00:00:00",
          "2024-04-02T00:00:00",
          "2024-04-01T00:00:00",
          "2024-03-28T00:00:00",
          "2024-03-27T00:00:00",
          "2024-03-26T00:00:00",
          "2024-03-25T00:00:00",
          "2024-03-22T00:00:00",
          "2024-03-21T00:00:00",
          "2024-03-20T00:00:00",
          "2024-03-19T00:00:00",
          "2024-03-18T00:00:00",
          "2024-03-15T00:00:00",
          "2024-03-14T00:00:00",
          "2024-03-13T00:00:00",
          "2024-03-12T00:00:00",
          "2024-03-11T00:00:00",
          "2024-03-08T00:00:00",
          "2024-03-07T00:00:00",
          "2024-03-06T00:00:00",
          "2024-03-05T00:00:00",
          "2024-03-04T00:00:00",
          "2024-03-01T00:00:00",
          "2024-02-29T00:00:00",
          "2024-02-28T00:00:00",
          "2024-02-27T00:00:00",
          "2024-02-26T00:00:00",
          "2024-02-23T00:00:00",
          "2024-02-22T00:00:00",
          "2024-02-21T00:00:00",
          "2024-02-20T00:00:00",
          "2024-02-16T00:00:00",
          "2024-02-15T00:00:00",
          "2024-02-14T00:00:00",
          "2024-02-13T00:00:00",
          "2024-02-12T00:00:00",
          "2024-02-09T00:00:00",
          "2024-02-08T00:00:00",
          "2024-02-07T00:00:00",
          "2024-02-06T00:00:00",
          "2024-02-05T00:00:00",
          "2024-02-02T00:00:00",
          "2024-02-01T00:00:00",
          "2024-01-31T00:00:00",
          "2024-01-30T00:00:00",
          "2024-01-29T00:00:00",
          "2024-01-26T00:00:00",
          "2024-01-25T00:00:00",
          "2024-01-24T00:00:00",
          "2024-01-23T00:00:00",
          "2024-01-22T00:00:00",
          "2024-01-19T00:00:00",
          "2024-01-18T00:00:00",
          "2024-01-17T00:00:00",
          "2024-01-16T00:00:00",
          "2024-01-12T00:00:00",
          "2024-01-11T00:00:00",
          "2024-01-10T00:00:00",
          "2024-01-09T00:00:00",
          "2024-01-08T00:00:00",
          "2024-01-05T00:00:00",
          "2024-01-04T00:00:00",
          "2024-01-03T00:00:00",
          "2024-01-02T00:00:00"
         ],
         "y": [
          -1.9923907629372999,
          -0.28637852689421145,
          3.583782127063358,
          1.0586400292038558,
          0.5796746701083733,
          1.2744092758065,
          -1.8415697031367493,
          -0.15681250966273816,
          -1.721293683525072,
          3.774116163038213,
          3.4631832853630433,
          3.342926987873459,
          -3.88995625101271,
          -1.5440363731668205,
          0.025075511483447572,
          6.1755736276503015,
          3.7087239730411623,
          -3.331594336532283,
          3.6532608969038547,
          4.3543307086614105,
          -10.004606063469195,
          0.756827512346048,
          -3.8666132814734264,
          1.6441669282915299,
          -2.4777175515387957,
          -2.681645625496596,
          4.109651995082662,
          1.9741312650842402,
          -2.0417063569485814,
          -0.9942277974729569,
          2.448053081892799,
          -3.4384694932781836,
          -0.5455439788937079,
          -1.0081559930502544,
          0.007747133560588121,
          0.11745152354570032,
          -2.496731884919136,
          -2.5694195911664988,
          0.7561857692837972,
          3.121343030568159,
          1.1762492807506746,
          1.089509832434731,
          1.0660787971284906,
          0.7041491862722155,
          -0.12223687801328634,
          -3.239151483144083,
          -1.1151850119134399,
          7.15718049758668,
          -2.003930170916731,
          -5.54770203627967,
          4.47463359639234,
          3.1827276534363236,
          0.8529159871886601,
          3.595085015617599,
          4.003185357467888,
          1.8657533188262119,
          -1.3189158968755157,
          -0.4943609973195732,
          0.34890949921971154,
          0.3552420484351478,
          16.400877400995963,
          -2.850889823187231,
          -4.3532149890515495,
          -0.06193399212750769,
          -1.6806495263870038,
          2.456743566992018,
          -0.16609456317130514,
          0.15942772378799955,
          3.578351832971967,
          -0.6533616742036321,
          2.7498057839731453,
          -1.5995499913459919,
          4.7944377267231,
          4.970885493518657,
          2.4379540689453414,
          -1.986491222480649,
          0.4946770191307183,
          2.3496256001048703,
          -0.951036239998704,
          0.41556663733254373,
          2.4869306699179905,
          0.36711704160660724,
          0.27399102385234664,
          4.174619573782533,
          1.8803632276595503,
          -0.583519562981107,
          3.0561140559312787,
          -0.20429754478129303,
          0.8684452621895175,
          2.2770041400075316,
          1.697510190802443,
          6.428091329409118,
          2.2896787366140274,
          0.9018478420820325,
          -1.2435641919946872,
          -2.7341383627478737
         ]
        }
       ],
       "layout": {
        "shapes": [
         {
          "line": {
           "color": "black",
           "width": 2
          },
          "type": "line",
          "x0": "2024-01-02T00:00:00",
          "x1": "2024-05-17T00:00:00",
          "y0": 0,
          "y1": 0
         }
        ],
        "template": {
         "data": {
          "bar": [
           {
            "error_x": {
             "color": "#2a3f5f"
            },
            "error_y": {
             "color": "#2a3f5f"
            },
            "marker": {
             "line": {
              "color": "#E5ECF6",
              "width": 0.5
             },
             "pattern": {
              "fillmode": "overlay",
              "size": 10,
              "solidity": 0.2
             }
            },
            "type": "bar"
           }
          ],
          "barpolar": [
           {
            "marker": {
             "line": {
              "color": "#E5ECF6",
              "width": 0.5
             },
             "pattern": {
              "fillmode": "overlay",
              "size": 10,
              "solidity": 0.2
             }
            },
            "type": "barpolar"
           }
          ],
          "carpet": [
           {
            "aaxis": {
             "endlinecolor": "#2a3f5f",
             "gridcolor": "white",
             "linecolor": "white",
             "minorgridcolor": "white",
             "startlinecolor": "#2a3f5f"
            },
            "baxis": {
             "endlinecolor": "#2a3f5f",
             "gridcolor": "white",
             "linecolor": "white",
             "minorgridcolor": "white",
             "startlinecolor": "#2a3f5f"
            },
            "type": "carpet"
           }
          ],
          "choropleth": [
           {
            "colorbar": {
             "outlinewidth": 0,
             "ticks": ""
            },
            "type": "choropleth"
           }
          ],
          "contour": [
           {
            "colorbar": {
             "outlinewidth": 0,
             "ticks": ""
            },
            "colorscale": [
             [
              0,
              "#0d0887"
             ],
             [
              0.1111111111111111,
              "#46039f"
             ],
             [
              0.2222222222222222,
              "#7201a8"
             ],
             [
              0.3333333333333333,
              "#9c179e"
             ],
             [
              0.4444444444444444,
              "#bd3786"
             ],
             [
              0.5555555555555556,
              "#d8576b"
             ],
             [
              0.6666666666666666,
              "#ed7953"
             ],
             [
              0.7777777777777778,
              "#fb9f3a"
             ],
             [
              0.8888888888888888,
              "#fdca26"
             ],
             [
              1,
              "#f0f921"
             ]
            ],
            "type": "contour"
           }
          ],
          "contourcarpet": [
           {
            "colorbar": {
             "outlinewidth": 0,
             "ticks": ""
            },
            "type": "contourcarpet"
           }
          ],
          "heatmap": [
           {
            "colorbar": {
             "outlinewidth": 0,
             "ticks": ""
            },
            "colorscale": [
             [
              0,
              "#0d0887"
             ],
             [
              0.1111111111111111,
              "#46039f"
             ],
             [
              0.2222222222222222,
              "#7201a8"
             ],
             [
              0.3333333333333333,
              "#9c179e"
             ],
             [
              0.4444444444444444,
              "#bd3786"
             ],
             [
              0.5555555555555556,
              "#d8576b"
             ],
             [
              0.6666666666666666,
              "#ed7953"
             ],
             [
              0.7777777777777778,
              "#fb9f3a"
             ],
             [
              0.8888888888888888,
              "#fdca26"
             ],
             [
              1,
              "#f0f921"
             ]
            ],
            "type": "heatmap"
           }
          ],
          "heatmapgl": [
           {
            "colorbar": {
             "outlinewidth": 0,
             "ticks": ""
            },
            "colorscale": [
             [
              0,
              "#0d0887"
             ],
             [
              0.1111111111111111,
              "#46039f"
             ],
             [
              0.2222222222222222,
              "#7201a8"
             ],
             [
              0.3333333333333333,
              "#9c179e"
             ],
             [
              0.4444444444444444,
              "#bd3786"
             ],
             [
              0.5555555555555556,
              "#d8576b"
             ],
             [
              0.6666666666666666,
              "#ed7953"
             ],
             [
              0.7777777777777778,
              "#fb9f3a"
             ],
             [
              0.8888888888888888,
              "#fdca26"
             ],
             [
              1,
              "#f0f921"
             ]
            ],
            "type": "heatmapgl"
           }
          ],
          "histogram": [
           {
            "marker": {
             "pattern": {
              "fillmode": "overlay",
              "size": 10,
              "solidity": 0.2
             }
            },
            "type": "histogram"
           }
          ],
          "histogram2d": [
           {
            "colorbar": {
             "outlinewidth": 0,
             "ticks": ""
            },
            "colorscale": [
             [
              0,
              "#0d0887"
             ],
             [
              0.1111111111111111,
              "#46039f"
             ],
             [
              0.2222222222222222,
              "#7201a8"
             ],
             [
              0.3333333333333333,
              "#9c179e"
             ],
             [
              0.4444444444444444,
              "#bd3786"
             ],
             [
              0.5555555555555556,
              "#d8576b"
             ],
             [
              0.6666666666666666,
              "#ed7953"
             ],
             [
              0.7777777777777778,
              "#fb9f3a"
             ],
             [
              0.8888888888888888,
              "#fdca26"
             ],
             [
              1,
              "#f0f921"
             ]
            ],
            "type": "histogram2d"
           }
          ],
          "histogram2dcontour": [
           {
            "colorbar": {
             "outlinewidth": 0,
             "ticks": ""
            },
            "colorscale": [
             [
              0,
              "#0d0887"
             ],
             [
              0.1111111111111111,
              "#46039f"
             ],
             [
              0.2222222222222222,
              "#7201a8"
             ],
             [
              0.3333333333333333,
              "#9c179e"
             ],
             [
              0.4444444444444444,
              "#bd3786"
             ],
             [
              0.5555555555555556,
              "#d8576b"
             ],
             [
              0.6666666666666666,
              "#ed7953"
             ],
             [
              0.7777777777777778,
              "#fb9f3a"
             ],
             [
              0.8888888888888888,
              "#fdca26"
             ],
             [
              1,
              "#f0f921"
             ]
            ],
            "type": "histogram2dcontour"
           }
          ],
          "mesh3d": [
           {
            "colorbar": {
             "outlinewidth": 0,
             "ticks": ""
            },
            "type": "mesh3d"
           }
          ],
          "parcoords": [
           {
            "line": {
             "colorbar": {
              "outlinewidth": 0,
              "ticks": ""
             }
            },
            "type": "parcoords"
           }
          ],
          "pie": [
           {
            "automargin": true,
            "type": "pie"
           }
          ],
          "scatter": [
           {
            "marker": {
             "colorbar": {
              "outlinewidth": 0,
              "ticks": ""
             }
            },
            "type": "scatter"
           }
          ],
          "scatter3d": [
           {
            "line": {
             "colorbar": {
              "outlinewidth": 0,
              "ticks": ""
             }
            },
            "marker": {
             "colorbar": {
              "outlinewidth": 0,
              "ticks": ""
             }
            },
            "type": "scatter3d"
           }
          ],
          "scattercarpet": [
           {
            "marker": {
             "colorbar": {
              "outlinewidth": 0,
              "ticks": ""
             }
            },
            "type": "scattercarpet"
           }
          ],
          "scattergeo": [
           {
            "marker": {
             "colorbar": {
              "outlinewidth": 0,
              "ticks": ""
             }
            },
            "type": "scattergeo"
           }
          ],
          "scattergl": [
           {
            "marker": {
             "colorbar": {
              "outlinewidth": 0,
              "ticks": ""
             }
            },
            "type": "scattergl"
           }
          ],
          "scattermapbox": [
           {
            "marker": {
             "colorbar": {
              "outlinewidth": 0,
              "ticks": ""
             }
            },
            "type": "scattermapbox"
           }
          ],
          "scatterpolar": [
           {
            "marker": {
             "colorbar": {
              "outlinewidth": 0,
              "ticks": ""
             }
            },
            "type": "scatterpolar"
           }
          ],
          "scatterpolargl": [
           {
            "marker": {
             "colorbar": {
              "outlinewidth": 0,
              "ticks": ""
             }
            },
            "type": "scatterpolargl"
           }
          ],
          "scatterternary": [
           {
            "marker": {
             "colorbar": {
              "outlinewidth": 0,
              "ticks": ""
             }
            },
            "type": "scatterternary"
           }
          ],
          "surface": [
           {
            "colorbar": {
             "outlinewidth": 0,
             "ticks": ""
            },
            "colorscale": [
             [
              0,
              "#0d0887"
             ],
             [
              0.1111111111111111,
              "#46039f"
             ],
             [
              0.2222222222222222,
              "#7201a8"
             ],
             [
              0.3333333333333333,
              "#9c179e"
             ],
             [
              0.4444444444444444,
              "#bd3786"
             ],
             [
              0.5555555555555556,
              "#d8576b"
             ],
             [
              0.6666666666666666,
              "#ed7953"
             ],
             [
              0.7777777777777778,
              "#fb9f3a"
             ],
             [
              0.8888888888888888,
              "#fdca26"
             ],
             [
              1,
              "#f0f921"
             ]
            ],
            "type": "surface"
           }
          ],
          "table": [
           {
            "cells": {
             "fill": {
              "color": "#EBF0F8"
             },
             "line": {
              "color": "white"
             }
            },
            "header": {
             "fill": {
              "color": "#C8D4E3"
             },
             "line": {
              "color": "white"
             }
            },
            "type": "table"
           }
          ]
         },
         "layout": {
          "annotationdefaults": {
           "arrowcolor": "#2a3f5f",
           "arrowhead": 0,
           "arrowwidth": 1
          },
          "autotypenumbers": "strict",
          "coloraxis": {
           "colorbar": {
            "outlinewidth": 0,
            "ticks": ""
           }
          },
          "colorscale": {
           "diverging": [
            [
             0,
             "#8e0152"
            ],
            [
             0.1,
             "#c51b7d"
            ],
            [
             0.2,
             "#de77ae"
            ],
            [
             0.3,
             "#f1b6da"
            ],
            [
             0.4,
             "#fde0ef"
            ],
            [
             0.5,
             "#f7f7f7"
            ],
            [
             0.6,
             "#e6f5d0"
            ],
            [
             0.7,
             "#b8e186"
            ],
            [
             0.8,
             "#7fbc41"
            ],
            [
             0.9,
             "#4d9221"
            ],
            [
             1,
             "#276419"
            ]
           ],
           "sequential": [
            [
             0,
             "#0d0887"
            ],
            [
             0.1111111111111111,
             "#46039f"
            ],
            [
             0.2222222222222222,
             "#7201a8"
            ],
            [
             0.3333333333333333,
             "#9c179e"
            ],
            [
             0.4444444444444444,
             "#bd3786"
            ],
            [
             0.5555555555555556,
             "#d8576b"
            ],
            [
             0.6666666666666666,
             "#ed7953"
            ],
            [
             0.7777777777777778,
             "#fb9f3a"
            ],
            [
             0.8888888888888888,
             "#fdca26"
            ],
            [
             1,
             "#f0f921"
            ]
           ],
           "sequentialminus": [
            [
             0,
             "#0d0887"
            ],
            [
             0.1111111111111111,
             "#46039f"
            ],
            [
             0.2222222222222222,
             "#7201a8"
            ],
            [
             0.3333333333333333,
             "#9c179e"
            ],
            [
             0.4444444444444444,
             "#bd3786"
            ],
            [
             0.5555555555555556,
             "#d8576b"
            ],
            [
             0.6666666666666666,
             "#ed7953"
            ],
            [
             0.7777777777777778,
             "#fb9f3a"
            ],
            [
             0.8888888888888888,
             "#fdca26"
            ],
            [
             1,
             "#f0f921"
            ]
           ]
          },
          "colorway": [
           "#636efa",
           "#EF553B",
           "#00cc96",
           "#ab63fa",
           "#FFA15A",
           "#19d3f3",
           "#FF6692",
           "#B6E880",
           "#FF97FF",
           "#FECB52"
          ],
          "font": {
           "color": "#2a3f5f"
          },
          "geo": {
           "bgcolor": "white",
           "lakecolor": "white",
           "landcolor": "#E5ECF6",
           "showlakes": true,
           "showland": true,
           "subunitcolor": "white"
          },
          "hoverlabel": {
           "align": "left"
          },
          "hovermode": "closest",
          "mapbox": {
           "style": "light"
          },
          "paper_bgcolor": "white",
          "plot_bgcolor": "#E5ECF6",
          "polar": {
           "angularaxis": {
            "gridcolor": "white",
            "linecolor": "white",
            "ticks": ""
           },
           "bgcolor": "#E5ECF6",
           "radialaxis": {
            "gridcolor": "white",
            "linecolor": "white",
            "ticks": ""
           }
          },
          "scene": {
           "xaxis": {
            "backgroundcolor": "#E5ECF6",
            "gridcolor": "white",
            "gridwidth": 2,
            "linecolor": "white",
            "showbackground": true,
            "ticks": "",
            "zerolinecolor": "white"
           },
           "yaxis": {
            "backgroundcolor": "#E5ECF6",
            "gridcolor": "white",
            "gridwidth": 2,
            "linecolor": "white",
            "showbackground": true,
            "ticks": "",
            "zerolinecolor": "white"
           },
           "zaxis": {
            "backgroundcolor": "#E5ECF6",
            "gridcolor": "white",
            "gridwidth": 2,
            "linecolor": "white",
            "showbackground": true,
            "ticks": "",
            "zerolinecolor": "white"
           }
          },
          "shapedefaults": {
           "line": {
            "color": "#2a3f5f"
           }
          },
          "ternary": {
           "aaxis": {
            "gridcolor": "white",
            "linecolor": "white",
            "ticks": ""
           },
           "baxis": {
            "gridcolor": "white",
            "linecolor": "white",
            "ticks": ""
           },
           "bgcolor": "#E5ECF6",
           "caxis": {
            "gridcolor": "white",
            "linecolor": "white",
            "ticks": ""
           }
          },
          "title": {
           "x": 0.05
          },
          "xaxis": {
           "automargin": true,
           "gridcolor": "white",
           "linecolor": "white",
           "ticks": "",
           "title": {
            "standoff": 15
           },
           "zerolinecolor": "white",
           "zerolinewidth": 2
          },
          "yaxis": {
           "automargin": true,
           "gridcolor": "white",
           "linecolor": "white",
           "ticks": "",
           "title": {
            "standoff": 15
           },
           "zerolinecolor": "white",
           "zerolinewidth": 2
          }
         }
        },
        "title": {
         "text": "Variação Diária do Fechamento ao Longo do Tempo"
        },
        "xaxis": {
         "title": {
          "text": "Dia"
         }
        },
        "yaxis": {
         "title": {
          "text": "Variação Diária do Fechamento"
         }
        }
       }
      }
     },
     "metadata": {},
     "output_type": "display_data"
    }
   ],
   "source": [
    "# Convertendo a coluna 'Day' para datetime\n",
    "scatter_df['Day'] = pd.to_datetime(scatter_df['Day'])\n",
    "\n",
    "# Criando a figura\n",
    "fig = go.Figure()\n",
    "\n",
    "# Adicionando a linha com a variação diária do fechamento\n",
    "fig.add_trace(go.Scatter(x=scatter_df['Day'], y=scatter_df['Daily_Closing_Variation'], mode='lines', name='Variação Diária do Fechamento'))\n",
    "\n",
    "# Atualizando o layout para definir o eixo X na linha zero\n",
    "fig.update_layout(\n",
    "    title='Variação Diária do Fechamento ao Longo do Tempo',\n",
    "    xaxis_title='Dia',\n",
    "    yaxis_title='Variação Diária do Fechamento',\n",
    "    shapes=[dict(type='line', x0=scatter_df['Day'].min(), x1=scatter_df['Day'].max(), y0=0, y1=0, line=dict(color='black', width=2))]\n",
    ")\n",
    "\n",
    "# Mostrando o gráfico\n",
    "fig.show()"
   ]
  },
  {
   "cell_type": "code",
   "execution_count": 59,
   "metadata": {},
   "outputs": [
    {
     "data": {
      "text/plain": [
       "2024    1920\n",
       "2023      80\n",
       "Name: Year, dtype: int64"
      ]
     },
     "execution_count": 59,
     "metadata": {},
     "output_type": "execute_result"
    }
   ],
   "source": [
    "test_data['Year'].value_counts()"
   ]
  },
  {
   "cell_type": "code",
   "execution_count": 62,
   "metadata": {},
   "outputs": [
    {
     "data": {
      "text/html": [
       "<div>\n",
       "<style scoped>\n",
       "    .dataframe tbody tr th:only-of-type {\n",
       "        vertical-align: middle;\n",
       "    }\n",
       "\n",
       "    .dataframe tbody tr th {\n",
       "        vertical-align: top;\n",
       "    }\n",
       "\n",
       "    .dataframe thead th {\n",
       "        text-align: right;\n",
       "    }\n",
       "</style>\n",
       "<table border=\"1\" class=\"dataframe\">\n",
       "  <thead>\n",
       "    <tr style=\"text-align: right;\">\n",
       "      <th></th>\n",
       "      <th>Company_Name</th>\n",
       "      <th>Stock_Code</th>\n",
       "      <th>Day</th>\n",
       "      <th>WeekDay</th>\n",
       "      <th>Week</th>\n",
       "      <th>Month</th>\n",
       "      <th>Month_Name</th>\n",
       "      <th>Quarter</th>\n",
       "      <th>Opening_Value</th>\n",
       "      <th>Highest_Value</th>\n",
       "      <th>Lowest_Value</th>\n",
       "      <th>Closing_Value</th>\n",
       "      <th>Volume</th>\n",
       "      <th>Daily_Closing_Variation</th>\n",
       "      <th>Year</th>\n",
       "    </tr>\n",
       "  </thead>\n",
       "  <tbody>\n",
       "    <tr>\n",
       "      <th>0</th>\n",
       "      <td>Apple</td>\n",
       "      <td>AAPL</td>\n",
       "      <td>2024-05-17</td>\n",
       "      <td>Friday</td>\n",
       "      <td>20</td>\n",
       "      <td>5</td>\n",
       "      <td>May</td>\n",
       "      <td>2</td>\n",
       "      <td>189.510</td>\n",
       "      <td>190.810</td>\n",
       "      <td>189.1800</td>\n",
       "      <td>189.87</td>\n",
       "      <td>41282925</td>\n",
       "      <td>0.01580278128950755</td>\n",
       "      <td>2024</td>\n",
       "    </tr>\n",
       "    <tr>\n",
       "      <th>1</th>\n",
       "      <td>Apple</td>\n",
       "      <td>AAPL</td>\n",
       "      <td>2024-05-16</td>\n",
       "      <td>Thursday</td>\n",
       "      <td>20</td>\n",
       "      <td>5</td>\n",
       "      <td>May</td>\n",
       "      <td>2</td>\n",
       "      <td>190.470</td>\n",
       "      <td>191.095</td>\n",
       "      <td>189.6601</td>\n",
       "      <td>189.84</td>\n",
       "      <td>52845230</td>\n",
       "      <td>0.06325110689437305</td>\n",
       "      <td>2024</td>\n",
       "    </tr>\n",
       "    <tr>\n",
       "      <th>2</th>\n",
       "      <td>Apple</td>\n",
       "      <td>AAPL</td>\n",
       "      <td>2024-05-15</td>\n",
       "      <td>Wednesday</td>\n",
       "      <td>20</td>\n",
       "      <td>5</td>\n",
       "      <td>May</td>\n",
       "      <td>2</td>\n",
       "      <td>187.910</td>\n",
       "      <td>190.650</td>\n",
       "      <td>187.3700</td>\n",
       "      <td>189.72</td>\n",
       "      <td>70399988</td>\n",
       "      <td>1.2217894680680745</td>\n",
       "      <td>2024</td>\n",
       "    </tr>\n",
       "    <tr>\n",
       "      <th>3</th>\n",
       "      <td>Apple</td>\n",
       "      <td>AAPL</td>\n",
       "      <td>2024-05-14</td>\n",
       "      <td>Tuesday</td>\n",
       "      <td>20</td>\n",
       "      <td>5</td>\n",
       "      <td>May</td>\n",
       "      <td>2</td>\n",
       "      <td>187.510</td>\n",
       "      <td>188.300</td>\n",
       "      <td>186.2900</td>\n",
       "      <td>187.43</td>\n",
       "      <td>52393619</td>\n",
       "      <td>0.6173502254670419</td>\n",
       "      <td>2024</td>\n",
       "    </tr>\n",
       "    <tr>\n",
       "      <th>4</th>\n",
       "      <td>Apple</td>\n",
       "      <td>AAPL</td>\n",
       "      <td>2024-05-13</td>\n",
       "      <td>Monday</td>\n",
       "      <td>20</td>\n",
       "      <td>5</td>\n",
       "      <td>May</td>\n",
       "      <td>2</td>\n",
       "      <td>185.435</td>\n",
       "      <td>187.100</td>\n",
       "      <td>184.6200</td>\n",
       "      <td>186.28</td>\n",
       "      <td>72044809</td>\n",
       "      <td>1.7645452062278009</td>\n",
       "      <td>2024</td>\n",
       "    </tr>\n",
       "  </tbody>\n",
       "</table>\n",
       "</div>"
      ],
      "text/plain": [
       "  Company_Name Stock_Code         Day    WeekDay  Week  Month Month_Name  \\\n",
       "0        Apple       AAPL  2024-05-17     Friday    20      5        May   \n",
       "1        Apple       AAPL  2024-05-16   Thursday    20      5        May   \n",
       "2        Apple       AAPL  2024-05-15  Wednesday    20      5        May   \n",
       "3        Apple       AAPL  2024-05-14    Tuesday    20      5        May   \n",
       "4        Apple       AAPL  2024-05-13     Monday    20      5        May   \n",
       "\n",
       "   Quarter  Opening_Value  Highest_Value  Lowest_Value  Closing_Value  \\\n",
       "0        2        189.510        190.810      189.1800         189.87   \n",
       "1        2        190.470        191.095      189.6601         189.84   \n",
       "2        2        187.910        190.650      187.3700         189.72   \n",
       "3        2        187.510        188.300      186.2900         187.43   \n",
       "4        2        185.435        187.100      184.6200         186.28   \n",
       "\n",
       "     Volume Daily_Closing_Variation  Year  \n",
       "0  41282925     0.01580278128950755  2024  \n",
       "1  52845230     0.06325110689437305  2024  \n",
       "2  70399988      1.2217894680680745  2024  \n",
       "3  52393619      0.6173502254670419  2024  \n",
       "4  72044809      1.7645452062278009  2024  "
      ]
     },
     "execution_count": 62,
     "metadata": {},
     "output_type": "execute_result"
    }
   ],
   "source": [
    "test_data.head()"
   ]
  },
  {
   "cell_type": "code",
   "execution_count": 61,
   "metadata": {},
   "outputs": [
    {
     "data": {
      "text/html": [
       "<div>\n",
       "<style scoped>\n",
       "    .dataframe tbody tr th:only-of-type {\n",
       "        vertical-align: middle;\n",
       "    }\n",
       "\n",
       "    .dataframe tbody tr th {\n",
       "        vertical-align: top;\n",
       "    }\n",
       "\n",
       "    .dataframe thead th {\n",
       "        text-align: right;\n",
       "    }\n",
       "</style>\n",
       "<table border=\"1\" class=\"dataframe\">\n",
       "  <thead>\n",
       "    <tr style=\"text-align: right;\">\n",
       "      <th></th>\n",
       "      <th>Company_Name</th>\n",
       "      <th>Stock_Code</th>\n",
       "      <th>Day</th>\n",
       "      <th>WeekDay</th>\n",
       "      <th>Week</th>\n",
       "      <th>Month</th>\n",
       "      <th>Month_Name</th>\n",
       "      <th>Quarter</th>\n",
       "      <th>Opening_Value</th>\n",
       "      <th>Highest_Value</th>\n",
       "      <th>Lowest_Value</th>\n",
       "      <th>Closing_Value</th>\n",
       "      <th>Volume</th>\n",
       "      <th>Daily_Closing_Variation</th>\n",
       "      <th>Year</th>\n",
       "    </tr>\n",
       "  </thead>\n",
       "  <tbody>\n",
       "    <tr>\n",
       "      <th>0</th>\n",
       "      <td>Apple</td>\n",
       "      <td>AAPL</td>\n",
       "      <td>2024-05-17</td>\n",
       "      <td>Friday</td>\n",
       "      <td>20</td>\n",
       "      <td>5</td>\n",
       "      <td>May</td>\n",
       "      <td>2</td>\n",
       "      <td>189.510</td>\n",
       "      <td>190.810</td>\n",
       "      <td>189.1800</td>\n",
       "      <td>189.87</td>\n",
       "      <td>41282925</td>\n",
       "      <td>0.01580278128950755</td>\n",
       "      <td>2024</td>\n",
       "    </tr>\n",
       "    <tr>\n",
       "      <th>1</th>\n",
       "      <td>Apple</td>\n",
       "      <td>AAPL</td>\n",
       "      <td>2024-05-16</td>\n",
       "      <td>Thursday</td>\n",
       "      <td>20</td>\n",
       "      <td>5</td>\n",
       "      <td>May</td>\n",
       "      <td>2</td>\n",
       "      <td>190.470</td>\n",
       "      <td>191.095</td>\n",
       "      <td>189.6601</td>\n",
       "      <td>189.84</td>\n",
       "      <td>52845230</td>\n",
       "      <td>0.06325110689437305</td>\n",
       "      <td>2024</td>\n",
       "    </tr>\n",
       "    <tr>\n",
       "      <th>2</th>\n",
       "      <td>Apple</td>\n",
       "      <td>AAPL</td>\n",
       "      <td>2024-05-15</td>\n",
       "      <td>Wednesday</td>\n",
       "      <td>20</td>\n",
       "      <td>5</td>\n",
       "      <td>May</td>\n",
       "      <td>2</td>\n",
       "      <td>187.910</td>\n",
       "      <td>190.650</td>\n",
       "      <td>187.3700</td>\n",
       "      <td>189.72</td>\n",
       "      <td>70399988</td>\n",
       "      <td>1.2217894680680745</td>\n",
       "      <td>2024</td>\n",
       "    </tr>\n",
       "    <tr>\n",
       "      <th>3</th>\n",
       "      <td>Apple</td>\n",
       "      <td>AAPL</td>\n",
       "      <td>2024-05-14</td>\n",
       "      <td>Tuesday</td>\n",
       "      <td>20</td>\n",
       "      <td>5</td>\n",
       "      <td>May</td>\n",
       "      <td>2</td>\n",
       "      <td>187.510</td>\n",
       "      <td>188.300</td>\n",
       "      <td>186.2900</td>\n",
       "      <td>187.43</td>\n",
       "      <td>52393619</td>\n",
       "      <td>0.6173502254670419</td>\n",
       "      <td>2024</td>\n",
       "    </tr>\n",
       "    <tr>\n",
       "      <th>4</th>\n",
       "      <td>Apple</td>\n",
       "      <td>AAPL</td>\n",
       "      <td>2024-05-13</td>\n",
       "      <td>Monday</td>\n",
       "      <td>20</td>\n",
       "      <td>5</td>\n",
       "      <td>May</td>\n",
       "      <td>2</td>\n",
       "      <td>185.435</td>\n",
       "      <td>187.100</td>\n",
       "      <td>184.6200</td>\n",
       "      <td>186.28</td>\n",
       "      <td>72044809</td>\n",
       "      <td>1.7645452062278009</td>\n",
       "      <td>2024</td>\n",
       "    </tr>\n",
       "  </tbody>\n",
       "</table>\n",
       "</div>"
      ],
      "text/plain": [
       "  Company_Name Stock_Code         Day    WeekDay  Week  Month Month_Name  \\\n",
       "0        Apple       AAPL  2024-05-17     Friday    20      5        May   \n",
       "1        Apple       AAPL  2024-05-16   Thursday    20      5        May   \n",
       "2        Apple       AAPL  2024-05-15  Wednesday    20      5        May   \n",
       "3        Apple       AAPL  2024-05-14    Tuesday    20      5        May   \n",
       "4        Apple       AAPL  2024-05-13     Monday    20      5        May   \n",
       "\n",
       "   Quarter  Opening_Value  Highest_Value  Lowest_Value  Closing_Value  \\\n",
       "0        2        189.510        190.810      189.1800         189.87   \n",
       "1        2        190.470        191.095      189.6601         189.84   \n",
       "2        2        187.910        190.650      187.3700         189.72   \n",
       "3        2        187.510        188.300      186.2900         187.43   \n",
       "4        2        185.435        187.100      184.6200         186.28   \n",
       "\n",
       "     Volume Daily_Closing_Variation  Year  \n",
       "0  41282925     0.01580278128950755  2024  \n",
       "1  52845230     0.06325110689437305  2024  \n",
       "2  70399988      1.2217894680680745  2024  \n",
       "3  52393619      0.6173502254670419  2024  \n",
       "4  72044809      1.7645452062278009  2024  "
      ]
     },
     "execution_count": 61,
     "metadata": {},
     "output_type": "execute_result"
    }
   ],
   "source": [
    "test_data.head()"
   ]
  },
  {
   "cell_type": "code",
   "execution_count": 55,
   "metadata": {},
   "outputs": [
    {
     "data": {
      "application/vnd.plotly.v1+json": {
       "config": {
        "plotlyServerURL": "https://plot.ly"
       },
       "data": [
        {
         "boxmean": true,
         "name": "TSLA",
         "type": "box",
         "y": [
          177.46,
          174.84,
          173.99,
          177.55,
          171.89,
          168.47,
          171.97,
          174.72,
          177.81,
          184.76,
          181.19,
          180.01,
          179.99,
          183.28,
          194.05,
          168.29,
          170.18,
          162.13,
          144.68,
          142.05,
          147.05,
          149.93,
          155.45,
          157.11,
          161.48,
          171.05,
          174.6,
          171.76,
          176.88,
          172.98,
          164.9,
          171.11,
          168.38,
          166.63,
          175.22,
          175.79,
          179.83,
          177.67,
          172.63,
          170.83,
          172.82,
          175.66,
          171.32,
          173.8,
          163.57,
          162.5,
          169.48,
          177.54,
          177.77,
          175.34,
          178.65,
          176.54,
          180.74,
          188.14,
          202.64,
          201.88,
          202.04,
          199.73,
          199.4,
          191.97,
          197.41,
          194.77,
          193.76,
          199.95,
          200.45,
          188.71,
          184.02,
          188.13,
          193.57,
          189.56,
          187.58,
          185.1,
          181.06,
          187.91,
          188.86,
          187.29,
          191.59,
          190.93,
          183.25,
          182.63,
          207.83,
          209.14,
          208.8,
          212.19,
          211.88,
          215.55,
          219.91,
          218.89,
          227.22,
          233.94,
          234.96,
          240.45,
          237.49,
          237.93,
          238.45,
          248.42,
          248.48,
          253.18,
          261.44,
          256.61
         ]
        },
        {
         "boxmean": true,
         "name": "AAPL",
         "type": "box",
         "y": [
          189.87,
          189.84,
          189.72,
          187.43,
          186.28,
          183.05,
          184.57,
          182.74,
          182.4,
          181.71,
          183.38,
          173.03,
          169.3,
          170.33,
          173.5,
          169.3,
          169.89,
          169.02,
          166.9,
          165.84,
          165,
          167.04,
          168,
          169.38,
          172.69,
          176.55,
          175.04,
          167.78,
          169.67,
          168.45,
          169.58,
          168.82,
          169.65,
          168.84,
          170.03,
          171.48,
          173.31,
          169.71,
          170.85,
          172.28,
          171.37,
          178.67,
          176.08,
          173.72,
          172.62,
          173,
          171.13,
          173.23,
          172.75,
          170.73,
          169,
          169.12,
          170.12,
          175.1,
          179.66,
          180.75,
          181.42,
          182.63,
          181.16,
          182.52,
          184.37,
          182.32,
          181.56,
          182.31,
          183.86,
          184.15,
          185.04,
          187.15,
          188.85,
          188.32,
          189.41,
          189.3,
          187.68,
          185.85,
          186.86,
          184.4,
          188.04,
          191.73,
          192.42,
          194.17,
          194.5,
          195.18,
          193.89,
          191.56,
          188.63,
          182.68,
          183.63,
          185.92,
          185.59,
          186.19,
          185.14,
          185.56,
          181.18,
          181.91,
          184.25,
          185.64,
          192.53,
          193.58,
          193.15,
          193.05
         ]
        },
        {
         "boxmean": true,
         "name": "NVDA",
         "type": "box",
         "y": [
          924.79,
          943.59,
          946.3,
          913.56,
          903.99,
          898.78,
          887.47,
          904.12,
          905.54,
          921.4,
          887.89,
          858.17,
          830.41,
          864.02,
          877.57,
          877.35,
          826.32,
          796.77,
          824.23,
          795.18,
          762,
          846.71,
          840.35,
          874.15,
          860.01,
          881.86,
          906.16,
          870.39,
          853.54,
          871.33,
          880.08,
          859.05,
          889.64,
          894.52,
          903.63,
          903.56,
          902.5,
          925.61,
          950.02,
          942.89,
          914.35,
          903.72,
          893.98,
          884.55,
          878.365,
          879.44,
          908.88,
          919.13,
          857.74,
          875.28,
          926.69,
          887,
          859.64,
          852.37,
          822.79,
          791.12,
          776.63,
          787.01,
          790.92,
          788.17,
          785.38,
          674.72,
          694.52,
          726.13,
          726.58,
          739,
          721.28,
          722.48,
          721.33,
          696.41,
          700.99,
          682.23,
          693.32,
          661.6,
          630.27,
          615.27,
          627.74,
          624.65,
          610.31,
          616.17,
          613.62,
          598.73,
          596.54,
          594.91,
          571.07,
          560.53,
          563.82,
          547.1,
          548.22,
          543.5,
          531.4,
          522.53,
          490.97,
          479.98,
          475.69,
          481.68,
          495.22,
          495.22,
          494.17,
          492.79
         ]
        },
        {
         "boxmean": true,
         "name": "AMZN",
         "type": "box",
         "y": [
          184.7,
          183.63,
          185.99,
          187.07,
          186.57,
          187.48,
          189.5,
          188,
          188.76,
          188.7,
          186.21,
          184.72,
          179,
          175,
          180.96,
          179.62,
          173.67,
          176.59,
          179.54,
          177.23,
          174.63,
          179.22,
          181.28,
          183.32,
          183.62,
          186.13,
          189.05,
          185.95,
          185.67,
          185.19,
          185.07,
          180,
          182.41,
          180.69,
          180.97,
          180.38,
          179.83,
          178.3,
          179.71,
          178.87,
          178.15,
          178.15,
          175.9,
          174.48,
          174.42,
          178.75,
          176.555,
          175.39,
          171.96,
          175.35,
          176.82,
          173.51,
          174.12,
          177.58,
          178.22,
          176.76,
          173.16,
          173.54,
          174.73,
          174.99,
          174.58,
          168.59,
          167.08,
          169.51,
          169.8,
          170.98,
          168.64,
          172.34,
          174.45,
          169.84,
          170.53,
          169.15,
          170.31,
          171.81,
          159.28,
          155.2,
          159,
          161.26,
          159.12,
          157.75,
          156.87,
          156.02,
          154.78,
          155.34,
          153.5,
          151.71,
          153.16,
          154.62,
          155.18,
          153.73,
          151.37,
          149.1,
          145.24,
          144.57,
          148.47,
          149.93,
          151.94,
          153.38,
          153.34,
          153.41
         ]
        }
       ],
       "layout": {
        "template": {
         "data": {
          "bar": [
           {
            "error_x": {
             "color": "#2a3f5f"
            },
            "error_y": {
             "color": "#2a3f5f"
            },
            "marker": {
             "line": {
              "color": "#E5ECF6",
              "width": 0.5
             },
             "pattern": {
              "fillmode": "overlay",
              "size": 10,
              "solidity": 0.2
             }
            },
            "type": "bar"
           }
          ],
          "barpolar": [
           {
            "marker": {
             "line": {
              "color": "#E5ECF6",
              "width": 0.5
             },
             "pattern": {
              "fillmode": "overlay",
              "size": 10,
              "solidity": 0.2
             }
            },
            "type": "barpolar"
           }
          ],
          "carpet": [
           {
            "aaxis": {
             "endlinecolor": "#2a3f5f",
             "gridcolor": "white",
             "linecolor": "white",
             "minorgridcolor": "white",
             "startlinecolor": "#2a3f5f"
            },
            "baxis": {
             "endlinecolor": "#2a3f5f",
             "gridcolor": "white",
             "linecolor": "white",
             "minorgridcolor": "white",
             "startlinecolor": "#2a3f5f"
            },
            "type": "carpet"
           }
          ],
          "choropleth": [
           {
            "colorbar": {
             "outlinewidth": 0,
             "ticks": ""
            },
            "type": "choropleth"
           }
          ],
          "contour": [
           {
            "colorbar": {
             "outlinewidth": 0,
             "ticks": ""
            },
            "colorscale": [
             [
              0,
              "#0d0887"
             ],
             [
              0.1111111111111111,
              "#46039f"
             ],
             [
              0.2222222222222222,
              "#7201a8"
             ],
             [
              0.3333333333333333,
              "#9c179e"
             ],
             [
              0.4444444444444444,
              "#bd3786"
             ],
             [
              0.5555555555555556,
              "#d8576b"
             ],
             [
              0.6666666666666666,
              "#ed7953"
             ],
             [
              0.7777777777777778,
              "#fb9f3a"
             ],
             [
              0.8888888888888888,
              "#fdca26"
             ],
             [
              1,
              "#f0f921"
             ]
            ],
            "type": "contour"
           }
          ],
          "contourcarpet": [
           {
            "colorbar": {
             "outlinewidth": 0,
             "ticks": ""
            },
            "type": "contourcarpet"
           }
          ],
          "heatmap": [
           {
            "colorbar": {
             "outlinewidth": 0,
             "ticks": ""
            },
            "colorscale": [
             [
              0,
              "#0d0887"
             ],
             [
              0.1111111111111111,
              "#46039f"
             ],
             [
              0.2222222222222222,
              "#7201a8"
             ],
             [
              0.3333333333333333,
              "#9c179e"
             ],
             [
              0.4444444444444444,
              "#bd3786"
             ],
             [
              0.5555555555555556,
              "#d8576b"
             ],
             [
              0.6666666666666666,
              "#ed7953"
             ],
             [
              0.7777777777777778,
              "#fb9f3a"
             ],
             [
              0.8888888888888888,
              "#fdca26"
             ],
             [
              1,
              "#f0f921"
             ]
            ],
            "type": "heatmap"
           }
          ],
          "heatmapgl": [
           {
            "colorbar": {
             "outlinewidth": 0,
             "ticks": ""
            },
            "colorscale": [
             [
              0,
              "#0d0887"
             ],
             [
              0.1111111111111111,
              "#46039f"
             ],
             [
              0.2222222222222222,
              "#7201a8"
             ],
             [
              0.3333333333333333,
              "#9c179e"
             ],
             [
              0.4444444444444444,
              "#bd3786"
             ],
             [
              0.5555555555555556,
              "#d8576b"
             ],
             [
              0.6666666666666666,
              "#ed7953"
             ],
             [
              0.7777777777777778,
              "#fb9f3a"
             ],
             [
              0.8888888888888888,
              "#fdca26"
             ],
             [
              1,
              "#f0f921"
             ]
            ],
            "type": "heatmapgl"
           }
          ],
          "histogram": [
           {
            "marker": {
             "pattern": {
              "fillmode": "overlay",
              "size": 10,
              "solidity": 0.2
             }
            },
            "type": "histogram"
           }
          ],
          "histogram2d": [
           {
            "colorbar": {
             "outlinewidth": 0,
             "ticks": ""
            },
            "colorscale": [
             [
              0,
              "#0d0887"
             ],
             [
              0.1111111111111111,
              "#46039f"
             ],
             [
              0.2222222222222222,
              "#7201a8"
             ],
             [
              0.3333333333333333,
              "#9c179e"
             ],
             [
              0.4444444444444444,
              "#bd3786"
             ],
             [
              0.5555555555555556,
              "#d8576b"
             ],
             [
              0.6666666666666666,
              "#ed7953"
             ],
             [
              0.7777777777777778,
              "#fb9f3a"
             ],
             [
              0.8888888888888888,
              "#fdca26"
             ],
             [
              1,
              "#f0f921"
             ]
            ],
            "type": "histogram2d"
           }
          ],
          "histogram2dcontour": [
           {
            "colorbar": {
             "outlinewidth": 0,
             "ticks": ""
            },
            "colorscale": [
             [
              0,
              "#0d0887"
             ],
             [
              0.1111111111111111,
              "#46039f"
             ],
             [
              0.2222222222222222,
              "#7201a8"
             ],
             [
              0.3333333333333333,
              "#9c179e"
             ],
             [
              0.4444444444444444,
              "#bd3786"
             ],
             [
              0.5555555555555556,
              "#d8576b"
             ],
             [
              0.6666666666666666,
              "#ed7953"
             ],
             [
              0.7777777777777778,
              "#fb9f3a"
             ],
             [
              0.8888888888888888,
              "#fdca26"
             ],
             [
              1,
              "#f0f921"
             ]
            ],
            "type": "histogram2dcontour"
           }
          ],
          "mesh3d": [
           {
            "colorbar": {
             "outlinewidth": 0,
             "ticks": ""
            },
            "type": "mesh3d"
           }
          ],
          "parcoords": [
           {
            "line": {
             "colorbar": {
              "outlinewidth": 0,
              "ticks": ""
             }
            },
            "type": "parcoords"
           }
          ],
          "pie": [
           {
            "automargin": true,
            "type": "pie"
           }
          ],
          "scatter": [
           {
            "marker": {
             "colorbar": {
              "outlinewidth": 0,
              "ticks": ""
             }
            },
            "type": "scatter"
           }
          ],
          "scatter3d": [
           {
            "line": {
             "colorbar": {
              "outlinewidth": 0,
              "ticks": ""
             }
            },
            "marker": {
             "colorbar": {
              "outlinewidth": 0,
              "ticks": ""
             }
            },
            "type": "scatter3d"
           }
          ],
          "scattercarpet": [
           {
            "marker": {
             "colorbar": {
              "outlinewidth": 0,
              "ticks": ""
             }
            },
            "type": "scattercarpet"
           }
          ],
          "scattergeo": [
           {
            "marker": {
             "colorbar": {
              "outlinewidth": 0,
              "ticks": ""
             }
            },
            "type": "scattergeo"
           }
          ],
          "scattergl": [
           {
            "marker": {
             "colorbar": {
              "outlinewidth": 0,
              "ticks": ""
             }
            },
            "type": "scattergl"
           }
          ],
          "scattermapbox": [
           {
            "marker": {
             "colorbar": {
              "outlinewidth": 0,
              "ticks": ""
             }
            },
            "type": "scattermapbox"
           }
          ],
          "scatterpolar": [
           {
            "marker": {
             "colorbar": {
              "outlinewidth": 0,
              "ticks": ""
             }
            },
            "type": "scatterpolar"
           }
          ],
          "scatterpolargl": [
           {
            "marker": {
             "colorbar": {
              "outlinewidth": 0,
              "ticks": ""
             }
            },
            "type": "scatterpolargl"
           }
          ],
          "scatterternary": [
           {
            "marker": {
             "colorbar": {
              "outlinewidth": 0,
              "ticks": ""
             }
            },
            "type": "scatterternary"
           }
          ],
          "surface": [
           {
            "colorbar": {
             "outlinewidth": 0,
             "ticks": ""
            },
            "colorscale": [
             [
              0,
              "#0d0887"
             ],
             [
              0.1111111111111111,
              "#46039f"
             ],
             [
              0.2222222222222222,
              "#7201a8"
             ],
             [
              0.3333333333333333,
              "#9c179e"
             ],
             [
              0.4444444444444444,
              "#bd3786"
             ],
             [
              0.5555555555555556,
              "#d8576b"
             ],
             [
              0.6666666666666666,
              "#ed7953"
             ],
             [
              0.7777777777777778,
              "#fb9f3a"
             ],
             [
              0.8888888888888888,
              "#fdca26"
             ],
             [
              1,
              "#f0f921"
             ]
            ],
            "type": "surface"
           }
          ],
          "table": [
           {
            "cells": {
             "fill": {
              "color": "#EBF0F8"
             },
             "line": {
              "color": "white"
             }
            },
            "header": {
             "fill": {
              "color": "#C8D4E3"
             },
             "line": {
              "color": "white"
             }
            },
            "type": "table"
           }
          ]
         },
         "layout": {
          "annotationdefaults": {
           "arrowcolor": "#2a3f5f",
           "arrowhead": 0,
           "arrowwidth": 1
          },
          "autotypenumbers": "strict",
          "coloraxis": {
           "colorbar": {
            "outlinewidth": 0,
            "ticks": ""
           }
          },
          "colorscale": {
           "diverging": [
            [
             0,
             "#8e0152"
            ],
            [
             0.1,
             "#c51b7d"
            ],
            [
             0.2,
             "#de77ae"
            ],
            [
             0.3,
             "#f1b6da"
            ],
            [
             0.4,
             "#fde0ef"
            ],
            [
             0.5,
             "#f7f7f7"
            ],
            [
             0.6,
             "#e6f5d0"
            ],
            [
             0.7,
             "#b8e186"
            ],
            [
             0.8,
             "#7fbc41"
            ],
            [
             0.9,
             "#4d9221"
            ],
            [
             1,
             "#276419"
            ]
           ],
           "sequential": [
            [
             0,
             "#0d0887"
            ],
            [
             0.1111111111111111,
             "#46039f"
            ],
            [
             0.2222222222222222,
             "#7201a8"
            ],
            [
             0.3333333333333333,
             "#9c179e"
            ],
            [
             0.4444444444444444,
             "#bd3786"
            ],
            [
             0.5555555555555556,
             "#d8576b"
            ],
            [
             0.6666666666666666,
             "#ed7953"
            ],
            [
             0.7777777777777778,
             "#fb9f3a"
            ],
            [
             0.8888888888888888,
             "#fdca26"
            ],
            [
             1,
             "#f0f921"
            ]
           ],
           "sequentialminus": [
            [
             0,
             "#0d0887"
            ],
            [
             0.1111111111111111,
             "#46039f"
            ],
            [
             0.2222222222222222,
             "#7201a8"
            ],
            [
             0.3333333333333333,
             "#9c179e"
            ],
            [
             0.4444444444444444,
             "#bd3786"
            ],
            [
             0.5555555555555556,
             "#d8576b"
            ],
            [
             0.6666666666666666,
             "#ed7953"
            ],
            [
             0.7777777777777778,
             "#fb9f3a"
            ],
            [
             0.8888888888888888,
             "#fdca26"
            ],
            [
             1,
             "#f0f921"
            ]
           ]
          },
          "colorway": [
           "#636efa",
           "#EF553B",
           "#00cc96",
           "#ab63fa",
           "#FFA15A",
           "#19d3f3",
           "#FF6692",
           "#B6E880",
           "#FF97FF",
           "#FECB52"
          ],
          "font": {
           "color": "#2a3f5f"
          },
          "geo": {
           "bgcolor": "white",
           "lakecolor": "white",
           "landcolor": "#E5ECF6",
           "showlakes": true,
           "showland": true,
           "subunitcolor": "white"
          },
          "hoverlabel": {
           "align": "left"
          },
          "hovermode": "closest",
          "mapbox": {
           "style": "light"
          },
          "paper_bgcolor": "white",
          "plot_bgcolor": "#E5ECF6",
          "polar": {
           "angularaxis": {
            "gridcolor": "white",
            "linecolor": "white",
            "ticks": ""
           },
           "bgcolor": "#E5ECF6",
           "radialaxis": {
            "gridcolor": "white",
            "linecolor": "white",
            "ticks": ""
           }
          },
          "scene": {
           "xaxis": {
            "backgroundcolor": "#E5ECF6",
            "gridcolor": "white",
            "gridwidth": 2,
            "linecolor": "white",
            "showbackground": true,
            "ticks": "",
            "zerolinecolor": "white"
           },
           "yaxis": {
            "backgroundcolor": "#E5ECF6",
            "gridcolor": "white",
            "gridwidth": 2,
            "linecolor": "white",
            "showbackground": true,
            "ticks": "",
            "zerolinecolor": "white"
           },
           "zaxis": {
            "backgroundcolor": "#E5ECF6",
            "gridcolor": "white",
            "gridwidth": 2,
            "linecolor": "white",
            "showbackground": true,
            "ticks": "",
            "zerolinecolor": "white"
           }
          },
          "shapedefaults": {
           "line": {
            "color": "#2a3f5f"
           }
          },
          "ternary": {
           "aaxis": {
            "gridcolor": "white",
            "linecolor": "white",
            "ticks": ""
           },
           "baxis": {
            "gridcolor": "white",
            "linecolor": "white",
            "ticks": ""
           },
           "bgcolor": "#E5ECF6",
           "caxis": {
            "gridcolor": "white",
            "linecolor": "white",
            "ticks": ""
           }
          },
          "title": {
           "x": 0.05
          },
          "xaxis": {
           "automargin": true,
           "gridcolor": "white",
           "linecolor": "white",
           "ticks": "",
           "title": {
            "standoff": 15
           },
           "zerolinecolor": "white",
           "zerolinewidth": 2
          },
          "yaxis": {
           "automargin": true,
           "gridcolor": "white",
           "linecolor": "white",
           "ticks": "",
           "title": {
            "standoff": 15
           },
           "zerolinecolor": "white",
           "zerolinewidth": 2
          }
         }
        }
       }
      }
     },
     "metadata": {},
     "output_type": "display_data"
    }
   ],
   "source": [
    "fig = go.Figure()\n",
    "\n",
    "# Adicionar boxplots para cada stock\n",
    "for stock in test_data[test_data['Day'] == '2024-05-17'].nlargest(4,['Volume'])['Stock_Code'].unique():\n",
    "    fig.add_trace(go.Box(\n",
    "        y=test_data[test_data['Stock_Code'] == stock]['Closing_Value'],\n",
    "        name=stock,\n",
    "        boxmean=True  # Adiciona uma linha para a média\n",
    "    ))\n",
    "\n",
    "fig.show()"
   ]
  },
  {
   "cell_type": "markdown",
   "metadata": {},
   "source": [
    "<h1>Novas Modificações no DataFrame</h1>"
   ]
  },
  {
   "cell_type": "code",
   "execution_count": 100,
   "metadata": {},
   "outputs": [],
   "source": [
    "novo_df = pd.read_csv(\"../data/processed/stock_market_v2.csv\")"
   ]
  },
  {
   "cell_type": "code",
   "execution_count": 101,
   "metadata": {},
   "outputs": [
    {
     "data": {
      "text/html": [
       "<div>\n",
       "<style scoped>\n",
       "    .dataframe tbody tr th:only-of-type {\n",
       "        vertical-align: middle;\n",
       "    }\n",
       "\n",
       "    .dataframe tbody tr th {\n",
       "        vertical-align: top;\n",
       "    }\n",
       "\n",
       "    .dataframe thead th {\n",
       "        text-align: right;\n",
       "    }\n",
       "</style>\n",
       "<table border=\"1\" class=\"dataframe\">\n",
       "  <thead>\n",
       "    <tr style=\"text-align: right;\">\n",
       "      <th></th>\n",
       "      <th>Company_Name</th>\n",
       "      <th>Stock_Code</th>\n",
       "      <th>Day</th>\n",
       "      <th>WeekDay</th>\n",
       "      <th>Week</th>\n",
       "      <th>Month</th>\n",
       "      <th>Month_Name</th>\n",
       "      <th>Quarter</th>\n",
       "      <th>Opening_Value</th>\n",
       "      <th>Highest_Value</th>\n",
       "      <th>Lowest_Value</th>\n",
       "      <th>Closing_Value</th>\n",
       "      <th>Volume</th>\n",
       "      <th>Daily_Closing_Variation</th>\n",
       "      <th>Year</th>\n",
       "    </tr>\n",
       "  </thead>\n",
       "  <tbody>\n",
       "    <tr>\n",
       "      <th>0</th>\n",
       "      <td>Apple</td>\n",
       "      <td>AAPL</td>\n",
       "      <td>2024-05-17</td>\n",
       "      <td>Friday</td>\n",
       "      <td>20</td>\n",
       "      <td>5</td>\n",
       "      <td>May</td>\n",
       "      <td>2</td>\n",
       "      <td>189.510</td>\n",
       "      <td>190.810</td>\n",
       "      <td>189.1800</td>\n",
       "      <td>189.87</td>\n",
       "      <td>41282925</td>\n",
       "      <td>0.01580278128950755</td>\n",
       "      <td>2024</td>\n",
       "    </tr>\n",
       "    <tr>\n",
       "      <th>1</th>\n",
       "      <td>Apple</td>\n",
       "      <td>AAPL</td>\n",
       "      <td>2024-05-16</td>\n",
       "      <td>Thursday</td>\n",
       "      <td>20</td>\n",
       "      <td>5</td>\n",
       "      <td>May</td>\n",
       "      <td>2</td>\n",
       "      <td>190.470</td>\n",
       "      <td>191.095</td>\n",
       "      <td>189.6601</td>\n",
       "      <td>189.84</td>\n",
       "      <td>52845230</td>\n",
       "      <td>0.06325110689437305</td>\n",
       "      <td>2024</td>\n",
       "    </tr>\n",
       "    <tr>\n",
       "      <th>2</th>\n",
       "      <td>Apple</td>\n",
       "      <td>AAPL</td>\n",
       "      <td>2024-05-15</td>\n",
       "      <td>Wednesday</td>\n",
       "      <td>20</td>\n",
       "      <td>5</td>\n",
       "      <td>May</td>\n",
       "      <td>2</td>\n",
       "      <td>187.910</td>\n",
       "      <td>190.650</td>\n",
       "      <td>187.3700</td>\n",
       "      <td>189.72</td>\n",
       "      <td>70399988</td>\n",
       "      <td>1.2217894680680745</td>\n",
       "      <td>2024</td>\n",
       "    </tr>\n",
       "    <tr>\n",
       "      <th>3</th>\n",
       "      <td>Apple</td>\n",
       "      <td>AAPL</td>\n",
       "      <td>2024-05-14</td>\n",
       "      <td>Tuesday</td>\n",
       "      <td>20</td>\n",
       "      <td>5</td>\n",
       "      <td>May</td>\n",
       "      <td>2</td>\n",
       "      <td>187.510</td>\n",
       "      <td>188.300</td>\n",
       "      <td>186.2900</td>\n",
       "      <td>187.43</td>\n",
       "      <td>52393619</td>\n",
       "      <td>0.6173502254670419</td>\n",
       "      <td>2024</td>\n",
       "    </tr>\n",
       "    <tr>\n",
       "      <th>4</th>\n",
       "      <td>Apple</td>\n",
       "      <td>AAPL</td>\n",
       "      <td>2024-05-13</td>\n",
       "      <td>Monday</td>\n",
       "      <td>20</td>\n",
       "      <td>5</td>\n",
       "      <td>May</td>\n",
       "      <td>2</td>\n",
       "      <td>185.435</td>\n",
       "      <td>187.100</td>\n",
       "      <td>184.6200</td>\n",
       "      <td>186.28</td>\n",
       "      <td>72044809</td>\n",
       "      <td>1.7645452062278009</td>\n",
       "      <td>2024</td>\n",
       "    </tr>\n",
       "  </tbody>\n",
       "</table>\n",
       "</div>"
      ],
      "text/plain": [
       "  Company_Name Stock_Code         Day    WeekDay  Week  Month Month_Name  \\\n",
       "0        Apple       AAPL  2024-05-17     Friday    20      5        May   \n",
       "1        Apple       AAPL  2024-05-16   Thursday    20      5        May   \n",
       "2        Apple       AAPL  2024-05-15  Wednesday    20      5        May   \n",
       "3        Apple       AAPL  2024-05-14    Tuesday    20      5        May   \n",
       "4        Apple       AAPL  2024-05-13     Monday    20      5        May   \n",
       "\n",
       "   Quarter  Opening_Value  Highest_Value  Lowest_Value  Closing_Value  \\\n",
       "0        2        189.510        190.810      189.1800         189.87   \n",
       "1        2        190.470        191.095      189.6601         189.84   \n",
       "2        2        187.910        190.650      187.3700         189.72   \n",
       "3        2        187.510        188.300      186.2900         187.43   \n",
       "4        2        185.435        187.100      184.6200         186.28   \n",
       "\n",
       "     Volume Daily_Closing_Variation  Year  \n",
       "0  41282925     0.01580278128950755  2024  \n",
       "1  52845230     0.06325110689437305  2024  \n",
       "2  70399988      1.2217894680680745  2024  \n",
       "3  52393619      0.6173502254670419  2024  \n",
       "4  72044809      1.7645452062278009  2024  "
      ]
     },
     "execution_count": 101,
     "metadata": {},
     "output_type": "execute_result"
    }
   ],
   "source": [
    "novo_df.head()"
   ]
  },
  {
   "cell_type": "code",
   "execution_count": 105,
   "metadata": {},
   "outputs": [],
   "source": [
    "novo_df['Daily_Closing_Variation'] = [float(x) if x != '-' else 0 for x in novo_df['Daily_Closing_Variation']]"
   ]
  },
  {
   "cell_type": "code",
   "execution_count": 106,
   "metadata": {},
   "outputs": [
    {
     "data": {
      "text/plain": [
       "0       0.015803\n",
       "1       0.063251\n",
       "2       1.221789\n",
       "3       0.617350\n",
       "4       1.764545\n",
       "          ...   \n",
       "1995    0.214535\n",
       "1996   -0.407291\n",
       "1997   -1.408729\n",
       "1998   -0.328062\n",
       "1999    0.000000\n",
       "Name: Daily_Closing_Variation, Length: 2000, dtype: float64"
      ]
     },
     "execution_count": 106,
     "metadata": {},
     "output_type": "execute_result"
    }
   ],
   "source": [
    "novo_df['Daily_Closing_Variation']"
   ]
  },
  {
   "cell_type": "code",
   "execution_count": 107,
   "metadata": {},
   "outputs": [
    {
     "name": "stdout",
     "output_type": "stream",
     "text": [
      "<class 'pandas.core.frame.DataFrame'>\n",
      "RangeIndex: 2000 entries, 0 to 1999\n",
      "Data columns (total 15 columns):\n",
      " #   Column                   Non-Null Count  Dtype  \n",
      "---  ------                   --------------  -----  \n",
      " 0   Company_Name             2000 non-null   object \n",
      " 1   Stock_Code               2000 non-null   object \n",
      " 2   Day                      2000 non-null   object \n",
      " 3   WeekDay                  2000 non-null   object \n",
      " 4   Week                     2000 non-null   int64  \n",
      " 5   Month                    2000 non-null   int64  \n",
      " 6   Month_Name               2000 non-null   object \n",
      " 7   Quarter                  2000 non-null   int64  \n",
      " 8   Opening_Value            2000 non-null   float64\n",
      " 9   Highest_Value            2000 non-null   float64\n",
      " 10  Lowest_Value             2000 non-null   float64\n",
      " 11  Closing_Value            2000 non-null   float64\n",
      " 12  Volume                   2000 non-null   int64  \n",
      " 13  Daily_Closing_Variation  2000 non-null   float64\n",
      " 14  Year                     2000 non-null   int64  \n",
      "dtypes: float64(5), int64(5), object(5)\n",
      "memory usage: 234.5+ KB\n"
     ]
    }
   ],
   "source": [
    "novo_df.info()"
   ]
  },
  {
   "cell_type": "code",
   "execution_count": 108,
   "metadata": {},
   "outputs": [
    {
     "data": {
      "application/vnd.plotly.v1+json": {
       "config": {
        "plotlyServerURL": "https://plot.ly"
       },
       "data": [
        {
         "mode": "lines",
         "name": "Variação Diária do Fechamento",
         "type": "scatter",
         "x": [
          "2024-05-17",
          "2024-05-16",
          "2024-05-15",
          "2024-05-14",
          "2024-05-13",
          "2024-05-10",
          "2024-05-09",
          "2024-05-08",
          "2024-05-07",
          "2024-05-06",
          "2024-05-03",
          "2024-05-02",
          "2024-05-01",
          "2024-04-30",
          "2024-04-29",
          "2024-04-26",
          "2024-04-25",
          "2024-04-24",
          "2024-04-23",
          "2024-04-22",
          "2024-04-19",
          "2024-04-18",
          "2024-04-17",
          "2024-04-16",
          "2024-04-15",
          "2024-04-12",
          "2024-04-11",
          "2024-04-10",
          "2024-04-09",
          "2024-04-08",
          "2024-04-05",
          "2024-04-04",
          "2024-04-03",
          "2024-04-02",
          "2024-04-01",
          "2024-03-28",
          "2024-03-27",
          "2024-03-26",
          "2024-03-25",
          "2024-03-22",
          "2024-03-21",
          "2024-03-20",
          "2024-03-19",
          "2024-03-18",
          "2024-03-15",
          "2024-03-14",
          "2024-03-13",
          "2024-03-12",
          "2024-03-11",
          "2024-03-08",
          "2024-03-07",
          "2024-03-06",
          "2024-03-05",
          "2024-03-04",
          "2024-03-01",
          "2024-02-29",
          "2024-02-28",
          "2024-02-27",
          "2024-02-26",
          "2024-02-23",
          "2024-02-22",
          "2024-02-21",
          "2024-02-20",
          "2024-02-16",
          "2024-02-15",
          "2024-02-14",
          "2024-02-13",
          "2024-02-12",
          "2024-02-09",
          "2024-02-08",
          "2024-02-07",
          "2024-02-06",
          "2024-02-05",
          "2024-02-02",
          "2024-02-01",
          "2024-01-31",
          "2024-01-30",
          "2024-01-29",
          "2024-01-26",
          "2024-01-25",
          "2024-01-24",
          "2024-01-23",
          "2024-01-22",
          "2024-01-19",
          "2024-01-18",
          "2024-01-17",
          "2024-01-16",
          "2024-01-12",
          "2024-01-11",
          "2024-01-10",
          "2024-01-09",
          "2024-01-08",
          "2024-01-05",
          "2024-01-04",
          "2024-01-03",
          "2024-01-02",
          "2023-12-29",
          "2023-12-28",
          "2023-12-27",
          "2023-12-26",
          "2024-05-17",
          "2024-05-16",
          "2024-05-15",
          "2024-05-14",
          "2024-05-13",
          "2024-05-10",
          "2024-05-09",
          "2024-05-08",
          "2024-05-07",
          "2024-05-06",
          "2024-05-03",
          "2024-05-02",
          "2024-05-01",
          "2024-04-30",
          "2024-04-29",
          "2024-04-26",
          "2024-04-25",
          "2024-04-24",
          "2024-04-23",
          "2024-04-22",
          "2024-04-19",
          "2024-04-18",
          "2024-04-17",
          "2024-04-16",
          "2024-04-15",
          "2024-04-12",
          "2024-04-11",
          "2024-04-10",
          "2024-04-09",
          "2024-04-08",
          "2024-04-05",
          "2024-04-04",
          "2024-04-03",
          "2024-04-02",
          "2024-04-01",
          "2024-03-28",
          "2024-03-27",
          "2024-03-26",
          "2024-03-25",
          "2024-03-22",
          "2024-03-21",
          "2024-03-20",
          "2024-03-19",
          "2024-03-18",
          "2024-03-15",
          "2024-03-14",
          "2024-03-13",
          "2024-03-12",
          "2024-03-11",
          "2024-03-08",
          "2024-03-07",
          "2024-03-06",
          "2024-03-05",
          "2024-03-04",
          "2024-03-01",
          "2024-02-29",
          "2024-02-28",
          "2024-02-27",
          "2024-02-26",
          "2024-02-23",
          "2024-02-22",
          "2024-02-21",
          "2024-02-20",
          "2024-02-16",
          "2024-02-15",
          "2024-02-14",
          "2024-02-13",
          "2024-02-12",
          "2024-02-09",
          "2024-02-08",
          "2024-02-07",
          "2024-02-06",
          "2024-02-05",
          "2024-02-02",
          "2024-02-01",
          "2024-01-31",
          "2024-01-30",
          "2024-01-29",
          "2024-01-26",
          "2024-01-25",
          "2024-01-24",
          "2024-01-23",
          "2024-01-22",
          "2024-01-19",
          "2024-01-18",
          "2024-01-17",
          "2024-01-16",
          "2024-01-12",
          "2024-01-11",
          "2024-01-10",
          "2024-01-09",
          "2024-01-08",
          "2024-01-05",
          "2024-01-04",
          "2024-01-03",
          "2024-01-02",
          "2023-12-29",
          "2023-12-28",
          "2023-12-27",
          "2023-12-26",
          "2024-05-17",
          "2024-05-16",
          "2024-05-15",
          "2024-05-14",
          "2024-05-13",
          "2024-05-10",
          "2024-05-09",
          "2024-05-08",
          "2024-05-07",
          "2024-05-06",
          "2024-05-03",
          "2024-05-02",
          "2024-05-01",
          "2024-04-30",
          "2024-04-29",
          "2024-04-26",
          "2024-04-25",
          "2024-04-24",
          "2024-04-23",
          "2024-04-22",
          "2024-04-19",
          "2024-04-18",
          "2024-04-17",
          "2024-04-16",
          "2024-04-15",
          "2024-04-12",
          "2024-04-11",
          "2024-04-10",
          "2024-04-09",
          "2024-04-08",
          "2024-04-05",
          "2024-04-04",
          "2024-04-03",
          "2024-04-02",
          "2024-04-01",
          "2024-03-28",
          "2024-03-27",
          "2024-03-26",
          "2024-03-25",
          "2024-03-22",
          "2024-03-21",
          "2024-03-20",
          "2024-03-19",
          "2024-03-18",
          "2024-03-15",
          "2024-03-14",
          "2024-03-13",
          "2024-03-12",
          "2024-03-11",
          "2024-03-08",
          "2024-03-07",
          "2024-03-06",
          "2024-03-05",
          "2024-03-04",
          "2024-03-01",
          "2024-02-29",
          "2024-02-28",
          "2024-02-27",
          "2024-02-26",
          "2024-02-23",
          "2024-02-22",
          "2024-02-21",
          "2024-02-20",
          "2024-02-16",
          "2024-02-15",
          "2024-02-14",
          "2024-02-13",
          "2024-02-12",
          "2024-02-09",
          "2024-02-08",
          "2024-02-07",
          "2024-02-06",
          "2024-02-05",
          "2024-02-02",
          "2024-02-01",
          "2024-01-31",
          "2024-01-30",
          "2024-01-29",
          "2024-01-26",
          "2024-01-25",
          "2024-01-24",
          "2024-01-23",
          "2024-01-22",
          "2024-01-19",
          "2024-01-18",
          "2024-01-17",
          "2024-01-16",
          "2024-01-12",
          "2024-01-11",
          "2024-01-10",
          "2024-01-09",
          "2024-01-08",
          "2024-01-05",
          "2024-01-04",
          "2024-01-03",
          "2024-01-02",
          "2023-12-29",
          "2023-12-28",
          "2023-12-27",
          "2023-12-26",
          "2024-05-17",
          "2024-05-16",
          "2024-05-15",
          "2024-05-14",
          "2024-05-13",
          "2024-05-10",
          "2024-05-09",
          "2024-05-08",
          "2024-05-07",
          "2024-05-06",
          "2024-05-03",
          "2024-05-02",
          "2024-05-01",
          "2024-04-30",
          "2024-04-29",
          "2024-04-26",
          "2024-04-25",
          "2024-04-24",
          "2024-04-23",
          "2024-04-22",
          "2024-04-19",
          "2024-04-18",
          "2024-04-17",
          "2024-04-16",
          "2024-04-15",
          "2024-04-12",
          "2024-04-11",
          "2024-04-10",
          "2024-04-09",
          "2024-04-08",
          "2024-04-05",
          "2024-04-04",
          "2024-04-03",
          "2024-04-02",
          "2024-04-01",
          "2024-03-28",
          "2024-03-27",
          "2024-03-26",
          "2024-03-25",
          "2024-03-22",
          "2024-03-21",
          "2024-03-20",
          "2024-03-19",
          "2024-03-18",
          "2024-03-15",
          "2024-03-14",
          "2024-03-13",
          "2024-03-12",
          "2024-03-11",
          "2024-03-08",
          "2024-03-07",
          "2024-03-06",
          "2024-03-05",
          "2024-03-04",
          "2024-03-01",
          "2024-02-29",
          "2024-02-28",
          "2024-02-27",
          "2024-02-26",
          "2024-02-23",
          "2024-02-22",
          "2024-02-21",
          "2024-02-20",
          "2024-02-16",
          "2024-02-15",
          "2024-02-14",
          "2024-02-13",
          "2024-02-12",
          "2024-02-09",
          "2024-02-08",
          "2024-02-07",
          "2024-02-06",
          "2024-02-05",
          "2024-02-02",
          "2024-02-01",
          "2024-01-31",
          "2024-01-30",
          "2024-01-29",
          "2024-01-26",
          "2024-01-25",
          "2024-01-24",
          "2024-01-23",
          "2024-01-22",
          "2024-01-19",
          "2024-01-18",
          "2024-01-17",
          "2024-01-16",
          "2024-01-12",
          "2024-01-11",
          "2024-01-10",
          "2024-01-09",
          "2024-01-08",
          "2024-01-05",
          "2024-01-04",
          "2024-01-03",
          "2024-01-02",
          "2023-12-29",
          "2023-12-28",
          "2023-12-27",
          "2023-12-26",
          "2024-05-17",
          "2024-05-16",
          "2024-05-15",
          "2024-05-14",
          "2024-05-13",
          "2024-05-10",
          "2024-05-09",
          "2024-05-08",
          "2024-05-07",
          "2024-05-06",
          "2024-05-03",
          "2024-05-02",
          "2024-05-01",
          "2024-04-30",
          "2024-04-29",
          "2024-04-26",
          "2024-04-25",
          "2024-04-24",
          "2024-04-23",
          "2024-04-22",
          "2024-04-19",
          "2024-04-18",
          "2024-04-17",
          "2024-04-16",
          "2024-04-15",
          "2024-04-12",
          "2024-04-11",
          "2024-04-10",
          "2024-04-09",
          "2024-04-08",
          "2024-04-05",
          "2024-04-04",
          "2024-04-03",
          "2024-04-02",
          "2024-04-01",
          "2024-03-28",
          "2024-03-27",
          "2024-03-26",
          "2024-03-25",
          "2024-03-22",
          "2024-03-21",
          "2024-03-20",
          "2024-03-19",
          "2024-03-18",
          "2024-03-15",
          "2024-03-14",
          "2024-03-13",
          "2024-03-12",
          "2024-03-11",
          "2024-03-08",
          "2024-03-07",
          "2024-03-06",
          "2024-03-05",
          "2024-03-04",
          "2024-03-01",
          "2024-02-29",
          "2024-02-28",
          "2024-02-27",
          "2024-02-26",
          "2024-02-23",
          "2024-02-22",
          "2024-02-21",
          "2024-02-20",
          "2024-02-16",
          "2024-02-15",
          "2024-02-14",
          "2024-02-13",
          "2024-02-12",
          "2024-02-09",
          "2024-02-08",
          "2024-02-07",
          "2024-02-06",
          "2024-02-05",
          "2024-02-02",
          "2024-02-01",
          "2024-01-31",
          "2024-01-30",
          "2024-01-29",
          "2024-01-26",
          "2024-01-25",
          "2024-01-24",
          "2024-01-23",
          "2024-01-22",
          "2024-01-19",
          "2024-01-18",
          "2024-01-17",
          "2024-01-16",
          "2024-01-12",
          "2024-01-11",
          "2024-01-10",
          "2024-01-09",
          "2024-01-08",
          "2024-01-05",
          "2024-01-04",
          "2024-01-03",
          "2024-01-02",
          "2023-12-29",
          "2023-12-28",
          "2023-12-27",
          "2023-12-26",
          "2024-05-17",
          "2024-05-16",
          "2024-05-15",
          "2024-05-14",
          "2024-05-13",
          "2024-05-10",
          "2024-05-09",
          "2024-05-08",
          "2024-05-07",
          "2024-05-06",
          "2024-05-03",
          "2024-05-02",
          "2024-05-01",
          "2024-04-30",
          "2024-04-29",
          "2024-04-26",
          "2024-04-25",
          "2024-04-24",
          "2024-04-23",
          "2024-04-22",
          "2024-04-19",
          "2024-04-18",
          "2024-04-17",
          "2024-04-16",
          "2024-04-15",
          "2024-04-12",
          "2024-04-11",
          "2024-04-10",
          "2024-04-09",
          "2024-04-08",
          "2024-04-05",
          "2024-04-04",
          "2024-04-03",
          "2024-04-02",
          "2024-04-01",
          "2024-03-28",
          "2024-03-27",
          "2024-03-26",
          "2024-03-25",
          "2024-03-22",
          "2024-03-21",
          "2024-03-20",
          "2024-03-19",
          "2024-03-18",
          "2024-03-15",
          "2024-03-14",
          "2024-03-13",
          "2024-03-12",
          "2024-03-11",
          "2024-03-08",
          "2024-03-07",
          "2024-03-06",
          "2024-03-05",
          "2024-03-04",
          "2024-03-01",
          "2024-02-29",
          "2024-02-28",
          "2024-02-27",
          "2024-02-26",
          "2024-02-23",
          "2024-02-22",
          "2024-02-21",
          "2024-02-20",
          "2024-02-16",
          "2024-02-15",
          "2024-02-14",
          "2024-02-13",
          "2024-02-12",
          "2024-02-09",
          "2024-02-08",
          "2024-02-07",
          "2024-02-06",
          "2024-02-05",
          "2024-02-02",
          "2024-02-01",
          "2024-01-31",
          "2024-01-30",
          "2024-01-29",
          "2024-01-26",
          "2024-01-25",
          "2024-01-24",
          "2024-01-23",
          "2024-01-22",
          "2024-01-19",
          "2024-01-18",
          "2024-01-17",
          "2024-01-16",
          "2024-01-12",
          "2024-01-11",
          "2024-01-10",
          "2024-01-09",
          "2024-01-08",
          "2024-01-05",
          "2024-01-04",
          "2024-01-03",
          "2024-01-02",
          "2023-12-29",
          "2023-12-28",
          "2023-12-27",
          "2023-12-26",
          "2024-05-17",
          "2024-05-16",
          "2024-05-15",
          "2024-05-14",
          "2024-05-13",
          "2024-05-10",
          "2024-05-09",
          "2024-05-08",
          "2024-05-07",
          "2024-05-06",
          "2024-05-03",
          "2024-05-02",
          "2024-05-01",
          "2024-04-30",
          "2024-04-29",
          "2024-04-26",
          "2024-04-25",
          "2024-04-24",
          "2024-04-23",
          "2024-04-22",
          "2024-04-19",
          "2024-04-18",
          "2024-04-17",
          "2024-04-16",
          "2024-04-15",
          "2024-04-12",
          "2024-04-11",
          "2024-04-10",
          "2024-04-09",
          "2024-04-08",
          "2024-04-05",
          "2024-04-04",
          "2024-04-03",
          "2024-04-02",
          "2024-04-01",
          "2024-03-28",
          "2024-03-27",
          "2024-03-26",
          "2024-03-25",
          "2024-03-22",
          "2024-03-21",
          "2024-03-20",
          "2024-03-19",
          "2024-03-18",
          "2024-03-15",
          "2024-03-14",
          "2024-03-13",
          "2024-03-12",
          "2024-03-11",
          "2024-03-08",
          "2024-03-07",
          "2024-03-06",
          "2024-03-05",
          "2024-03-04",
          "2024-03-01",
          "2024-02-29",
          "2024-02-28",
          "2024-02-27",
          "2024-02-26",
          "2024-02-23",
          "2024-02-22",
          "2024-02-21",
          "2024-02-20",
          "2024-02-16",
          "2024-02-15",
          "2024-02-14",
          "2024-02-13",
          "2024-02-12",
          "2024-02-09",
          "2024-02-08",
          "2024-02-07",
          "2024-02-06",
          "2024-02-05",
          "2024-02-02",
          "2024-02-01",
          "2024-01-31",
          "2024-01-30",
          "2024-01-29",
          "2024-01-26",
          "2024-01-25",
          "2024-01-24",
          "2024-01-23",
          "2024-01-22",
          "2024-01-19",
          "2024-01-18",
          "2024-01-17",
          "2024-01-16",
          "2024-01-12",
          "2024-01-11",
          "2024-01-10",
          "2024-01-09",
          "2024-01-08",
          "2024-01-05",
          "2024-01-04",
          "2024-01-03",
          "2024-01-02",
          "2023-12-29",
          "2023-12-28",
          "2023-12-27",
          "2023-12-26",
          "2024-05-17",
          "2024-05-16",
          "2024-05-15",
          "2024-05-14",
          "2024-05-13",
          "2024-05-10",
          "2024-05-09",
          "2024-05-08",
          "2024-05-07",
          "2024-05-06",
          "2024-05-03",
          "2024-05-02",
          "2024-05-01",
          "2024-04-30",
          "2024-04-29",
          "2024-04-26",
          "2024-04-25",
          "2024-04-24",
          "2024-04-23",
          "2024-04-22",
          "2024-04-19",
          "2024-04-18",
          "2024-04-17",
          "2024-04-16",
          "2024-04-15",
          "2024-04-12",
          "2024-04-11",
          "2024-04-10",
          "2024-04-09",
          "2024-04-08",
          "2024-04-05",
          "2024-04-04",
          "2024-04-03",
          "2024-04-02",
          "2024-04-01",
          "2024-03-28",
          "2024-03-27",
          "2024-03-26",
          "2024-03-25",
          "2024-03-22",
          "2024-03-21",
          "2024-03-20",
          "2024-03-19",
          "2024-03-18",
          "2024-03-15",
          "2024-03-14",
          "2024-03-13",
          "2024-03-12",
          "2024-03-11",
          "2024-03-08",
          "2024-03-07",
          "2024-03-06",
          "2024-03-05",
          "2024-03-04",
          "2024-03-01",
          "2024-02-29",
          "2024-02-28",
          "2024-02-27",
          "2024-02-26",
          "2024-02-23",
          "2024-02-22",
          "2024-02-21",
          "2024-02-20",
          "2024-02-16",
          "2024-02-15",
          "2024-02-14",
          "2024-02-13",
          "2024-02-12",
          "2024-02-09",
          "2024-02-08",
          "2024-02-07",
          "2024-02-06",
          "2024-02-05",
          "2024-02-02",
          "2024-02-01",
          "2024-01-31",
          "2024-01-30",
          "2024-01-29",
          "2024-01-26",
          "2024-01-25",
          "2024-01-24",
          "2024-01-23",
          "2024-01-22",
          "2024-01-19",
          "2024-01-18",
          "2024-01-17",
          "2024-01-16",
          "2024-01-12",
          "2024-01-11",
          "2024-01-10",
          "2024-01-09",
          "2024-01-08",
          "2024-01-05",
          "2024-01-04",
          "2024-01-03",
          "2024-01-02",
          "2023-12-29",
          "2023-12-28",
          "2023-12-27",
          "2023-12-26",
          "2024-05-17",
          "2024-05-16",
          "2024-05-15",
          "2024-05-14",
          "2024-05-13",
          "2024-05-10",
          "2024-05-09",
          "2024-05-08",
          "2024-05-07",
          "2024-05-06",
          "2024-05-03",
          "2024-05-02",
          "2024-05-01",
          "2024-04-30",
          "2024-04-29",
          "2024-04-26",
          "2024-04-25",
          "2024-04-24",
          "2024-04-23",
          "2024-04-22",
          "2024-04-19",
          "2024-04-18",
          "2024-04-17",
          "2024-04-16",
          "2024-04-15",
          "2024-04-12",
          "2024-04-11",
          "2024-04-10",
          "2024-04-09",
          "2024-04-08",
          "2024-04-05",
          "2024-04-04",
          "2024-04-03",
          "2024-04-02",
          "2024-04-01",
          "2024-03-28",
          "2024-03-27",
          "2024-03-26",
          "2024-03-25",
          "2024-03-22",
          "2024-03-21",
          "2024-03-20",
          "2024-03-19",
          "2024-03-18",
          "2024-03-15",
          "2024-03-14",
          "2024-03-13",
          "2024-03-12",
          "2024-03-11",
          "2024-03-08",
          "2024-03-07",
          "2024-03-06",
          "2024-03-05",
          "2024-03-04",
          "2024-03-01",
          "2024-02-29",
          "2024-02-28",
          "2024-02-27",
          "2024-02-26",
          "2024-02-23",
          "2024-02-22",
          "2024-02-21",
          "2024-02-20",
          "2024-02-16",
          "2024-02-15",
          "2024-02-14",
          "2024-02-13",
          "2024-02-12",
          "2024-02-09",
          "2024-02-08",
          "2024-02-07",
          "2024-02-06",
          "2024-02-05",
          "2024-02-02",
          "2024-02-01",
          "2024-01-31",
          "2024-01-30",
          "2024-01-29",
          "2024-01-26",
          "2024-01-25",
          "2024-01-24",
          "2024-01-23",
          "2024-01-22",
          "2024-01-19",
          "2024-01-18",
          "2024-01-17",
          "2024-01-16",
          "2024-01-12",
          "2024-01-11",
          "2024-01-10",
          "2024-01-09",
          "2024-01-08",
          "2024-01-05",
          "2024-01-04",
          "2024-01-03",
          "2024-01-02",
          "2023-12-29",
          "2023-12-28",
          "2023-12-27",
          "2023-12-26",
          "2024-05-17",
          "2024-05-16",
          "2024-05-15",
          "2024-05-14",
          "2024-05-13",
          "2024-05-10",
          "2024-05-09",
          "2024-05-08",
          "2024-05-07",
          "2024-05-06",
          "2024-05-03",
          "2024-05-02",
          "2024-05-01",
          "2024-04-30",
          "2024-04-29",
          "2024-04-26",
          "2024-04-25",
          "2024-04-24",
          "2024-04-23",
          "2024-04-22",
          "2024-04-19",
          "2024-04-18",
          "2024-04-17",
          "2024-04-16",
          "2024-04-15",
          "2024-04-12",
          "2024-04-11",
          "2024-04-10",
          "2024-04-09",
          "2024-04-08",
          "2024-04-05",
          "2024-04-04",
          "2024-04-03",
          "2024-04-02",
          "2024-04-01",
          "2024-03-28",
          "2024-03-27",
          "2024-03-26",
          "2024-03-25",
          "2024-03-22",
          "2024-03-21",
          "2024-03-20",
          "2024-03-19",
          "2024-03-18",
          "2024-03-15",
          "2024-03-14",
          "2024-03-13",
          "2024-03-12",
          "2024-03-11",
          "2024-03-08",
          "2024-03-07",
          "2024-03-06",
          "2024-03-05",
          "2024-03-04",
          "2024-03-01",
          "2024-02-29",
          "2024-02-28",
          "2024-02-27",
          "2024-02-26",
          "2024-02-23",
          "2024-02-22",
          "2024-02-21",
          "2024-02-20",
          "2024-02-16",
          "2024-02-15",
          "2024-02-14",
          "2024-02-13",
          "2024-02-12",
          "2024-02-09",
          "2024-02-08",
          "2024-02-07",
          "2024-02-06",
          "2024-02-05",
          "2024-02-02",
          "2024-02-01",
          "2024-01-31",
          "2024-01-30",
          "2024-01-29",
          "2024-01-26",
          "2024-01-25",
          "2024-01-24",
          "2024-01-23",
          "2024-01-22",
          "2024-01-19",
          "2024-01-18",
          "2024-01-17",
          "2024-01-16",
          "2024-01-12",
          "2024-01-11",
          "2024-01-10",
          "2024-01-09",
          "2024-01-08",
          "2024-01-05",
          "2024-01-04",
          "2024-01-03",
          "2024-01-02",
          "2023-12-29",
          "2023-12-28",
          "2023-12-27",
          "2023-12-26",
          "2024-05-17",
          "2024-05-16",
          "2024-05-15",
          "2024-05-14",
          "2024-05-13",
          "2024-05-10",
          "2024-05-09",
          "2024-05-08",
          "2024-05-07",
          "2024-05-06",
          "2024-05-03",
          "2024-05-02",
          "2024-05-01",
          "2024-04-30",
          "2024-04-29",
          "2024-04-26",
          "2024-04-25",
          "2024-04-24",
          "2024-04-23",
          "2024-04-22",
          "2024-04-19",
          "2024-04-18",
          "2024-04-17",
          "2024-04-16",
          "2024-04-15",
          "2024-04-12",
          "2024-04-11",
          "2024-04-10",
          "2024-04-09",
          "2024-04-08",
          "2024-04-05",
          "2024-04-04",
          "2024-04-03",
          "2024-04-02",
          "2024-04-01",
          "2024-03-28",
          "2024-03-27",
          "2024-03-26",
          "2024-03-25",
          "2024-03-22",
          "2024-03-21",
          "2024-03-20",
          "2024-03-19",
          "2024-03-18",
          "2024-03-15",
          "2024-03-14",
          "2024-03-13",
          "2024-03-12",
          "2024-03-11",
          "2024-03-08",
          "2024-03-07",
          "2024-03-06",
          "2024-03-05",
          "2024-03-04",
          "2024-03-01",
          "2024-02-29",
          "2024-02-28",
          "2024-02-27",
          "2024-02-26",
          "2024-02-23",
          "2024-02-22",
          "2024-02-21",
          "2024-02-20",
          "2024-02-16",
          "2024-02-15",
          "2024-02-14",
          "2024-02-13",
          "2024-02-12",
          "2024-02-09",
          "2024-02-08",
          "2024-02-07",
          "2024-02-06",
          "2024-02-05",
          "2024-02-02",
          "2024-02-01",
          "2024-01-31",
          "2024-01-30",
          "2024-01-29",
          "2024-01-26",
          "2024-01-25",
          "2024-01-24",
          "2024-01-23",
          "2024-01-22",
          "2024-01-19",
          "2024-01-18",
          "2024-01-17",
          "2024-01-16",
          "2024-01-12",
          "2024-01-11",
          "2024-01-10",
          "2024-01-09",
          "2024-01-08",
          "2024-01-05",
          "2024-01-04",
          "2024-01-03",
          "2024-01-02",
          "2023-12-29",
          "2023-12-28",
          "2023-12-27",
          "2023-12-26",
          "2024-05-17",
          "2024-05-16",
          "2024-05-15",
          "2024-05-14",
          "2024-05-13",
          "2024-05-10",
          "2024-05-09",
          "2024-05-08",
          "2024-05-07",
          "2024-05-06",
          "2024-05-03",
          "2024-05-02",
          "2024-05-01",
          "2024-04-30",
          "2024-04-29",
          "2024-04-26",
          "2024-04-25",
          "2024-04-24",
          "2024-04-23",
          "2024-04-22",
          "2024-04-19",
          "2024-04-18",
          "2024-04-17",
          "2024-04-16",
          "2024-04-15",
          "2024-04-12",
          "2024-04-11",
          "2024-04-10",
          "2024-04-09",
          "2024-04-08",
          "2024-04-05",
          "2024-04-04",
          "2024-04-03",
          "2024-04-02",
          "2024-04-01",
          "2024-03-28",
          "2024-03-27",
          "2024-03-26",
          "2024-03-25",
          "2024-03-22",
          "2024-03-21",
          "2024-03-20",
          "2024-03-19",
          "2024-03-18",
          "2024-03-15",
          "2024-03-14",
          "2024-03-13",
          "2024-03-12",
          "2024-03-11",
          "2024-03-08",
          "2024-03-07",
          "2024-03-06",
          "2024-03-05",
          "2024-03-04",
          "2024-03-01",
          "2024-02-29",
          "2024-02-28",
          "2024-02-27",
          "2024-02-26",
          "2024-02-23",
          "2024-02-22",
          "2024-02-21",
          "2024-02-20",
          "2024-02-16",
          "2024-02-15",
          "2024-02-14",
          "2024-02-13",
          "2024-02-12",
          "2024-02-09",
          "2024-02-08",
          "2024-02-07",
          "2024-02-06",
          "2024-02-05",
          "2024-02-02",
          "2024-02-01",
          "2024-01-31",
          "2024-01-30",
          "2024-01-29",
          "2024-01-26",
          "2024-01-25",
          "2024-01-24",
          "2024-01-23",
          "2024-01-22",
          "2024-01-19",
          "2024-01-18",
          "2024-01-17",
          "2024-01-16",
          "2024-01-12",
          "2024-01-11",
          "2024-01-10",
          "2024-01-09",
          "2024-01-08",
          "2024-01-05",
          "2024-01-04",
          "2024-01-03",
          "2024-01-02",
          "2023-12-29",
          "2023-12-28",
          "2023-12-27",
          "2023-12-26",
          "2024-05-17",
          "2024-05-16",
          "2024-05-15",
          "2024-05-14",
          "2024-05-13",
          "2024-05-10",
          "2024-05-09",
          "2024-05-08",
          "2024-05-07",
          "2024-05-06",
          "2024-05-03",
          "2024-05-02",
          "2024-05-01",
          "2024-04-30",
          "2024-04-29",
          "2024-04-26",
          "2024-04-25",
          "2024-04-24",
          "2024-04-23",
          "2024-04-22",
          "2024-04-19",
          "2024-04-18",
          "2024-04-17",
          "2024-04-16",
          "2024-04-15",
          "2024-04-12",
          "2024-04-11",
          "2024-04-10",
          "2024-04-09",
          "2024-04-08",
          "2024-04-05",
          "2024-04-04",
          "2024-04-03",
          "2024-04-02",
          "2024-04-01",
          "2024-03-28",
          "2024-03-27",
          "2024-03-26",
          "2024-03-25",
          "2024-03-22",
          "2024-03-21",
          "2024-03-20",
          "2024-03-19",
          "2024-03-18",
          "2024-03-15",
          "2024-03-14",
          "2024-03-13",
          "2024-03-12",
          "2024-03-11",
          "2024-03-08",
          "2024-03-07",
          "2024-03-06",
          "2024-03-05",
          "2024-03-04",
          "2024-03-01",
          "2024-02-29",
          "2024-02-28",
          "2024-02-27",
          "2024-02-26",
          "2024-02-23",
          "2024-02-22",
          "2024-02-21",
          "2024-02-20",
          "2024-02-16",
          "2024-02-15",
          "2024-02-14",
          "2024-02-13",
          "2024-02-12",
          "2024-02-09",
          "2024-02-08",
          "2024-02-07",
          "2024-02-06",
          "2024-02-05",
          "2024-02-02",
          "2024-02-01",
          "2024-01-31",
          "2024-01-30",
          "2024-01-29",
          "2024-01-26",
          "2024-01-25",
          "2024-01-24",
          "2024-01-23",
          "2024-01-22",
          "2024-01-19",
          "2024-01-18",
          "2024-01-17",
          "2024-01-16",
          "2024-01-12",
          "2024-01-11",
          "2024-01-10",
          "2024-01-09",
          "2024-01-08",
          "2024-01-05",
          "2024-01-04",
          "2024-01-03",
          "2024-01-02",
          "2023-12-29",
          "2023-12-28",
          "2023-12-27",
          "2023-12-26",
          "2024-05-17",
          "2024-05-16",
          "2024-05-15",
          "2024-05-14",
          "2024-05-13",
          "2024-05-10",
          "2024-05-09",
          "2024-05-08",
          "2024-05-07",
          "2024-05-06",
          "2024-05-03",
          "2024-05-02",
          "2024-05-01",
          "2024-04-30",
          "2024-04-29",
          "2024-04-26",
          "2024-04-25",
          "2024-04-24",
          "2024-04-23",
          "2024-04-22",
          "2024-04-19",
          "2024-04-18",
          "2024-04-17",
          "2024-04-16",
          "2024-04-15",
          "2024-04-12",
          "2024-04-11",
          "2024-04-10",
          "2024-04-09",
          "2024-04-08",
          "2024-04-05",
          "2024-04-04",
          "2024-04-03",
          "2024-04-02",
          "2024-04-01",
          "2024-03-28",
          "2024-03-27",
          "2024-03-26",
          "2024-03-25",
          "2024-03-22",
          "2024-03-21",
          "2024-03-20",
          "2024-03-19",
          "2024-03-18",
          "2024-03-15",
          "2024-03-14",
          "2024-03-13",
          "2024-03-12",
          "2024-03-11",
          "2024-03-08",
          "2024-03-07",
          "2024-03-06",
          "2024-03-05",
          "2024-03-04",
          "2024-03-01",
          "2024-02-29",
          "2024-02-28",
          "2024-02-27",
          "2024-02-26",
          "2024-02-23",
          "2024-02-22",
          "2024-02-21",
          "2024-02-20",
          "2024-02-16",
          "2024-02-15",
          "2024-02-14",
          "2024-02-13",
          "2024-02-12",
          "2024-02-09",
          "2024-02-08",
          "2024-02-07",
          "2024-02-06",
          "2024-02-05",
          "2024-02-02",
          "2024-02-01",
          "2024-01-31",
          "2024-01-30",
          "2024-01-29",
          "2024-01-26",
          "2024-01-25",
          "2024-01-24",
          "2024-01-23",
          "2024-01-22",
          "2024-01-19",
          "2024-01-18",
          "2024-01-17",
          "2024-01-16",
          "2024-01-12",
          "2024-01-11",
          "2024-01-10",
          "2024-01-09",
          "2024-01-08",
          "2024-01-05",
          "2024-01-04",
          "2024-01-03",
          "2024-01-02",
          "2023-12-29",
          "2023-12-28",
          "2023-12-27",
          "2023-12-26",
          "2024-05-17",
          "2024-05-16",
          "2024-05-15",
          "2024-05-14",
          "2024-05-13",
          "2024-05-10",
          "2024-05-09",
          "2024-05-08",
          "2024-05-07",
          "2024-05-06",
          "2024-05-03",
          "2024-05-02",
          "2024-05-01",
          "2024-04-30",
          "2024-04-29",
          "2024-04-26",
          "2024-04-25",
          "2024-04-24",
          "2024-04-23",
          "2024-04-22",
          "2024-04-19",
          "2024-04-18",
          "2024-04-17",
          "2024-04-16",
          "2024-04-15",
          "2024-04-12",
          "2024-04-11",
          "2024-04-10",
          "2024-04-09",
          "2024-04-08",
          "2024-04-05",
          "2024-04-04",
          "2024-04-03",
          "2024-04-02",
          "2024-04-01",
          "2024-03-28",
          "2024-03-27",
          "2024-03-26",
          "2024-03-25",
          "2024-03-22",
          "2024-03-21",
          "2024-03-20",
          "2024-03-19",
          "2024-03-18",
          "2024-03-15",
          "2024-03-14",
          "2024-03-13",
          "2024-03-12",
          "2024-03-11",
          "2024-03-08",
          "2024-03-07",
          "2024-03-06",
          "2024-03-05",
          "2024-03-04",
          "2024-03-01",
          "2024-02-29",
          "2024-02-28",
          "2024-02-27",
          "2024-02-26",
          "2024-02-23",
          "2024-02-22",
          "2024-02-21",
          "2024-02-20",
          "2024-02-16",
          "2024-02-15",
          "2024-02-14",
          "2024-02-13",
          "2024-02-12",
          "2024-02-09",
          "2024-02-08",
          "2024-02-07",
          "2024-02-06",
          "2024-02-05",
          "2024-02-02",
          "2024-02-01",
          "2024-01-31",
          "2024-01-30",
          "2024-01-29",
          "2024-01-26",
          "2024-01-25",
          "2024-01-24",
          "2024-01-23",
          "2024-01-22",
          "2024-01-19",
          "2024-01-18",
          "2024-01-17",
          "2024-01-16",
          "2024-01-12",
          "2024-01-11",
          "2024-01-10",
          "2024-01-09",
          "2024-01-08",
          "2024-01-05",
          "2024-01-04",
          "2024-01-03",
          "2024-01-02",
          "2023-12-29",
          "2023-12-28",
          "2023-12-27",
          "2023-12-26",
          "2024-05-17",
          "2024-05-16",
          "2024-05-15",
          "2024-05-14",
          "2024-05-13",
          "2024-05-10",
          "2024-05-09",
          "2024-05-08",
          "2024-05-07",
          "2024-05-06",
          "2024-05-03",
          "2024-05-02",
          "2024-05-01",
          "2024-04-30",
          "2024-04-29",
          "2024-04-26",
          "2024-04-25",
          "2024-04-24",
          "2024-04-23",
          "2024-04-22",
          "2024-04-19",
          "2024-04-18",
          "2024-04-17",
          "2024-04-16",
          "2024-04-15",
          "2024-04-12",
          "2024-04-11",
          "2024-04-10",
          "2024-04-09",
          "2024-04-08",
          "2024-04-05",
          "2024-04-04",
          "2024-04-03",
          "2024-04-02",
          "2024-04-01",
          "2024-03-28",
          "2024-03-27",
          "2024-03-26",
          "2024-03-25",
          "2024-03-22",
          "2024-03-21",
          "2024-03-20",
          "2024-03-19",
          "2024-03-18",
          "2024-03-15",
          "2024-03-14",
          "2024-03-13",
          "2024-03-12",
          "2024-03-11",
          "2024-03-08",
          "2024-03-07",
          "2024-03-06",
          "2024-03-05",
          "2024-03-04",
          "2024-03-01",
          "2024-02-29",
          "2024-02-28",
          "2024-02-27",
          "2024-02-26",
          "2024-02-23",
          "2024-02-22",
          "2024-02-21",
          "2024-02-20",
          "2024-02-16",
          "2024-02-15",
          "2024-02-14",
          "2024-02-13",
          "2024-02-12",
          "2024-02-09",
          "2024-02-08",
          "2024-02-07",
          "2024-02-06",
          "2024-02-05",
          "2024-02-02",
          "2024-02-01",
          "2024-01-31",
          "2024-01-30",
          "2024-01-29",
          "2024-01-26",
          "2024-01-25",
          "2024-01-24",
          "2024-01-23",
          "2024-01-22",
          "2024-01-19",
          "2024-01-18",
          "2024-01-17",
          "2024-01-16",
          "2024-01-12",
          "2024-01-11",
          "2024-01-10",
          "2024-01-09",
          "2024-01-08",
          "2024-01-05",
          "2024-01-04",
          "2024-01-03",
          "2024-01-02",
          "2023-12-29",
          "2023-12-28",
          "2023-12-27",
          "2023-12-26",
          "2024-05-17",
          "2024-05-16",
          "2024-05-15",
          "2024-05-14",
          "2024-05-13",
          "2024-05-10",
          "2024-05-09",
          "2024-05-08",
          "2024-05-07",
          "2024-05-06",
          "2024-05-03",
          "2024-05-02",
          "2024-05-01",
          "2024-04-30",
          "2024-04-29",
          "2024-04-26",
          "2024-04-25",
          "2024-04-24",
          "2024-04-23",
          "2024-04-22",
          "2024-04-19",
          "2024-04-18",
          "2024-04-17",
          "2024-04-16",
          "2024-04-15",
          "2024-04-12",
          "2024-04-11",
          "2024-04-10",
          "2024-04-09",
          "2024-04-08",
          "2024-04-05",
          "2024-04-04",
          "2024-04-03",
          "2024-04-02",
          "2024-04-01",
          "2024-03-28",
          "2024-03-27",
          "2024-03-26",
          "2024-03-25",
          "2024-03-22",
          "2024-03-21",
          "2024-03-20",
          "2024-03-19",
          "2024-03-18",
          "2024-03-15",
          "2024-03-14",
          "2024-03-13",
          "2024-03-12",
          "2024-03-11",
          "2024-03-08",
          "2024-03-07",
          "2024-03-06",
          "2024-03-05",
          "2024-03-04",
          "2024-03-01",
          "2024-02-29",
          "2024-02-28",
          "2024-02-27",
          "2024-02-26",
          "2024-02-23",
          "2024-02-22",
          "2024-02-21",
          "2024-02-20",
          "2024-02-16",
          "2024-02-15",
          "2024-02-14",
          "2024-02-13",
          "2024-02-12",
          "2024-02-09",
          "2024-02-08",
          "2024-02-07",
          "2024-02-06",
          "2024-02-05",
          "2024-02-02",
          "2024-02-01",
          "2024-01-31",
          "2024-01-30",
          "2024-01-29",
          "2024-01-26",
          "2024-01-25",
          "2024-01-24",
          "2024-01-23",
          "2024-01-22",
          "2024-01-19",
          "2024-01-18",
          "2024-01-17",
          "2024-01-16",
          "2024-01-12",
          "2024-01-11",
          "2024-01-10",
          "2024-01-09",
          "2024-01-08",
          "2024-01-05",
          "2024-01-04",
          "2024-01-03",
          "2024-01-02",
          "2023-12-29",
          "2023-12-28",
          "2023-12-27",
          "2023-12-26",
          "2024-05-17",
          "2024-05-16",
          "2024-05-15",
          "2024-05-14",
          "2024-05-13",
          "2024-05-10",
          "2024-05-09",
          "2024-05-08",
          "2024-05-07",
          "2024-05-06",
          "2024-05-03",
          "2024-05-02",
          "2024-05-01",
          "2024-04-30",
          "2024-04-29",
          "2024-04-26",
          "2024-04-25",
          "2024-04-24",
          "2024-04-23",
          "2024-04-22",
          "2024-04-19",
          "2024-04-18",
          "2024-04-17",
          "2024-04-16",
          "2024-04-15",
          "2024-04-12",
          "2024-04-11",
          "2024-04-10",
          "2024-04-09",
          "2024-04-08",
          "2024-04-05",
          "2024-04-04",
          "2024-04-03",
          "2024-04-02",
          "2024-04-01",
          "2024-03-28",
          "2024-03-27",
          "2024-03-26",
          "2024-03-25",
          "2024-03-22",
          "2024-03-21",
          "2024-03-20",
          "2024-03-19",
          "2024-03-18",
          "2024-03-15",
          "2024-03-14",
          "2024-03-13",
          "2024-03-12",
          "2024-03-11",
          "2024-03-08",
          "2024-03-07",
          "2024-03-06",
          "2024-03-05",
          "2024-03-04",
          "2024-03-01",
          "2024-02-29",
          "2024-02-28",
          "2024-02-27",
          "2024-02-26",
          "2024-02-23",
          "2024-02-22",
          "2024-02-21",
          "2024-02-20",
          "2024-02-16",
          "2024-02-15",
          "2024-02-14",
          "2024-02-13",
          "2024-02-12",
          "2024-02-09",
          "2024-02-08",
          "2024-02-07",
          "2024-02-06",
          "2024-02-05",
          "2024-02-02",
          "2024-02-01",
          "2024-01-31",
          "2024-01-30",
          "2024-01-29",
          "2024-01-26",
          "2024-01-25",
          "2024-01-24",
          "2024-01-23",
          "2024-01-22",
          "2024-01-19",
          "2024-01-18",
          "2024-01-17",
          "2024-01-16",
          "2024-01-12",
          "2024-01-11",
          "2024-01-10",
          "2024-01-09",
          "2024-01-08",
          "2024-01-05",
          "2024-01-04",
          "2024-01-03",
          "2024-01-02",
          "2023-12-29",
          "2023-12-28",
          "2023-12-27",
          "2023-12-26",
          "2024-05-17",
          "2024-05-16",
          "2024-05-15",
          "2024-05-14",
          "2024-05-13",
          "2024-05-10",
          "2024-05-09",
          "2024-05-08",
          "2024-05-07",
          "2024-05-06",
          "2024-05-03",
          "2024-05-02",
          "2024-05-01",
          "2024-04-30",
          "2024-04-29",
          "2024-04-26",
          "2024-04-25",
          "2024-04-24",
          "2024-04-23",
          "2024-04-22",
          "2024-04-19",
          "2024-04-18",
          "2024-04-17",
          "2024-04-16",
          "2024-04-15",
          "2024-04-12",
          "2024-04-11",
          "2024-04-10",
          "2024-04-09",
          "2024-04-08",
          "2024-04-05",
          "2024-04-04",
          "2024-04-03",
          "2024-04-02",
          "2024-04-01",
          "2024-03-28",
          "2024-03-27",
          "2024-03-26",
          "2024-03-25",
          "2024-03-22",
          "2024-03-21",
          "2024-03-20",
          "2024-03-19",
          "2024-03-18",
          "2024-03-15",
          "2024-03-14",
          "2024-03-13",
          "2024-03-12",
          "2024-03-11",
          "2024-03-08",
          "2024-03-07",
          "2024-03-06",
          "2024-03-05",
          "2024-03-04",
          "2024-03-01",
          "2024-02-29",
          "2024-02-28",
          "2024-02-27",
          "2024-02-26",
          "2024-02-23",
          "2024-02-22",
          "2024-02-21",
          "2024-02-20",
          "2024-02-16",
          "2024-02-15",
          "2024-02-14",
          "2024-02-13",
          "2024-02-12",
          "2024-02-09",
          "2024-02-08",
          "2024-02-07",
          "2024-02-06",
          "2024-02-05",
          "2024-02-02",
          "2024-02-01",
          "2024-01-31",
          "2024-01-30",
          "2024-01-29",
          "2024-01-26",
          "2024-01-25",
          "2024-01-24",
          "2024-01-23",
          "2024-01-22",
          "2024-01-19",
          "2024-01-18",
          "2024-01-17",
          "2024-01-16",
          "2024-01-12",
          "2024-01-11",
          "2024-01-10",
          "2024-01-09",
          "2024-01-08",
          "2024-01-05",
          "2024-01-04",
          "2024-01-03",
          "2024-01-02",
          "2023-12-29",
          "2023-12-28",
          "2023-12-27",
          "2023-12-26",
          "2024-05-17",
          "2024-05-16",
          "2024-05-15",
          "2024-05-14",
          "2024-05-13",
          "2024-05-10",
          "2024-05-09",
          "2024-05-08",
          "2024-05-07",
          "2024-05-06",
          "2024-05-03",
          "2024-05-02",
          "2024-05-01",
          "2024-04-30",
          "2024-04-29",
          "2024-04-26",
          "2024-04-25",
          "2024-04-24",
          "2024-04-23",
          "2024-04-22",
          "2024-04-19",
          "2024-04-18",
          "2024-04-17",
          "2024-04-16",
          "2024-04-15",
          "2024-04-12",
          "2024-04-11",
          "2024-04-10",
          "2024-04-09",
          "2024-04-08",
          "2024-04-05",
          "2024-04-04",
          "2024-04-03",
          "2024-04-02",
          "2024-04-01",
          "2024-03-28",
          "2024-03-27",
          "2024-03-26",
          "2024-03-25",
          "2024-03-22",
          "2024-03-21",
          "2024-03-20",
          "2024-03-19",
          "2024-03-18",
          "2024-03-15",
          "2024-03-14",
          "2024-03-13",
          "2024-03-12",
          "2024-03-11",
          "2024-03-08",
          "2024-03-07",
          "2024-03-06",
          "2024-03-05",
          "2024-03-04",
          "2024-03-01",
          "2024-02-29",
          "2024-02-28",
          "2024-02-27",
          "2024-02-26",
          "2024-02-23",
          "2024-02-22",
          "2024-02-21",
          "2024-02-20",
          "2024-02-16",
          "2024-02-15",
          "2024-02-14",
          "2024-02-13",
          "2024-02-12",
          "2024-02-09",
          "2024-02-08",
          "2024-02-07",
          "2024-02-06",
          "2024-02-05",
          "2024-02-02",
          "2024-02-01",
          "2024-01-31",
          "2024-01-30",
          "2024-01-29",
          "2024-01-26",
          "2024-01-25",
          "2024-01-24",
          "2024-01-23",
          "2024-01-22",
          "2024-01-19",
          "2024-01-18",
          "2024-01-17",
          "2024-01-16",
          "2024-01-12",
          "2024-01-11",
          "2024-01-10",
          "2024-01-09",
          "2024-01-08",
          "2024-01-05",
          "2024-01-04",
          "2024-01-03",
          "2024-01-02",
          "2023-12-29",
          "2023-12-28",
          "2023-12-27",
          "2023-12-26"
         ],
         "y": [
          0.01580278128950755,
          0.06325110689437305,
          1.2217894680680745,
          0.6173502254670419,
          1.7645452062278009,
          -0.8235357858806858,
          1.001422786472575,
          0.18640350877193168,
          0.3797259369324736,
          -0.9106772821463559,
          5.98162168410102,
          2.2031896042527994,
          -0.6047085070157935,
          -1.8270893371757853,
          2.480803307737737,
          -0.34728353640589504,
          0.5147319843805325,
          1.2702216896345144,
          0.6391702846116754,
          0.5090909090909111,
          -1.2212643678160873,
          -0.5714285714285762,
          -0.8147360963513965,
          -1.9167293995019992,
          -2.18634947606911,
          0.8626599634369397,
          4.327095005364162,
          -1.1139270348323136,
          0.7242505194419703,
          -0.6663521641703171,
          0.45018362753229435,
          -0.48924255820808277,
          0.4797441364605557,
          -0.6998764923836956,
          -0.8455796594354961,
          -1.0559113726847917,
          2.1212656885274845,
          -0.6672519754170245,
          -0.8300441142326485,
          0.5310147633774853,
          -4.085744668942734,
          1.4709223080417848,
          1.3585079438176455,
          0.6372378635152325,
          -0.2196531791907488,
          1.092736516098875,
          -1.2122611556889653,
          0.27785817655571043,
          1.1831546886897502,
          1.0236686390532483,
          -0.07095553453169616,
          -0.587820362097343,
          -2.8440890919474526,
          -2.5381275743070257,
          -0.6030428769017999,
          -0.3693087862418628,
          -0.6625417510814258,
          0.8114374034003086,
          -0.7451238220469064,
          -1.0034170418180801,
          1.1243966652040431,
          0.4185944040537513,
          -0.4113871976304097,
          -0.8430327423039331,
          -0.15748031496062562,
          -0.4809770860354444,
          -1.1274378840502344,
          -0.9001853322742858,
          0.28143585386576103,
          -0.5754712000422382,
          0.05810882197569213,
          0.8631713554987236,
          0.9846650524616694,
          -0.540511612972289,
          1.3340563991323253,
          -1.9357583492873784,
          -1.9245814426537309,
          -0.35859058309946873,
          -0.9012720811659887,
          -0.16966580976864395,
          -0.3483963520852581,
          0.6653257001392648,
          1.2163290874921613,
          1.5533054127127217,
          3.2570615283555884,
          -0.5173446604585246,
          -1.2317125645438858,
          0.1778113044883798,
          -0.32225146355872725,
          0.567138381765157,
          -0.2263418840267385,
          2.4174853736615494,
          -0.4012973448408497,
          -1.270013568521033,
          -0.7487610428786827,
          -3.578663065496294,
          -0.5424114061370034,
          0.22262490292519121,
          0.05180005180004885,
          0,
          -0.18527756003706253,
          -0.49399640729885014,
          1.5652006913769883,
          0.6864546069805605,
          -0.2459372136760336,
          0.5869227784245286,
          0.43357529108003423,
          0.29315483461182523,
          -1.0156212216472518,
          1.691831013623173,
          2.216971646893236,
          0.7342887527219266,
          1.440936994323585,
          -3.211932877563708,
          -1.0016735577869644,
          1.8243785084202016,
          -2.449518408057493,
          0.36558137252496725,
          1.6485434956105383,
          0.4610142313088732,
          -1.2739011056966822,
          -1.8380924630924615,
          -0.6609098364609989,
          0.2272507494439604,
          -1.9578099075610316,
          -1.4091089664197485,
          1.103340736190525,
          -0.7084545369240832,
          0.39803104171082637,
          -0.2185561195713496,
          1.8282760601129477,
          -0.6112498513497427,
          -0.2349088838268814,
          -0.7372164778481748,
          0.9150979273626083,
          -0.16847400517285896,
          -0.05217597533498647,
          -0.2861467152249057,
          -1.3714605588468525,
          -0.14672659943638247,
          0.9735907626460942,
          0.9064806245698945,
          0.9800632608070622,
          0.21612794774505964,
          -2.0695169559286986,
          2.4379667549987967,
          -0.04334424966286601,
          2.6599426480767305,
          -0.4184924425188434,
          -0.7136921347216012,
          1.7533388047452092,
          -0.1390786042468651,
          -2.95719656801312,
          -0.13959085439229463,
          0.4496663765593303,
          1.451976846855675,
          0.05889859625012494,
          -0.01472248122883699,
          -0.6823609689525649,
          -0.3182315073484762,
          2.354667064498476,
          -0.15144368032970373,
          -0.3143097559768306,
          -0.6149153876426603,
          -0.7155241886248765,
          0.7801732624532428,
          -2.1528680826470157,
          -1.2578765901795317,
          1.5551423534809585,
          0.01449100350199306,
          2.111026165873388,
          -0.039442869468746006,
          -1.3545061037887383,
          1.8425875476744897,
          1.5594345792041826,
          -2.694632761447904,
          -0.27579810602363863,
          1.433416681108118,
          -0.23217329019191288,
          0.5738275039745634,
          0.9175231887691214,
          0.6027590729111463,
          -0.5418014899541036,
          1.2186762129636712,
          1.129740416463393,
          -0.2049862915417415,
          0.46335624372537243,
          0.9983620622416431,
          0.48593149933380714,
          1.8574203677585783,
          0.2935760228455584,
          1.8871515975526845,
          -0.051638854161003896,
          -0.7177549919050256,
          -0.07280179038476604,
          -1.3748537389639441,
          0.20251545512685137,
          0.3234688694629293,
          -0.15747611167459344,
          0,
          0.5826934596743415,
          -1.2688854239475313,
          -0.5773239963649885,
          0.2679959264619178,
          -0.48538510774482435,
          -1.0659630606860213,
          0.7978723404255319,
          -0.40262767535494326,
          0.03179650238473889,
          1.337199935556619,
          0.8066262451277659,
          3.1955307262569828,
          2.2857142857142856,
          -3.2935455349248492,
          0.7460193742344969,
          3.426037887948418,
          -1.6535477660116746,
          -1.6430878912777034,
          1.303391073745981,
          1.4888621657218086,
          -2.5610980917308357,
          -1.1363636363636376,
          -1.112808204233031,
          -0.1633808953273126,
          -1.3485198517165373,
          -1.5445649299127298,
          1.6671148158107143,
          0.15080519200732545,
          0.2591932609752091,
          0.06484033068568897,
          2.816666666666663,
          -1.3211994956416844,
          0.951906580330953,
          -0.15472177709012605,
          0.3270872602284086,
          0.3058444086081204,
          0.8581043185642182,
          -0.7845974069333908,
          0.4696148040476343,
          0.4041538029750204,
          0,
          1.2791358726549176,
          0.8138468592388904,
          0.03439972480220289,
          -2.4223776223776294,
          1.2432386508453417,
          0.6642339928160218,
          1.9946499185857047,
          -1.933276304533782,
          -0.8313539192399044,
          1.9076710276064792,
          -0.3503331036067159,
          -1.9484176145962424,
          -0.35910672202894534,
          0.8259787282190586,
          2.0790020790020756,
          -0.21896968998501523,
          -0.6810507640359399,
          -0.1485799188525169,
          0.23484935273226978,
          3.5529983984815288,
          0.9037586784773707,
          -1.4335437437319207,
          -0.17078916372203795,
          -0.6901391975669543,
          1.3875711574952583,
          -2.146918881281198,
          -1.209515620521631,
          2.714319359397071,
          -0.40462088782032357,
          0.8158439255098997,
          -0.6811109153895817,
          -0.8730574471800244,
          7.866649924660975,
          2.6288659793814517,
          -2.389937106918246,
          -1.4014634751333195,
          1.3448969331322187,
          0.8684627575277366,
          0.5609740549499557,
          0.5448019484681415,
          0.8011370978162612,
          -0.3604995493755647,
          1.1986970684039109,
          1.1798826708852361,
          -0.9467223818229229,
          -0.9442504203854664,
          -0.360871246294627,
          0.9432121251545028,
          1.5590936116799796,
          1.522468142186459,
          2.657670063343421,
          0.46344331465727046,
          -2.6267932915740593,
          -0.9737877676248969,
          -1.3228906147163295,
          -0.9388446994392997,
          0.026085822355544568,
          -0.04562935923342232,
          0,
          -1.9923907629372999,
          -0.28637852689421145,
          3.583782127063358,
          1.0586400292038558,
          0.5796746701083733,
          1.2744092758065,
          -1.8415697031367493,
          -0.15681250966273816,
          -1.721293683525072,
          3.774116163038213,
          3.4631832853630433,
          3.342926987873459,
          -3.88995625101271,
          -1.5440363731668205,
          0.025075511483447572,
          6.1755736276503015,
          3.7087239730411623,
          -3.331594336532283,
          3.6532608969038547,
          4.3543307086614105,
          -10.004606063469195,
          0.756827512346048,
          -3.8666132814734264,
          1.6441669282915299,
          -2.4777175515387957,
          -2.681645625496596,
          4.109651995082662,
          1.9741312650842402,
          -2.0417063569485814,
          -0.9942277974729569,
          2.448053081892799,
          -3.4384694932781836,
          -0.5455439788937079,
          -1.0081559930502544,
          0.007747133560588121,
          0.11745152354570032,
          -2.496731884919136,
          -2.5694195911664988,
          0.7561857692837972,
          3.121343030568159,
          1.1762492807506746,
          1.089509832434731,
          1.0660787971284906,
          0.7041491862722155,
          -0.12223687801328634,
          -3.239151483144083,
          -1.1151850119134399,
          7.15718049758668,
          -2.003930170916731,
          -5.54770203627967,
          4.47463359639234,
          3.1827276534363236,
          0.8529159871886601,
          3.595085015617599,
          4.003185357467888,
          1.8657533188262119,
          -1.3189158968755157,
          -0.4943609973195732,
          0.34890949921971154,
          0.3552420484351478,
          16.400877400995963,
          -2.850889823187231,
          -4.3532149890515495,
          -0.06193399212750769,
          -1.6806495263870038,
          2.456743566992018,
          -0.16609456317130514,
          0.15942772378799955,
          3.578351832971967,
          -0.6533616742036321,
          2.7498057839731453,
          -1.5995499913459919,
          4.7944377267231,
          4.970885493518657,
          2.4379540689453414,
          -1.986491222480649,
          0.4946770191307183,
          2.3496256001048703,
          -0.951036239998704,
          0.41556663733254373,
          2.4869306699179905,
          0.36711704160660724,
          0.27399102385234664,
          4.174619573782533,
          1.8803632276595503,
          -0.583519562981107,
          3.0561140559312787,
          -0.20429754478129303,
          0.8684452621895175,
          2.2770041400075316,
          1.697510190802443,
          6.428091329409118,
          2.2896787366140274,
          0.9018478420820325,
          -1.2435641919946872,
          -2.7341383627478737,
          0,
          0.21247748750430245,
          0.2800381501247987,
          0,
          1.079343208175448,
          0.9680598226189879,
          1.273922742749787,
          0.7094714437743982,
          0.2905425437296061,
          -0.7707695928453767,
          0.34242531585784186,
          -1.0919708029197106,
          1.873884592504465,
          0.5142310452044877,
          0.3721041891729711,
          1.6843647015745093,
          0.6634721710283895,
          -2.0282876918447212,
          -3.3730735678976353,
          10.224358974358967,
          -1.9669452648777703,
          0.5497282952104161,
          1.2669567443050869,
          1.4212473229930545,
          -1.2306903403627893,
          0.3473338907827826,
          0.6930051813471458,
          -0.2970424899909647,
          -1.8195650795663325,
          -1.0538862053823517,
          2.0942743691558925,
          -0.29374201787995396,
          1.130125928317727,
          1.5409836065573734,
          1.3087092273965315,
          -2.8337206300025732,
          0.2329192546583755,
          -0.598109203164195,
          3.0212681375472084,
          0.03976933784052646,
          0.13274042609677908,
          0.39981342040380774,
          -0.4642833454931465,
          2.1476964769647804,
          -0.7664380798709256,
          1.1630279534788874,
          -0.4401408450704264,
          4.6040515653775325,
          -1.3417190775681254,
          2.367837470491453,
          0.9314079422382614,
          0.602890971162935,
          1.6690052433350497,
          0.7664831076052993,
          2.267884322678835,
          -0.9572623803421889,
          -0.5099362579677592,
          -2.763599241650862,
          -0.9533439260436382,
          1.5251503152955073,
          -1.800115207373272,
          0.9522424947299574,
          -4.438732981383728,
          -0.09022138940939374,
          1.0803226937916464,
          1.0133219954648574,
          0.42698548249359114,
          -1.575961336415213,
          -2.172125531040145,
          0.5511919525975,
          -1.6200094895953465,
          -0.9865771812080528,
          2.117743814680285,
          0.2542256424350725,
          0.999306037473975,
          0.2923162583518844,
          0.9130495856159653,
          0.8642674978747513,
          0.7566024268379745,
          -7.500330120163748,
          -1.3354178880854557,
          0.870650852580733,
          0.2074142358596153,
          2.1318090114324253,
          1.1289445048966245,
          0.7192273443386415,
          -0.2664298401420866,
          2.0211876219682225,
          1.4207959284653926,
          -0.7158397080496948,
          -0.11216263582193942,
          0.40118243243242757,
          -0.1405678942929355,
          0.9435970202199452,
          1.5197349467012282,
          2.291313637368315,
          -0.48390644475401173,
          -1.8211920529801335,
          0.5428095823984946,
          -1.0881237024840793,
          -0.3850816515724111,
          -0.0997364109140235,
          -0.8126059920859283,
          0,
          1.498512926103869,
          0.4885338237829728,
          -2.005068994649396,
          3.2928035371458635,
          2.0300350210719937,
          -2.0352387044251903,
          -1.5739468864468864,
          -1.7378100219335266,
          -3.761636717904302,
          1.9703074121088324,
          0.6555191378256802,
          0.01111172842934708,
          -1.7950676560453909,
          -5.550115949497557,
          15.306910689880576,
          -1.1105887883417644,
          4.9651514216986445,
          12.06110035941387,
          1.8514607532558922,
          -3.4002040122407338,
          -1.9208964183285504,
          -3.550981022836914,
          -1.056584558589539,
          -2.7062174882338224,
          -5.59485530546625,
          -2.033218785796096,
          1.6534699580810455,
          -2.894617819990957,
          2.25459590704128,
          4.899939357186164,
          -3.629244345742509,
          1.6213326998455981,
          1.050231050831183,
          -4.902408400867483,
          -0.32425052619602546,
          -2.2465662014124566,
          1.2157370405808663,
          2.9195388982216257,
          1.0536790961774762,
          -1.1514870964008683,
          -1.6167596493225567,
          2.533271071678732,
          -1.4269275028768802,
          6.254203093476811,
          0.6584615384615342,
          -4.118480056643846,
          -4.539822011940973,
          -0.1293806604039029,
          1.3858788639215278,
          -1.8527847746991337,
          1.195196556021306,
          -2.323780015491876,
          -3.933241203359189,
          -7.155546782471378,
          0.3764612641172929,
          -0.07919223916056058,
          1.1565613578330758,
          0.16549648946839723,
          3.870396416106687,
          -2.7556861354541295,
          1.355444883708983,
          0.5212634186622725,
          -3.0957739434858706,
          -0.2494387627837366,
          6.221185946690679,
          2.548636017824148,
          -2.184659543932379,
          -2.8103528439324266,
          2.1154251951888536,
          1.0555496321569409,
          1.3398163155051424,
          2.23130453993151,
          -3.645362141450691,
          -0.5030181086519205,
          0.8382721981953236,
          -2.2443760112740807,
          0.3456764259152551,
          4.190995907230563,
          0.3394842030334581,
          -12.125294712024258,
          -0.6263746772496768,
          0.16283524904213362,
          -1.5976247702530686,
          0.14630923164055235,
          -1.7026212015773676,
          -1.9826292574234845,
          0.4659874822970489,
          -3.666050523721509,
          -2.8725314183123873,
          -0.43411644535240473,
          -2.283218964441664,
          1.2463682681375972,
          -0.18492834026814514,
          -0.21807506814845115,
          -4.0133644634087435,
          -0.02414681262073498,
          -1.8563867604076218,
          -3.1594247246022,
          1.8822337399165987,
          0,
          1.0602519523456564,
          0.8914193696802458,
          1.134182516140283,
          0.602691632533646,
          0.3582124610957858,
          -0.751835878307507,
          0.24538443561580736,
          -1.0521447566192583,
          1.8547959724430179,
          0.4970708325936466,
          0.3146147453401407,
          1.745485293229459,
          0.5648688046647272,
          -1.9416319237641568,
          -3.333525246128155,
          9.96517885406775,
          -1.955307262569836,
          0.7378689344672379,
          1.2472301361190243,
          1.4320575391728678,
          -1.105042550489019,
          0.3697093319734909,
          0.5641025641025612,
          -0.2110919209364885,
          -1.7965952635215685,
          -0.9950867591268078,
          1.985284790054545,
          -0.3035285190337611,
          1.2809017548354042,
          1.4291282317786078,
          1.3163090693694879,
          -2.833024237385692,
          0.32078013729389876,
          -0.40255591054312806,
          2.784710363851313,
          0.21060945109911358,
          0.15820698747528616,
          0.3638769434336639,
          -0.40851288133359986,
          2.0371117386042763,
          -0.6280064136825212,
          1.189832341806395,
          -0.3771551724137947,
          4.438348456073717,
          -1.5033947623666453,
          2.5360517155643905,
          0.8236642314854646,
          0.48941989347920456,
          1.9443833003155082,
          0.7763975155279377,
          2.0217260108630106,
          -0.9119449843025854,
          -0.3129657228017791,
          -2.80996523754347,
          -1.2161968808126975,
          1.7099614349123147,
          -1.9057815845824322,
          0.9729729729729689,
          -4.501342143299603,
          -0.02064409578860524,
          1.028921023359281,
          1.153305203938126,
          0.310383747178328,
          -1.51451993886342,
          -2.1747995106701024,
          0.5260640841702411,
          -1.586767968802518,
          -0.9918785780854807,
          2.037766607797854,
          0.36814835014998093,
          0.8733924764459186,
          0.3311943696957081,
          0.9683711857322105,
          0.5815990470184178,
          0.6417489421720709,
          -7.350539039529565,
          -1.156032033066386,
          0.68274920345927,
          0.09763082530591363,
          2.1882274692384382,
          1.123217648641369,
          0.6566921670841506,
          -0.17571129282962147,
          2.055314159597206,
          1.4696619777451347,
          -0.825930038867314,
          -0.11092623405435148,
          0.3967425349760017,
          -0.09040333796941855,
          0.869809203142543,
          1.4445314167793362,
          2.2854647354247146,
          -0.4708780063749679,
          -1.6528925619834864,
          0.5732301519059984,
          -0.9721138153693354,
          -0.2477349943374818,
          -0.11312217194569894,
          -0.9662512253185797,
          0,
          0.9246707978311369,
          0.08721775365830353,
          0.6142745709828349,
          -0.23831525704003162,
          -0.20143186506491545,
          0.7900787632699031,
          0.6028988360361219,
          0.05663071847146753,
          0.3012940827817767,
          1.0103025918627015,
          0.06739890164752416,
          0.506799136936133,
          0.46631210142917495,
          -1.0549680766161118,
          -0.2835115642875014,
          -0.693981378577956,
          -0.25618918586031864,
          -0.6825855066790675,
          -0.009785214540819908,
          0.9133998222573291,
          1.2978569106504283,
          0.540554130839236,
          0.20659074876549255,
          -0.8344576025583309,
          -0.7439369141496801,
          -1.0671965849709335,
          -0.3666495563540368,
          -1.3455834478767235,
          -0.30771449864173606,
          -0.6330323443695899,
          0.7945680439179456,
          -1.1707595659623111,
          0.31509596104267956,
          -0.3046168491194604,
          -0.07609626177113887,
          0.861055812726351,
          1.3023301018052855,
          0.4025175644028048,
          -0.40816326530612407,
          -0.5268500169171904,
          -0.559948090649117,
          1.0564406450359487,
          0.8202541563624705,
          0.06860559135570272,
          0.3442086888107534,
          -0.34302795677847187,
          0.7778161884537451,
          0.054353196956227715,
          0.3993550787548093,
          0.18887149283033647,
          -0.3886523418160197,
          0.8035135000249464,
          -0.6569324970871805,
          -0.913757952396165,
          -0.5593551538837234,
          -0.6648226330858469,
          0.789904869042078,
          -0.056215476365048964,
          -1.9366281578064428,
          0.49619423836593174,
          1.4441050702504643,
          0.5157804249048319,
          0.28572132318529225,
          0.6295699591027439,
          1.1964482793217572,
          0.9827760891590667,
          -0.7316889190616198,
          -0.1631689928707787,
          0.21887343077813393,
          -0.04275008801489109,
          0.9955808401483253,
          0.7626164397584242,
          0.002559181062057813,
          1.1153089742262712,
          0.7036013967790662,
          -0.8807955572775328,
          1.036066600553257,
          -0.5760249091852544,
          1.1946960745700288,
          1.1312036963275838,
          1.1957865319503382,
          1.1085149160462926,
          0.2915610779585256,
          1.2721452618797984,
          0.8600295026301804,
          -0.5012461921905296,
          -0.6930311864033831,
          0.07706280618705058,
          -1.2448358338769407,
          0.2780049059689394,
          -0.3476560378076021,
          0.7084438852266287,
          0.5251869775626837,
          -0.8370824812542585,
          1.1835788776692657,
          1.6261986205349503,
          -0.2544956232346025,
          0.1736937946491118,
          0.03362945940644132,
          0,
          -0.27893413350801793,
          -1.7257133363791175,
          2.0536187347674044,
          0.8204952885622171,
          -1.7198656026879457,
          0.1640654579108941,
          0.5966991112991944,
          0.9311464206389914,
          0.5497337227280541,
          3.0356668731746232,
          2.327476906357538,
          0.5669527994717569,
          2.0968454332008233,
          -0.5663168600619455,
          -2.407002188183811,
          0.4327336988536012,
          -10.5612968591692,
          -0.5240878855069588,
          2.9829987752475464,
          0.1371941713264234,
          -4.131127939418098,
          1.5440030758645802,
          -1.1185368977108963,
          -0.09395677988126007,
          -2.2797421371361515,
          -2.1523052221117807,
          0.6405940403593342,
          0.5668407815825235,
          -0.4525758305247997,
          -1.5341146129631797,
          3.213810381273001,
          0.824880609385485,
          1.8839093632506996,
          1.2251958888775785,
          1.1882696980930103,
          -1.6765885068642996,
          -0.4093649801367184,
          -1.4174386704305983,
          -1.2873346677656115,
          0.3584370568772635,
          0.44310808672258456,
          1.8700628728034765,
          -0.14889935208660493,
          2.6606073125387306,
          -1.5716812719842144,
          -0.7546865225901506,
          -0.8364182091045537,
          3.3416737318803174,
          -4.419409032513097,
          -1.2182978972646996,
          3.24537886270638,
          1.1974215658275769,
          -1.599791244304376,
          -0.8182361138761723,
          2.483014710382963,
          1.262344531217721,
          -0.6221127194333291,
          1.1022543280607802,
          -0.4731111707951911,
          -0.4319832143665322,
          3.867273465376156,
          -0.7885532591415003,
          -0.33169948449251946,
          -2.212672768216842,
          2.2713826910074375,
          2.860123446057543,
          -1.8724674770739973,
          0.16876375210953914,
          -0.4021276595744652,
          0.08731020677612919,
          3.2701442646023806,
          -1.0208746000304734,
          -3.280069054085346,
          20.31764527078374,
          1.1893166555595394,
          -2.4796280557916353,
          -0.2393895566305869,
          1.7455726391637478,
          0.24416297878833598,
          0.6347581264397283,
          1.4278296988577364,
          0.8958038661009001,
          -0.4355196244621244,
          1.946135644590964,
          2.1065776257567093,
          0.24764600228596992,
          -1.8772196854388714,
          1.3038656098682588,
          -0.2159419116257757,
          3.648266793498033,
          -0.3429431773824843,
          1.9065208126154385,
          1.3914496427748284,
          0.7692977617789581,
          -0.5255710531635314,
          -2.1669115154254603,
          -1.2167894619334712,
          0.13693653410837803,
          0.8454752980300425,
          0,
          0.6445795844763776,
          0.7187711332238484,
          0.7141745154510701,
          0.41818110759369725,
          -0.20865427741267456,
          1.1399719937676218,
          0.7591264084577002,
          0.449137655701054,
          1.3309599902908662,
          0.39191796121433786,
          -0.10548309227742837,
          1.830162566358888,
          0.08476328302667459,
          -1.089912684293394,
          -1.275865549611396,
          0.3017049366217165,
          1.3461933100759291,
          0.2303673536550258,
          -1.0280316755898482,
          -1.975535290244044,
          1.6119875096313696,
          2.962483559155723,
          2.154023331698271,
          5.219576778942169,
          1.4640255009107483,
          -0.5704971475142712,
          -1.8509054549494464,
          -2.103454276516144,
          0.8157894736842164,
          0.0570500724097053,
          0.07905485528569846,
          -0.9483621177187136,
          0.3492382241236353,
          -6.444762099244436,
          -1.0107135637760258,
          0.32447779355099693,
          0.16046799780626445,
          1.3233720260146553,
          -0.8549799008304931,
          -0.32947588927983174,
          -0.5139307609817333,
          0.18446444498500467,
          1.2873421619956846,
          -0.7681023593170575,
          0.3721881390593033,
          0.20491803278688525,
          -0.2758761622560586,
          0.04088725339876224,
          2.6396961621587565,
          -0.4615898742637494,
          1.307659754549291,
          -0.116242206488419,
          -1.8096167016000222,
          -1.5647662043184216,
          -0.824554294975699,
          -0.9392309544834131,
          -2.9488527910872167,
          -2.265285920962478,
          -0.3641605341021089,
          0.14055080721747562,
          0.8678659693085757,
          0.17464399493342073,
          -0.09395072380404738,
          0.12862847488864212,
          0.7621774287151198,
          0.01741317596982332,
          -0.1526157174870496,
          -0.11192157770831711,
          -0.35955315426176326,
          0.13477348427964447,
          1.707560655609292,
          1.5329250835056538,
          -1.4248476177410263,
          0.6092992073194842,
          -0.8988939695939389,
          1.6143444331923502,
          -0.18432631704126665,
          0.2662957074721844,
          1.9862180786380241,
          -3.8637647838201277,
          -0.44421166977032195,
          0.49318700169593416,
          1.8726666137103836,
          -2.4751132974396772,
          -1.6382824703775711,
          1.1152845998266545,
          -0.4525320703342244,
          -3.366809961458635,
          0.37943605386503304,
          -0.13559447963296956,
          0.344814731976445,
          -0.1600357289069213,
          -1.474093359246079,
          0.625426636902014,
          0.49875774094262265,
          2.44458373696507,
          0.299104591350743,
          0.4036037414640704,
          0.5307386112339656,
          0,
          1.5016543649783627,
          -0.5987518974531909,
          0.7733491969066003,
          -0.2035450767534517,
          -0.042387249915223094,
          -0.4052684903748768,
          1.9715884631941385,
          -0.017216148747521753,
          -0.4967880085653091,
          0.646551724137931,
          -0.206469373709562,
          0.18098767560113224,
          -1.8939714213240848,
          -1.1451019725844236,
          1.4242115971515827,
          -2.777548833759173,
          0.23130937629078988,
          0.016524828554900454,
          0.3898473788984728,
          0.5672339005672395,
          1.1474856564292943,
          -0.09272528028323311,
          -0.05055185778077536,
          -0.8272058823529487,
          -0.5732325330231767,
          -1.1659413744970866,
          -0.33551554828150293,
          0.8417230566099982,
          0.5226047283285024,
          -0.675620004943567,
          1.3782158369528947,
          0.35205364626990926,
          0.016767270288393712,
          1.9574322591674556,
          0.6452167928423951,
          1.104635991997909,
          1.0369979787327468,
          -0.7501090274749231,
          1.0221164860340213,
          0,
          0.4425170369059209,
          -0.08842514811213063,
          0.7034728406055265,
          0.925676282915432,
          -0.1794204718758436,
          1.771204236282295,
          1.1170605612998596,
          -0.6420840212805017,
          0.5905148551393251,
          0.940672441091544,
          0.5619556055071729,
          1.0696705793260086,
          1.2265235722499053,
          -1.3983371126228308,
          1.2629161882893296,
          0.19171779141104567,
          0.27876574065172743,
          -0.21103117505995092,
          0.3948382126348195,
          -0.8781977854142818,
          -0.08583690987123434,
          2.0437956204379506,
          -0.9447604357466537,
          0,
          2.865926219754066,
          -0.49338859285573317,
          -1.7737714451875528,
          1.3756509776948078,
          -2.115994998557279,
          1.711993738994326,
          -0.02933985330073461,
          0.6893156080748428,
          -0.4118858487790544,
          -0.41019630823322756,
          -0.40852057192880237,
          -1.9456366237482043,
          1.6677979249490924,
          0.1262135922330053,
          0.8518554783119598,
          2.5401606425702825,
          1.7260749668062483,
          1.1258004544515632,
          -0.13408973697783358,
          0.15495867768595628,
          -0.18560527943906663,
          -0.7267888217831854,
          -2.2611305652826466,
          1.2972534711665158,
          -0.020265477758634128,
          -0.983244707534869,
          -1.2386048355132777,
          -1.6661794796842968,
          0.30297107114933763,
          -0.8719240457275778,
          0.8401719421649076,
          2.380476095219039,
          -0.20960175666233533,
          -1.4459964587841816,
          -0.4699432151948345,
          0,
          -0.14524328249818505,
          -2.0202790272165863,
          3.015785753553753,
          0.8288240728520486,
          -0.3026315789473624,
          -1.4969865854448778,
          -0.44516129032258656,
          -0.3561464186070409,
          1.4464965826681317,
          4.314461814767939,
          -2.7701710521093705,
          -2.6829739298358586,
          -0.5569069261298197,
          5.954964731416166,
          0.5030606263036707,
          1.1919378647205687,
          -1.0010925976509206,
          -1.8090627472542218,
          1.9635458684861846,
          0.6911649295755388,
          -2.632884241571164,
          -0.6420075389266935,
          0.5396791386560211,
          -0.5367822369034422,
          -0.11574690011175624,
          -1.0466172540449512,
          -0.31365652641801445,
          0.6259574243304644,
          -2.579474842079527,
          -0.8824166996085325,
          2.1000416623268405,
          -1.0193430327710367,
          1.5746897743337311,
          0.44835973966209747,
          -2.2379042624299554,
          -0.02827109409133023,
          0.42328042328041976,
          0.22764311767596956,
          0.3283113377713724,
          0.045439202347262314,
          -0.33641280438889615,
          0.010352234788690304,
          1.3269346760024132,
          1.125740880703291,
          -0.8623296044588828,
          0.38134698617122165,
          0.3828068083979053,
          2.8024020589076404,
          -3.6436875114808283,
          -2.30978260869565,
          0.050014747938492934,
          0.28035339960647,
          -1.8541424748826099,
          1.299033396409754,
          3.7734847680713375,
          -0.5226756771025866,
          -0.9620915032679758,
          -0.8964659550212405,
          0.309275671180185,
          -0.012993087677358602,
          3.1813489563084043,
          -1.2902628166106451,
          -3.375700074163105,
          3.2040961756710353,
          0.06206177126936489,
          1.9300913899618986,
          0.7744893253397765,
          -0.391807176826629,
          0.6089604175728602,
          1.4199454079241163,
          2.886401997078142,
          -0.1656754460492881,
          5.77398337452259,
          1.09322713989371,
          2.295503477331506,
          0.09767744736270821,
          -0.0031007751937956293,
          0.899491591709034,
          1.8530320894808952,
          -0.9594445321129937,
          0.6384195146741354,
          -0.19021049961958622,
          0.3659041013077022,
          0.8390149995989441,
          -0.8840692626925865,
          -0.8919425752872152,
          -1.2987618988365441,
          1.1325740892216591,
          0.8775131309604997,
          0.7530216793502649,
          -0.08785521460632151,
          1.2092797671974809,
          0.6590724165988535,
          -0.5180508337380678,
          4.305977710233029,
          1.5919851780690466,
          0.3563742790737602,
          -0.11349761826967175,
          1.8995216149438436,
          0,
          1.1458487677186708,
          0.17812082529314988,
          0.2977519726068298,
          1.3988829064559962,
          -0.02012376113096567,
          0.6430379746835494,
          0.9455660618451286,
          2.033898305084749,
          -0.13020833333333331,
          0.7821111752663951,
          -0.6000208702911436,
          -0.10424267695195301,
          0.06258475018254121,
          -0.7967715231788038,
          -0.10853274071011834,
          0.06205719604902753,
          0.1501968096125917,
          0.4892266056000969,
          1.4413177762525684,
          1.942949407965546,
          2.5103448275862132,
          0.6497112394491267,
          -0.3982300884955746,
          -1.142763409699806,
          0.05470758794244451,
          -6.467788978150751,
          -0.020463498235019206,
          -0.8521430382957172,
          -0.6700927045546071,
          0.5216510508989624,
          0.920010222335795,
          -1.3363590519415056,
          -0.28160514935130354,
          -0.04021312958680209,
          -0.6789815277084441,
          0.3909382518043309,
          1.9363408777397542,
          0.4670978338979554,
          -0.9154714678059258,
          -1.2257610770621912,
          1.390515968013034,
          1.3106971463955934,
          0.586525485310908,
          1.2401471361008856,
          1.2395595041762049,
          -1.7817953809175446,
          0.8112094395280194,
          0.8231982580062729,
          0.037190521729886926,
          0.18629903656783642,
          -0.875850788793329,
          0.519756032882519,
          1.0017141632740543,
          0.7501754007231987,
          -0.4138449962377782,
          0.911161731207293,
          0.506950122649227,
          0.049083769633494215,
          -0.3424099135822574,
          0.5025400120172698,
          1.199557766721939,
          0.6509764646970544,
          0.39099592247108783,
          -0.46700394729527067,
          2.18144634437312,
          1.0157236313554519,
          -0.8703566755788162,
          0.4456888177818417,
          0.12013729977115534,
          -0.35911759676223876,
          0.1884637350085737,
          0.3438395415472747,
          -0.13163166027584833,
          0.5756058251309504,
          -0.3613214039917549,
          -1.0835649855335545,
          2.049441324610676,
          0.26120269328998647,
          -0.38163524921938047,
          1.4310850439882683,
          0.8935439966861891,
          -0.6583975074951528,
          -0.11743291644647326,
          1.7261975869071886,
          0.19749835418037232,
          -0.5357461753675847,
          -0.6270334220644793,
          -0.733998825601879,
          -0.42100339141620796,
          0.2109457400679794,
          -0.7906057435182033,
          -0.14512103093980377,
          0.5017210197771506,
          0.046693515438034246,
          -0.43584379358437936,
          1.1640211640211748,
          -0.11743981209631066,
          0.5312868949232619,
          0.5997980877724446,
          0,
          0.23334197562871742,
          1.054562127464475,
          0.85216012683313,
          0.10580611030286773,
          0.8738576479220881,
          0.04004004004004156,
          0.6042296072507591,
          0.154653039268417,
          0.09422533315384732,
          -0.4622496147919862,
          -0.4335645677694619,
          -0.8334435771927631,
          4.557714918044127,
          -1.518866639422415,
          0.4653072396332331,
          -0.46315215910639346,
          -1.1512825691779491,
          -0.688686814656326,
          0.2950643776824019,
          0.8180650395510837,
          1.4889529298751114,
          0.6700283207846922,
          0.22152994115612434,
          -2.1275154143234736,
          0.047451193058563705,
          -0.8535519860205537,
          -0.9387483355525944,
          -1.3723816402915514,
          0.4617718846889562,
          -0.524968829975709,
          -0.07213114754099255,
          -1.14093089589005,
          -2.1999619603119247,
          -0.03168969451135211,
          -0.25918199633352085,
          0.14560648265382994,
          1.4059189831161312,
          0.3543357814714672,
          -0.006442053726722222,
          -0.3338683788122056,
          -0.006420133538771768,
          -0.28807374687921194,
          -0.35085480990047396,
          -0.8977114679479173,
          -0.6469442874191327,
          -1.173184357541891,
          -1.0077424112080708,
          0.9365502698009176,
          1.0719658976930664,
          0.4091395480581643,
          -0.29496673779339705,
          -0.39382384197036663,
          0.08133133133132849,
          -1.406365655070319,
          0.45854504895278786,
          -0.10523057876819307,
          0.3540812523294954,
          0.11816655264630745,
          -0.6487889273356471,
          0.8663134933001029,
          1.1154524829846115,
          0.5194476118079266,
          0.8367933567550316,
          -0.8675278622086983,
          1.3997688455117363,
          -0.46654310730490817,
          -0.8742477035159935,
          0.6953304414391449,
          0.23017902813298285,
          -1.0001265983035728,
          -0.05061369100342434,
          1.4505776636713676,
          -0.5172083519570922,
          -1.1050770396564789,
          -0.3398363750786608,
          0.08187944825848426,
          -0.3702309236947812,
          -0.08777429467083785,
          -0.03760340937578483,
          0.3774534474081494,
          -0.5318816094111722,
          -1.6372253339077965,
          0.48861949529935184,
          0.29154518950437247,
          0.48619335535747743,
          -0.05606777971592537,
          -1.1515487406859881,
          0.7694694384114059,
          -0.4448013838265268,
          0.14848728577616105,
          0.061908004705004835,
          0.2482467572767366,
          0.31127435721845237,
          -0.2112194818910377,
          0.625117209476777,
          2.0607375271149606,
          0.10218418699706003,
          0.1471058522545687,
          0.13449468425772254,
          0,
          0.09291023441968545,
          -0.5896980461811812,
          1.3537841146395877,
          -0.5905723182647831,
          -0.4808719811925706,
          0.7898326990737374,
          0.4870305566578963,
          0.2640526658467837,
          1.3899585579638256,
          1.5568550039107627,
          0.3288367400321346,
          0.10848421367650024,
          -0.480250176836313,
          -1.1881989405532525,
          -0.9762494535917262,
          -0.232591946503868,
          0.050905388699019415,
          0.33198351026958817,
          0.6536187713436014,
          0.9452146193194498,
          -0.5859159081696694,
          -0.4840661557079443,
          0.49382716049381786,
          0.025803597758791666,
          -1.6958979562255425,
          0.10156703424259021,
          0.43719032352083526,
          -0.8094825093957824,
          -0.37442396313362747,
          0.22371364653244014,
          1.1459854014598492,
          -1.0687463893702989,
          -0.5315328257434342,
          0.057496047146767655,
          -0.28665615594095295,
          0.021503834850549162,
          -0.5630791161796297,
          -0.21691973969629702,
          -0.7237167266822041,
          -2.44860006198988,
          0.3767975663716924,
          0.6716547764050634,
          0.8068759866690095,
          0.7101469756924783,
          -1.1766348940330311,
          0.4453952444413407,
          0.42969850662157316,
          1.1976047904191667,
          0.1856877588915804,
          0.6396894990296952,
          -0.7738116464001769,
          0.3758321998711473,
          -0.4099383310162825,
          -0.9288035033196963,
          0.18397962071894944,
          -1.0468088085985399,
          0.8687360949253027,
          -0.34488826324123223,
          0.19393511988714898,
          -0.052863436123340005,
          2.5256539962422346,
          0.5851353807014406,
          -1.224152785755322,
          -0.8612712648587144,
          1.2321660181582417,
          0.6344947608861172,
          0.26902243065401865,
          -0.49198712151358887,
          0.23569511929800355,
          -1.292100647839942,
          0.9502818326347723,
          0.4281878220480467,
          -0.5772422252687865,
          0.046922938097814636,
          1.3869574763961139,
          -1.4035720728847147,
          1.2753051231454915,
          2.1348062999179023,
          -1.7130699534133067,
          0.3533959138597594,
          0.14377350143773,
          0.022123893805310574,
          0.11074197120709169,
          1.029313045424029,
          0.5663278700821329,
          0.5240536872266575,
          0.40504220766930127,
          0.053024277544234825,
          -0.20033262775930963,
          0.4670945201838067,
          0.3009065285289722,
          1.0974623589664687,
          0.030815453950149868,
          0.6318319249554211,
          -0.3438019082937329,
          -0.5684655271749637,
          -0.019201228878630773,
          0.5677210056771986,
          -0.08874826362093617,
          0,
          -0.13106159895152344,
          0.8107621163894198,
          0.45246138996139,
          -0.0663169952372422,
          -0.5873539106982258,
          0.48783425680559045,
          0.587629490519173,
          -0.4162644787644774,
          0.8027243979566975,
          -0.012161011796187664,
          0.3784179687500028,
          0.2692778457772324,
          0.12254901960785358,
          0.9526166027465002,
          0.22940045880092044,
          -0.7751461088895842,
          -0.030750307503064542,
          0.6811145510835879,
          0.5979818113865754,
          1.5176425951688415,
          0.5404030771186944,
          0.21024464831803263,
          0.6476434754729204,
          0.321646831778707,
          0.0772548767140772,
          -0.3272587268993781,
          -0.8903586873569103,
          0.3702285203625766,
          0.3973340169187417,
          -0.03843689942344797,
          0.4181408813123228,
          -0.4482869036183266,
          -2.7526935293018546,
          -0.006227425582276328,
          -1.0292758089368181,
          -0.22138859848718628,
          1.2830893802553736,
          0.22473312940883552,
          -0.9093158480762087,
          -0.12356357345855494,
          -0.08025186739921937,
          0.09886918371129985,
          0.38459152658023976,
          -0.10534143016482062,
          -0.07430340557275823,
          -0.4929143561306293,
          0.22849379361452757,
          0.23522129371711262,
          0.748362956033687,
          -0.16809861785581512,
          0.6580184245158935,
          0.15691689681144866,
          -0.15041363750313932,
          0.4469625432798287,
          -0.05662514156285606,
          -0.693533270852867,
          0.4708097928436911,
          -0.5742104606166443,
          -0.5030118611438876,
          0.29272546088689516,
          0.09975062344139438,
          1.1923537947132767,
          0.6348803250587265,
          0.318451054072989,
          0.8867184990040451,
          -0.409547577910037,
          -0.5346572465151825,
          -0.19692542243677671,
          -0.7690368129097321,
          -0.30165912518854837,
          0.10065425264217198,
          0.47405347323178054,
          0.07590612941995353,
          -0.6847593918834045,
          1.2982054219167753,
          -0.2222363324655678,
          0.8516905737704997,
          0.012809017548360595,
          0.33414728184036874,
          2.3008151459374178,
          -1.2079490842966525,
          4.139050453131324,
          0.19651690723048076,
          -0.3847711624139282,
          -1.2004801920768384,
          0.1001401962747885,
          -0.5378486055776908,
          0.05979669124975312,
          0.3801520608243252,
          0.4286671131949004,
          0.4102495124083756,
          0.8614841948175352,
          -0.8274470232088922,
          0.5478896103896119,
          -0.6050826946349372,
          1.5012965743141922,
          0.555822411308586,
          -0.2259345474462635,
          0.08222557215294268,
          0,
          0.30509730424738535,
          0.18995633187773026,
          0.8366358432408657,
          -0.7777001048584417,
          0.17068580681867318,
          0.32712024413269425,
          0.1583217890362221,
          0.37743345252284016,
          0.8211496094532341,
          1.305288786690117,
          0.5622307866696806,
          -0.21942226344243454,
          -2.023492907801417,
          -1.2907460074382047,
          -1.150469270360277,
          0.06708359481508781,
          -0.08432432432432138,
          -0.06914135084914073,
          1.3289545703338792,
          0.29864511737192595,
          0.1517484055421152,
          -1.1865438108484083,
          0.07394197729547036,
          0.006524717805948958,
          -1.201168937212595,
          -0.6256539471717466,
          -0.18330242769145802,
          -0.633259911894275,
          -1.3970972120705853,
          0.35628209158546487,
          1.570981544159907,
          -1.6023626995098725,
          -0.4192478568299837,
          0.2153010033444878,
          -0.6582635961542488,
          0.757401401820275,
          0.24119127516778047,
          0.15965044954205337,
          -1.1688500425602582,
          -1.4264079895219324,
          0.12294074256207808,
          0.834710743801657,
          1.0670508885130225,
          0.6430868167202577,
          -0.7612413447901965,
          0.813691890414416,
          0.579440438175399,
          0.7907750021314646,
          -0.021310147892419105,
          0.3678829618856077,
          -0.8608990670059377,
          0.8726899383983661,
          -0.20704817605499098,
          -1.707823678744516,
          0.39388322520852737,
          -0.8541296857053423,
          0.8636124275934751,
          0.05057849149649303,
          0.23023953360651744,
          0.39443549071168327,
          2.7251933340594685,
          1.6159380188157193,
          -3.499028047764509,
          -0.6683924630792687,
          1.3091425009135997,
          1.0272336359292922,
          0.38150465435678316,
          0.1812702017995947,
          -0.08292235848644774,
          -0.7901972245675638,
          0.30618892508143863,
          0.8188107540064824,
          -0.829389031221502,
          -0.07376551245336106,
          2.602230483271375,
          0.9074777061479414,
          1.04634799582369,
          0.4674708685836799,
          0.3960622710622622,
          -0.4330977889218093,
          -0.013674901996536211,
          -0.22512791358726755,
          0.6799761893859672,
          1.4069465081723498,
          0.7720743063029365,
          -0.21711217462355709,
          -0.17478443253320905,
          0.5577427821522298,
          -0.3619212179232621,
          1.3416942735447133,
          0.14692639461585966,
          0.6103666968671027,
          -0.0833789932582047,
          0.23879456503569982,
          -0.7395292611818258,
          -1.0832102412604638,
          0.04456746106211243,
          0.4618719954755348,
          0.16286260532961921,
          0,
          -1.1925247675497401,
          -1.6738965442809668,
          4.068027506648413,
          3.17904165202503,
          0.3533913565426198,
          2.077860408832238,
          -1.4863773889555234,
          1.708221101825632,
          -0.5494882890308435,
          2.5193449703077238,
          3.1923912253647324,
          -0.3451716202951228,
          -4.415236835426494,
          -2.8648907083414197,
          -0.40548483337921726,
          3.835694751317181,
          2.991677408061627,
          0.6107957956755883,
          2.01966581186809,
          1.6393986934614968,
          -4.311392465388921,
          -1.843088030063237,
          -3.4934464960197307,
          1.4015518543667755,
          -2.483501603339103,
          -2.776933871504427,
          4.544113977177352,
          -0.8777584552650544,
          -0.15118628845146184,
          -0.24861321606953363,
          1.664516129032263,
          -3.3531150739798004,
          1.8263168902566587,
          -0.8516878230859242,
          1.8748915429942365,
          0.5065479666042377,
          -0.9583248841523399,
          -1.4864084996818479,
          -0.13964107072931797,
          0.40578635014837,
          5.6426332288401255,
          3.068634340594988,
          0.062235297921177934,
          0.1408336705787138,
          -2.1207823999619717,
          0.3497976738454762,
          -2.6325974548719864,
          -0.09589210591436076,
          -1.1920044012470303,
          -6.985735709056792,
          4.222962962962963,
          0.5399366970768944,
          -4.24386347752913,
          0.22084521537768234,
          7.58790917269645,
          0.8585255386142557,
          -0.5253697260516996,
          -0.9853872419087554,
          0.9842868934023634,
          -0.6536899379262932,
          6.30982932094994,
          0.07337654396478668,
          -1.5198959437325419,
          -1.5485309113329633,
          0.22579265104339252,
          0.8444852794311458,
          -1.0553359683794394,
          -1.4367636975628042,
          0.6809124854874693,
          1.4080473485752507,
          2.814378603852276,
          -1.6450808462714037,
          1.532254112419752,
          2.0274831043074584,
          1.6957627118644059,
          -2.330817110316521,
          -0.7891473759412616,
          1.0698160812694935,
          -2.042276422764219,
          -1.903706125834408,
          2.2473925842568314,
          0.4760344121261733,
          0.7678335535006567,
          5.8824557876056645,
          3.646017378383032,
          -1.0125923799956917,
          0.657229524772495,
          0.7000127275041406,
          1.7962741886226792,
          -0.17736884405399336,
          0.710796855375178,
          2.4369091186337237,
          0.025738553493291943,
          -0.9040412628237768,
          -2.4691813005583465,
          -2.765509518477034,
          -0.5488190589891467,
          -0.33387499223030187,
          -0.5053494597531586,
          0,
          0.4318268024392266,
          -1.7036166002237068,
          2.399412628487523,
          -0.13491318629750693,
          -1.5789625609791378,
          -0.29069767441860206,
          2.541097305433407,
          -0.5459508644222061,
          -0.4674398901516324,
          -0.16333673618200442,
          2.181623103746327,
          1.0723860589812169,
          -0.6732092633594638,
          -0.7660332541567648,
          0.510310662807018,
          0.936803421892872,
          -0.3093000210203816,
          -1.7669616519174067,
          0.85983755318199,
          0.2236402671755725,
          0.7419868425005339,
          0.018027221103867522,
          -0.5973180419914583,
          -0.917349746989028,
          -1.4407793041094286,
          -1.2954486570515589,
          -0.9099726152441802,
          -3.0048143434231678,
          -0.174009114763153,
          1.1680219073965425,
          0.053120107358532134,
          -0.6168380105584803,
          -0.853994490358133,
          -1.3667364073580885,
          -4.058915537017739,
          -0.5934333618388566,
          1.5687100255310134,
          -0.9334828296524169,
          -1.734652044685862,
          -1.2449392712550647,
          2.8068988840040485,
          1.3178355868321867,
          2.0166169234492215,
          -0.35366931918655875,
          -0.5436086018066895,
          -0.9815562415894951,
          1.188124098894641,
          0.8128768303187012,
          -0.49015668943351837,
          -0.8498207409374554,
          -0.2357990674014377,
          -0.26687805522525854,
          -0.5047716696900428,
          -1.0612563402262931,
          1.0089067549460011,
          0.7944704854214666,
          0.5458515283842825,
          1.0656620021528471,
          -0.09678460049466524,
          0.16696289115096802,
          1.9800620657457444,
          0.430261742560058,
          0.060714778529038345,
          0.3517226099479447,
          0.7955782597772285,
          0.17897592214548597,
          -2.150773019564924,
          0.6333471017485919,
          -0.156713955790182,
          0.28398908158483266,
          1.8077192982456132,
          0.31255279608042286,
          -0.5850572460319771,
          -0.7887355236481726,
          2.014392565729832,
          -1.1593391206944954,
          0.39359010402025135,
          0.11258091753447151,
          1.2337236800866125,
          1.065453393613052,
          -1.00062717372712,
          -1.6569009504051206,
          -1.578322893959887,
          1.2601285275216674,
          0.6184987348889481,
          -0.7616549953965958,
          0.7646678474037917,
          -0.22999467085518563,
          -0.07567264573992115,
          3.0647910107166623,
          -0.5001005949472621,
          1.4550650259520643,
          1.2847396556307107,
          0.09755809140897065,
          -1.9763533093775338,
          -0.42418121483192245,
          -0.23318747121142394,
          -0.33569563595672086,
          -0.22329735764794298,
          0,
          0.9808181761747992,
          -1.2020852499233412,
          -0.3422773669091145,
          -0.5591685406916596,
          -0.7779519961403883,
          0.22363251737685377,
          1.7903285345145792,
          -0.07991639515583418,
          0.22797288971039809,
          1.279251170046809,
          -0.298637466558819,
          0.6890935287853125,
          -1.0169281329447601,
          -3.0421451331690026,
          0.26523599975889217,
          0.3690706679573967,
          1.0454239775019918,
          0.4421246545901129,
          0.5743577075098857,
          1.1999999999999922,
          1.542171733197948,
          0.748081841432217,
          0.07678525723061463,
          -0.8312710197347561,
          -0.8618520382486188,
          -1.80987089999381,
          -0.4794983709350225,
          0.41358024691357254,
          0.4526570347863767,
          -0.20420792079206937,
          0.5663077976227499,
          0.15582149090002492,
          0.4130679684566257,
          0.4400301734976041,
          0.8494991758590106,
          0.8890310201471154,
          0.6955625684291776,
          -0.7669201763916333,
          1.1703090650459087,
          -0.12914890869173257,
          0.20058233581365398,
          -1.3216702847656705,
          0.7785856765973926,
          -0.0900032144005238,
          -0.09633911368013955,
          1.176164793033987,
          1.3167423793534796,
          -0.07236842105264055,
          1.4144649052575424,
          0.3414340228961578,
          0.7011393514460945,
          -0.8423022929340135,
          0.47689414293391186,
          -2.571821215889017,
          0.5262811657127896,
          -0.21662071681765294,
          0.11829652996845876,
          -1.4826804791194512,
          -0.1357817147290883,
          -0.4953998584571899,
          -0.0064333504889287855,
          0.9350649350649335,
          -0.40742417383431123,
          0.11006085717984429,
          2.284616912787244,
          0.2722443559096923,
          -0.9731720147291019,
          0.6885593220339119,
          -1.960275217447754,
          1.2686518109511646,
          -0.14440433212996315,
          0.013129390139816064,
          0.05911718339464228,
          2.941375346541364,
          0.31201248049920605,
          -1.791899813482546,
          0.6976120203917305,
          -0.04023065575967136,
          0.3836575351686028,
          2.5186309688103825,
          1.9916954043211934,
          -0.2807214541371364,
          0.17575928008998873,
          0.2961500493583528,
          -0.9083286752375708,
          -0.3966873129654069,
          -2.4309092143681754,
          1.3697687224669666,
          0.5397923875432533,
          -0.8236101578586058,
          -2.5418060200668973,
          -0.5984042553191526,
          -0.1725740076994497,
          -1.0963040766756489,
          1.9066095798769218,
          0.21453472780905955,
          -0.4072911798090496,
          -1.4087288526100892,
          -0.32806246309297293,
          0
         ]
        }
       ],
       "layout": {
        "shapes": [
         {
          "line": {
           "color": "black",
           "width": 2
          },
          "type": "line",
          "x0": "2023-12-26",
          "x1": "2024-05-17",
          "y0": 0,
          "y1": 0
         }
        ],
        "template": {
         "data": {
          "bar": [
           {
            "error_x": {
             "color": "#2a3f5f"
            },
            "error_y": {
             "color": "#2a3f5f"
            },
            "marker": {
             "line": {
              "color": "#E5ECF6",
              "width": 0.5
             },
             "pattern": {
              "fillmode": "overlay",
              "size": 10,
              "solidity": 0.2
             }
            },
            "type": "bar"
           }
          ],
          "barpolar": [
           {
            "marker": {
             "line": {
              "color": "#E5ECF6",
              "width": 0.5
             },
             "pattern": {
              "fillmode": "overlay",
              "size": 10,
              "solidity": 0.2
             }
            },
            "type": "barpolar"
           }
          ],
          "carpet": [
           {
            "aaxis": {
             "endlinecolor": "#2a3f5f",
             "gridcolor": "white",
             "linecolor": "white",
             "minorgridcolor": "white",
             "startlinecolor": "#2a3f5f"
            },
            "baxis": {
             "endlinecolor": "#2a3f5f",
             "gridcolor": "white",
             "linecolor": "white",
             "minorgridcolor": "white",
             "startlinecolor": "#2a3f5f"
            },
            "type": "carpet"
           }
          ],
          "choropleth": [
           {
            "colorbar": {
             "outlinewidth": 0,
             "ticks": ""
            },
            "type": "choropleth"
           }
          ],
          "contour": [
           {
            "colorbar": {
             "outlinewidth": 0,
             "ticks": ""
            },
            "colorscale": [
             [
              0,
              "#0d0887"
             ],
             [
              0.1111111111111111,
              "#46039f"
             ],
             [
              0.2222222222222222,
              "#7201a8"
             ],
             [
              0.3333333333333333,
              "#9c179e"
             ],
             [
              0.4444444444444444,
              "#bd3786"
             ],
             [
              0.5555555555555556,
              "#d8576b"
             ],
             [
              0.6666666666666666,
              "#ed7953"
             ],
             [
              0.7777777777777778,
              "#fb9f3a"
             ],
             [
              0.8888888888888888,
              "#fdca26"
             ],
             [
              1,
              "#f0f921"
             ]
            ],
            "type": "contour"
           }
          ],
          "contourcarpet": [
           {
            "colorbar": {
             "outlinewidth": 0,
             "ticks": ""
            },
            "type": "contourcarpet"
           }
          ],
          "heatmap": [
           {
            "colorbar": {
             "outlinewidth": 0,
             "ticks": ""
            },
            "colorscale": [
             [
              0,
              "#0d0887"
             ],
             [
              0.1111111111111111,
              "#46039f"
             ],
             [
              0.2222222222222222,
              "#7201a8"
             ],
             [
              0.3333333333333333,
              "#9c179e"
             ],
             [
              0.4444444444444444,
              "#bd3786"
             ],
             [
              0.5555555555555556,
              "#d8576b"
             ],
             [
              0.6666666666666666,
              "#ed7953"
             ],
             [
              0.7777777777777778,
              "#fb9f3a"
             ],
             [
              0.8888888888888888,
              "#fdca26"
             ],
             [
              1,
              "#f0f921"
             ]
            ],
            "type": "heatmap"
           }
          ],
          "heatmapgl": [
           {
            "colorbar": {
             "outlinewidth": 0,
             "ticks": ""
            },
            "colorscale": [
             [
              0,
              "#0d0887"
             ],
             [
              0.1111111111111111,
              "#46039f"
             ],
             [
              0.2222222222222222,
              "#7201a8"
             ],
             [
              0.3333333333333333,
              "#9c179e"
             ],
             [
              0.4444444444444444,
              "#bd3786"
             ],
             [
              0.5555555555555556,
              "#d8576b"
             ],
             [
              0.6666666666666666,
              "#ed7953"
             ],
             [
              0.7777777777777778,
              "#fb9f3a"
             ],
             [
              0.8888888888888888,
              "#fdca26"
             ],
             [
              1,
              "#f0f921"
             ]
            ],
            "type": "heatmapgl"
           }
          ],
          "histogram": [
           {
            "marker": {
             "pattern": {
              "fillmode": "overlay",
              "size": 10,
              "solidity": 0.2
             }
            },
            "type": "histogram"
           }
          ],
          "histogram2d": [
           {
            "colorbar": {
             "outlinewidth": 0,
             "ticks": ""
            },
            "colorscale": [
             [
              0,
              "#0d0887"
             ],
             [
              0.1111111111111111,
              "#46039f"
             ],
             [
              0.2222222222222222,
              "#7201a8"
             ],
             [
              0.3333333333333333,
              "#9c179e"
             ],
             [
              0.4444444444444444,
              "#bd3786"
             ],
             [
              0.5555555555555556,
              "#d8576b"
             ],
             [
              0.6666666666666666,
              "#ed7953"
             ],
             [
              0.7777777777777778,
              "#fb9f3a"
             ],
             [
              0.8888888888888888,
              "#fdca26"
             ],
             [
              1,
              "#f0f921"
             ]
            ],
            "type": "histogram2d"
           }
          ],
          "histogram2dcontour": [
           {
            "colorbar": {
             "outlinewidth": 0,
             "ticks": ""
            },
            "colorscale": [
             [
              0,
              "#0d0887"
             ],
             [
              0.1111111111111111,
              "#46039f"
             ],
             [
              0.2222222222222222,
              "#7201a8"
             ],
             [
              0.3333333333333333,
              "#9c179e"
             ],
             [
              0.4444444444444444,
              "#bd3786"
             ],
             [
              0.5555555555555556,
              "#d8576b"
             ],
             [
              0.6666666666666666,
              "#ed7953"
             ],
             [
              0.7777777777777778,
              "#fb9f3a"
             ],
             [
              0.8888888888888888,
              "#fdca26"
             ],
             [
              1,
              "#f0f921"
             ]
            ],
            "type": "histogram2dcontour"
           }
          ],
          "mesh3d": [
           {
            "colorbar": {
             "outlinewidth": 0,
             "ticks": ""
            },
            "type": "mesh3d"
           }
          ],
          "parcoords": [
           {
            "line": {
             "colorbar": {
              "outlinewidth": 0,
              "ticks": ""
             }
            },
            "type": "parcoords"
           }
          ],
          "pie": [
           {
            "automargin": true,
            "type": "pie"
           }
          ],
          "scatter": [
           {
            "marker": {
             "colorbar": {
              "outlinewidth": 0,
              "ticks": ""
             }
            },
            "type": "scatter"
           }
          ],
          "scatter3d": [
           {
            "line": {
             "colorbar": {
              "outlinewidth": 0,
              "ticks": ""
             }
            },
            "marker": {
             "colorbar": {
              "outlinewidth": 0,
              "ticks": ""
             }
            },
            "type": "scatter3d"
           }
          ],
          "scattercarpet": [
           {
            "marker": {
             "colorbar": {
              "outlinewidth": 0,
              "ticks": ""
             }
            },
            "type": "scattercarpet"
           }
          ],
          "scattergeo": [
           {
            "marker": {
             "colorbar": {
              "outlinewidth": 0,
              "ticks": ""
             }
            },
            "type": "scattergeo"
           }
          ],
          "scattergl": [
           {
            "marker": {
             "colorbar": {
              "outlinewidth": 0,
              "ticks": ""
             }
            },
            "type": "scattergl"
           }
          ],
          "scattermapbox": [
           {
            "marker": {
             "colorbar": {
              "outlinewidth": 0,
              "ticks": ""
             }
            },
            "type": "scattermapbox"
           }
          ],
          "scatterpolar": [
           {
            "marker": {
             "colorbar": {
              "outlinewidth": 0,
              "ticks": ""
             }
            },
            "type": "scatterpolar"
           }
          ],
          "scatterpolargl": [
           {
            "marker": {
             "colorbar": {
              "outlinewidth": 0,
              "ticks": ""
             }
            },
            "type": "scatterpolargl"
           }
          ],
          "scatterternary": [
           {
            "marker": {
             "colorbar": {
              "outlinewidth": 0,
              "ticks": ""
             }
            },
            "type": "scatterternary"
           }
          ],
          "surface": [
           {
            "colorbar": {
             "outlinewidth": 0,
             "ticks": ""
            },
            "colorscale": [
             [
              0,
              "#0d0887"
             ],
             [
              0.1111111111111111,
              "#46039f"
             ],
             [
              0.2222222222222222,
              "#7201a8"
             ],
             [
              0.3333333333333333,
              "#9c179e"
             ],
             [
              0.4444444444444444,
              "#bd3786"
             ],
             [
              0.5555555555555556,
              "#d8576b"
             ],
             [
              0.6666666666666666,
              "#ed7953"
             ],
             [
              0.7777777777777778,
              "#fb9f3a"
             ],
             [
              0.8888888888888888,
              "#fdca26"
             ],
             [
              1,
              "#f0f921"
             ]
            ],
            "type": "surface"
           }
          ],
          "table": [
           {
            "cells": {
             "fill": {
              "color": "#EBF0F8"
             },
             "line": {
              "color": "white"
             }
            },
            "header": {
             "fill": {
              "color": "#C8D4E3"
             },
             "line": {
              "color": "white"
             }
            },
            "type": "table"
           }
          ]
         },
         "layout": {
          "annotationdefaults": {
           "arrowcolor": "#2a3f5f",
           "arrowhead": 0,
           "arrowwidth": 1
          },
          "autotypenumbers": "strict",
          "coloraxis": {
           "colorbar": {
            "outlinewidth": 0,
            "ticks": ""
           }
          },
          "colorscale": {
           "diverging": [
            [
             0,
             "#8e0152"
            ],
            [
             0.1,
             "#c51b7d"
            ],
            [
             0.2,
             "#de77ae"
            ],
            [
             0.3,
             "#f1b6da"
            ],
            [
             0.4,
             "#fde0ef"
            ],
            [
             0.5,
             "#f7f7f7"
            ],
            [
             0.6,
             "#e6f5d0"
            ],
            [
             0.7,
             "#b8e186"
            ],
            [
             0.8,
             "#7fbc41"
            ],
            [
             0.9,
             "#4d9221"
            ],
            [
             1,
             "#276419"
            ]
           ],
           "sequential": [
            [
             0,
             "#0d0887"
            ],
            [
             0.1111111111111111,
             "#46039f"
            ],
            [
             0.2222222222222222,
             "#7201a8"
            ],
            [
             0.3333333333333333,
             "#9c179e"
            ],
            [
             0.4444444444444444,
             "#bd3786"
            ],
            [
             0.5555555555555556,
             "#d8576b"
            ],
            [
             0.6666666666666666,
             "#ed7953"
            ],
            [
             0.7777777777777778,
             "#fb9f3a"
            ],
            [
             0.8888888888888888,
             "#fdca26"
            ],
            [
             1,
             "#f0f921"
            ]
           ],
           "sequentialminus": [
            [
             0,
             "#0d0887"
            ],
            [
             0.1111111111111111,
             "#46039f"
            ],
            [
             0.2222222222222222,
             "#7201a8"
            ],
            [
             0.3333333333333333,
             "#9c179e"
            ],
            [
             0.4444444444444444,
             "#bd3786"
            ],
            [
             0.5555555555555556,
             "#d8576b"
            ],
            [
             0.6666666666666666,
             "#ed7953"
            ],
            [
             0.7777777777777778,
             "#fb9f3a"
            ],
            [
             0.8888888888888888,
             "#fdca26"
            ],
            [
             1,
             "#f0f921"
            ]
           ]
          },
          "colorway": [
           "#636efa",
           "#EF553B",
           "#00cc96",
           "#ab63fa",
           "#FFA15A",
           "#19d3f3",
           "#FF6692",
           "#B6E880",
           "#FF97FF",
           "#FECB52"
          ],
          "font": {
           "color": "#2a3f5f"
          },
          "geo": {
           "bgcolor": "white",
           "lakecolor": "white",
           "landcolor": "#E5ECF6",
           "showlakes": true,
           "showland": true,
           "subunitcolor": "white"
          },
          "hoverlabel": {
           "align": "left"
          },
          "hovermode": "closest",
          "mapbox": {
           "style": "light"
          },
          "paper_bgcolor": "white",
          "plot_bgcolor": "#E5ECF6",
          "polar": {
           "angularaxis": {
            "gridcolor": "white",
            "linecolor": "white",
            "ticks": ""
           },
           "bgcolor": "#E5ECF6",
           "radialaxis": {
            "gridcolor": "white",
            "linecolor": "white",
            "ticks": ""
           }
          },
          "scene": {
           "xaxis": {
            "backgroundcolor": "#E5ECF6",
            "gridcolor": "white",
            "gridwidth": 2,
            "linecolor": "white",
            "showbackground": true,
            "ticks": "",
            "zerolinecolor": "white"
           },
           "yaxis": {
            "backgroundcolor": "#E5ECF6",
            "gridcolor": "white",
            "gridwidth": 2,
            "linecolor": "white",
            "showbackground": true,
            "ticks": "",
            "zerolinecolor": "white"
           },
           "zaxis": {
            "backgroundcolor": "#E5ECF6",
            "gridcolor": "white",
            "gridwidth": 2,
            "linecolor": "white",
            "showbackground": true,
            "ticks": "",
            "zerolinecolor": "white"
           }
          },
          "shapedefaults": {
           "line": {
            "color": "#2a3f5f"
           }
          },
          "ternary": {
           "aaxis": {
            "gridcolor": "white",
            "linecolor": "white",
            "ticks": ""
           },
           "baxis": {
            "gridcolor": "white",
            "linecolor": "white",
            "ticks": ""
           },
           "bgcolor": "#E5ECF6",
           "caxis": {
            "gridcolor": "white",
            "linecolor": "white",
            "ticks": ""
           }
          },
          "title": {
           "x": 0.05
          },
          "xaxis": {
           "automargin": true,
           "gridcolor": "white",
           "linecolor": "white",
           "ticks": "",
           "title": {
            "standoff": 15
           },
           "zerolinecolor": "white",
           "zerolinewidth": 2
          },
          "yaxis": {
           "automargin": true,
           "gridcolor": "white",
           "linecolor": "white",
           "ticks": "",
           "title": {
            "standoff": 15
           },
           "zerolinecolor": "white",
           "zerolinewidth": 2
          }
         }
        },
        "title": {
         "text": "Variação Diária do Fechamento ao Longo do Tempo"
        },
        "xaxis": {
         "title": {
          "text": "Dia"
         }
        },
        "yaxis": {
         "title": {
          "text": "Variação Diária do Fechamento"
         }
        }
       }
      }
     },
     "metadata": {},
     "output_type": "display_data"
    }
   ],
   "source": [
    "# Criando a figura\n",
    "fig = go.Figure()\n",
    "\n",
    "# Adicionando a linha com a variação diária do fechamento\n",
    "fig.add_trace(go.Scatter(x=novo_df['Day'], y=novo_df['Daily_Closing_Variation'], mode='lines', name='Variação Diária do Fechamento'))\n",
    "\n",
    "# Atualizando o layout para definir o eixo X na linha zero\n",
    "fig.update_layout(\n",
    "    title='Variação Diária do Fechamento ao Longo do Tempo',\n",
    "    xaxis_title='Dia',\n",
    "    yaxis_title='Variação Diária do Fechamento',\n",
    "    shapes=[dict(type='line', x0=novo_df['Day'].min(), x1=novo_df['Day'].max(), y0=0, y1=0, line=dict(color='black', width=2))]\n",
    ")\n",
    "\n",
    "# Mostrando o gráfico\n",
    "fig.show()"
   ]
  },
  {
   "cell_type": "code",
   "execution_count": 125,
   "metadata": {},
   "outputs": [
    {
     "name": "stdout",
     "output_type": "stream",
     "text": [
      "<class 'pandas.core.frame.DataFrame'>\n",
      "RangeIndex: 2000 entries, 0 to 1999\n",
      "Data columns (total 16 columns):\n",
      " #   Column                   Non-Null Count  Dtype         \n",
      "---  ------                   --------------  -----         \n",
      " 0   Company_Name             2000 non-null   object        \n",
      " 1   Stock_Code               2000 non-null   object        \n",
      " 2   Day                      2000 non-null   object        \n",
      " 3   WeekDay                  2000 non-null   object        \n",
      " 4   Week                     2000 non-null   int64         \n",
      " 5   Month                    2000 non-null   int64         \n",
      " 6   Month_Name               2000 non-null   object        \n",
      " 7   Quarter                  2000 non-null   int64         \n",
      " 8   Opening_Value            2000 non-null   float64       \n",
      " 9   Highest_Value            2000 non-null   float64       \n",
      " 10  Lowest_Value             2000 non-null   float64       \n",
      " 11  Closing_Value            2000 non-null   float64       \n",
      " 12  Volume                   2000 non-null   int64         \n",
      " 13  Daily_Closing_Variation  2000 non-null   object        \n",
      " 14  Year                     2000 non-null   int64         \n",
      " 15  Day_Date                 2000 non-null   datetime64[ns]\n",
      "dtypes: datetime64[ns](1), float64(4), int64(5), object(6)\n",
      "memory usage: 250.1+ KB\n"
     ]
    }
   ],
   "source": [
    "novo_df.info()"
   ]
  },
  {
   "cell_type": "code",
   "execution_count": 116,
   "metadata": {},
   "outputs": [
    {
     "ename": "TypeError",
     "evalue": "You have to supply one of 'by' and 'level'",
     "output_type": "error",
     "traceback": [
      "\u001b[0;31m---------------------------------------------------------------------------\u001b[0m",
      "\u001b[0;31mTypeError\u001b[0m                                 Traceback (most recent call last)",
      "Input \u001b[0;32mIn [116]\u001b[0m, in \u001b[0;36m<cell line: 1>\u001b[0;34m()\u001b[0m\n\u001b[0;32m----> 1\u001b[0m \u001b[43mnovo_df\u001b[49m\u001b[38;5;241;43m.\u001b[39;49m\u001b[43mgroupby\u001b[49m\u001b[43m(\u001b[49m\u001b[43m)\u001b[49m[[\u001b[38;5;124m'\u001b[39m\u001b[38;5;124mCompany_Name\u001b[39m\u001b[38;5;124m'\u001b[39m,\u001b[38;5;124m'\u001b[39m\u001b[38;5;124mVolume\u001b[39m\u001b[38;5;124m'\u001b[39m]]\n",
      "File \u001b[0;32m~/opt/anaconda3/lib/python3.9/site-packages/pandas/core/frame.py:7706\u001b[0m, in \u001b[0;36mDataFrame.groupby\u001b[0;34m(self, by, axis, level, as_index, sort, group_keys, squeeze, observed, dropna)\u001b[0m\n\u001b[1;32m   7703\u001b[0m     squeeze \u001b[38;5;241m=\u001b[39m \u001b[38;5;28;01mFalse\u001b[39;00m\n\u001b[1;32m   7705\u001b[0m \u001b[38;5;28;01mif\u001b[39;00m level \u001b[38;5;129;01mis\u001b[39;00m \u001b[38;5;28;01mNone\u001b[39;00m \u001b[38;5;129;01mand\u001b[39;00m by \u001b[38;5;129;01mis\u001b[39;00m \u001b[38;5;28;01mNone\u001b[39;00m:\n\u001b[0;32m-> 7706\u001b[0m     \u001b[38;5;28;01mraise\u001b[39;00m \u001b[38;5;167;01mTypeError\u001b[39;00m(\u001b[38;5;124m\"\u001b[39m\u001b[38;5;124mYou have to supply one of \u001b[39m\u001b[38;5;124m'\u001b[39m\u001b[38;5;124mby\u001b[39m\u001b[38;5;124m'\u001b[39m\u001b[38;5;124m and \u001b[39m\u001b[38;5;124m'\u001b[39m\u001b[38;5;124mlevel\u001b[39m\u001b[38;5;124m'\u001b[39m\u001b[38;5;124m\"\u001b[39m)\n\u001b[1;32m   7707\u001b[0m axis \u001b[38;5;241m=\u001b[39m \u001b[38;5;28mself\u001b[39m\u001b[38;5;241m.\u001b[39m_get_axis_number(axis)\n\u001b[1;32m   7709\u001b[0m \u001b[38;5;66;03m# https://github.com/python/mypy/issues/7642\u001b[39;00m\n\u001b[1;32m   7710\u001b[0m \u001b[38;5;66;03m# error: Argument \"squeeze\" to \"DataFrameGroupBy\" has incompatible type\u001b[39;00m\n\u001b[1;32m   7711\u001b[0m \u001b[38;5;66;03m# \"Union[bool, NoDefault]\"; expected \"bool\"\u001b[39;00m\n",
      "\u001b[0;31mTypeError\u001b[0m: You have to supply one of 'by' and 'level'"
     ]
    }
   ],
   "source": [
    "novo_df.groupby()[['Company_Name','Volume']]"
   ]
  }
 ],
 "metadata": {
  "kernelspec": {
   "display_name": "base",
   "language": "python",
   "name": "python3"
  },
  "language_info": {
   "codemirror_mode": {
    "name": "ipython",
    "version": 3
   },
   "file_extension": ".py",
   "mimetype": "text/x-python",
   "name": "python",
   "nbconvert_exporter": "python",
   "pygments_lexer": "ipython3",
   "version": "3.9.12"
  }
 },
 "nbformat": 4,
 "nbformat_minor": 2
}
