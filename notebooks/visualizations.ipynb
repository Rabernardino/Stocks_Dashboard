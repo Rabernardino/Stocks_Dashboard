{
 "cells": [
  {
   "cell_type": "markdown",
   "metadata": {},
   "source": [
    "<h1>Stock Market Analysis</h1>"
   ]
  },
  {
   "cell_type": "code",
   "execution_count": 1,
   "metadata": {},
   "outputs": [],
   "source": [
    "#Importing the libraries necessary for the project\n",
    "import os\n",
    "from dotenv import load_dotenv\n",
    "import pandas as pd\n",
    "import requests\n",
    "import matplotlib.pyplot as plt\n",
    "import plotly.express as px\n",
    "import plotly.graph_objects as go\n",
    "from datetime import datetime\n",
    "from datetime import timedelta"
   ]
  },
  {
   "cell_type": "code",
   "execution_count": 3,
   "metadata": {},
   "outputs": [
    {
     "data": {
      "text/html": [
       "<div>\n",
       "<style scoped>\n",
       "    .dataframe tbody tr th:only-of-type {\n",
       "        vertical-align: middle;\n",
       "    }\n",
       "\n",
       "    .dataframe tbody tr th {\n",
       "        vertical-align: top;\n",
       "    }\n",
       "\n",
       "    .dataframe thead th {\n",
       "        text-align: right;\n",
       "    }\n",
       "</style>\n",
       "<table border=\"1\" class=\"dataframe\">\n",
       "  <thead>\n",
       "    <tr style=\"text-align: right;\">\n",
       "      <th></th>\n",
       "      <th>Company_Name</th>\n",
       "      <th>Stock_Code</th>\n",
       "      <th>Day</th>\n",
       "      <th>WeekDay</th>\n",
       "      <th>Week</th>\n",
       "      <th>Month</th>\n",
       "      <th>Month_Name</th>\n",
       "      <th>Quarter</th>\n",
       "      <th>Opening_Value</th>\n",
       "      <th>Highest_Value</th>\n",
       "      <th>Lowest_Value</th>\n",
       "      <th>Closing_Value</th>\n",
       "      <th>Volume</th>\n",
       "      <th>Daily_Closing_Variation</th>\n",
       "    </tr>\n",
       "  </thead>\n",
       "  <tbody>\n",
       "    <tr>\n",
       "      <th>0</th>\n",
       "      <td>Apple</td>\n",
       "      <td>AAPL</td>\n",
       "      <td>2024-05-17</td>\n",
       "      <td>Friday</td>\n",
       "      <td>20</td>\n",
       "      <td>5</td>\n",
       "      <td>May</td>\n",
       "      <td>2</td>\n",
       "      <td>189.510</td>\n",
       "      <td>190.810</td>\n",
       "      <td>189.1800</td>\n",
       "      <td>189.87</td>\n",
       "      <td>41282925</td>\n",
       "      <td>0.01580278128950755</td>\n",
       "    </tr>\n",
       "    <tr>\n",
       "      <th>1</th>\n",
       "      <td>Apple</td>\n",
       "      <td>AAPL</td>\n",
       "      <td>2024-05-16</td>\n",
       "      <td>Thursday</td>\n",
       "      <td>20</td>\n",
       "      <td>5</td>\n",
       "      <td>May</td>\n",
       "      <td>2</td>\n",
       "      <td>190.470</td>\n",
       "      <td>191.095</td>\n",
       "      <td>189.6601</td>\n",
       "      <td>189.84</td>\n",
       "      <td>52845230</td>\n",
       "      <td>0.06325110689437305</td>\n",
       "    </tr>\n",
       "    <tr>\n",
       "      <th>2</th>\n",
       "      <td>Apple</td>\n",
       "      <td>AAPL</td>\n",
       "      <td>2024-05-15</td>\n",
       "      <td>Wednesday</td>\n",
       "      <td>20</td>\n",
       "      <td>5</td>\n",
       "      <td>May</td>\n",
       "      <td>2</td>\n",
       "      <td>187.910</td>\n",
       "      <td>190.650</td>\n",
       "      <td>187.3700</td>\n",
       "      <td>189.72</td>\n",
       "      <td>70399988</td>\n",
       "      <td>1.2217894680680745</td>\n",
       "    </tr>\n",
       "    <tr>\n",
       "      <th>3</th>\n",
       "      <td>Apple</td>\n",
       "      <td>AAPL</td>\n",
       "      <td>2024-05-14</td>\n",
       "      <td>Tuesday</td>\n",
       "      <td>20</td>\n",
       "      <td>5</td>\n",
       "      <td>May</td>\n",
       "      <td>2</td>\n",
       "      <td>187.510</td>\n",
       "      <td>188.300</td>\n",
       "      <td>186.2900</td>\n",
       "      <td>187.43</td>\n",
       "      <td>52393619</td>\n",
       "      <td>0.6173502254670419</td>\n",
       "    </tr>\n",
       "    <tr>\n",
       "      <th>4</th>\n",
       "      <td>Apple</td>\n",
       "      <td>AAPL</td>\n",
       "      <td>2024-05-13</td>\n",
       "      <td>Monday</td>\n",
       "      <td>20</td>\n",
       "      <td>5</td>\n",
       "      <td>May</td>\n",
       "      <td>2</td>\n",
       "      <td>185.435</td>\n",
       "      <td>187.100</td>\n",
       "      <td>184.6200</td>\n",
       "      <td>186.28</td>\n",
       "      <td>72044809</td>\n",
       "      <td>1.7645452062278009</td>\n",
       "    </tr>\n",
       "  </tbody>\n",
       "</table>\n",
       "</div>"
      ],
      "text/plain": [
       "  Company_Name Stock_Code         Day    WeekDay  Week  Month Month_Name  \\\n",
       "0        Apple       AAPL  2024-05-17     Friday    20      5        May   \n",
       "1        Apple       AAPL  2024-05-16   Thursday    20      5        May   \n",
       "2        Apple       AAPL  2024-05-15  Wednesday    20      5        May   \n",
       "3        Apple       AAPL  2024-05-14    Tuesday    20      5        May   \n",
       "4        Apple       AAPL  2024-05-13     Monday    20      5        May   \n",
       "\n",
       "   Quarter  Opening_Value  Highest_Value  Lowest_Value  Closing_Value  \\\n",
       "0        2        189.510        190.810      189.1800         189.87   \n",
       "1        2        190.470        191.095      189.6601         189.84   \n",
       "2        2        187.910        190.650      187.3700         189.72   \n",
       "3        2        187.510        188.300      186.2900         187.43   \n",
       "4        2        185.435        187.100      184.6200         186.28   \n",
       "\n",
       "     Volume Daily_Closing_Variation  \n",
       "0  41282925     0.01580278128950755  \n",
       "1  52845230     0.06325110689437305  \n",
       "2  70399988      1.2217894680680745  \n",
       "3  52393619      0.6173502254670419  \n",
       "4  72044809      1.7645452062278009  "
      ]
     },
     "execution_count": 3,
     "metadata": {},
     "output_type": "execute_result"
    }
   ],
   "source": [
    "test_data = pd.read_csv('/Users/rabernar/Visual Studio/Projetos VsCode/Projetos DataScience/Projeto 18 - Mercado Financeiro/assets/stock_market.csv')\n",
    "test_data.head()"
   ]
  },
  {
   "cell_type": "code",
   "execution_count": 4,
   "metadata": {},
   "outputs": [
    {
     "data": {
      "text/plain": [
       "array(['Apple', 'Microsoft', 'Amazon', 'NVIDIA', 'Alphabet Class A',\n",
       "       'Tesla', 'Alphabet Class C', 'Berkshire Hathaway', 'Meta Class A',\n",
       "       'UnitedHealth Group', 'Exxon Mobil', 'Eli Lilly', 'JPMorgan Chase',\n",
       "       'Johnson & Johnson', 'Visa Class A', 'Procter & Gamble',\n",
       "       'Mastercard Class A', 'Broadcom', 'Home Depot',\n",
       "       'Chevron Corporation'], dtype=object)"
      ]
     },
     "execution_count": 4,
     "metadata": {},
     "output_type": "execute_result"
    }
   ],
   "source": [
    "test_data['Company_Name'].unique()"
   ]
  },
  {
   "cell_type": "code",
   "execution_count": 5,
   "metadata": {},
   "outputs": [
    {
     "data": {
      "text/plain": [
       "array(['AAPL', 'MSFT', 'AMZN', 'NVDA', 'GOOGL', 'TSLA', 'GOOG', 'BRK.B',\n",
       "       'META', 'UNH', 'XOM', 'LLY', 'JPM', 'JNJ', 'V', 'PG', 'MA', 'AVGO',\n",
       "       'HD', 'CVX'], dtype=object)"
      ]
     },
     "execution_count": 5,
     "metadata": {},
     "output_type": "execute_result"
    }
   ],
   "source": [
    "test_data['Stock_Code'].unique()"
   ]
  },
  {
   "cell_type": "code",
   "execution_count": 6,
   "metadata": {},
   "outputs": [
    {
     "data": {
      "text/html": [
       "<div>\n",
       "<style scoped>\n",
       "    .dataframe tbody tr th:only-of-type {\n",
       "        vertical-align: middle;\n",
       "    }\n",
       "\n",
       "    .dataframe tbody tr th {\n",
       "        vertical-align: top;\n",
       "    }\n",
       "\n",
       "    .dataframe thead th {\n",
       "        text-align: right;\n",
       "    }\n",
       "</style>\n",
       "<table border=\"1\" class=\"dataframe\">\n",
       "  <thead>\n",
       "    <tr style=\"text-align: right;\">\n",
       "      <th></th>\n",
       "      <th>Company_Name</th>\n",
       "      <th>Stock_Code</th>\n",
       "      <th>Day</th>\n",
       "      <th>WeekDay</th>\n",
       "      <th>Week</th>\n",
       "      <th>Month</th>\n",
       "      <th>Month_Name</th>\n",
       "      <th>Quarter</th>\n",
       "      <th>Opening_Value</th>\n",
       "      <th>Highest_Value</th>\n",
       "      <th>Lowest_Value</th>\n",
       "      <th>Closing_Value</th>\n",
       "      <th>Volume</th>\n",
       "      <th>Daily_Closing_Variation</th>\n",
       "    </tr>\n",
       "  </thead>\n",
       "  <tbody>\n",
       "    <tr>\n",
       "      <th>600</th>\n",
       "      <td>Alphabet Class C</td>\n",
       "      <td>GOOG</td>\n",
       "      <td>2024-05-17</td>\n",
       "      <td>Friday</td>\n",
       "      <td>20</td>\n",
       "      <td>5</td>\n",
       "      <td>May</td>\n",
       "      <td>2</td>\n",
       "      <td>175.550</td>\n",
       "      <td>177.4950</td>\n",
       "      <td>174.9800</td>\n",
       "      <td>177.29</td>\n",
       "      <td>16546353</td>\n",
       "      <td>1.0602519523456564</td>\n",
       "    </tr>\n",
       "    <tr>\n",
       "      <th>601</th>\n",
       "      <td>Alphabet Class C</td>\n",
       "      <td>GOOG</td>\n",
       "      <td>2024-05-16</td>\n",
       "      <td>Thursday</td>\n",
       "      <td>20</td>\n",
       "      <td>5</td>\n",
       "      <td>May</td>\n",
       "      <td>2</td>\n",
       "      <td>174.600</td>\n",
       "      <td>176.3400</td>\n",
       "      <td>174.0500</td>\n",
       "      <td>175.43</td>\n",
       "      <td>17247311</td>\n",
       "      <td>0.8914193696802458</td>\n",
       "    </tr>\n",
       "    <tr>\n",
       "      <th>602</th>\n",
       "      <td>Alphabet Class C</td>\n",
       "      <td>GOOG</td>\n",
       "      <td>2024-05-15</td>\n",
       "      <td>Wednesday</td>\n",
       "      <td>20</td>\n",
       "      <td>5</td>\n",
       "      <td>May</td>\n",
       "      <td>2</td>\n",
       "      <td>172.300</td>\n",
       "      <td>174.0459</td>\n",
       "      <td>172.0300</td>\n",
       "      <td>173.88</td>\n",
       "      <td>20958245</td>\n",
       "      <td>1.134182516140283</td>\n",
       "    </tr>\n",
       "    <tr>\n",
       "      <th>603</th>\n",
       "      <td>Alphabet Class C</td>\n",
       "      <td>GOOG</td>\n",
       "      <td>2024-05-14</td>\n",
       "      <td>Tuesday</td>\n",
       "      <td>20</td>\n",
       "      <td>5</td>\n",
       "      <td>May</td>\n",
       "      <td>2</td>\n",
       "      <td>171.590</td>\n",
       "      <td>172.7800</td>\n",
       "      <td>170.4200</td>\n",
       "      <td>171.93</td>\n",
       "      <td>18729463</td>\n",
       "      <td>0.602691632533646</td>\n",
       "    </tr>\n",
       "    <tr>\n",
       "      <th>604</th>\n",
       "      <td>Alphabet Class C</td>\n",
       "      <td>GOOG</td>\n",
       "      <td>2024-05-13</td>\n",
       "      <td>Monday</td>\n",
       "      <td>20</td>\n",
       "      <td>5</td>\n",
       "      <td>May</td>\n",
       "      <td>2</td>\n",
       "      <td>165.847</td>\n",
       "      <td>170.9500</td>\n",
       "      <td>165.7600</td>\n",
       "      <td>170.90</td>\n",
       "      <td>19648585</td>\n",
       "      <td>0.3582124610957858</td>\n",
       "    </tr>\n",
       "    <tr>\n",
       "      <th>...</th>\n",
       "      <td>...</td>\n",
       "      <td>...</td>\n",
       "      <td>...</td>\n",
       "      <td>...</td>\n",
       "      <td>...</td>\n",
       "      <td>...</td>\n",
       "      <td>...</td>\n",
       "      <td>...</td>\n",
       "      <td>...</td>\n",
       "      <td>...</td>\n",
       "      <td>...</td>\n",
       "      <td>...</td>\n",
       "      <td>...</td>\n",
       "      <td>...</td>\n",
       "    </tr>\n",
       "    <tr>\n",
       "      <th>695</th>\n",
       "      <td>Alphabet Class C</td>\n",
       "      <td>GOOG</td>\n",
       "      <td>2024-01-02</td>\n",
       "      <td>Tuesday</td>\n",
       "      <td>1</td>\n",
       "      <td>1</td>\n",
       "      <td>January</td>\n",
       "      <td>1</td>\n",
       "      <td>139.600</td>\n",
       "      <td>140.6147</td>\n",
       "      <td>137.7400</td>\n",
       "      <td>139.56</td>\n",
       "      <td>20071885</td>\n",
       "      <td>-0.9721138153693354</td>\n",
       "    </tr>\n",
       "    <tr>\n",
       "      <th>696</th>\n",
       "      <td>Alphabet Class C</td>\n",
       "      <td>GOOG</td>\n",
       "      <td>2023-12-29</td>\n",
       "      <td>Friday</td>\n",
       "      <td>52</td>\n",
       "      <td>12</td>\n",
       "      <td>December</td>\n",
       "      <td>4</td>\n",
       "      <td>140.680</td>\n",
       "      <td>141.4350</td>\n",
       "      <td>139.9000</td>\n",
       "      <td>140.93</td>\n",
       "      <td>14880961</td>\n",
       "      <td>-0.2477349943374818</td>\n",
       "    </tr>\n",
       "    <tr>\n",
       "      <th>697</th>\n",
       "      <td>Alphabet Class C</td>\n",
       "      <td>GOOG</td>\n",
       "      <td>2023-12-28</td>\n",
       "      <td>Thursday</td>\n",
       "      <td>52</td>\n",
       "      <td>12</td>\n",
       "      <td>December</td>\n",
       "      <td>4</td>\n",
       "      <td>141.850</td>\n",
       "      <td>142.2700</td>\n",
       "      <td>140.8283</td>\n",
       "      <td>141.28</td>\n",
       "      <td>12192549</td>\n",
       "      <td>-0.11312217194569894</td>\n",
       "    </tr>\n",
       "    <tr>\n",
       "      <th>698</th>\n",
       "      <td>Alphabet Class C</td>\n",
       "      <td>GOOG</td>\n",
       "      <td>2023-12-27</td>\n",
       "      <td>Wednesday</td>\n",
       "      <td>52</td>\n",
       "      <td>12</td>\n",
       "      <td>December</td>\n",
       "      <td>4</td>\n",
       "      <td>142.830</td>\n",
       "      <td>143.3200</td>\n",
       "      <td>141.0512</td>\n",
       "      <td>141.44</td>\n",
       "      <td>17261305</td>\n",
       "      <td>-0.9662512253185797</td>\n",
       "    </tr>\n",
       "    <tr>\n",
       "      <th>699</th>\n",
       "      <td>Alphabet Class C</td>\n",
       "      <td>GOOG</td>\n",
       "      <td>2023-12-26</td>\n",
       "      <td>Tuesday</td>\n",
       "      <td>52</td>\n",
       "      <td>12</td>\n",
       "      <td>December</td>\n",
       "      <td>4</td>\n",
       "      <td>142.980</td>\n",
       "      <td>143.9450</td>\n",
       "      <td>142.5001</td>\n",
       "      <td>142.82</td>\n",
       "      <td>11170066</td>\n",
       "      <td>-</td>\n",
       "    </tr>\n",
       "  </tbody>\n",
       "</table>\n",
       "<p>100 rows × 14 columns</p>\n",
       "</div>"
      ],
      "text/plain": [
       "         Company_Name Stock_Code         Day    WeekDay  Week  Month  \\\n",
       "600  Alphabet Class C       GOOG  2024-05-17     Friday    20      5   \n",
       "601  Alphabet Class C       GOOG  2024-05-16   Thursday    20      5   \n",
       "602  Alphabet Class C       GOOG  2024-05-15  Wednesday    20      5   \n",
       "603  Alphabet Class C       GOOG  2024-05-14    Tuesday    20      5   \n",
       "604  Alphabet Class C       GOOG  2024-05-13     Monday    20      5   \n",
       "..                ...        ...         ...        ...   ...    ...   \n",
       "695  Alphabet Class C       GOOG  2024-01-02    Tuesday     1      1   \n",
       "696  Alphabet Class C       GOOG  2023-12-29     Friday    52     12   \n",
       "697  Alphabet Class C       GOOG  2023-12-28   Thursday    52     12   \n",
       "698  Alphabet Class C       GOOG  2023-12-27  Wednesday    52     12   \n",
       "699  Alphabet Class C       GOOG  2023-12-26    Tuesday    52     12   \n",
       "\n",
       "    Month_Name  Quarter  Opening_Value  Highest_Value  Lowest_Value  \\\n",
       "600        May        2        175.550       177.4950      174.9800   \n",
       "601        May        2        174.600       176.3400      174.0500   \n",
       "602        May        2        172.300       174.0459      172.0300   \n",
       "603        May        2        171.590       172.7800      170.4200   \n",
       "604        May        2        165.847       170.9500      165.7600   \n",
       "..         ...      ...            ...            ...           ...   \n",
       "695    January        1        139.600       140.6147      137.7400   \n",
       "696   December        4        140.680       141.4350      139.9000   \n",
       "697   December        4        141.850       142.2700      140.8283   \n",
       "698   December        4        142.830       143.3200      141.0512   \n",
       "699   December        4        142.980       143.9450      142.5001   \n",
       "\n",
       "     Closing_Value    Volume Daily_Closing_Variation  \n",
       "600         177.29  16546353      1.0602519523456564  \n",
       "601         175.43  17247311      0.8914193696802458  \n",
       "602         173.88  20958245       1.134182516140283  \n",
       "603         171.93  18729463       0.602691632533646  \n",
       "604         170.90  19648585      0.3582124610957858  \n",
       "..             ...       ...                     ...  \n",
       "695         139.56  20071885     -0.9721138153693354  \n",
       "696         140.93  14880961     -0.2477349943374818  \n",
       "697         141.28  12192549    -0.11312217194569894  \n",
       "698         141.44  17261305     -0.9662512253185797  \n",
       "699         142.82  11170066                       -  \n",
       "\n",
       "[100 rows x 14 columns]"
      ]
     },
     "execution_count": 6,
     "metadata": {},
     "output_type": "execute_result"
    }
   ],
   "source": [
    "test_data[test_data['Stock_Code'] == 'GOOG']"
   ]
  },
  {
   "cell_type": "code",
   "execution_count": 6,
   "metadata": {},
   "outputs": [],
   "source": [
    "acao = 'AAPL'\n",
    "data = '2024-05-17'"
   ]
  },
  {
   "cell_type": "code",
   "execution_count": 7,
   "metadata": {},
   "outputs": [
    {
     "data": {
      "text/plain": [
       "189.51"
      ]
     },
     "execution_count": 7,
     "metadata": {},
     "output_type": "execute_result"
    }
   ],
   "source": [
    "filtered_df = test_data[(test_data['Stock_Code'] == acao) & (test_data['Day'] == data)]\n",
    "filtered_df.iloc[0]['Opening_Value']"
   ]
  },
  {
   "cell_type": "code",
   "execution_count": 8,
   "metadata": {},
   "outputs": [
    {
     "data": {
      "text/plain": [
       "array([ 5,  4,  3,  2,  1, 12])"
      ]
     },
     "execution_count": 8,
     "metadata": {},
     "output_type": "execute_result"
    }
   ],
   "source": [
    "test_data.Month.unique()"
   ]
  },
  {
   "cell_type": "code",
   "execution_count": 9,
   "metadata": {},
   "outputs": [
    {
     "data": {
      "text/plain": [
       "array(['Apple', 'Microsoft', 'Amazon', 'NVIDIA', 'Alphabet Class A',\n",
       "       'Tesla', 'Alphabet Class C', 'Berkshire Hathaway', 'Meta Class A',\n",
       "       'UnitedHealth Group', 'Exxon Mobil', 'Eli Lilly', 'JPMorgan Chase',\n",
       "       'Johnson & Johnson', 'Visa Class A', 'Procter & Gamble',\n",
       "       'Mastercard Class A', 'Broadcom', 'Home Depot',\n",
       "       'Chevron Corporation'], dtype=object)"
      ]
     },
     "execution_count": 9,
     "metadata": {},
     "output_type": "execute_result"
    }
   ],
   "source": [
    "test_data['Company_Name'].unique()"
   ]
  },
  {
   "cell_type": "code",
   "execution_count": 10,
   "metadata": {},
   "outputs": [
    {
     "name": "stdout",
     "output_type": "stream",
     "text": [
      "{'label': 'Apple', 'value': 'AAPL'}\n",
      "{'label': 'Microsoft', 'value': 'MSFT'}\n",
      "{'label': 'Amazon', 'value': 'AMZN'}\n",
      "{'label': 'Nvdia', 'value': 'NVDA'}\n",
      "{'label': 'Google Class A', 'value': 'GOOGL'}\n",
      "{'label': 'Tesla', 'value': 'TSLA'}\n",
      "{'label': 'Google Class B', 'value': 'GOOG'}\n",
      "{'label': 'Berkshire Hathaway', 'value': 'BRK.B'}\n",
      "{'label': 'Meta Class A', 'value': 'META'}\n",
      "{'label': 'UnitedHealth Group', 'value': 'UNH'}\n",
      "{'label': 'Exxon Mobil', 'value': 'XOM'}\n",
      "{'label': 'Eli Lilly', 'value': 'LLY'}\n",
      "{'label': 'JPMorgan Chase', 'value': 'JPM'}\n",
      "{'label': 'Johnson & Johnson', 'value': 'JNJ'}\n",
      "{'label': 'Visa Class A', 'value': 'V'}\n",
      "{'label': 'Procter & Gamble', 'value': 'PG'}\n",
      "{'label': 'Mastercard Class A', 'value': 'MA'}\n",
      "{'label': 'Broadcom', 'value': 'AVGO'}\n",
      "{'label': 'Home Depot', 'value': 'HD'}\n",
      "{'label': 'Chevron Corporation', 'value': 'CVX'}\n"
     ]
    }
   ],
   "source": [
    "selected_columns = {\n",
    "    'AAPL':'Apple', \n",
    "    'MSFT':'Microsoft', \n",
    "    'AMZN':'Amazon', \n",
    "    'NVDA':'Nvdia', \n",
    "    'GOOGL':'Google Class A', \n",
    "    'TSLA':'Tesla', \n",
    "    'GOOG':'Google Class B', \n",
    "    'BRK.B':'Berkshire Hathaway',\n",
    "    'META':'Meta Class A', \n",
    "    'UNH':'UnitedHealth Group', \n",
    "    'XOM':'Exxon Mobil', \n",
    "    'LLY':'Eli Lilly', \n",
    "    'JPM':'JPMorgan Chase', \n",
    "    'JNJ':'Johnson & Johnson', \n",
    "    'V':'Visa Class A', \n",
    "    'PG':'Procter & Gamble', \n",
    "    'MA':'Mastercard Class A', \n",
    "    'AVGO':'Broadcom',\n",
    "    'HD':'Home Depot', \n",
    "    'CVX':'Chevron Corporation'\n",
    "\n",
    "}\n",
    "\n",
    "for i,j in selected_columns.items():\n",
    "    print({'label':j,'value':i})"
   ]
  },
  {
   "cell_type": "code",
   "execution_count": 11,
   "metadata": {},
   "outputs": [
    {
     "data": {
      "text/html": [
       "<div>\n",
       "<style scoped>\n",
       "    .dataframe tbody tr th:only-of-type {\n",
       "        vertical-align: middle;\n",
       "    }\n",
       "\n",
       "    .dataframe tbody tr th {\n",
       "        vertical-align: top;\n",
       "    }\n",
       "\n",
       "    .dataframe thead th {\n",
       "        text-align: right;\n",
       "    }\n",
       "</style>\n",
       "<table border=\"1\" class=\"dataframe\">\n",
       "  <thead>\n",
       "    <tr style=\"text-align: right;\">\n",
       "      <th></th>\n",
       "      <th>Company_Name</th>\n",
       "      <th>Stock_Code</th>\n",
       "      <th>Day</th>\n",
       "      <th>WeekDay</th>\n",
       "      <th>Week</th>\n",
       "      <th>Month</th>\n",
       "      <th>Month_Name</th>\n",
       "      <th>Quarter</th>\n",
       "      <th>Opening_Value</th>\n",
       "      <th>Highest_Value</th>\n",
       "      <th>Lowest_Value</th>\n",
       "      <th>Closing_Value</th>\n",
       "      <th>Volume</th>\n",
       "      <th>Daily_Closing_Variation</th>\n",
       "    </tr>\n",
       "  </thead>\n",
       "  <tbody>\n",
       "    <tr>\n",
       "      <th>200</th>\n",
       "      <td>Amazon</td>\n",
       "      <td>AMZN</td>\n",
       "      <td>2024-05-17</td>\n",
       "      <td>Friday</td>\n",
       "      <td>20</td>\n",
       "      <td>5</td>\n",
       "      <td>May</td>\n",
       "      <td>2</td>\n",
       "      <td>183.76</td>\n",
       "      <td>185.3000</td>\n",
       "      <td>183.35</td>\n",
       "      <td>184.70</td>\n",
       "      <td>33175655</td>\n",
       "      <td>0.5826934596743415</td>\n",
       "    </tr>\n",
       "    <tr>\n",
       "      <th>201</th>\n",
       "      <td>Amazon</td>\n",
       "      <td>AMZN</td>\n",
       "      <td>2024-05-16</td>\n",
       "      <td>Thursday</td>\n",
       "      <td>20</td>\n",
       "      <td>5</td>\n",
       "      <td>May</td>\n",
       "      <td>2</td>\n",
       "      <td>185.60</td>\n",
       "      <td>187.3100</td>\n",
       "      <td>183.46</td>\n",
       "      <td>183.63</td>\n",
       "      <td>38834450</td>\n",
       "      <td>-1.2688854239475313</td>\n",
       "    </tr>\n",
       "    <tr>\n",
       "      <th>202</th>\n",
       "      <td>Amazon</td>\n",
       "      <td>AMZN</td>\n",
       "      <td>2024-05-15</td>\n",
       "      <td>Wednesday</td>\n",
       "      <td>20</td>\n",
       "      <td>5</td>\n",
       "      <td>May</td>\n",
       "      <td>2</td>\n",
       "      <td>185.97</td>\n",
       "      <td>186.7193</td>\n",
       "      <td>182.73</td>\n",
       "      <td>185.99</td>\n",
       "      <td>75459927</td>\n",
       "      <td>-0.5773239963649885</td>\n",
       "    </tr>\n",
       "    <tr>\n",
       "      <th>203</th>\n",
       "      <td>Amazon</td>\n",
       "      <td>AMZN</td>\n",
       "      <td>2024-05-14</td>\n",
       "      <td>Tuesday</td>\n",
       "      <td>20</td>\n",
       "      <td>5</td>\n",
       "      <td>May</td>\n",
       "      <td>2</td>\n",
       "      <td>183.82</td>\n",
       "      <td>187.7200</td>\n",
       "      <td>183.45</td>\n",
       "      <td>187.07</td>\n",
       "      <td>38698155</td>\n",
       "      <td>0.2679959264619178</td>\n",
       "    </tr>\n",
       "    <tr>\n",
       "      <th>204</th>\n",
       "      <td>Amazon</td>\n",
       "      <td>AMZN</td>\n",
       "      <td>2024-05-13</td>\n",
       "      <td>Monday</td>\n",
       "      <td>20</td>\n",
       "      <td>5</td>\n",
       "      <td>May</td>\n",
       "      <td>2</td>\n",
       "      <td>188.00</td>\n",
       "      <td>188.3100</td>\n",
       "      <td>185.36</td>\n",
       "      <td>186.57</td>\n",
       "      <td>24898613</td>\n",
       "      <td>-0.48538510774482435</td>\n",
       "    </tr>\n",
       "  </tbody>\n",
       "</table>\n",
       "</div>"
      ],
      "text/plain": [
       "    Company_Name Stock_Code         Day    WeekDay  Week  Month Month_Name  \\\n",
       "200       Amazon       AMZN  2024-05-17     Friday    20      5        May   \n",
       "201       Amazon       AMZN  2024-05-16   Thursday    20      5        May   \n",
       "202       Amazon       AMZN  2024-05-15  Wednesday    20      5        May   \n",
       "203       Amazon       AMZN  2024-05-14    Tuesday    20      5        May   \n",
       "204       Amazon       AMZN  2024-05-13     Monday    20      5        May   \n",
       "\n",
       "     Quarter  Opening_Value  Highest_Value  Lowest_Value  Closing_Value  \\\n",
       "200        2         183.76       185.3000        183.35         184.70   \n",
       "201        2         185.60       187.3100        183.46         183.63   \n",
       "202        2         185.97       186.7193        182.73         185.99   \n",
       "203        2         183.82       187.7200        183.45         187.07   \n",
       "204        2         188.00       188.3100        185.36         186.57   \n",
       "\n",
       "       Volume Daily_Closing_Variation  \n",
       "200  33175655      0.5826934596743415  \n",
       "201  38834450     -1.2688854239475313  \n",
       "202  75459927     -0.5773239963649885  \n",
       "203  38698155      0.2679959264619178  \n",
       "204  24898613    -0.48538510774482435  "
      ]
     },
     "execution_count": 11,
     "metadata": {},
     "output_type": "execute_result"
    }
   ],
   "source": [
    "test_data[(test_data['Stock_Code'] == 'AMZN') & (test_data['Week'] == 20)]"
   ]
  },
  {
   "cell_type": "code",
   "execution_count": 35,
   "metadata": {},
   "outputs": [
    {
     "data": {
      "text/plain": [
       "Index(['Opening_Value', 'Highest_Value', 'Lowest_Value', 'Closing_Value'], dtype='object')"
      ]
     },
     "execution_count": 35,
     "metadata": {},
     "output_type": "execute_result"
    }
   ],
   "source": [
    "df_boxplot.columns[8:12]"
   ]
  },
  {
   "cell_type": "code",
   "execution_count": 67,
   "metadata": {},
   "outputs": [
    {
     "data": {
      "application/vnd.plotly.v1+json": {
       "config": {
        "plotlyServerURL": "https://plot.ly"
       },
       "data": [
        {
         "boxmean": true,
         "name": "Opening_Value",
         "type": "box",
         "y": [
          193.9,
          194.14,
          192.49,
          193.61
         ]
        },
        {
         "boxmean": true,
         "name": "Highest_Value",
         "type": "box",
         "y": [
          194.4,
          194.66,
          193.5,
          193.89
         ]
        },
        {
         "boxmean": true,
         "name": "Lowest_Value",
         "type": "box",
         "y": [
          191.725,
          193.17,
          191.09,
          192.83
         ]
        },
        {
         "boxmean": true,
         "name": "Closing_Value",
         "type": "box",
         "y": [
          192.53,
          193.58,
          193.15,
          193.05
         ]
        }
       ],
       "layout": {
        "template": {
         "data": {
          "bar": [
           {
            "error_x": {
             "color": "#2a3f5f"
            },
            "error_y": {
             "color": "#2a3f5f"
            },
            "marker": {
             "line": {
              "color": "#E5ECF6",
              "width": 0.5
             },
             "pattern": {
              "fillmode": "overlay",
              "size": 10,
              "solidity": 0.2
             }
            },
            "type": "bar"
           }
          ],
          "barpolar": [
           {
            "marker": {
             "line": {
              "color": "#E5ECF6",
              "width": 0.5
             },
             "pattern": {
              "fillmode": "overlay",
              "size": 10,
              "solidity": 0.2
             }
            },
            "type": "barpolar"
           }
          ],
          "carpet": [
           {
            "aaxis": {
             "endlinecolor": "#2a3f5f",
             "gridcolor": "white",
             "linecolor": "white",
             "minorgridcolor": "white",
             "startlinecolor": "#2a3f5f"
            },
            "baxis": {
             "endlinecolor": "#2a3f5f",
             "gridcolor": "white",
             "linecolor": "white",
             "minorgridcolor": "white",
             "startlinecolor": "#2a3f5f"
            },
            "type": "carpet"
           }
          ],
          "choropleth": [
           {
            "colorbar": {
             "outlinewidth": 0,
             "ticks": ""
            },
            "type": "choropleth"
           }
          ],
          "contour": [
           {
            "colorbar": {
             "outlinewidth": 0,
             "ticks": ""
            },
            "colorscale": [
             [
              0,
              "#0d0887"
             ],
             [
              0.1111111111111111,
              "#46039f"
             ],
             [
              0.2222222222222222,
              "#7201a8"
             ],
             [
              0.3333333333333333,
              "#9c179e"
             ],
             [
              0.4444444444444444,
              "#bd3786"
             ],
             [
              0.5555555555555556,
              "#d8576b"
             ],
             [
              0.6666666666666666,
              "#ed7953"
             ],
             [
              0.7777777777777778,
              "#fb9f3a"
             ],
             [
              0.8888888888888888,
              "#fdca26"
             ],
             [
              1,
              "#f0f921"
             ]
            ],
            "type": "contour"
           }
          ],
          "contourcarpet": [
           {
            "colorbar": {
             "outlinewidth": 0,
             "ticks": ""
            },
            "type": "contourcarpet"
           }
          ],
          "heatmap": [
           {
            "colorbar": {
             "outlinewidth": 0,
             "ticks": ""
            },
            "colorscale": [
             [
              0,
              "#0d0887"
             ],
             [
              0.1111111111111111,
              "#46039f"
             ],
             [
              0.2222222222222222,
              "#7201a8"
             ],
             [
              0.3333333333333333,
              "#9c179e"
             ],
             [
              0.4444444444444444,
              "#bd3786"
             ],
             [
              0.5555555555555556,
              "#d8576b"
             ],
             [
              0.6666666666666666,
              "#ed7953"
             ],
             [
              0.7777777777777778,
              "#fb9f3a"
             ],
             [
              0.8888888888888888,
              "#fdca26"
             ],
             [
              1,
              "#f0f921"
             ]
            ],
            "type": "heatmap"
           }
          ],
          "heatmapgl": [
           {
            "colorbar": {
             "outlinewidth": 0,
             "ticks": ""
            },
            "colorscale": [
             [
              0,
              "#0d0887"
             ],
             [
              0.1111111111111111,
              "#46039f"
             ],
             [
              0.2222222222222222,
              "#7201a8"
             ],
             [
              0.3333333333333333,
              "#9c179e"
             ],
             [
              0.4444444444444444,
              "#bd3786"
             ],
             [
              0.5555555555555556,
              "#d8576b"
             ],
             [
              0.6666666666666666,
              "#ed7953"
             ],
             [
              0.7777777777777778,
              "#fb9f3a"
             ],
             [
              0.8888888888888888,
              "#fdca26"
             ],
             [
              1,
              "#f0f921"
             ]
            ],
            "type": "heatmapgl"
           }
          ],
          "histogram": [
           {
            "marker": {
             "pattern": {
              "fillmode": "overlay",
              "size": 10,
              "solidity": 0.2
             }
            },
            "type": "histogram"
           }
          ],
          "histogram2d": [
           {
            "colorbar": {
             "outlinewidth": 0,
             "ticks": ""
            },
            "colorscale": [
             [
              0,
              "#0d0887"
             ],
             [
              0.1111111111111111,
              "#46039f"
             ],
             [
              0.2222222222222222,
              "#7201a8"
             ],
             [
              0.3333333333333333,
              "#9c179e"
             ],
             [
              0.4444444444444444,
              "#bd3786"
             ],
             [
              0.5555555555555556,
              "#d8576b"
             ],
             [
              0.6666666666666666,
              "#ed7953"
             ],
             [
              0.7777777777777778,
              "#fb9f3a"
             ],
             [
              0.8888888888888888,
              "#fdca26"
             ],
             [
              1,
              "#f0f921"
             ]
            ],
            "type": "histogram2d"
           }
          ],
          "histogram2dcontour": [
           {
            "colorbar": {
             "outlinewidth": 0,
             "ticks": ""
            },
            "colorscale": [
             [
              0,
              "#0d0887"
             ],
             [
              0.1111111111111111,
              "#46039f"
             ],
             [
              0.2222222222222222,
              "#7201a8"
             ],
             [
              0.3333333333333333,
              "#9c179e"
             ],
             [
              0.4444444444444444,
              "#bd3786"
             ],
             [
              0.5555555555555556,
              "#d8576b"
             ],
             [
              0.6666666666666666,
              "#ed7953"
             ],
             [
              0.7777777777777778,
              "#fb9f3a"
             ],
             [
              0.8888888888888888,
              "#fdca26"
             ],
             [
              1,
              "#f0f921"
             ]
            ],
            "type": "histogram2dcontour"
           }
          ],
          "mesh3d": [
           {
            "colorbar": {
             "outlinewidth": 0,
             "ticks": ""
            },
            "type": "mesh3d"
           }
          ],
          "parcoords": [
           {
            "line": {
             "colorbar": {
              "outlinewidth": 0,
              "ticks": ""
             }
            },
            "type": "parcoords"
           }
          ],
          "pie": [
           {
            "automargin": true,
            "type": "pie"
           }
          ],
          "scatter": [
           {
            "marker": {
             "colorbar": {
              "outlinewidth": 0,
              "ticks": ""
             }
            },
            "type": "scatter"
           }
          ],
          "scatter3d": [
           {
            "line": {
             "colorbar": {
              "outlinewidth": 0,
              "ticks": ""
             }
            },
            "marker": {
             "colorbar": {
              "outlinewidth": 0,
              "ticks": ""
             }
            },
            "type": "scatter3d"
           }
          ],
          "scattercarpet": [
           {
            "marker": {
             "colorbar": {
              "outlinewidth": 0,
              "ticks": ""
             }
            },
            "type": "scattercarpet"
           }
          ],
          "scattergeo": [
           {
            "marker": {
             "colorbar": {
              "outlinewidth": 0,
              "ticks": ""
             }
            },
            "type": "scattergeo"
           }
          ],
          "scattergl": [
           {
            "marker": {
             "colorbar": {
              "outlinewidth": 0,
              "ticks": ""
             }
            },
            "type": "scattergl"
           }
          ],
          "scattermapbox": [
           {
            "marker": {
             "colorbar": {
              "outlinewidth": 0,
              "ticks": ""
             }
            },
            "type": "scattermapbox"
           }
          ],
          "scatterpolar": [
           {
            "marker": {
             "colorbar": {
              "outlinewidth": 0,
              "ticks": ""
             }
            },
            "type": "scatterpolar"
           }
          ],
          "scatterpolargl": [
           {
            "marker": {
             "colorbar": {
              "outlinewidth": 0,
              "ticks": ""
             }
            },
            "type": "scatterpolargl"
           }
          ],
          "scatterternary": [
           {
            "marker": {
             "colorbar": {
              "outlinewidth": 0,
              "ticks": ""
             }
            },
            "type": "scatterternary"
           }
          ],
          "surface": [
           {
            "colorbar": {
             "outlinewidth": 0,
             "ticks": ""
            },
            "colorscale": [
             [
              0,
              "#0d0887"
             ],
             [
              0.1111111111111111,
              "#46039f"
             ],
             [
              0.2222222222222222,
              "#7201a8"
             ],
             [
              0.3333333333333333,
              "#9c179e"
             ],
             [
              0.4444444444444444,
              "#bd3786"
             ],
             [
              0.5555555555555556,
              "#d8576b"
             ],
             [
              0.6666666666666666,
              "#ed7953"
             ],
             [
              0.7777777777777778,
              "#fb9f3a"
             ],
             [
              0.8888888888888888,
              "#fdca26"
             ],
             [
              1,
              "#f0f921"
             ]
            ],
            "type": "surface"
           }
          ],
          "table": [
           {
            "cells": {
             "fill": {
              "color": "#EBF0F8"
             },
             "line": {
              "color": "white"
             }
            },
            "header": {
             "fill": {
              "color": "#C8D4E3"
             },
             "line": {
              "color": "white"
             }
            },
            "type": "table"
           }
          ]
         },
         "layout": {
          "annotationdefaults": {
           "arrowcolor": "#2a3f5f",
           "arrowhead": 0,
           "arrowwidth": 1
          },
          "autotypenumbers": "strict",
          "coloraxis": {
           "colorbar": {
            "outlinewidth": 0,
            "ticks": ""
           }
          },
          "colorscale": {
           "diverging": [
            [
             0,
             "#8e0152"
            ],
            [
             0.1,
             "#c51b7d"
            ],
            [
             0.2,
             "#de77ae"
            ],
            [
             0.3,
             "#f1b6da"
            ],
            [
             0.4,
             "#fde0ef"
            ],
            [
             0.5,
             "#f7f7f7"
            ],
            [
             0.6,
             "#e6f5d0"
            ],
            [
             0.7,
             "#b8e186"
            ],
            [
             0.8,
             "#7fbc41"
            ],
            [
             0.9,
             "#4d9221"
            ],
            [
             1,
             "#276419"
            ]
           ],
           "sequential": [
            [
             0,
             "#0d0887"
            ],
            [
             0.1111111111111111,
             "#46039f"
            ],
            [
             0.2222222222222222,
             "#7201a8"
            ],
            [
             0.3333333333333333,
             "#9c179e"
            ],
            [
             0.4444444444444444,
             "#bd3786"
            ],
            [
             0.5555555555555556,
             "#d8576b"
            ],
            [
             0.6666666666666666,
             "#ed7953"
            ],
            [
             0.7777777777777778,
             "#fb9f3a"
            ],
            [
             0.8888888888888888,
             "#fdca26"
            ],
            [
             1,
             "#f0f921"
            ]
           ],
           "sequentialminus": [
            [
             0,
             "#0d0887"
            ],
            [
             0.1111111111111111,
             "#46039f"
            ],
            [
             0.2222222222222222,
             "#7201a8"
            ],
            [
             0.3333333333333333,
             "#9c179e"
            ],
            [
             0.4444444444444444,
             "#bd3786"
            ],
            [
             0.5555555555555556,
             "#d8576b"
            ],
            [
             0.6666666666666666,
             "#ed7953"
            ],
            [
             0.7777777777777778,
             "#fb9f3a"
            ],
            [
             0.8888888888888888,
             "#fdca26"
            ],
            [
             1,
             "#f0f921"
            ]
           ]
          },
          "colorway": [
           "#636efa",
           "#EF553B",
           "#00cc96",
           "#ab63fa",
           "#FFA15A",
           "#19d3f3",
           "#FF6692",
           "#B6E880",
           "#FF97FF",
           "#FECB52"
          ],
          "font": {
           "color": "#2a3f5f"
          },
          "geo": {
           "bgcolor": "white",
           "lakecolor": "white",
           "landcolor": "#E5ECF6",
           "showlakes": true,
           "showland": true,
           "subunitcolor": "white"
          },
          "hoverlabel": {
           "align": "left"
          },
          "hovermode": "closest",
          "mapbox": {
           "style": "light"
          },
          "paper_bgcolor": "white",
          "plot_bgcolor": "#E5ECF6",
          "polar": {
           "angularaxis": {
            "gridcolor": "white",
            "linecolor": "white",
            "ticks": ""
           },
           "bgcolor": "#E5ECF6",
           "radialaxis": {
            "gridcolor": "white",
            "linecolor": "white",
            "ticks": ""
           }
          },
          "scene": {
           "xaxis": {
            "backgroundcolor": "#E5ECF6",
            "gridcolor": "white",
            "gridwidth": 2,
            "linecolor": "white",
            "showbackground": true,
            "ticks": "",
            "zerolinecolor": "white"
           },
           "yaxis": {
            "backgroundcolor": "#E5ECF6",
            "gridcolor": "white",
            "gridwidth": 2,
            "linecolor": "white",
            "showbackground": true,
            "ticks": "",
            "zerolinecolor": "white"
           },
           "zaxis": {
            "backgroundcolor": "#E5ECF6",
            "gridcolor": "white",
            "gridwidth": 2,
            "linecolor": "white",
            "showbackground": true,
            "ticks": "",
            "zerolinecolor": "white"
           }
          },
          "shapedefaults": {
           "line": {
            "color": "#2a3f5f"
           }
          },
          "ternary": {
           "aaxis": {
            "gridcolor": "white",
            "linecolor": "white",
            "ticks": ""
           },
           "baxis": {
            "gridcolor": "white",
            "linecolor": "white",
            "ticks": ""
           },
           "bgcolor": "#E5ECF6",
           "caxis": {
            "gridcolor": "white",
            "linecolor": "white",
            "ticks": ""
           }
          },
          "title": {
           "x": 0.05
          },
          "xaxis": {
           "automargin": true,
           "gridcolor": "white",
           "linecolor": "white",
           "ticks": "",
           "title": {
            "standoff": 15
           },
           "zerolinecolor": "white",
           "zerolinewidth": 2
          },
          "yaxis": {
           "automargin": true,
           "gridcolor": "white",
           "linecolor": "white",
           "ticks": "",
           "title": {
            "standoff": 15
           },
           "zerolinecolor": "white",
           "zerolinewidth": 2
          }
         }
        }
       }
      }
     },
     "metadata": {},
     "output_type": "display_data"
    }
   ],
   "source": [
    "df_boxplot = test_data[(test_data['Company_Name'] == 'Apple') & (test_data['Year'] == '2023')]\n",
    "\n",
    "#Boxplot with the selected company\n",
    "fig2 = go.Figure()\n",
    "\n",
    "\n",
    "for metric in df_boxplot.columns[8:12]:\n",
    "        fig2.add_trace(go.Box(\n",
    "            y=df_boxplot[metric],\n",
    "            name=metric,\n",
    "            boxmean=True  # Adiciona uma linha para a média\n",
    "        ))\n",
    "\n",
    "fig2"
   ]
  },
  {
   "cell_type": "code",
   "execution_count": 10,
   "metadata": {},
   "outputs": [],
   "source": [
    "apple_box = test_data[(test_data['Stock_Code'] == 'AAPL') & (test_data['Month_Name'] == 'May')]"
   ]
  },
  {
   "cell_type": "code",
   "execution_count": 9,
   "metadata": {},
   "outputs": [
    {
     "data": {
      "application/vnd.plotly.v1+json": {
       "config": {
        "plotlyServerURL": "https://plot.ly"
       },
       "data": [
        {
         "alignmentgroup": "True",
         "hovertemplate": "x=%{x}<extra></extra>",
         "legendgroup": "",
         "marker": {
          "color": "#636efa"
         },
         "name": "",
         "notched": false,
         "offsetgroup": "",
         "orientation": "h",
         "showlegend": false,
         "type": "box",
         "x": [
          190.81,
          191.095,
          190.65,
          188.3,
          187.1,
          185.09,
          184.66,
          183.07,
          184.9,
          184.2,
          187,
          173.415,
          172.705,
          174.99,
          176.03,
          171.34,
          170.61,
          169.3,
          167.05,
          167.26,
          166.4,
          168.64,
          170.65,
          173.76,
          176.63,
          178.36,
          175.46,
          169.09,
          170.08,
          169.2,
          170.39,
          171.92,
          170.68,
          169.34,
          171.25,
          172.23,
          173.6,
          171.42,
          171.94,
          173.05,
          177.49,
          178.67,
          176.605,
          177.71,
          172.62,
          174.3078,
          173.185,
          174.03,
          174.38,
          173.7,
          170.73,
          171.24,
          172.04,
          176.9,
          180.53,
          182.57,
          183.12,
          183.9225,
          182.76,
          185.04,
          184.955,
          182.8888,
          182.43,
          184.85,
          184.49,
          185.53,
          186.21,
          188.67,
          189.99,
          189.535,
          191.05,
          189.31,
          189.25,
          187.33,
          186.95,
          187.095,
          191.8,
          192.2,
          194.76,
          196.2675,
          196.38,
          195.75,
          195.33,
          191.95,
          189.14,
          182.93,
          184.26,
          186.74,
          187.05,
          186.4,
          185.15,
          185.6,
          182.76,
          183.0872,
          185.88,
          188.44,
          194.4,
          194.66,
          193.5,
          193.89
         ],
         "x0": " ",
         "xaxis": "x",
         "y0": " ",
         "yaxis": "y"
        }
       ],
       "layout": {
        "boxmode": "group",
        "legend": {
         "tracegroupgap": 0
        },
        "margin": {
         "t": 60
        },
        "template": {
         "data": {
          "bar": [
           {
            "error_x": {
             "color": "#2a3f5f"
            },
            "error_y": {
             "color": "#2a3f5f"
            },
            "marker": {
             "line": {
              "color": "#E5ECF6",
              "width": 0.5
             },
             "pattern": {
              "fillmode": "overlay",
              "size": 10,
              "solidity": 0.2
             }
            },
            "type": "bar"
           }
          ],
          "barpolar": [
           {
            "marker": {
             "line": {
              "color": "#E5ECF6",
              "width": 0.5
             },
             "pattern": {
              "fillmode": "overlay",
              "size": 10,
              "solidity": 0.2
             }
            },
            "type": "barpolar"
           }
          ],
          "carpet": [
           {
            "aaxis": {
             "endlinecolor": "#2a3f5f",
             "gridcolor": "white",
             "linecolor": "white",
             "minorgridcolor": "white",
             "startlinecolor": "#2a3f5f"
            },
            "baxis": {
             "endlinecolor": "#2a3f5f",
             "gridcolor": "white",
             "linecolor": "white",
             "minorgridcolor": "white",
             "startlinecolor": "#2a3f5f"
            },
            "type": "carpet"
           }
          ],
          "choropleth": [
           {
            "colorbar": {
             "outlinewidth": 0,
             "ticks": ""
            },
            "type": "choropleth"
           }
          ],
          "contour": [
           {
            "colorbar": {
             "outlinewidth": 0,
             "ticks": ""
            },
            "colorscale": [
             [
              0,
              "#0d0887"
             ],
             [
              0.1111111111111111,
              "#46039f"
             ],
             [
              0.2222222222222222,
              "#7201a8"
             ],
             [
              0.3333333333333333,
              "#9c179e"
             ],
             [
              0.4444444444444444,
              "#bd3786"
             ],
             [
              0.5555555555555556,
              "#d8576b"
             ],
             [
              0.6666666666666666,
              "#ed7953"
             ],
             [
              0.7777777777777778,
              "#fb9f3a"
             ],
             [
              0.8888888888888888,
              "#fdca26"
             ],
             [
              1,
              "#f0f921"
             ]
            ],
            "type": "contour"
           }
          ],
          "contourcarpet": [
           {
            "colorbar": {
             "outlinewidth": 0,
             "ticks": ""
            },
            "type": "contourcarpet"
           }
          ],
          "heatmap": [
           {
            "colorbar": {
             "outlinewidth": 0,
             "ticks": ""
            },
            "colorscale": [
             [
              0,
              "#0d0887"
             ],
             [
              0.1111111111111111,
              "#46039f"
             ],
             [
              0.2222222222222222,
              "#7201a8"
             ],
             [
              0.3333333333333333,
              "#9c179e"
             ],
             [
              0.4444444444444444,
              "#bd3786"
             ],
             [
              0.5555555555555556,
              "#d8576b"
             ],
             [
              0.6666666666666666,
              "#ed7953"
             ],
             [
              0.7777777777777778,
              "#fb9f3a"
             ],
             [
              0.8888888888888888,
              "#fdca26"
             ],
             [
              1,
              "#f0f921"
             ]
            ],
            "type": "heatmap"
           }
          ],
          "heatmapgl": [
           {
            "colorbar": {
             "outlinewidth": 0,
             "ticks": ""
            },
            "colorscale": [
             [
              0,
              "#0d0887"
             ],
             [
              0.1111111111111111,
              "#46039f"
             ],
             [
              0.2222222222222222,
              "#7201a8"
             ],
             [
              0.3333333333333333,
              "#9c179e"
             ],
             [
              0.4444444444444444,
              "#bd3786"
             ],
             [
              0.5555555555555556,
              "#d8576b"
             ],
             [
              0.6666666666666666,
              "#ed7953"
             ],
             [
              0.7777777777777778,
              "#fb9f3a"
             ],
             [
              0.8888888888888888,
              "#fdca26"
             ],
             [
              1,
              "#f0f921"
             ]
            ],
            "type": "heatmapgl"
           }
          ],
          "histogram": [
           {
            "marker": {
             "pattern": {
              "fillmode": "overlay",
              "size": 10,
              "solidity": 0.2
             }
            },
            "type": "histogram"
           }
          ],
          "histogram2d": [
           {
            "colorbar": {
             "outlinewidth": 0,
             "ticks": ""
            },
            "colorscale": [
             [
              0,
              "#0d0887"
             ],
             [
              0.1111111111111111,
              "#46039f"
             ],
             [
              0.2222222222222222,
              "#7201a8"
             ],
             [
              0.3333333333333333,
              "#9c179e"
             ],
             [
              0.4444444444444444,
              "#bd3786"
             ],
             [
              0.5555555555555556,
              "#d8576b"
             ],
             [
              0.6666666666666666,
              "#ed7953"
             ],
             [
              0.7777777777777778,
              "#fb9f3a"
             ],
             [
              0.8888888888888888,
              "#fdca26"
             ],
             [
              1,
              "#f0f921"
             ]
            ],
            "type": "histogram2d"
           }
          ],
          "histogram2dcontour": [
           {
            "colorbar": {
             "outlinewidth": 0,
             "ticks": ""
            },
            "colorscale": [
             [
              0,
              "#0d0887"
             ],
             [
              0.1111111111111111,
              "#46039f"
             ],
             [
              0.2222222222222222,
              "#7201a8"
             ],
             [
              0.3333333333333333,
              "#9c179e"
             ],
             [
              0.4444444444444444,
              "#bd3786"
             ],
             [
              0.5555555555555556,
              "#d8576b"
             ],
             [
              0.6666666666666666,
              "#ed7953"
             ],
             [
              0.7777777777777778,
              "#fb9f3a"
             ],
             [
              0.8888888888888888,
              "#fdca26"
             ],
             [
              1,
              "#f0f921"
             ]
            ],
            "type": "histogram2dcontour"
           }
          ],
          "mesh3d": [
           {
            "colorbar": {
             "outlinewidth": 0,
             "ticks": ""
            },
            "type": "mesh3d"
           }
          ],
          "parcoords": [
           {
            "line": {
             "colorbar": {
              "outlinewidth": 0,
              "ticks": ""
             }
            },
            "type": "parcoords"
           }
          ],
          "pie": [
           {
            "automargin": true,
            "type": "pie"
           }
          ],
          "scatter": [
           {
            "marker": {
             "colorbar": {
              "outlinewidth": 0,
              "ticks": ""
             }
            },
            "type": "scatter"
           }
          ],
          "scatter3d": [
           {
            "line": {
             "colorbar": {
              "outlinewidth": 0,
              "ticks": ""
             }
            },
            "marker": {
             "colorbar": {
              "outlinewidth": 0,
              "ticks": ""
             }
            },
            "type": "scatter3d"
           }
          ],
          "scattercarpet": [
           {
            "marker": {
             "colorbar": {
              "outlinewidth": 0,
              "ticks": ""
             }
            },
            "type": "scattercarpet"
           }
          ],
          "scattergeo": [
           {
            "marker": {
             "colorbar": {
              "outlinewidth": 0,
              "ticks": ""
             }
            },
            "type": "scattergeo"
           }
          ],
          "scattergl": [
           {
            "marker": {
             "colorbar": {
              "outlinewidth": 0,
              "ticks": ""
             }
            },
            "type": "scattergl"
           }
          ],
          "scattermapbox": [
           {
            "marker": {
             "colorbar": {
              "outlinewidth": 0,
              "ticks": ""
             }
            },
            "type": "scattermapbox"
           }
          ],
          "scatterpolar": [
           {
            "marker": {
             "colorbar": {
              "outlinewidth": 0,
              "ticks": ""
             }
            },
            "type": "scatterpolar"
           }
          ],
          "scatterpolargl": [
           {
            "marker": {
             "colorbar": {
              "outlinewidth": 0,
              "ticks": ""
             }
            },
            "type": "scatterpolargl"
           }
          ],
          "scatterternary": [
           {
            "marker": {
             "colorbar": {
              "outlinewidth": 0,
              "ticks": ""
             }
            },
            "type": "scatterternary"
           }
          ],
          "surface": [
           {
            "colorbar": {
             "outlinewidth": 0,
             "ticks": ""
            },
            "colorscale": [
             [
              0,
              "#0d0887"
             ],
             [
              0.1111111111111111,
              "#46039f"
             ],
             [
              0.2222222222222222,
              "#7201a8"
             ],
             [
              0.3333333333333333,
              "#9c179e"
             ],
             [
              0.4444444444444444,
              "#bd3786"
             ],
             [
              0.5555555555555556,
              "#d8576b"
             ],
             [
              0.6666666666666666,
              "#ed7953"
             ],
             [
              0.7777777777777778,
              "#fb9f3a"
             ],
             [
              0.8888888888888888,
              "#fdca26"
             ],
             [
              1,
              "#f0f921"
             ]
            ],
            "type": "surface"
           }
          ],
          "table": [
           {
            "cells": {
             "fill": {
              "color": "#EBF0F8"
             },
             "line": {
              "color": "white"
             }
            },
            "header": {
             "fill": {
              "color": "#C8D4E3"
             },
             "line": {
              "color": "white"
             }
            },
            "type": "table"
           }
          ]
         },
         "layout": {
          "annotationdefaults": {
           "arrowcolor": "#2a3f5f",
           "arrowhead": 0,
           "arrowwidth": 1
          },
          "autotypenumbers": "strict",
          "coloraxis": {
           "colorbar": {
            "outlinewidth": 0,
            "ticks": ""
           }
          },
          "colorscale": {
           "diverging": [
            [
             0,
             "#8e0152"
            ],
            [
             0.1,
             "#c51b7d"
            ],
            [
             0.2,
             "#de77ae"
            ],
            [
             0.3,
             "#f1b6da"
            ],
            [
             0.4,
             "#fde0ef"
            ],
            [
             0.5,
             "#f7f7f7"
            ],
            [
             0.6,
             "#e6f5d0"
            ],
            [
             0.7,
             "#b8e186"
            ],
            [
             0.8,
             "#7fbc41"
            ],
            [
             0.9,
             "#4d9221"
            ],
            [
             1,
             "#276419"
            ]
           ],
           "sequential": [
            [
             0,
             "#0d0887"
            ],
            [
             0.1111111111111111,
             "#46039f"
            ],
            [
             0.2222222222222222,
             "#7201a8"
            ],
            [
             0.3333333333333333,
             "#9c179e"
            ],
            [
             0.4444444444444444,
             "#bd3786"
            ],
            [
             0.5555555555555556,
             "#d8576b"
            ],
            [
             0.6666666666666666,
             "#ed7953"
            ],
            [
             0.7777777777777778,
             "#fb9f3a"
            ],
            [
             0.8888888888888888,
             "#fdca26"
            ],
            [
             1,
             "#f0f921"
            ]
           ],
           "sequentialminus": [
            [
             0,
             "#0d0887"
            ],
            [
             0.1111111111111111,
             "#46039f"
            ],
            [
             0.2222222222222222,
             "#7201a8"
            ],
            [
             0.3333333333333333,
             "#9c179e"
            ],
            [
             0.4444444444444444,
             "#bd3786"
            ],
            [
             0.5555555555555556,
             "#d8576b"
            ],
            [
             0.6666666666666666,
             "#ed7953"
            ],
            [
             0.7777777777777778,
             "#fb9f3a"
            ],
            [
             0.8888888888888888,
             "#fdca26"
            ],
            [
             1,
             "#f0f921"
            ]
           ]
          },
          "colorway": [
           "#636efa",
           "#EF553B",
           "#00cc96",
           "#ab63fa",
           "#FFA15A",
           "#19d3f3",
           "#FF6692",
           "#B6E880",
           "#FF97FF",
           "#FECB52"
          ],
          "font": {
           "color": "#2a3f5f"
          },
          "geo": {
           "bgcolor": "white",
           "lakecolor": "white",
           "landcolor": "#E5ECF6",
           "showlakes": true,
           "showland": true,
           "subunitcolor": "white"
          },
          "hoverlabel": {
           "align": "left"
          },
          "hovermode": "closest",
          "mapbox": {
           "style": "light"
          },
          "paper_bgcolor": "white",
          "plot_bgcolor": "#E5ECF6",
          "polar": {
           "angularaxis": {
            "gridcolor": "white",
            "linecolor": "white",
            "ticks": ""
           },
           "bgcolor": "#E5ECF6",
           "radialaxis": {
            "gridcolor": "white",
            "linecolor": "white",
            "ticks": ""
           }
          },
          "scene": {
           "xaxis": {
            "backgroundcolor": "#E5ECF6",
            "gridcolor": "white",
            "gridwidth": 2,
            "linecolor": "white",
            "showbackground": true,
            "ticks": "",
            "zerolinecolor": "white"
           },
           "yaxis": {
            "backgroundcolor": "#E5ECF6",
            "gridcolor": "white",
            "gridwidth": 2,
            "linecolor": "white",
            "showbackground": true,
            "ticks": "",
            "zerolinecolor": "white"
           },
           "zaxis": {
            "backgroundcolor": "#E5ECF6",
            "gridcolor": "white",
            "gridwidth": 2,
            "linecolor": "white",
            "showbackground": true,
            "ticks": "",
            "zerolinecolor": "white"
           }
          },
          "shapedefaults": {
           "line": {
            "color": "#2a3f5f"
           }
          },
          "ternary": {
           "aaxis": {
            "gridcolor": "white",
            "linecolor": "white",
            "ticks": ""
           },
           "baxis": {
            "gridcolor": "white",
            "linecolor": "white",
            "ticks": ""
           },
           "bgcolor": "#E5ECF6",
           "caxis": {
            "gridcolor": "white",
            "linecolor": "white",
            "ticks": ""
           }
          },
          "title": {
           "x": 0.05
          },
          "xaxis": {
           "automargin": true,
           "gridcolor": "white",
           "linecolor": "white",
           "ticks": "",
           "title": {
            "standoff": 15
           },
           "zerolinecolor": "white",
           "zerolinewidth": 2
          },
          "yaxis": {
           "automargin": true,
           "gridcolor": "white",
           "linecolor": "white",
           "ticks": "",
           "title": {
            "standoff": 15
           },
           "zerolinecolor": "white",
           "zerolinewidth": 2
          }
         }
        },
        "xaxis": {
         "anchor": "y",
         "domain": [
          0,
          1
         ],
         "title": {
          "text": "x"
         }
        },
        "yaxis": {
         "anchor": "x",
         "domain": [
          0,
          1
         ]
        }
       }
      }
     },
     "metadata": {},
     "output_type": "display_data"
    }
   ],
   "source": [
    "px.box(x=apple_box['Highest_Value'])"
   ]
  },
  {
   "cell_type": "code",
   "execution_count": 13,
   "metadata": {},
   "outputs": [
    {
     "data": {
      "application/vnd.plotly.v1+json": {
       "config": {
        "plotlyServerURL": "https://plot.ly"
       },
       "data": [
        {
         "hovertemplate": "x=%{x}<br>y=%{y}<extra></extra>",
         "legendgroup": "",
         "marker": {
          "color": "#636efa",
          "symbol": "circle"
         },
         "mode": "markers",
         "name": "",
         "orientation": "v",
         "showlegend": false,
         "type": "scatter",
         "x": [
          "2024-05-17",
          "2024-05-16",
          "2024-05-15",
          "2024-05-14",
          "2024-05-13",
          "2024-05-10",
          "2024-05-09",
          "2024-05-08",
          "2024-05-07",
          "2024-05-06",
          "2024-05-03",
          "2024-05-02",
          "2024-05-01"
         ],
         "xaxis": "x",
         "y": [
          41282925,
          52845230,
          70399988,
          52393619,
          72044809,
          50759496,
          48982972,
          45057087,
          77305771,
          78569667,
          163224109,
          94214915,
          50383147
         ],
         "yaxis": "y"
        }
       ],
       "layout": {
        "legend": {
         "tracegroupgap": 0
        },
        "margin": {
         "t": 60
        },
        "template": {
         "data": {
          "bar": [
           {
            "error_x": {
             "color": "#2a3f5f"
            },
            "error_y": {
             "color": "#2a3f5f"
            },
            "marker": {
             "line": {
              "color": "#E5ECF6",
              "width": 0.5
             },
             "pattern": {
              "fillmode": "overlay",
              "size": 10,
              "solidity": 0.2
             }
            },
            "type": "bar"
           }
          ],
          "barpolar": [
           {
            "marker": {
             "line": {
              "color": "#E5ECF6",
              "width": 0.5
             },
             "pattern": {
              "fillmode": "overlay",
              "size": 10,
              "solidity": 0.2
             }
            },
            "type": "barpolar"
           }
          ],
          "carpet": [
           {
            "aaxis": {
             "endlinecolor": "#2a3f5f",
             "gridcolor": "white",
             "linecolor": "white",
             "minorgridcolor": "white",
             "startlinecolor": "#2a3f5f"
            },
            "baxis": {
             "endlinecolor": "#2a3f5f",
             "gridcolor": "white",
             "linecolor": "white",
             "minorgridcolor": "white",
             "startlinecolor": "#2a3f5f"
            },
            "type": "carpet"
           }
          ],
          "choropleth": [
           {
            "colorbar": {
             "outlinewidth": 0,
             "ticks": ""
            },
            "type": "choropleth"
           }
          ],
          "contour": [
           {
            "colorbar": {
             "outlinewidth": 0,
             "ticks": ""
            },
            "colorscale": [
             [
              0,
              "#0d0887"
             ],
             [
              0.1111111111111111,
              "#46039f"
             ],
             [
              0.2222222222222222,
              "#7201a8"
             ],
             [
              0.3333333333333333,
              "#9c179e"
             ],
             [
              0.4444444444444444,
              "#bd3786"
             ],
             [
              0.5555555555555556,
              "#d8576b"
             ],
             [
              0.6666666666666666,
              "#ed7953"
             ],
             [
              0.7777777777777778,
              "#fb9f3a"
             ],
             [
              0.8888888888888888,
              "#fdca26"
             ],
             [
              1,
              "#f0f921"
             ]
            ],
            "type": "contour"
           }
          ],
          "contourcarpet": [
           {
            "colorbar": {
             "outlinewidth": 0,
             "ticks": ""
            },
            "type": "contourcarpet"
           }
          ],
          "heatmap": [
           {
            "colorbar": {
             "outlinewidth": 0,
             "ticks": ""
            },
            "colorscale": [
             [
              0,
              "#0d0887"
             ],
             [
              0.1111111111111111,
              "#46039f"
             ],
             [
              0.2222222222222222,
              "#7201a8"
             ],
             [
              0.3333333333333333,
              "#9c179e"
             ],
             [
              0.4444444444444444,
              "#bd3786"
             ],
             [
              0.5555555555555556,
              "#d8576b"
             ],
             [
              0.6666666666666666,
              "#ed7953"
             ],
             [
              0.7777777777777778,
              "#fb9f3a"
             ],
             [
              0.8888888888888888,
              "#fdca26"
             ],
             [
              1,
              "#f0f921"
             ]
            ],
            "type": "heatmap"
           }
          ],
          "heatmapgl": [
           {
            "colorbar": {
             "outlinewidth": 0,
             "ticks": ""
            },
            "colorscale": [
             [
              0,
              "#0d0887"
             ],
             [
              0.1111111111111111,
              "#46039f"
             ],
             [
              0.2222222222222222,
              "#7201a8"
             ],
             [
              0.3333333333333333,
              "#9c179e"
             ],
             [
              0.4444444444444444,
              "#bd3786"
             ],
             [
              0.5555555555555556,
              "#d8576b"
             ],
             [
              0.6666666666666666,
              "#ed7953"
             ],
             [
              0.7777777777777778,
              "#fb9f3a"
             ],
             [
              0.8888888888888888,
              "#fdca26"
             ],
             [
              1,
              "#f0f921"
             ]
            ],
            "type": "heatmapgl"
           }
          ],
          "histogram": [
           {
            "marker": {
             "pattern": {
              "fillmode": "overlay",
              "size": 10,
              "solidity": 0.2
             }
            },
            "type": "histogram"
           }
          ],
          "histogram2d": [
           {
            "colorbar": {
             "outlinewidth": 0,
             "ticks": ""
            },
            "colorscale": [
             [
              0,
              "#0d0887"
             ],
             [
              0.1111111111111111,
              "#46039f"
             ],
             [
              0.2222222222222222,
              "#7201a8"
             ],
             [
              0.3333333333333333,
              "#9c179e"
             ],
             [
              0.4444444444444444,
              "#bd3786"
             ],
             [
              0.5555555555555556,
              "#d8576b"
             ],
             [
              0.6666666666666666,
              "#ed7953"
             ],
             [
              0.7777777777777778,
              "#fb9f3a"
             ],
             [
              0.8888888888888888,
              "#fdca26"
             ],
             [
              1,
              "#f0f921"
             ]
            ],
            "type": "histogram2d"
           }
          ],
          "histogram2dcontour": [
           {
            "colorbar": {
             "outlinewidth": 0,
             "ticks": ""
            },
            "colorscale": [
             [
              0,
              "#0d0887"
             ],
             [
              0.1111111111111111,
              "#46039f"
             ],
             [
              0.2222222222222222,
              "#7201a8"
             ],
             [
              0.3333333333333333,
              "#9c179e"
             ],
             [
              0.4444444444444444,
              "#bd3786"
             ],
             [
              0.5555555555555556,
              "#d8576b"
             ],
             [
              0.6666666666666666,
              "#ed7953"
             ],
             [
              0.7777777777777778,
              "#fb9f3a"
             ],
             [
              0.8888888888888888,
              "#fdca26"
             ],
             [
              1,
              "#f0f921"
             ]
            ],
            "type": "histogram2dcontour"
           }
          ],
          "mesh3d": [
           {
            "colorbar": {
             "outlinewidth": 0,
             "ticks": ""
            },
            "type": "mesh3d"
           }
          ],
          "parcoords": [
           {
            "line": {
             "colorbar": {
              "outlinewidth": 0,
              "ticks": ""
             }
            },
            "type": "parcoords"
           }
          ],
          "pie": [
           {
            "automargin": true,
            "type": "pie"
           }
          ],
          "scatter": [
           {
            "marker": {
             "colorbar": {
              "outlinewidth": 0,
              "ticks": ""
             }
            },
            "type": "scatter"
           }
          ],
          "scatter3d": [
           {
            "line": {
             "colorbar": {
              "outlinewidth": 0,
              "ticks": ""
             }
            },
            "marker": {
             "colorbar": {
              "outlinewidth": 0,
              "ticks": ""
             }
            },
            "type": "scatter3d"
           }
          ],
          "scattercarpet": [
           {
            "marker": {
             "colorbar": {
              "outlinewidth": 0,
              "ticks": ""
             }
            },
            "type": "scattercarpet"
           }
          ],
          "scattergeo": [
           {
            "marker": {
             "colorbar": {
              "outlinewidth": 0,
              "ticks": ""
             }
            },
            "type": "scattergeo"
           }
          ],
          "scattergl": [
           {
            "marker": {
             "colorbar": {
              "outlinewidth": 0,
              "ticks": ""
             }
            },
            "type": "scattergl"
           }
          ],
          "scattermapbox": [
           {
            "marker": {
             "colorbar": {
              "outlinewidth": 0,
              "ticks": ""
             }
            },
            "type": "scattermapbox"
           }
          ],
          "scatterpolar": [
           {
            "marker": {
             "colorbar": {
              "outlinewidth": 0,
              "ticks": ""
             }
            },
            "type": "scatterpolar"
           }
          ],
          "scatterpolargl": [
           {
            "marker": {
             "colorbar": {
              "outlinewidth": 0,
              "ticks": ""
             }
            },
            "type": "scatterpolargl"
           }
          ],
          "scatterternary": [
           {
            "marker": {
             "colorbar": {
              "outlinewidth": 0,
              "ticks": ""
             }
            },
            "type": "scatterternary"
           }
          ],
          "surface": [
           {
            "colorbar": {
             "outlinewidth": 0,
             "ticks": ""
            },
            "colorscale": [
             [
              0,
              "#0d0887"
             ],
             [
              0.1111111111111111,
              "#46039f"
             ],
             [
              0.2222222222222222,
              "#7201a8"
             ],
             [
              0.3333333333333333,
              "#9c179e"
             ],
             [
              0.4444444444444444,
              "#bd3786"
             ],
             [
              0.5555555555555556,
              "#d8576b"
             ],
             [
              0.6666666666666666,
              "#ed7953"
             ],
             [
              0.7777777777777778,
              "#fb9f3a"
             ],
             [
              0.8888888888888888,
              "#fdca26"
             ],
             [
              1,
              "#f0f921"
             ]
            ],
            "type": "surface"
           }
          ],
          "table": [
           {
            "cells": {
             "fill": {
              "color": "#EBF0F8"
             },
             "line": {
              "color": "white"
             }
            },
            "header": {
             "fill": {
              "color": "#C8D4E3"
             },
             "line": {
              "color": "white"
             }
            },
            "type": "table"
           }
          ]
         },
         "layout": {
          "annotationdefaults": {
           "arrowcolor": "#2a3f5f",
           "arrowhead": 0,
           "arrowwidth": 1
          },
          "autotypenumbers": "strict",
          "coloraxis": {
           "colorbar": {
            "outlinewidth": 0,
            "ticks": ""
           }
          },
          "colorscale": {
           "diverging": [
            [
             0,
             "#8e0152"
            ],
            [
             0.1,
             "#c51b7d"
            ],
            [
             0.2,
             "#de77ae"
            ],
            [
             0.3,
             "#f1b6da"
            ],
            [
             0.4,
             "#fde0ef"
            ],
            [
             0.5,
             "#f7f7f7"
            ],
            [
             0.6,
             "#e6f5d0"
            ],
            [
             0.7,
             "#b8e186"
            ],
            [
             0.8,
             "#7fbc41"
            ],
            [
             0.9,
             "#4d9221"
            ],
            [
             1,
             "#276419"
            ]
           ],
           "sequential": [
            [
             0,
             "#0d0887"
            ],
            [
             0.1111111111111111,
             "#46039f"
            ],
            [
             0.2222222222222222,
             "#7201a8"
            ],
            [
             0.3333333333333333,
             "#9c179e"
            ],
            [
             0.4444444444444444,
             "#bd3786"
            ],
            [
             0.5555555555555556,
             "#d8576b"
            ],
            [
             0.6666666666666666,
             "#ed7953"
            ],
            [
             0.7777777777777778,
             "#fb9f3a"
            ],
            [
             0.8888888888888888,
             "#fdca26"
            ],
            [
             1,
             "#f0f921"
            ]
           ],
           "sequentialminus": [
            [
             0,
             "#0d0887"
            ],
            [
             0.1111111111111111,
             "#46039f"
            ],
            [
             0.2222222222222222,
             "#7201a8"
            ],
            [
             0.3333333333333333,
             "#9c179e"
            ],
            [
             0.4444444444444444,
             "#bd3786"
            ],
            [
             0.5555555555555556,
             "#d8576b"
            ],
            [
             0.6666666666666666,
             "#ed7953"
            ],
            [
             0.7777777777777778,
             "#fb9f3a"
            ],
            [
             0.8888888888888888,
             "#fdca26"
            ],
            [
             1,
             "#f0f921"
            ]
           ]
          },
          "colorway": [
           "#636efa",
           "#EF553B",
           "#00cc96",
           "#ab63fa",
           "#FFA15A",
           "#19d3f3",
           "#FF6692",
           "#B6E880",
           "#FF97FF",
           "#FECB52"
          ],
          "font": {
           "color": "#2a3f5f"
          },
          "geo": {
           "bgcolor": "white",
           "lakecolor": "white",
           "landcolor": "#E5ECF6",
           "showlakes": true,
           "showland": true,
           "subunitcolor": "white"
          },
          "hoverlabel": {
           "align": "left"
          },
          "hovermode": "closest",
          "mapbox": {
           "style": "light"
          },
          "paper_bgcolor": "white",
          "plot_bgcolor": "#E5ECF6",
          "polar": {
           "angularaxis": {
            "gridcolor": "white",
            "linecolor": "white",
            "ticks": ""
           },
           "bgcolor": "#E5ECF6",
           "radialaxis": {
            "gridcolor": "white",
            "linecolor": "white",
            "ticks": ""
           }
          },
          "scene": {
           "xaxis": {
            "backgroundcolor": "#E5ECF6",
            "gridcolor": "white",
            "gridwidth": 2,
            "linecolor": "white",
            "showbackground": true,
            "ticks": "",
            "zerolinecolor": "white"
           },
           "yaxis": {
            "backgroundcolor": "#E5ECF6",
            "gridcolor": "white",
            "gridwidth": 2,
            "linecolor": "white",
            "showbackground": true,
            "ticks": "",
            "zerolinecolor": "white"
           },
           "zaxis": {
            "backgroundcolor": "#E5ECF6",
            "gridcolor": "white",
            "gridwidth": 2,
            "linecolor": "white",
            "showbackground": true,
            "ticks": "",
            "zerolinecolor": "white"
           }
          },
          "shapedefaults": {
           "line": {
            "color": "#2a3f5f"
           }
          },
          "ternary": {
           "aaxis": {
            "gridcolor": "white",
            "linecolor": "white",
            "ticks": ""
           },
           "baxis": {
            "gridcolor": "white",
            "linecolor": "white",
            "ticks": ""
           },
           "bgcolor": "#E5ECF6",
           "caxis": {
            "gridcolor": "white",
            "linecolor": "white",
            "ticks": ""
           }
          },
          "title": {
           "x": 0.05
          },
          "xaxis": {
           "automargin": true,
           "gridcolor": "white",
           "linecolor": "white",
           "ticks": "",
           "title": {
            "standoff": 15
           },
           "zerolinecolor": "white",
           "zerolinewidth": 2
          },
          "yaxis": {
           "automargin": true,
           "gridcolor": "white",
           "linecolor": "white",
           "ticks": "",
           "title": {
            "standoff": 15
           },
           "zerolinecolor": "white",
           "zerolinewidth": 2
          }
         }
        },
        "xaxis": {
         "anchor": "y",
         "domain": [
          0,
          1
         ],
         "title": {
          "text": "x"
         }
        },
        "yaxis": {
         "anchor": "x",
         "domain": [
          0,
          1
         ],
         "title": {
          "text": "y"
         }
        }
       }
      }
     },
     "metadata": {},
     "output_type": "display_data"
    }
   ],
   "source": [
    "px.scatter(x=apple_box['Day'], y=apple_box['Volume'])"
   ]
  },
  {
   "cell_type": "code",
   "execution_count": 41,
   "metadata": {},
   "outputs": [
    {
     "data": {
      "text/plain": [
       "array(['TSLA', 'AAPL', 'NVDA', 'AMZN'], dtype=object)"
      ]
     },
     "execution_count": 41,
     "metadata": {},
     "output_type": "execute_result"
    }
   ],
   "source": [
    "test_data[test_data['Day'] == '2024-05-17'].nlargest(4,['Volume'])['Stock_Code'].unique()"
   ]
  },
  {
   "cell_type": "code",
   "execution_count": 17,
   "metadata": {},
   "outputs": [
    {
     "data": {
      "text/html": [
       "<div>\n",
       "<style scoped>\n",
       "    .dataframe tbody tr th:only-of-type {\n",
       "        vertical-align: middle;\n",
       "    }\n",
       "\n",
       "    .dataframe tbody tr th {\n",
       "        vertical-align: top;\n",
       "    }\n",
       "\n",
       "    .dataframe thead th {\n",
       "        text-align: right;\n",
       "    }\n",
       "</style>\n",
       "<table border=\"1\" class=\"dataframe\">\n",
       "  <thead>\n",
       "    <tr style=\"text-align: right;\">\n",
       "      <th></th>\n",
       "      <th>Company_Name</th>\n",
       "      <th>Stock_Code</th>\n",
       "      <th>Day</th>\n",
       "      <th>WeekDay</th>\n",
       "      <th>Week</th>\n",
       "      <th>Month</th>\n",
       "      <th>Month_Name</th>\n",
       "      <th>Quarter</th>\n",
       "      <th>Opening_Value</th>\n",
       "      <th>Highest_Value</th>\n",
       "      <th>Lowest_Value</th>\n",
       "      <th>Closing_Value</th>\n",
       "      <th>Volume</th>\n",
       "      <th>Daily_Closing_Variation</th>\n",
       "      <th>Year</th>\n",
       "    </tr>\n",
       "  </thead>\n",
       "  <tbody>\n",
       "    <tr>\n",
       "      <th>0</th>\n",
       "      <td>Apple</td>\n",
       "      <td>AAPL</td>\n",
       "      <td>2024-05-17</td>\n",
       "      <td>Friday</td>\n",
       "      <td>20</td>\n",
       "      <td>5</td>\n",
       "      <td>May</td>\n",
       "      <td>2</td>\n",
       "      <td>189.510</td>\n",
       "      <td>190.810</td>\n",
       "      <td>189.1800</td>\n",
       "      <td>189.87</td>\n",
       "      <td>41282925</td>\n",
       "      <td>0.01580278128950755</td>\n",
       "      <td>2024</td>\n",
       "    </tr>\n",
       "    <tr>\n",
       "      <th>1</th>\n",
       "      <td>Apple</td>\n",
       "      <td>AAPL</td>\n",
       "      <td>2024-05-16</td>\n",
       "      <td>Thursday</td>\n",
       "      <td>20</td>\n",
       "      <td>5</td>\n",
       "      <td>May</td>\n",
       "      <td>2</td>\n",
       "      <td>190.470</td>\n",
       "      <td>191.095</td>\n",
       "      <td>189.6601</td>\n",
       "      <td>189.84</td>\n",
       "      <td>52845230</td>\n",
       "      <td>0.06325110689437305</td>\n",
       "      <td>2024</td>\n",
       "    </tr>\n",
       "    <tr>\n",
       "      <th>2</th>\n",
       "      <td>Apple</td>\n",
       "      <td>AAPL</td>\n",
       "      <td>2024-05-15</td>\n",
       "      <td>Wednesday</td>\n",
       "      <td>20</td>\n",
       "      <td>5</td>\n",
       "      <td>May</td>\n",
       "      <td>2</td>\n",
       "      <td>187.910</td>\n",
       "      <td>190.650</td>\n",
       "      <td>187.3700</td>\n",
       "      <td>189.72</td>\n",
       "      <td>70399988</td>\n",
       "      <td>1.2217894680680745</td>\n",
       "      <td>2024</td>\n",
       "    </tr>\n",
       "    <tr>\n",
       "      <th>3</th>\n",
       "      <td>Apple</td>\n",
       "      <td>AAPL</td>\n",
       "      <td>2024-05-14</td>\n",
       "      <td>Tuesday</td>\n",
       "      <td>20</td>\n",
       "      <td>5</td>\n",
       "      <td>May</td>\n",
       "      <td>2</td>\n",
       "      <td>187.510</td>\n",
       "      <td>188.300</td>\n",
       "      <td>186.2900</td>\n",
       "      <td>187.43</td>\n",
       "      <td>52393619</td>\n",
       "      <td>0.6173502254670419</td>\n",
       "      <td>2024</td>\n",
       "    </tr>\n",
       "    <tr>\n",
       "      <th>4</th>\n",
       "      <td>Apple</td>\n",
       "      <td>AAPL</td>\n",
       "      <td>2024-05-13</td>\n",
       "      <td>Monday</td>\n",
       "      <td>20</td>\n",
       "      <td>5</td>\n",
       "      <td>May</td>\n",
       "      <td>2</td>\n",
       "      <td>185.435</td>\n",
       "      <td>187.100</td>\n",
       "      <td>184.6200</td>\n",
       "      <td>186.28</td>\n",
       "      <td>72044809</td>\n",
       "      <td>1.7645452062278009</td>\n",
       "      <td>2024</td>\n",
       "    </tr>\n",
       "  </tbody>\n",
       "</table>\n",
       "</div>"
      ],
      "text/plain": [
       "  Company_Name Stock_Code         Day    WeekDay  Week  Month Month_Name  \\\n",
       "0        Apple       AAPL  2024-05-17     Friday    20      5        May   \n",
       "1        Apple       AAPL  2024-05-16   Thursday    20      5        May   \n",
       "2        Apple       AAPL  2024-05-15  Wednesday    20      5        May   \n",
       "3        Apple       AAPL  2024-05-14    Tuesday    20      5        May   \n",
       "4        Apple       AAPL  2024-05-13     Monday    20      5        May   \n",
       "\n",
       "   Quarter  Opening_Value  Highest_Value  Lowest_Value  Closing_Value  \\\n",
       "0        2        189.510        190.810      189.1800         189.87   \n",
       "1        2        190.470        191.095      189.6601         189.84   \n",
       "2        2        187.910        190.650      187.3700         189.72   \n",
       "3        2        187.510        188.300      186.2900         187.43   \n",
       "4        2        185.435        187.100      184.6200         186.28   \n",
       "\n",
       "     Volume Daily_Closing_Variation  Year  \n",
       "0  41282925     0.01580278128950755  2024  \n",
       "1  52845230     0.06325110689437305  2024  \n",
       "2  70399988      1.2217894680680745  2024  \n",
       "3  52393619      0.6173502254670419  2024  \n",
       "4  72044809      1.7645452062278009  2024  "
      ]
     },
     "execution_count": 17,
     "metadata": {},
     "output_type": "execute_result"
    }
   ],
   "source": [
    "test_data.head()"
   ]
  },
  {
   "cell_type": "code",
   "execution_count": 21,
   "metadata": {},
   "outputs": [],
   "source": [
    "test_data['Year'] = list(map(lambda x: x[:4], test_data['Day']))"
   ]
  },
  {
   "cell_type": "code",
   "execution_count": 44,
   "metadata": {},
   "outputs": [],
   "source": [
    "scatter_df = test_data[(test_data['Year'] == '2024') & (test_data['Stock_Code'] == 'NVDA') & (test_data['Closing_Value'])]"
   ]
  },
  {
   "cell_type": "code",
   "execution_count": 45,
   "metadata": {},
   "outputs": [
    {
     "data": {
      "text/html": [
       "<div>\n",
       "<style scoped>\n",
       "    .dataframe tbody tr th:only-of-type {\n",
       "        vertical-align: middle;\n",
       "    }\n",
       "\n",
       "    .dataframe tbody tr th {\n",
       "        vertical-align: top;\n",
       "    }\n",
       "\n",
       "    .dataframe thead th {\n",
       "        text-align: right;\n",
       "    }\n",
       "</style>\n",
       "<table border=\"1\" class=\"dataframe\">\n",
       "  <thead>\n",
       "    <tr style=\"text-align: right;\">\n",
       "      <th></th>\n",
       "      <th>Company_Name</th>\n",
       "      <th>Stock_Code</th>\n",
       "      <th>Day</th>\n",
       "      <th>WeekDay</th>\n",
       "      <th>Week</th>\n",
       "      <th>Month</th>\n",
       "      <th>Month_Name</th>\n",
       "      <th>Quarter</th>\n",
       "      <th>Opening_Value</th>\n",
       "      <th>Highest_Value</th>\n",
       "      <th>Lowest_Value</th>\n",
       "      <th>Closing_Value</th>\n",
       "      <th>Volume</th>\n",
       "      <th>Daily_Closing_Variation</th>\n",
       "      <th>Year</th>\n",
       "    </tr>\n",
       "  </thead>\n",
       "  <tbody>\n",
       "    <tr>\n",
       "      <th>300</th>\n",
       "      <td>NVIDIA</td>\n",
       "      <td>NVDA</td>\n",
       "      <td>2024-05-17</td>\n",
       "      <td>Friday</td>\n",
       "      <td>20</td>\n",
       "      <td>5</td>\n",
       "      <td>May</td>\n",
       "      <td>2</td>\n",
       "      <td>943.69</td>\n",
       "      <td>947.4000</td>\n",
       "      <td>918.0600</td>\n",
       "      <td>924.79</td>\n",
       "      <td>35969103</td>\n",
       "      <td>-1.9923907629372999</td>\n",
       "      <td>2024</td>\n",
       "    </tr>\n",
       "    <tr>\n",
       "      <th>301</th>\n",
       "      <td>NVIDIA</td>\n",
       "      <td>NVDA</td>\n",
       "      <td>2024-05-16</td>\n",
       "      <td>Thursday</td>\n",
       "      <td>20</td>\n",
       "      <td>5</td>\n",
       "      <td>May</td>\n",
       "      <td>2</td>\n",
       "      <td>949.10</td>\n",
       "      <td>958.1899</td>\n",
       "      <td>941.0300</td>\n",
       "      <td>943.59</td>\n",
       "      <td>32395182</td>\n",
       "      <td>-0.28637852689421145</td>\n",
       "      <td>2024</td>\n",
       "    </tr>\n",
       "    <tr>\n",
       "      <th>302</th>\n",
       "      <td>NVIDIA</td>\n",
       "      <td>NVDA</td>\n",
       "      <td>2024-05-15</td>\n",
       "      <td>Wednesday</td>\n",
       "      <td>20</td>\n",
       "      <td>5</td>\n",
       "      <td>May</td>\n",
       "      <td>2</td>\n",
       "      <td>924.72</td>\n",
       "      <td>948.6200</td>\n",
       "      <td>915.9900</td>\n",
       "      <td>946.30</td>\n",
       "      <td>41773545</td>\n",
       "      <td>3.583782127063358</td>\n",
       "      <td>2024</td>\n",
       "    </tr>\n",
       "    <tr>\n",
       "      <th>303</th>\n",
       "      <td>NVIDIA</td>\n",
       "      <td>NVDA</td>\n",
       "      <td>2024-05-14</td>\n",
       "      <td>Tuesday</td>\n",
       "      <td>20</td>\n",
       "      <td>5</td>\n",
       "      <td>May</td>\n",
       "      <td>2</td>\n",
       "      <td>895.99</td>\n",
       "      <td>916.5100</td>\n",
       "      <td>889.3400</td>\n",
       "      <td>913.56</td>\n",
       "      <td>29650708</td>\n",
       "      <td>1.0586400292038558</td>\n",
       "      <td>2024</td>\n",
       "    </tr>\n",
       "    <tr>\n",
       "      <th>304</th>\n",
       "      <td>NVIDIA</td>\n",
       "      <td>NVDA</td>\n",
       "      <td>2024-05-13</td>\n",
       "      <td>Monday</td>\n",
       "      <td>20</td>\n",
       "      <td>5</td>\n",
       "      <td>May</td>\n",
       "      <td>2</td>\n",
       "      <td>904.78</td>\n",
       "      <td>909.9800</td>\n",
       "      <td>885.2900</td>\n",
       "      <td>903.99</td>\n",
       "      <td>28968017</td>\n",
       "      <td>0.5796746701083733</td>\n",
       "      <td>2024</td>\n",
       "    </tr>\n",
       "    <tr>\n",
       "      <th>...</th>\n",
       "      <td>...</td>\n",
       "      <td>...</td>\n",
       "      <td>...</td>\n",
       "      <td>...</td>\n",
       "      <td>...</td>\n",
       "      <td>...</td>\n",
       "      <td>...</td>\n",
       "      <td>...</td>\n",
       "      <td>...</td>\n",
       "      <td>...</td>\n",
       "      <td>...</td>\n",
       "      <td>...</td>\n",
       "      <td>...</td>\n",
       "      <td>...</td>\n",
       "      <td>...</td>\n",
       "    </tr>\n",
       "    <tr>\n",
       "      <th>391</th>\n",
       "      <td>NVIDIA</td>\n",
       "      <td>NVDA</td>\n",
       "      <td>2024-01-08</td>\n",
       "      <td>Monday</td>\n",
       "      <td>2</td>\n",
       "      <td>1</td>\n",
       "      <td>January</td>\n",
       "      <td>1</td>\n",
       "      <td>495.12</td>\n",
       "      <td>522.7500</td>\n",
       "      <td>494.7900</td>\n",
       "      <td>522.53</td>\n",
       "      <td>64250990</td>\n",
       "      <td>6.428091329409118</td>\n",
       "      <td>2024</td>\n",
       "    </tr>\n",
       "    <tr>\n",
       "      <th>392</th>\n",
       "      <td>NVIDIA</td>\n",
       "      <td>NVDA</td>\n",
       "      <td>2024-01-05</td>\n",
       "      <td>Friday</td>\n",
       "      <td>1</td>\n",
       "      <td>1</td>\n",
       "      <td>January</td>\n",
       "      <td>1</td>\n",
       "      <td>484.62</td>\n",
       "      <td>495.4700</td>\n",
       "      <td>483.0601</td>\n",
       "      <td>490.97</td>\n",
       "      <td>41080455</td>\n",
       "      <td>2.2896787366140274</td>\n",
       "      <td>2024</td>\n",
       "    </tr>\n",
       "    <tr>\n",
       "      <th>393</th>\n",
       "      <td>NVIDIA</td>\n",
       "      <td>NVDA</td>\n",
       "      <td>2024-01-04</td>\n",
       "      <td>Thursday</td>\n",
       "      <td>1</td>\n",
       "      <td>1</td>\n",
       "      <td>January</td>\n",
       "      <td>1</td>\n",
       "      <td>477.67</td>\n",
       "      <td>485.0000</td>\n",
       "      <td>475.0800</td>\n",
       "      <td>479.98</td>\n",
       "      <td>30653489</td>\n",
       "      <td>0.9018478420820325</td>\n",
       "      <td>2024</td>\n",
       "    </tr>\n",
       "    <tr>\n",
       "      <th>394</th>\n",
       "      <td>NVIDIA</td>\n",
       "      <td>NVDA</td>\n",
       "      <td>2024-01-03</td>\n",
       "      <td>Wednesday</td>\n",
       "      <td>1</td>\n",
       "      <td>1</td>\n",
       "      <td>January</td>\n",
       "      <td>1</td>\n",
       "      <td>474.85</td>\n",
       "      <td>481.8410</td>\n",
       "      <td>473.2000</td>\n",
       "      <td>475.69</td>\n",
       "      <td>32089617</td>\n",
       "      <td>-1.2435641919946872</td>\n",
       "      <td>2024</td>\n",
       "    </tr>\n",
       "    <tr>\n",
       "      <th>395</th>\n",
       "      <td>NVIDIA</td>\n",
       "      <td>NVDA</td>\n",
       "      <td>2024-01-02</td>\n",
       "      <td>Tuesday</td>\n",
       "      <td>1</td>\n",
       "      <td>1</td>\n",
       "      <td>January</td>\n",
       "      <td>1</td>\n",
       "      <td>492.44</td>\n",
       "      <td>492.9500</td>\n",
       "      <td>475.9500</td>\n",
       "      <td>481.68</td>\n",
       "      <td>41125422</td>\n",
       "      <td>-2.7341383627478737</td>\n",
       "      <td>2024</td>\n",
       "    </tr>\n",
       "  </tbody>\n",
       "</table>\n",
       "<p>96 rows × 15 columns</p>\n",
       "</div>"
      ],
      "text/plain": [
       "    Company_Name Stock_Code         Day    WeekDay  Week  Month Month_Name  \\\n",
       "300       NVIDIA       NVDA  2024-05-17     Friday    20      5        May   \n",
       "301       NVIDIA       NVDA  2024-05-16   Thursday    20      5        May   \n",
       "302       NVIDIA       NVDA  2024-05-15  Wednesday    20      5        May   \n",
       "303       NVIDIA       NVDA  2024-05-14    Tuesday    20      5        May   \n",
       "304       NVIDIA       NVDA  2024-05-13     Monday    20      5        May   \n",
       "..           ...        ...         ...        ...   ...    ...        ...   \n",
       "391       NVIDIA       NVDA  2024-01-08     Monday     2      1    January   \n",
       "392       NVIDIA       NVDA  2024-01-05     Friday     1      1    January   \n",
       "393       NVIDIA       NVDA  2024-01-04   Thursday     1      1    January   \n",
       "394       NVIDIA       NVDA  2024-01-03  Wednesday     1      1    January   \n",
       "395       NVIDIA       NVDA  2024-01-02    Tuesday     1      1    January   \n",
       "\n",
       "     Quarter  Opening_Value  Highest_Value  Lowest_Value  Closing_Value  \\\n",
       "300        2         943.69       947.4000      918.0600         924.79   \n",
       "301        2         949.10       958.1899      941.0300         943.59   \n",
       "302        2         924.72       948.6200      915.9900         946.30   \n",
       "303        2         895.99       916.5100      889.3400         913.56   \n",
       "304        2         904.78       909.9800      885.2900         903.99   \n",
       "..       ...            ...            ...           ...            ...   \n",
       "391        1         495.12       522.7500      494.7900         522.53   \n",
       "392        1         484.62       495.4700      483.0601         490.97   \n",
       "393        1         477.67       485.0000      475.0800         479.98   \n",
       "394        1         474.85       481.8410      473.2000         475.69   \n",
       "395        1         492.44       492.9500      475.9500         481.68   \n",
       "\n",
       "       Volume Daily_Closing_Variation  Year  \n",
       "300  35969103     -1.9923907629372999  2024  \n",
       "301  32395182    -0.28637852689421145  2024  \n",
       "302  41773545       3.583782127063358  2024  \n",
       "303  29650708      1.0586400292038558  2024  \n",
       "304  28968017      0.5796746701083733  2024  \n",
       "..        ...                     ...   ...  \n",
       "391  64250990       6.428091329409118  2024  \n",
       "392  41080455      2.2896787366140274  2024  \n",
       "393  30653489      0.9018478420820325  2024  \n",
       "394  32089617     -1.2435641919946872  2024  \n",
       "395  41125422     -2.7341383627478737  2024  \n",
       "\n",
       "[96 rows x 15 columns]"
      ]
     },
     "execution_count": 45,
     "metadata": {},
     "output_type": "execute_result"
    }
   ],
   "source": [
    "scatter_df"
   ]
  },
  {
   "cell_type": "code",
   "execution_count": null,
   "metadata": {},
   "outputs": [],
   "source": [
    "list(map(lambda x: float(round(x,2)), scatter_df['Daily_Closing_Variation']))"
   ]
  },
  {
   "cell_type": "code",
   "execution_count": 58,
   "metadata": {},
   "outputs": [
    {
     "name": "stderr",
     "output_type": "stream",
     "text": [
      "/var/folders/cr/l951d20n6nn5l2nkq77hr0gw0000gp/T/ipykernel_3717/1244123427.py:1: SettingWithCopyWarning:\n",
      "\n",
      "\n",
      "A value is trying to be set on a copy of a slice from a DataFrame.\n",
      "Try using .loc[row_indexer,col_indexer] = value instead\n",
      "\n",
      "See the caveats in the documentation: https://pandas.pydata.org/pandas-docs/stable/user_guide/indexing.html#returning-a-view-versus-a-copy\n",
      "\n"
     ]
    }
   ],
   "source": [
    "scatter_df['Daily_Closing_Variation'] = list(map(lambda x: float(x), scatter_df['Daily_Closing_Variation']))"
   ]
  },
  {
   "cell_type": "code",
   "execution_count": 127,
   "metadata": {},
   "outputs": [
    {
     "name": "stdout",
     "output_type": "stream",
     "text": [
      "<class 'pandas.core.frame.DataFrame'>\n",
      "Int64Index: 96 entries, 300 to 395\n",
      "Data columns (total 15 columns):\n",
      " #   Column                   Non-Null Count  Dtype         \n",
      "---  ------                   --------------  -----         \n",
      " 0   Company_Name             96 non-null     object        \n",
      " 1   Stock_Code               96 non-null     object        \n",
      " 2   Day                      96 non-null     datetime64[ns]\n",
      " 3   WeekDay                  96 non-null     object        \n",
      " 4   Week                     96 non-null     int64         \n",
      " 5   Month                    96 non-null     int64         \n",
      " 6   Month_Name               96 non-null     object        \n",
      " 7   Quarter                  96 non-null     int64         \n",
      " 8   Opening_Value            96 non-null     float64       \n",
      " 9   Highest_Value            96 non-null     float64       \n",
      " 10  Lowest_Value             96 non-null     float64       \n",
      " 11  Closing_Value            96 non-null     float64       \n",
      " 12  Volume                   96 non-null     int64         \n",
      " 13  Daily_Closing_Variation  96 non-null     float64       \n",
      " 14  Year                     96 non-null     object        \n",
      "dtypes: datetime64[ns](1), float64(5), int64(4), object(5)\n",
      "memory usage: 12.0+ KB\n"
     ]
    }
   ],
   "source": [
    "scatter_df.info()"
   ]
  },
  {
   "cell_type": "code",
   "execution_count": 59,
   "metadata": {},
   "outputs": [
    {
     "name": "stderr",
     "output_type": "stream",
     "text": [
      "/var/folders/cr/l951d20n6nn5l2nkq77hr0gw0000gp/T/ipykernel_3717/1405270964.py:2: SettingWithCopyWarning:\n",
      "\n",
      "\n",
      "A value is trying to be set on a copy of a slice from a DataFrame.\n",
      "Try using .loc[row_indexer,col_indexer] = value instead\n",
      "\n",
      "See the caveats in the documentation: https://pandas.pydata.org/pandas-docs/stable/user_guide/indexing.html#returning-a-view-versus-a-copy\n",
      "\n"
     ]
    },
    {
     "data": {
      "application/vnd.plotly.v1+json": {
       "config": {
        "plotlyServerURL": "https://plot.ly"
       },
       "data": [
        {
         "mode": "lines",
         "name": "Variação Diária do Fechamento",
         "type": "scatter",
         "x": [
          "2024-05-17T00:00:00",
          "2024-05-16T00:00:00",
          "2024-05-15T00:00:00",
          "2024-05-14T00:00:00",
          "2024-05-13T00:00:00",
          "2024-05-10T00:00:00",
          "2024-05-09T00:00:00",
          "2024-05-08T00:00:00",
          "2024-05-07T00:00:00",
          "2024-05-06T00:00:00",
          "2024-05-03T00:00:00",
          "2024-05-02T00:00:00",
          "2024-05-01T00:00:00",
          "2024-04-30T00:00:00",
          "2024-04-29T00:00:00",
          "2024-04-26T00:00:00",
          "2024-04-25T00:00:00",
          "2024-04-24T00:00:00",
          "2024-04-23T00:00:00",
          "2024-04-22T00:00:00",
          "2024-04-19T00:00:00",
          "2024-04-18T00:00:00",
          "2024-04-17T00:00:00",
          "2024-04-16T00:00:00",
          "2024-04-15T00:00:00",
          "2024-04-12T00:00:00",
          "2024-04-11T00:00:00",
          "2024-04-10T00:00:00",
          "2024-04-09T00:00:00",
          "2024-04-08T00:00:00",
          "2024-04-05T00:00:00",
          "2024-04-04T00:00:00",
          "2024-04-03T00:00:00",
          "2024-04-02T00:00:00",
          "2024-04-01T00:00:00",
          "2024-03-28T00:00:00",
          "2024-03-27T00:00:00",
          "2024-03-26T00:00:00",
          "2024-03-25T00:00:00",
          "2024-03-22T00:00:00",
          "2024-03-21T00:00:00",
          "2024-03-20T00:00:00",
          "2024-03-19T00:00:00",
          "2024-03-18T00:00:00",
          "2024-03-15T00:00:00",
          "2024-03-14T00:00:00",
          "2024-03-13T00:00:00",
          "2024-03-12T00:00:00",
          "2024-03-11T00:00:00",
          "2024-03-08T00:00:00",
          "2024-03-07T00:00:00",
          "2024-03-06T00:00:00",
          "2024-03-05T00:00:00",
          "2024-03-04T00:00:00",
          "2024-03-01T00:00:00",
          "2024-02-29T00:00:00",
          "2024-02-28T00:00:00",
          "2024-02-27T00:00:00",
          "2024-02-26T00:00:00",
          "2024-02-23T00:00:00",
          "2024-02-22T00:00:00",
          "2024-02-21T00:00:00",
          "2024-02-20T00:00:00",
          "2024-02-16T00:00:00",
          "2024-02-15T00:00:00",
          "2024-02-14T00:00:00",
          "2024-02-13T00:00:00",
          "2024-02-12T00:00:00",
          "2024-02-09T00:00:00",
          "2024-02-08T00:00:00",
          "2024-02-07T00:00:00",
          "2024-02-06T00:00:00",
          "2024-02-05T00:00:00",
          "2024-02-02T00:00:00",
          "2024-02-01T00:00:00",
          "2024-01-31T00:00:00",
          "2024-01-30T00:00:00",
          "2024-01-29T00:00:00",
          "2024-01-26T00:00:00",
          "2024-01-25T00:00:00",
          "2024-01-24T00:00:00",
          "2024-01-23T00:00:00",
          "2024-01-22T00:00:00",
          "2024-01-19T00:00:00",
          "2024-01-18T00:00:00",
          "2024-01-17T00:00:00",
          "2024-01-16T00:00:00",
          "2024-01-12T00:00:00",
          "2024-01-11T00:00:00",
          "2024-01-10T00:00:00",
          "2024-01-09T00:00:00",
          "2024-01-08T00:00:00",
          "2024-01-05T00:00:00",
          "2024-01-04T00:00:00",
          "2024-01-03T00:00:00",
          "2024-01-02T00:00:00"
         ],
         "y": [
          -1.9923907629372999,
          -0.28637852689421145,
          3.583782127063358,
          1.0586400292038558,
          0.5796746701083733,
          1.2744092758065,
          -1.8415697031367493,
          -0.15681250966273816,
          -1.721293683525072,
          3.774116163038213,
          3.4631832853630433,
          3.342926987873459,
          -3.88995625101271,
          -1.5440363731668205,
          0.025075511483447572,
          6.1755736276503015,
          3.7087239730411623,
          -3.331594336532283,
          3.6532608969038547,
          4.3543307086614105,
          -10.004606063469195,
          0.756827512346048,
          -3.8666132814734264,
          1.6441669282915299,
          -2.4777175515387957,
          -2.681645625496596,
          4.109651995082662,
          1.9741312650842402,
          -2.0417063569485814,
          -0.9942277974729569,
          2.448053081892799,
          -3.4384694932781836,
          -0.5455439788937079,
          -1.0081559930502544,
          0.007747133560588121,
          0.11745152354570032,
          -2.496731884919136,
          -2.5694195911664988,
          0.7561857692837972,
          3.121343030568159,
          1.1762492807506746,
          1.089509832434731,
          1.0660787971284906,
          0.7041491862722155,
          -0.12223687801328634,
          -3.239151483144083,
          -1.1151850119134399,
          7.15718049758668,
          -2.003930170916731,
          -5.54770203627967,
          4.47463359639234,
          3.1827276534363236,
          0.8529159871886601,
          3.595085015617599,
          4.003185357467888,
          1.8657533188262119,
          -1.3189158968755157,
          -0.4943609973195732,
          0.34890949921971154,
          0.3552420484351478,
          16.400877400995963,
          -2.850889823187231,
          -4.3532149890515495,
          -0.06193399212750769,
          -1.6806495263870038,
          2.456743566992018,
          -0.16609456317130514,
          0.15942772378799955,
          3.578351832971967,
          -0.6533616742036321,
          2.7498057839731453,
          -1.5995499913459919,
          4.7944377267231,
          4.970885493518657,
          2.4379540689453414,
          -1.986491222480649,
          0.4946770191307183,
          2.3496256001048703,
          -0.951036239998704,
          0.41556663733254373,
          2.4869306699179905,
          0.36711704160660724,
          0.27399102385234664,
          4.174619573782533,
          1.8803632276595503,
          -0.583519562981107,
          3.0561140559312787,
          -0.20429754478129303,
          0.8684452621895175,
          2.2770041400075316,
          1.697510190802443,
          6.428091329409118,
          2.2896787366140274,
          0.9018478420820325,
          -1.2435641919946872,
          -2.7341383627478737
         ]
        }
       ],
       "layout": {
        "shapes": [
         {
          "line": {
           "color": "black",
           "width": 2
          },
          "type": "line",
          "x0": "2024-01-02T00:00:00",
          "x1": "2024-05-17T00:00:00",
          "y0": 0,
          "y1": 0
         }
        ],
        "template": {
         "data": {
          "bar": [
           {
            "error_x": {
             "color": "#2a3f5f"
            },
            "error_y": {
             "color": "#2a3f5f"
            },
            "marker": {
             "line": {
              "color": "#E5ECF6",
              "width": 0.5
             },
             "pattern": {
              "fillmode": "overlay",
              "size": 10,
              "solidity": 0.2
             }
            },
            "type": "bar"
           }
          ],
          "barpolar": [
           {
            "marker": {
             "line": {
              "color": "#E5ECF6",
              "width": 0.5
             },
             "pattern": {
              "fillmode": "overlay",
              "size": 10,
              "solidity": 0.2
             }
            },
            "type": "barpolar"
           }
          ],
          "carpet": [
           {
            "aaxis": {
             "endlinecolor": "#2a3f5f",
             "gridcolor": "white",
             "linecolor": "white",
             "minorgridcolor": "white",
             "startlinecolor": "#2a3f5f"
            },
            "baxis": {
             "endlinecolor": "#2a3f5f",
             "gridcolor": "white",
             "linecolor": "white",
             "minorgridcolor": "white",
             "startlinecolor": "#2a3f5f"
            },
            "type": "carpet"
           }
          ],
          "choropleth": [
           {
            "colorbar": {
             "outlinewidth": 0,
             "ticks": ""
            },
            "type": "choropleth"
           }
          ],
          "contour": [
           {
            "colorbar": {
             "outlinewidth": 0,
             "ticks": ""
            },
            "colorscale": [
             [
              0,
              "#0d0887"
             ],
             [
              0.1111111111111111,
              "#46039f"
             ],
             [
              0.2222222222222222,
              "#7201a8"
             ],
             [
              0.3333333333333333,
              "#9c179e"
             ],
             [
              0.4444444444444444,
              "#bd3786"
             ],
             [
              0.5555555555555556,
              "#d8576b"
             ],
             [
              0.6666666666666666,
              "#ed7953"
             ],
             [
              0.7777777777777778,
              "#fb9f3a"
             ],
             [
              0.8888888888888888,
              "#fdca26"
             ],
             [
              1,
              "#f0f921"
             ]
            ],
            "type": "contour"
           }
          ],
          "contourcarpet": [
           {
            "colorbar": {
             "outlinewidth": 0,
             "ticks": ""
            },
            "type": "contourcarpet"
           }
          ],
          "heatmap": [
           {
            "colorbar": {
             "outlinewidth": 0,
             "ticks": ""
            },
            "colorscale": [
             [
              0,
              "#0d0887"
             ],
             [
              0.1111111111111111,
              "#46039f"
             ],
             [
              0.2222222222222222,
              "#7201a8"
             ],
             [
              0.3333333333333333,
              "#9c179e"
             ],
             [
              0.4444444444444444,
              "#bd3786"
             ],
             [
              0.5555555555555556,
              "#d8576b"
             ],
             [
              0.6666666666666666,
              "#ed7953"
             ],
             [
              0.7777777777777778,
              "#fb9f3a"
             ],
             [
              0.8888888888888888,
              "#fdca26"
             ],
             [
              1,
              "#f0f921"
             ]
            ],
            "type": "heatmap"
           }
          ],
          "heatmapgl": [
           {
            "colorbar": {
             "outlinewidth": 0,
             "ticks": ""
            },
            "colorscale": [
             [
              0,
              "#0d0887"
             ],
             [
              0.1111111111111111,
              "#46039f"
             ],
             [
              0.2222222222222222,
              "#7201a8"
             ],
             [
              0.3333333333333333,
              "#9c179e"
             ],
             [
              0.4444444444444444,
              "#bd3786"
             ],
             [
              0.5555555555555556,
              "#d8576b"
             ],
             [
              0.6666666666666666,
              "#ed7953"
             ],
             [
              0.7777777777777778,
              "#fb9f3a"
             ],
             [
              0.8888888888888888,
              "#fdca26"
             ],
             [
              1,
              "#f0f921"
             ]
            ],
            "type": "heatmapgl"
           }
          ],
          "histogram": [
           {
            "marker": {
             "pattern": {
              "fillmode": "overlay",
              "size": 10,
              "solidity": 0.2
             }
            },
            "type": "histogram"
           }
          ],
          "histogram2d": [
           {
            "colorbar": {
             "outlinewidth": 0,
             "ticks": ""
            },
            "colorscale": [
             [
              0,
              "#0d0887"
             ],
             [
              0.1111111111111111,
              "#46039f"
             ],
             [
              0.2222222222222222,
              "#7201a8"
             ],
             [
              0.3333333333333333,
              "#9c179e"
             ],
             [
              0.4444444444444444,
              "#bd3786"
             ],
             [
              0.5555555555555556,
              "#d8576b"
             ],
             [
              0.6666666666666666,
              "#ed7953"
             ],
             [
              0.7777777777777778,
              "#fb9f3a"
             ],
             [
              0.8888888888888888,
              "#fdca26"
             ],
             [
              1,
              "#f0f921"
             ]
            ],
            "type": "histogram2d"
           }
          ],
          "histogram2dcontour": [
           {
            "colorbar": {
             "outlinewidth": 0,
             "ticks": ""
            },
            "colorscale": [
             [
              0,
              "#0d0887"
             ],
             [
              0.1111111111111111,
              "#46039f"
             ],
             [
              0.2222222222222222,
              "#7201a8"
             ],
             [
              0.3333333333333333,
              "#9c179e"
             ],
             [
              0.4444444444444444,
              "#bd3786"
             ],
             [
              0.5555555555555556,
              "#d8576b"
             ],
             [
              0.6666666666666666,
              "#ed7953"
             ],
             [
              0.7777777777777778,
              "#fb9f3a"
             ],
             [
              0.8888888888888888,
              "#fdca26"
             ],
             [
              1,
              "#f0f921"
             ]
            ],
            "type": "histogram2dcontour"
           }
          ],
          "mesh3d": [
           {
            "colorbar": {
             "outlinewidth": 0,
             "ticks": ""
            },
            "type": "mesh3d"
           }
          ],
          "parcoords": [
           {
            "line": {
             "colorbar": {
              "outlinewidth": 0,
              "ticks": ""
             }
            },
            "type": "parcoords"
           }
          ],
          "pie": [
           {
            "automargin": true,
            "type": "pie"
           }
          ],
          "scatter": [
           {
            "marker": {
             "colorbar": {
              "outlinewidth": 0,
              "ticks": ""
             }
            },
            "type": "scatter"
           }
          ],
          "scatter3d": [
           {
            "line": {
             "colorbar": {
              "outlinewidth": 0,
              "ticks": ""
             }
            },
            "marker": {
             "colorbar": {
              "outlinewidth": 0,
              "ticks": ""
             }
            },
            "type": "scatter3d"
           }
          ],
          "scattercarpet": [
           {
            "marker": {
             "colorbar": {
              "outlinewidth": 0,
              "ticks": ""
             }
            },
            "type": "scattercarpet"
           }
          ],
          "scattergeo": [
           {
            "marker": {
             "colorbar": {
              "outlinewidth": 0,
              "ticks": ""
             }
            },
            "type": "scattergeo"
           }
          ],
          "scattergl": [
           {
            "marker": {
             "colorbar": {
              "outlinewidth": 0,
              "ticks": ""
             }
            },
            "type": "scattergl"
           }
          ],
          "scattermapbox": [
           {
            "marker": {
             "colorbar": {
              "outlinewidth": 0,
              "ticks": ""
             }
            },
            "type": "scattermapbox"
           }
          ],
          "scatterpolar": [
           {
            "marker": {
             "colorbar": {
              "outlinewidth": 0,
              "ticks": ""
             }
            },
            "type": "scatterpolar"
           }
          ],
          "scatterpolargl": [
           {
            "marker": {
             "colorbar": {
              "outlinewidth": 0,
              "ticks": ""
             }
            },
            "type": "scatterpolargl"
           }
          ],
          "scatterternary": [
           {
            "marker": {
             "colorbar": {
              "outlinewidth": 0,
              "ticks": ""
             }
            },
            "type": "scatterternary"
           }
          ],
          "surface": [
           {
            "colorbar": {
             "outlinewidth": 0,
             "ticks": ""
            },
            "colorscale": [
             [
              0,
              "#0d0887"
             ],
             [
              0.1111111111111111,
              "#46039f"
             ],
             [
              0.2222222222222222,
              "#7201a8"
             ],
             [
              0.3333333333333333,
              "#9c179e"
             ],
             [
              0.4444444444444444,
              "#bd3786"
             ],
             [
              0.5555555555555556,
              "#d8576b"
             ],
             [
              0.6666666666666666,
              "#ed7953"
             ],
             [
              0.7777777777777778,
              "#fb9f3a"
             ],
             [
              0.8888888888888888,
              "#fdca26"
             ],
             [
              1,
              "#f0f921"
             ]
            ],
            "type": "surface"
           }
          ],
          "table": [
           {
            "cells": {
             "fill": {
              "color": "#EBF0F8"
             },
             "line": {
              "color": "white"
             }
            },
            "header": {
             "fill": {
              "color": "#C8D4E3"
             },
             "line": {
              "color": "white"
             }
            },
            "type": "table"
           }
          ]
         },
         "layout": {
          "annotationdefaults": {
           "arrowcolor": "#2a3f5f",
           "arrowhead": 0,
           "arrowwidth": 1
          },
          "autotypenumbers": "strict",
          "coloraxis": {
           "colorbar": {
            "outlinewidth": 0,
            "ticks": ""
           }
          },
          "colorscale": {
           "diverging": [
            [
             0,
             "#8e0152"
            ],
            [
             0.1,
             "#c51b7d"
            ],
            [
             0.2,
             "#de77ae"
            ],
            [
             0.3,
             "#f1b6da"
            ],
            [
             0.4,
             "#fde0ef"
            ],
            [
             0.5,
             "#f7f7f7"
            ],
            [
             0.6,
             "#e6f5d0"
            ],
            [
             0.7,
             "#b8e186"
            ],
            [
             0.8,
             "#7fbc41"
            ],
            [
             0.9,
             "#4d9221"
            ],
            [
             1,
             "#276419"
            ]
           ],
           "sequential": [
            [
             0,
             "#0d0887"
            ],
            [
             0.1111111111111111,
             "#46039f"
            ],
            [
             0.2222222222222222,
             "#7201a8"
            ],
            [
             0.3333333333333333,
             "#9c179e"
            ],
            [
             0.4444444444444444,
             "#bd3786"
            ],
            [
             0.5555555555555556,
             "#d8576b"
            ],
            [
             0.6666666666666666,
             "#ed7953"
            ],
            [
             0.7777777777777778,
             "#fb9f3a"
            ],
            [
             0.8888888888888888,
             "#fdca26"
            ],
            [
             1,
             "#f0f921"
            ]
           ],
           "sequentialminus": [
            [
             0,
             "#0d0887"
            ],
            [
             0.1111111111111111,
             "#46039f"
            ],
            [
             0.2222222222222222,
             "#7201a8"
            ],
            [
             0.3333333333333333,
             "#9c179e"
            ],
            [
             0.4444444444444444,
             "#bd3786"
            ],
            [
             0.5555555555555556,
             "#d8576b"
            ],
            [
             0.6666666666666666,
             "#ed7953"
            ],
            [
             0.7777777777777778,
             "#fb9f3a"
            ],
            [
             0.8888888888888888,
             "#fdca26"
            ],
            [
             1,
             "#f0f921"
            ]
           ]
          },
          "colorway": [
           "#636efa",
           "#EF553B",
           "#00cc96",
           "#ab63fa",
           "#FFA15A",
           "#19d3f3",
           "#FF6692",
           "#B6E880",
           "#FF97FF",
           "#FECB52"
          ],
          "font": {
           "color": "#2a3f5f"
          },
          "geo": {
           "bgcolor": "white",
           "lakecolor": "white",
           "landcolor": "#E5ECF6",
           "showlakes": true,
           "showland": true,
           "subunitcolor": "white"
          },
          "hoverlabel": {
           "align": "left"
          },
          "hovermode": "closest",
          "mapbox": {
           "style": "light"
          },
          "paper_bgcolor": "white",
          "plot_bgcolor": "#E5ECF6",
          "polar": {
           "angularaxis": {
            "gridcolor": "white",
            "linecolor": "white",
            "ticks": ""
           },
           "bgcolor": "#E5ECF6",
           "radialaxis": {
            "gridcolor": "white",
            "linecolor": "white",
            "ticks": ""
           }
          },
          "scene": {
           "xaxis": {
            "backgroundcolor": "#E5ECF6",
            "gridcolor": "white",
            "gridwidth": 2,
            "linecolor": "white",
            "showbackground": true,
            "ticks": "",
            "zerolinecolor": "white"
           },
           "yaxis": {
            "backgroundcolor": "#E5ECF6",
            "gridcolor": "white",
            "gridwidth": 2,
            "linecolor": "white",
            "showbackground": true,
            "ticks": "",
            "zerolinecolor": "white"
           },
           "zaxis": {
            "backgroundcolor": "#E5ECF6",
            "gridcolor": "white",
            "gridwidth": 2,
            "linecolor": "white",
            "showbackground": true,
            "ticks": "",
            "zerolinecolor": "white"
           }
          },
          "shapedefaults": {
           "line": {
            "color": "#2a3f5f"
           }
          },
          "ternary": {
           "aaxis": {
            "gridcolor": "white",
            "linecolor": "white",
            "ticks": ""
           },
           "baxis": {
            "gridcolor": "white",
            "linecolor": "white",
            "ticks": ""
           },
           "bgcolor": "#E5ECF6",
           "caxis": {
            "gridcolor": "white",
            "linecolor": "white",
            "ticks": ""
           }
          },
          "title": {
           "x": 0.05
          },
          "xaxis": {
           "automargin": true,
           "gridcolor": "white",
           "linecolor": "white",
           "ticks": "",
           "title": {
            "standoff": 15
           },
           "zerolinecolor": "white",
           "zerolinewidth": 2
          },
          "yaxis": {
           "automargin": true,
           "gridcolor": "white",
           "linecolor": "white",
           "ticks": "",
           "title": {
            "standoff": 15
           },
           "zerolinecolor": "white",
           "zerolinewidth": 2
          }
         }
        },
        "title": {
         "text": "Variação Diária do Fechamento ao Longo do Tempo"
        },
        "xaxis": {
         "title": {
          "text": "Dia"
         }
        },
        "yaxis": {
         "title": {
          "text": "Variação Diária do Fechamento"
         }
        }
       }
      }
     },
     "metadata": {},
     "output_type": "display_data"
    }
   ],
   "source": [
    "# Convertendo a coluna 'Day' para datetime\n",
    "scatter_df['Day'] = pd.to_datetime(scatter_df['Day'])\n",
    "\n",
    "# Criando a figura\n",
    "fig = go.Figure()\n",
    "\n",
    "# Adicionando a linha com a variação diária do fechamento\n",
    "fig.add_trace(go.Scatter(x=scatter_df['Day'], y=scatter_df['Daily_Closing_Variation'], mode='lines', name='Variação Diária do Fechamento'))\n",
    "\n",
    "# Atualizando o layout para definir o eixo X na linha zero\n",
    "fig.update_layout(\n",
    "    title='Variação Diária do Fechamento ao Longo do Tempo',\n",
    "    xaxis_title='Dia',\n",
    "    yaxis_title='Variação Diária do Fechamento',\n",
    "    shapes=[dict(type='line', x0=scatter_df['Day'].min(), x1=scatter_df['Day'].max(), y0=0, y1=0, line=dict(color='black', width=2))]\n",
    ")\n",
    "\n",
    "# Mostrando o gráfico\n",
    "fig.show()"
   ]
  },
  {
   "cell_type": "code",
   "execution_count": 59,
   "metadata": {},
   "outputs": [
    {
     "data": {
      "text/plain": [
       "2024    1920\n",
       "2023      80\n",
       "Name: Year, dtype: int64"
      ]
     },
     "execution_count": 59,
     "metadata": {},
     "output_type": "execute_result"
    }
   ],
   "source": [
    "test_data['Year'].value_counts()"
   ]
  },
  {
   "cell_type": "code",
   "execution_count": 62,
   "metadata": {},
   "outputs": [
    {
     "data": {
      "text/html": [
       "<div>\n",
       "<style scoped>\n",
       "    .dataframe tbody tr th:only-of-type {\n",
       "        vertical-align: middle;\n",
       "    }\n",
       "\n",
       "    .dataframe tbody tr th {\n",
       "        vertical-align: top;\n",
       "    }\n",
       "\n",
       "    .dataframe thead th {\n",
       "        text-align: right;\n",
       "    }\n",
       "</style>\n",
       "<table border=\"1\" class=\"dataframe\">\n",
       "  <thead>\n",
       "    <tr style=\"text-align: right;\">\n",
       "      <th></th>\n",
       "      <th>Company_Name</th>\n",
       "      <th>Stock_Code</th>\n",
       "      <th>Day</th>\n",
       "      <th>WeekDay</th>\n",
       "      <th>Week</th>\n",
       "      <th>Month</th>\n",
       "      <th>Month_Name</th>\n",
       "      <th>Quarter</th>\n",
       "      <th>Opening_Value</th>\n",
       "      <th>Highest_Value</th>\n",
       "      <th>Lowest_Value</th>\n",
       "      <th>Closing_Value</th>\n",
       "      <th>Volume</th>\n",
       "      <th>Daily_Closing_Variation</th>\n",
       "      <th>Year</th>\n",
       "    </tr>\n",
       "  </thead>\n",
       "  <tbody>\n",
       "    <tr>\n",
       "      <th>0</th>\n",
       "      <td>Apple</td>\n",
       "      <td>AAPL</td>\n",
       "      <td>2024-05-17</td>\n",
       "      <td>Friday</td>\n",
       "      <td>20</td>\n",
       "      <td>5</td>\n",
       "      <td>May</td>\n",
       "      <td>2</td>\n",
       "      <td>189.510</td>\n",
       "      <td>190.810</td>\n",
       "      <td>189.1800</td>\n",
       "      <td>189.87</td>\n",
       "      <td>41282925</td>\n",
       "      <td>0.01580278128950755</td>\n",
       "      <td>2024</td>\n",
       "    </tr>\n",
       "    <tr>\n",
       "      <th>1</th>\n",
       "      <td>Apple</td>\n",
       "      <td>AAPL</td>\n",
       "      <td>2024-05-16</td>\n",
       "      <td>Thursday</td>\n",
       "      <td>20</td>\n",
       "      <td>5</td>\n",
       "      <td>May</td>\n",
       "      <td>2</td>\n",
       "      <td>190.470</td>\n",
       "      <td>191.095</td>\n",
       "      <td>189.6601</td>\n",
       "      <td>189.84</td>\n",
       "      <td>52845230</td>\n",
       "      <td>0.06325110689437305</td>\n",
       "      <td>2024</td>\n",
       "    </tr>\n",
       "    <tr>\n",
       "      <th>2</th>\n",
       "      <td>Apple</td>\n",
       "      <td>AAPL</td>\n",
       "      <td>2024-05-15</td>\n",
       "      <td>Wednesday</td>\n",
       "      <td>20</td>\n",
       "      <td>5</td>\n",
       "      <td>May</td>\n",
       "      <td>2</td>\n",
       "      <td>187.910</td>\n",
       "      <td>190.650</td>\n",
       "      <td>187.3700</td>\n",
       "      <td>189.72</td>\n",
       "      <td>70399988</td>\n",
       "      <td>1.2217894680680745</td>\n",
       "      <td>2024</td>\n",
       "    </tr>\n",
       "    <tr>\n",
       "      <th>3</th>\n",
       "      <td>Apple</td>\n",
       "      <td>AAPL</td>\n",
       "      <td>2024-05-14</td>\n",
       "      <td>Tuesday</td>\n",
       "      <td>20</td>\n",
       "      <td>5</td>\n",
       "      <td>May</td>\n",
       "      <td>2</td>\n",
       "      <td>187.510</td>\n",
       "      <td>188.300</td>\n",
       "      <td>186.2900</td>\n",
       "      <td>187.43</td>\n",
       "      <td>52393619</td>\n",
       "      <td>0.6173502254670419</td>\n",
       "      <td>2024</td>\n",
       "    </tr>\n",
       "    <tr>\n",
       "      <th>4</th>\n",
       "      <td>Apple</td>\n",
       "      <td>AAPL</td>\n",
       "      <td>2024-05-13</td>\n",
       "      <td>Monday</td>\n",
       "      <td>20</td>\n",
       "      <td>5</td>\n",
       "      <td>May</td>\n",
       "      <td>2</td>\n",
       "      <td>185.435</td>\n",
       "      <td>187.100</td>\n",
       "      <td>184.6200</td>\n",
       "      <td>186.28</td>\n",
       "      <td>72044809</td>\n",
       "      <td>1.7645452062278009</td>\n",
       "      <td>2024</td>\n",
       "    </tr>\n",
       "  </tbody>\n",
       "</table>\n",
       "</div>"
      ],
      "text/plain": [
       "  Company_Name Stock_Code         Day    WeekDay  Week  Month Month_Name  \\\n",
       "0        Apple       AAPL  2024-05-17     Friday    20      5        May   \n",
       "1        Apple       AAPL  2024-05-16   Thursday    20      5        May   \n",
       "2        Apple       AAPL  2024-05-15  Wednesday    20      5        May   \n",
       "3        Apple       AAPL  2024-05-14    Tuesday    20      5        May   \n",
       "4        Apple       AAPL  2024-05-13     Monday    20      5        May   \n",
       "\n",
       "   Quarter  Opening_Value  Highest_Value  Lowest_Value  Closing_Value  \\\n",
       "0        2        189.510        190.810      189.1800         189.87   \n",
       "1        2        190.470        191.095      189.6601         189.84   \n",
       "2        2        187.910        190.650      187.3700         189.72   \n",
       "3        2        187.510        188.300      186.2900         187.43   \n",
       "4        2        185.435        187.100      184.6200         186.28   \n",
       "\n",
       "     Volume Daily_Closing_Variation  Year  \n",
       "0  41282925     0.01580278128950755  2024  \n",
       "1  52845230     0.06325110689437305  2024  \n",
       "2  70399988      1.2217894680680745  2024  \n",
       "3  52393619      0.6173502254670419  2024  \n",
       "4  72044809      1.7645452062278009  2024  "
      ]
     },
     "execution_count": 62,
     "metadata": {},
     "output_type": "execute_result"
    }
   ],
   "source": [
    "test_data.head()"
   ]
  },
  {
   "cell_type": "code",
   "execution_count": 61,
   "metadata": {},
   "outputs": [
    {
     "data": {
      "text/html": [
       "<div>\n",
       "<style scoped>\n",
       "    .dataframe tbody tr th:only-of-type {\n",
       "        vertical-align: middle;\n",
       "    }\n",
       "\n",
       "    .dataframe tbody tr th {\n",
       "        vertical-align: top;\n",
       "    }\n",
       "\n",
       "    .dataframe thead th {\n",
       "        text-align: right;\n",
       "    }\n",
       "</style>\n",
       "<table border=\"1\" class=\"dataframe\">\n",
       "  <thead>\n",
       "    <tr style=\"text-align: right;\">\n",
       "      <th></th>\n",
       "      <th>Company_Name</th>\n",
       "      <th>Stock_Code</th>\n",
       "      <th>Day</th>\n",
       "      <th>WeekDay</th>\n",
       "      <th>Week</th>\n",
       "      <th>Month</th>\n",
       "      <th>Month_Name</th>\n",
       "      <th>Quarter</th>\n",
       "      <th>Opening_Value</th>\n",
       "      <th>Highest_Value</th>\n",
       "      <th>Lowest_Value</th>\n",
       "      <th>Closing_Value</th>\n",
       "      <th>Volume</th>\n",
       "      <th>Daily_Closing_Variation</th>\n",
       "      <th>Year</th>\n",
       "    </tr>\n",
       "  </thead>\n",
       "  <tbody>\n",
       "    <tr>\n",
       "      <th>0</th>\n",
       "      <td>Apple</td>\n",
       "      <td>AAPL</td>\n",
       "      <td>2024-05-17</td>\n",
       "      <td>Friday</td>\n",
       "      <td>20</td>\n",
       "      <td>5</td>\n",
       "      <td>May</td>\n",
       "      <td>2</td>\n",
       "      <td>189.510</td>\n",
       "      <td>190.810</td>\n",
       "      <td>189.1800</td>\n",
       "      <td>189.87</td>\n",
       "      <td>41282925</td>\n",
       "      <td>0.01580278128950755</td>\n",
       "      <td>2024</td>\n",
       "    </tr>\n",
       "    <tr>\n",
       "      <th>1</th>\n",
       "      <td>Apple</td>\n",
       "      <td>AAPL</td>\n",
       "      <td>2024-05-16</td>\n",
       "      <td>Thursday</td>\n",
       "      <td>20</td>\n",
       "      <td>5</td>\n",
       "      <td>May</td>\n",
       "      <td>2</td>\n",
       "      <td>190.470</td>\n",
       "      <td>191.095</td>\n",
       "      <td>189.6601</td>\n",
       "      <td>189.84</td>\n",
       "      <td>52845230</td>\n",
       "      <td>0.06325110689437305</td>\n",
       "      <td>2024</td>\n",
       "    </tr>\n",
       "    <tr>\n",
       "      <th>2</th>\n",
       "      <td>Apple</td>\n",
       "      <td>AAPL</td>\n",
       "      <td>2024-05-15</td>\n",
       "      <td>Wednesday</td>\n",
       "      <td>20</td>\n",
       "      <td>5</td>\n",
       "      <td>May</td>\n",
       "      <td>2</td>\n",
       "      <td>187.910</td>\n",
       "      <td>190.650</td>\n",
       "      <td>187.3700</td>\n",
       "      <td>189.72</td>\n",
       "      <td>70399988</td>\n",
       "      <td>1.2217894680680745</td>\n",
       "      <td>2024</td>\n",
       "    </tr>\n",
       "    <tr>\n",
       "      <th>3</th>\n",
       "      <td>Apple</td>\n",
       "      <td>AAPL</td>\n",
       "      <td>2024-05-14</td>\n",
       "      <td>Tuesday</td>\n",
       "      <td>20</td>\n",
       "      <td>5</td>\n",
       "      <td>May</td>\n",
       "      <td>2</td>\n",
       "      <td>187.510</td>\n",
       "      <td>188.300</td>\n",
       "      <td>186.2900</td>\n",
       "      <td>187.43</td>\n",
       "      <td>52393619</td>\n",
       "      <td>0.6173502254670419</td>\n",
       "      <td>2024</td>\n",
       "    </tr>\n",
       "    <tr>\n",
       "      <th>4</th>\n",
       "      <td>Apple</td>\n",
       "      <td>AAPL</td>\n",
       "      <td>2024-05-13</td>\n",
       "      <td>Monday</td>\n",
       "      <td>20</td>\n",
       "      <td>5</td>\n",
       "      <td>May</td>\n",
       "      <td>2</td>\n",
       "      <td>185.435</td>\n",
       "      <td>187.100</td>\n",
       "      <td>184.6200</td>\n",
       "      <td>186.28</td>\n",
       "      <td>72044809</td>\n",
       "      <td>1.7645452062278009</td>\n",
       "      <td>2024</td>\n",
       "    </tr>\n",
       "  </tbody>\n",
       "</table>\n",
       "</div>"
      ],
      "text/plain": [
       "  Company_Name Stock_Code         Day    WeekDay  Week  Month Month_Name  \\\n",
       "0        Apple       AAPL  2024-05-17     Friday    20      5        May   \n",
       "1        Apple       AAPL  2024-05-16   Thursday    20      5        May   \n",
       "2        Apple       AAPL  2024-05-15  Wednesday    20      5        May   \n",
       "3        Apple       AAPL  2024-05-14    Tuesday    20      5        May   \n",
       "4        Apple       AAPL  2024-05-13     Monday    20      5        May   \n",
       "\n",
       "   Quarter  Opening_Value  Highest_Value  Lowest_Value  Closing_Value  \\\n",
       "0        2        189.510        190.810      189.1800         189.87   \n",
       "1        2        190.470        191.095      189.6601         189.84   \n",
       "2        2        187.910        190.650      187.3700         189.72   \n",
       "3        2        187.510        188.300      186.2900         187.43   \n",
       "4        2        185.435        187.100      184.6200         186.28   \n",
       "\n",
       "     Volume Daily_Closing_Variation  Year  \n",
       "0  41282925     0.01580278128950755  2024  \n",
       "1  52845230     0.06325110689437305  2024  \n",
       "2  70399988      1.2217894680680745  2024  \n",
       "3  52393619      0.6173502254670419  2024  \n",
       "4  72044809      1.7645452062278009  2024  "
      ]
     },
     "execution_count": 61,
     "metadata": {},
     "output_type": "execute_result"
    }
   ],
   "source": [
    "test_data.head()"
   ]
  },
  {
   "cell_type": "code",
   "execution_count": 55,
   "metadata": {},
   "outputs": [
    {
     "data": {
      "application/vnd.plotly.v1+json": {
       "config": {
        "plotlyServerURL": "https://plot.ly"
       },
       "data": [
        {
         "boxmean": true,
         "name": "TSLA",
         "type": "box",
         "y": [
          177.46,
          174.84,
          173.99,
          177.55,
          171.89,
          168.47,
          171.97,
          174.72,
          177.81,
          184.76,
          181.19,
          180.01,
          179.99,
          183.28,
          194.05,
          168.29,
          170.18,
          162.13,
          144.68,
          142.05,
          147.05,
          149.93,
          155.45,
          157.11,
          161.48,
          171.05,
          174.6,
          171.76,
          176.88,
          172.98,
          164.9,
          171.11,
          168.38,
          166.63,
          175.22,
          175.79,
          179.83,
          177.67,
          172.63,
          170.83,
          172.82,
          175.66,
          171.32,
          173.8,
          163.57,
          162.5,
          169.48,
          177.54,
          177.77,
          175.34,
          178.65,
          176.54,
          180.74,
          188.14,
          202.64,
          201.88,
          202.04,
          199.73,
          199.4,
          191.97,
          197.41,
          194.77,
          193.76,
          199.95,
          200.45,
          188.71,
          184.02,
          188.13,
          193.57,
          189.56,
          187.58,
          185.1,
          181.06,
          187.91,
          188.86,
          187.29,
          191.59,
          190.93,
          183.25,
          182.63,
          207.83,
          209.14,
          208.8,
          212.19,
          211.88,
          215.55,
          219.91,
          218.89,
          227.22,
          233.94,
          234.96,
          240.45,
          237.49,
          237.93,
          238.45,
          248.42,
          248.48,
          253.18,
          261.44,
          256.61
         ]
        },
        {
         "boxmean": true,
         "name": "AAPL",
         "type": "box",
         "y": [
          189.87,
          189.84,
          189.72,
          187.43,
          186.28,
          183.05,
          184.57,
          182.74,
          182.4,
          181.71,
          183.38,
          173.03,
          169.3,
          170.33,
          173.5,
          169.3,
          169.89,
          169.02,
          166.9,
          165.84,
          165,
          167.04,
          168,
          169.38,
          172.69,
          176.55,
          175.04,
          167.78,
          169.67,
          168.45,
          169.58,
          168.82,
          169.65,
          168.84,
          170.03,
          171.48,
          173.31,
          169.71,
          170.85,
          172.28,
          171.37,
          178.67,
          176.08,
          173.72,
          172.62,
          173,
          171.13,
          173.23,
          172.75,
          170.73,
          169,
          169.12,
          170.12,
          175.1,
          179.66,
          180.75,
          181.42,
          182.63,
          181.16,
          182.52,
          184.37,
          182.32,
          181.56,
          182.31,
          183.86,
          184.15,
          185.04,
          187.15,
          188.85,
          188.32,
          189.41,
          189.3,
          187.68,
          185.85,
          186.86,
          184.4,
          188.04,
          191.73,
          192.42,
          194.17,
          194.5,
          195.18,
          193.89,
          191.56,
          188.63,
          182.68,
          183.63,
          185.92,
          185.59,
          186.19,
          185.14,
          185.56,
          181.18,
          181.91,
          184.25,
          185.64,
          192.53,
          193.58,
          193.15,
          193.05
         ]
        },
        {
         "boxmean": true,
         "name": "NVDA",
         "type": "box",
         "y": [
          924.79,
          943.59,
          946.3,
          913.56,
          903.99,
          898.78,
          887.47,
          904.12,
          905.54,
          921.4,
          887.89,
          858.17,
          830.41,
          864.02,
          877.57,
          877.35,
          826.32,
          796.77,
          824.23,
          795.18,
          762,
          846.71,
          840.35,
          874.15,
          860.01,
          881.86,
          906.16,
          870.39,
          853.54,
          871.33,
          880.08,
          859.05,
          889.64,
          894.52,
          903.63,
          903.56,
          902.5,
          925.61,
          950.02,
          942.89,
          914.35,
          903.72,
          893.98,
          884.55,
          878.365,
          879.44,
          908.88,
          919.13,
          857.74,
          875.28,
          926.69,
          887,
          859.64,
          852.37,
          822.79,
          791.12,
          776.63,
          787.01,
          790.92,
          788.17,
          785.38,
          674.72,
          694.52,
          726.13,
          726.58,
          739,
          721.28,
          722.48,
          721.33,
          696.41,
          700.99,
          682.23,
          693.32,
          661.6,
          630.27,
          615.27,
          627.74,
          624.65,
          610.31,
          616.17,
          613.62,
          598.73,
          596.54,
          594.91,
          571.07,
          560.53,
          563.82,
          547.1,
          548.22,
          543.5,
          531.4,
          522.53,
          490.97,
          479.98,
          475.69,
          481.68,
          495.22,
          495.22,
          494.17,
          492.79
         ]
        },
        {
         "boxmean": true,
         "name": "AMZN",
         "type": "box",
         "y": [
          184.7,
          183.63,
          185.99,
          187.07,
          186.57,
          187.48,
          189.5,
          188,
          188.76,
          188.7,
          186.21,
          184.72,
          179,
          175,
          180.96,
          179.62,
          173.67,
          176.59,
          179.54,
          177.23,
          174.63,
          179.22,
          181.28,
          183.32,
          183.62,
          186.13,
          189.05,
          185.95,
          185.67,
          185.19,
          185.07,
          180,
          182.41,
          180.69,
          180.97,
          180.38,
          179.83,
          178.3,
          179.71,
          178.87,
          178.15,
          178.15,
          175.9,
          174.48,
          174.42,
          178.75,
          176.555,
          175.39,
          171.96,
          175.35,
          176.82,
          173.51,
          174.12,
          177.58,
          178.22,
          176.76,
          173.16,
          173.54,
          174.73,
          174.99,
          174.58,
          168.59,
          167.08,
          169.51,
          169.8,
          170.98,
          168.64,
          172.34,
          174.45,
          169.84,
          170.53,
          169.15,
          170.31,
          171.81,
          159.28,
          155.2,
          159,
          161.26,
          159.12,
          157.75,
          156.87,
          156.02,
          154.78,
          155.34,
          153.5,
          151.71,
          153.16,
          154.62,
          155.18,
          153.73,
          151.37,
          149.1,
          145.24,
          144.57,
          148.47,
          149.93,
          151.94,
          153.38,
          153.34,
          153.41
         ]
        }
       ],
       "layout": {
        "template": {
         "data": {
          "bar": [
           {
            "error_x": {
             "color": "#2a3f5f"
            },
            "error_y": {
             "color": "#2a3f5f"
            },
            "marker": {
             "line": {
              "color": "#E5ECF6",
              "width": 0.5
             },
             "pattern": {
              "fillmode": "overlay",
              "size": 10,
              "solidity": 0.2
             }
            },
            "type": "bar"
           }
          ],
          "barpolar": [
           {
            "marker": {
             "line": {
              "color": "#E5ECF6",
              "width": 0.5
             },
             "pattern": {
              "fillmode": "overlay",
              "size": 10,
              "solidity": 0.2
             }
            },
            "type": "barpolar"
           }
          ],
          "carpet": [
           {
            "aaxis": {
             "endlinecolor": "#2a3f5f",
             "gridcolor": "white",
             "linecolor": "white",
             "minorgridcolor": "white",
             "startlinecolor": "#2a3f5f"
            },
            "baxis": {
             "endlinecolor": "#2a3f5f",
             "gridcolor": "white",
             "linecolor": "white",
             "minorgridcolor": "white",
             "startlinecolor": "#2a3f5f"
            },
            "type": "carpet"
           }
          ],
          "choropleth": [
           {
            "colorbar": {
             "outlinewidth": 0,
             "ticks": ""
            },
            "type": "choropleth"
           }
          ],
          "contour": [
           {
            "colorbar": {
             "outlinewidth": 0,
             "ticks": ""
            },
            "colorscale": [
             [
              0,
              "#0d0887"
             ],
             [
              0.1111111111111111,
              "#46039f"
             ],
             [
              0.2222222222222222,
              "#7201a8"
             ],
             [
              0.3333333333333333,
              "#9c179e"
             ],
             [
              0.4444444444444444,
              "#bd3786"
             ],
             [
              0.5555555555555556,
              "#d8576b"
             ],
             [
              0.6666666666666666,
              "#ed7953"
             ],
             [
              0.7777777777777778,
              "#fb9f3a"
             ],
             [
              0.8888888888888888,
              "#fdca26"
             ],
             [
              1,
              "#f0f921"
             ]
            ],
            "type": "contour"
           }
          ],
          "contourcarpet": [
           {
            "colorbar": {
             "outlinewidth": 0,
             "ticks": ""
            },
            "type": "contourcarpet"
           }
          ],
          "heatmap": [
           {
            "colorbar": {
             "outlinewidth": 0,
             "ticks": ""
            },
            "colorscale": [
             [
              0,
              "#0d0887"
             ],
             [
              0.1111111111111111,
              "#46039f"
             ],
             [
              0.2222222222222222,
              "#7201a8"
             ],
             [
              0.3333333333333333,
              "#9c179e"
             ],
             [
              0.4444444444444444,
              "#bd3786"
             ],
             [
              0.5555555555555556,
              "#d8576b"
             ],
             [
              0.6666666666666666,
              "#ed7953"
             ],
             [
              0.7777777777777778,
              "#fb9f3a"
             ],
             [
              0.8888888888888888,
              "#fdca26"
             ],
             [
              1,
              "#f0f921"
             ]
            ],
            "type": "heatmap"
           }
          ],
          "heatmapgl": [
           {
            "colorbar": {
             "outlinewidth": 0,
             "ticks": ""
            },
            "colorscale": [
             [
              0,
              "#0d0887"
             ],
             [
              0.1111111111111111,
              "#46039f"
             ],
             [
              0.2222222222222222,
              "#7201a8"
             ],
             [
              0.3333333333333333,
              "#9c179e"
             ],
             [
              0.4444444444444444,
              "#bd3786"
             ],
             [
              0.5555555555555556,
              "#d8576b"
             ],
             [
              0.6666666666666666,
              "#ed7953"
             ],
             [
              0.7777777777777778,
              "#fb9f3a"
             ],
             [
              0.8888888888888888,
              "#fdca26"
             ],
             [
              1,
              "#f0f921"
             ]
            ],
            "type": "heatmapgl"
           }
          ],
          "histogram": [
           {
            "marker": {
             "pattern": {
              "fillmode": "overlay",
              "size": 10,
              "solidity": 0.2
             }
            },
            "type": "histogram"
           }
          ],
          "histogram2d": [
           {
            "colorbar": {
             "outlinewidth": 0,
             "ticks": ""
            },
            "colorscale": [
             [
              0,
              "#0d0887"
             ],
             [
              0.1111111111111111,
              "#46039f"
             ],
             [
              0.2222222222222222,
              "#7201a8"
             ],
             [
              0.3333333333333333,
              "#9c179e"
             ],
             [
              0.4444444444444444,
              "#bd3786"
             ],
             [
              0.5555555555555556,
              "#d8576b"
             ],
             [
              0.6666666666666666,
              "#ed7953"
             ],
             [
              0.7777777777777778,
              "#fb9f3a"
             ],
             [
              0.8888888888888888,
              "#fdca26"
             ],
             [
              1,
              "#f0f921"
             ]
            ],
            "type": "histogram2d"
           }
          ],
          "histogram2dcontour": [
           {
            "colorbar": {
             "outlinewidth": 0,
             "ticks": ""
            },
            "colorscale": [
             [
              0,
              "#0d0887"
             ],
             [
              0.1111111111111111,
              "#46039f"
             ],
             [
              0.2222222222222222,
              "#7201a8"
             ],
             [
              0.3333333333333333,
              "#9c179e"
             ],
             [
              0.4444444444444444,
              "#bd3786"
             ],
             [
              0.5555555555555556,
              "#d8576b"
             ],
             [
              0.6666666666666666,
              "#ed7953"
             ],
             [
              0.7777777777777778,
              "#fb9f3a"
             ],
             [
              0.8888888888888888,
              "#fdca26"
             ],
             [
              1,
              "#f0f921"
             ]
            ],
            "type": "histogram2dcontour"
           }
          ],
          "mesh3d": [
           {
            "colorbar": {
             "outlinewidth": 0,
             "ticks": ""
            },
            "type": "mesh3d"
           }
          ],
          "parcoords": [
           {
            "line": {
             "colorbar": {
              "outlinewidth": 0,
              "ticks": ""
             }
            },
            "type": "parcoords"
           }
          ],
          "pie": [
           {
            "automargin": true,
            "type": "pie"
           }
          ],
          "scatter": [
           {
            "marker": {
             "colorbar": {
              "outlinewidth": 0,
              "ticks": ""
             }
            },
            "type": "scatter"
           }
          ],
          "scatter3d": [
           {
            "line": {
             "colorbar": {
              "outlinewidth": 0,
              "ticks": ""
             }
            },
            "marker": {
             "colorbar": {
              "outlinewidth": 0,
              "ticks": ""
             }
            },
            "type": "scatter3d"
           }
          ],
          "scattercarpet": [
           {
            "marker": {
             "colorbar": {
              "outlinewidth": 0,
              "ticks": ""
             }
            },
            "type": "scattercarpet"
           }
          ],
          "scattergeo": [
           {
            "marker": {
             "colorbar": {
              "outlinewidth": 0,
              "ticks": ""
             }
            },
            "type": "scattergeo"
           }
          ],
          "scattergl": [
           {
            "marker": {
             "colorbar": {
              "outlinewidth": 0,
              "ticks": ""
             }
            },
            "type": "scattergl"
           }
          ],
          "scattermapbox": [
           {
            "marker": {
             "colorbar": {
              "outlinewidth": 0,
              "ticks": ""
             }
            },
            "type": "scattermapbox"
           }
          ],
          "scatterpolar": [
           {
            "marker": {
             "colorbar": {
              "outlinewidth": 0,
              "ticks": ""
             }
            },
            "type": "scatterpolar"
           }
          ],
          "scatterpolargl": [
           {
            "marker": {
             "colorbar": {
              "outlinewidth": 0,
              "ticks": ""
             }
            },
            "type": "scatterpolargl"
           }
          ],
          "scatterternary": [
           {
            "marker": {
             "colorbar": {
              "outlinewidth": 0,
              "ticks": ""
             }
            },
            "type": "scatterternary"
           }
          ],
          "surface": [
           {
            "colorbar": {
             "outlinewidth": 0,
             "ticks": ""
            },
            "colorscale": [
             [
              0,
              "#0d0887"
             ],
             [
              0.1111111111111111,
              "#46039f"
             ],
             [
              0.2222222222222222,
              "#7201a8"
             ],
             [
              0.3333333333333333,
              "#9c179e"
             ],
             [
              0.4444444444444444,
              "#bd3786"
             ],
             [
              0.5555555555555556,
              "#d8576b"
             ],
             [
              0.6666666666666666,
              "#ed7953"
             ],
             [
              0.7777777777777778,
              "#fb9f3a"
             ],
             [
              0.8888888888888888,
              "#fdca26"
             ],
             [
              1,
              "#f0f921"
             ]
            ],
            "type": "surface"
           }
          ],
          "table": [
           {
            "cells": {
             "fill": {
              "color": "#EBF0F8"
             },
             "line": {
              "color": "white"
             }
            },
            "header": {
             "fill": {
              "color": "#C8D4E3"
             },
             "line": {
              "color": "white"
             }
            },
            "type": "table"
           }
          ]
         },
         "layout": {
          "annotationdefaults": {
           "arrowcolor": "#2a3f5f",
           "arrowhead": 0,
           "arrowwidth": 1
          },
          "autotypenumbers": "strict",
          "coloraxis": {
           "colorbar": {
            "outlinewidth": 0,
            "ticks": ""
           }
          },
          "colorscale": {
           "diverging": [
            [
             0,
             "#8e0152"
            ],
            [
             0.1,
             "#c51b7d"
            ],
            [
             0.2,
             "#de77ae"
            ],
            [
             0.3,
             "#f1b6da"
            ],
            [
             0.4,
             "#fde0ef"
            ],
            [
             0.5,
             "#f7f7f7"
            ],
            [
             0.6,
             "#e6f5d0"
            ],
            [
             0.7,
             "#b8e186"
            ],
            [
             0.8,
             "#7fbc41"
            ],
            [
             0.9,
             "#4d9221"
            ],
            [
             1,
             "#276419"
            ]
           ],
           "sequential": [
            [
             0,
             "#0d0887"
            ],
            [
             0.1111111111111111,
             "#46039f"
            ],
            [
             0.2222222222222222,
             "#7201a8"
            ],
            [
             0.3333333333333333,
             "#9c179e"
            ],
            [
             0.4444444444444444,
             "#bd3786"
            ],
            [
             0.5555555555555556,
             "#d8576b"
            ],
            [
             0.6666666666666666,
             "#ed7953"
            ],
            [
             0.7777777777777778,
             "#fb9f3a"
            ],
            [
             0.8888888888888888,
             "#fdca26"
            ],
            [
             1,
             "#f0f921"
            ]
           ],
           "sequentialminus": [
            [
             0,
             "#0d0887"
            ],
            [
             0.1111111111111111,
             "#46039f"
            ],
            [
             0.2222222222222222,
             "#7201a8"
            ],
            [
             0.3333333333333333,
             "#9c179e"
            ],
            [
             0.4444444444444444,
             "#bd3786"
            ],
            [
             0.5555555555555556,
             "#d8576b"
            ],
            [
             0.6666666666666666,
             "#ed7953"
            ],
            [
             0.7777777777777778,
             "#fb9f3a"
            ],
            [
             0.8888888888888888,
             "#fdca26"
            ],
            [
             1,
             "#f0f921"
            ]
           ]
          },
          "colorway": [
           "#636efa",
           "#EF553B",
           "#00cc96",
           "#ab63fa",
           "#FFA15A",
           "#19d3f3",
           "#FF6692",
           "#B6E880",
           "#FF97FF",
           "#FECB52"
          ],
          "font": {
           "color": "#2a3f5f"
          },
          "geo": {
           "bgcolor": "white",
           "lakecolor": "white",
           "landcolor": "#E5ECF6",
           "showlakes": true,
           "showland": true,
           "subunitcolor": "white"
          },
          "hoverlabel": {
           "align": "left"
          },
          "hovermode": "closest",
          "mapbox": {
           "style": "light"
          },
          "paper_bgcolor": "white",
          "plot_bgcolor": "#E5ECF6",
          "polar": {
           "angularaxis": {
            "gridcolor": "white",
            "linecolor": "white",
            "ticks": ""
           },
           "bgcolor": "#E5ECF6",
           "radialaxis": {
            "gridcolor": "white",
            "linecolor": "white",
            "ticks": ""
           }
          },
          "scene": {
           "xaxis": {
            "backgroundcolor": "#E5ECF6",
            "gridcolor": "white",
            "gridwidth": 2,
            "linecolor": "white",
            "showbackground": true,
            "ticks": "",
            "zerolinecolor": "white"
           },
           "yaxis": {
            "backgroundcolor": "#E5ECF6",
            "gridcolor": "white",
            "gridwidth": 2,
            "linecolor": "white",
            "showbackground": true,
            "ticks": "",
            "zerolinecolor": "white"
           },
           "zaxis": {
            "backgroundcolor": "#E5ECF6",
            "gridcolor": "white",
            "gridwidth": 2,
            "linecolor": "white",
            "showbackground": true,
            "ticks": "",
            "zerolinecolor": "white"
           }
          },
          "shapedefaults": {
           "line": {
            "color": "#2a3f5f"
           }
          },
          "ternary": {
           "aaxis": {
            "gridcolor": "white",
            "linecolor": "white",
            "ticks": ""
           },
           "baxis": {
            "gridcolor": "white",
            "linecolor": "white",
            "ticks": ""
           },
           "bgcolor": "#E5ECF6",
           "caxis": {
            "gridcolor": "white",
            "linecolor": "white",
            "ticks": ""
           }
          },
          "title": {
           "x": 0.05
          },
          "xaxis": {
           "automargin": true,
           "gridcolor": "white",
           "linecolor": "white",
           "ticks": "",
           "title": {
            "standoff": 15
           },
           "zerolinecolor": "white",
           "zerolinewidth": 2
          },
          "yaxis": {
           "automargin": true,
           "gridcolor": "white",
           "linecolor": "white",
           "ticks": "",
           "title": {
            "standoff": 15
           },
           "zerolinecolor": "white",
           "zerolinewidth": 2
          }
         }
        }
       }
      }
     },
     "metadata": {},
     "output_type": "display_data"
    }
   ],
   "source": [
    "fig = go.Figure()\n",
    "\n",
    "# Adicionar boxplots para cada stock\n",
    "for stock in test_data[test_data['Day'] == '2024-05-17'].nlargest(4,['Volume'])['Stock_Code'].unique():\n",
    "    fig.add_trace(go.Box(\n",
    "        y=test_data[test_data['Stock_Code'] == stock]['Closing_Value'],\n",
    "        name=stock,\n",
    "        boxmean=True  # Adiciona uma linha para a média\n",
    "    ))\n",
    "\n",
    "fig.show()"
   ]
  },
  {
   "cell_type": "markdown",
   "metadata": {},
   "source": [
    "<h1>Novas Modificações no DataFrame</h1>"
   ]
  },
  {
   "cell_type": "code",
   "execution_count": 2,
   "metadata": {},
   "outputs": [],
   "source": [
    "novo_df = pd.read_csv(\"../data/processed/stock_market_v2.csv\")"
   ]
  },
  {
   "cell_type": "code",
   "execution_count": 7,
   "metadata": {},
   "outputs": [
    {
     "data": {
      "text/plain": [
       "'2024-01-02'"
      ]
     },
     "execution_count": 7,
     "metadata": {},
     "output_type": "execute_result"
    }
   ],
   "source": [
    "novo_df[novo_df['Year']==2024]['Day'].min()"
   ]
  },
  {
   "cell_type": "code",
   "execution_count": 13,
   "metadata": {},
   "outputs": [
    {
     "data": {
      "text/plain": [
       "'2023-12-29'"
      ]
     },
     "execution_count": 13,
     "metadata": {},
     "output_type": "execute_result"
    }
   ],
   "source": [
    "novo_df[(novo_df['Company_Name'] == 'Microsoft') & (novo_df['Year'] == 2023)]['Day'].max()"
   ]
  },
  {
   "cell_type": "code",
   "execution_count": 8,
   "metadata": {},
   "outputs": [
    {
     "data": {
      "text/html": [
       "<div>\n",
       "<style scoped>\n",
       "    .dataframe tbody tr th:only-of-type {\n",
       "        vertical-align: middle;\n",
       "    }\n",
       "\n",
       "    .dataframe tbody tr th {\n",
       "        vertical-align: top;\n",
       "    }\n",
       "\n",
       "    .dataframe thead th {\n",
       "        text-align: right;\n",
       "    }\n",
       "</style>\n",
       "<table border=\"1\" class=\"dataframe\">\n",
       "  <thead>\n",
       "    <tr style=\"text-align: right;\">\n",
       "      <th></th>\n",
       "      <th>Company_Name</th>\n",
       "      <th>Stock_Code</th>\n",
       "      <th>Day</th>\n",
       "      <th>WeekDay</th>\n",
       "      <th>Week</th>\n",
       "      <th>Month</th>\n",
       "      <th>Month_Name</th>\n",
       "      <th>Quarter</th>\n",
       "      <th>Opening_Value</th>\n",
       "      <th>Highest_Value</th>\n",
       "      <th>Lowest_Value</th>\n",
       "      <th>Closing_Value</th>\n",
       "      <th>Volume</th>\n",
       "      <th>Daily_Closing_Variation</th>\n",
       "      <th>Year</th>\n",
       "    </tr>\n",
       "  </thead>\n",
       "  <tbody>\n",
       "    <tr>\n",
       "      <th>0</th>\n",
       "      <td>Apple</td>\n",
       "      <td>AAPL</td>\n",
       "      <td>2024-05-17</td>\n",
       "      <td>Friday</td>\n",
       "      <td>20</td>\n",
       "      <td>5</td>\n",
       "      <td>May</td>\n",
       "      <td>2</td>\n",
       "      <td>189.510</td>\n",
       "      <td>190.810</td>\n",
       "      <td>189.1800</td>\n",
       "      <td>189.87</td>\n",
       "      <td>41282925</td>\n",
       "      <td>0.01580278128950755</td>\n",
       "      <td>2024</td>\n",
       "    </tr>\n",
       "    <tr>\n",
       "      <th>1</th>\n",
       "      <td>Apple</td>\n",
       "      <td>AAPL</td>\n",
       "      <td>2024-05-16</td>\n",
       "      <td>Thursday</td>\n",
       "      <td>20</td>\n",
       "      <td>5</td>\n",
       "      <td>May</td>\n",
       "      <td>2</td>\n",
       "      <td>190.470</td>\n",
       "      <td>191.095</td>\n",
       "      <td>189.6601</td>\n",
       "      <td>189.84</td>\n",
       "      <td>52845230</td>\n",
       "      <td>0.06325110689437305</td>\n",
       "      <td>2024</td>\n",
       "    </tr>\n",
       "    <tr>\n",
       "      <th>2</th>\n",
       "      <td>Apple</td>\n",
       "      <td>AAPL</td>\n",
       "      <td>2024-05-15</td>\n",
       "      <td>Wednesday</td>\n",
       "      <td>20</td>\n",
       "      <td>5</td>\n",
       "      <td>May</td>\n",
       "      <td>2</td>\n",
       "      <td>187.910</td>\n",
       "      <td>190.650</td>\n",
       "      <td>187.3700</td>\n",
       "      <td>189.72</td>\n",
       "      <td>70399988</td>\n",
       "      <td>1.2217894680680745</td>\n",
       "      <td>2024</td>\n",
       "    </tr>\n",
       "    <tr>\n",
       "      <th>3</th>\n",
       "      <td>Apple</td>\n",
       "      <td>AAPL</td>\n",
       "      <td>2024-05-14</td>\n",
       "      <td>Tuesday</td>\n",
       "      <td>20</td>\n",
       "      <td>5</td>\n",
       "      <td>May</td>\n",
       "      <td>2</td>\n",
       "      <td>187.510</td>\n",
       "      <td>188.300</td>\n",
       "      <td>186.2900</td>\n",
       "      <td>187.43</td>\n",
       "      <td>52393619</td>\n",
       "      <td>0.6173502254670419</td>\n",
       "      <td>2024</td>\n",
       "    </tr>\n",
       "    <tr>\n",
       "      <th>4</th>\n",
       "      <td>Apple</td>\n",
       "      <td>AAPL</td>\n",
       "      <td>2024-05-13</td>\n",
       "      <td>Monday</td>\n",
       "      <td>20</td>\n",
       "      <td>5</td>\n",
       "      <td>May</td>\n",
       "      <td>2</td>\n",
       "      <td>185.435</td>\n",
       "      <td>187.100</td>\n",
       "      <td>184.6200</td>\n",
       "      <td>186.28</td>\n",
       "      <td>72044809</td>\n",
       "      <td>1.7645452062278009</td>\n",
       "      <td>2024</td>\n",
       "    </tr>\n",
       "  </tbody>\n",
       "</table>\n",
       "</div>"
      ],
      "text/plain": [
       "  Company_Name Stock_Code         Day    WeekDay  Week  Month Month_Name  \\\n",
       "0        Apple       AAPL  2024-05-17     Friday    20      5        May   \n",
       "1        Apple       AAPL  2024-05-16   Thursday    20      5        May   \n",
       "2        Apple       AAPL  2024-05-15  Wednesday    20      5        May   \n",
       "3        Apple       AAPL  2024-05-14    Tuesday    20      5        May   \n",
       "4        Apple       AAPL  2024-05-13     Monday    20      5        May   \n",
       "\n",
       "   Quarter  Opening_Value  Highest_Value  Lowest_Value  Closing_Value  \\\n",
       "0        2        189.510        190.810      189.1800         189.87   \n",
       "1        2        190.470        191.095      189.6601         189.84   \n",
       "2        2        187.910        190.650      187.3700         189.72   \n",
       "3        2        187.510        188.300      186.2900         187.43   \n",
       "4        2        185.435        187.100      184.6200         186.28   \n",
       "\n",
       "     Volume Daily_Closing_Variation  Year  \n",
       "0  41282925     0.01580278128950755  2024  \n",
       "1  52845230     0.06325110689437305  2024  \n",
       "2  70399988      1.2217894680680745  2024  \n",
       "3  52393619      0.6173502254670419  2024  \n",
       "4  72044809      1.7645452062278009  2024  "
      ]
     },
     "execution_count": 8,
     "metadata": {},
     "output_type": "execute_result"
    }
   ],
   "source": [
    "novo_df.head()"
   ]
  },
  {
   "cell_type": "code",
   "execution_count": 9,
   "metadata": {},
   "outputs": [],
   "source": [
    "novo_df['Daily_Closing_Variation'] = [float(x) if x != '-' else 0 for x in novo_df['Daily_Closing_Variation']]"
   ]
  },
  {
   "cell_type": "code",
   "execution_count": 10,
   "metadata": {},
   "outputs": [
    {
     "data": {
      "text/plain": [
       "0       0.015803\n",
       "1       0.063251\n",
       "2       1.221789\n",
       "3       0.617350\n",
       "4       1.764545\n",
       "          ...   \n",
       "1995    0.214535\n",
       "1996   -0.407291\n",
       "1997   -1.408729\n",
       "1998   -0.328062\n",
       "1999    0.000000\n",
       "Name: Daily_Closing_Variation, Length: 2000, dtype: float64"
      ]
     },
     "execution_count": 10,
     "metadata": {},
     "output_type": "execute_result"
    }
   ],
   "source": [
    "novo_df['Daily_Closing_Variation']"
   ]
  },
  {
   "cell_type": "code",
   "execution_count": 11,
   "metadata": {},
   "outputs": [
    {
     "name": "stdout",
     "output_type": "stream",
     "text": [
      "<class 'pandas.core.frame.DataFrame'>\n",
      "RangeIndex: 2000 entries, 0 to 1999\n",
      "Data columns (total 15 columns):\n",
      " #   Column                   Non-Null Count  Dtype  \n",
      "---  ------                   --------------  -----  \n",
      " 0   Company_Name             2000 non-null   object \n",
      " 1   Stock_Code               2000 non-null   object \n",
      " 2   Day                      2000 non-null   object \n",
      " 3   WeekDay                  2000 non-null   object \n",
      " 4   Week                     2000 non-null   int64  \n",
      " 5   Month                    2000 non-null   int64  \n",
      " 6   Month_Name               2000 non-null   object \n",
      " 7   Quarter                  2000 non-null   int64  \n",
      " 8   Opening_Value            2000 non-null   float64\n",
      " 9   Highest_Value            2000 non-null   float64\n",
      " 10  Lowest_Value             2000 non-null   float64\n",
      " 11  Closing_Value            2000 non-null   float64\n",
      " 12  Volume                   2000 non-null   int64  \n",
      " 13  Daily_Closing_Variation  2000 non-null   float64\n",
      " 14  Year                     2000 non-null   int64  \n",
      "dtypes: float64(5), int64(5), object(5)\n",
      "memory usage: 234.5+ KB\n"
     ]
    }
   ],
   "source": [
    "novo_df.info()"
   ]
  },
  {
   "cell_type": "code",
   "execution_count": 12,
   "metadata": {},
   "outputs": [
    {
     "data": {
      "application/vnd.plotly.v1+json": {
       "config": {
        "plotlyServerURL": "https://plot.ly"
       },
       "data": [
        {
         "mode": "lines",
         "name": "Variação Diária do Fechamento",
         "type": "scatter",
         "x": [
          "2024-05-17",
          "2024-05-16",
          "2024-05-15",
          "2024-05-14",
          "2024-05-13",
          "2024-05-10",
          "2024-05-09",
          "2024-05-08",
          "2024-05-07",
          "2024-05-06",
          "2024-05-03",
          "2024-05-02",
          "2024-05-01",
          "2024-04-30",
          "2024-04-29",
          "2024-04-26",
          "2024-04-25",
          "2024-04-24",
          "2024-04-23",
          "2024-04-22",
          "2024-04-19",
          "2024-04-18",
          "2024-04-17",
          "2024-04-16",
          "2024-04-15",
          "2024-04-12",
          "2024-04-11",
          "2024-04-10",
          "2024-04-09",
          "2024-04-08",
          "2024-04-05",
          "2024-04-04",
          "2024-04-03",
          "2024-04-02",
          "2024-04-01",
          "2024-03-28",
          "2024-03-27",
          "2024-03-26",
          "2024-03-25",
          "2024-03-22",
          "2024-03-21",
          "2024-03-20",
          "2024-03-19",
          "2024-03-18",
          "2024-03-15",
          "2024-03-14",
          "2024-03-13",
          "2024-03-12",
          "2024-03-11",
          "2024-03-08",
          "2024-03-07",
          "2024-03-06",
          "2024-03-05",
          "2024-03-04",
          "2024-03-01",
          "2024-02-29",
          "2024-02-28",
          "2024-02-27",
          "2024-02-26",
          "2024-02-23",
          "2024-02-22",
          "2024-02-21",
          "2024-02-20",
          "2024-02-16",
          "2024-02-15",
          "2024-02-14",
          "2024-02-13",
          "2024-02-12",
          "2024-02-09",
          "2024-02-08",
          "2024-02-07",
          "2024-02-06",
          "2024-02-05",
          "2024-02-02",
          "2024-02-01",
          "2024-01-31",
          "2024-01-30",
          "2024-01-29",
          "2024-01-26",
          "2024-01-25",
          "2024-01-24",
          "2024-01-23",
          "2024-01-22",
          "2024-01-19",
          "2024-01-18",
          "2024-01-17",
          "2024-01-16",
          "2024-01-12",
          "2024-01-11",
          "2024-01-10",
          "2024-01-09",
          "2024-01-08",
          "2024-01-05",
          "2024-01-04",
          "2024-01-03",
          "2024-01-02",
          "2023-12-29",
          "2023-12-28",
          "2023-12-27",
          "2023-12-26",
          "2024-05-17",
          "2024-05-16",
          "2024-05-15",
          "2024-05-14",
          "2024-05-13",
          "2024-05-10",
          "2024-05-09",
          "2024-05-08",
          "2024-05-07",
          "2024-05-06",
          "2024-05-03",
          "2024-05-02",
          "2024-05-01",
          "2024-04-30",
          "2024-04-29",
          "2024-04-26",
          "2024-04-25",
          "2024-04-24",
          "2024-04-23",
          "2024-04-22",
          "2024-04-19",
          "2024-04-18",
          "2024-04-17",
          "2024-04-16",
          "2024-04-15",
          "2024-04-12",
          "2024-04-11",
          "2024-04-10",
          "2024-04-09",
          "2024-04-08",
          "2024-04-05",
          "2024-04-04",
          "2024-04-03",
          "2024-04-02",
          "2024-04-01",
          "2024-03-28",
          "2024-03-27",
          "2024-03-26",
          "2024-03-25",
          "2024-03-22",
          "2024-03-21",
          "2024-03-20",
          "2024-03-19",
          "2024-03-18",
          "2024-03-15",
          "2024-03-14",
          "2024-03-13",
          "2024-03-12",
          "2024-03-11",
          "2024-03-08",
          "2024-03-07",
          "2024-03-06",
          "2024-03-05",
          "2024-03-04",
          "2024-03-01",
          "2024-02-29",
          "2024-02-28",
          "2024-02-27",
          "2024-02-26",
          "2024-02-23",
          "2024-02-22",
          "2024-02-21",
          "2024-02-20",
          "2024-02-16",
          "2024-02-15",
          "2024-02-14",
          "2024-02-13",
          "2024-02-12",
          "2024-02-09",
          "2024-02-08",
          "2024-02-07",
          "2024-02-06",
          "2024-02-05",
          "2024-02-02",
          "2024-02-01",
          "2024-01-31",
          "2024-01-30",
          "2024-01-29",
          "2024-01-26",
          "2024-01-25",
          "2024-01-24",
          "2024-01-23",
          "2024-01-22",
          "2024-01-19",
          "2024-01-18",
          "2024-01-17",
          "2024-01-16",
          "2024-01-12",
          "2024-01-11",
          "2024-01-10",
          "2024-01-09",
          "2024-01-08",
          "2024-01-05",
          "2024-01-04",
          "2024-01-03",
          "2024-01-02",
          "2023-12-29",
          "2023-12-28",
          "2023-12-27",
          "2023-12-26",
          "2024-05-17",
          "2024-05-16",
          "2024-05-15",
          "2024-05-14",
          "2024-05-13",
          "2024-05-10",
          "2024-05-09",
          "2024-05-08",
          "2024-05-07",
          "2024-05-06",
          "2024-05-03",
          "2024-05-02",
          "2024-05-01",
          "2024-04-30",
          "2024-04-29",
          "2024-04-26",
          "2024-04-25",
          "2024-04-24",
          "2024-04-23",
          "2024-04-22",
          "2024-04-19",
          "2024-04-18",
          "2024-04-17",
          "2024-04-16",
          "2024-04-15",
          "2024-04-12",
          "2024-04-11",
          "2024-04-10",
          "2024-04-09",
          "2024-04-08",
          "2024-04-05",
          "2024-04-04",
          "2024-04-03",
          "2024-04-02",
          "2024-04-01",
          "2024-03-28",
          "2024-03-27",
          "2024-03-26",
          "2024-03-25",
          "2024-03-22",
          "2024-03-21",
          "2024-03-20",
          "2024-03-19",
          "2024-03-18",
          "2024-03-15",
          "2024-03-14",
          "2024-03-13",
          "2024-03-12",
          "2024-03-11",
          "2024-03-08",
          "2024-03-07",
          "2024-03-06",
          "2024-03-05",
          "2024-03-04",
          "2024-03-01",
          "2024-02-29",
          "2024-02-28",
          "2024-02-27",
          "2024-02-26",
          "2024-02-23",
          "2024-02-22",
          "2024-02-21",
          "2024-02-20",
          "2024-02-16",
          "2024-02-15",
          "2024-02-14",
          "2024-02-13",
          "2024-02-12",
          "2024-02-09",
          "2024-02-08",
          "2024-02-07",
          "2024-02-06",
          "2024-02-05",
          "2024-02-02",
          "2024-02-01",
          "2024-01-31",
          "2024-01-30",
          "2024-01-29",
          "2024-01-26",
          "2024-01-25",
          "2024-01-24",
          "2024-01-23",
          "2024-01-22",
          "2024-01-19",
          "2024-01-18",
          "2024-01-17",
          "2024-01-16",
          "2024-01-12",
          "2024-01-11",
          "2024-01-10",
          "2024-01-09",
          "2024-01-08",
          "2024-01-05",
          "2024-01-04",
          "2024-01-03",
          "2024-01-02",
          "2023-12-29",
          "2023-12-28",
          "2023-12-27",
          "2023-12-26",
          "2024-05-17",
          "2024-05-16",
          "2024-05-15",
          "2024-05-14",
          "2024-05-13",
          "2024-05-10",
          "2024-05-09",
          "2024-05-08",
          "2024-05-07",
          "2024-05-06",
          "2024-05-03",
          "2024-05-02",
          "2024-05-01",
          "2024-04-30",
          "2024-04-29",
          "2024-04-26",
          "2024-04-25",
          "2024-04-24",
          "2024-04-23",
          "2024-04-22",
          "2024-04-19",
          "2024-04-18",
          "2024-04-17",
          "2024-04-16",
          "2024-04-15",
          "2024-04-12",
          "2024-04-11",
          "2024-04-10",
          "2024-04-09",
          "2024-04-08",
          "2024-04-05",
          "2024-04-04",
          "2024-04-03",
          "2024-04-02",
          "2024-04-01",
          "2024-03-28",
          "2024-03-27",
          "2024-03-26",
          "2024-03-25",
          "2024-03-22",
          "2024-03-21",
          "2024-03-20",
          "2024-03-19",
          "2024-03-18",
          "2024-03-15",
          "2024-03-14",
          "2024-03-13",
          "2024-03-12",
          "2024-03-11",
          "2024-03-08",
          "2024-03-07",
          "2024-03-06",
          "2024-03-05",
          "2024-03-04",
          "2024-03-01",
          "2024-02-29",
          "2024-02-28",
          "2024-02-27",
          "2024-02-26",
          "2024-02-23",
          "2024-02-22",
          "2024-02-21",
          "2024-02-20",
          "2024-02-16",
          "2024-02-15",
          "2024-02-14",
          "2024-02-13",
          "2024-02-12",
          "2024-02-09",
          "2024-02-08",
          "2024-02-07",
          "2024-02-06",
          "2024-02-05",
          "2024-02-02",
          "2024-02-01",
          "2024-01-31",
          "2024-01-30",
          "2024-01-29",
          "2024-01-26",
          "2024-01-25",
          "2024-01-24",
          "2024-01-23",
          "2024-01-22",
          "2024-01-19",
          "2024-01-18",
          "2024-01-17",
          "2024-01-16",
          "2024-01-12",
          "2024-01-11",
          "2024-01-10",
          "2024-01-09",
          "2024-01-08",
          "2024-01-05",
          "2024-01-04",
          "2024-01-03",
          "2024-01-02",
          "2023-12-29",
          "2023-12-28",
          "2023-12-27",
          "2023-12-26",
          "2024-05-17",
          "2024-05-16",
          "2024-05-15",
          "2024-05-14",
          "2024-05-13",
          "2024-05-10",
          "2024-05-09",
          "2024-05-08",
          "2024-05-07",
          "2024-05-06",
          "2024-05-03",
          "2024-05-02",
          "2024-05-01",
          "2024-04-30",
          "2024-04-29",
          "2024-04-26",
          "2024-04-25",
          "2024-04-24",
          "2024-04-23",
          "2024-04-22",
          "2024-04-19",
          "2024-04-18",
          "2024-04-17",
          "2024-04-16",
          "2024-04-15",
          "2024-04-12",
          "2024-04-11",
          "2024-04-10",
          "2024-04-09",
          "2024-04-08",
          "2024-04-05",
          "2024-04-04",
          "2024-04-03",
          "2024-04-02",
          "2024-04-01",
          "2024-03-28",
          "2024-03-27",
          "2024-03-26",
          "2024-03-25",
          "2024-03-22",
          "2024-03-21",
          "2024-03-20",
          "2024-03-19",
          "2024-03-18",
          "2024-03-15",
          "2024-03-14",
          "2024-03-13",
          "2024-03-12",
          "2024-03-11",
          "2024-03-08",
          "2024-03-07",
          "2024-03-06",
          "2024-03-05",
          "2024-03-04",
          "2024-03-01",
          "2024-02-29",
          "2024-02-28",
          "2024-02-27",
          "2024-02-26",
          "2024-02-23",
          "2024-02-22",
          "2024-02-21",
          "2024-02-20",
          "2024-02-16",
          "2024-02-15",
          "2024-02-14",
          "2024-02-13",
          "2024-02-12",
          "2024-02-09",
          "2024-02-08",
          "2024-02-07",
          "2024-02-06",
          "2024-02-05",
          "2024-02-02",
          "2024-02-01",
          "2024-01-31",
          "2024-01-30",
          "2024-01-29",
          "2024-01-26",
          "2024-01-25",
          "2024-01-24",
          "2024-01-23",
          "2024-01-22",
          "2024-01-19",
          "2024-01-18",
          "2024-01-17",
          "2024-01-16",
          "2024-01-12",
          "2024-01-11",
          "2024-01-10",
          "2024-01-09",
          "2024-01-08",
          "2024-01-05",
          "2024-01-04",
          "2024-01-03",
          "2024-01-02",
          "2023-12-29",
          "2023-12-28",
          "2023-12-27",
          "2023-12-26",
          "2024-05-17",
          "2024-05-16",
          "2024-05-15",
          "2024-05-14",
          "2024-05-13",
          "2024-05-10",
          "2024-05-09",
          "2024-05-08",
          "2024-05-07",
          "2024-05-06",
          "2024-05-03",
          "2024-05-02",
          "2024-05-01",
          "2024-04-30",
          "2024-04-29",
          "2024-04-26",
          "2024-04-25",
          "2024-04-24",
          "2024-04-23",
          "2024-04-22",
          "2024-04-19",
          "2024-04-18",
          "2024-04-17",
          "2024-04-16",
          "2024-04-15",
          "2024-04-12",
          "2024-04-11",
          "2024-04-10",
          "2024-04-09",
          "2024-04-08",
          "2024-04-05",
          "2024-04-04",
          "2024-04-03",
          "2024-04-02",
          "2024-04-01",
          "2024-03-28",
          "2024-03-27",
          "2024-03-26",
          "2024-03-25",
          "2024-03-22",
          "2024-03-21",
          "2024-03-20",
          "2024-03-19",
          "2024-03-18",
          "2024-03-15",
          "2024-03-14",
          "2024-03-13",
          "2024-03-12",
          "2024-03-11",
          "2024-03-08",
          "2024-03-07",
          "2024-03-06",
          "2024-03-05",
          "2024-03-04",
          "2024-03-01",
          "2024-02-29",
          "2024-02-28",
          "2024-02-27",
          "2024-02-26",
          "2024-02-23",
          "2024-02-22",
          "2024-02-21",
          "2024-02-20",
          "2024-02-16",
          "2024-02-15",
          "2024-02-14",
          "2024-02-13",
          "2024-02-12",
          "2024-02-09",
          "2024-02-08",
          "2024-02-07",
          "2024-02-06",
          "2024-02-05",
          "2024-02-02",
          "2024-02-01",
          "2024-01-31",
          "2024-01-30",
          "2024-01-29",
          "2024-01-26",
          "2024-01-25",
          "2024-01-24",
          "2024-01-23",
          "2024-01-22",
          "2024-01-19",
          "2024-01-18",
          "2024-01-17",
          "2024-01-16",
          "2024-01-12",
          "2024-01-11",
          "2024-01-10",
          "2024-01-09",
          "2024-01-08",
          "2024-01-05",
          "2024-01-04",
          "2024-01-03",
          "2024-01-02",
          "2023-12-29",
          "2023-12-28",
          "2023-12-27",
          "2023-12-26",
          "2024-05-17",
          "2024-05-16",
          "2024-05-15",
          "2024-05-14",
          "2024-05-13",
          "2024-05-10",
          "2024-05-09",
          "2024-05-08",
          "2024-05-07",
          "2024-05-06",
          "2024-05-03",
          "2024-05-02",
          "2024-05-01",
          "2024-04-30",
          "2024-04-29",
          "2024-04-26",
          "2024-04-25",
          "2024-04-24",
          "2024-04-23",
          "2024-04-22",
          "2024-04-19",
          "2024-04-18",
          "2024-04-17",
          "2024-04-16",
          "2024-04-15",
          "2024-04-12",
          "2024-04-11",
          "2024-04-10",
          "2024-04-09",
          "2024-04-08",
          "2024-04-05",
          "2024-04-04",
          "2024-04-03",
          "2024-04-02",
          "2024-04-01",
          "2024-03-28",
          "2024-03-27",
          "2024-03-26",
          "2024-03-25",
          "2024-03-22",
          "2024-03-21",
          "2024-03-20",
          "2024-03-19",
          "2024-03-18",
          "2024-03-15",
          "2024-03-14",
          "2024-03-13",
          "2024-03-12",
          "2024-03-11",
          "2024-03-08",
          "2024-03-07",
          "2024-03-06",
          "2024-03-05",
          "2024-03-04",
          "2024-03-01",
          "2024-02-29",
          "2024-02-28",
          "2024-02-27",
          "2024-02-26",
          "2024-02-23",
          "2024-02-22",
          "2024-02-21",
          "2024-02-20",
          "2024-02-16",
          "2024-02-15",
          "2024-02-14",
          "2024-02-13",
          "2024-02-12",
          "2024-02-09",
          "2024-02-08",
          "2024-02-07",
          "2024-02-06",
          "2024-02-05",
          "2024-02-02",
          "2024-02-01",
          "2024-01-31",
          "2024-01-30",
          "2024-01-29",
          "2024-01-26",
          "2024-01-25",
          "2024-01-24",
          "2024-01-23",
          "2024-01-22",
          "2024-01-19",
          "2024-01-18",
          "2024-01-17",
          "2024-01-16",
          "2024-01-12",
          "2024-01-11",
          "2024-01-10",
          "2024-01-09",
          "2024-01-08",
          "2024-01-05",
          "2024-01-04",
          "2024-01-03",
          "2024-01-02",
          "2023-12-29",
          "2023-12-28",
          "2023-12-27",
          "2023-12-26",
          "2024-05-17",
          "2024-05-16",
          "2024-05-15",
          "2024-05-14",
          "2024-05-13",
          "2024-05-10",
          "2024-05-09",
          "2024-05-08",
          "2024-05-07",
          "2024-05-06",
          "2024-05-03",
          "2024-05-02",
          "2024-05-01",
          "2024-04-30",
          "2024-04-29",
          "2024-04-26",
          "2024-04-25",
          "2024-04-24",
          "2024-04-23",
          "2024-04-22",
          "2024-04-19",
          "2024-04-18",
          "2024-04-17",
          "2024-04-16",
          "2024-04-15",
          "2024-04-12",
          "2024-04-11",
          "2024-04-10",
          "2024-04-09",
          "2024-04-08",
          "2024-04-05",
          "2024-04-04",
          "2024-04-03",
          "2024-04-02",
          "2024-04-01",
          "2024-03-28",
          "2024-03-27",
          "2024-03-26",
          "2024-03-25",
          "2024-03-22",
          "2024-03-21",
          "2024-03-20",
          "2024-03-19",
          "2024-03-18",
          "2024-03-15",
          "2024-03-14",
          "2024-03-13",
          "2024-03-12",
          "2024-03-11",
          "2024-03-08",
          "2024-03-07",
          "2024-03-06",
          "2024-03-05",
          "2024-03-04",
          "2024-03-01",
          "2024-02-29",
          "2024-02-28",
          "2024-02-27",
          "2024-02-26",
          "2024-02-23",
          "2024-02-22",
          "2024-02-21",
          "2024-02-20",
          "2024-02-16",
          "2024-02-15",
          "2024-02-14",
          "2024-02-13",
          "2024-02-12",
          "2024-02-09",
          "2024-02-08",
          "2024-02-07",
          "2024-02-06",
          "2024-02-05",
          "2024-02-02",
          "2024-02-01",
          "2024-01-31",
          "2024-01-30",
          "2024-01-29",
          "2024-01-26",
          "2024-01-25",
          "2024-01-24",
          "2024-01-23",
          "2024-01-22",
          "2024-01-19",
          "2024-01-18",
          "2024-01-17",
          "2024-01-16",
          "2024-01-12",
          "2024-01-11",
          "2024-01-10",
          "2024-01-09",
          "2024-01-08",
          "2024-01-05",
          "2024-01-04",
          "2024-01-03",
          "2024-01-02",
          "2023-12-29",
          "2023-12-28",
          "2023-12-27",
          "2023-12-26",
          "2024-05-17",
          "2024-05-16",
          "2024-05-15",
          "2024-05-14",
          "2024-05-13",
          "2024-05-10",
          "2024-05-09",
          "2024-05-08",
          "2024-05-07",
          "2024-05-06",
          "2024-05-03",
          "2024-05-02",
          "2024-05-01",
          "2024-04-30",
          "2024-04-29",
          "2024-04-26",
          "2024-04-25",
          "2024-04-24",
          "2024-04-23",
          "2024-04-22",
          "2024-04-19",
          "2024-04-18",
          "2024-04-17",
          "2024-04-16",
          "2024-04-15",
          "2024-04-12",
          "2024-04-11",
          "2024-04-10",
          "2024-04-09",
          "2024-04-08",
          "2024-04-05",
          "2024-04-04",
          "2024-04-03",
          "2024-04-02",
          "2024-04-01",
          "2024-03-28",
          "2024-03-27",
          "2024-03-26",
          "2024-03-25",
          "2024-03-22",
          "2024-03-21",
          "2024-03-20",
          "2024-03-19",
          "2024-03-18",
          "2024-03-15",
          "2024-03-14",
          "2024-03-13",
          "2024-03-12",
          "2024-03-11",
          "2024-03-08",
          "2024-03-07",
          "2024-03-06",
          "2024-03-05",
          "2024-03-04",
          "2024-03-01",
          "2024-02-29",
          "2024-02-28",
          "2024-02-27",
          "2024-02-26",
          "2024-02-23",
          "2024-02-22",
          "2024-02-21",
          "2024-02-20",
          "2024-02-16",
          "2024-02-15",
          "2024-02-14",
          "2024-02-13",
          "2024-02-12",
          "2024-02-09",
          "2024-02-08",
          "2024-02-07",
          "2024-02-06",
          "2024-02-05",
          "2024-02-02",
          "2024-02-01",
          "2024-01-31",
          "2024-01-30",
          "2024-01-29",
          "2024-01-26",
          "2024-01-25",
          "2024-01-24",
          "2024-01-23",
          "2024-01-22",
          "2024-01-19",
          "2024-01-18",
          "2024-01-17",
          "2024-01-16",
          "2024-01-12",
          "2024-01-11",
          "2024-01-10",
          "2024-01-09",
          "2024-01-08",
          "2024-01-05",
          "2024-01-04",
          "2024-01-03",
          "2024-01-02",
          "2023-12-29",
          "2023-12-28",
          "2023-12-27",
          "2023-12-26",
          "2024-05-17",
          "2024-05-16",
          "2024-05-15",
          "2024-05-14",
          "2024-05-13",
          "2024-05-10",
          "2024-05-09",
          "2024-05-08",
          "2024-05-07",
          "2024-05-06",
          "2024-05-03",
          "2024-05-02",
          "2024-05-01",
          "2024-04-30",
          "2024-04-29",
          "2024-04-26",
          "2024-04-25",
          "2024-04-24",
          "2024-04-23",
          "2024-04-22",
          "2024-04-19",
          "2024-04-18",
          "2024-04-17",
          "2024-04-16",
          "2024-04-15",
          "2024-04-12",
          "2024-04-11",
          "2024-04-10",
          "2024-04-09",
          "2024-04-08",
          "2024-04-05",
          "2024-04-04",
          "2024-04-03",
          "2024-04-02",
          "2024-04-01",
          "2024-03-28",
          "2024-03-27",
          "2024-03-26",
          "2024-03-25",
          "2024-03-22",
          "2024-03-21",
          "2024-03-20",
          "2024-03-19",
          "2024-03-18",
          "2024-03-15",
          "2024-03-14",
          "2024-03-13",
          "2024-03-12",
          "2024-03-11",
          "2024-03-08",
          "2024-03-07",
          "2024-03-06",
          "2024-03-05",
          "2024-03-04",
          "2024-03-01",
          "2024-02-29",
          "2024-02-28",
          "2024-02-27",
          "2024-02-26",
          "2024-02-23",
          "2024-02-22",
          "2024-02-21",
          "2024-02-20",
          "2024-02-16",
          "2024-02-15",
          "2024-02-14",
          "2024-02-13",
          "2024-02-12",
          "2024-02-09",
          "2024-02-08",
          "2024-02-07",
          "2024-02-06",
          "2024-02-05",
          "2024-02-02",
          "2024-02-01",
          "2024-01-31",
          "2024-01-30",
          "2024-01-29",
          "2024-01-26",
          "2024-01-25",
          "2024-01-24",
          "2024-01-23",
          "2024-01-22",
          "2024-01-19",
          "2024-01-18",
          "2024-01-17",
          "2024-01-16",
          "2024-01-12",
          "2024-01-11",
          "2024-01-10",
          "2024-01-09",
          "2024-01-08",
          "2024-01-05",
          "2024-01-04",
          "2024-01-03",
          "2024-01-02",
          "2023-12-29",
          "2023-12-28",
          "2023-12-27",
          "2023-12-26",
          "2024-05-17",
          "2024-05-16",
          "2024-05-15",
          "2024-05-14",
          "2024-05-13",
          "2024-05-10",
          "2024-05-09",
          "2024-05-08",
          "2024-05-07",
          "2024-05-06",
          "2024-05-03",
          "2024-05-02",
          "2024-05-01",
          "2024-04-30",
          "2024-04-29",
          "2024-04-26",
          "2024-04-25",
          "2024-04-24",
          "2024-04-23",
          "2024-04-22",
          "2024-04-19",
          "2024-04-18",
          "2024-04-17",
          "2024-04-16",
          "2024-04-15",
          "2024-04-12",
          "2024-04-11",
          "2024-04-10",
          "2024-04-09",
          "2024-04-08",
          "2024-04-05",
          "2024-04-04",
          "2024-04-03",
          "2024-04-02",
          "2024-04-01",
          "2024-03-28",
          "2024-03-27",
          "2024-03-26",
          "2024-03-25",
          "2024-03-22",
          "2024-03-21",
          "2024-03-20",
          "2024-03-19",
          "2024-03-18",
          "2024-03-15",
          "2024-03-14",
          "2024-03-13",
          "2024-03-12",
          "2024-03-11",
          "2024-03-08",
          "2024-03-07",
          "2024-03-06",
          "2024-03-05",
          "2024-03-04",
          "2024-03-01",
          "2024-02-29",
          "2024-02-28",
          "2024-02-27",
          "2024-02-26",
          "2024-02-23",
          "2024-02-22",
          "2024-02-21",
          "2024-02-20",
          "2024-02-16",
          "2024-02-15",
          "2024-02-14",
          "2024-02-13",
          "2024-02-12",
          "2024-02-09",
          "2024-02-08",
          "2024-02-07",
          "2024-02-06",
          "2024-02-05",
          "2024-02-02",
          "2024-02-01",
          "2024-01-31",
          "2024-01-30",
          "2024-01-29",
          "2024-01-26",
          "2024-01-25",
          "2024-01-24",
          "2024-01-23",
          "2024-01-22",
          "2024-01-19",
          "2024-01-18",
          "2024-01-17",
          "2024-01-16",
          "2024-01-12",
          "2024-01-11",
          "2024-01-10",
          "2024-01-09",
          "2024-01-08",
          "2024-01-05",
          "2024-01-04",
          "2024-01-03",
          "2024-01-02",
          "2023-12-29",
          "2023-12-28",
          "2023-12-27",
          "2023-12-26",
          "2024-05-17",
          "2024-05-16",
          "2024-05-15",
          "2024-05-14",
          "2024-05-13",
          "2024-05-10",
          "2024-05-09",
          "2024-05-08",
          "2024-05-07",
          "2024-05-06",
          "2024-05-03",
          "2024-05-02",
          "2024-05-01",
          "2024-04-30",
          "2024-04-29",
          "2024-04-26",
          "2024-04-25",
          "2024-04-24",
          "2024-04-23",
          "2024-04-22",
          "2024-04-19",
          "2024-04-18",
          "2024-04-17",
          "2024-04-16",
          "2024-04-15",
          "2024-04-12",
          "2024-04-11",
          "2024-04-10",
          "2024-04-09",
          "2024-04-08",
          "2024-04-05",
          "2024-04-04",
          "2024-04-03",
          "2024-04-02",
          "2024-04-01",
          "2024-03-28",
          "2024-03-27",
          "2024-03-26",
          "2024-03-25",
          "2024-03-22",
          "2024-03-21",
          "2024-03-20",
          "2024-03-19",
          "2024-03-18",
          "2024-03-15",
          "2024-03-14",
          "2024-03-13",
          "2024-03-12",
          "2024-03-11",
          "2024-03-08",
          "2024-03-07",
          "2024-03-06",
          "2024-03-05",
          "2024-03-04",
          "2024-03-01",
          "2024-02-29",
          "2024-02-28",
          "2024-02-27",
          "2024-02-26",
          "2024-02-23",
          "2024-02-22",
          "2024-02-21",
          "2024-02-20",
          "2024-02-16",
          "2024-02-15",
          "2024-02-14",
          "2024-02-13",
          "2024-02-12",
          "2024-02-09",
          "2024-02-08",
          "2024-02-07",
          "2024-02-06",
          "2024-02-05",
          "2024-02-02",
          "2024-02-01",
          "2024-01-31",
          "2024-01-30",
          "2024-01-29",
          "2024-01-26",
          "2024-01-25",
          "2024-01-24",
          "2024-01-23",
          "2024-01-22",
          "2024-01-19",
          "2024-01-18",
          "2024-01-17",
          "2024-01-16",
          "2024-01-12",
          "2024-01-11",
          "2024-01-10",
          "2024-01-09",
          "2024-01-08",
          "2024-01-05",
          "2024-01-04",
          "2024-01-03",
          "2024-01-02",
          "2023-12-29",
          "2023-12-28",
          "2023-12-27",
          "2023-12-26",
          "2024-05-17",
          "2024-05-16",
          "2024-05-15",
          "2024-05-14",
          "2024-05-13",
          "2024-05-10",
          "2024-05-09",
          "2024-05-08",
          "2024-05-07",
          "2024-05-06",
          "2024-05-03",
          "2024-05-02",
          "2024-05-01",
          "2024-04-30",
          "2024-04-29",
          "2024-04-26",
          "2024-04-25",
          "2024-04-24",
          "2024-04-23",
          "2024-04-22",
          "2024-04-19",
          "2024-04-18",
          "2024-04-17",
          "2024-04-16",
          "2024-04-15",
          "2024-04-12",
          "2024-04-11",
          "2024-04-10",
          "2024-04-09",
          "2024-04-08",
          "2024-04-05",
          "2024-04-04",
          "2024-04-03",
          "2024-04-02",
          "2024-04-01",
          "2024-03-28",
          "2024-03-27",
          "2024-03-26",
          "2024-03-25",
          "2024-03-22",
          "2024-03-21",
          "2024-03-20",
          "2024-03-19",
          "2024-03-18",
          "2024-03-15",
          "2024-03-14",
          "2024-03-13",
          "2024-03-12",
          "2024-03-11",
          "2024-03-08",
          "2024-03-07",
          "2024-03-06",
          "2024-03-05",
          "2024-03-04",
          "2024-03-01",
          "2024-02-29",
          "2024-02-28",
          "2024-02-27",
          "2024-02-26",
          "2024-02-23",
          "2024-02-22",
          "2024-02-21",
          "2024-02-20",
          "2024-02-16",
          "2024-02-15",
          "2024-02-14",
          "2024-02-13",
          "2024-02-12",
          "2024-02-09",
          "2024-02-08",
          "2024-02-07",
          "2024-02-06",
          "2024-02-05",
          "2024-02-02",
          "2024-02-01",
          "2024-01-31",
          "2024-01-30",
          "2024-01-29",
          "2024-01-26",
          "2024-01-25",
          "2024-01-24",
          "2024-01-23",
          "2024-01-22",
          "2024-01-19",
          "2024-01-18",
          "2024-01-17",
          "2024-01-16",
          "2024-01-12",
          "2024-01-11",
          "2024-01-10",
          "2024-01-09",
          "2024-01-08",
          "2024-01-05",
          "2024-01-04",
          "2024-01-03",
          "2024-01-02",
          "2023-12-29",
          "2023-12-28",
          "2023-12-27",
          "2023-12-26",
          "2024-05-17",
          "2024-05-16",
          "2024-05-15",
          "2024-05-14",
          "2024-05-13",
          "2024-05-10",
          "2024-05-09",
          "2024-05-08",
          "2024-05-07",
          "2024-05-06",
          "2024-05-03",
          "2024-05-02",
          "2024-05-01",
          "2024-04-30",
          "2024-04-29",
          "2024-04-26",
          "2024-04-25",
          "2024-04-24",
          "2024-04-23",
          "2024-04-22",
          "2024-04-19",
          "2024-04-18",
          "2024-04-17",
          "2024-04-16",
          "2024-04-15",
          "2024-04-12",
          "2024-04-11",
          "2024-04-10",
          "2024-04-09",
          "2024-04-08",
          "2024-04-05",
          "2024-04-04",
          "2024-04-03",
          "2024-04-02",
          "2024-04-01",
          "2024-03-28",
          "2024-03-27",
          "2024-03-26",
          "2024-03-25",
          "2024-03-22",
          "2024-03-21",
          "2024-03-20",
          "2024-03-19",
          "2024-03-18",
          "2024-03-15",
          "2024-03-14",
          "2024-03-13",
          "2024-03-12",
          "2024-03-11",
          "2024-03-08",
          "2024-03-07",
          "2024-03-06",
          "2024-03-05",
          "2024-03-04",
          "2024-03-01",
          "2024-02-29",
          "2024-02-28",
          "2024-02-27",
          "2024-02-26",
          "2024-02-23",
          "2024-02-22",
          "2024-02-21",
          "2024-02-20",
          "2024-02-16",
          "2024-02-15",
          "2024-02-14",
          "2024-02-13",
          "2024-02-12",
          "2024-02-09",
          "2024-02-08",
          "2024-02-07",
          "2024-02-06",
          "2024-02-05",
          "2024-02-02",
          "2024-02-01",
          "2024-01-31",
          "2024-01-30",
          "2024-01-29",
          "2024-01-26",
          "2024-01-25",
          "2024-01-24",
          "2024-01-23",
          "2024-01-22",
          "2024-01-19",
          "2024-01-18",
          "2024-01-17",
          "2024-01-16",
          "2024-01-12",
          "2024-01-11",
          "2024-01-10",
          "2024-01-09",
          "2024-01-08",
          "2024-01-05",
          "2024-01-04",
          "2024-01-03",
          "2024-01-02",
          "2023-12-29",
          "2023-12-28",
          "2023-12-27",
          "2023-12-26",
          "2024-05-17",
          "2024-05-16",
          "2024-05-15",
          "2024-05-14",
          "2024-05-13",
          "2024-05-10",
          "2024-05-09",
          "2024-05-08",
          "2024-05-07",
          "2024-05-06",
          "2024-05-03",
          "2024-05-02",
          "2024-05-01",
          "2024-04-30",
          "2024-04-29",
          "2024-04-26",
          "2024-04-25",
          "2024-04-24",
          "2024-04-23",
          "2024-04-22",
          "2024-04-19",
          "2024-04-18",
          "2024-04-17",
          "2024-04-16",
          "2024-04-15",
          "2024-04-12",
          "2024-04-11",
          "2024-04-10",
          "2024-04-09",
          "2024-04-08",
          "2024-04-05",
          "2024-04-04",
          "2024-04-03",
          "2024-04-02",
          "2024-04-01",
          "2024-03-28",
          "2024-03-27",
          "2024-03-26",
          "2024-03-25",
          "2024-03-22",
          "2024-03-21",
          "2024-03-20",
          "2024-03-19",
          "2024-03-18",
          "2024-03-15",
          "2024-03-14",
          "2024-03-13",
          "2024-03-12",
          "2024-03-11",
          "2024-03-08",
          "2024-03-07",
          "2024-03-06",
          "2024-03-05",
          "2024-03-04",
          "2024-03-01",
          "2024-02-29",
          "2024-02-28",
          "2024-02-27",
          "2024-02-26",
          "2024-02-23",
          "2024-02-22",
          "2024-02-21",
          "2024-02-20",
          "2024-02-16",
          "2024-02-15",
          "2024-02-14",
          "2024-02-13",
          "2024-02-12",
          "2024-02-09",
          "2024-02-08",
          "2024-02-07",
          "2024-02-06",
          "2024-02-05",
          "2024-02-02",
          "2024-02-01",
          "2024-01-31",
          "2024-01-30",
          "2024-01-29",
          "2024-01-26",
          "2024-01-25",
          "2024-01-24",
          "2024-01-23",
          "2024-01-22",
          "2024-01-19",
          "2024-01-18",
          "2024-01-17",
          "2024-01-16",
          "2024-01-12",
          "2024-01-11",
          "2024-01-10",
          "2024-01-09",
          "2024-01-08",
          "2024-01-05",
          "2024-01-04",
          "2024-01-03",
          "2024-01-02",
          "2023-12-29",
          "2023-12-28",
          "2023-12-27",
          "2023-12-26",
          "2024-05-17",
          "2024-05-16",
          "2024-05-15",
          "2024-05-14",
          "2024-05-13",
          "2024-05-10",
          "2024-05-09",
          "2024-05-08",
          "2024-05-07",
          "2024-05-06",
          "2024-05-03",
          "2024-05-02",
          "2024-05-01",
          "2024-04-30",
          "2024-04-29",
          "2024-04-26",
          "2024-04-25",
          "2024-04-24",
          "2024-04-23",
          "2024-04-22",
          "2024-04-19",
          "2024-04-18",
          "2024-04-17",
          "2024-04-16",
          "2024-04-15",
          "2024-04-12",
          "2024-04-11",
          "2024-04-10",
          "2024-04-09",
          "2024-04-08",
          "2024-04-05",
          "2024-04-04",
          "2024-04-03",
          "2024-04-02",
          "2024-04-01",
          "2024-03-28",
          "2024-03-27",
          "2024-03-26",
          "2024-03-25",
          "2024-03-22",
          "2024-03-21",
          "2024-03-20",
          "2024-03-19",
          "2024-03-18",
          "2024-03-15",
          "2024-03-14",
          "2024-03-13",
          "2024-03-12",
          "2024-03-11",
          "2024-03-08",
          "2024-03-07",
          "2024-03-06",
          "2024-03-05",
          "2024-03-04",
          "2024-03-01",
          "2024-02-29",
          "2024-02-28",
          "2024-02-27",
          "2024-02-26",
          "2024-02-23",
          "2024-02-22",
          "2024-02-21",
          "2024-02-20",
          "2024-02-16",
          "2024-02-15",
          "2024-02-14",
          "2024-02-13",
          "2024-02-12",
          "2024-02-09",
          "2024-02-08",
          "2024-02-07",
          "2024-02-06",
          "2024-02-05",
          "2024-02-02",
          "2024-02-01",
          "2024-01-31",
          "2024-01-30",
          "2024-01-29",
          "2024-01-26",
          "2024-01-25",
          "2024-01-24",
          "2024-01-23",
          "2024-01-22",
          "2024-01-19",
          "2024-01-18",
          "2024-01-17",
          "2024-01-16",
          "2024-01-12",
          "2024-01-11",
          "2024-01-10",
          "2024-01-09",
          "2024-01-08",
          "2024-01-05",
          "2024-01-04",
          "2024-01-03",
          "2024-01-02",
          "2023-12-29",
          "2023-12-28",
          "2023-12-27",
          "2023-12-26",
          "2024-05-17",
          "2024-05-16",
          "2024-05-15",
          "2024-05-14",
          "2024-05-13",
          "2024-05-10",
          "2024-05-09",
          "2024-05-08",
          "2024-05-07",
          "2024-05-06",
          "2024-05-03",
          "2024-05-02",
          "2024-05-01",
          "2024-04-30",
          "2024-04-29",
          "2024-04-26",
          "2024-04-25",
          "2024-04-24",
          "2024-04-23",
          "2024-04-22",
          "2024-04-19",
          "2024-04-18",
          "2024-04-17",
          "2024-04-16",
          "2024-04-15",
          "2024-04-12",
          "2024-04-11",
          "2024-04-10",
          "2024-04-09",
          "2024-04-08",
          "2024-04-05",
          "2024-04-04",
          "2024-04-03",
          "2024-04-02",
          "2024-04-01",
          "2024-03-28",
          "2024-03-27",
          "2024-03-26",
          "2024-03-25",
          "2024-03-22",
          "2024-03-21",
          "2024-03-20",
          "2024-03-19",
          "2024-03-18",
          "2024-03-15",
          "2024-03-14",
          "2024-03-13",
          "2024-03-12",
          "2024-03-11",
          "2024-03-08",
          "2024-03-07",
          "2024-03-06",
          "2024-03-05",
          "2024-03-04",
          "2024-03-01",
          "2024-02-29",
          "2024-02-28",
          "2024-02-27",
          "2024-02-26",
          "2024-02-23",
          "2024-02-22",
          "2024-02-21",
          "2024-02-20",
          "2024-02-16",
          "2024-02-15",
          "2024-02-14",
          "2024-02-13",
          "2024-02-12",
          "2024-02-09",
          "2024-02-08",
          "2024-02-07",
          "2024-02-06",
          "2024-02-05",
          "2024-02-02",
          "2024-02-01",
          "2024-01-31",
          "2024-01-30",
          "2024-01-29",
          "2024-01-26",
          "2024-01-25",
          "2024-01-24",
          "2024-01-23",
          "2024-01-22",
          "2024-01-19",
          "2024-01-18",
          "2024-01-17",
          "2024-01-16",
          "2024-01-12",
          "2024-01-11",
          "2024-01-10",
          "2024-01-09",
          "2024-01-08",
          "2024-01-05",
          "2024-01-04",
          "2024-01-03",
          "2024-01-02",
          "2023-12-29",
          "2023-12-28",
          "2023-12-27",
          "2023-12-26",
          "2024-05-17",
          "2024-05-16",
          "2024-05-15",
          "2024-05-14",
          "2024-05-13",
          "2024-05-10",
          "2024-05-09",
          "2024-05-08",
          "2024-05-07",
          "2024-05-06",
          "2024-05-03",
          "2024-05-02",
          "2024-05-01",
          "2024-04-30",
          "2024-04-29",
          "2024-04-26",
          "2024-04-25",
          "2024-04-24",
          "2024-04-23",
          "2024-04-22",
          "2024-04-19",
          "2024-04-18",
          "2024-04-17",
          "2024-04-16",
          "2024-04-15",
          "2024-04-12",
          "2024-04-11",
          "2024-04-10",
          "2024-04-09",
          "2024-04-08",
          "2024-04-05",
          "2024-04-04",
          "2024-04-03",
          "2024-04-02",
          "2024-04-01",
          "2024-03-28",
          "2024-03-27",
          "2024-03-26",
          "2024-03-25",
          "2024-03-22",
          "2024-03-21",
          "2024-03-20",
          "2024-03-19",
          "2024-03-18",
          "2024-03-15",
          "2024-03-14",
          "2024-03-13",
          "2024-03-12",
          "2024-03-11",
          "2024-03-08",
          "2024-03-07",
          "2024-03-06",
          "2024-03-05",
          "2024-03-04",
          "2024-03-01",
          "2024-02-29",
          "2024-02-28",
          "2024-02-27",
          "2024-02-26",
          "2024-02-23",
          "2024-02-22",
          "2024-02-21",
          "2024-02-20",
          "2024-02-16",
          "2024-02-15",
          "2024-02-14",
          "2024-02-13",
          "2024-02-12",
          "2024-02-09",
          "2024-02-08",
          "2024-02-07",
          "2024-02-06",
          "2024-02-05",
          "2024-02-02",
          "2024-02-01",
          "2024-01-31",
          "2024-01-30",
          "2024-01-29",
          "2024-01-26",
          "2024-01-25",
          "2024-01-24",
          "2024-01-23",
          "2024-01-22",
          "2024-01-19",
          "2024-01-18",
          "2024-01-17",
          "2024-01-16",
          "2024-01-12",
          "2024-01-11",
          "2024-01-10",
          "2024-01-09",
          "2024-01-08",
          "2024-01-05",
          "2024-01-04",
          "2024-01-03",
          "2024-01-02",
          "2023-12-29",
          "2023-12-28",
          "2023-12-27",
          "2023-12-26",
          "2024-05-17",
          "2024-05-16",
          "2024-05-15",
          "2024-05-14",
          "2024-05-13",
          "2024-05-10",
          "2024-05-09",
          "2024-05-08",
          "2024-05-07",
          "2024-05-06",
          "2024-05-03",
          "2024-05-02",
          "2024-05-01",
          "2024-04-30",
          "2024-04-29",
          "2024-04-26",
          "2024-04-25",
          "2024-04-24",
          "2024-04-23",
          "2024-04-22",
          "2024-04-19",
          "2024-04-18",
          "2024-04-17",
          "2024-04-16",
          "2024-04-15",
          "2024-04-12",
          "2024-04-11",
          "2024-04-10",
          "2024-04-09",
          "2024-04-08",
          "2024-04-05",
          "2024-04-04",
          "2024-04-03",
          "2024-04-02",
          "2024-04-01",
          "2024-03-28",
          "2024-03-27",
          "2024-03-26",
          "2024-03-25",
          "2024-03-22",
          "2024-03-21",
          "2024-03-20",
          "2024-03-19",
          "2024-03-18",
          "2024-03-15",
          "2024-03-14",
          "2024-03-13",
          "2024-03-12",
          "2024-03-11",
          "2024-03-08",
          "2024-03-07",
          "2024-03-06",
          "2024-03-05",
          "2024-03-04",
          "2024-03-01",
          "2024-02-29",
          "2024-02-28",
          "2024-02-27",
          "2024-02-26",
          "2024-02-23",
          "2024-02-22",
          "2024-02-21",
          "2024-02-20",
          "2024-02-16",
          "2024-02-15",
          "2024-02-14",
          "2024-02-13",
          "2024-02-12",
          "2024-02-09",
          "2024-02-08",
          "2024-02-07",
          "2024-02-06",
          "2024-02-05",
          "2024-02-02",
          "2024-02-01",
          "2024-01-31",
          "2024-01-30",
          "2024-01-29",
          "2024-01-26",
          "2024-01-25",
          "2024-01-24",
          "2024-01-23",
          "2024-01-22",
          "2024-01-19",
          "2024-01-18",
          "2024-01-17",
          "2024-01-16",
          "2024-01-12",
          "2024-01-11",
          "2024-01-10",
          "2024-01-09",
          "2024-01-08",
          "2024-01-05",
          "2024-01-04",
          "2024-01-03",
          "2024-01-02",
          "2023-12-29",
          "2023-12-28",
          "2023-12-27",
          "2023-12-26",
          "2024-05-17",
          "2024-05-16",
          "2024-05-15",
          "2024-05-14",
          "2024-05-13",
          "2024-05-10",
          "2024-05-09",
          "2024-05-08",
          "2024-05-07",
          "2024-05-06",
          "2024-05-03",
          "2024-05-02",
          "2024-05-01",
          "2024-04-30",
          "2024-04-29",
          "2024-04-26",
          "2024-04-25",
          "2024-04-24",
          "2024-04-23",
          "2024-04-22",
          "2024-04-19",
          "2024-04-18",
          "2024-04-17",
          "2024-04-16",
          "2024-04-15",
          "2024-04-12",
          "2024-04-11",
          "2024-04-10",
          "2024-04-09",
          "2024-04-08",
          "2024-04-05",
          "2024-04-04",
          "2024-04-03",
          "2024-04-02",
          "2024-04-01",
          "2024-03-28",
          "2024-03-27",
          "2024-03-26",
          "2024-03-25",
          "2024-03-22",
          "2024-03-21",
          "2024-03-20",
          "2024-03-19",
          "2024-03-18",
          "2024-03-15",
          "2024-03-14",
          "2024-03-13",
          "2024-03-12",
          "2024-03-11",
          "2024-03-08",
          "2024-03-07",
          "2024-03-06",
          "2024-03-05",
          "2024-03-04",
          "2024-03-01",
          "2024-02-29",
          "2024-02-28",
          "2024-02-27",
          "2024-02-26",
          "2024-02-23",
          "2024-02-22",
          "2024-02-21",
          "2024-02-20",
          "2024-02-16",
          "2024-02-15",
          "2024-02-14",
          "2024-02-13",
          "2024-02-12",
          "2024-02-09",
          "2024-02-08",
          "2024-02-07",
          "2024-02-06",
          "2024-02-05",
          "2024-02-02",
          "2024-02-01",
          "2024-01-31",
          "2024-01-30",
          "2024-01-29",
          "2024-01-26",
          "2024-01-25",
          "2024-01-24",
          "2024-01-23",
          "2024-01-22",
          "2024-01-19",
          "2024-01-18",
          "2024-01-17",
          "2024-01-16",
          "2024-01-12",
          "2024-01-11",
          "2024-01-10",
          "2024-01-09",
          "2024-01-08",
          "2024-01-05",
          "2024-01-04",
          "2024-01-03",
          "2024-01-02",
          "2023-12-29",
          "2023-12-28",
          "2023-12-27",
          "2023-12-26"
         ],
         "y": [
          0.01580278128950755,
          0.06325110689437305,
          1.2217894680680745,
          0.6173502254670419,
          1.7645452062278009,
          -0.8235357858806858,
          1.001422786472575,
          0.18640350877193168,
          0.3797259369324736,
          -0.9106772821463559,
          5.98162168410102,
          2.2031896042527994,
          -0.6047085070157935,
          -1.8270893371757853,
          2.480803307737737,
          -0.34728353640589504,
          0.5147319843805325,
          1.2702216896345144,
          0.6391702846116754,
          0.5090909090909111,
          -1.2212643678160873,
          -0.5714285714285762,
          -0.8147360963513965,
          -1.9167293995019992,
          -2.18634947606911,
          0.8626599634369397,
          4.327095005364162,
          -1.1139270348323136,
          0.7242505194419703,
          -0.6663521641703171,
          0.45018362753229435,
          -0.48924255820808277,
          0.4797441364605557,
          -0.6998764923836956,
          -0.8455796594354961,
          -1.0559113726847917,
          2.1212656885274845,
          -0.6672519754170245,
          -0.8300441142326485,
          0.5310147633774853,
          -4.085744668942734,
          1.4709223080417848,
          1.3585079438176455,
          0.6372378635152325,
          -0.2196531791907488,
          1.092736516098875,
          -1.2122611556889653,
          0.27785817655571043,
          1.1831546886897502,
          1.0236686390532483,
          -0.07095553453169616,
          -0.587820362097343,
          -2.8440890919474526,
          -2.5381275743070257,
          -0.6030428769017999,
          -0.3693087862418628,
          -0.6625417510814258,
          0.8114374034003086,
          -0.7451238220469064,
          -1.0034170418180801,
          1.1243966652040431,
          0.4185944040537513,
          -0.4113871976304097,
          -0.8430327423039331,
          -0.15748031496062562,
          -0.4809770860354444,
          -1.1274378840502344,
          -0.9001853322742858,
          0.28143585386576103,
          -0.5754712000422382,
          0.05810882197569213,
          0.8631713554987236,
          0.9846650524616694,
          -0.540511612972289,
          1.3340563991323253,
          -1.9357583492873784,
          -1.9245814426537309,
          -0.35859058309946873,
          -0.9012720811659887,
          -0.16966580976864395,
          -0.3483963520852581,
          0.6653257001392648,
          1.2163290874921613,
          1.5533054127127217,
          3.2570615283555884,
          -0.5173446604585246,
          -1.2317125645438858,
          0.1778113044883798,
          -0.32225146355872725,
          0.567138381765157,
          -0.2263418840267385,
          2.4174853736615494,
          -0.4012973448408497,
          -1.270013568521033,
          -0.7487610428786827,
          -3.578663065496294,
          -0.5424114061370034,
          0.22262490292519121,
          0.05180005180004885,
          0,
          -0.18527756003706253,
          -0.49399640729885014,
          1.5652006913769883,
          0.6864546069805605,
          -0.2459372136760336,
          0.5869227784245286,
          0.43357529108003423,
          0.29315483461182523,
          -1.0156212216472518,
          1.691831013623173,
          2.216971646893236,
          0.7342887527219266,
          1.440936994323585,
          -3.211932877563708,
          -1.0016735577869644,
          1.8243785084202016,
          -2.449518408057493,
          0.36558137252496725,
          1.6485434956105383,
          0.4610142313088732,
          -1.2739011056966822,
          -1.8380924630924615,
          -0.6609098364609989,
          0.2272507494439604,
          -1.9578099075610316,
          -1.4091089664197485,
          1.103340736190525,
          -0.7084545369240832,
          0.39803104171082637,
          -0.2185561195713496,
          1.8282760601129477,
          -0.6112498513497427,
          -0.2349088838268814,
          -0.7372164778481748,
          0.9150979273626083,
          -0.16847400517285896,
          -0.05217597533498647,
          -0.2861467152249057,
          -1.3714605588468525,
          -0.14672659943638247,
          0.9735907626460942,
          0.9064806245698945,
          0.9800632608070622,
          0.21612794774505964,
          -2.0695169559286986,
          2.4379667549987967,
          -0.04334424966286601,
          2.6599426480767305,
          -0.4184924425188434,
          -0.7136921347216012,
          1.7533388047452092,
          -0.1390786042468651,
          -2.95719656801312,
          -0.13959085439229463,
          0.4496663765593303,
          1.451976846855675,
          0.05889859625012494,
          -0.01472248122883699,
          -0.6823609689525649,
          -0.3182315073484762,
          2.354667064498476,
          -0.15144368032970373,
          -0.3143097559768306,
          -0.6149153876426603,
          -0.7155241886248765,
          0.7801732624532428,
          -2.1528680826470157,
          -1.2578765901795317,
          1.5551423534809585,
          0.01449100350199306,
          2.111026165873388,
          -0.039442869468746006,
          -1.3545061037887383,
          1.8425875476744897,
          1.5594345792041826,
          -2.694632761447904,
          -0.27579810602363863,
          1.433416681108118,
          -0.23217329019191288,
          0.5738275039745634,
          0.9175231887691214,
          0.6027590729111463,
          -0.5418014899541036,
          1.2186762129636712,
          1.129740416463393,
          -0.2049862915417415,
          0.46335624372537243,
          0.9983620622416431,
          0.48593149933380714,
          1.8574203677585783,
          0.2935760228455584,
          1.8871515975526845,
          -0.051638854161003896,
          -0.7177549919050256,
          -0.07280179038476604,
          -1.3748537389639441,
          0.20251545512685137,
          0.3234688694629293,
          -0.15747611167459344,
          0,
          0.5826934596743415,
          -1.2688854239475313,
          -0.5773239963649885,
          0.2679959264619178,
          -0.48538510774482435,
          -1.0659630606860213,
          0.7978723404255319,
          -0.40262767535494326,
          0.03179650238473889,
          1.337199935556619,
          0.8066262451277659,
          3.1955307262569828,
          2.2857142857142856,
          -3.2935455349248492,
          0.7460193742344969,
          3.426037887948418,
          -1.6535477660116746,
          -1.6430878912777034,
          1.303391073745981,
          1.4888621657218086,
          -2.5610980917308357,
          -1.1363636363636376,
          -1.112808204233031,
          -0.1633808953273126,
          -1.3485198517165373,
          -1.5445649299127298,
          1.6671148158107143,
          0.15080519200732545,
          0.2591932609752091,
          0.06484033068568897,
          2.816666666666663,
          -1.3211994956416844,
          0.951906580330953,
          -0.15472177709012605,
          0.3270872602284086,
          0.3058444086081204,
          0.8581043185642182,
          -0.7845974069333908,
          0.4696148040476343,
          0.4041538029750204,
          0,
          1.2791358726549176,
          0.8138468592388904,
          0.03439972480220289,
          -2.4223776223776294,
          1.2432386508453417,
          0.6642339928160218,
          1.9946499185857047,
          -1.933276304533782,
          -0.8313539192399044,
          1.9076710276064792,
          -0.3503331036067159,
          -1.9484176145962424,
          -0.35910672202894534,
          0.8259787282190586,
          2.0790020790020756,
          -0.21896968998501523,
          -0.6810507640359399,
          -0.1485799188525169,
          0.23484935273226978,
          3.5529983984815288,
          0.9037586784773707,
          -1.4335437437319207,
          -0.17078916372203795,
          -0.6901391975669543,
          1.3875711574952583,
          -2.146918881281198,
          -1.209515620521631,
          2.714319359397071,
          -0.40462088782032357,
          0.8158439255098997,
          -0.6811109153895817,
          -0.8730574471800244,
          7.866649924660975,
          2.6288659793814517,
          -2.389937106918246,
          -1.4014634751333195,
          1.3448969331322187,
          0.8684627575277366,
          0.5609740549499557,
          0.5448019484681415,
          0.8011370978162612,
          -0.3604995493755647,
          1.1986970684039109,
          1.1798826708852361,
          -0.9467223818229229,
          -0.9442504203854664,
          -0.360871246294627,
          0.9432121251545028,
          1.5590936116799796,
          1.522468142186459,
          2.657670063343421,
          0.46344331465727046,
          -2.6267932915740593,
          -0.9737877676248969,
          -1.3228906147163295,
          -0.9388446994392997,
          0.026085822355544568,
          -0.04562935923342232,
          0,
          -1.9923907629372999,
          -0.28637852689421145,
          3.583782127063358,
          1.0586400292038558,
          0.5796746701083733,
          1.2744092758065,
          -1.8415697031367493,
          -0.15681250966273816,
          -1.721293683525072,
          3.774116163038213,
          3.4631832853630433,
          3.342926987873459,
          -3.88995625101271,
          -1.5440363731668205,
          0.025075511483447572,
          6.1755736276503015,
          3.7087239730411623,
          -3.331594336532283,
          3.6532608969038547,
          4.3543307086614105,
          -10.004606063469195,
          0.756827512346048,
          -3.8666132814734264,
          1.6441669282915299,
          -2.4777175515387957,
          -2.681645625496596,
          4.109651995082662,
          1.9741312650842402,
          -2.0417063569485814,
          -0.9942277974729569,
          2.448053081892799,
          -3.4384694932781836,
          -0.5455439788937079,
          -1.0081559930502544,
          0.007747133560588121,
          0.11745152354570032,
          -2.496731884919136,
          -2.5694195911664988,
          0.7561857692837972,
          3.121343030568159,
          1.1762492807506746,
          1.089509832434731,
          1.0660787971284906,
          0.7041491862722155,
          -0.12223687801328634,
          -3.239151483144083,
          -1.1151850119134399,
          7.15718049758668,
          -2.003930170916731,
          -5.54770203627967,
          4.47463359639234,
          3.1827276534363236,
          0.8529159871886601,
          3.595085015617599,
          4.003185357467888,
          1.8657533188262119,
          -1.3189158968755157,
          -0.4943609973195732,
          0.34890949921971154,
          0.3552420484351478,
          16.400877400995963,
          -2.850889823187231,
          -4.3532149890515495,
          -0.06193399212750769,
          -1.6806495263870038,
          2.456743566992018,
          -0.16609456317130514,
          0.15942772378799955,
          3.578351832971967,
          -0.6533616742036321,
          2.7498057839731453,
          -1.5995499913459919,
          4.7944377267231,
          4.970885493518657,
          2.4379540689453414,
          -1.986491222480649,
          0.4946770191307183,
          2.3496256001048703,
          -0.951036239998704,
          0.41556663733254373,
          2.4869306699179905,
          0.36711704160660724,
          0.27399102385234664,
          4.174619573782533,
          1.8803632276595503,
          -0.583519562981107,
          3.0561140559312787,
          -0.20429754478129303,
          0.8684452621895175,
          2.2770041400075316,
          1.697510190802443,
          6.428091329409118,
          2.2896787366140274,
          0.9018478420820325,
          -1.2435641919946872,
          -2.7341383627478737,
          0,
          0.21247748750430245,
          0.2800381501247987,
          0,
          1.079343208175448,
          0.9680598226189879,
          1.273922742749787,
          0.7094714437743982,
          0.2905425437296061,
          -0.7707695928453767,
          0.34242531585784186,
          -1.0919708029197106,
          1.873884592504465,
          0.5142310452044877,
          0.3721041891729711,
          1.6843647015745093,
          0.6634721710283895,
          -2.0282876918447212,
          -3.3730735678976353,
          10.224358974358967,
          -1.9669452648777703,
          0.5497282952104161,
          1.2669567443050869,
          1.4212473229930545,
          -1.2306903403627893,
          0.3473338907827826,
          0.6930051813471458,
          -0.2970424899909647,
          -1.8195650795663325,
          -1.0538862053823517,
          2.0942743691558925,
          -0.29374201787995396,
          1.130125928317727,
          1.5409836065573734,
          1.3087092273965315,
          -2.8337206300025732,
          0.2329192546583755,
          -0.598109203164195,
          3.0212681375472084,
          0.03976933784052646,
          0.13274042609677908,
          0.39981342040380774,
          -0.4642833454931465,
          2.1476964769647804,
          -0.7664380798709256,
          1.1630279534788874,
          -0.4401408450704264,
          4.6040515653775325,
          -1.3417190775681254,
          2.367837470491453,
          0.9314079422382614,
          0.602890971162935,
          1.6690052433350497,
          0.7664831076052993,
          2.267884322678835,
          -0.9572623803421889,
          -0.5099362579677592,
          -2.763599241650862,
          -0.9533439260436382,
          1.5251503152955073,
          -1.800115207373272,
          0.9522424947299574,
          -4.438732981383728,
          -0.09022138940939374,
          1.0803226937916464,
          1.0133219954648574,
          0.42698548249359114,
          -1.575961336415213,
          -2.172125531040145,
          0.5511919525975,
          -1.6200094895953465,
          -0.9865771812080528,
          2.117743814680285,
          0.2542256424350725,
          0.999306037473975,
          0.2923162583518844,
          0.9130495856159653,
          0.8642674978747513,
          0.7566024268379745,
          -7.500330120163748,
          -1.3354178880854557,
          0.870650852580733,
          0.2074142358596153,
          2.1318090114324253,
          1.1289445048966245,
          0.7192273443386415,
          -0.2664298401420866,
          2.0211876219682225,
          1.4207959284653926,
          -0.7158397080496948,
          -0.11216263582193942,
          0.40118243243242757,
          -0.1405678942929355,
          0.9435970202199452,
          1.5197349467012282,
          2.291313637368315,
          -0.48390644475401173,
          -1.8211920529801335,
          0.5428095823984946,
          -1.0881237024840793,
          -0.3850816515724111,
          -0.0997364109140235,
          -0.8126059920859283,
          0,
          1.498512926103869,
          0.4885338237829728,
          -2.005068994649396,
          3.2928035371458635,
          2.0300350210719937,
          -2.0352387044251903,
          -1.5739468864468864,
          -1.7378100219335266,
          -3.761636717904302,
          1.9703074121088324,
          0.6555191378256802,
          0.01111172842934708,
          -1.7950676560453909,
          -5.550115949497557,
          15.306910689880576,
          -1.1105887883417644,
          4.9651514216986445,
          12.06110035941387,
          1.8514607532558922,
          -3.4002040122407338,
          -1.9208964183285504,
          -3.550981022836914,
          -1.056584558589539,
          -2.7062174882338224,
          -5.59485530546625,
          -2.033218785796096,
          1.6534699580810455,
          -2.894617819990957,
          2.25459590704128,
          4.899939357186164,
          -3.629244345742509,
          1.6213326998455981,
          1.050231050831183,
          -4.902408400867483,
          -0.32425052619602546,
          -2.2465662014124566,
          1.2157370405808663,
          2.9195388982216257,
          1.0536790961774762,
          -1.1514870964008683,
          -1.6167596493225567,
          2.533271071678732,
          -1.4269275028768802,
          6.254203093476811,
          0.6584615384615342,
          -4.118480056643846,
          -4.539822011940973,
          -0.1293806604039029,
          1.3858788639215278,
          -1.8527847746991337,
          1.195196556021306,
          -2.323780015491876,
          -3.933241203359189,
          -7.155546782471378,
          0.3764612641172929,
          -0.07919223916056058,
          1.1565613578330758,
          0.16549648946839723,
          3.870396416106687,
          -2.7556861354541295,
          1.355444883708983,
          0.5212634186622725,
          -3.0957739434858706,
          -0.2494387627837366,
          6.221185946690679,
          2.548636017824148,
          -2.184659543932379,
          -2.8103528439324266,
          2.1154251951888536,
          1.0555496321569409,
          1.3398163155051424,
          2.23130453993151,
          -3.645362141450691,
          -0.5030181086519205,
          0.8382721981953236,
          -2.2443760112740807,
          0.3456764259152551,
          4.190995907230563,
          0.3394842030334581,
          -12.125294712024258,
          -0.6263746772496768,
          0.16283524904213362,
          -1.5976247702530686,
          0.14630923164055235,
          -1.7026212015773676,
          -1.9826292574234845,
          0.4659874822970489,
          -3.666050523721509,
          -2.8725314183123873,
          -0.43411644535240473,
          -2.283218964441664,
          1.2463682681375972,
          -0.18492834026814514,
          -0.21807506814845115,
          -4.0133644634087435,
          -0.02414681262073498,
          -1.8563867604076218,
          -3.1594247246022,
          1.8822337399165987,
          0,
          1.0602519523456564,
          0.8914193696802458,
          1.134182516140283,
          0.602691632533646,
          0.3582124610957858,
          -0.751835878307507,
          0.24538443561580736,
          -1.0521447566192583,
          1.8547959724430179,
          0.4970708325936466,
          0.3146147453401407,
          1.745485293229459,
          0.5648688046647272,
          -1.9416319237641568,
          -3.333525246128155,
          9.96517885406775,
          -1.955307262569836,
          0.7378689344672379,
          1.2472301361190243,
          1.4320575391728678,
          -1.105042550489019,
          0.3697093319734909,
          0.5641025641025612,
          -0.2110919209364885,
          -1.7965952635215685,
          -0.9950867591268078,
          1.985284790054545,
          -0.3035285190337611,
          1.2809017548354042,
          1.4291282317786078,
          1.3163090693694879,
          -2.833024237385692,
          0.32078013729389876,
          -0.40255591054312806,
          2.784710363851313,
          0.21060945109911358,
          0.15820698747528616,
          0.3638769434336639,
          -0.40851288133359986,
          2.0371117386042763,
          -0.6280064136825212,
          1.189832341806395,
          -0.3771551724137947,
          4.438348456073717,
          -1.5033947623666453,
          2.5360517155643905,
          0.8236642314854646,
          0.48941989347920456,
          1.9443833003155082,
          0.7763975155279377,
          2.0217260108630106,
          -0.9119449843025854,
          -0.3129657228017791,
          -2.80996523754347,
          -1.2161968808126975,
          1.7099614349123147,
          -1.9057815845824322,
          0.9729729729729689,
          -4.501342143299603,
          -0.02064409578860524,
          1.028921023359281,
          1.153305203938126,
          0.310383747178328,
          -1.51451993886342,
          -2.1747995106701024,
          0.5260640841702411,
          -1.586767968802518,
          -0.9918785780854807,
          2.037766607797854,
          0.36814835014998093,
          0.8733924764459186,
          0.3311943696957081,
          0.9683711857322105,
          0.5815990470184178,
          0.6417489421720709,
          -7.350539039529565,
          -1.156032033066386,
          0.68274920345927,
          0.09763082530591363,
          2.1882274692384382,
          1.123217648641369,
          0.6566921670841506,
          -0.17571129282962147,
          2.055314159597206,
          1.4696619777451347,
          -0.825930038867314,
          -0.11092623405435148,
          0.3967425349760017,
          -0.09040333796941855,
          0.869809203142543,
          1.4445314167793362,
          2.2854647354247146,
          -0.4708780063749679,
          -1.6528925619834864,
          0.5732301519059984,
          -0.9721138153693354,
          -0.2477349943374818,
          -0.11312217194569894,
          -0.9662512253185797,
          0,
          0.9246707978311369,
          0.08721775365830353,
          0.6142745709828349,
          -0.23831525704003162,
          -0.20143186506491545,
          0.7900787632699031,
          0.6028988360361219,
          0.05663071847146753,
          0.3012940827817767,
          1.0103025918627015,
          0.06739890164752416,
          0.506799136936133,
          0.46631210142917495,
          -1.0549680766161118,
          -0.2835115642875014,
          -0.693981378577956,
          -0.25618918586031864,
          -0.6825855066790675,
          -0.009785214540819908,
          0.9133998222573291,
          1.2978569106504283,
          0.540554130839236,
          0.20659074876549255,
          -0.8344576025583309,
          -0.7439369141496801,
          -1.0671965849709335,
          -0.3666495563540368,
          -1.3455834478767235,
          -0.30771449864173606,
          -0.6330323443695899,
          0.7945680439179456,
          -1.1707595659623111,
          0.31509596104267956,
          -0.3046168491194604,
          -0.07609626177113887,
          0.861055812726351,
          1.3023301018052855,
          0.4025175644028048,
          -0.40816326530612407,
          -0.5268500169171904,
          -0.559948090649117,
          1.0564406450359487,
          0.8202541563624705,
          0.06860559135570272,
          0.3442086888107534,
          -0.34302795677847187,
          0.7778161884537451,
          0.054353196956227715,
          0.3993550787548093,
          0.18887149283033647,
          -0.3886523418160197,
          0.8035135000249464,
          -0.6569324970871805,
          -0.913757952396165,
          -0.5593551538837234,
          -0.6648226330858469,
          0.789904869042078,
          -0.056215476365048964,
          -1.9366281578064428,
          0.49619423836593174,
          1.4441050702504643,
          0.5157804249048319,
          0.28572132318529225,
          0.6295699591027439,
          1.1964482793217572,
          0.9827760891590667,
          -0.7316889190616198,
          -0.1631689928707787,
          0.21887343077813393,
          -0.04275008801489109,
          0.9955808401483253,
          0.7626164397584242,
          0.002559181062057813,
          1.1153089742262712,
          0.7036013967790662,
          -0.8807955572775328,
          1.036066600553257,
          -0.5760249091852544,
          1.1946960745700288,
          1.1312036963275838,
          1.1957865319503382,
          1.1085149160462926,
          0.2915610779585256,
          1.2721452618797984,
          0.8600295026301804,
          -0.5012461921905296,
          -0.6930311864033831,
          0.07706280618705058,
          -1.2448358338769407,
          0.2780049059689394,
          -0.3476560378076021,
          0.7084438852266287,
          0.5251869775626837,
          -0.8370824812542585,
          1.1835788776692657,
          1.6261986205349503,
          -0.2544956232346025,
          0.1736937946491118,
          0.03362945940644132,
          0,
          -0.27893413350801793,
          -1.7257133363791175,
          2.0536187347674044,
          0.8204952885622171,
          -1.7198656026879457,
          0.1640654579108941,
          0.5966991112991944,
          0.9311464206389914,
          0.5497337227280541,
          3.0356668731746232,
          2.327476906357538,
          0.5669527994717569,
          2.0968454332008233,
          -0.5663168600619455,
          -2.407002188183811,
          0.4327336988536012,
          -10.5612968591692,
          -0.5240878855069588,
          2.9829987752475464,
          0.1371941713264234,
          -4.131127939418098,
          1.5440030758645802,
          -1.1185368977108963,
          -0.09395677988126007,
          -2.2797421371361515,
          -2.1523052221117807,
          0.6405940403593342,
          0.5668407815825235,
          -0.4525758305247997,
          -1.5341146129631797,
          3.213810381273001,
          0.824880609385485,
          1.8839093632506996,
          1.2251958888775785,
          1.1882696980930103,
          -1.6765885068642996,
          -0.4093649801367184,
          -1.4174386704305983,
          -1.2873346677656115,
          0.3584370568772635,
          0.44310808672258456,
          1.8700628728034765,
          -0.14889935208660493,
          2.6606073125387306,
          -1.5716812719842144,
          -0.7546865225901506,
          -0.8364182091045537,
          3.3416737318803174,
          -4.419409032513097,
          -1.2182978972646996,
          3.24537886270638,
          1.1974215658275769,
          -1.599791244304376,
          -0.8182361138761723,
          2.483014710382963,
          1.262344531217721,
          -0.6221127194333291,
          1.1022543280607802,
          -0.4731111707951911,
          -0.4319832143665322,
          3.867273465376156,
          -0.7885532591415003,
          -0.33169948449251946,
          -2.212672768216842,
          2.2713826910074375,
          2.860123446057543,
          -1.8724674770739973,
          0.16876375210953914,
          -0.4021276595744652,
          0.08731020677612919,
          3.2701442646023806,
          -1.0208746000304734,
          -3.280069054085346,
          20.31764527078374,
          1.1893166555595394,
          -2.4796280557916353,
          -0.2393895566305869,
          1.7455726391637478,
          0.24416297878833598,
          0.6347581264397283,
          1.4278296988577364,
          0.8958038661009001,
          -0.4355196244621244,
          1.946135644590964,
          2.1065776257567093,
          0.24764600228596992,
          -1.8772196854388714,
          1.3038656098682588,
          -0.2159419116257757,
          3.648266793498033,
          -0.3429431773824843,
          1.9065208126154385,
          1.3914496427748284,
          0.7692977617789581,
          -0.5255710531635314,
          -2.1669115154254603,
          -1.2167894619334712,
          0.13693653410837803,
          0.8454752980300425,
          0,
          0.6445795844763776,
          0.7187711332238484,
          0.7141745154510701,
          0.41818110759369725,
          -0.20865427741267456,
          1.1399719937676218,
          0.7591264084577002,
          0.449137655701054,
          1.3309599902908662,
          0.39191796121433786,
          -0.10548309227742837,
          1.830162566358888,
          0.08476328302667459,
          -1.089912684293394,
          -1.275865549611396,
          0.3017049366217165,
          1.3461933100759291,
          0.2303673536550258,
          -1.0280316755898482,
          -1.975535290244044,
          1.6119875096313696,
          2.962483559155723,
          2.154023331698271,
          5.219576778942169,
          1.4640255009107483,
          -0.5704971475142712,
          -1.8509054549494464,
          -2.103454276516144,
          0.8157894736842164,
          0.0570500724097053,
          0.07905485528569846,
          -0.9483621177187136,
          0.3492382241236353,
          -6.444762099244436,
          -1.0107135637760258,
          0.32447779355099693,
          0.16046799780626445,
          1.3233720260146553,
          -0.8549799008304931,
          -0.32947588927983174,
          -0.5139307609817333,
          0.18446444498500467,
          1.2873421619956846,
          -0.7681023593170575,
          0.3721881390593033,
          0.20491803278688525,
          -0.2758761622560586,
          0.04088725339876224,
          2.6396961621587565,
          -0.4615898742637494,
          1.307659754549291,
          -0.116242206488419,
          -1.8096167016000222,
          -1.5647662043184216,
          -0.824554294975699,
          -0.9392309544834131,
          -2.9488527910872167,
          -2.265285920962478,
          -0.3641605341021089,
          0.14055080721747562,
          0.8678659693085757,
          0.17464399493342073,
          -0.09395072380404738,
          0.12862847488864212,
          0.7621774287151198,
          0.01741317596982332,
          -0.1526157174870496,
          -0.11192157770831711,
          -0.35955315426176326,
          0.13477348427964447,
          1.707560655609292,
          1.5329250835056538,
          -1.4248476177410263,
          0.6092992073194842,
          -0.8988939695939389,
          1.6143444331923502,
          -0.18432631704126665,
          0.2662957074721844,
          1.9862180786380241,
          -3.8637647838201277,
          -0.44421166977032195,
          0.49318700169593416,
          1.8726666137103836,
          -2.4751132974396772,
          -1.6382824703775711,
          1.1152845998266545,
          -0.4525320703342244,
          -3.366809961458635,
          0.37943605386503304,
          -0.13559447963296956,
          0.344814731976445,
          -0.1600357289069213,
          -1.474093359246079,
          0.625426636902014,
          0.49875774094262265,
          2.44458373696507,
          0.299104591350743,
          0.4036037414640704,
          0.5307386112339656,
          0,
          1.5016543649783627,
          -0.5987518974531909,
          0.7733491969066003,
          -0.2035450767534517,
          -0.042387249915223094,
          -0.4052684903748768,
          1.9715884631941385,
          -0.017216148747521753,
          -0.4967880085653091,
          0.646551724137931,
          -0.206469373709562,
          0.18098767560113224,
          -1.8939714213240848,
          -1.1451019725844236,
          1.4242115971515827,
          -2.777548833759173,
          0.23130937629078988,
          0.016524828554900454,
          0.3898473788984728,
          0.5672339005672395,
          1.1474856564292943,
          -0.09272528028323311,
          -0.05055185778077536,
          -0.8272058823529487,
          -0.5732325330231767,
          -1.1659413744970866,
          -0.33551554828150293,
          0.8417230566099982,
          0.5226047283285024,
          -0.675620004943567,
          1.3782158369528947,
          0.35205364626990926,
          0.016767270288393712,
          1.9574322591674556,
          0.6452167928423951,
          1.104635991997909,
          1.0369979787327468,
          -0.7501090274749231,
          1.0221164860340213,
          0,
          0.4425170369059209,
          -0.08842514811213063,
          0.7034728406055265,
          0.925676282915432,
          -0.1794204718758436,
          1.771204236282295,
          1.1170605612998596,
          -0.6420840212805017,
          0.5905148551393251,
          0.940672441091544,
          0.5619556055071729,
          1.0696705793260086,
          1.2265235722499053,
          -1.3983371126228308,
          1.2629161882893296,
          0.19171779141104567,
          0.27876574065172743,
          -0.21103117505995092,
          0.3948382126348195,
          -0.8781977854142818,
          -0.08583690987123434,
          2.0437956204379506,
          -0.9447604357466537,
          0,
          2.865926219754066,
          -0.49338859285573317,
          -1.7737714451875528,
          1.3756509776948078,
          -2.115994998557279,
          1.711993738994326,
          -0.02933985330073461,
          0.6893156080748428,
          -0.4118858487790544,
          -0.41019630823322756,
          -0.40852057192880237,
          -1.9456366237482043,
          1.6677979249490924,
          0.1262135922330053,
          0.8518554783119598,
          2.5401606425702825,
          1.7260749668062483,
          1.1258004544515632,
          -0.13408973697783358,
          0.15495867768595628,
          -0.18560527943906663,
          -0.7267888217831854,
          -2.2611305652826466,
          1.2972534711665158,
          -0.020265477758634128,
          -0.983244707534869,
          -1.2386048355132777,
          -1.6661794796842968,
          0.30297107114933763,
          -0.8719240457275778,
          0.8401719421649076,
          2.380476095219039,
          -0.20960175666233533,
          -1.4459964587841816,
          -0.4699432151948345,
          0,
          -0.14524328249818505,
          -2.0202790272165863,
          3.015785753553753,
          0.8288240728520486,
          -0.3026315789473624,
          -1.4969865854448778,
          -0.44516129032258656,
          -0.3561464186070409,
          1.4464965826681317,
          4.314461814767939,
          -2.7701710521093705,
          -2.6829739298358586,
          -0.5569069261298197,
          5.954964731416166,
          0.5030606263036707,
          1.1919378647205687,
          -1.0010925976509206,
          -1.8090627472542218,
          1.9635458684861846,
          0.6911649295755388,
          -2.632884241571164,
          -0.6420075389266935,
          0.5396791386560211,
          -0.5367822369034422,
          -0.11574690011175624,
          -1.0466172540449512,
          -0.31365652641801445,
          0.6259574243304644,
          -2.579474842079527,
          -0.8824166996085325,
          2.1000416623268405,
          -1.0193430327710367,
          1.5746897743337311,
          0.44835973966209747,
          -2.2379042624299554,
          -0.02827109409133023,
          0.42328042328041976,
          0.22764311767596956,
          0.3283113377713724,
          0.045439202347262314,
          -0.33641280438889615,
          0.010352234788690304,
          1.3269346760024132,
          1.125740880703291,
          -0.8623296044588828,
          0.38134698617122165,
          0.3828068083979053,
          2.8024020589076404,
          -3.6436875114808283,
          -2.30978260869565,
          0.050014747938492934,
          0.28035339960647,
          -1.8541424748826099,
          1.299033396409754,
          3.7734847680713375,
          -0.5226756771025866,
          -0.9620915032679758,
          -0.8964659550212405,
          0.309275671180185,
          -0.012993087677358602,
          3.1813489563084043,
          -1.2902628166106451,
          -3.375700074163105,
          3.2040961756710353,
          0.06206177126936489,
          1.9300913899618986,
          0.7744893253397765,
          -0.391807176826629,
          0.6089604175728602,
          1.4199454079241163,
          2.886401997078142,
          -0.1656754460492881,
          5.77398337452259,
          1.09322713989371,
          2.295503477331506,
          0.09767744736270821,
          -0.0031007751937956293,
          0.899491591709034,
          1.8530320894808952,
          -0.9594445321129937,
          0.6384195146741354,
          -0.19021049961958622,
          0.3659041013077022,
          0.8390149995989441,
          -0.8840692626925865,
          -0.8919425752872152,
          -1.2987618988365441,
          1.1325740892216591,
          0.8775131309604997,
          0.7530216793502649,
          -0.08785521460632151,
          1.2092797671974809,
          0.6590724165988535,
          -0.5180508337380678,
          4.305977710233029,
          1.5919851780690466,
          0.3563742790737602,
          -0.11349761826967175,
          1.8995216149438436,
          0,
          1.1458487677186708,
          0.17812082529314988,
          0.2977519726068298,
          1.3988829064559962,
          -0.02012376113096567,
          0.6430379746835494,
          0.9455660618451286,
          2.033898305084749,
          -0.13020833333333331,
          0.7821111752663951,
          -0.6000208702911436,
          -0.10424267695195301,
          0.06258475018254121,
          -0.7967715231788038,
          -0.10853274071011834,
          0.06205719604902753,
          0.1501968096125917,
          0.4892266056000969,
          1.4413177762525684,
          1.942949407965546,
          2.5103448275862132,
          0.6497112394491267,
          -0.3982300884955746,
          -1.142763409699806,
          0.05470758794244451,
          -6.467788978150751,
          -0.020463498235019206,
          -0.8521430382957172,
          -0.6700927045546071,
          0.5216510508989624,
          0.920010222335795,
          -1.3363590519415056,
          -0.28160514935130354,
          -0.04021312958680209,
          -0.6789815277084441,
          0.3909382518043309,
          1.9363408777397542,
          0.4670978338979554,
          -0.9154714678059258,
          -1.2257610770621912,
          1.390515968013034,
          1.3106971463955934,
          0.586525485310908,
          1.2401471361008856,
          1.2395595041762049,
          -1.7817953809175446,
          0.8112094395280194,
          0.8231982580062729,
          0.037190521729886926,
          0.18629903656783642,
          -0.875850788793329,
          0.519756032882519,
          1.0017141632740543,
          0.7501754007231987,
          -0.4138449962377782,
          0.911161731207293,
          0.506950122649227,
          0.049083769633494215,
          -0.3424099135822574,
          0.5025400120172698,
          1.199557766721939,
          0.6509764646970544,
          0.39099592247108783,
          -0.46700394729527067,
          2.18144634437312,
          1.0157236313554519,
          -0.8703566755788162,
          0.4456888177818417,
          0.12013729977115534,
          -0.35911759676223876,
          0.1884637350085737,
          0.3438395415472747,
          -0.13163166027584833,
          0.5756058251309504,
          -0.3613214039917549,
          -1.0835649855335545,
          2.049441324610676,
          0.26120269328998647,
          -0.38163524921938047,
          1.4310850439882683,
          0.8935439966861891,
          -0.6583975074951528,
          -0.11743291644647326,
          1.7261975869071886,
          0.19749835418037232,
          -0.5357461753675847,
          -0.6270334220644793,
          -0.733998825601879,
          -0.42100339141620796,
          0.2109457400679794,
          -0.7906057435182033,
          -0.14512103093980377,
          0.5017210197771506,
          0.046693515438034246,
          -0.43584379358437936,
          1.1640211640211748,
          -0.11743981209631066,
          0.5312868949232619,
          0.5997980877724446,
          0,
          0.23334197562871742,
          1.054562127464475,
          0.85216012683313,
          0.10580611030286773,
          0.8738576479220881,
          0.04004004004004156,
          0.6042296072507591,
          0.154653039268417,
          0.09422533315384732,
          -0.4622496147919862,
          -0.4335645677694619,
          -0.8334435771927631,
          4.557714918044127,
          -1.518866639422415,
          0.4653072396332331,
          -0.46315215910639346,
          -1.1512825691779491,
          -0.688686814656326,
          0.2950643776824019,
          0.8180650395510837,
          1.4889529298751114,
          0.6700283207846922,
          0.22152994115612434,
          -2.1275154143234736,
          0.047451193058563705,
          -0.8535519860205537,
          -0.9387483355525944,
          -1.3723816402915514,
          0.4617718846889562,
          -0.524968829975709,
          -0.07213114754099255,
          -1.14093089589005,
          -2.1999619603119247,
          -0.03168969451135211,
          -0.25918199633352085,
          0.14560648265382994,
          1.4059189831161312,
          0.3543357814714672,
          -0.006442053726722222,
          -0.3338683788122056,
          -0.006420133538771768,
          -0.28807374687921194,
          -0.35085480990047396,
          -0.8977114679479173,
          -0.6469442874191327,
          -1.173184357541891,
          -1.0077424112080708,
          0.9365502698009176,
          1.0719658976930664,
          0.4091395480581643,
          -0.29496673779339705,
          -0.39382384197036663,
          0.08133133133132849,
          -1.406365655070319,
          0.45854504895278786,
          -0.10523057876819307,
          0.3540812523294954,
          0.11816655264630745,
          -0.6487889273356471,
          0.8663134933001029,
          1.1154524829846115,
          0.5194476118079266,
          0.8367933567550316,
          -0.8675278622086983,
          1.3997688455117363,
          -0.46654310730490817,
          -0.8742477035159935,
          0.6953304414391449,
          0.23017902813298285,
          -1.0001265983035728,
          -0.05061369100342434,
          1.4505776636713676,
          -0.5172083519570922,
          -1.1050770396564789,
          -0.3398363750786608,
          0.08187944825848426,
          -0.3702309236947812,
          -0.08777429467083785,
          -0.03760340937578483,
          0.3774534474081494,
          -0.5318816094111722,
          -1.6372253339077965,
          0.48861949529935184,
          0.29154518950437247,
          0.48619335535747743,
          -0.05606777971592537,
          -1.1515487406859881,
          0.7694694384114059,
          -0.4448013838265268,
          0.14848728577616105,
          0.061908004705004835,
          0.2482467572767366,
          0.31127435721845237,
          -0.2112194818910377,
          0.625117209476777,
          2.0607375271149606,
          0.10218418699706003,
          0.1471058522545687,
          0.13449468425772254,
          0,
          0.09291023441968545,
          -0.5896980461811812,
          1.3537841146395877,
          -0.5905723182647831,
          -0.4808719811925706,
          0.7898326990737374,
          0.4870305566578963,
          0.2640526658467837,
          1.3899585579638256,
          1.5568550039107627,
          0.3288367400321346,
          0.10848421367650024,
          -0.480250176836313,
          -1.1881989405532525,
          -0.9762494535917262,
          -0.232591946503868,
          0.050905388699019415,
          0.33198351026958817,
          0.6536187713436014,
          0.9452146193194498,
          -0.5859159081696694,
          -0.4840661557079443,
          0.49382716049381786,
          0.025803597758791666,
          -1.6958979562255425,
          0.10156703424259021,
          0.43719032352083526,
          -0.8094825093957824,
          -0.37442396313362747,
          0.22371364653244014,
          1.1459854014598492,
          -1.0687463893702989,
          -0.5315328257434342,
          0.057496047146767655,
          -0.28665615594095295,
          0.021503834850549162,
          -0.5630791161796297,
          -0.21691973969629702,
          -0.7237167266822041,
          -2.44860006198988,
          0.3767975663716924,
          0.6716547764050634,
          0.8068759866690095,
          0.7101469756924783,
          -1.1766348940330311,
          0.4453952444413407,
          0.42969850662157316,
          1.1976047904191667,
          0.1856877588915804,
          0.6396894990296952,
          -0.7738116464001769,
          0.3758321998711473,
          -0.4099383310162825,
          -0.9288035033196963,
          0.18397962071894944,
          -1.0468088085985399,
          0.8687360949253027,
          -0.34488826324123223,
          0.19393511988714898,
          -0.052863436123340005,
          2.5256539962422346,
          0.5851353807014406,
          -1.224152785755322,
          -0.8612712648587144,
          1.2321660181582417,
          0.6344947608861172,
          0.26902243065401865,
          -0.49198712151358887,
          0.23569511929800355,
          -1.292100647839942,
          0.9502818326347723,
          0.4281878220480467,
          -0.5772422252687865,
          0.046922938097814636,
          1.3869574763961139,
          -1.4035720728847147,
          1.2753051231454915,
          2.1348062999179023,
          -1.7130699534133067,
          0.3533959138597594,
          0.14377350143773,
          0.022123893805310574,
          0.11074197120709169,
          1.029313045424029,
          0.5663278700821329,
          0.5240536872266575,
          0.40504220766930127,
          0.053024277544234825,
          -0.20033262775930963,
          0.4670945201838067,
          0.3009065285289722,
          1.0974623589664687,
          0.030815453950149868,
          0.6318319249554211,
          -0.3438019082937329,
          -0.5684655271749637,
          -0.019201228878630773,
          0.5677210056771986,
          -0.08874826362093617,
          0,
          -0.13106159895152344,
          0.8107621163894198,
          0.45246138996139,
          -0.0663169952372422,
          -0.5873539106982258,
          0.48783425680559045,
          0.587629490519173,
          -0.4162644787644774,
          0.8027243979566975,
          -0.012161011796187664,
          0.3784179687500028,
          0.2692778457772324,
          0.12254901960785358,
          0.9526166027465002,
          0.22940045880092044,
          -0.7751461088895842,
          -0.030750307503064542,
          0.6811145510835879,
          0.5979818113865754,
          1.5176425951688415,
          0.5404030771186944,
          0.21024464831803263,
          0.6476434754729204,
          0.321646831778707,
          0.0772548767140772,
          -0.3272587268993781,
          -0.8903586873569103,
          0.3702285203625766,
          0.3973340169187417,
          -0.03843689942344797,
          0.4181408813123228,
          -0.4482869036183266,
          -2.7526935293018546,
          -0.006227425582276328,
          -1.0292758089368181,
          -0.22138859848718628,
          1.2830893802553736,
          0.22473312940883552,
          -0.9093158480762087,
          -0.12356357345855494,
          -0.08025186739921937,
          0.09886918371129985,
          0.38459152658023976,
          -0.10534143016482062,
          -0.07430340557275823,
          -0.4929143561306293,
          0.22849379361452757,
          0.23522129371711262,
          0.748362956033687,
          -0.16809861785581512,
          0.6580184245158935,
          0.15691689681144866,
          -0.15041363750313932,
          0.4469625432798287,
          -0.05662514156285606,
          -0.693533270852867,
          0.4708097928436911,
          -0.5742104606166443,
          -0.5030118611438876,
          0.29272546088689516,
          0.09975062344139438,
          1.1923537947132767,
          0.6348803250587265,
          0.318451054072989,
          0.8867184990040451,
          -0.409547577910037,
          -0.5346572465151825,
          -0.19692542243677671,
          -0.7690368129097321,
          -0.30165912518854837,
          0.10065425264217198,
          0.47405347323178054,
          0.07590612941995353,
          -0.6847593918834045,
          1.2982054219167753,
          -0.2222363324655678,
          0.8516905737704997,
          0.012809017548360595,
          0.33414728184036874,
          2.3008151459374178,
          -1.2079490842966525,
          4.139050453131324,
          0.19651690723048076,
          -0.3847711624139282,
          -1.2004801920768384,
          0.1001401962747885,
          -0.5378486055776908,
          0.05979669124975312,
          0.3801520608243252,
          0.4286671131949004,
          0.4102495124083756,
          0.8614841948175352,
          -0.8274470232088922,
          0.5478896103896119,
          -0.6050826946349372,
          1.5012965743141922,
          0.555822411308586,
          -0.2259345474462635,
          0.08222557215294268,
          0,
          0.30509730424738535,
          0.18995633187773026,
          0.8366358432408657,
          -0.7777001048584417,
          0.17068580681867318,
          0.32712024413269425,
          0.1583217890362221,
          0.37743345252284016,
          0.8211496094532341,
          1.305288786690117,
          0.5622307866696806,
          -0.21942226344243454,
          -2.023492907801417,
          -1.2907460074382047,
          -1.150469270360277,
          0.06708359481508781,
          -0.08432432432432138,
          -0.06914135084914073,
          1.3289545703338792,
          0.29864511737192595,
          0.1517484055421152,
          -1.1865438108484083,
          0.07394197729547036,
          0.006524717805948958,
          -1.201168937212595,
          -0.6256539471717466,
          -0.18330242769145802,
          -0.633259911894275,
          -1.3970972120705853,
          0.35628209158546487,
          1.570981544159907,
          -1.6023626995098725,
          -0.4192478568299837,
          0.2153010033444878,
          -0.6582635961542488,
          0.757401401820275,
          0.24119127516778047,
          0.15965044954205337,
          -1.1688500425602582,
          -1.4264079895219324,
          0.12294074256207808,
          0.834710743801657,
          1.0670508885130225,
          0.6430868167202577,
          -0.7612413447901965,
          0.813691890414416,
          0.579440438175399,
          0.7907750021314646,
          -0.021310147892419105,
          0.3678829618856077,
          -0.8608990670059377,
          0.8726899383983661,
          -0.20704817605499098,
          -1.707823678744516,
          0.39388322520852737,
          -0.8541296857053423,
          0.8636124275934751,
          0.05057849149649303,
          0.23023953360651744,
          0.39443549071168327,
          2.7251933340594685,
          1.6159380188157193,
          -3.499028047764509,
          -0.6683924630792687,
          1.3091425009135997,
          1.0272336359292922,
          0.38150465435678316,
          0.1812702017995947,
          -0.08292235848644774,
          -0.7901972245675638,
          0.30618892508143863,
          0.8188107540064824,
          -0.829389031221502,
          -0.07376551245336106,
          2.602230483271375,
          0.9074777061479414,
          1.04634799582369,
          0.4674708685836799,
          0.3960622710622622,
          -0.4330977889218093,
          -0.013674901996536211,
          -0.22512791358726755,
          0.6799761893859672,
          1.4069465081723498,
          0.7720743063029365,
          -0.21711217462355709,
          -0.17478443253320905,
          0.5577427821522298,
          -0.3619212179232621,
          1.3416942735447133,
          0.14692639461585966,
          0.6103666968671027,
          -0.0833789932582047,
          0.23879456503569982,
          -0.7395292611818258,
          -1.0832102412604638,
          0.04456746106211243,
          0.4618719954755348,
          0.16286260532961921,
          0,
          -1.1925247675497401,
          -1.6738965442809668,
          4.068027506648413,
          3.17904165202503,
          0.3533913565426198,
          2.077860408832238,
          -1.4863773889555234,
          1.708221101825632,
          -0.5494882890308435,
          2.5193449703077238,
          3.1923912253647324,
          -0.3451716202951228,
          -4.415236835426494,
          -2.8648907083414197,
          -0.40548483337921726,
          3.835694751317181,
          2.991677408061627,
          0.6107957956755883,
          2.01966581186809,
          1.6393986934614968,
          -4.311392465388921,
          -1.843088030063237,
          -3.4934464960197307,
          1.4015518543667755,
          -2.483501603339103,
          -2.776933871504427,
          4.544113977177352,
          -0.8777584552650544,
          -0.15118628845146184,
          -0.24861321606953363,
          1.664516129032263,
          -3.3531150739798004,
          1.8263168902566587,
          -0.8516878230859242,
          1.8748915429942365,
          0.5065479666042377,
          -0.9583248841523399,
          -1.4864084996818479,
          -0.13964107072931797,
          0.40578635014837,
          5.6426332288401255,
          3.068634340594988,
          0.062235297921177934,
          0.1408336705787138,
          -2.1207823999619717,
          0.3497976738454762,
          -2.6325974548719864,
          -0.09589210591436076,
          -1.1920044012470303,
          -6.985735709056792,
          4.222962962962963,
          0.5399366970768944,
          -4.24386347752913,
          0.22084521537768234,
          7.58790917269645,
          0.8585255386142557,
          -0.5253697260516996,
          -0.9853872419087554,
          0.9842868934023634,
          -0.6536899379262932,
          6.30982932094994,
          0.07337654396478668,
          -1.5198959437325419,
          -1.5485309113329633,
          0.22579265104339252,
          0.8444852794311458,
          -1.0553359683794394,
          -1.4367636975628042,
          0.6809124854874693,
          1.4080473485752507,
          2.814378603852276,
          -1.6450808462714037,
          1.532254112419752,
          2.0274831043074584,
          1.6957627118644059,
          -2.330817110316521,
          -0.7891473759412616,
          1.0698160812694935,
          -2.042276422764219,
          -1.903706125834408,
          2.2473925842568314,
          0.4760344121261733,
          0.7678335535006567,
          5.8824557876056645,
          3.646017378383032,
          -1.0125923799956917,
          0.657229524772495,
          0.7000127275041406,
          1.7962741886226792,
          -0.17736884405399336,
          0.710796855375178,
          2.4369091186337237,
          0.025738553493291943,
          -0.9040412628237768,
          -2.4691813005583465,
          -2.765509518477034,
          -0.5488190589891467,
          -0.33387499223030187,
          -0.5053494597531586,
          0,
          0.4318268024392266,
          -1.7036166002237068,
          2.399412628487523,
          -0.13491318629750693,
          -1.5789625609791378,
          -0.29069767441860206,
          2.541097305433407,
          -0.5459508644222061,
          -0.4674398901516324,
          -0.16333673618200442,
          2.181623103746327,
          1.0723860589812169,
          -0.6732092633594638,
          -0.7660332541567648,
          0.510310662807018,
          0.936803421892872,
          -0.3093000210203816,
          -1.7669616519174067,
          0.85983755318199,
          0.2236402671755725,
          0.7419868425005339,
          0.018027221103867522,
          -0.5973180419914583,
          -0.917349746989028,
          -1.4407793041094286,
          -1.2954486570515589,
          -0.9099726152441802,
          -3.0048143434231678,
          -0.174009114763153,
          1.1680219073965425,
          0.053120107358532134,
          -0.6168380105584803,
          -0.853994490358133,
          -1.3667364073580885,
          -4.058915537017739,
          -0.5934333618388566,
          1.5687100255310134,
          -0.9334828296524169,
          -1.734652044685862,
          -1.2449392712550647,
          2.8068988840040485,
          1.3178355868321867,
          2.0166169234492215,
          -0.35366931918655875,
          -0.5436086018066895,
          -0.9815562415894951,
          1.188124098894641,
          0.8128768303187012,
          -0.49015668943351837,
          -0.8498207409374554,
          -0.2357990674014377,
          -0.26687805522525854,
          -0.5047716696900428,
          -1.0612563402262931,
          1.0089067549460011,
          0.7944704854214666,
          0.5458515283842825,
          1.0656620021528471,
          -0.09678460049466524,
          0.16696289115096802,
          1.9800620657457444,
          0.430261742560058,
          0.060714778529038345,
          0.3517226099479447,
          0.7955782597772285,
          0.17897592214548597,
          -2.150773019564924,
          0.6333471017485919,
          -0.156713955790182,
          0.28398908158483266,
          1.8077192982456132,
          0.31255279608042286,
          -0.5850572460319771,
          -0.7887355236481726,
          2.014392565729832,
          -1.1593391206944954,
          0.39359010402025135,
          0.11258091753447151,
          1.2337236800866125,
          1.065453393613052,
          -1.00062717372712,
          -1.6569009504051206,
          -1.578322893959887,
          1.2601285275216674,
          0.6184987348889481,
          -0.7616549953965958,
          0.7646678474037917,
          -0.22999467085518563,
          -0.07567264573992115,
          3.0647910107166623,
          -0.5001005949472621,
          1.4550650259520643,
          1.2847396556307107,
          0.09755809140897065,
          -1.9763533093775338,
          -0.42418121483192245,
          -0.23318747121142394,
          -0.33569563595672086,
          -0.22329735764794298,
          0,
          0.9808181761747992,
          -1.2020852499233412,
          -0.3422773669091145,
          -0.5591685406916596,
          -0.7779519961403883,
          0.22363251737685377,
          1.7903285345145792,
          -0.07991639515583418,
          0.22797288971039809,
          1.279251170046809,
          -0.298637466558819,
          0.6890935287853125,
          -1.0169281329447601,
          -3.0421451331690026,
          0.26523599975889217,
          0.3690706679573967,
          1.0454239775019918,
          0.4421246545901129,
          0.5743577075098857,
          1.1999999999999922,
          1.542171733197948,
          0.748081841432217,
          0.07678525723061463,
          -0.8312710197347561,
          -0.8618520382486188,
          -1.80987089999381,
          -0.4794983709350225,
          0.41358024691357254,
          0.4526570347863767,
          -0.20420792079206937,
          0.5663077976227499,
          0.15582149090002492,
          0.4130679684566257,
          0.4400301734976041,
          0.8494991758590106,
          0.8890310201471154,
          0.6955625684291776,
          -0.7669201763916333,
          1.1703090650459087,
          -0.12914890869173257,
          0.20058233581365398,
          -1.3216702847656705,
          0.7785856765973926,
          -0.0900032144005238,
          -0.09633911368013955,
          1.176164793033987,
          1.3167423793534796,
          -0.07236842105264055,
          1.4144649052575424,
          0.3414340228961578,
          0.7011393514460945,
          -0.8423022929340135,
          0.47689414293391186,
          -2.571821215889017,
          0.5262811657127896,
          -0.21662071681765294,
          0.11829652996845876,
          -1.4826804791194512,
          -0.1357817147290883,
          -0.4953998584571899,
          -0.0064333504889287855,
          0.9350649350649335,
          -0.40742417383431123,
          0.11006085717984429,
          2.284616912787244,
          0.2722443559096923,
          -0.9731720147291019,
          0.6885593220339119,
          -1.960275217447754,
          1.2686518109511646,
          -0.14440433212996315,
          0.013129390139816064,
          0.05911718339464228,
          2.941375346541364,
          0.31201248049920605,
          -1.791899813482546,
          0.6976120203917305,
          -0.04023065575967136,
          0.3836575351686028,
          2.5186309688103825,
          1.9916954043211934,
          -0.2807214541371364,
          0.17575928008998873,
          0.2961500493583528,
          -0.9083286752375708,
          -0.3966873129654069,
          -2.4309092143681754,
          1.3697687224669666,
          0.5397923875432533,
          -0.8236101578586058,
          -2.5418060200668973,
          -0.5984042553191526,
          -0.1725740076994497,
          -1.0963040766756489,
          1.9066095798769218,
          0.21453472780905955,
          -0.4072911798090496,
          -1.4087288526100892,
          -0.32806246309297293,
          0
         ]
        }
       ],
       "layout": {
        "shapes": [
         {
          "line": {
           "color": "black",
           "width": 2
          },
          "type": "line",
          "x0": "2023-12-26",
          "x1": "2024-05-17",
          "y0": 0,
          "y1": 0
         }
        ],
        "template": {
         "data": {
          "bar": [
           {
            "error_x": {
             "color": "#2a3f5f"
            },
            "error_y": {
             "color": "#2a3f5f"
            },
            "marker": {
             "line": {
              "color": "#E5ECF6",
              "width": 0.5
             },
             "pattern": {
              "fillmode": "overlay",
              "size": 10,
              "solidity": 0.2
             }
            },
            "type": "bar"
           }
          ],
          "barpolar": [
           {
            "marker": {
             "line": {
              "color": "#E5ECF6",
              "width": 0.5
             },
             "pattern": {
              "fillmode": "overlay",
              "size": 10,
              "solidity": 0.2
             }
            },
            "type": "barpolar"
           }
          ],
          "carpet": [
           {
            "aaxis": {
             "endlinecolor": "#2a3f5f",
             "gridcolor": "white",
             "linecolor": "white",
             "minorgridcolor": "white",
             "startlinecolor": "#2a3f5f"
            },
            "baxis": {
             "endlinecolor": "#2a3f5f",
             "gridcolor": "white",
             "linecolor": "white",
             "minorgridcolor": "white",
             "startlinecolor": "#2a3f5f"
            },
            "type": "carpet"
           }
          ],
          "choropleth": [
           {
            "colorbar": {
             "outlinewidth": 0,
             "ticks": ""
            },
            "type": "choropleth"
           }
          ],
          "contour": [
           {
            "colorbar": {
             "outlinewidth": 0,
             "ticks": ""
            },
            "colorscale": [
             [
              0,
              "#0d0887"
             ],
             [
              0.1111111111111111,
              "#46039f"
             ],
             [
              0.2222222222222222,
              "#7201a8"
             ],
             [
              0.3333333333333333,
              "#9c179e"
             ],
             [
              0.4444444444444444,
              "#bd3786"
             ],
             [
              0.5555555555555556,
              "#d8576b"
             ],
             [
              0.6666666666666666,
              "#ed7953"
             ],
             [
              0.7777777777777778,
              "#fb9f3a"
             ],
             [
              0.8888888888888888,
              "#fdca26"
             ],
             [
              1,
              "#f0f921"
             ]
            ],
            "type": "contour"
           }
          ],
          "contourcarpet": [
           {
            "colorbar": {
             "outlinewidth": 0,
             "ticks": ""
            },
            "type": "contourcarpet"
           }
          ],
          "heatmap": [
           {
            "colorbar": {
             "outlinewidth": 0,
             "ticks": ""
            },
            "colorscale": [
             [
              0,
              "#0d0887"
             ],
             [
              0.1111111111111111,
              "#46039f"
             ],
             [
              0.2222222222222222,
              "#7201a8"
             ],
             [
              0.3333333333333333,
              "#9c179e"
             ],
             [
              0.4444444444444444,
              "#bd3786"
             ],
             [
              0.5555555555555556,
              "#d8576b"
             ],
             [
              0.6666666666666666,
              "#ed7953"
             ],
             [
              0.7777777777777778,
              "#fb9f3a"
             ],
             [
              0.8888888888888888,
              "#fdca26"
             ],
             [
              1,
              "#f0f921"
             ]
            ],
            "type": "heatmap"
           }
          ],
          "heatmapgl": [
           {
            "colorbar": {
             "outlinewidth": 0,
             "ticks": ""
            },
            "colorscale": [
             [
              0,
              "#0d0887"
             ],
             [
              0.1111111111111111,
              "#46039f"
             ],
             [
              0.2222222222222222,
              "#7201a8"
             ],
             [
              0.3333333333333333,
              "#9c179e"
             ],
             [
              0.4444444444444444,
              "#bd3786"
             ],
             [
              0.5555555555555556,
              "#d8576b"
             ],
             [
              0.6666666666666666,
              "#ed7953"
             ],
             [
              0.7777777777777778,
              "#fb9f3a"
             ],
             [
              0.8888888888888888,
              "#fdca26"
             ],
             [
              1,
              "#f0f921"
             ]
            ],
            "type": "heatmapgl"
           }
          ],
          "histogram": [
           {
            "marker": {
             "pattern": {
              "fillmode": "overlay",
              "size": 10,
              "solidity": 0.2
             }
            },
            "type": "histogram"
           }
          ],
          "histogram2d": [
           {
            "colorbar": {
             "outlinewidth": 0,
             "ticks": ""
            },
            "colorscale": [
             [
              0,
              "#0d0887"
             ],
             [
              0.1111111111111111,
              "#46039f"
             ],
             [
              0.2222222222222222,
              "#7201a8"
             ],
             [
              0.3333333333333333,
              "#9c179e"
             ],
             [
              0.4444444444444444,
              "#bd3786"
             ],
             [
              0.5555555555555556,
              "#d8576b"
             ],
             [
              0.6666666666666666,
              "#ed7953"
             ],
             [
              0.7777777777777778,
              "#fb9f3a"
             ],
             [
              0.8888888888888888,
              "#fdca26"
             ],
             [
              1,
              "#f0f921"
             ]
            ],
            "type": "histogram2d"
           }
          ],
          "histogram2dcontour": [
           {
            "colorbar": {
             "outlinewidth": 0,
             "ticks": ""
            },
            "colorscale": [
             [
              0,
              "#0d0887"
             ],
             [
              0.1111111111111111,
              "#46039f"
             ],
             [
              0.2222222222222222,
              "#7201a8"
             ],
             [
              0.3333333333333333,
              "#9c179e"
             ],
             [
              0.4444444444444444,
              "#bd3786"
             ],
             [
              0.5555555555555556,
              "#d8576b"
             ],
             [
              0.6666666666666666,
              "#ed7953"
             ],
             [
              0.7777777777777778,
              "#fb9f3a"
             ],
             [
              0.8888888888888888,
              "#fdca26"
             ],
             [
              1,
              "#f0f921"
             ]
            ],
            "type": "histogram2dcontour"
           }
          ],
          "mesh3d": [
           {
            "colorbar": {
             "outlinewidth": 0,
             "ticks": ""
            },
            "type": "mesh3d"
           }
          ],
          "parcoords": [
           {
            "line": {
             "colorbar": {
              "outlinewidth": 0,
              "ticks": ""
             }
            },
            "type": "parcoords"
           }
          ],
          "pie": [
           {
            "automargin": true,
            "type": "pie"
           }
          ],
          "scatter": [
           {
            "marker": {
             "colorbar": {
              "outlinewidth": 0,
              "ticks": ""
             }
            },
            "type": "scatter"
           }
          ],
          "scatter3d": [
           {
            "line": {
             "colorbar": {
              "outlinewidth": 0,
              "ticks": ""
             }
            },
            "marker": {
             "colorbar": {
              "outlinewidth": 0,
              "ticks": ""
             }
            },
            "type": "scatter3d"
           }
          ],
          "scattercarpet": [
           {
            "marker": {
             "colorbar": {
              "outlinewidth": 0,
              "ticks": ""
             }
            },
            "type": "scattercarpet"
           }
          ],
          "scattergeo": [
           {
            "marker": {
             "colorbar": {
              "outlinewidth": 0,
              "ticks": ""
             }
            },
            "type": "scattergeo"
           }
          ],
          "scattergl": [
           {
            "marker": {
             "colorbar": {
              "outlinewidth": 0,
              "ticks": ""
             }
            },
            "type": "scattergl"
           }
          ],
          "scattermapbox": [
           {
            "marker": {
             "colorbar": {
              "outlinewidth": 0,
              "ticks": ""
             }
            },
            "type": "scattermapbox"
           }
          ],
          "scatterpolar": [
           {
            "marker": {
             "colorbar": {
              "outlinewidth": 0,
              "ticks": ""
             }
            },
            "type": "scatterpolar"
           }
          ],
          "scatterpolargl": [
           {
            "marker": {
             "colorbar": {
              "outlinewidth": 0,
              "ticks": ""
             }
            },
            "type": "scatterpolargl"
           }
          ],
          "scatterternary": [
           {
            "marker": {
             "colorbar": {
              "outlinewidth": 0,
              "ticks": ""
             }
            },
            "type": "scatterternary"
           }
          ],
          "surface": [
           {
            "colorbar": {
             "outlinewidth": 0,
             "ticks": ""
            },
            "colorscale": [
             [
              0,
              "#0d0887"
             ],
             [
              0.1111111111111111,
              "#46039f"
             ],
             [
              0.2222222222222222,
              "#7201a8"
             ],
             [
              0.3333333333333333,
              "#9c179e"
             ],
             [
              0.4444444444444444,
              "#bd3786"
             ],
             [
              0.5555555555555556,
              "#d8576b"
             ],
             [
              0.6666666666666666,
              "#ed7953"
             ],
             [
              0.7777777777777778,
              "#fb9f3a"
             ],
             [
              0.8888888888888888,
              "#fdca26"
             ],
             [
              1,
              "#f0f921"
             ]
            ],
            "type": "surface"
           }
          ],
          "table": [
           {
            "cells": {
             "fill": {
              "color": "#EBF0F8"
             },
             "line": {
              "color": "white"
             }
            },
            "header": {
             "fill": {
              "color": "#C8D4E3"
             },
             "line": {
              "color": "white"
             }
            },
            "type": "table"
           }
          ]
         },
         "layout": {
          "annotationdefaults": {
           "arrowcolor": "#2a3f5f",
           "arrowhead": 0,
           "arrowwidth": 1
          },
          "autotypenumbers": "strict",
          "coloraxis": {
           "colorbar": {
            "outlinewidth": 0,
            "ticks": ""
           }
          },
          "colorscale": {
           "diverging": [
            [
             0,
             "#8e0152"
            ],
            [
             0.1,
             "#c51b7d"
            ],
            [
             0.2,
             "#de77ae"
            ],
            [
             0.3,
             "#f1b6da"
            ],
            [
             0.4,
             "#fde0ef"
            ],
            [
             0.5,
             "#f7f7f7"
            ],
            [
             0.6,
             "#e6f5d0"
            ],
            [
             0.7,
             "#b8e186"
            ],
            [
             0.8,
             "#7fbc41"
            ],
            [
             0.9,
             "#4d9221"
            ],
            [
             1,
             "#276419"
            ]
           ],
           "sequential": [
            [
             0,
             "#0d0887"
            ],
            [
             0.1111111111111111,
             "#46039f"
            ],
            [
             0.2222222222222222,
             "#7201a8"
            ],
            [
             0.3333333333333333,
             "#9c179e"
            ],
            [
             0.4444444444444444,
             "#bd3786"
            ],
            [
             0.5555555555555556,
             "#d8576b"
            ],
            [
             0.6666666666666666,
             "#ed7953"
            ],
            [
             0.7777777777777778,
             "#fb9f3a"
            ],
            [
             0.8888888888888888,
             "#fdca26"
            ],
            [
             1,
             "#f0f921"
            ]
           ],
           "sequentialminus": [
            [
             0,
             "#0d0887"
            ],
            [
             0.1111111111111111,
             "#46039f"
            ],
            [
             0.2222222222222222,
             "#7201a8"
            ],
            [
             0.3333333333333333,
             "#9c179e"
            ],
            [
             0.4444444444444444,
             "#bd3786"
            ],
            [
             0.5555555555555556,
             "#d8576b"
            ],
            [
             0.6666666666666666,
             "#ed7953"
            ],
            [
             0.7777777777777778,
             "#fb9f3a"
            ],
            [
             0.8888888888888888,
             "#fdca26"
            ],
            [
             1,
             "#f0f921"
            ]
           ]
          },
          "colorway": [
           "#636efa",
           "#EF553B",
           "#00cc96",
           "#ab63fa",
           "#FFA15A",
           "#19d3f3",
           "#FF6692",
           "#B6E880",
           "#FF97FF",
           "#FECB52"
          ],
          "font": {
           "color": "#2a3f5f"
          },
          "geo": {
           "bgcolor": "white",
           "lakecolor": "white",
           "landcolor": "#E5ECF6",
           "showlakes": true,
           "showland": true,
           "subunitcolor": "white"
          },
          "hoverlabel": {
           "align": "left"
          },
          "hovermode": "closest",
          "mapbox": {
           "style": "light"
          },
          "paper_bgcolor": "white",
          "plot_bgcolor": "#E5ECF6",
          "polar": {
           "angularaxis": {
            "gridcolor": "white",
            "linecolor": "white",
            "ticks": ""
           },
           "bgcolor": "#E5ECF6",
           "radialaxis": {
            "gridcolor": "white",
            "linecolor": "white",
            "ticks": ""
           }
          },
          "scene": {
           "xaxis": {
            "backgroundcolor": "#E5ECF6",
            "gridcolor": "white",
            "gridwidth": 2,
            "linecolor": "white",
            "showbackground": true,
            "ticks": "",
            "zerolinecolor": "white"
           },
           "yaxis": {
            "backgroundcolor": "#E5ECF6",
            "gridcolor": "white",
            "gridwidth": 2,
            "linecolor": "white",
            "showbackground": true,
            "ticks": "",
            "zerolinecolor": "white"
           },
           "zaxis": {
            "backgroundcolor": "#E5ECF6",
            "gridcolor": "white",
            "gridwidth": 2,
            "linecolor": "white",
            "showbackground": true,
            "ticks": "",
            "zerolinecolor": "white"
           }
          },
          "shapedefaults": {
           "line": {
            "color": "#2a3f5f"
           }
          },
          "ternary": {
           "aaxis": {
            "gridcolor": "white",
            "linecolor": "white",
            "ticks": ""
           },
           "baxis": {
            "gridcolor": "white",
            "linecolor": "white",
            "ticks": ""
           },
           "bgcolor": "#E5ECF6",
           "caxis": {
            "gridcolor": "white",
            "linecolor": "white",
            "ticks": ""
           }
          },
          "title": {
           "x": 0.05
          },
          "xaxis": {
           "automargin": true,
           "gridcolor": "white",
           "linecolor": "white",
           "ticks": "",
           "title": {
            "standoff": 15
           },
           "zerolinecolor": "white",
           "zerolinewidth": 2
          },
          "yaxis": {
           "automargin": true,
           "gridcolor": "white",
           "linecolor": "white",
           "ticks": "",
           "title": {
            "standoff": 15
           },
           "zerolinecolor": "white",
           "zerolinewidth": 2
          }
         }
        },
        "title": {
         "text": "Variação Diária do Fechamento ao Longo do Tempo"
        },
        "xaxis": {
         "title": {
          "text": "Dia"
         }
        },
        "yaxis": {
         "title": {
          "text": "Variação Diária do Fechamento"
         }
        }
       }
      }
     },
     "metadata": {},
     "output_type": "display_data"
    }
   ],
   "source": [
    "# Criando a figura\n",
    "fig = go.Figure()\n",
    "\n",
    "# Adicionando a linha com a variação diária do fechamento\n",
    "fig.add_trace(go.Scatter(x=novo_df['Day'], y=novo_df['Daily_Closing_Variation'], mode='lines', name='Variação Diária do Fechamento'))\n",
    "\n",
    "# Atualizando o layout para definir o eixo X na linha zero\n",
    "fig.update_layout(\n",
    "    title='Variação Diária do Fechamento ao Longo do Tempo',\n",
    "    xaxis_title='Dia',\n",
    "    yaxis_title='Variação Diária do Fechamento',\n",
    "    shapes=[dict(type='line', x0=novo_df['Day'].min(), x1=novo_df['Day'].max(), y0=0, y1=0, line=dict(color='black', width=2))]\n",
    ")\n",
    "\n",
    "# Mostrando o gráfico\n",
    "fig.show()"
   ]
  },
  {
   "cell_type": "code",
   "execution_count": 13,
   "metadata": {},
   "outputs": [
    {
     "name": "stdout",
     "output_type": "stream",
     "text": [
      "<class 'pandas.core.frame.DataFrame'>\n",
      "RangeIndex: 2000 entries, 0 to 1999\n",
      "Data columns (total 15 columns):\n",
      " #   Column                   Non-Null Count  Dtype  \n",
      "---  ------                   --------------  -----  \n",
      " 0   Company_Name             2000 non-null   object \n",
      " 1   Stock_Code               2000 non-null   object \n",
      " 2   Day                      2000 non-null   object \n",
      " 3   WeekDay                  2000 non-null   object \n",
      " 4   Week                     2000 non-null   int64  \n",
      " 5   Month                    2000 non-null   int64  \n",
      " 6   Month_Name               2000 non-null   object \n",
      " 7   Quarter                  2000 non-null   int64  \n",
      " 8   Opening_Value            2000 non-null   float64\n",
      " 9   Highest_Value            2000 non-null   float64\n",
      " 10  Lowest_Value             2000 non-null   float64\n",
      " 11  Closing_Value            2000 non-null   float64\n",
      " 12  Volume                   2000 non-null   int64  \n",
      " 13  Daily_Closing_Variation  2000 non-null   float64\n",
      " 14  Year                     2000 non-null   int64  \n",
      "dtypes: float64(5), int64(5), object(5)\n",
      "memory usage: 234.5+ KB\n"
     ]
    }
   ],
   "source": [
    "novo_df.info()"
   ]
  },
  {
   "cell_type": "code",
   "execution_count": 4,
   "metadata": {},
   "outputs": [],
   "source": [
    "agrupa_df = novo_df[novo_df['Day'] == '2023-12-26']"
   ]
  },
  {
   "cell_type": "code",
   "execution_count": 5,
   "metadata": {},
   "outputs": [],
   "source": [
    "max_volume = agrupa_df.groupby(['Company_Name','Stock_Code'])['Volume'].max().nlargest(5).reset_index()"
   ]
  },
  {
   "cell_type": "code",
   "execution_count": 38,
   "metadata": {},
   "outputs": [
    {
     "data": {
      "application/vnd.plotly.v1+json": {
       "config": {
        "plotlyServerURL": "https://plot.ly"
       },
       "data": [
        {
         "hovertemplate": "<br>Company Name:<br> %{x}<br>Stock Volume:</br> %{y:f}MM<extra></extra>",
         "marker": {
          "color": [
           "#EAA1B0",
           "#C8C990",
           "#A1D5B8",
           "#9ECDEE",
           "#C99EEE"
          ]
         },
         "showlegend": false,
         "type": "bar",
         "x": [
          "Tesla",
          "Apple",
          "Amazon",
          "NVIDIA",
          "Exxon Mobil"
         ],
         "y": [
          86892382,
          28919310,
          25067222,
          24419952,
          16835144
         ]
        }
       ],
       "layout": {
        "legend": {
         "bgcolor": "rgba(255, 255, 255, 0.5)",
         "bordercolor": "black",
         "borderwidth": 1,
         "font": {
          "color": "black",
          "size": 10
         },
         "title": {
          "text": "Stocks"
         },
         "xanchor": "center",
         "yanchor": "top"
        },
        "showlegend": true,
        "template": {
         "data": {
          "bar": [
           {
            "error_x": {
             "color": "rgb(51,51,51)"
            },
            "error_y": {
             "color": "rgb(51,51,51)"
            },
            "marker": {
             "line": {
              "color": "rgb(237,237,237)",
              "width": 0.5
             },
             "pattern": {
              "fillmode": "overlay",
              "size": 10,
              "solidity": 0.2
             }
            },
            "type": "bar"
           }
          ],
          "barpolar": [
           {
            "marker": {
             "line": {
              "color": "rgb(237,237,237)",
              "width": 0.5
             },
             "pattern": {
              "fillmode": "overlay",
              "size": 10,
              "solidity": 0.2
             }
            },
            "type": "barpolar"
           }
          ],
          "carpet": [
           {
            "aaxis": {
             "endlinecolor": "rgb(51,51,51)",
             "gridcolor": "white",
             "linecolor": "white",
             "minorgridcolor": "white",
             "startlinecolor": "rgb(51,51,51)"
            },
            "baxis": {
             "endlinecolor": "rgb(51,51,51)",
             "gridcolor": "white",
             "linecolor": "white",
             "minorgridcolor": "white",
             "startlinecolor": "rgb(51,51,51)"
            },
            "type": "carpet"
           }
          ],
          "choropleth": [
           {
            "colorbar": {
             "outlinewidth": 0,
             "tickcolor": "rgb(237,237,237)",
             "ticklen": 6,
             "ticks": "inside"
            },
            "type": "choropleth"
           }
          ],
          "contour": [
           {
            "colorbar": {
             "outlinewidth": 0,
             "tickcolor": "rgb(237,237,237)",
             "ticklen": 6,
             "ticks": "inside"
            },
            "colorscale": [
             [
              0,
              "rgb(20,44,66)"
             ],
             [
              1,
              "rgb(90,179,244)"
             ]
            ],
            "type": "contour"
           }
          ],
          "contourcarpet": [
           {
            "colorbar": {
             "outlinewidth": 0,
             "tickcolor": "rgb(237,237,237)",
             "ticklen": 6,
             "ticks": "inside"
            },
            "type": "contourcarpet"
           }
          ],
          "heatmap": [
           {
            "colorbar": {
             "outlinewidth": 0,
             "tickcolor": "rgb(237,237,237)",
             "ticklen": 6,
             "ticks": "inside"
            },
            "colorscale": [
             [
              0,
              "rgb(20,44,66)"
             ],
             [
              1,
              "rgb(90,179,244)"
             ]
            ],
            "type": "heatmap"
           }
          ],
          "heatmapgl": [
           {
            "colorbar": {
             "outlinewidth": 0,
             "tickcolor": "rgb(237,237,237)",
             "ticklen": 6,
             "ticks": "inside"
            },
            "colorscale": [
             [
              0,
              "rgb(20,44,66)"
             ],
             [
              1,
              "rgb(90,179,244)"
             ]
            ],
            "type": "heatmapgl"
           }
          ],
          "histogram": [
           {
            "marker": {
             "pattern": {
              "fillmode": "overlay",
              "size": 10,
              "solidity": 0.2
             }
            },
            "type": "histogram"
           }
          ],
          "histogram2d": [
           {
            "colorbar": {
             "outlinewidth": 0,
             "tickcolor": "rgb(237,237,237)",
             "ticklen": 6,
             "ticks": "inside"
            },
            "colorscale": [
             [
              0,
              "rgb(20,44,66)"
             ],
             [
              1,
              "rgb(90,179,244)"
             ]
            ],
            "type": "histogram2d"
           }
          ],
          "histogram2dcontour": [
           {
            "colorbar": {
             "outlinewidth": 0,
             "tickcolor": "rgb(237,237,237)",
             "ticklen": 6,
             "ticks": "inside"
            },
            "colorscale": [
             [
              0,
              "rgb(20,44,66)"
             ],
             [
              1,
              "rgb(90,179,244)"
             ]
            ],
            "type": "histogram2dcontour"
           }
          ],
          "mesh3d": [
           {
            "colorbar": {
             "outlinewidth": 0,
             "tickcolor": "rgb(237,237,237)",
             "ticklen": 6,
             "ticks": "inside"
            },
            "type": "mesh3d"
           }
          ],
          "parcoords": [
           {
            "line": {
             "colorbar": {
              "outlinewidth": 0,
              "tickcolor": "rgb(237,237,237)",
              "ticklen": 6,
              "ticks": "inside"
             }
            },
            "type": "parcoords"
           }
          ],
          "pie": [
           {
            "automargin": true,
            "type": "pie"
           }
          ],
          "scatter": [
           {
            "marker": {
             "colorbar": {
              "outlinewidth": 0,
              "tickcolor": "rgb(237,237,237)",
              "ticklen": 6,
              "ticks": "inside"
             }
            },
            "type": "scatter"
           }
          ],
          "scatter3d": [
           {
            "line": {
             "colorbar": {
              "outlinewidth": 0,
              "tickcolor": "rgb(237,237,237)",
              "ticklen": 6,
              "ticks": "inside"
             }
            },
            "marker": {
             "colorbar": {
              "outlinewidth": 0,
              "tickcolor": "rgb(237,237,237)",
              "ticklen": 6,
              "ticks": "inside"
             }
            },
            "type": "scatter3d"
           }
          ],
          "scattercarpet": [
           {
            "marker": {
             "colorbar": {
              "outlinewidth": 0,
              "tickcolor": "rgb(237,237,237)",
              "ticklen": 6,
              "ticks": "inside"
             }
            },
            "type": "scattercarpet"
           }
          ],
          "scattergeo": [
           {
            "marker": {
             "colorbar": {
              "outlinewidth": 0,
              "tickcolor": "rgb(237,237,237)",
              "ticklen": 6,
              "ticks": "inside"
             }
            },
            "type": "scattergeo"
           }
          ],
          "scattergl": [
           {
            "marker": {
             "colorbar": {
              "outlinewidth": 0,
              "tickcolor": "rgb(237,237,237)",
              "ticklen": 6,
              "ticks": "inside"
             }
            },
            "type": "scattergl"
           }
          ],
          "scattermapbox": [
           {
            "marker": {
             "colorbar": {
              "outlinewidth": 0,
              "tickcolor": "rgb(237,237,237)",
              "ticklen": 6,
              "ticks": "inside"
             }
            },
            "type": "scattermapbox"
           }
          ],
          "scatterpolar": [
           {
            "marker": {
             "colorbar": {
              "outlinewidth": 0,
              "tickcolor": "rgb(237,237,237)",
              "ticklen": 6,
              "ticks": "inside"
             }
            },
            "type": "scatterpolar"
           }
          ],
          "scatterpolargl": [
           {
            "marker": {
             "colorbar": {
              "outlinewidth": 0,
              "tickcolor": "rgb(237,237,237)",
              "ticklen": 6,
              "ticks": "inside"
             }
            },
            "type": "scatterpolargl"
           }
          ],
          "scatterternary": [
           {
            "marker": {
             "colorbar": {
              "outlinewidth": 0,
              "tickcolor": "rgb(237,237,237)",
              "ticklen": 6,
              "ticks": "inside"
             }
            },
            "type": "scatterternary"
           }
          ],
          "surface": [
           {
            "colorbar": {
             "outlinewidth": 0,
             "tickcolor": "rgb(237,237,237)",
             "ticklen": 6,
             "ticks": "inside"
            },
            "colorscale": [
             [
              0,
              "rgb(20,44,66)"
             ],
             [
              1,
              "rgb(90,179,244)"
             ]
            ],
            "type": "surface"
           }
          ],
          "table": [
           {
            "cells": {
             "fill": {
              "color": "rgb(237,237,237)"
             },
             "line": {
              "color": "white"
             }
            },
            "header": {
             "fill": {
              "color": "rgb(217,217,217)"
             },
             "line": {
              "color": "white"
             }
            },
            "type": "table"
           }
          ]
         },
         "layout": {
          "annotationdefaults": {
           "arrowhead": 0,
           "arrowwidth": 1
          },
          "autotypenumbers": "strict",
          "coloraxis": {
           "colorbar": {
            "outlinewidth": 0,
            "tickcolor": "rgb(237,237,237)",
            "ticklen": 6,
            "ticks": "inside"
           }
          },
          "colorscale": {
           "sequential": [
            [
             0,
             "rgb(20,44,66)"
            ],
            [
             1,
             "rgb(90,179,244)"
            ]
           ],
           "sequentialminus": [
            [
             0,
             "rgb(20,44,66)"
            ],
            [
             1,
             "rgb(90,179,244)"
            ]
           ]
          },
          "colorway": [
           "#F8766D",
           "#A3A500",
           "#00BF7D",
           "#00B0F6",
           "#E76BF3"
          ],
          "font": {
           "color": "rgb(51,51,51)"
          },
          "geo": {
           "bgcolor": "white",
           "lakecolor": "white",
           "landcolor": "rgb(237,237,237)",
           "showlakes": true,
           "showland": true,
           "subunitcolor": "white"
          },
          "hoverlabel": {
           "align": "left"
          },
          "hovermode": "closest",
          "paper_bgcolor": "white",
          "plot_bgcolor": "rgb(237,237,237)",
          "polar": {
           "angularaxis": {
            "gridcolor": "white",
            "linecolor": "white",
            "showgrid": true,
            "tickcolor": "rgb(51,51,51)",
            "ticks": "outside"
           },
           "bgcolor": "rgb(237,237,237)",
           "radialaxis": {
            "gridcolor": "white",
            "linecolor": "white",
            "showgrid": true,
            "tickcolor": "rgb(51,51,51)",
            "ticks": "outside"
           }
          },
          "scene": {
           "xaxis": {
            "backgroundcolor": "rgb(237,237,237)",
            "gridcolor": "white",
            "gridwidth": 2,
            "linecolor": "white",
            "showbackground": true,
            "showgrid": true,
            "tickcolor": "rgb(51,51,51)",
            "ticks": "outside",
            "zerolinecolor": "white"
           },
           "yaxis": {
            "backgroundcolor": "rgb(237,237,237)",
            "gridcolor": "white",
            "gridwidth": 2,
            "linecolor": "white",
            "showbackground": true,
            "showgrid": true,
            "tickcolor": "rgb(51,51,51)",
            "ticks": "outside",
            "zerolinecolor": "white"
           },
           "zaxis": {
            "backgroundcolor": "rgb(237,237,237)",
            "gridcolor": "white",
            "gridwidth": 2,
            "linecolor": "white",
            "showbackground": true,
            "showgrid": true,
            "tickcolor": "rgb(51,51,51)",
            "ticks": "outside",
            "zerolinecolor": "white"
           }
          },
          "shapedefaults": {
           "fillcolor": "black",
           "line": {
            "width": 0
           },
           "opacity": 0.3
          },
          "ternary": {
           "aaxis": {
            "gridcolor": "white",
            "linecolor": "white",
            "showgrid": true,
            "tickcolor": "rgb(51,51,51)",
            "ticks": "outside"
           },
           "baxis": {
            "gridcolor": "white",
            "linecolor": "white",
            "showgrid": true,
            "tickcolor": "rgb(51,51,51)",
            "ticks": "outside"
           },
           "bgcolor": "rgb(237,237,237)",
           "caxis": {
            "gridcolor": "white",
            "linecolor": "white",
            "showgrid": true,
            "tickcolor": "rgb(51,51,51)",
            "ticks": "outside"
           }
          },
          "xaxis": {
           "automargin": true,
           "gridcolor": "white",
           "linecolor": "white",
           "showgrid": true,
           "tickcolor": "rgb(51,51,51)",
           "ticks": "outside",
           "title": {
            "standoff": 15
           },
           "zerolinecolor": "white"
          },
          "yaxis": {
           "automargin": true,
           "gridcolor": "white",
           "linecolor": "white",
           "showgrid": true,
           "tickcolor": "rgb(51,51,51)",
           "ticks": "outside",
           "title": {
            "standoff": 15
           },
           "zerolinecolor": "white"
          }
         }
        },
        "title": {
         "font": {
          "color": "black",
          "size": 16
         },
         "text": "Título do Gráfico",
         "x": 0.5,
         "xanchor": "center"
        },
        "xaxis": {
         "showgrid": true,
         "title": {
          "font": {
           "color": "black",
           "size": 12
          },
          "text": "Eixo X"
         },
         "visible": true,
         "zeroline": false
        },
        "yaxis": {
         "showgrid": false,
         "title": {
          "font": {
           "color": "black",
           "size": 12
          },
          "text": ""
         },
         "visible": true,
         "zeroline": false
        }
       }
      }
     },
     "metadata": {},
     "output_type": "display_data"
    }
   ],
   "source": [
    "colors = ['#EAA1B0', '#C8C990', '#A1D5B8', '#9ECDEE', '#C99EEE']\n",
    "\n",
    "fig = go.Figure()\n",
    "\n",
    "\n",
    "fig.add_trace(go.Bar(x=max_volume['Company_Name'], y=max_volume['Volume'],marker=dict(color=colors),\n",
    "            hovertemplate= \n",
    "            '<br>Company Name:<br> %{x}' + '<br>Stock Volume:</br> %{y:f}MM<extra></extra>',\n",
    "            showlegend=False))\n",
    "\n",
    "\n",
    "fig.update_layout(\n",
    "    template=\"ggplot2\",\n",
    "    xaxis=dict(\n",
    "        showgrid=True,\n",
    "        zeroline=False,\n",
    "        visible=True,\n",
    "        title=dict(\n",
    "            text=\"Eixo X\",\n",
    "            font=dict(\n",
    "                size=12,\n",
    "                color=\"black\"\n",
    "            )\n",
    "        )\n",
    "    ),\n",
    "    yaxis=dict(\n",
    "        showgrid=False,\n",
    "        zeroline=False,\n",
    "        visible=True,\n",
    "        title=dict(\n",
    "            text=\"\",\n",
    "            font=dict(\n",
    "                size=12,\n",
    "                color=\"black\"\n",
    "            )\n",
    "        )\n",
    "    ),\n",
    "    showlegend=True,\n",
    "    legend=dict(\n",
    "        title=\"Stocks\",\n",
    "        xanchor=\"center\",\n",
    "        yanchor=\"top\",\n",
    "        font=dict(\n",
    "            size=10,\n",
    "            color=\"black\"\n",
    "        ),\n",
    "        bgcolor=\"rgba(255, 255, 255, 0.5)\",\n",
    "        bordercolor=\"black\",\n",
    "        borderwidth=1\n",
    "    ),\n",
    "    title=dict(\n",
    "        text=\"Título do Gráfico\",\n",
    "        font=dict(\n",
    "            size=16,\n",
    "            color=\"black\"\n",
    "        ),\n",
    "        x=0.5,\n",
    "        xanchor=\"center\"\n",
    "    )\n",
    ")"
   ]
  },
  {
   "cell_type": "code",
   "execution_count": null,
   "metadata": {},
   "outputs": [],
   "source": []
  }
 ],
 "metadata": {
  "kernelspec": {
   "display_name": "base",
   "language": "python",
   "name": "python3"
  },
  "language_info": {
   "codemirror_mode": {
    "name": "ipython",
    "version": 3
   },
   "file_extension": ".py",
   "mimetype": "text/x-python",
   "name": "python",
   "nbconvert_exporter": "python",
   "pygments_lexer": "ipython3",
   "version": "3.9.12"
  }
 },
 "nbformat": 4,
 "nbformat_minor": 2
}
